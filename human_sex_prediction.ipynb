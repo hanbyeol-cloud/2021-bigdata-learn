{
 "cells": [
  {
   "cell_type": "code",
   "execution_count": 1,
   "metadata": {},
   "outputs": [],
   "source": [
    "import pandas as pd\n",
    "import numpy as np\n",
    "import matplotlib.pyplot as plt\n",
    "%matplotlib inline\n",
    "from sklearn.model_selection import train_test_split\n",
    "from sklearn.linear_model import LogisticRegression\n",
    "from sklearn.neighbors import KNeighborsClassifier\n",
    "from sklearn.model_selection import cross_val_score\n",
    "from sklearn.preprocessing import MinMaxScaler\n",
    "from sklearn.preprocessing import StandardScaler\n",
    "from imblearn.combine import *\n",
    "from imblearn.combine import *\n",
    "from sklearn.metrics import classification_report\n",
    "from imblearn.under_sampling import TomekLinks\n",
    "from imblearn.combine import SMOTETomek\n",
    "from imblearn.under_sampling import RandomUnderSampler\n",
    "from imblearn.over_sampling import RandomOverSampler\n",
    "from sklearn.model_selection import KFold\n",
    "from sklearn.model_selection import StratifiedKFold\n",
    "from sklearn.model_selection import LeaveOneOut\n",
    "from sklearn.metrics import accuracy_score\n",
    "from sklearn.tree import DecisionTreeClassifier\n",
    "from sklearn import tree\n",
    "from sklearn.metrics import recall_score\n",
    "from sklearn.metrics import precision_score\n",
    "from sklearn.model_selection import GridSearchCV\n",
    "from sklearn.dummy import DummyClassifier\n",
    "from sklearn.svm import SVC\n",
    "from sklearn.neural_network import MLPClassifier\n",
    "from sklearn.metrics import mean_squared_error\n",
    "import xgboost as xgb\n",
    "from xgboost import XGBClassifier\n",
    "from xgboost import plot_importance\n",
    "from sklearn.metrics import confusion_matrix\n",
    "from lightgbm import LGBMClassifier\n",
    "from sklearn.metrics import precision_recall_curve\n",
    "from sklearn.metrics import roc_curve\n",
    "from sklearn.metrics import auc\n",
    "from bayes_opt import BayesianOptimization\n",
    "from lightgbm import LGBMRegressor"
   ]
  },
  {
   "cell_type": "code",
   "execution_count": 2,
   "metadata": {},
   "outputs": [],
   "source": [
    "human_train = pd.read_csv(\"work/human.csv\", encoding=\"cp949\")\n",
    "human_new = pd.read_csv(\"work/human_new.csv\", encoding=\"cp949\")"
   ]
  },
  {
   "cell_type": "code",
   "execution_count": 3,
   "metadata": {},
   "outputs": [],
   "source": [
    "# human_train"
   ]
  },
  {
   "cell_type": "code",
   "execution_count": 4,
   "metadata": {},
   "outputs": [],
   "source": [
    "# human_train.info()"
   ]
  },
  {
   "cell_type": "code",
   "execution_count": 5,
   "metadata": {},
   "outputs": [],
   "source": [
    "# human_train.isnull().sum()"
   ]
  },
  {
   "cell_type": "code",
   "execution_count": 6,
   "metadata": {},
   "outputs": [],
   "source": [
    "# human_train[\"노동 계급\"].value_counts()"
   ]
  },
  {
   "cell_type": "code",
   "execution_count": 7,
   "metadata": {},
   "outputs": [],
   "source": [
    "# human_train[\"학력\"].value_counts()"
   ]
  },
  {
   "cell_type": "code",
   "execution_count": 8,
   "metadata": {},
   "outputs": [],
   "source": [
    "# human_train[\"혼인 상태\"].value_counts()"
   ]
  },
  {
   "cell_type": "code",
   "execution_count": 9,
   "metadata": {},
   "outputs": [],
   "source": [
    "# human_train[\"직업\"].value_counts()"
   ]
  },
  {
   "cell_type": "code",
   "execution_count": 10,
   "metadata": {},
   "outputs": [],
   "source": [
    "# human_train[\"관계\"].value_counts()"
   ]
  },
  {
   "cell_type": "code",
   "execution_count": 11,
   "metadata": {},
   "outputs": [],
   "source": [
    "# human_train[\"인종\"].value_counts()"
   ]
  },
  {
   "cell_type": "code",
   "execution_count": 12,
   "metadata": {},
   "outputs": [],
   "source": [
    "# human_train[\"모국\"].value_counts()"
   ]
  },
  {
   "cell_type": "code",
   "execution_count": 13,
   "metadata": {},
   "outputs": [],
   "source": [
    "# human_train[\"교육 수\"].value_counts()"
   ]
  },
  {
   "cell_type": "code",
   "execution_count": 14,
   "metadata": {},
   "outputs": [],
   "source": [
    "# human_train[\"자본 이득\"].value_counts()"
   ]
  },
  {
   "cell_type": "code",
   "execution_count": 15,
   "metadata": {},
   "outputs": [],
   "source": [
    "# human_train[\"자본 손실\"].value_counts()"
   ]
  },
  {
   "cell_type": "code",
   "execution_count": 16,
   "metadata": {},
   "outputs": [],
   "source": [
    "# human_train[\"주당 시간\"].value_counts()"
   ]
  },
  {
   "cell_type": "markdown",
   "metadata": {},
   "source": [
    "# Null값 제거"
   ]
  },
  {
   "cell_type": "code",
   "execution_count": 17,
   "metadata": {},
   "outputs": [],
   "source": [
    "# human_train.dropna(subset=[\"노동 계급\",\"직업\",\"학력\"],inplace=True)\n",
    "# human_train"
   ]
  },
  {
   "cell_type": "markdown",
   "metadata": {},
   "source": [
    "# 성별 수치형으로 변환"
   ]
  },
  {
   "cell_type": "code",
   "execution_count": 5,
   "metadata": {},
   "outputs": [],
   "source": [
    "human_train[[\"성별\"]] = human_train[[\"성별\"]].apply(lambda x: x.str.lstrip())\n",
    "human_train[[\"성별\"]] = human_train[[\"성별\"]].apply(lambda x: x.astype('category').cat.codes)"
   ]
  },
  {
   "cell_type": "code",
   "execution_count": 4,
   "metadata": {},
   "outputs": [],
   "source": [
    "# human_train[\"성별\"] = human_train[\"성별\"].str.strip()"
   ]
  },
  {
   "cell_type": "code",
   "execution_count": 5,
   "metadata": {},
   "outputs": [],
   "source": [
    "# gender = {\"Male\":1, \"Female\":0}\n",
    "# human_train[\"성별\"] = human_train[\"성별\"].map(gender)"
   ]
  },
  {
   "cell_type": "code",
   "execution_count": 6,
   "metadata": {},
   "outputs": [
    {
     "data": {
      "text/plain": [
       "1    21790\n",
       "0    10771\n",
       "Name: 성별, dtype: int64"
      ]
     },
     "execution_count": 6,
     "metadata": {},
     "output_type": "execute_result"
    }
   ],
   "source": [
    "human_train[\"성별\"].value_counts()"
   ]
  },
  {
   "cell_type": "markdown",
   "metadata": {},
   "source": [
    "# 파생 변수 만들기"
   ]
  },
  {
   "cell_type": "code",
   "execution_count": 6,
   "metadata": {},
   "outputs": [],
   "source": [
    "s1=human_train['자본 이득']\n",
    "s2=human_train['자본 손실']\n",
    "s=s1+s2\n",
    "s.rename(\"순이익\",inplace=True)\n",
    "human_train = pd.concat([human_train,s],axis=1)"
   ]
  },
  {
   "cell_type": "code",
   "execution_count": 7,
   "metadata": {},
   "outputs": [],
   "source": [
    "human_train['나이대'] = (human_train['나이']/10).astype(int)\n",
    "human_train['주당 시간별'] = (human_train['주당 시간']/10).astype(int)\n",
    "human_train['fnlwgt2'] = (human_train['fnlwgt']/10000).astype(int)"
   ]
  },
  {
   "cell_type": "code",
   "execution_count": 8,
   "metadata": {},
   "outputs": [],
   "source": [
    "working_class = pd.get_dummies(human_train[\"노동 계급\"])\n",
    "human_train = pd.concat([human_train, working_class], axis=1)\n",
    "# human_train.drop(\"노동 계급\", axis=1, inplace=True)\n",
    "\n",
    "human_train[[\"노동 계급\"]] = human_train[[\"노동 계급\"]].apply(lambda x: x.str.lstrip())\n",
    "human_train[[\"노동 계급\"]] = human_train[[\"노동 계급\"]].apply(lambda x: x.astype('category').cat.codes)"
   ]
  },
  {
   "cell_type": "code",
   "execution_count": 9,
   "metadata": {},
   "outputs": [],
   "source": [
    "academic_ability = pd.get_dummies(human_train[\"학력\"])\n",
    "human_train = pd.concat([human_train,academic_ability],axis=1)\n",
    "# human_train.drop(\"학력\",axis=1,inplace=True)\n",
    "\n",
    "human_train[[\"학력\"]] = human_train[[\"학력\"]].apply(lambda x: x.str.lstrip())\n",
    "human_train[[\"학력\"]] = human_train[[\"학력\"]].apply(lambda x: x.astype('category').cat.codes)"
   ]
  },
  {
   "cell_type": "code",
   "execution_count": 10,
   "metadata": {},
   "outputs": [],
   "source": [
    "marital_status = pd.get_dummies(human_train[\"혼인 상태\"])\n",
    "human_train = pd.concat([human_train,marital_status], axis=1)\n",
    "# human_train.drop(\"혼인 상태\", axis=1, inplace=True)\n",
    "\n",
    "human_train[[\"혼인 상태\"]] = human_train[[\"혼인 상태\"]].apply(lambda x: x.str.lstrip())\n",
    "human_train[[\"혼인 상태\"]] = human_train[[\"혼인 상태\"]].apply(lambda x: x.astype('category').cat.codes)"
   ]
  },
  {
   "cell_type": "code",
   "execution_count": 11,
   "metadata": {},
   "outputs": [],
   "source": [
    "jobs = pd.get_dummies(human_train[\"직업\"])\n",
    "human_train = pd.concat([human_train, jobs], axis=1)\n",
    "# human_train.drop(\"직업\", axis=1, inplace=True)\n",
    "\n",
    "human_train[[\"직업\"]] = human_train[[\"직업\"]].apply(lambda x: x.str.lstrip())\n",
    "human_train[[\"직업\"]] = human_train[[\"직업\"]].apply(lambda x: x.astype('category').cat.codes)"
   ]
  },
  {
   "cell_type": "code",
   "execution_count": 12,
   "metadata": {},
   "outputs": [],
   "source": [
    "relationship = pd.get_dummies(human_train[\"관계\"])\n",
    "human_train = pd.concat([human_train, relationship], axis=1)\n",
    "# human_train.drop(\"관계\", axis=1, inplace=True)\n",
    "\n",
    "human_train[[\"관계\"]] = human_train[[\"관계\"]].apply(lambda x: x.str.lstrip())\n",
    "human_train[[\"관계\"]] = human_train[[\"관계\"]].apply(lambda x: x.astype('category').cat.codes)"
   ]
  },
  {
   "cell_type": "code",
   "execution_count": 13,
   "metadata": {},
   "outputs": [],
   "source": [
    "race = pd.get_dummies(human_train[\"인종\"])\n",
    "human_train = pd.concat([human_train, race], axis=1)\n",
    "# human_train.drop(\"인종\", axis=1, inplace=True)\n",
    "\n",
    "human_train[[\"인종\"]] = human_train[[\"인종\"]].apply(lambda x: x.str.lstrip())\n",
    "human_train[[\"인종\"]] = human_train[[\"인종\"]].apply(lambda x: x.astype('category').cat.codes)"
   ]
  },
  {
   "cell_type": "code",
   "execution_count": 14,
   "metadata": {},
   "outputs": [],
   "source": [
    "homeland = pd.get_dummies(human_train[\"모국\"])\n",
    "human_train = pd.concat([human_train, homeland], axis=1)\n",
    "# human_train.drop(\"모국\", axis=1, inplace=True)\n",
    "\n",
    "human_train[[\"모국\"]] = human_train[[\"모국\"]].apply(lambda x: x.str.lstrip())\n",
    "human_train[[\"모국\"]] = human_train[[\"모국\"]].apply(lambda x: x.astype('category').cat.codes)"
   ]
  },
  {
   "cell_type": "code",
   "execution_count": 15,
   "metadata": {},
   "outputs": [
    {
     "data": {
      "text/plain": [
       "0"
      ]
     },
     "execution_count": 15,
     "metadata": {},
     "output_type": "execute_result"
    }
   ],
   "source": [
    "human_train.isnull().sum().sum()"
   ]
  },
  {
   "cell_type": "code",
   "execution_count": null,
   "metadata": {},
   "outputs": [],
   "source": []
  },
  {
   "cell_type": "markdown",
   "metadata": {},
   "source": [
    "# 데이터 나누기"
   ]
  },
  {
   "cell_type": "code",
   "execution_count": 16,
   "metadata": {},
   "outputs": [],
   "source": [
    "htX = human_train.drop([\"아이디\",\"성별\"], axis=1)\n",
    "htY = human_train[\"성별\"]"
   ]
  },
  {
   "cell_type": "code",
   "execution_count": 17,
   "metadata": {},
   "outputs": [],
   "source": [
    "X_train, X_test, Y_train, Y_test = train_test_split(htX, htY, test_size=0.25, random_state=0)"
   ]
  },
  {
   "cell_type": "code",
   "execution_count": 28,
   "metadata": {},
   "outputs": [
    {
     "name": "stdout",
     "output_type": "stream",
     "text": [
      "<class 'pandas.core.frame.DataFrame'>\n",
      "RangeIndex: 32561 entries, 0 to 32560\n",
      "Columns: 114 entries, 나이 to  Yugoslavia\n",
      "dtypes: int32(3), int64(7), int8(7), uint8(97)\n",
      "memory usage: 5.3 MB\n"
     ]
    }
   ],
   "source": [
    "htX.info()"
   ]
  },
  {
   "cell_type": "markdown",
   "metadata": {},
   "source": [
    "# Normalization"
   ]
  },
  {
   "cell_type": "code",
   "execution_count": 18,
   "metadata": {},
   "outputs": [
    {
     "data": {
      "text/plain": [
       "MinMaxScaler()"
      ]
     },
     "execution_count": 18,
     "metadata": {},
     "output_type": "execute_result"
    }
   ],
   "source": [
    "scaler = MinMaxScaler()\n",
    "scaler.fit(htX)"
   ]
  },
  {
   "cell_type": "code",
   "execution_count": 19,
   "metadata": {},
   "outputs": [],
   "source": [
    "x = scaler.transform(htX)\n",
    "htX = pd.DataFrame(x, columns = htX.columns)"
   ]
  },
  {
   "cell_type": "code",
   "execution_count": 31,
   "metadata": {},
   "outputs": [
    {
     "data": {
      "text/html": [
       "<div>\n",
       "<style scoped>\n",
       "    .dataframe tbody tr th:only-of-type {\n",
       "        vertical-align: middle;\n",
       "    }\n",
       "\n",
       "    .dataframe tbody tr th {\n",
       "        vertical-align: top;\n",
       "    }\n",
       "\n",
       "    .dataframe thead th {\n",
       "        text-align: right;\n",
       "    }\n",
       "</style>\n",
       "<table border=\"1\" class=\"dataframe\">\n",
       "  <thead>\n",
       "    <tr style=\"text-align: right;\">\n",
       "      <th></th>\n",
       "      <th>count</th>\n",
       "      <th>mean</th>\n",
       "      <th>std</th>\n",
       "      <th>min</th>\n",
       "      <th>25%</th>\n",
       "      <th>50%</th>\n",
       "      <th>75%</th>\n",
       "      <th>max</th>\n",
       "    </tr>\n",
       "  </thead>\n",
       "  <tbody>\n",
       "    <tr>\n",
       "      <th>나이</th>\n",
       "      <td>32561.0</td>\n",
       "      <td>0.295639</td>\n",
       "      <td>0.186855</td>\n",
       "      <td>0.0</td>\n",
       "      <td>0.150685</td>\n",
       "      <td>0.273973</td>\n",
       "      <td>0.424658</td>\n",
       "      <td>1.0</td>\n",
       "    </tr>\n",
       "    <tr>\n",
       "      <th>노동 계급</th>\n",
       "      <td>32561.0</td>\n",
       "      <td>0.483612</td>\n",
       "      <td>0.181995</td>\n",
       "      <td>0.0</td>\n",
       "      <td>0.500000</td>\n",
       "      <td>0.500000</td>\n",
       "      <td>0.500000</td>\n",
       "      <td>1.0</td>\n",
       "    </tr>\n",
       "    <tr>\n",
       "      <th>fnlwgt</th>\n",
       "      <td>32561.0</td>\n",
       "      <td>0.120545</td>\n",
       "      <td>0.071685</td>\n",
       "      <td>0.0</td>\n",
       "      <td>0.071679</td>\n",
       "      <td>0.112788</td>\n",
       "      <td>0.152651</td>\n",
       "      <td>1.0</td>\n",
       "    </tr>\n",
       "    <tr>\n",
       "      <th>학력</th>\n",
       "      <td>32561.0</td>\n",
       "      <td>0.686547</td>\n",
       "      <td>0.258018</td>\n",
       "      <td>0.0</td>\n",
       "      <td>0.600000</td>\n",
       "      <td>0.733333</td>\n",
       "      <td>0.800000</td>\n",
       "      <td>1.0</td>\n",
       "    </tr>\n",
       "    <tr>\n",
       "      <th>교육 수</th>\n",
       "      <td>32561.0</td>\n",
       "      <td>0.605379</td>\n",
       "      <td>0.171515</td>\n",
       "      <td>0.0</td>\n",
       "      <td>0.533333</td>\n",
       "      <td>0.600000</td>\n",
       "      <td>0.733333</td>\n",
       "      <td>1.0</td>\n",
       "    </tr>\n",
       "    <tr>\n",
       "      <th>...</th>\n",
       "      <td>...</td>\n",
       "      <td>...</td>\n",
       "      <td>...</td>\n",
       "      <td>...</td>\n",
       "      <td>...</td>\n",
       "      <td>...</td>\n",
       "      <td>...</td>\n",
       "      <td>...</td>\n",
       "    </tr>\n",
       "    <tr>\n",
       "      <th>Thailand</th>\n",
       "      <td>32561.0</td>\n",
       "      <td>0.000553</td>\n",
       "      <td>0.023506</td>\n",
       "      <td>0.0</td>\n",
       "      <td>0.000000</td>\n",
       "      <td>0.000000</td>\n",
       "      <td>0.000000</td>\n",
       "      <td>1.0</td>\n",
       "    </tr>\n",
       "    <tr>\n",
       "      <th>Trinadad&amp;Tobago</th>\n",
       "      <td>32561.0</td>\n",
       "      <td>0.000584</td>\n",
       "      <td>0.024149</td>\n",
       "      <td>0.0</td>\n",
       "      <td>0.000000</td>\n",
       "      <td>0.000000</td>\n",
       "      <td>0.000000</td>\n",
       "      <td>1.0</td>\n",
       "    </tr>\n",
       "    <tr>\n",
       "      <th>United-States</th>\n",
       "      <td>32561.0</td>\n",
       "      <td>0.895857</td>\n",
       "      <td>0.305451</td>\n",
       "      <td>0.0</td>\n",
       "      <td>1.000000</td>\n",
       "      <td>1.000000</td>\n",
       "      <td>1.000000</td>\n",
       "      <td>1.0</td>\n",
       "    </tr>\n",
       "    <tr>\n",
       "      <th>Vietnam</th>\n",
       "      <td>32561.0</td>\n",
       "      <td>0.002058</td>\n",
       "      <td>0.045316</td>\n",
       "      <td>0.0</td>\n",
       "      <td>0.000000</td>\n",
       "      <td>0.000000</td>\n",
       "      <td>0.000000</td>\n",
       "      <td>1.0</td>\n",
       "    </tr>\n",
       "    <tr>\n",
       "      <th>Yugoslavia</th>\n",
       "      <td>32561.0</td>\n",
       "      <td>0.000491</td>\n",
       "      <td>0.022162</td>\n",
       "      <td>0.0</td>\n",
       "      <td>0.000000</td>\n",
       "      <td>0.000000</td>\n",
       "      <td>0.000000</td>\n",
       "      <td>1.0</td>\n",
       "    </tr>\n",
       "  </tbody>\n",
       "</table>\n",
       "<p>114 rows × 8 columns</p>\n",
       "</div>"
      ],
      "text/plain": [
       "                    count      mean       std  min       25%       50%  \\\n",
       "나이                32561.0  0.295639  0.186855  0.0  0.150685  0.273973   \n",
       "노동 계급             32561.0  0.483612  0.181995  0.0  0.500000  0.500000   \n",
       "fnlwgt            32561.0  0.120545  0.071685  0.0  0.071679  0.112788   \n",
       "학력                32561.0  0.686547  0.258018  0.0  0.600000  0.733333   \n",
       "교육 수              32561.0  0.605379  0.171515  0.0  0.533333  0.600000   \n",
       "...                   ...       ...       ...  ...       ...       ...   \n",
       " Thailand         32561.0  0.000553  0.023506  0.0  0.000000  0.000000   \n",
       " Trinadad&Tobago  32561.0  0.000584  0.024149  0.0  0.000000  0.000000   \n",
       " United-States    32561.0  0.895857  0.305451  0.0  1.000000  1.000000   \n",
       " Vietnam          32561.0  0.002058  0.045316  0.0  0.000000  0.000000   \n",
       " Yugoslavia       32561.0  0.000491  0.022162  0.0  0.000000  0.000000   \n",
       "\n",
       "                       75%  max  \n",
       "나이                0.424658  1.0  \n",
       "노동 계급             0.500000  1.0  \n",
       "fnlwgt            0.152651  1.0  \n",
       "학력                0.800000  1.0  \n",
       "교육 수              0.733333  1.0  \n",
       "...                    ...  ...  \n",
       " Thailand         0.000000  1.0  \n",
       " Trinadad&Tobago  0.000000  1.0  \n",
       " United-States    1.000000  1.0  \n",
       " Vietnam          0.000000  1.0  \n",
       " Yugoslavia       0.000000  1.0  \n",
       "\n",
       "[114 rows x 8 columns]"
      ]
     },
     "execution_count": 31,
     "metadata": {},
     "output_type": "execute_result"
    }
   ],
   "source": [
    "htX.describe().T"
   ]
  },
  {
   "cell_type": "markdown",
   "metadata": {},
   "source": [
    "# Standardization"
   ]
  },
  {
   "cell_type": "code",
   "execution_count": 19,
   "metadata": {},
   "outputs": [],
   "source": [
    "scaler = StandardScaler()\n",
    "scaler.fit(htX)\n",
    "x = scaler.transform(htX)\n",
    "htX = pd.DataFrame(x, columns=htX.columns)"
   ]
  },
  {
   "cell_type": "code",
   "execution_count": 21,
   "metadata": {},
   "outputs": [
    {
     "data": {
      "text/html": [
       "<div>\n",
       "<style scoped>\n",
       "    .dataframe tbody tr th:only-of-type {\n",
       "        vertical-align: middle;\n",
       "    }\n",
       "\n",
       "    .dataframe tbody tr th {\n",
       "        vertical-align: top;\n",
       "    }\n",
       "\n",
       "    .dataframe thead th {\n",
       "        text-align: right;\n",
       "    }\n",
       "</style>\n",
       "<table border=\"1\" class=\"dataframe\">\n",
       "  <thead>\n",
       "    <tr style=\"text-align: right;\">\n",
       "      <th></th>\n",
       "      <th>나이</th>\n",
       "      <th>노동 계급</th>\n",
       "      <th>fnlwgt</th>\n",
       "      <th>학력</th>\n",
       "      <th>교육 수</th>\n",
       "      <th>혼인 상태</th>\n",
       "      <th>직업</th>\n",
       "      <th>관계</th>\n",
       "      <th>인종</th>\n",
       "      <th>자본 이득</th>\n",
       "      <th>...</th>\n",
       "      <th>Portugal</th>\n",
       "      <th>Puerto-Rico</th>\n",
       "      <th>Scotland</th>\n",
       "      <th>South</th>\n",
       "      <th>Taiwan</th>\n",
       "      <th>Thailand</th>\n",
       "      <th>Trinadad&amp;Tobago</th>\n",
       "      <th>United-States</th>\n",
       "      <th>Vietnam</th>\n",
       "      <th>Yugoslavia</th>\n",
       "    </tr>\n",
       "  </thead>\n",
       "  <tbody>\n",
       "    <tr>\n",
       "      <th>count</th>\n",
       "      <td>3.256100e+04</td>\n",
       "      <td>3.256100e+04</td>\n",
       "      <td>3.256100e+04</td>\n",
       "      <td>3.256100e+04</td>\n",
       "      <td>3.256100e+04</td>\n",
       "      <td>3.256100e+04</td>\n",
       "      <td>3.256100e+04</td>\n",
       "      <td>3.256100e+04</td>\n",
       "      <td>3.256100e+04</td>\n",
       "      <td>3.256100e+04</td>\n",
       "      <td>...</td>\n",
       "      <td>3.256100e+04</td>\n",
       "      <td>3.256100e+04</td>\n",
       "      <td>3.256100e+04</td>\n",
       "      <td>3.256100e+04</td>\n",
       "      <td>3.256100e+04</td>\n",
       "      <td>3.256100e+04</td>\n",
       "      <td>3.256100e+04</td>\n",
       "      <td>3.256100e+04</td>\n",
       "      <td>3.256100e+04</td>\n",
       "      <td>3.256100e+04</td>\n",
       "    </tr>\n",
       "    <tr>\n",
       "      <th>mean</th>\n",
       "      <td>-1.737807e-16</td>\n",
       "      <td>-8.297776e-16</td>\n",
       "      <td>-8.840254e-17</td>\n",
       "      <td>-7.636385e-16</td>\n",
       "      <td>2.312098e-17</td>\n",
       "      <td>4.630504e-17</td>\n",
       "      <td>4.053588e-16</td>\n",
       "      <td>6.503880e-16</td>\n",
       "      <td>-1.639626e-15</td>\n",
       "      <td>-1.726862e-16</td>\n",
       "      <td>...</td>\n",
       "      <td>6.362374e-16</td>\n",
       "      <td>-1.833996e-15</td>\n",
       "      <td>-8.044147e-16</td>\n",
       "      <td>-2.670340e-15</td>\n",
       "      <td>-5.892619e-16</td>\n",
       "      <td>-8.950892e-16</td>\n",
       "      <td>2.531101e-15</td>\n",
       "      <td>1.214828e-15</td>\n",
       "      <td>7.960858e-17</td>\n",
       "      <td>4.459549e-16</td>\n",
       "    </tr>\n",
       "    <tr>\n",
       "      <th>std</th>\n",
       "      <td>1.000015e+00</td>\n",
       "      <td>1.000015e+00</td>\n",
       "      <td>1.000015e+00</td>\n",
       "      <td>1.000015e+00</td>\n",
       "      <td>1.000015e+00</td>\n",
       "      <td>1.000015e+00</td>\n",
       "      <td>1.000015e+00</td>\n",
       "      <td>1.000015e+00</td>\n",
       "      <td>1.000015e+00</td>\n",
       "      <td>1.000015e+00</td>\n",
       "      <td>...</td>\n",
       "      <td>1.000015e+00</td>\n",
       "      <td>1.000015e+00</td>\n",
       "      <td>1.000015e+00</td>\n",
       "      <td>1.000015e+00</td>\n",
       "      <td>1.000015e+00</td>\n",
       "      <td>1.000015e+00</td>\n",
       "      <td>1.000015e+00</td>\n",
       "      <td>1.000015e+00</td>\n",
       "      <td>1.000015e+00</td>\n",
       "      <td>1.000015e+00</td>\n",
       "    </tr>\n",
       "    <tr>\n",
       "      <th>min</th>\n",
       "      <td>-1.582206e+00</td>\n",
       "      <td>-2.657320e+00</td>\n",
       "      <td>-1.681631e+00</td>\n",
       "      <td>-2.660895e+00</td>\n",
       "      <td>-3.529656e+00</td>\n",
       "      <td>-1.734058e+00</td>\n",
       "      <td>-1.554283e+00</td>\n",
       "      <td>-9.001808e-01</td>\n",
       "      <td>-4.318909e+00</td>\n",
       "      <td>-1.459205e-01</td>\n",
       "      <td>...</td>\n",
       "      <td>-3.372864e-02</td>\n",
       "      <td>-5.927412e-02</td>\n",
       "      <td>-1.920091e-02</td>\n",
       "      <td>-4.962840e-02</td>\n",
       "      <td>-3.960742e-02</td>\n",
       "      <td>-2.351838e-02</td>\n",
       "      <td>-2.416321e-02</td>\n",
       "      <td>-2.932948e+00</td>\n",
       "      <td>-4.540836e-02</td>\n",
       "      <td>-2.217266e-02</td>\n",
       "    </tr>\n",
       "    <tr>\n",
       "      <th>25%</th>\n",
       "      <td>-7.757679e-01</td>\n",
       "      <td>9.005041e-02</td>\n",
       "      <td>-6.816910e-01</td>\n",
       "      <td>-3.354369e-01</td>\n",
       "      <td>-4.200596e-01</td>\n",
       "      <td>-4.062122e-01</td>\n",
       "      <td>-8.448608e-01</td>\n",
       "      <td>-9.001808e-01</td>\n",
       "      <td>3.936675e-01</td>\n",
       "      <td>-1.459205e-01</td>\n",
       "      <td>...</td>\n",
       "      <td>-3.372864e-02</td>\n",
       "      <td>-5.927412e-02</td>\n",
       "      <td>-1.920091e-02</td>\n",
       "      <td>-4.962840e-02</td>\n",
       "      <td>-3.960742e-02</td>\n",
       "      <td>-2.351838e-02</td>\n",
       "      <td>-2.416321e-02</td>\n",
       "      <td>3.409539e-01</td>\n",
       "      <td>-4.540836e-02</td>\n",
       "      <td>-2.217266e-02</td>\n",
       "    </tr>\n",
       "    <tr>\n",
       "      <th>50%</th>\n",
       "      <td>-1.159546e-01</td>\n",
       "      <td>9.005041e-02</td>\n",
       "      <td>-1.082193e-01</td>\n",
       "      <td>1.813316e-01</td>\n",
       "      <td>-3.136003e-02</td>\n",
       "      <td>-4.062122e-01</td>\n",
       "      <td>1.010359e-01</td>\n",
       "      <td>-2.778050e-01</td>\n",
       "      <td>3.936675e-01</td>\n",
       "      <td>-1.459205e-01</td>\n",
       "      <td>...</td>\n",
       "      <td>-3.372864e-02</td>\n",
       "      <td>-5.927412e-02</td>\n",
       "      <td>-1.920091e-02</td>\n",
       "      <td>-4.962840e-02</td>\n",
       "      <td>-3.960742e-02</td>\n",
       "      <td>-2.351838e-02</td>\n",
       "      <td>-2.416321e-02</td>\n",
       "      <td>3.409539e-01</td>\n",
       "      <td>-4.540836e-02</td>\n",
       "      <td>-2.217266e-02</td>\n",
       "    </tr>\n",
       "    <tr>\n",
       "      <th>75%</th>\n",
       "      <td>6.904838e-01</td>\n",
       "      <td>9.005041e-02</td>\n",
       "      <td>4.478765e-01</td>\n",
       "      <td>4.397159e-01</td>\n",
       "      <td>7.460392e-01</td>\n",
       "      <td>9.216339e-01</td>\n",
       "      <td>8.104583e-01</td>\n",
       "      <td>9.669466e-01</td>\n",
       "      <td>3.936675e-01</td>\n",
       "      <td>-1.459205e-01</td>\n",
       "      <td>...</td>\n",
       "      <td>-3.372864e-02</td>\n",
       "      <td>-5.927412e-02</td>\n",
       "      <td>-1.920091e-02</td>\n",
       "      <td>-4.962840e-02</td>\n",
       "      <td>-3.960742e-02</td>\n",
       "      <td>-2.351838e-02</td>\n",
       "      <td>-2.416321e-02</td>\n",
       "      <td>3.409539e-01</td>\n",
       "      <td>-4.540836e-02</td>\n",
       "      <td>-2.217266e-02</td>\n",
       "    </tr>\n",
       "    <tr>\n",
       "      <th>max</th>\n",
       "      <td>3.769612e+00</td>\n",
       "      <td>2.837421e+00</td>\n",
       "      <td>1.226856e+01</td>\n",
       "      <td>1.214869e+00</td>\n",
       "      <td>2.300838e+00</td>\n",
       "      <td>2.249480e+00</td>\n",
       "      <td>1.756355e+00</td>\n",
       "      <td>2.211698e+00</td>\n",
       "      <td>3.936675e-01</td>\n",
       "      <td>1.339458e+01</td>\n",
       "      <td>...</td>\n",
       "      <td>2.964839e+01</td>\n",
       "      <td>1.687077e+01</td>\n",
       "      <td>5.208087e+01</td>\n",
       "      <td>2.014975e+01</td>\n",
       "      <td>2.524779e+01</td>\n",
       "      <td>4.251993e+01</td>\n",
       "      <td>4.138522e+01</td>\n",
       "      <td>3.409539e-01</td>\n",
       "      <td>2.202238e+01</td>\n",
       "      <td>4.510058e+01</td>\n",
       "    </tr>\n",
       "  </tbody>\n",
       "</table>\n",
       "<p>8 rows × 114 columns</p>\n",
       "</div>"
      ],
      "text/plain": [
       "                 나이         노동 계급        fnlwgt            학력          교육 수  \\\n",
       "count  3.256100e+04  3.256100e+04  3.256100e+04  3.256100e+04  3.256100e+04   \n",
       "mean  -1.737807e-16 -8.297776e-16 -8.840254e-17 -7.636385e-16  2.312098e-17   \n",
       "std    1.000015e+00  1.000015e+00  1.000015e+00  1.000015e+00  1.000015e+00   \n",
       "min   -1.582206e+00 -2.657320e+00 -1.681631e+00 -2.660895e+00 -3.529656e+00   \n",
       "25%   -7.757679e-01  9.005041e-02 -6.816910e-01 -3.354369e-01 -4.200596e-01   \n",
       "50%   -1.159546e-01  9.005041e-02 -1.082193e-01  1.813316e-01 -3.136003e-02   \n",
       "75%    6.904838e-01  9.005041e-02  4.478765e-01  4.397159e-01  7.460392e-01   \n",
       "max    3.769612e+00  2.837421e+00  1.226856e+01  1.214869e+00  2.300838e+00   \n",
       "\n",
       "              혼인 상태            직업            관계            인종         자본 이득  \\\n",
       "count  3.256100e+04  3.256100e+04  3.256100e+04  3.256100e+04  3.256100e+04   \n",
       "mean   4.630504e-17  4.053588e-16  6.503880e-16 -1.639626e-15 -1.726862e-16   \n",
       "std    1.000015e+00  1.000015e+00  1.000015e+00  1.000015e+00  1.000015e+00   \n",
       "min   -1.734058e+00 -1.554283e+00 -9.001808e-01 -4.318909e+00 -1.459205e-01   \n",
       "25%   -4.062122e-01 -8.448608e-01 -9.001808e-01  3.936675e-01 -1.459205e-01   \n",
       "50%   -4.062122e-01  1.010359e-01 -2.778050e-01  3.936675e-01 -1.459205e-01   \n",
       "75%    9.216339e-01  8.104583e-01  9.669466e-01  3.936675e-01 -1.459205e-01   \n",
       "max    2.249480e+00  1.756355e+00  2.211698e+00  3.936675e-01  1.339458e+01   \n",
       "\n",
       "       ...      Portugal   Puerto-Rico      Scotland         South  \\\n",
       "count  ...  3.256100e+04  3.256100e+04  3.256100e+04  3.256100e+04   \n",
       "mean   ...  6.362374e-16 -1.833996e-15 -8.044147e-16 -2.670340e-15   \n",
       "std    ...  1.000015e+00  1.000015e+00  1.000015e+00  1.000015e+00   \n",
       "min    ... -3.372864e-02 -5.927412e-02 -1.920091e-02 -4.962840e-02   \n",
       "25%    ... -3.372864e-02 -5.927412e-02 -1.920091e-02 -4.962840e-02   \n",
       "50%    ... -3.372864e-02 -5.927412e-02 -1.920091e-02 -4.962840e-02   \n",
       "75%    ... -3.372864e-02 -5.927412e-02 -1.920091e-02 -4.962840e-02   \n",
       "max    ...  2.964839e+01  1.687077e+01  5.208087e+01  2.014975e+01   \n",
       "\n",
       "             Taiwan      Thailand   Trinadad&Tobago   United-States  \\\n",
       "count  3.256100e+04  3.256100e+04      3.256100e+04    3.256100e+04   \n",
       "mean  -5.892619e-16 -8.950892e-16      2.531101e-15    1.214828e-15   \n",
       "std    1.000015e+00  1.000015e+00      1.000015e+00    1.000015e+00   \n",
       "min   -3.960742e-02 -2.351838e-02     -2.416321e-02   -2.932948e+00   \n",
       "25%   -3.960742e-02 -2.351838e-02     -2.416321e-02    3.409539e-01   \n",
       "50%   -3.960742e-02 -2.351838e-02     -2.416321e-02    3.409539e-01   \n",
       "75%   -3.960742e-02 -2.351838e-02     -2.416321e-02    3.409539e-01   \n",
       "max    2.524779e+01  4.251993e+01      4.138522e+01    3.409539e-01   \n",
       "\n",
       "            Vietnam    Yugoslavia  \n",
       "count  3.256100e+04  3.256100e+04  \n",
       "mean   7.960858e-17  4.459549e-16  \n",
       "std    1.000015e+00  1.000015e+00  \n",
       "min   -4.540836e-02 -2.217266e-02  \n",
       "25%   -4.540836e-02 -2.217266e-02  \n",
       "50%   -4.540836e-02 -2.217266e-02  \n",
       "75%   -4.540836e-02 -2.217266e-02  \n",
       "max    2.202238e+01  4.510058e+01  \n",
       "\n",
       "[8 rows x 114 columns]"
      ]
     },
     "execution_count": 21,
     "metadata": {},
     "output_type": "execute_result"
    }
   ],
   "source": [
    "htX.describe()"
   ]
  },
  {
   "cell_type": "markdown",
   "metadata": {},
   "source": [
    "# 샘플링"
   ]
  },
  {
   "cell_type": "markdown",
   "metadata": {},
   "source": [
    "### 통합 샘플링"
   ]
  },
  {
   "cell_type": "code",
   "execution_count": 20,
   "metadata": {},
   "outputs": [
    {
     "name": "stdout",
     "output_type": "stream",
     "text": [
      "              precision    recall  f1-score   support\n",
      "\n",
      "           0       0.77      0.68      0.72      2701\n",
      "           1       0.85      0.90      0.87      5440\n",
      "\n",
      "    accuracy                           0.83      8141\n",
      "   macro avg       0.81      0.79      0.80      8141\n",
      "weighted avg       0.82      0.83      0.82      8141\n",
      "\n"
     ]
    }
   ],
   "source": [
    "tree3 = DecisionTreeClassifier(max_depth=10, random_state=0)\n",
    "tree3.fit(X_train, Y_train)\n",
    "pred_tree3 = tree3.predict(X_test);\n",
    "\n",
    "print(classification_report(Y_test, pred_tree3))"
   ]
  },
  {
   "cell_type": "code",
   "execution_count": 21,
   "metadata": {},
   "outputs": [],
   "source": [
    "htX, htY = SMOTETomek(random_state=0).fit_sample(X_train, Y_train)"
   ]
  },
  {
   "cell_type": "code",
   "execution_count": 22,
   "metadata": {},
   "outputs": [
    {
     "name": "stdout",
     "output_type": "stream",
     "text": [
      "              precision    recall  f1-score   support\n",
      "\n",
      "           0       0.70      0.81      0.75      2701\n",
      "           1       0.90      0.83      0.86      5440\n",
      "\n",
      "    accuracy                           0.82      8141\n",
      "   macro avg       0.80      0.82      0.81      8141\n",
      "weighted avg       0.83      0.82      0.82      8141\n",
      "\n"
     ]
    }
   ],
   "source": [
    "tree3 = DecisionTreeClassifier(max_depth=10, random_state=0)\n",
    "tree3.fit(htX, htY)\n",
    "pred_tree3 = tree3.predict(X_test)\n",
    "\n",
    "print(classification_report(Y_test, pred_tree3))\n",
    "\n",
    "# (precision) 0 이라고 예측한 데이터의 74%만 실제로 0\n",
    "# (precision) 1 이라고 예측한 데이터의 33%만 실제로 1\n",
    "# (recall) 실제 0인 데이터중 56%만 0으로 판별됨 \n",
    "# (recall) 실제 1인 데이타중 52%만 1로 판별됨"
   ]
  },
  {
   "cell_type": "markdown",
   "metadata": {},
   "source": [
    "### 언더 샘플링 / 오버 샘플링"
   ]
  },
  {
   "cell_type": "code",
   "execution_count": 28,
   "metadata": {},
   "outputs": [
    {
     "name": "stdout",
     "output_type": "stream",
     "text": [
      "14699 14699\n"
     ]
    }
   ],
   "source": [
    "aX = np.array(htX)\n",
    "aY = np.array(htY)\n",
    "print(np.sum(aY == 1), np.sum(aY == 0))"
   ]
  },
  {
   "cell_type": "code",
   "execution_count": 18,
   "metadata": {},
   "outputs": [],
   "source": [
    "#sampler = RandomUnderSampler(random_state=1)\n",
    "sampler = RandomOverSampler(random_state=1)\n",
    "aX, aY = sampler.fit_resample(aX, aY)"
   ]
  },
  {
   "cell_type": "code",
   "execution_count": 29,
   "metadata": {},
   "outputs": [
    {
     "name": "stdout",
     "output_type": "stream",
     "text": [
      "14699 14699\n"
     ]
    }
   ],
   "source": [
    "print(np.sum(aY == 1), np.sum(aY == 0))"
   ]
  },
  {
   "cell_type": "markdown",
   "metadata": {},
   "source": [
    "# Cross-Validation"
   ]
  },
  {
   "cell_type": "code",
   "execution_count": 23,
   "metadata": {},
   "outputs": [],
   "source": [
    "#model = KNeighborsClassifier()\n",
    "model = LogisticRegression()\n",
    "#model = DecisionTreeClassifier()\n",
    "# kf = StratifiedKFold(n_splits=10, shuffle=True)"
   ]
  },
  {
   "cell_type": "code",
   "execution_count": 24,
   "metadata": {},
   "outputs": [
    {
     "name": "stderr",
     "output_type": "stream",
     "text": [
      "C:\\Users\\020\\anaconda3\\lib\\site-packages\\sklearn\\linear_model\\_logistic.py:762: ConvergenceWarning: lbfgs failed to converge (status=1):\n",
      "STOP: TOTAL NO. of ITERATIONS REACHED LIMIT.\n",
      "\n",
      "Increase the number of iterations (max_iter) or scale the data as shown in:\n",
      "    https://scikit-learn.org/stable/modules/preprocessing.html\n",
      "Please also refer to the documentation for alternative solver options:\n",
      "    https://scikit-learn.org/stable/modules/linear_model.html#logistic-regression\n",
      "  n_iter_i = _check_optimize_result(\n",
      "C:\\Users\\020\\anaconda3\\lib\\site-packages\\sklearn\\linear_model\\_logistic.py:762: ConvergenceWarning: lbfgs failed to converge (status=1):\n",
      "STOP: TOTAL NO. of ITERATIONS REACHED LIMIT.\n",
      "\n",
      "Increase the number of iterations (max_iter) or scale the data as shown in:\n",
      "    https://scikit-learn.org/stable/modules/preprocessing.html\n",
      "Please also refer to the documentation for alternative solver options:\n",
      "    https://scikit-learn.org/stable/modules/linear_model.html#logistic-regression\n",
      "  n_iter_i = _check_optimize_result(\n"
     ]
    },
    {
     "data": {
      "text/plain": [
       "array([0.66972789, 0.66496599, 0.68197279, 0.66354822, 0.65538357])"
      ]
     },
     "execution_count": 24,
     "metadata": {},
     "output_type": "execute_result"
    }
   ],
   "source": [
    "scores = cross_val_score(model, htX, htY)\n",
    "scores"
   ]
  },
  {
   "cell_type": "code",
   "execution_count": 25,
   "metadata": {},
   "outputs": [
    {
     "name": "stdout",
     "output_type": "stream",
     "text": [
      "Mean: 0.667\n",
      "Std: 0.009\n",
      "Min: 0.655\n",
      "Max: 0.682\n"
     ]
    }
   ],
   "source": [
    "print(\"Mean: {:.3f}\\nStd: {:.3f}\\nMin: {:.3f}\\nMax: {:.3f}\".format(\n",
    "    scores.mean(), scores.std(), scores.min(), scores.max()))"
   ]
  },
  {
   "cell_type": "markdown",
   "metadata": {},
   "source": [
    "# K-Fold 교차검증"
   ]
  },
  {
   "cell_type": "code",
   "execution_count": 30,
   "metadata": {},
   "outputs": [
    {
     "data": {
      "text/plain": [
       "KFold(n_splits=10, random_state=None, shuffle=True)"
      ]
     },
     "execution_count": 30,
     "metadata": {},
     "output_type": "execute_result"
    }
   ],
   "source": [
    "kf = KFold(n_splits=10, shuffle=True)\n",
    "# kf = LeaveOneOut()\n",
    "kf"
   ]
  },
  {
   "cell_type": "code",
   "execution_count": 31,
   "metadata": {},
   "outputs": [
    {
     "name": "stdout",
     "output_type": "stream",
     "text": [
      "0.858459909312483 0.0063194696721951766 0.8679823069071113 0.8489795918367347\n",
      "0.8668965517241379\n",
      "0.8657024793388429\n"
     ]
    }
   ],
   "source": [
    "scores = []\n",
    "\n",
    "for train_id, test_id in kf.split(aX):\n",
    "    x = aX[train_id]\n",
    "    y = aY[train_id]\n",
    "    clf = tree.DecisionTreeClassifier()\n",
    "    clf.fit(x,y)\n",
    "    pred_y = clf.predict(aX[test_id])\n",
    "    score = accuracy_score(aY[test_id], pred_y)\n",
    "    scores.append(score)\n",
    "\n",
    "scores = np.array(scores)\n",
    "print(scores.mean(), scores.std(), scores.max(), scores.min())\n",
    "print(recall_score(aY[test_id], pred_y))\n",
    "print(precision_score(aY[test_id], pred_y))"
   ]
  },
  {
   "cell_type": "code",
   "execution_count": 32,
   "metadata": {},
   "outputs": [],
   "source": [
    "# params = {\n",
    "#     'criterion': ['entropy'],    \n",
    "#     'max_depth': [2, 4, 6, 8, 10],\n",
    "#     'min_samples_leaf': [10, 20, 30, 40, 50],\n",
    "# }\n",
    "\n",
    "params = {\n",
    "     'learning_rate': [0.001,0.05,0.1],\n",
    "     'num_iterations': [100,500,1000],\n",
    "     'max_depth': [5, 10, 15, 20],\n",
    "    'objective' : ['binary','mae','mse']\n",
    "}"
   ]
  },
  {
   "cell_type": "code",
   "execution_count": 33,
   "metadata": {},
   "outputs": [],
   "source": [
    "lgbm_wrapper = LGBMClassifier()"
   ]
  },
  {
   "cell_type": "code",
   "execution_count": 34,
   "metadata": {},
   "outputs": [],
   "source": [
    "# clf_gs = GridSearchCV(tree.DecisionTreeClassifier(), params, \n",
    "#                 cv=KFold(n_splits=10, shuffle=True), scoring='accuracy')\n",
    "clf_gs = GridSearchCV(estimator=lgbm_wrapper, param_grid=params, \n",
    "                cv=KFold(n_splits=10, shuffle=True), scoring='accuracy')"
   ]
  },
  {
   "cell_type": "code",
   "execution_count": 35,
   "metadata": {},
   "outputs": [
    {
     "name": "stderr",
     "output_type": "stream",
     "text": [
      "C:\\Users\\020\\anaconda3\\lib\\site-packages\\lightgbm\\engine.py:118: UserWarning: Found `num_iterations` in params. Will use it instead of argument\n",
      "  warnings.warn(\"Found `{}` in params. Will use it instead of argument\".format(alias))\n"
     ]
    },
    {
     "data": {
      "text/plain": [
       "GridSearchCV(cv=KFold(n_splits=10, random_state=None, shuffle=True),\n",
       "             estimator=LGBMClassifier(),\n",
       "             param_grid={'learning_rate': [0.001, 0.05, 0.1],\n",
       "                         'max_depth': [5, 10, 15, 20],\n",
       "                         'num_iterations': [100, 500, 1000],\n",
       "                         'objective': ['binary', 'mae', 'mse']},\n",
       "             scoring='accuracy')"
      ]
     },
     "execution_count": 35,
     "metadata": {},
     "output_type": "execute_result"
    }
   ],
   "source": [
    "clf_gs.fit(htX, htY)"
   ]
  },
  {
   "cell_type": "code",
   "execution_count": 36,
   "metadata": {},
   "outputs": [
    {
     "name": "stdout",
     "output_type": "stream",
     "text": [
      "0.8924075244252174\n",
      "{'learning_rate': 0.05, 'max_depth': 10, 'num_iterations': 500, 'objective': 'mse'}\n"
     ]
    }
   ],
   "source": [
    "print(clf_gs.best_score_)\n",
    "print(clf_gs.best_params_)"
   ]
  },
  {
   "cell_type": "code",
   "execution_count": 46,
   "metadata": {},
   "outputs": [
    {
     "data": {
      "text/plain": [
       "0.861652739090065"
      ]
     },
     "execution_count": 46,
     "metadata": {},
     "output_type": "execute_result"
    }
   ],
   "source": [
    "tree1 = DecisionTreeClassifier(max_depth=10, min_samples_leaf=30, random_state=0)\n",
    "tree1.fit(aX, aY).score(aX[test_id], aY[test_id])"
   ]
  },
  {
   "cell_type": "code",
   "execution_count": 58,
   "metadata": {},
   "outputs": [
    {
     "name": "stdout",
     "output_type": "stream",
     "text": [
      "1    5440\n",
      "0    2701\n",
      "Name: 성별, dtype: int64\n"
     ]
    },
    {
     "data": {
      "text/plain": [
       "0.3317774229210171"
      ]
     },
     "execution_count": 58,
     "metadata": {},
     "output_type": "execute_result"
    }
   ],
   "source": [
    "print(Y_test.value_counts())\n",
    "dummy=DummyClassifier(strategy='most_frequent').fit(aX, aY)\n",
    "dummy.score(X_test, Y_test)"
   ]
  },
  {
   "cell_type": "code",
   "execution_count": 48,
   "metadata": {},
   "outputs": [
    {
     "data": {
      "text/plain": [
       "SVC(random_state=0)"
      ]
     },
     "execution_count": 48,
     "metadata": {},
     "output_type": "execute_result"
    }
   ],
   "source": [
    "svm = SVC(random_state=0)\n",
    "svm.fit(htX, htY)"
   ]
  },
  {
   "cell_type": "code",
   "execution_count": 49,
   "metadata": {},
   "outputs": [
    {
     "data": {
      "text/plain": [
       "MLPClassifier()"
      ]
     },
     "execution_count": 49,
     "metadata": {},
     "output_type": "execute_result"
    }
   ],
   "source": [
    "mlp=MLPClassifier()\n",
    "mlp.fit(htX, htY)"
   ]
  },
  {
   "cell_type": "code",
   "execution_count": 50,
   "metadata": {},
   "outputs": [
    {
     "data": {
      "text/plain": [
       "0.6692054912318418"
      ]
     },
     "metadata": {},
     "output_type": "display_data"
    },
    {
     "data": {
      "text/plain": [
       "0.6682225770789829"
      ]
     },
     "metadata": {},
     "output_type": "display_data"
    }
   ],
   "source": [
    "display(svm.score(htX, htY))\n",
    "display(svm.score(X_test, Y_test))"
   ]
  },
  {
   "cell_type": "code",
   "execution_count": 51,
   "metadata": {},
   "outputs": [
    {
     "data": {
      "text/plain": [
       "0.7332698627192039"
      ]
     },
     "metadata": {},
     "output_type": "display_data"
    },
    {
     "data": {
      "text/plain": [
       "0.7322196290382017"
      ]
     },
     "metadata": {},
     "output_type": "display_data"
    }
   ],
   "source": [
    "display(mlp.score(htX, htY))\n",
    "display(mlp.score(X_test, Y_test))"
   ]
  },
  {
   "cell_type": "markdown",
   "metadata": {},
   "source": [
    "# xgboost"
   ]
  },
  {
   "cell_type": "code",
   "execution_count": 52,
   "metadata": {},
   "outputs": [],
   "source": [
    "dtrain = xgb.DMatrix(data=htX, label=htY)\n",
    "dtest = xgb.DMatrix(data=X_test, label=Y_test)"
   ]
  },
  {
   "cell_type": "code",
   "execution_count": 53,
   "metadata": {},
   "outputs": [],
   "source": [
    "params = {'max_depth':3,\n",
    "          'eta':0.1,\n",
    "          'objective':'binary:logistic',\n",
    "          'eval_metric':'logloss',\n",
    "          'early_stoppings':100\n",
    "         }\n",
    "num_rounds = 400"
   ]
  },
  {
   "cell_type": "code",
   "execution_count": 54,
   "metadata": {},
   "outputs": [
    {
     "name": "stdout",
     "output_type": "stream",
     "text": [
      "[16:21:35] WARNING: C:/Users/Administrator/workspace/xgboost-win64_release_1.3.0/src/learner.cc:541: \n",
      "Parameters: { early_stoppings } might not be used.\n",
      "\n",
      "  This may not be accurate due to some parameters are only used in language bindings but\n",
      "  passed down to XGBoost core.  Or some parameters are not used but slip through this\n",
      "  verification. Please open an issue if you find above cases.\n",
      "\n",
      "\n",
      "[0]\ttrain-logloss:0.64455\teval-logloss:0.64463\n",
      "[1]\ttrain-logloss:0.60463\teval-logloss:0.60469\n",
      "[2]\ttrain-logloss:0.57118\teval-logloss:0.57132\n",
      "[3]\ttrain-logloss:0.54291\teval-logloss:0.54303\n",
      "[4]\ttrain-logloss:0.51870\teval-logloss:0.51888\n",
      "[5]\ttrain-logloss:0.49783\teval-logloss:0.49809\n",
      "[6]\ttrain-logloss:0.47972\teval-logloss:0.47998\n",
      "[7]\ttrain-logloss:0.46388\teval-logloss:0.46420\n",
      "[8]\ttrain-logloss:0.44975\teval-logloss:0.45023\n",
      "[9]\ttrain-logloss:0.43739\teval-logloss:0.43788\n",
      "[10]\ttrain-logloss:0.42637\teval-logloss:0.42691\n",
      "[11]\ttrain-logloss:0.41618\teval-logloss:0.41661\n",
      "[12]\ttrain-logloss:0.40726\teval-logloss:0.40774\n",
      "[13]\ttrain-logloss:0.39905\teval-logloss:0.39964\n",
      "[14]\ttrain-logloss:0.39162\teval-logloss:0.39213\n",
      "[15]\ttrain-logloss:0.38484\teval-logloss:0.38550\n",
      "[16]\ttrain-logloss:0.37879\teval-logloss:0.37947\n",
      "[17]\ttrain-logloss:0.37328\teval-logloss:0.37392\n",
      "[18]\ttrain-logloss:0.36832\teval-logloss:0.36910\n",
      "[19]\ttrain-logloss:0.36373\teval-logloss:0.36453\n",
      "[20]\ttrain-logloss:0.35951\teval-logloss:0.36034\n",
      "[21]\ttrain-logloss:0.35547\teval-logloss:0.35642\n",
      "[22]\ttrain-logloss:0.35189\teval-logloss:0.35280\n",
      "[23]\ttrain-logloss:0.34873\teval-logloss:0.34960\n",
      "[24]\ttrain-logloss:0.34559\teval-logloss:0.34651\n",
      "[25]\ttrain-logloss:0.34279\teval-logloss:0.34363\n",
      "[26]\ttrain-logloss:0.34022\teval-logloss:0.34108\n",
      "[27]\ttrain-logloss:0.33770\teval-logloss:0.33866\n",
      "[28]\ttrain-logloss:0.33555\teval-logloss:0.33653\n",
      "[29]\ttrain-logloss:0.33348\teval-logloss:0.33444\n",
      "[30]\ttrain-logloss:0.33163\teval-logloss:0.33260\n",
      "[31]\ttrain-logloss:0.32984\teval-logloss:0.33079\n",
      "[32]\ttrain-logloss:0.32804\teval-logloss:0.32909\n",
      "[33]\ttrain-logloss:0.32641\teval-logloss:0.32753\n",
      "[34]\ttrain-logloss:0.32499\teval-logloss:0.32610\n",
      "[35]\ttrain-logloss:0.32354\teval-logloss:0.32465\n",
      "[36]\ttrain-logloss:0.32232\teval-logloss:0.32344\n",
      "[37]\ttrain-logloss:0.32121\teval-logloss:0.32243\n",
      "[38]\ttrain-logloss:0.32010\teval-logloss:0.32127\n",
      "[39]\ttrain-logloss:0.31908\teval-logloss:0.32026\n",
      "[40]\ttrain-logloss:0.31780\teval-logloss:0.31916\n",
      "[41]\ttrain-logloss:0.31681\teval-logloss:0.31814\n",
      "[42]\ttrain-logloss:0.31586\teval-logloss:0.31727\n",
      "[43]\ttrain-logloss:0.31491\teval-logloss:0.31636\n",
      "[44]\ttrain-logloss:0.31412\teval-logloss:0.31559\n",
      "[45]\ttrain-logloss:0.31327\teval-logloss:0.31480\n",
      "[46]\ttrain-logloss:0.31254\teval-logloss:0.31411\n",
      "[47]\ttrain-logloss:0.31176\teval-logloss:0.31331\n",
      "[48]\ttrain-logloss:0.31084\teval-logloss:0.31248\n",
      "[49]\ttrain-logloss:0.31023\teval-logloss:0.31183\n",
      "[50]\ttrain-logloss:0.30955\teval-logloss:0.31123\n",
      "[51]\ttrain-logloss:0.30886\teval-logloss:0.31057\n",
      "[52]\ttrain-logloss:0.30830\teval-logloss:0.31001\n",
      "[53]\ttrain-logloss:0.30758\teval-logloss:0.30940\n",
      "[54]\ttrain-logloss:0.30673\teval-logloss:0.30851\n",
      "[55]\ttrain-logloss:0.30623\teval-logloss:0.30800\n",
      "[56]\ttrain-logloss:0.30546\teval-logloss:0.30736\n",
      "[57]\ttrain-logloss:0.30500\teval-logloss:0.30684\n",
      "[58]\ttrain-logloss:0.30456\teval-logloss:0.30639\n",
      "[59]\ttrain-logloss:0.30411\teval-logloss:0.30598\n",
      "[60]\ttrain-logloss:0.30365\teval-logloss:0.30561\n",
      "[61]\ttrain-logloss:0.30314\teval-logloss:0.30514\n",
      "[62]\ttrain-logloss:0.30269\teval-logloss:0.30472\n",
      "[63]\ttrain-logloss:0.30234\teval-logloss:0.30436\n",
      "[64]\ttrain-logloss:0.30173\teval-logloss:0.30377\n",
      "[65]\ttrain-logloss:0.30119\teval-logloss:0.30328\n",
      "[66]\ttrain-logloss:0.30079\teval-logloss:0.30291\n",
      "[67]\ttrain-logloss:0.30019\teval-logloss:0.30235\n",
      "[68]\ttrain-logloss:0.29985\teval-logloss:0.30204\n",
      "[69]\ttrain-logloss:0.29946\teval-logloss:0.30169\n",
      "[70]\ttrain-logloss:0.29917\teval-logloss:0.30139\n",
      "[71]\ttrain-logloss:0.29875\teval-logloss:0.30103\n",
      "[72]\ttrain-logloss:0.29845\teval-logloss:0.30073\n",
      "[73]\ttrain-logloss:0.29797\teval-logloss:0.30028\n",
      "[74]\ttrain-logloss:0.29767\teval-logloss:0.30002\n",
      "[75]\ttrain-logloss:0.29737\teval-logloss:0.29969\n",
      "[76]\ttrain-logloss:0.29707\teval-logloss:0.29946\n",
      "[77]\ttrain-logloss:0.29680\teval-logloss:0.29923\n",
      "[78]\ttrain-logloss:0.29653\teval-logloss:0.29901\n",
      "[79]\ttrain-logloss:0.29618\teval-logloss:0.29869\n",
      "[80]\ttrain-logloss:0.29583\teval-logloss:0.29842\n",
      "[81]\ttrain-logloss:0.29563\teval-logloss:0.29821\n",
      "[82]\ttrain-logloss:0.29538\teval-logloss:0.29798\n",
      "[83]\ttrain-logloss:0.29511\teval-logloss:0.29780\n",
      "[84]\ttrain-logloss:0.29487\teval-logloss:0.29761\n",
      "[85]\ttrain-logloss:0.29465\teval-logloss:0.29737\n",
      "[86]\ttrain-logloss:0.29443\teval-logloss:0.29712\n",
      "[87]\ttrain-logloss:0.29422\teval-logloss:0.29696\n",
      "[88]\ttrain-logloss:0.29399\teval-logloss:0.29679\n",
      "[89]\ttrain-logloss:0.29379\teval-logloss:0.29660\n",
      "[90]\ttrain-logloss:0.29344\teval-logloss:0.29631\n",
      "[91]\ttrain-logloss:0.29328\teval-logloss:0.29617\n",
      "[92]\ttrain-logloss:0.29306\teval-logloss:0.29595\n",
      "[93]\ttrain-logloss:0.29291\teval-logloss:0.29581\n",
      "[94]\ttrain-logloss:0.29261\teval-logloss:0.29555\n",
      "[95]\ttrain-logloss:0.29245\teval-logloss:0.29537\n",
      "[96]\ttrain-logloss:0.29231\teval-logloss:0.29522\n",
      "[97]\ttrain-logloss:0.29207\teval-logloss:0.29504\n",
      "[98]\ttrain-logloss:0.29194\teval-logloss:0.29493\n",
      "[99]\ttrain-logloss:0.29176\teval-logloss:0.29475\n",
      "[100]\ttrain-logloss:0.29152\teval-logloss:0.29452\n",
      "[101]\ttrain-logloss:0.29140\teval-logloss:0.29442\n",
      "[102]\ttrain-logloss:0.29115\teval-logloss:0.29416\n",
      "[103]\ttrain-logloss:0.29084\teval-logloss:0.29384\n",
      "[104]\ttrain-logloss:0.29071\teval-logloss:0.29375\n",
      "[105]\ttrain-logloss:0.29060\teval-logloss:0.29363\n",
      "[106]\ttrain-logloss:0.29046\teval-logloss:0.29352\n",
      "[107]\ttrain-logloss:0.29033\teval-logloss:0.29339\n",
      "[108]\ttrain-logloss:0.29018\teval-logloss:0.29322\n",
      "[109]\ttrain-logloss:0.29007\teval-logloss:0.29314\n",
      "[110]\ttrain-logloss:0.28989\teval-logloss:0.29300\n",
      "[111]\ttrain-logloss:0.28979\teval-logloss:0.29289\n",
      "[112]\ttrain-logloss:0.28961\teval-logloss:0.29277\n",
      "[113]\ttrain-logloss:0.28949\teval-logloss:0.29264\n",
      "[114]\ttrain-logloss:0.28941\teval-logloss:0.29257\n",
      "[115]\ttrain-logloss:0.28921\teval-logloss:0.29235\n",
      "[116]\ttrain-logloss:0.28897\teval-logloss:0.29214\n",
      "[117]\ttrain-logloss:0.28888\teval-logloss:0.29205\n",
      "[118]\ttrain-logloss:0.28865\teval-logloss:0.29188\n",
      "[119]\ttrain-logloss:0.28857\teval-logloss:0.29180\n",
      "[120]\ttrain-logloss:0.28844\teval-logloss:0.29161\n",
      "[121]\ttrain-logloss:0.28833\teval-logloss:0.29149\n",
      "[122]\ttrain-logloss:0.28822\teval-logloss:0.29140\n",
      "[123]\ttrain-logloss:0.28809\teval-logloss:0.29130\n",
      "[124]\ttrain-logloss:0.28802\teval-logloss:0.29123\n",
      "[125]\ttrain-logloss:0.28781\teval-logloss:0.29109\n",
      "[126]\ttrain-logloss:0.28767\teval-logloss:0.29095\n",
      "[127]\ttrain-logloss:0.28759\teval-logloss:0.29087\n",
      "[128]\ttrain-logloss:0.28751\teval-logloss:0.29079\n",
      "[129]\ttrain-logloss:0.28739\teval-logloss:0.29071\n",
      "[130]\ttrain-logloss:0.28731\teval-logloss:0.29065\n",
      "[131]\ttrain-logloss:0.28719\teval-logloss:0.29056\n",
      "[132]\ttrain-logloss:0.28701\teval-logloss:0.29042\n",
      "[133]\ttrain-logloss:0.28692\teval-logloss:0.29033\n",
      "[134]\ttrain-logloss:0.28681\teval-logloss:0.29020\n",
      "[135]\ttrain-logloss:0.28672\teval-logloss:0.29007\n",
      "[136]\ttrain-logloss:0.28665\teval-logloss:0.28997\n",
      "[137]\ttrain-logloss:0.28653\teval-logloss:0.28987\n",
      "[138]\ttrain-logloss:0.28642\teval-logloss:0.28978\n",
      "[139]\ttrain-logloss:0.28629\teval-logloss:0.28968\n",
      "[140]\ttrain-logloss:0.28619\teval-logloss:0.28954\n",
      "[141]\ttrain-logloss:0.28610\teval-logloss:0.28948\n",
      "[142]\ttrain-logloss:0.28596\teval-logloss:0.28937\n",
      "[143]\ttrain-logloss:0.28588\teval-logloss:0.28928\n",
      "[144]\ttrain-logloss:0.28580\teval-logloss:0.28918\n",
      "[145]\ttrain-logloss:0.28571\teval-logloss:0.28913\n",
      "[146]\ttrain-logloss:0.28564\teval-logloss:0.28902\n",
      "[147]\ttrain-logloss:0.28556\teval-logloss:0.28895\n",
      "[148]\ttrain-logloss:0.28542\teval-logloss:0.28884\n",
      "[149]\ttrain-logloss:0.28534\teval-logloss:0.28879\n",
      "[150]\ttrain-logloss:0.28526\teval-logloss:0.28869\n",
      "[151]\ttrain-logloss:0.28521\teval-logloss:0.28864\n",
      "[152]\ttrain-logloss:0.28512\teval-logloss:0.28856\n",
      "[153]\ttrain-logloss:0.28502\teval-logloss:0.28848\n",
      "[154]\ttrain-logloss:0.28491\teval-logloss:0.28838\n",
      "[155]\ttrain-logloss:0.28479\teval-logloss:0.28826\n",
      "[156]\ttrain-logloss:0.28472\teval-logloss:0.28819\n",
      "[157]\ttrain-logloss:0.28458\teval-logloss:0.28804\n",
      "[158]\ttrain-logloss:0.28453\teval-logloss:0.28800\n",
      "[159]\ttrain-logloss:0.28437\teval-logloss:0.28785\n",
      "[160]\ttrain-logloss:0.28427\teval-logloss:0.28774\n",
      "[161]\ttrain-logloss:0.28422\teval-logloss:0.28768\n"
     ]
    },
    {
     "name": "stdout",
     "output_type": "stream",
     "text": [
      "[162]\ttrain-logloss:0.28417\teval-logloss:0.28763\n",
      "[163]\ttrain-logloss:0.28407\teval-logloss:0.28754\n",
      "[164]\ttrain-logloss:0.28399\teval-logloss:0.28743\n",
      "[165]\ttrain-logloss:0.28394\teval-logloss:0.28738\n",
      "[166]\ttrain-logloss:0.28384\teval-logloss:0.28730\n",
      "[167]\ttrain-logloss:0.28373\teval-logloss:0.28720\n",
      "[168]\ttrain-logloss:0.28366\teval-logloss:0.28714\n",
      "[169]\ttrain-logloss:0.28362\teval-logloss:0.28709\n",
      "[170]\ttrain-logloss:0.28355\teval-logloss:0.28702\n",
      "[171]\ttrain-logloss:0.28351\teval-logloss:0.28699\n",
      "[172]\ttrain-logloss:0.28341\teval-logloss:0.28693\n",
      "[173]\ttrain-logloss:0.28330\teval-logloss:0.28689\n",
      "[174]\ttrain-logloss:0.28314\teval-logloss:0.28675\n",
      "[175]\ttrain-logloss:0.28300\teval-logloss:0.28661\n",
      "[176]\ttrain-logloss:0.28293\teval-logloss:0.28653\n",
      "[177]\ttrain-logloss:0.28288\teval-logloss:0.28647\n",
      "[178]\ttrain-logloss:0.28283\teval-logloss:0.28640\n",
      "[179]\ttrain-logloss:0.28277\teval-logloss:0.28635\n",
      "[180]\ttrain-logloss:0.28271\teval-logloss:0.28626\n",
      "[181]\ttrain-logloss:0.28267\teval-logloss:0.28621\n",
      "[182]\ttrain-logloss:0.28263\teval-logloss:0.28615\n",
      "[183]\ttrain-logloss:0.28255\teval-logloss:0.28607\n",
      "[184]\ttrain-logloss:0.28248\teval-logloss:0.28603\n",
      "[185]\ttrain-logloss:0.28241\teval-logloss:0.28597\n",
      "[186]\ttrain-logloss:0.28237\teval-logloss:0.28595\n",
      "[187]\ttrain-logloss:0.28234\teval-logloss:0.28593\n",
      "[188]\ttrain-logloss:0.28230\teval-logloss:0.28590\n",
      "[189]\ttrain-logloss:0.28223\teval-logloss:0.28580\n",
      "[190]\ttrain-logloss:0.28214\teval-logloss:0.28572\n",
      "[191]\ttrain-logloss:0.28208\teval-logloss:0.28568\n",
      "[192]\ttrain-logloss:0.28203\teval-logloss:0.28563\n",
      "[193]\ttrain-logloss:0.28194\teval-logloss:0.28554\n",
      "[194]\ttrain-logloss:0.28184\teval-logloss:0.28547\n",
      "[195]\ttrain-logloss:0.28179\teval-logloss:0.28538\n",
      "[196]\ttrain-logloss:0.28173\teval-logloss:0.28531\n",
      "[197]\ttrain-logloss:0.28171\teval-logloss:0.28529\n",
      "[198]\ttrain-logloss:0.28164\teval-logloss:0.28517\n",
      "[199]\ttrain-logloss:0.28158\teval-logloss:0.28515\n",
      "[200]\ttrain-logloss:0.28152\teval-logloss:0.28511\n",
      "[201]\ttrain-logloss:0.28136\teval-logloss:0.28497\n",
      "[202]\ttrain-logloss:0.28131\teval-logloss:0.28492\n",
      "[203]\ttrain-logloss:0.28122\teval-logloss:0.28488\n",
      "[204]\ttrain-logloss:0.28109\teval-logloss:0.28475\n",
      "[205]\ttrain-logloss:0.28099\teval-logloss:0.28462\n",
      "[206]\ttrain-logloss:0.28095\teval-logloss:0.28456\n",
      "[207]\ttrain-logloss:0.28089\teval-logloss:0.28448\n",
      "[208]\ttrain-logloss:0.28086\teval-logloss:0.28446\n",
      "[209]\ttrain-logloss:0.28081\teval-logloss:0.28442\n",
      "[210]\ttrain-logloss:0.28078\teval-logloss:0.28440\n",
      "[211]\ttrain-logloss:0.28070\teval-logloss:0.28430\n",
      "[212]\ttrain-logloss:0.28068\teval-logloss:0.28424\n",
      "[213]\ttrain-logloss:0.28063\teval-logloss:0.28419\n",
      "[214]\ttrain-logloss:0.28060\teval-logloss:0.28417\n",
      "[215]\ttrain-logloss:0.28056\teval-logloss:0.28414\n",
      "[216]\ttrain-logloss:0.28048\teval-logloss:0.28406\n",
      "[217]\ttrain-logloss:0.28043\teval-logloss:0.28397\n",
      "[218]\ttrain-logloss:0.28037\teval-logloss:0.28391\n",
      "[219]\ttrain-logloss:0.28029\teval-logloss:0.28384\n",
      "[220]\ttrain-logloss:0.28013\teval-logloss:0.28373\n",
      "[221]\ttrain-logloss:0.28006\teval-logloss:0.28367\n",
      "[222]\ttrain-logloss:0.28004\teval-logloss:0.28366\n",
      "[223]\ttrain-logloss:0.27997\teval-logloss:0.28360\n",
      "[224]\ttrain-logloss:0.27994\teval-logloss:0.28357\n",
      "[225]\ttrain-logloss:0.27990\teval-logloss:0.28353\n",
      "[226]\ttrain-logloss:0.27983\teval-logloss:0.28344\n",
      "[227]\ttrain-logloss:0.27980\teval-logloss:0.28341\n",
      "[228]\ttrain-logloss:0.27974\teval-logloss:0.28338\n",
      "[229]\ttrain-logloss:0.27972\teval-logloss:0.28337\n",
      "[230]\ttrain-logloss:0.27967\teval-logloss:0.28329\n",
      "[231]\ttrain-logloss:0.27963\teval-logloss:0.28324\n",
      "[232]\ttrain-logloss:0.27958\teval-logloss:0.28321\n",
      "[233]\ttrain-logloss:0.27952\teval-logloss:0.28315\n",
      "[234]\ttrain-logloss:0.27947\teval-logloss:0.28311\n",
      "[235]\ttrain-logloss:0.27937\teval-logloss:0.28300\n",
      "[236]\ttrain-logloss:0.27925\teval-logloss:0.28287\n",
      "[237]\ttrain-logloss:0.27920\teval-logloss:0.28283\n",
      "[238]\ttrain-logloss:0.27908\teval-logloss:0.28271\n",
      "[239]\ttrain-logloss:0.27895\teval-logloss:0.28253\n",
      "[240]\ttrain-logloss:0.27889\teval-logloss:0.28250\n",
      "[241]\ttrain-logloss:0.27888\teval-logloss:0.28247\n",
      "[242]\ttrain-logloss:0.27886\teval-logloss:0.28246\n",
      "[243]\ttrain-logloss:0.27884\teval-logloss:0.28244\n",
      "[244]\ttrain-logloss:0.27881\teval-logloss:0.28240\n",
      "[245]\ttrain-logloss:0.27876\teval-logloss:0.28237\n",
      "[246]\ttrain-logloss:0.27872\teval-logloss:0.28231\n",
      "[247]\ttrain-logloss:0.27870\teval-logloss:0.28229\n",
      "[248]\ttrain-logloss:0.27866\teval-logloss:0.28226\n",
      "[249]\ttrain-logloss:0.27864\teval-logloss:0.28224\n",
      "[250]\ttrain-logloss:0.27861\teval-logloss:0.28221\n",
      "[251]\ttrain-logloss:0.27856\teval-logloss:0.28215\n",
      "[252]\ttrain-logloss:0.27847\teval-logloss:0.28207\n",
      "[253]\ttrain-logloss:0.27843\teval-logloss:0.28204\n",
      "[254]\ttrain-logloss:0.27841\teval-logloss:0.28200\n",
      "[255]\ttrain-logloss:0.27837\teval-logloss:0.28197\n",
      "[256]\ttrain-logloss:0.27834\teval-logloss:0.28196\n",
      "[257]\ttrain-logloss:0.27829\teval-logloss:0.28188\n",
      "[258]\ttrain-logloss:0.27822\teval-logloss:0.28183\n",
      "[259]\ttrain-logloss:0.27821\teval-logloss:0.28181\n",
      "[260]\ttrain-logloss:0.27817\teval-logloss:0.28177\n",
      "[261]\ttrain-logloss:0.27813\teval-logloss:0.28174\n",
      "[262]\ttrain-logloss:0.27804\teval-logloss:0.28161\n",
      "[263]\ttrain-logloss:0.27802\teval-logloss:0.28159\n",
      "[264]\ttrain-logloss:0.27791\teval-logloss:0.28148\n",
      "[265]\ttrain-logloss:0.27783\teval-logloss:0.28141\n",
      "[266]\ttrain-logloss:0.27777\teval-logloss:0.28135\n",
      "[267]\ttrain-logloss:0.27765\teval-logloss:0.28123\n",
      "[268]\ttrain-logloss:0.27760\teval-logloss:0.28122\n",
      "[269]\ttrain-logloss:0.27758\teval-logloss:0.28119\n",
      "[270]\ttrain-logloss:0.27757\teval-logloss:0.28118\n",
      "[271]\ttrain-logloss:0.27753\teval-logloss:0.28109\n",
      "[272]\ttrain-logloss:0.27749\teval-logloss:0.28106\n",
      "[273]\ttrain-logloss:0.27746\teval-logloss:0.28103\n",
      "[274]\ttrain-logloss:0.27740\teval-logloss:0.28097\n",
      "[275]\ttrain-logloss:0.27737\teval-logloss:0.28093\n",
      "[276]\ttrain-logloss:0.27730\teval-logloss:0.28087\n",
      "[277]\ttrain-logloss:0.27727\teval-logloss:0.28085\n",
      "[278]\ttrain-logloss:0.27717\teval-logloss:0.28077\n",
      "[279]\ttrain-logloss:0.27714\teval-logloss:0.28074\n",
      "[280]\ttrain-logloss:0.27710\teval-logloss:0.28069\n",
      "[281]\ttrain-logloss:0.27707\teval-logloss:0.28067\n",
      "[282]\ttrain-logloss:0.27701\teval-logloss:0.28064\n",
      "[283]\ttrain-logloss:0.27700\teval-logloss:0.28063\n",
      "[284]\ttrain-logloss:0.27694\teval-logloss:0.28060\n",
      "[285]\ttrain-logloss:0.27690\teval-logloss:0.28053\n",
      "[286]\ttrain-logloss:0.27687\teval-logloss:0.28049\n",
      "[287]\ttrain-logloss:0.27683\teval-logloss:0.28048\n",
      "[288]\ttrain-logloss:0.27681\teval-logloss:0.28048\n",
      "[289]\ttrain-logloss:0.27669\teval-logloss:0.28038\n",
      "[290]\ttrain-logloss:0.27666\teval-logloss:0.28035\n",
      "[291]\ttrain-logloss:0.27661\teval-logloss:0.28032\n",
      "[292]\ttrain-logloss:0.27641\teval-logloss:0.28022\n",
      "[293]\ttrain-logloss:0.27636\teval-logloss:0.28017\n",
      "[294]\ttrain-logloss:0.27628\teval-logloss:0.28009\n",
      "[295]\ttrain-logloss:0.27621\teval-logloss:0.28005\n",
      "[296]\ttrain-logloss:0.27619\teval-logloss:0.28005\n",
      "[297]\ttrain-logloss:0.27615\teval-logloss:0.28002\n",
      "[298]\ttrain-logloss:0.27609\teval-logloss:0.27998\n",
      "[299]\ttrain-logloss:0.27605\teval-logloss:0.27988\n",
      "[300]\ttrain-logloss:0.27602\teval-logloss:0.27987\n",
      "[301]\ttrain-logloss:0.27601\teval-logloss:0.27987\n",
      "[302]\ttrain-logloss:0.27599\teval-logloss:0.27986\n",
      "[303]\ttrain-logloss:0.27598\teval-logloss:0.27982\n",
      "[304]\ttrain-logloss:0.27596\teval-logloss:0.27979\n",
      "[305]\ttrain-logloss:0.27583\teval-logloss:0.27971\n",
      "[306]\ttrain-logloss:0.27581\teval-logloss:0.27971\n",
      "[307]\ttrain-logloss:0.27581\teval-logloss:0.27971\n",
      "[308]\ttrain-logloss:0.27579\teval-logloss:0.27969\n",
      "[309]\ttrain-logloss:0.27577\teval-logloss:0.27968\n",
      "[310]\ttrain-logloss:0.27575\teval-logloss:0.27966\n",
      "[311]\ttrain-logloss:0.27573\teval-logloss:0.27965\n",
      "[312]\ttrain-logloss:0.27570\teval-logloss:0.27962\n",
      "[313]\ttrain-logloss:0.27565\teval-logloss:0.27952\n",
      "[314]\ttrain-logloss:0.27556\teval-logloss:0.27945\n",
      "[315]\ttrain-logloss:0.27549\teval-logloss:0.27936\n",
      "[316]\ttrain-logloss:0.27547\teval-logloss:0.27934\n",
      "[317]\ttrain-logloss:0.27546\teval-logloss:0.27932\n",
      "[318]\ttrain-logloss:0.27540\teval-logloss:0.27927\n",
      "[319]\ttrain-logloss:0.27538\teval-logloss:0.27925\n",
      "[320]\ttrain-logloss:0.27535\teval-logloss:0.27921\n",
      "[321]\ttrain-logloss:0.27532\teval-logloss:0.27919\n",
      "[322]\ttrain-logloss:0.27529\teval-logloss:0.27915\n",
      "[323]\ttrain-logloss:0.27526\teval-logloss:0.27910\n",
      "[324]\ttrain-logloss:0.27521\teval-logloss:0.27903\n",
      "[325]\ttrain-logloss:0.27517\teval-logloss:0.27901\n",
      "[326]\ttrain-logloss:0.27515\teval-logloss:0.27896\n",
      "[327]\ttrain-logloss:0.27514\teval-logloss:0.27896\n",
      "[328]\ttrain-logloss:0.27511\teval-logloss:0.27894\n",
      "[329]\ttrain-logloss:0.27510\teval-logloss:0.27891\n"
     ]
    },
    {
     "name": "stdout",
     "output_type": "stream",
     "text": [
      "[330]\ttrain-logloss:0.27509\teval-logloss:0.27891\n",
      "[331]\ttrain-logloss:0.27505\teval-logloss:0.27884\n",
      "[332]\ttrain-logloss:0.27502\teval-logloss:0.27881\n",
      "[333]\ttrain-logloss:0.27494\teval-logloss:0.27875\n",
      "[334]\ttrain-logloss:0.27491\teval-logloss:0.27873\n",
      "[335]\ttrain-logloss:0.27485\teval-logloss:0.27866\n",
      "[336]\ttrain-logloss:0.27482\teval-logloss:0.27862\n",
      "[337]\ttrain-logloss:0.27476\teval-logloss:0.27857\n",
      "[338]\ttrain-logloss:0.27466\teval-logloss:0.27843\n",
      "[339]\ttrain-logloss:0.27454\teval-logloss:0.27832\n",
      "[340]\ttrain-logloss:0.27451\teval-logloss:0.27829\n",
      "[341]\ttrain-logloss:0.27449\teval-logloss:0.27828\n",
      "[342]\ttrain-logloss:0.27446\teval-logloss:0.27823\n",
      "[343]\ttrain-logloss:0.27444\teval-logloss:0.27823\n",
      "[344]\ttrain-logloss:0.27441\teval-logloss:0.27819\n",
      "[345]\ttrain-logloss:0.27438\teval-logloss:0.27816\n",
      "[346]\ttrain-logloss:0.27433\teval-logloss:0.27811\n",
      "[347]\ttrain-logloss:0.27430\teval-logloss:0.27808\n",
      "[348]\ttrain-logloss:0.27428\teval-logloss:0.27805\n",
      "[349]\ttrain-logloss:0.27426\teval-logloss:0.27801\n",
      "[350]\ttrain-logloss:0.27414\teval-logloss:0.27790\n",
      "[351]\ttrain-logloss:0.27407\teval-logloss:0.27779\n",
      "[352]\ttrain-logloss:0.27400\teval-logloss:0.27771\n",
      "[353]\ttrain-logloss:0.27391\teval-logloss:0.27761\n",
      "[354]\ttrain-logloss:0.27385\teval-logloss:0.27754\n",
      "[355]\ttrain-logloss:0.27380\teval-logloss:0.27745\n",
      "[356]\ttrain-logloss:0.27378\teval-logloss:0.27743\n",
      "[357]\ttrain-logloss:0.27376\teval-logloss:0.27742\n",
      "[358]\ttrain-logloss:0.27373\teval-logloss:0.27742\n",
      "[359]\ttrain-logloss:0.27371\teval-logloss:0.27738\n",
      "[360]\ttrain-logloss:0.27369\teval-logloss:0.27736\n",
      "[361]\ttrain-logloss:0.27360\teval-logloss:0.27727\n",
      "[362]\ttrain-logloss:0.27357\teval-logloss:0.27726\n",
      "[363]\ttrain-logloss:0.27353\teval-logloss:0.27724\n",
      "[364]\ttrain-logloss:0.27352\teval-logloss:0.27724\n",
      "[365]\ttrain-logloss:0.27348\teval-logloss:0.27721\n",
      "[366]\ttrain-logloss:0.27344\teval-logloss:0.27718\n",
      "[367]\ttrain-logloss:0.27336\teval-logloss:0.27708\n",
      "[368]\ttrain-logloss:0.27327\teval-logloss:0.27698\n",
      "[369]\ttrain-logloss:0.27322\teval-logloss:0.27692\n",
      "[370]\ttrain-logloss:0.27321\teval-logloss:0.27691\n",
      "[371]\ttrain-logloss:0.27314\teval-logloss:0.27681\n",
      "[372]\ttrain-logloss:0.27308\teval-logloss:0.27677\n",
      "[373]\ttrain-logloss:0.27304\teval-logloss:0.27672\n",
      "[374]\ttrain-logloss:0.27301\teval-logloss:0.27668\n",
      "[375]\ttrain-logloss:0.27296\teval-logloss:0.27657\n",
      "[376]\ttrain-logloss:0.27295\teval-logloss:0.27656\n",
      "[377]\ttrain-logloss:0.27293\teval-logloss:0.27655\n",
      "[378]\ttrain-logloss:0.27288\teval-logloss:0.27650\n",
      "[379]\ttrain-logloss:0.27286\teval-logloss:0.27650\n",
      "[380]\ttrain-logloss:0.27282\teval-logloss:0.27646\n",
      "[381]\ttrain-logloss:0.27277\teval-logloss:0.27640\n",
      "[382]\ttrain-logloss:0.27275\teval-logloss:0.27639\n",
      "[383]\ttrain-logloss:0.27274\teval-logloss:0.27638\n",
      "[384]\ttrain-logloss:0.27273\teval-logloss:0.27638\n",
      "[385]\ttrain-logloss:0.27272\teval-logloss:0.27637\n",
      "[386]\ttrain-logloss:0.27269\teval-logloss:0.27634\n",
      "[387]\ttrain-logloss:0.27266\teval-logloss:0.27631\n",
      "[388]\ttrain-logloss:0.27256\teval-logloss:0.27624\n",
      "[389]\ttrain-logloss:0.27253\teval-logloss:0.27621\n",
      "[390]\ttrain-logloss:0.27252\teval-logloss:0.27621\n",
      "[391]\ttrain-logloss:0.27249\teval-logloss:0.27620\n",
      "[392]\ttrain-logloss:0.27242\teval-logloss:0.27613\n",
      "[393]\ttrain-logloss:0.27235\teval-logloss:0.27607\n",
      "[394]\ttrain-logloss:0.27225\teval-logloss:0.27593\n",
      "[395]\ttrain-logloss:0.27220\teval-logloss:0.27586\n",
      "[396]\ttrain-logloss:0.27217\teval-logloss:0.27585\n",
      "[397]\ttrain-logloss:0.27214\teval-logloss:0.27581\n",
      "[398]\ttrain-logloss:0.27211\teval-logloss:0.27579\n",
      "[399]\ttrain-logloss:0.27207\teval-logloss:0.27574\n"
     ]
    }
   ],
   "source": [
    "# train 데이터 세트는 'train', evaluation(test) 데이터 세트는 'eval'로 명기\n",
    "wlist = [(dtrain, 'train'),(dtest, 'eval')]\n",
    "# 하이퍼 파라미터와 early stoppinig 파라미터를 train() 함수의 파라미터로 전달\n",
    "xgb_model = xgb.train(params=params, dtrain=dtrain, num_boost_round=num_rounds, evals=wlist)"
   ]
  },
  {
   "cell_type": "code",
   "execution_count": 55,
   "metadata": {},
   "outputs": [
    {
     "name": "stdout",
     "output_type": "stream",
     "text": [
      "[0.094 0.475 0.999 1.    0.969 0.543 0.582 0.269 0.087 0.293]\n"
     ]
    }
   ],
   "source": [
    "pred_probs = xgb_model.predict(dtest)\n",
    "print(np.round(pred_probs[:10], 3))\n",
    "\n",
    "preds = [1 if x > 0.5 else 0 for x in pred_probs]"
   ]
  },
  {
   "cell_type": "code",
   "execution_count": 40,
   "metadata": {},
   "outputs": [],
   "source": [
    "def get_clf_eval(Y_test, pred):\n",
    "    confusion = confusion_matrix(Y_test, pred)\n",
    "    accuracy = accuracy_score(Y_test, pred)\n",
    "    precision = precision_score(Y_test, pred)\n",
    "    recall = recall_score(Y_test, pred)\n",
    "    print('오차행렬')\n",
    "    print(confusion)\n",
    "    print('정확도: {0:.4f}, 정밀도: {1:.4f}, 재현율: {2:.4f}'.format(accuracy, precision, recall))"
   ]
  },
  {
   "cell_type": "code",
   "execution_count": 57,
   "metadata": {},
   "outputs": [
    {
     "name": "stdout",
     "output_type": "stream",
     "text": [
      "오차행렬\n",
      "[[2231  470]\n",
      " [ 694 4746]]\n",
      "정확도: 0.8570, 정밀도: 0.9099, 재현율: 0.8724\n"
     ]
    }
   ],
   "source": [
    "get_clf_eval(Y_test, preds)"
   ]
  },
  {
   "cell_type": "markdown",
   "metadata": {},
   "source": [
    "# LightGBM"
   ]
  },
  {
   "cell_type": "code",
   "execution_count": 38,
   "metadata": {},
   "outputs": [
    {
     "name": "stdout",
     "output_type": "stream",
     "text": [
      "[1]\tvalid_0's l2: 0.235838\tvalid_0's binary_logloss: 0.664803\n",
      "[2]\tvalid_0's l2: 0.223087\tvalid_0's binary_logloss: 0.639171\n",
      "[3]\tvalid_0's l2: 0.211742\tvalid_0's binary_logloss: 0.616176\n",
      "[4]\tvalid_0's l2: 0.201415\tvalid_0's binary_logloss: 0.595007\n",
      "[5]\tvalid_0's l2: 0.192208\tvalid_0's binary_logloss: 0.575853\n",
      "[6]\tvalid_0's l2: 0.183842\tvalid_0's binary_logloss: 0.558153\n",
      "[7]\tvalid_0's l2: 0.176214\tvalid_0's binary_logloss: 0.541709\n",
      "[8]\tvalid_0's l2: 0.179368\tvalid_0's binary_logloss: 0.548554\n",
      "[9]\tvalid_0's l2: 0.172231\tvalid_0's binary_logloss: 0.532978\n",
      "[10]\tvalid_0's l2: 0.16585\tvalid_0's binary_logloss: 0.518731\n",
      "[11]\tvalid_0's l2: 0.160116\tvalid_0's binary_logloss: 0.505618\n",
      "[12]\tvalid_0's l2: 0.162368\tvalid_0's binary_logloss: 0.510812\n",
      "[13]\tvalid_0's l2: 0.156727\tvalid_0's binary_logloss: 0.497768\n",
      "[14]\tvalid_0's l2: 0.15188\tvalid_0's binary_logloss: 0.486195\n",
      "[15]\tvalid_0's l2: 0.147336\tvalid_0's binary_logloss: 0.475109\n",
      "[16]\tvalid_0's l2: 0.143122\tvalid_0's binary_logloss: 0.464559\n",
      "[17]\tvalid_0's l2: 0.13955\tvalid_0's binary_logloss: 0.455247\n",
      "[18]\tvalid_0's l2: 0.136293\tvalid_0's binary_logloss: 0.4465\n",
      "[19]\tvalid_0's l2: 0.133402\tvalid_0's binary_logloss: 0.438454\n",
      "[20]\tvalid_0's l2: 0.130764\tvalid_0's binary_logloss: 0.430883\n",
      "[21]\tvalid_0's l2: 0.131756\tvalid_0's binary_logloss: 0.433787\n",
      "[22]\tvalid_0's l2: 0.129203\tvalid_0's binary_logloss: 0.42637\n",
      "[23]\tvalid_0's l2: 0.126797\tvalid_0's binary_logloss: 0.419223\n",
      "[24]\tvalid_0's l2: 0.124668\tvalid_0's binary_logloss: 0.412634\n",
      "[25]\tvalid_0's l2: 0.122755\tvalid_0's binary_logloss: 0.406482\n",
      "[26]\tvalid_0's l2: 0.121079\tvalid_0's binary_logloss: 0.400841\n",
      "[27]\tvalid_0's l2: 0.119505\tvalid_0's binary_logloss: 0.395457\n",
      "[28]\tvalid_0's l2: 0.12034\tvalid_0's binary_logloss: 0.398374\n",
      "[29]\tvalid_0's l2: 0.11889\tvalid_0's binary_logloss: 0.393229\n",
      "[30]\tvalid_0's l2: 0.117452\tvalid_0's binary_logloss: 0.388139\n",
      "[31]\tvalid_0's l2: 0.117938\tvalid_0's binary_logloss: 0.389917\n",
      "[32]\tvalid_0's l2: 0.116529\tvalid_0's binary_logloss: 0.38487\n",
      "[33]\tvalid_0's l2: 0.11529\tvalid_0's binary_logloss: 0.380247\n",
      "[34]\tvalid_0's l2: 0.11429\tvalid_0's binary_logloss: 0.376189\n",
      "[35]\tvalid_0's l2: 0.115052\tvalid_0's binary_logloss: 0.379347\n",
      "[36]\tvalid_0's l2: 0.116431\tvalid_0's binary_logloss: 0.384834\n",
      "[37]\tvalid_0's l2: 0.115166\tvalid_0's binary_logloss: 0.380184\n",
      "[38]\tvalid_0's l2: 0.114056\tvalid_0's binary_logloss: 0.375863\n",
      "[39]\tvalid_0's l2: 0.113076\tvalid_0's binary_logloss: 0.371832\n",
      "[40]\tvalid_0's l2: 0.113016\tvalid_0's binary_logloss: 0.371744\n",
      "[41]\tvalid_0's l2: 0.113887\tvalid_0's binary_logloss: 0.375425\n",
      "[42]\tvalid_0's l2: 0.112837\tvalid_0's binary_logloss: 0.371282"
     ]
    },
    {
     "name": "stderr",
     "output_type": "stream",
     "text": [
      "C:\\Users\\020\\anaconda3\\lib\\site-packages\\lightgbm\\callback.py:189: UserWarning: Early stopping is not available in dart mode\n",
      "  warnings.warn('Early stopping is not available in dart mode')\n"
     ]
    },
    {
     "name": "stdout",
     "output_type": "stream",
     "text": [
      "\n",
      "[43]\tvalid_0's l2: 0.113585\tvalid_0's binary_logloss: 0.374402\n",
      "[44]\tvalid_0's l2: 0.112727\tvalid_0's binary_logloss: 0.370675\n",
      "[45]\tvalid_0's l2: 0.111855\tvalid_0's binary_logloss: 0.366962\n",
      "[46]\tvalid_0's l2: 0.123508\tvalid_0's binary_logloss: 0.40556\n",
      "[47]\tvalid_0's l2: 0.121652\tvalid_0's binary_logloss: 0.3997\n",
      "[48]\tvalid_0's l2: 0.121563\tvalid_0's binary_logloss: 0.399615\n",
      "[49]\tvalid_0's l2: 0.12251\tvalid_0's binary_logloss: 0.403013\n",
      "[50]\tvalid_0's l2: 0.123656\tvalid_0's binary_logloss: 0.406924\n",
      "[51]\tvalid_0's l2: 0.121842\tvalid_0's binary_logloss: 0.401114\n",
      "[52]\tvalid_0's l2: 0.120126\tvalid_0's binary_logloss: 0.395505\n",
      "[53]\tvalid_0's l2: 0.121154\tvalid_0's binary_logloss: 0.39915\n",
      "[54]\tvalid_0's l2: 0.119477\tvalid_0's binary_logloss: 0.39366\n",
      "[55]\tvalid_0's l2: 0.117951\tvalid_0's binary_logloss: 0.388457\n",
      "[56]\tvalid_0's l2: 0.119043\tvalid_0's binary_logloss: 0.39261\n",
      "[57]\tvalid_0's l2: 0.117621\tvalid_0's binary_logloss: 0.387615\n",
      "[58]\tvalid_0's l2: 0.133917\tvalid_0's binary_logloss: 0.432536\n",
      "[59]\tvalid_0's l2: 0.135303\tvalid_0's binary_logloss: 0.43676\n",
      "[60]\tvalid_0's l2: 0.132345\tvalid_0's binary_logloss: 0.428775\n",
      "[61]\tvalid_0's l2: 0.151461\tvalid_0's binary_logloss: 0.479777\n",
      "[62]\tvalid_0's l2: 0.147064\tvalid_0's binary_logloss: 0.46891\n",
      "[63]\tvalid_0's l2: 0.143057\tvalid_0's binary_logloss: 0.458725\n",
      "[64]\tvalid_0's l2: 0.14377\tvalid_0's binary_logloss: 0.457443\n",
      "[65]\tvalid_0's l2: 0.144752\tvalid_0's binary_logloss: 0.459822\n",
      "[66]\tvalid_0's l2: 0.140925\tvalid_0's binary_logloss: 0.450082\n",
      "[67]\tvalid_0's l2: 0.137556\tvalid_0's binary_logloss: 0.441235\n",
      "[68]\tvalid_0's l2: 0.134388\tvalid_0's binary_logloss: 0.432722\n",
      "[69]\tvalid_0's l2: 0.135243\tvalid_0's binary_logloss: 0.435217\n",
      "[70]\tvalid_0's l2: 0.135561\tvalid_0's binary_logloss: 0.436216\n",
      "[71]\tvalid_0's l2: 0.136198\tvalid_0's binary_logloss: 0.438296\n",
      "[72]\tvalid_0's l2: 0.133217\tvalid_0's binary_logloss: 0.43024\n",
      "[73]\tvalid_0's l2: 0.130492\tvalid_0's binary_logloss: 0.422713\n",
      "[74]\tvalid_0's l2: 0.131237\tvalid_0's binary_logloss: 0.424943\n",
      "[75]\tvalid_0's l2: 0.128706\tvalid_0's binary_logloss: 0.417753\n",
      "[76]\tvalid_0's l2: 0.128826\tvalid_0's binary_logloss: 0.418167\n",
      "[77]\tvalid_0's l2: 0.129474\tvalid_0's binary_logloss: 0.420207\n",
      "[78]\tvalid_0's l2: 0.130448\tvalid_0's binary_logloss: 0.423248\n",
      "[79]\tvalid_0's l2: 0.128014\tvalid_0's binary_logloss: 0.416264\n",
      "[80]\tvalid_0's l2: 0.125787\tvalid_0's binary_logloss: 0.409749\n",
      "[81]\tvalid_0's l2: 0.126731\tvalid_0's binary_logloss: 0.412769\n",
      "[82]\tvalid_0's l2: 0.124523\tvalid_0's binary_logloss: 0.406194\n",
      "[83]\tvalid_0's l2: 0.1256\tvalid_0's binary_logloss: 0.409707\n",
      "[84]\tvalid_0's l2: 0.126368\tvalid_0's binary_logloss: 0.412222\n",
      "[85]\tvalid_0's l2: 0.127464\tvalid_0's binary_logloss: 0.415612\n",
      "[86]\tvalid_0's l2: 0.125207\tvalid_0's binary_logloss: 0.408974\n",
      "[87]\tvalid_0's l2: 0.123194\tvalid_0's binary_logloss: 0.402823\n",
      "[88]\tvalid_0's l2: 0.124303\tvalid_0's binary_logloss: 0.40644\n",
      "[89]\tvalid_0's l2: 0.124904\tvalid_0's binary_logloss: 0.408567\n",
      "[90]\tvalid_0's l2: 0.125886\tvalid_0's binary_logloss: 0.411641\n",
      "[91]\tvalid_0's l2: 0.140189\tvalid_0's binary_logloss: 0.448455\n",
      "[92]\tvalid_0's l2: 0.136845\tvalid_0's binary_logloss: 0.439681\n",
      "[93]\tvalid_0's l2: 0.133825\tvalid_0's binary_logloss: 0.431534\n",
      "[94]\tvalid_0's l2: 0.135118\tvalid_0's binary_logloss: 0.435076\n",
      "[95]\tvalid_0's l2: 0.135947\tvalid_0's binary_logloss: 0.437438\n",
      "[96]\tvalid_0's l2: 0.136936\tvalid_0's binary_logloss: 0.440158\n",
      "[97]\tvalid_0's l2: 0.133929\tvalid_0's binary_logloss: 0.432082\n",
      "[98]\tvalid_0's l2: 0.134805\tvalid_0's binary_logloss: 0.43464\n",
      "[99]\tvalid_0's l2: 0.131914\tvalid_0's binary_logloss: 0.426728\n",
      "[100]\tvalid_0's l2: 0.129284\tvalid_0's binary_logloss: 0.419325\n"
     ]
    }
   ],
   "source": [
    "lgbm_wrapper = LGBMClassifier(learning_rate= 0.05,max_depth= 10,\n",
    "                              nestimators=500, objective = 'mse',\n",
    "                              boosting='dart'\n",
    "#                                ,num_leaves=50\n",
    "#                               ,min_data_in_leaf=200\n",
    "                             )\n",
    "evals = [(X_test, Y_test)]\n",
    "lgbm_wrapper.fit(htX, htY, early_stopping_rounds=100, \n",
    "                 eval_metric=\"logloss\", eval_set=evals, verbose=True)\n",
    "pred = lgbm_wrapper.predict(X_test)"
   ]
  },
  {
   "cell_type": "code",
   "execution_count": 41,
   "metadata": {},
   "outputs": [
    {
     "name": "stdout",
     "output_type": "stream",
     "text": [
      "오차행렬\n",
      "[[2532  169]\n",
      " [1249 4191]]\n",
      "정확도: 0.8258, 정밀도: 0.9612, 재현율: 0.7704\n"
     ]
    }
   ],
   "source": [
    "get_clf_eval(Y_test, pred)"
   ]
  },
  {
   "cell_type": "code",
   "execution_count": 30,
   "metadata": {},
   "outputs": [],
   "source": [
    "# import lightgbm as lgb\n",
    "# lgbm_wrapper = LGBMClassifier(nestimators=1000,learning_rate=0.1)\n",
    "# def modelFitter(colsampleByTree, subsample,maxDepth, num_leaves):   \n",
    "#     model = lgb.LGBMRegressor(learning_rate=0.02, n_estimators=10000, max_depth=maxDepth.astype(\"int32\"), subsample=subsample, colsample_bytree=colsampleByTree,num_leaves=num_leaves.astype(\"int32\"))\n",
    "#     evalSet  = [(X_test, Y_test)]\n",
    "#     model.fit(htX, htY, eval_metric=\"rmse\", eval_set=evals, early_stopping_rounds=50, verbose=False)\n",
    "#     bestScore = model.best_score_[list(model.best_score_.keys())[0]]['rmse']\n",
    "#     return -bestScore\n",
    "# # Bounded region of parameter space\n",
    "# pbounds = {'colsampleByTree': (0.8,1.0), 'subsample': (0.8,1.0), 'maxDepth': (2,5), 'num_leaves': (24, 45)}\n",
    "# optimizer = BayesianOptimization(\n",
    "#     f=modelFitter,\n",
    "#     pbounds=pbounds,\n",
    "#     random_state=1)\n",
    "# optimizer.maximize(init_points=5,n_iter=5)  #n_iter=bayesian, init_points=random"
   ]
  },
  {
   "cell_type": "markdown",
   "metadata": {},
   "source": [
    "# PR curve"
   ]
  },
  {
   "cell_type": "code",
   "execution_count": 42,
   "metadata": {},
   "outputs": [],
   "source": [
    "def plot_precision_recall_curve(precisions, recalls) :\n",
    "    plt.plot(recalls, precisions, color='blue')\n",
    "    plt.axis([0,1,0,1])\n",
    "    plt.xlabel('Recall')\n",
    "    plt.ylabel('Precision')\n",
    "    plt.title('PR curve')"
   ]
  },
  {
   "cell_type": "code",
   "execution_count": 51,
   "metadata": {},
   "outputs": [],
   "source": [
    "precisions, recalls, _ = precision_recall_curve(Y_test, \n",
    "                                    clf_gs.predict_proba(X_test)[:,1])"
   ]
  },
  {
   "cell_type": "code",
   "execution_count": 52,
   "metadata": {},
   "outputs": [
    {
     "data": {
      "text/plain": [
       "array([0.67326733, 0.67322688, 0.67331023, ..., 1.        , 1.        ,\n",
       "       1.        ])"
      ]
     },
     "execution_count": 52,
     "metadata": {},
     "output_type": "execute_result"
    }
   ],
   "source": [
    "precisions"
   ]
  },
  {
   "cell_type": "code",
   "execution_count": 53,
   "metadata": {},
   "outputs": [
    {
     "data": {
      "text/plain": [
       "array([1.00000000e+00, 9.99816176e-01, 9.99816176e-01, ...,\n",
       "       3.67647059e-04, 1.83823529e-04, 0.00000000e+00])"
      ]
     },
     "execution_count": 53,
     "metadata": {},
     "output_type": "execute_result"
    }
   ],
   "source": [
    "recalls"
   ]
  },
  {
   "cell_type": "code",
   "execution_count": 54,
   "metadata": {},
   "outputs": [
    {
     "data": {
      "text/plain": [
       "array([-0.03215071, -0.03186225, -0.03100656, ...,  1.14870431,\n",
       "        1.15994653,  1.2402065 ])"
      ]
     },
     "execution_count": 54,
     "metadata": {},
     "output_type": "execute_result"
    }
   ],
   "source": [
    "_"
   ]
  },
  {
   "cell_type": "code",
   "execution_count": 55,
   "metadata": {},
   "outputs": [
    {
     "data": {
      "image/png": "[encoded data removed]",
      "text/plain": [
       "<Figure size 432x288 with 1 Axes>"
      ]
     },
     "metadata": {
      "needs_background": "light"
     },
     "output_type": "display_data"
    }
   ],
   "source": [
    "plot_precision_recall_curve(precisions, recalls)"
   ]
  },
  {
   "cell_type": "code",
   "execution_count": 56,
   "metadata": {},
   "outputs": [
    {
     "data": {
      "text/plain": [
       "0.9285509043491518"
      ]
     },
     "execution_count": 56,
     "metadata": {},
     "output_type": "execute_result"
    }
   ],
   "source": [
    "fpr, tpr, _ = roc_curve(Y_test, clf_gs.predict_proba(X_test)[:,1])\n",
    "auc(fpr, tpr)"
   ]
  },
  {
   "cell_type": "code",
   "execution_count": 57,
   "metadata": {},
   "outputs": [],
   "source": [
    "def plot_roc_curve(fpr, tpr, model, color=None) :\n",
    "    model = model + ' (auc = %0.3f)' % auc(fpr, tpr)\n",
    "    plt.plot(fpr, tpr, label=model, color=color)\n",
    "    plt.plot([0, 1], [0, 1], color='navy', linestyle='--')\n",
    "    plt.axis([0,1,0,1])\n",
    "    plt.xlabel('FPR (1 - specificity)')\n",
    "    plt.ylabel('TPR (recall)')\n",
    "    plt.title('ROC curve')\n",
    "    plt.legend(loc=\"lower right\")"
   ]
  },
  {
   "cell_type": "code",
   "execution_count": 59,
   "metadata": {},
   "outputs": [
    {
     "data": {
      "image/png": "[encoded data removed]",
      "text/plain": [
       "<Figure size 432x288 with 1 Axes>"
      ]
     },
     "metadata": {
      "needs_background": "light"
     },
     "output_type": "display_data"
    }
   ],
   "source": [
    "fpr_dummy, tpr_dummy, _ = roc_curve(Y_test, \n",
    "                                    dummy.predict_proba(X_test)[:,1])\n",
    "plot_roc_curve(fpr_dummy, tpr_dummy, 'dummy model', 'hotpink')\n",
    "fpr_tree, tpr_tree, _ = roc_curve(Y_test, \n",
    "                                  clf_gs.predict_proba(X_test)[:,1])\n",
    "plot_roc_curve(fpr_tree, tpr_tree, 'light GBM', 'darkgreen')"
   ]
  },
  {
   "cell_type": "code",
   "execution_count": 60,
   "metadata": {},
   "outputs": [],
   "source": [
    "human_new = pd.read_csv(\"work/human_new.csv\", encoding=\"cp949\")\n",
    "s1=human_new['자본 이득']\n",
    "s2=human_new['자본 손실']\n",
    "s=s1+s2\n",
    "s.rename(\"순이익\",inplace=True)\n",
    "human_new = pd.concat([human_new,s],axis=1)"
   ]
  },
  {
   "cell_type": "code",
   "execution_count": 61,
   "metadata": {},
   "outputs": [],
   "source": [
    "human_new['나이대'] = (human_new['나이']/10).astype(int)\n",
    "human_new['주당 시간별'] = (human_new['주당 시간']/10).astype(int)\n",
    "human_new['fnlwgt2'] = (human_new['fnlwgt']/10000).astype(int)"
   ]
  },
  {
   "cell_type": "code",
   "execution_count": 62,
   "metadata": {},
   "outputs": [],
   "source": [
    "working_class = pd.get_dummies(human_new[\"노동 계급\"])\n",
    "human_new = pd.concat([human_new, working_class], axis=1)\n",
    "# human_new.drop(\"노동 계급\", axis=1, inplace=True)\n",
    "\n",
    "human_new[[\"노동 계급\"]] = human_new[[\"노동 계급\"]].apply(lambda x: x.str.lstrip())\n",
    "human_new[[\"노동 계급\"]] = human_new[[\"노동 계급\"]].apply(lambda x: x.astype('category').cat.codes)"
   ]
  },
  {
   "cell_type": "code",
   "execution_count": 63,
   "metadata": {},
   "outputs": [],
   "source": [
    "academic_ability = pd.get_dummies(human_new[\"학력\"])\n",
    "human_new = pd.concat([human_new,academic_ability],axis=1)\n",
    "# human_new.drop(\"학력\",axis=1,inplace=True)\n",
    "\n",
    "human_new[[\"학력\"]] = human_new[[\"학력\"]].apply(lambda x: x.str.lstrip())\n",
    "human_new[[\"학력\"]] = human_new[[\"학력\"]].apply(lambda x: x.astype('category').cat.codes)"
   ]
  },
  {
   "cell_type": "code",
   "execution_count": 64,
   "metadata": {},
   "outputs": [],
   "source": [
    "marital_status = pd.get_dummies(human_new[\"혼인 상태\"])\n",
    "human_new = pd.concat([human_new,marital_status], axis=1)\n",
    "# human_new.drop(\"혼인 상태\", axis=1, inplace=True)\n",
    "\n",
    "human_new[[\"혼인 상태\"]] = human_new[[\"혼인 상태\"]].apply(lambda x: x.str.lstrip())\n",
    "human_new[[\"혼인 상태\"]] = human_new[[\"혼인 상태\"]].apply(lambda x: x.astype('category').cat.codes)"
   ]
  },
  {
   "cell_type": "code",
   "execution_count": 65,
   "metadata": {},
   "outputs": [],
   "source": [
    "jobs = pd.get_dummies(human_new[\"직업\"])\n",
    "human_new = pd.concat([human_new, jobs], axis=1)\n",
    "# human_new.drop(\"직업\", axis=1, inplace=True)\n",
    "\n",
    "human_new[[\"직업\"]] = human_new[[\"직업\"]].apply(lambda x: x.str.lstrip())\n",
    "human_new[[\"직업\"]] = human_new[[\"직업\"]].apply(lambda x: x.astype('category').cat.codes)"
   ]
  },
  {
   "cell_type": "code",
   "execution_count": 66,
   "metadata": {},
   "outputs": [],
   "source": [
    "relationship = pd.get_dummies(human_new[\"관계\"])\n",
    "human_new = pd.concat([human_new, relationship], axis=1)\n",
    "# human_new.drop(\"관계\", axis=1, inplace=True)\n",
    "\n",
    "human_new[[\"관계\"]] = human_new[[\"관계\"]].apply(lambda x: x.str.lstrip())\n",
    "human_new[[\"관계\"]] = human_new[[\"관계\"]].apply(lambda x: x.astype('category').cat.codes)"
   ]
  },
  {
   "cell_type": "code",
   "execution_count": 67,
   "metadata": {},
   "outputs": [],
   "source": [
    "race = pd.get_dummies(human_new[\"인종\"])\n",
    "human_new = pd.concat([human_new, race], axis=1)\n",
    "# human_new.drop(\"인종\", axis=1, inplace=True)\n",
    "\n",
    "human_new[[\"인종\"]] = human_new[[\"인종\"]].apply(lambda x: x.str.lstrip())\n",
    "human_new[[\"인종\"]] = human_new[[\"인종\"]].apply(lambda x: x.astype('category').cat.codes)"
   ]
  },
  {
   "cell_type": "code",
   "execution_count": 68,
   "metadata": {},
   "outputs": [],
   "source": [
    "homeland = pd.get_dummies(human_new[\"모국\"])\n",
    "human_new = pd.concat([human_new, homeland], axis=1)\n",
    "# human_new.drop(\"모국\", axis=1, inplace=True)\n",
    "human_new[\"Holand-Netherlands\"]=human_new[\" Yugoslavia\"]\n",
    "human_new.loc[:,[\"Holand-Netherlands\"]]=0\n",
    "\n",
    "human_new[[\"모국\"]] = human_new[[\"모국\"]].apply(lambda x: x.str.lstrip())\n",
    "human_new[[\"모국\"]] = human_new[[\"모국\"]].apply(lambda x: x.astype('category').cat.codes)"
   ]
  },
  {
   "cell_type": "code",
   "execution_count": 69,
   "metadata": {},
   "outputs": [
    {
     "name": "stdout",
     "output_type": "stream",
     "text": [
      "<class 'pandas.core.frame.DataFrame'>\n",
      "RangeIndex: 16281 entries, 0 to 16280\n",
      "Columns: 115 entries, 아이디 to Holand-Netherlands\n",
      "dtypes: int32(3), int64(8), int8(7), object(1), uint8(96)\n",
      "memory usage: 2.9+ MB\n"
     ]
    }
   ],
   "source": [
    "human_new.info()"
   ]
  },
  {
   "cell_type": "code",
   "execution_count": 70,
   "metadata": {},
   "outputs": [
    {
     "data": {
      "text/html": [
       "<div>\n",
       "<style scoped>\n",
       "    .dataframe tbody tr th:only-of-type {\n",
       "        vertical-align: middle;\n",
       "    }\n",
       "\n",
       "    .dataframe tbody tr th {\n",
       "        vertical-align: top;\n",
       "    }\n",
       "\n",
       "    .dataframe thead th {\n",
       "        text-align: right;\n",
       "    }\n",
       "</style>\n",
       "<table border=\"1\" class=\"dataframe\">\n",
       "  <thead>\n",
       "    <tr style=\"text-align: right;\">\n",
       "      <th></th>\n",
       "      <th>아이디</th>\n",
       "      <th>나이</th>\n",
       "      <th>노동 계급</th>\n",
       "      <th>fnlwgt</th>\n",
       "      <th>학력</th>\n",
       "      <th>교육 수</th>\n",
       "      <th>혼인 상태</th>\n",
       "      <th>직업</th>\n",
       "      <th>관계</th>\n",
       "      <th>인종</th>\n",
       "      <th>...</th>\n",
       "      <th>Puerto-Rico</th>\n",
       "      <th>Scotland</th>\n",
       "      <th>South</th>\n",
       "      <th>Taiwan</th>\n",
       "      <th>Thailand</th>\n",
       "      <th>Trinadad&amp;Tobago</th>\n",
       "      <th>United-States</th>\n",
       "      <th>Vietnam</th>\n",
       "      <th>Yugoslavia</th>\n",
       "      <th>Holand-Netherlands</th>\n",
       "    </tr>\n",
       "  </thead>\n",
       "  <tbody>\n",
       "    <tr>\n",
       "      <th>0</th>\n",
       "      <td>H00001</td>\n",
       "      <td>25</td>\n",
       "      <td>3</td>\n",
       "      <td>226802</td>\n",
       "      <td>1</td>\n",
       "      <td>7</td>\n",
       "      <td>4</td>\n",
       "      <td>6</td>\n",
       "      <td>3</td>\n",
       "      <td>2</td>\n",
       "      <td>...</td>\n",
       "      <td>0</td>\n",
       "      <td>0</td>\n",
       "      <td>0</td>\n",
       "      <td>0</td>\n",
       "      <td>0</td>\n",
       "      <td>0</td>\n",
       "      <td>1</td>\n",
       "      <td>0</td>\n",
       "      <td>0</td>\n",
       "      <td>0</td>\n",
       "    </tr>\n",
       "    <tr>\n",
       "      <th>1</th>\n",
       "      <td>H00002</td>\n",
       "      <td>38</td>\n",
       "      <td>3</td>\n",
       "      <td>89814</td>\n",
       "      <td>11</td>\n",
       "      <td>9</td>\n",
       "      <td>2</td>\n",
       "      <td>4</td>\n",
       "      <td>0</td>\n",
       "      <td>4</td>\n",
       "      <td>...</td>\n",
       "      <td>0</td>\n",
       "      <td>0</td>\n",
       "      <td>0</td>\n",
       "      <td>0</td>\n",
       "      <td>0</td>\n",
       "      <td>0</td>\n",
       "      <td>1</td>\n",
       "      <td>0</td>\n",
       "      <td>0</td>\n",
       "      <td>0</td>\n",
       "    </tr>\n",
       "    <tr>\n",
       "      <th>2</th>\n",
       "      <td>H00003</td>\n",
       "      <td>28</td>\n",
       "      <td>1</td>\n",
       "      <td>336951</td>\n",
       "      <td>7</td>\n",
       "      <td>12</td>\n",
       "      <td>2</td>\n",
       "      <td>10</td>\n",
       "      <td>0</td>\n",
       "      <td>4</td>\n",
       "      <td>...</td>\n",
       "      <td>0</td>\n",
       "      <td>0</td>\n",
       "      <td>0</td>\n",
       "      <td>0</td>\n",
       "      <td>0</td>\n",
       "      <td>0</td>\n",
       "      <td>1</td>\n",
       "      <td>0</td>\n",
       "      <td>0</td>\n",
       "      <td>0</td>\n",
       "    </tr>\n",
       "    <tr>\n",
       "      <th>3</th>\n",
       "      <td>H00004</td>\n",
       "      <td>44</td>\n",
       "      <td>3</td>\n",
       "      <td>160323</td>\n",
       "      <td>15</td>\n",
       "      <td>10</td>\n",
       "      <td>2</td>\n",
       "      <td>6</td>\n",
       "      <td>0</td>\n",
       "      <td>2</td>\n",
       "      <td>...</td>\n",
       "      <td>0</td>\n",
       "      <td>0</td>\n",
       "      <td>0</td>\n",
       "      <td>0</td>\n",
       "      <td>0</td>\n",
       "      <td>0</td>\n",
       "      <td>1</td>\n",
       "      <td>0</td>\n",
       "      <td>0</td>\n",
       "      <td>0</td>\n",
       "    </tr>\n",
       "    <tr>\n",
       "      <th>4</th>\n",
       "      <td>H00005</td>\n",
       "      <td>18</td>\n",
       "      <td>-1</td>\n",
       "      <td>103497</td>\n",
       "      <td>15</td>\n",
       "      <td>10</td>\n",
       "      <td>4</td>\n",
       "      <td>-1</td>\n",
       "      <td>3</td>\n",
       "      <td>4</td>\n",
       "      <td>...</td>\n",
       "      <td>0</td>\n",
       "      <td>0</td>\n",
       "      <td>0</td>\n",
       "      <td>0</td>\n",
       "      <td>0</td>\n",
       "      <td>0</td>\n",
       "      <td>1</td>\n",
       "      <td>0</td>\n",
       "      <td>0</td>\n",
       "      <td>0</td>\n",
       "    </tr>\n",
       "  </tbody>\n",
       "</table>\n",
       "<p>5 rows × 115 columns</p>\n",
       "</div>"
      ],
      "text/plain": [
       "      아이디  나이  노동 계급  fnlwgt  학력  교육 수  혼인 상태  직업  관계  인종  ...   Puerto-Rico  \\\n",
       "0  H00001  25      3  226802   1     7      4   6   3   2  ...             0   \n",
       "1  H00002  38      3   89814  11     9      2   4   0   4  ...             0   \n",
       "2  H00003  28      1  336951   7    12      2  10   0   4  ...             0   \n",
       "3  H00004  44      3  160323  15    10      2   6   0   2  ...             0   \n",
       "4  H00005  18     -1  103497  15    10      4  -1   3   4  ...             0   \n",
       "\n",
       "    Scotland   South   Taiwan   Thailand   Trinadad&Tobago   United-States  \\\n",
       "0          0       0        0          0                 0               1   \n",
       "1          0       0        0          0                 0               1   \n",
       "2          0       0        0          0                 0               1   \n",
       "3          0       0        0          0                 0               1   \n",
       "4          0       0        0          0                 0               1   \n",
       "\n",
       "    Vietnam   Yugoslavia  Holand-Netherlands  \n",
       "0         0            0                   0  \n",
       "1         0            0                   0  \n",
       "2         0            0                   0  \n",
       "3         0            0                   0  \n",
       "4         0            0                   0  \n",
       "\n",
       "[5 rows x 115 columns]"
      ]
     },
     "execution_count": 70,
     "metadata": {},
     "output_type": "execute_result"
    }
   ],
   "source": [
    "ndf = human_new.copy()\n",
    "ndf.head()"
   ]
  },
  {
   "cell_type": "code",
   "execution_count": 83,
   "metadata": {},
   "outputs": [],
   "source": [
    "ndf['성별'] = lgbm_wrapper.predict_proba(ndf.loc[:, '나이':'Holand-Netherlands'])"
   ]
  },
  {
   "cell_type": "code",
   "execution_count": 84,
   "metadata": {},
   "outputs": [
    {
     "data": {
      "text/plain": [
       "(16281, 116)"
      ]
     },
     "execution_count": 84,
     "metadata": {},
     "output_type": "execute_result"
    }
   ],
   "source": [
    "ndf.shape"
   ]
  },
  {
   "cell_type": "code",
   "execution_count": 85,
   "metadata": {},
   "outputs": [],
   "source": [
    "ndf_rename=ndf[['아이디','성별']]"
   ]
  },
  {
   "cell_type": "code",
   "execution_count": 86,
   "metadata": {},
   "outputs": [
    {
     "data": {
      "text/html": [
       "<div>\n",
       "<style scoped>\n",
       "    .dataframe tbody tr th:only-of-type {\n",
       "        vertical-align: middle;\n",
       "    }\n",
       "\n",
       "    .dataframe tbody tr th {\n",
       "        vertical-align: top;\n",
       "    }\n",
       "\n",
       "    .dataframe thead th {\n",
       "        text-align: right;\n",
       "    }\n",
       "</style>\n",
       "<table border=\"1\" class=\"dataframe\">\n",
       "  <thead>\n",
       "    <tr style=\"text-align: right;\">\n",
       "      <th></th>\n",
       "      <th>ID</th>\n",
       "      <th>SEX</th>\n",
       "    </tr>\n",
       "  </thead>\n",
       "  <tbody>\n",
       "    <tr>\n",
       "      <th>0</th>\n",
       "      <td>H00001</td>\n",
       "      <td>0.601355</td>\n",
       "    </tr>\n",
       "    <tr>\n",
       "      <th>1</th>\n",
       "      <td>H00002</td>\n",
       "      <td>0.203256</td>\n",
       "    </tr>\n",
       "    <tr>\n",
       "      <th>2</th>\n",
       "      <td>H00003</td>\n",
       "      <td>0.203256</td>\n",
       "    </tr>\n",
       "    <tr>\n",
       "      <th>3</th>\n",
       "      <td>H00004</td>\n",
       "      <td>0.203256</td>\n",
       "    </tr>\n",
       "    <tr>\n",
       "      <th>4</th>\n",
       "      <td>H00005</td>\n",
       "      <td>0.762533</td>\n",
       "    </tr>\n",
       "  </tbody>\n",
       "</table>\n",
       "</div>"
      ],
      "text/plain": [
       "       ID       SEX\n",
       "0  H00001  0.601355\n",
       "1  H00002  0.203256\n",
       "2  H00003  0.203256\n",
       "3  H00004  0.203256\n",
       "4  H00005  0.762533"
      ]
     },
     "execution_count": 86,
     "metadata": {},
     "output_type": "execute_result"
    }
   ],
   "source": [
    "ndf_rename = ndf_rename.rename(columns={'아이디':'ID', '성별':'SEX'})\n",
    "ndf_rename.head()"
   ]
  },
  {
   "cell_type": "code",
   "execution_count": 87,
   "metadata": {},
   "outputs": [],
   "source": [
    "ndf_rename.to_csv('submission_human.csv', encoding='cp949', index=False)"
   ]
  },
  {
   "cell_type": "code",
   "execution_count": 88,
   "metadata": {},
   "outputs": [
    {
     "data": {
      "text/plain": [
       "(16281, 2)"
      ]
     },
     "execution_count": 88,
     "metadata": {},
     "output_type": "execute_result"
    }
   ],
   "source": [
    "ndf_rename.shape"
   ]
  },
  {
   "cell_type": "code",
   "execution_count": 64,
   "metadata": {},
   "outputs": [
    {
     "data": {
      "text/html": [
       "<div>\n",
       "<style scoped>\n",
       "    .dataframe tbody tr th:only-of-type {\n",
       "        vertical-align: middle;\n",
       "    }\n",
       "\n",
       "    .dataframe tbody tr th {\n",
       "        vertical-align: top;\n",
       "    }\n",
       "\n",
       "    .dataframe thead th {\n",
       "        text-align: right;\n",
       "    }\n",
       "</style>\n",
       "<table border=\"1\" class=\"dataframe\">\n",
       "  <thead>\n",
       "    <tr style=\"text-align: right;\">\n",
       "      <th></th>\n",
       "      <th>나이</th>\n",
       "      <th>노동 계급</th>\n",
       "      <th>fnlwgt</th>\n",
       "      <th>학력</th>\n",
       "      <th>교육 수</th>\n",
       "      <th>혼인 상태</th>\n",
       "      <th>직업</th>\n",
       "      <th>관계</th>\n",
       "      <th>인종</th>\n",
       "      <th>성별</th>\n",
       "      <th>...</th>\n",
       "      <th>Portugal</th>\n",
       "      <th>Puerto-Rico</th>\n",
       "      <th>Scotland</th>\n",
       "      <th>South</th>\n",
       "      <th>Taiwan</th>\n",
       "      <th>Thailand</th>\n",
       "      <th>Trinadad&amp;Tobago</th>\n",
       "      <th>United-States</th>\n",
       "      <th>Vietnam</th>\n",
       "      <th>Yugoslavia</th>\n",
       "    </tr>\n",
       "  </thead>\n",
       "  <tbody>\n",
       "    <tr>\n",
       "      <th>나이</th>\n",
       "      <td>1.000000</td>\n",
       "      <td>0.003787</td>\n",
       "      <td>-0.076646</td>\n",
       "      <td>-0.010508</td>\n",
       "      <td>0.036527</td>\n",
       "      <td>-0.266288</td>\n",
       "      <td>-0.020947</td>\n",
       "      <td>-0.263698</td>\n",
       "      <td>0.028718</td>\n",
       "      <td>0.088832</td>\n",
       "      <td>...</td>\n",
       "      <td>0.004242</td>\n",
       "      <td>0.008374</td>\n",
       "      <td>0.002583</td>\n",
       "      <td>0.000613</td>\n",
       "      <td>-0.013816</td>\n",
       "      <td>-0.006271</td>\n",
       "      <td>0.004843</td>\n",
       "      <td>0.015917</td>\n",
       "      <td>-0.015054</td>\n",
       "      <td>0.000375</td>\n",
       "    </tr>\n",
       "    <tr>\n",
       "      <th>노동 계급</th>\n",
       "      <td>0.003787</td>\n",
       "      <td>1.000000</td>\n",
       "      <td>-0.016656</td>\n",
       "      <td>0.023513</td>\n",
       "      <td>0.052085</td>\n",
       "      <td>-0.064731</td>\n",
       "      <td>0.254892</td>\n",
       "      <td>-0.090461</td>\n",
       "      <td>0.049742</td>\n",
       "      <td>0.095981</td>\n",
       "      <td>...</td>\n",
       "      <td>-0.001972</td>\n",
       "      <td>-0.007519</td>\n",
       "      <td>0.002828</td>\n",
       "      <td>0.007878</td>\n",
       "      <td>-0.003368</td>\n",
       "      <td>0.009297</td>\n",
       "      <td>0.002176</td>\n",
       "      <td>-0.006187</td>\n",
       "      <td>-0.001497</td>\n",
       "      <td>0.002948</td>\n",
       "    </tr>\n",
       "    <tr>\n",
       "      <th>fnlwgt</th>\n",
       "      <td>-0.076646</td>\n",
       "      <td>-0.016656</td>\n",
       "      <td>1.000000</td>\n",
       "      <td>-0.028145</td>\n",
       "      <td>-0.043195</td>\n",
       "      <td>0.028153</td>\n",
       "      <td>0.001597</td>\n",
       "      <td>0.008931</td>\n",
       "      <td>-0.021291</td>\n",
       "      <td>0.026858</td>\n",
       "      <td>...</td>\n",
       "      <td>-0.013152</td>\n",
       "      <td>0.007164</td>\n",
       "      <td>-0.003790</td>\n",
       "      <td>-0.012365</td>\n",
       "      <td>-0.001252</td>\n",
       "      <td>-0.001250</td>\n",
       "      <td>0.005273</td>\n",
       "      <td>-0.075287</td>\n",
       "      <td>-0.011398</td>\n",
       "      <td>0.005501</td>\n",
       "    </tr>\n",
       "    <tr>\n",
       "      <th>학력</th>\n",
       "      <td>-0.010508</td>\n",
       "      <td>0.023513</td>\n",
       "      <td>-0.028145</td>\n",
       "      <td>1.000000</td>\n",
       "      <td>0.359153</td>\n",
       "      <td>-0.038407</td>\n",
       "      <td>-0.021260</td>\n",
       "      <td>-0.010876</td>\n",
       "      <td>0.014131</td>\n",
       "      <td>-0.027356</td>\n",
       "      <td>...</td>\n",
       "      <td>-0.033219</td>\n",
       "      <td>-0.021629</td>\n",
       "      <td>0.004309</td>\n",
       "      <td>0.007396</td>\n",
       "      <td>0.005978</td>\n",
       "      <td>0.000213</td>\n",
       "      <td>-0.006791</td>\n",
       "      <td>0.092078</td>\n",
       "      <td>-0.004550</td>\n",
       "      <td>-0.006363</td>\n",
       "    </tr>\n",
       "    <tr>\n",
       "      <th>교육 수</th>\n",
       "      <td>0.036527</td>\n",
       "      <td>0.052085</td>\n",
       "      <td>-0.043195</td>\n",
       "      <td>0.359153</td>\n",
       "      <td>1.000000</td>\n",
       "      <td>-0.069304</td>\n",
       "      <td>0.109697</td>\n",
       "      <td>-0.094153</td>\n",
       "      <td>0.031838</td>\n",
       "      <td>0.012280</td>\n",
       "      <td>...</td>\n",
       "      <td>-0.044286</td>\n",
       "      <td>-0.041269</td>\n",
       "      <td>0.001264</td>\n",
       "      <td>0.016046</td>\n",
       "      <td>0.049472</td>\n",
       "      <td>0.007896</td>\n",
       "      <td>-0.017071</td>\n",
       "      <td>0.101207</td>\n",
       "      <td>-0.007483</td>\n",
       "      <td>-0.001234</td>\n",
       "    </tr>\n",
       "    <tr>\n",
       "      <th>...</th>\n",
       "      <td>...</td>\n",
       "      <td>...</td>\n",
       "      <td>...</td>\n",
       "      <td>...</td>\n",
       "      <td>...</td>\n",
       "      <td>...</td>\n",
       "      <td>...</td>\n",
       "      <td>...</td>\n",
       "      <td>...</td>\n",
       "      <td>...</td>\n",
       "      <td>...</td>\n",
       "      <td>...</td>\n",
       "      <td>...</td>\n",
       "      <td>...</td>\n",
       "      <td>...</td>\n",
       "      <td>...</td>\n",
       "      <td>...</td>\n",
       "      <td>...</td>\n",
       "      <td>...</td>\n",
       "      <td>...</td>\n",
       "      <td>...</td>\n",
       "    </tr>\n",
       "    <tr>\n",
       "      <th>Thailand</th>\n",
       "      <td>-0.006271</td>\n",
       "      <td>0.009297</td>\n",
       "      <td>-0.001250</td>\n",
       "      <td>0.000213</td>\n",
       "      <td>0.007896</td>\n",
       "      <td>0.009531</td>\n",
       "      <td>-0.002567</td>\n",
       "      <td>0.005664</td>\n",
       "      <td>-0.064630</td>\n",
       "      <td>-0.014012</td>\n",
       "      <td>...</td>\n",
       "      <td>-0.000793</td>\n",
       "      <td>-0.001394</td>\n",
       "      <td>-0.000452</td>\n",
       "      <td>-0.001167</td>\n",
       "      <td>-0.000932</td>\n",
       "      <td>1.000000</td>\n",
       "      <td>-0.000568</td>\n",
       "      <td>-0.068978</td>\n",
       "      <td>-0.001068</td>\n",
       "      <td>-0.000521</td>\n",
       "    </tr>\n",
       "    <tr>\n",
       "      <th>Trinadad&amp;Tobago</th>\n",
       "      <td>0.004843</td>\n",
       "      <td>0.002176</td>\n",
       "      <td>0.005273</td>\n",
       "      <td>-0.006791</td>\n",
       "      <td>-0.017071</td>\n",
       "      <td>0.001161</td>\n",
       "      <td>-0.001167</td>\n",
       "      <td>0.003577</td>\n",
       "      <td>-0.048922</td>\n",
       "      <td>-0.012744</td>\n",
       "      <td>...</td>\n",
       "      <td>-0.000815</td>\n",
       "      <td>-0.001432</td>\n",
       "      <td>-0.000464</td>\n",
       "      <td>-0.001199</td>\n",
       "      <td>-0.000957</td>\n",
       "      <td>-0.000568</td>\n",
       "      <td>1.000000</td>\n",
       "      <td>-0.070869</td>\n",
       "      <td>-0.001097</td>\n",
       "      <td>-0.000536</td>\n",
       "    </tr>\n",
       "    <tr>\n",
       "      <th>United-States</th>\n",
       "      <td>0.015917</td>\n",
       "      <td>-0.006187</td>\n",
       "      <td>-0.075287</td>\n",
       "      <td>0.092078</td>\n",
       "      <td>0.101207</td>\n",
       "      <td>-0.035131</td>\n",
       "      <td>-0.000305</td>\n",
       "      <td>-0.016294</td>\n",
       "      <td>0.224351</td>\n",
       "      <td>-0.006993</td>\n",
       "      <td>...</td>\n",
       "      <td>-0.098924</td>\n",
       "      <td>-0.173848</td>\n",
       "      <td>-0.056315</td>\n",
       "      <td>-0.145558</td>\n",
       "      <td>-0.116167</td>\n",
       "      <td>-0.068978</td>\n",
       "      <td>-0.070869</td>\n",
       "      <td>1.000000</td>\n",
       "      <td>-0.133180</td>\n",
       "      <td>-0.065031</td>\n",
       "    </tr>\n",
       "    <tr>\n",
       "      <th>Vietnam</th>\n",
       "      <td>-0.015054</td>\n",
       "      <td>-0.001497</td>\n",
       "      <td>-0.011398</td>\n",
       "      <td>-0.004550</td>\n",
       "      <td>-0.007483</td>\n",
       "      <td>0.010352</td>\n",
       "      <td>-0.015125</td>\n",
       "      <td>0.010585</td>\n",
       "      <td>-0.137826</td>\n",
       "      <td>-0.001205</td>\n",
       "      <td>...</td>\n",
       "      <td>-0.001532</td>\n",
       "      <td>-0.002692</td>\n",
       "      <td>-0.000872</td>\n",
       "      <td>-0.002254</td>\n",
       "      <td>-0.001799</td>\n",
       "      <td>-0.001068</td>\n",
       "      <td>-0.001097</td>\n",
       "      <td>-0.133180</td>\n",
       "      <td>1.000000</td>\n",
       "      <td>-0.001007</td>\n",
       "    </tr>\n",
       "    <tr>\n",
       "      <th>Yugoslavia</th>\n",
       "      <td>0.000375</td>\n",
       "      <td>0.002948</td>\n",
       "      <td>0.005501</td>\n",
       "      <td>-0.006363</td>\n",
       "      <td>-0.001234</td>\n",
       "      <td>-0.005327</td>\n",
       "      <td>-0.004314</td>\n",
       "      <td>-0.008747</td>\n",
       "      <td>0.008729</td>\n",
       "      <td>0.006753</td>\n",
       "      <td>...</td>\n",
       "      <td>-0.000748</td>\n",
       "      <td>-0.001314</td>\n",
       "      <td>-0.000426</td>\n",
       "      <td>-0.001100</td>\n",
       "      <td>-0.000878</td>\n",
       "      <td>-0.000521</td>\n",
       "      <td>-0.000536</td>\n",
       "      <td>-0.065031</td>\n",
       "      <td>-0.001007</td>\n",
       "      <td>1.000000</td>\n",
       "    </tr>\n",
       "  </tbody>\n",
       "</table>\n",
       "<p>115 rows × 115 columns</p>\n",
       "</div>"
      ],
      "text/plain": [
       "                        나이     노동 계급    fnlwgt        학력      교육 수     혼인 상태  \\\n",
       "나이                1.000000  0.003787 -0.076646 -0.010508  0.036527 -0.266288   \n",
       "노동 계급             0.003787  1.000000 -0.016656  0.023513  0.052085 -0.064731   \n",
       "fnlwgt           -0.076646 -0.016656  1.000000 -0.028145 -0.043195  0.028153   \n",
       "학력               -0.010508  0.023513 -0.028145  1.000000  0.359153 -0.038407   \n",
       "교육 수              0.036527  0.052085 -0.043195  0.359153  1.000000 -0.069304   \n",
       "...                    ...       ...       ...       ...       ...       ...   \n",
       " Thailand        -0.006271  0.009297 -0.001250  0.000213  0.007896  0.009531   \n",
       " Trinadad&Tobago  0.004843  0.002176  0.005273 -0.006791 -0.017071  0.001161   \n",
       " United-States    0.015917 -0.006187 -0.075287  0.092078  0.101207 -0.035131   \n",
       " Vietnam         -0.015054 -0.001497 -0.011398 -0.004550 -0.007483  0.010352   \n",
       " Yugoslavia       0.000375  0.002948  0.005501 -0.006363 -0.001234 -0.005327   \n",
       "\n",
       "                        직업        관계        인종        성별  ...   Portugal  \\\n",
       "나이               -0.020947 -0.263698  0.028718  0.088832  ...   0.004242   \n",
       "노동 계급             0.254892 -0.090461  0.049742  0.095981  ...  -0.001972   \n",
       "fnlwgt            0.001597  0.008931 -0.021291  0.026858  ...  -0.013152   \n",
       "학력               -0.021260 -0.010876  0.014131 -0.027356  ...  -0.033219   \n",
       "교육 수              0.109697 -0.094153  0.031838  0.012280  ...  -0.044286   \n",
       "...                    ...       ...       ...       ...  ...        ...   \n",
       " Thailand        -0.002567  0.005664 -0.064630 -0.014012  ...  -0.000793   \n",
       " Trinadad&Tobago -0.001167  0.003577 -0.048922 -0.012744  ...  -0.000815   \n",
       " United-States   -0.000305 -0.016294  0.224351 -0.006993  ...  -0.098924   \n",
       " Vietnam         -0.015125  0.010585 -0.137826 -0.001205  ...  -0.001532   \n",
       " Yugoslavia      -0.004314 -0.008747  0.008729  0.006753  ...  -0.000748   \n",
       "\n",
       "                   Puerto-Rico   Scotland     South    Taiwan   Thailand  \\\n",
       "나이                    0.008374   0.002583  0.000613 -0.013816  -0.006271   \n",
       "노동 계급                -0.007519   0.002828  0.007878 -0.003368   0.009297   \n",
       "fnlwgt                0.007164  -0.003790 -0.012365 -0.001252  -0.001250   \n",
       "학력                   -0.021629   0.004309  0.007396  0.005978   0.000213   \n",
       "교육 수                 -0.041269   0.001264  0.016046  0.049472   0.007896   \n",
       "...                        ...        ...       ...       ...        ...   \n",
       " Thailand            -0.001394  -0.000452 -0.001167 -0.000932   1.000000   \n",
       " Trinadad&Tobago     -0.001432  -0.000464 -0.001199 -0.000957  -0.000568   \n",
       " United-States       -0.173848  -0.056315 -0.145558 -0.116167  -0.068978   \n",
       " Vietnam             -0.002692  -0.000872 -0.002254 -0.001799  -0.001068   \n",
       " Yugoslavia          -0.001314  -0.000426 -0.001100 -0.000878  -0.000521   \n",
       "\n",
       "                   Trinadad&Tobago   United-States   Vietnam   Yugoslavia  \n",
       "나이                        0.004843        0.015917 -0.015054     0.000375  \n",
       "노동 계급                     0.002176       -0.006187 -0.001497     0.002948  \n",
       "fnlwgt                    0.005273       -0.075287 -0.011398     0.005501  \n",
       "학력                       -0.006791        0.092078 -0.004550    -0.006363  \n",
       "교육 수                     -0.017071        0.101207 -0.007483    -0.001234  \n",
       "...                            ...             ...       ...          ...  \n",
       " Thailand                -0.000568       -0.068978 -0.001068    -0.000521  \n",
       " Trinadad&Tobago          1.000000       -0.070869 -0.001097    -0.000536  \n",
       " United-States           -0.070869        1.000000 -0.133180    -0.065031  \n",
       " Vietnam                 -0.001097       -0.133180  1.000000    -0.001007  \n",
       " Yugoslavia              -0.000536       -0.065031 -0.001007     1.000000  \n",
       "\n",
       "[115 rows x 115 columns]"
      ]
     },
     "execution_count": 64,
     "metadata": {},
     "output_type": "execute_result"
    }
   ],
   "source": [
    "human_train.corr()"
   ]
  },
  {
   "cell_type": "code",
   "execution_count": 101,
   "metadata": {},
   "outputs": [],
   "source": [
    "a=human_train.corr().성별.sort_values(ascending=False)"
   ]
  },
  {
   "cell_type": "code",
   "execution_count": 54,
   "metadata": {},
   "outputs": [],
   "source": [
    "human_train['나이'] = (human_train['나이']/10).astype(int)"
   ]
  },
  {
   "cell_type": "code",
   "execution_count": 102,
   "metadata": {},
   "outputs": [],
   "source": [
    "a=pd.DataFrame({\"수치\":a})"
   ]
  },
  {
   "cell_type": "code",
   "execution_count": 114,
   "metadata": {},
   "outputs": [
    {
     "name": "stdout",
     "output_type": "stream",
     "text": [
      "<class 'pandas.core.frame.DataFrame'>\n",
      "Index: 115 entries, 성별 to 관계\n",
      "Data columns (total 1 columns):\n",
      " #   Column  Non-Null Count  Dtype  \n",
      "---  ------  --------------  -----  \n",
      " 0   수치      115 non-null    float64\n",
      "dtypes: float64(1)\n",
      "memory usage: 1.8+ KB\n"
     ]
    }
   ],
   "source": [
    "a.info()"
   ]
  },
  {
   "cell_type": "code",
   "execution_count": 113,
   "metadata": {},
   "outputs": [
    {
     "name": "stdout",
     "output_type": "stream",
     "text": [
      "0.5801352648003859\n",
      "0.43180545811342946\n",
      "0.23568946222608525\n",
      "0.2293091490264182\n",
      "0.22312817750275654\n",
      "0.13246788820685695\n",
      "0.10745142628229438\n",
      "0.10348624694398598\n",
      "0.10009723650965793\n",
      "0.09598083475032537\n",
      "0.09402582601874208\n",
      "0.08883173120974484\n",
      "0.08762274910394074\n",
      "0.08720430156363829\n",
      "0.08401528263720216\n",
      "0.08029644294812227\n",
      "0.06476990040727498\n",
      "0.05097797284054917\n",
      "0.048793147111447305\n",
      "0.048479646868691675\n",
      "0.045567354678684426\n",
      "0.036729116751779145\n",
      "0.03129314968865496\n",
      "0.03050199157934993\n",
      "0.02952536095137569\n",
      "0.026947031230594526\n",
      "0.0268580452698733\n",
      "0.026836574562376734\n",
      "0.026046443254430143\n",
      "0.02513316234783888\n",
      "0.016968752680404178\n",
      "0.013630536608212467\n",
      "0.012280054339657419\n",
      "0.011690465756782295\n",
      "0.011684471462180306\n",
      "0.011187318018610967\n",
      "0.010050485108158796\n",
      "0.00990169337152947\n",
      "0.008879534658810688\n",
      "0.008722291556379977\n",
      "0.00675287184158819\n",
      "0.005333360649173363\n",
      "0.005187288259542612\n",
      "0.0043446299626606006\n",
      "0.0030875206952258472\n",
      "0.0022586236466299306\n",
      "0.0017255605790154084\n",
      "0.0016226092120311902\n",
      "0.0014368990593077438\n",
      "0.0014049924901696968\n",
      "0.0012901618687111392\n",
      "0.0011008109393690307\n",
      "0.0009889120331748695\n",
      "0.0007625168393771189\n",
      "0.0005839952479669175\n",
      "0.0004638276699745275\n",
      "7.358743502835901e-05\n",
      "-0.0004364871276632203\n",
      "-0.0008558628553619476\n",
      "-0.0011614567414469808\n",
      "-0.0012053332437295431\n",
      "-0.0015218328318161534\n",
      "-0.002770661882305001\n",
      "-0.003504412982825123\n",
      "-0.004662808988473023\n",
      "-0.005266904725930219\n",
      "-0.005553569862249591\n",
      "-0.0056809080500611646\n",
      "-0.0062994258537964025\n",
      "-0.006880829665521661\n",
      "-0.0069932291541570475\n",
      "-0.007458716413127749\n",
      "-0.00788239880732494\n",
      "-0.007927075264000587\n",
      "-0.008118721130051734\n",
      "-0.008821007266885767\n",
      "-0.00967521747609973\n",
      "-0.010377071605479515\n",
      "-0.010820302987526256\n",
      "-0.011503718466704838\n",
      "-0.012744273132488685\n",
      "-0.013871570002567253\n",
      "-0.01390620463457857\n",
      "-0.014011911518821791\n",
      "-0.014804974756951786\n",
      "-0.015160274556498739\n",
      "-0.015703625529663527\n",
      "-0.01579123839188968\n",
      "-0.016092411324585405\n",
      "-0.016692563625172036\n",
      "-0.019895001534771646\n",
      "-0.02123522670889752\n",
      "-0.024947309189829455\n",
      "-0.02735623812478498\n",
      "-0.028511252013998584\n",
      "-0.03469922140000381\n",
      "-0.03796622740249425\n",
      "-0.03869164444350576\n",
      "-0.040282298953930304\n",
      "-0.06172150065290025\n",
      "-0.08869914085859852\n",
      "-0.10236883084144327\n",
      "-0.10913472805835225\n",
      "-0.11560448927241114\n",
      "-0.1293144674138526\n",
      "-0.15367728949869308\n",
      "-0.16887880592474305\n",
      "-0.1714339459788558\n",
      "-0.18848665862329125\n",
      "-0.22862112530320006\n",
      "-0.2631477628435698\n",
      "-0.31931054800352593\n",
      "-0.3212732037334771\n",
      "-0.5824536900499023\n"
     ]
    }
   ],
   "source": [
    "for i,v in enumerate(a['수치']):\n",
    "    if ((v>-1.0) and (v<1.0)) :\n",
    "        print(v)"
   ]
  },
  {
   "cell_type": "code",
   "execution_count": 103,
   "metadata": {},
   "outputs": [
    {
     "data": {
      "text/html": [
       "<div>\n",
       "<style scoped>\n",
       "    .dataframe tbody tr th:only-of-type {\n",
       "        vertical-align: middle;\n",
       "    }\n",
       "\n",
       "    .dataframe tbody tr th {\n",
       "        vertical-align: top;\n",
       "    }\n",
       "\n",
       "    .dataframe thead th {\n",
       "        text-align: right;\n",
       "    }\n",
       "</style>\n",
       "<table border=\"1\" class=\"dataframe\">\n",
       "  <thead>\n",
       "    <tr style=\"text-align: right;\">\n",
       "      <th></th>\n",
       "      <th>수치</th>\n",
       "    </tr>\n",
       "  </thead>\n",
       "  <tbody>\n",
       "    <tr>\n",
       "      <th>성별</th>\n",
       "      <td>1.000000</td>\n",
       "    </tr>\n",
       "    <tr>\n",
       "      <th>Husband</th>\n",
       "      <td>0.580135</td>\n",
       "    </tr>\n",
       "    <tr>\n",
       "      <th>Married-civ-spouse</th>\n",
       "      <td>0.431805</td>\n",
       "    </tr>\n",
       "    <tr>\n",
       "      <th>주당 시간별</th>\n",
       "      <td>0.235689</td>\n",
       "    </tr>\n",
       "    <tr>\n",
       "      <th>주당 시간</th>\n",
       "      <td>0.229309</td>\n",
       "    </tr>\n",
       "    <tr>\n",
       "      <th>...</th>\n",
       "      <td>...</td>\n",
       "    </tr>\n",
       "    <tr>\n",
       "      <th>Divorced</th>\n",
       "      <td>-0.228621</td>\n",
       "    </tr>\n",
       "    <tr>\n",
       "      <th>Adm-clerical</th>\n",
       "      <td>-0.263148</td>\n",
       "    </tr>\n",
       "    <tr>\n",
       "      <th>Wife</th>\n",
       "      <td>-0.319311</td>\n",
       "    </tr>\n",
       "    <tr>\n",
       "      <th>Unmarried</th>\n",
       "      <td>-0.321273</td>\n",
       "    </tr>\n",
       "    <tr>\n",
       "      <th>관계</th>\n",
       "      <td>-0.582454</td>\n",
       "    </tr>\n",
       "  </tbody>\n",
       "</table>\n",
       "<p>115 rows × 1 columns</p>\n",
       "</div>"
      ],
      "text/plain": [
       "                           수치\n",
       "성별                   1.000000\n",
       " Husband             0.580135\n",
       " Married-civ-spouse  0.431805\n",
       "주당 시간별               0.235689\n",
       "주당 시간                0.229309\n",
       "...                       ...\n",
       " Divorced           -0.228621\n",
       " Adm-clerical       -0.263148\n",
       " Wife               -0.319311\n",
       " Unmarried          -0.321273\n",
       "관계                  -0.582454\n",
       "\n",
       "[115 rows x 1 columns]"
      ]
     },
     "execution_count": 103,
     "metadata": {},
     "output_type": "execute_result"
    }
   ],
   "source": []
  },
  {
   "cell_type": "code",
   "execution_count": 100,
   "metadata": {},
   "outputs": [
    {
     "name": "stdout",
     "output_type": "stream",
     "text": [
      "1\n"
     ]
    }
   ],
   "source": [
    "for i,v in enumerate(a[['1']]):\n",
    "    #if (v<1) and (v>-1) :\n",
    "        print(v)"
   ]
  },
  {
   "cell_type": "code",
   "execution_count": null,
   "metadata": {},
   "outputs": [],
   "source": []
  },
  {
   "cell_type": "code",
   "execution_count": 56,
   "metadata": {},
   "outputs": [
    {
     "data": {
      "text/plain": [
       "3    8613\n",
       "2    8054\n",
       "4    7175\n",
       "5    4418\n",
       "6    2015\n",
       "1    1657\n",
       "7     508\n",
       "8      78\n",
       "9      43\n",
       "Name: 나이, dtype: int64"
      ]
     },
     "execution_count": 56,
     "metadata": {},
     "output_type": "execute_result"
    }
   ],
   "source": [
    "human_train['나이'].value_counts()"
   ]
  },
  {
   "cell_type": "code",
   "execution_count": 53,
   "metadata": {},
   "outputs": [
    {
     "data": {
      "text/plain": [
       "3    8613\n",
       "2    8054\n",
       "4    7175\n",
       "5    4418\n",
       "6    2015\n",
       "1    1657\n",
       "7     508\n",
       "8      78\n",
       "9      43\n",
       "Name: 나이, dtype: int64"
      ]
     },
     "execution_count": 53,
     "metadata": {},
     "output_type": "execute_result"
    }
   ],
   "source": [
    "a.value_counts()"
   ]
  },
  {
   "cell_type": "code",
   "execution_count": 4,
   "metadata": {},
   "outputs": [
    {
     "data": {
      "text/plain": [
       "count    32561.000000\n",
       "mean        38.581647\n",
       "std         13.640433\n",
       "min         17.000000\n",
       "25%         28.000000\n",
       "50%         37.000000\n",
       "75%         48.000000\n",
       "max         90.000000\n",
       "Name: 나이, dtype: float64"
      ]
     },
     "execution_count": 4,
     "metadata": {},
     "output_type": "execute_result"
    }
   ],
   "source": [
    "human_train['나이'].describe()"
   ]
  },
  {
   "cell_type": "code",
   "execution_count": 66,
   "metadata": {},
   "outputs": [
    {
     "data": {
      "text/plain": [
       "18     1852\n",
       "19     1815\n",
       "17     1758\n",
       "16     1537\n",
       "20     1483\n",
       "       ... \n",
       "116       1\n",
       "148       1\n",
       "88        1\n",
       "118       1\n",
       "95        1\n",
       "Name: fnlwgt, Length: 99, dtype: int64"
      ]
     },
     "execution_count": 66,
     "metadata": {},
     "output_type": "execute_result"
    }
   ],
   "source": [
    "human_train['fnlwgt'].value_counts()"
   ]
  },
  {
   "cell_type": "code",
   "execution_count": 6,
   "metadata": {},
   "outputs": [
    {
     "data": {
      "text/plain": [
       "Index(['아이디', '나이', '노동 계급', 'fnlwgt', '학력', '교육 수', '혼인 상태', '직업', '관계', '인종',\n",
       "       '성별', '자본 이득', '자본 손실', '주당 시간', '모국'],\n",
       "      dtype='object')"
      ]
     },
     "execution_count": 6,
     "metadata": {},
     "output_type": "execute_result"
    }
   ],
   "source": [
    "human_train.columns"
   ]
  },
  {
   "cell_type": "code",
   "execution_count": 7,
   "metadata": {},
   "outputs": [
    {
     "data": {
      "text/plain": [
       "9     10501\n",
       "10     7291\n",
       "13     5355\n",
       "14     1723\n",
       "11     1382\n",
       "7      1175\n",
       "12     1067\n",
       "6       933\n",
       "4       646\n",
       "15      576\n",
       "5       514\n",
       "8       433\n",
       "16      413\n",
       "3       333\n",
       "2       168\n",
       "1        51\n",
       "Name: 교육 수, dtype: int64"
      ]
     },
     "execution_count": 7,
     "metadata": {},
     "output_type": "execute_result"
    }
   ],
   "source": [
    "human_train['교육 수'].value_counts()"
   ]
  },
  {
   "cell_type": "code",
   "execution_count": 8,
   "metadata": {},
   "outputs": [
    {
     "data": {
      "text/plain": [
       "0        29849\n",
       "15024      347\n",
       "7688       284\n",
       "7298       246\n",
       "99999      159\n",
       "         ...  \n",
       "4931         1\n",
       "1455         1\n",
       "6097         1\n",
       "22040        1\n",
       "1111         1\n",
       "Name: 자본 이득, Length: 119, dtype: int64"
      ]
     },
     "execution_count": 8,
     "metadata": {},
     "output_type": "execute_result"
    }
   ],
   "source": [
    "human_train['자본 이득'].value_counts()"
   ]
  },
  {
   "cell_type": "code",
   "execution_count": 9,
   "metadata": {},
   "outputs": [
    {
     "data": {
      "text/plain": [
       "0       31042\n",
       "1902      202\n",
       "1977      168\n",
       "1887      159\n",
       "1848       51\n",
       "        ...  \n",
       "1411        1\n",
       "1539        1\n",
       "2472        1\n",
       "1944        1\n",
       "2201        1\n",
       "Name: 자본 손실, Length: 92, dtype: int64"
      ]
     },
     "execution_count": 9,
     "metadata": {},
     "output_type": "execute_result"
    }
   ],
   "source": [
    "human_train['자본 손실'].value_counts()"
   ]
  },
  {
   "cell_type": "code",
   "execution_count": 58,
   "metadata": {},
   "outputs": [
    {
     "data": {
      "text/plain": [
       "19750     1\n",
       "25078     1\n",
       "11451     1\n",
       "8447      1\n",
       "32525     1\n",
       "         ..\n",
       "25806    99\n",
       "30610    99\n",
       "10143    99\n",
       "4308     99\n",
       "1887     99\n",
       "Name: 주당 시간, Length: 32561, dtype: int64"
      ]
     },
     "execution_count": 58,
     "metadata": {},
     "output_type": "execute_result"
    }
   ],
   "source": [
    "human_train['주당 시간'].sort_values()"
   ]
  },
  {
   "cell_type": "code",
   "execution_count": 59,
   "metadata": {},
   "outputs": [
    {
     "data": {
      "text/plain": [
       "0        40\n",
       "1        13\n",
       "2        40\n",
       "3        40\n",
       "4        40\n",
       "         ..\n",
       "32556    38\n",
       "32557    40\n",
       "32558    40\n",
       "32559    20\n",
       "32560    40\n",
       "Name: 주당 시간, Length: 32561, dtype: int64"
      ]
     },
     "execution_count": 59,
     "metadata": {},
     "output_type": "execute_result"
    }
   ],
   "source": [
    "human_train['주당 시간']"
   ]
  },
  {
   "cell_type": "code",
   "execution_count": 64,
   "metadata": {},
   "outputs": [],
   "source": [
    "human_train['fnlwgt'] = (human_train['fnlwgt']/10000).astype(int)"
   ]
  },
  {
   "cell_type": "code",
   "execution_count": null,
   "metadata": {},
   "outputs": [],
   "source": [
    "human_new[[\"관계\"]] = human_new[[\"관계\"]].apply(lambda x: x.str.lstrip())\n",
    "human_new[[\"관계\"]] = human_new[[\"관계\"]].apply(lambda x: x.astype('category').cat.codes)"
   ]
  }
 ],
 "metadata": {
  "kernelspec": {
   "display_name": "Python 3",
   "language": "python",
   "name": "python3"
  },
  "language_info": {
   "codemirror_mode": {
    "name": "ipython",
    "version": 3
   },
   "file_extension": ".py",
   "mimetype": "text/x-python",
   "name": "python",
   "nbconvert_exporter": "python",
   "pygments_lexer": "ipython3",
   "version": "3.8.5"
  }
 },
 "nbformat": 4,
 "nbformat_minor": 4
}
