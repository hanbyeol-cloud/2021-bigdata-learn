{
 "cells": [
  {
   "cell_type": "code",
   "execution_count": 1,
   "metadata": {},
   "outputs": [],
   "source": [
    "import pandas as pd\n",
    "import numpy as np\n",
    "import matplotlib.pyplot as plt\n",
    "%matplotlib inline\n",
    "from sklearn.model_selection import train_test_split\n",
    "from sklearn.linear_model import LogisticRegression\n",
    "from sklearn.neighbors import KNeighborsClassifier\n",
    "from sklearn.model_selection import cross_val_score\n",
    "from sklearn.preprocessing import MinMaxScaler\n",
    "from sklearn.preprocessing import StandardScaler\n",
    "from imblearn.combine import *\n",
    "from imblearn.combine import *\n",
    "from sklearn.metrics import classification_report\n",
    "from imblearn.under_sampling import TomekLinks\n",
    "from imblearn.combine import SMOTETomek\n",
    "from imblearn.under_sampling import RandomUnderSampler\n",
    "from imblearn.over_sampling import RandomOverSampler\n",
    "from sklearn.model_selection import KFold\n",
    "from sklearn.model_selection import StratifiedKFold\n",
    "from sklearn.model_selection import LeaveOneOut\n",
    "from sklearn.metrics import accuracy_score\n",
    "from sklearn.tree import DecisionTreeClassifier\n",
    "from sklearn import tree\n",
    "from sklearn.metrics import recall_score\n",
    "from sklearn.metrics import precision_score\n",
    "from sklearn.model_selection import GridSearchCV\n",
    "from sklearn.dummy import DummyClassifier\n",
    "from sklearn.svm import SVC\n",
    "from sklearn.neural_network import MLPClassifier\n",
    "from sklearn.metrics import mean_squared_error\n",
    "import xgboost as xgb\n",
    "from xgboost import XGBClassifier\n",
    "from xgboost import plot_importance\n",
    "from sklearn.metrics import confusion_matrix\n",
    "from lightgbm import LGBMClassifier\n",
    "from sklearn.metrics import precision_recall_curve\n",
    "from sklearn.metrics import roc_curve\n",
    "from sklearn.metrics import auc\n",
    "from bayes_opt import BayesianOptimization\n",
    "from lightgbm import LGBMRegressor"
   ]
  },
  {
   "cell_type": "code",
   "execution_count": 2,
   "metadata": {},
   "outputs": [],
   "source": [
    "human_train = pd.read_csv(\"work/human.csv\", encoding=\"cp949\")\n",
    "human_new = pd.read_csv(\"work/human_new.csv\", encoding=\"cp949\")"
   ]
  },
  {
   "cell_type": "code",
   "execution_count": 3,
   "metadata": {},
   "outputs": [],
   "source": [
    "# human_train"
   ]
  },
  {
   "cell_type": "code",
   "execution_count": 4,
   "metadata": {},
   "outputs": [],
   "source": [
    "# human_train.info()"
   ]
  },
  {
   "cell_type": "code",
   "execution_count": 5,
   "metadata": {},
   "outputs": [],
   "source": [
    "# human_train.isnull().sum()"
   ]
  },
  {
   "cell_type": "code",
   "execution_count": 6,
   "metadata": {},
   "outputs": [],
   "source": [
    "# human_train[\"노동 계급\"].value_counts()"
   ]
  },
  {
   "cell_type": "code",
   "execution_count": 7,
   "metadata": {},
   "outputs": [],
   "source": [
    "# human_train[\"학력\"].value_counts()"
   ]
  },
  {
   "cell_type": "code",
   "execution_count": 8,
   "metadata": {},
   "outputs": [],
   "source": [
    "# human_train[\"혼인 상태\"].value_counts()"
   ]
  },
  {
   "cell_type": "code",
   "execution_count": 9,
   "metadata": {},
   "outputs": [],
   "source": [
    "# human_train[\"직업\"].value_counts()"
   ]
  },
  {
   "cell_type": "code",
   "execution_count": 10,
   "metadata": {},
   "outputs": [],
   "source": [
    "# human_train[\"관계\"].value_counts()"
   ]
  },
  {
   "cell_type": "code",
   "execution_count": 11,
   "metadata": {},
   "outputs": [],
   "source": [
    "# human_train[\"인종\"].value_counts()"
   ]
  },
  {
   "cell_type": "code",
   "execution_count": 12,
   "metadata": {},
   "outputs": [],
   "source": [
    "# human_train[\"모국\"].value_counts()"
   ]
  },
  {
   "cell_type": "code",
   "execution_count": 13,
   "metadata": {},
   "outputs": [],
   "source": [
    "# human_train[\"교육 수\"].value_counts()"
   ]
  },
  {
   "cell_type": "code",
   "execution_count": 14,
   "metadata": {},
   "outputs": [],
   "source": [
    "# human_train[\"자본 이득\"].value_counts()"
   ]
  },
  {
   "cell_type": "code",
   "execution_count": 15,
   "metadata": {},
   "outputs": [],
   "source": [
    "#  human_train[\"자본 손실\"].value_counts()"
   ]
  },
  {
   "cell_type": "code",
   "execution_count": 16,
   "metadata": {},
   "outputs": [],
   "source": [
    "# human_train[\"주당 시간\"].value_counts()"
   ]
  },
  {
   "cell_type": "markdown",
   "metadata": {},
   "source": [
    "# Null값 제거"
   ]
  },
  {
   "cell_type": "code",
   "execution_count": 4,
   "metadata": {},
   "outputs": [
    {
     "data": {
      "text/html": [
       "<div>\n",
       "<style scoped>\n",
       "    .dataframe tbody tr th:only-of-type {\n",
       "        vertical-align: middle;\n",
       "    }\n",
       "\n",
       "    .dataframe tbody tr th {\n",
       "        vertical-align: top;\n",
       "    }\n",
       "\n",
       "    .dataframe thead th {\n",
       "        text-align: right;\n",
       "    }\n",
       "</style>\n",
       "<table border=\"1\" class=\"dataframe\">\n",
       "  <thead>\n",
       "    <tr style=\"text-align: right;\">\n",
       "      <th></th>\n",
       "      <th>아이디</th>\n",
       "      <th>나이</th>\n",
       "      <th>노동 계급</th>\n",
       "      <th>fnlwgt</th>\n",
       "      <th>학력</th>\n",
       "      <th>교육 수</th>\n",
       "      <th>혼인 상태</th>\n",
       "      <th>직업</th>\n",
       "      <th>관계</th>\n",
       "      <th>인종</th>\n",
       "      <th>성별</th>\n",
       "      <th>자본 이득</th>\n",
       "      <th>자본 손실</th>\n",
       "      <th>주당 시간</th>\n",
       "      <th>모국</th>\n",
       "    </tr>\n",
       "  </thead>\n",
       "  <tbody>\n",
       "    <tr>\n",
       "      <th>0</th>\n",
       "      <td>H20001</td>\n",
       "      <td>39</td>\n",
       "      <td>State-gov</td>\n",
       "      <td>77516</td>\n",
       "      <td>Bachelors</td>\n",
       "      <td>13</td>\n",
       "      <td>Never-married</td>\n",
       "      <td>Adm-clerical</td>\n",
       "      <td>Not-in-family</td>\n",
       "      <td>White</td>\n",
       "      <td>Male</td>\n",
       "      <td>2174</td>\n",
       "      <td>0</td>\n",
       "      <td>40</td>\n",
       "      <td>United-States</td>\n",
       "    </tr>\n",
       "    <tr>\n",
       "      <th>1</th>\n",
       "      <td>H20002</td>\n",
       "      <td>50</td>\n",
       "      <td>Self-emp-not-inc</td>\n",
       "      <td>83311</td>\n",
       "      <td>Bachelors</td>\n",
       "      <td>13</td>\n",
       "      <td>Married-civ-spouse</td>\n",
       "      <td>Exec-managerial</td>\n",
       "      <td>Husband</td>\n",
       "      <td>White</td>\n",
       "      <td>Male</td>\n",
       "      <td>0</td>\n",
       "      <td>0</td>\n",
       "      <td>13</td>\n",
       "      <td>United-States</td>\n",
       "    </tr>\n",
       "    <tr>\n",
       "      <th>2</th>\n",
       "      <td>H20003</td>\n",
       "      <td>38</td>\n",
       "      <td>Private</td>\n",
       "      <td>215646</td>\n",
       "      <td>HS-grad</td>\n",
       "      <td>9</td>\n",
       "      <td>Divorced</td>\n",
       "      <td>Handlers-cleaners</td>\n",
       "      <td>Not-in-family</td>\n",
       "      <td>White</td>\n",
       "      <td>Male</td>\n",
       "      <td>0</td>\n",
       "      <td>0</td>\n",
       "      <td>40</td>\n",
       "      <td>United-States</td>\n",
       "    </tr>\n",
       "    <tr>\n",
       "      <th>3</th>\n",
       "      <td>H20004</td>\n",
       "      <td>53</td>\n",
       "      <td>Private</td>\n",
       "      <td>234721</td>\n",
       "      <td>11th</td>\n",
       "      <td>7</td>\n",
       "      <td>Married-civ-spouse</td>\n",
       "      <td>Handlers-cleaners</td>\n",
       "      <td>Husband</td>\n",
       "      <td>Black</td>\n",
       "      <td>Male</td>\n",
       "      <td>0</td>\n",
       "      <td>0</td>\n",
       "      <td>40</td>\n",
       "      <td>United-States</td>\n",
       "    </tr>\n",
       "    <tr>\n",
       "      <th>4</th>\n",
       "      <td>H20005</td>\n",
       "      <td>28</td>\n",
       "      <td>Private</td>\n",
       "      <td>338409</td>\n",
       "      <td>Bachelors</td>\n",
       "      <td>13</td>\n",
       "      <td>Married-civ-spouse</td>\n",
       "      <td>Prof-specialty</td>\n",
       "      <td>Wife</td>\n",
       "      <td>Black</td>\n",
       "      <td>Female</td>\n",
       "      <td>0</td>\n",
       "      <td>0</td>\n",
       "      <td>40</td>\n",
       "      <td>Cuba</td>\n",
       "    </tr>\n",
       "    <tr>\n",
       "      <th>...</th>\n",
       "      <td>...</td>\n",
       "      <td>...</td>\n",
       "      <td>...</td>\n",
       "      <td>...</td>\n",
       "      <td>...</td>\n",
       "      <td>...</td>\n",
       "      <td>...</td>\n",
       "      <td>...</td>\n",
       "      <td>...</td>\n",
       "      <td>...</td>\n",
       "      <td>...</td>\n",
       "      <td>...</td>\n",
       "      <td>...</td>\n",
       "      <td>...</td>\n",
       "      <td>...</td>\n",
       "    </tr>\n",
       "    <tr>\n",
       "      <th>32556</th>\n",
       "      <td>H52557</td>\n",
       "      <td>27</td>\n",
       "      <td>Private</td>\n",
       "      <td>257302</td>\n",
       "      <td>Assoc-acdm</td>\n",
       "      <td>12</td>\n",
       "      <td>Married-civ-spouse</td>\n",
       "      <td>Tech-support</td>\n",
       "      <td>Wife</td>\n",
       "      <td>White</td>\n",
       "      <td>Female</td>\n",
       "      <td>0</td>\n",
       "      <td>0</td>\n",
       "      <td>38</td>\n",
       "      <td>United-States</td>\n",
       "    </tr>\n",
       "    <tr>\n",
       "      <th>32557</th>\n",
       "      <td>H52558</td>\n",
       "      <td>40</td>\n",
       "      <td>Private</td>\n",
       "      <td>154374</td>\n",
       "      <td>HS-grad</td>\n",
       "      <td>9</td>\n",
       "      <td>Married-civ-spouse</td>\n",
       "      <td>Machine-op-inspct</td>\n",
       "      <td>Husband</td>\n",
       "      <td>White</td>\n",
       "      <td>Male</td>\n",
       "      <td>0</td>\n",
       "      <td>0</td>\n",
       "      <td>40</td>\n",
       "      <td>United-States</td>\n",
       "    </tr>\n",
       "    <tr>\n",
       "      <th>32558</th>\n",
       "      <td>H52559</td>\n",
       "      <td>58</td>\n",
       "      <td>Private</td>\n",
       "      <td>151910</td>\n",
       "      <td>HS-grad</td>\n",
       "      <td>9</td>\n",
       "      <td>Widowed</td>\n",
       "      <td>Adm-clerical</td>\n",
       "      <td>Unmarried</td>\n",
       "      <td>White</td>\n",
       "      <td>Female</td>\n",
       "      <td>0</td>\n",
       "      <td>0</td>\n",
       "      <td>40</td>\n",
       "      <td>United-States</td>\n",
       "    </tr>\n",
       "    <tr>\n",
       "      <th>32559</th>\n",
       "      <td>H52560</td>\n",
       "      <td>22</td>\n",
       "      <td>Private</td>\n",
       "      <td>201490</td>\n",
       "      <td>HS-grad</td>\n",
       "      <td>9</td>\n",
       "      <td>Never-married</td>\n",
       "      <td>Adm-clerical</td>\n",
       "      <td>Own-child</td>\n",
       "      <td>White</td>\n",
       "      <td>Male</td>\n",
       "      <td>0</td>\n",
       "      <td>0</td>\n",
       "      <td>20</td>\n",
       "      <td>United-States</td>\n",
       "    </tr>\n",
       "    <tr>\n",
       "      <th>32560</th>\n",
       "      <td>H52561</td>\n",
       "      <td>52</td>\n",
       "      <td>Self-emp-inc</td>\n",
       "      <td>287927</td>\n",
       "      <td>HS-grad</td>\n",
       "      <td>9</td>\n",
       "      <td>Married-civ-spouse</td>\n",
       "      <td>Exec-managerial</td>\n",
       "      <td>Wife</td>\n",
       "      <td>White</td>\n",
       "      <td>Female</td>\n",
       "      <td>15024</td>\n",
       "      <td>0</td>\n",
       "      <td>40</td>\n",
       "      <td>United-States</td>\n",
       "    </tr>\n",
       "  </tbody>\n",
       "</table>\n",
       "<p>30718 rows × 15 columns</p>\n",
       "</div>"
      ],
      "text/plain": [
       "          아이디  나이              노동 계급  fnlwgt           학력  교육 수  \\\n",
       "0      H20001  39          State-gov   77516    Bachelors    13   \n",
       "1      H20002  50   Self-emp-not-inc   83311    Bachelors    13   \n",
       "2      H20003  38            Private  215646      HS-grad     9   \n",
       "3      H20004  53            Private  234721         11th     7   \n",
       "4      H20005  28            Private  338409    Bachelors    13   \n",
       "...       ...  ..                ...     ...          ...   ...   \n",
       "32556  H52557  27            Private  257302   Assoc-acdm    12   \n",
       "32557  H52558  40            Private  154374      HS-grad     9   \n",
       "32558  H52559  58            Private  151910      HS-grad     9   \n",
       "32559  H52560  22            Private  201490      HS-grad     9   \n",
       "32560  H52561  52       Self-emp-inc  287927      HS-grad     9   \n",
       "\n",
       "                     혼인 상태                  직업              관계      인종  \\\n",
       "0            Never-married        Adm-clerical   Not-in-family   White   \n",
       "1       Married-civ-spouse     Exec-managerial         Husband   White   \n",
       "2                 Divorced   Handlers-cleaners   Not-in-family   White   \n",
       "3       Married-civ-spouse   Handlers-cleaners         Husband   Black   \n",
       "4       Married-civ-spouse      Prof-specialty            Wife   Black   \n",
       "...                    ...                 ...             ...     ...   \n",
       "32556   Married-civ-spouse        Tech-support            Wife   White   \n",
       "32557   Married-civ-spouse   Machine-op-inspct         Husband   White   \n",
       "32558              Widowed        Adm-clerical       Unmarried   White   \n",
       "32559        Never-married        Adm-clerical       Own-child   White   \n",
       "32560   Married-civ-spouse     Exec-managerial            Wife   White   \n",
       "\n",
       "            성별  자본 이득  자본 손실  주당 시간              모국  \n",
       "0         Male   2174      0     40   United-States  \n",
       "1         Male      0      0     13   United-States  \n",
       "2         Male      0      0     40   United-States  \n",
       "3         Male      0      0     40   United-States  \n",
       "4       Female      0      0     40            Cuba  \n",
       "...        ...    ...    ...    ...             ...  \n",
       "32556   Female      0      0     38   United-States  \n",
       "32557     Male      0      0     40   United-States  \n",
       "32558   Female      0      0     40   United-States  \n",
       "32559     Male      0      0     20   United-States  \n",
       "32560   Female  15024      0     40   United-States  \n",
       "\n",
       "[30718 rows x 15 columns]"
      ]
     },
     "execution_count": 4,
     "metadata": {},
     "output_type": "execute_result"
    }
   ],
   "source": [
    "human_train.dropna(subset=[\"노동 계급\",\"직업\",\"학력\"],inplace=True)\n",
    "human_train"
   ]
  },
  {
   "cell_type": "markdown",
   "metadata": {},
   "source": [
    "# 성별 수치형으로 변환"
   ]
  },
  {
   "cell_type": "code",
   "execution_count": 5,
   "metadata": {},
   "outputs": [],
   "source": [
    "human_train[[\"성별\"]] = human_train[[\"성별\"]].apply(lambda x: x.str.lstrip())\n",
    "human_train[[\"성별\"]] = human_train[[\"성별\"]].apply(lambda x: x.astype('category').cat.codes)"
   ]
  },
  {
   "cell_type": "code",
   "execution_count": 19,
   "metadata": {},
   "outputs": [],
   "source": [
    "# human_train[\"성별\"] = human_train[\"성별\"].str.strip()"
   ]
  },
  {
   "cell_type": "code",
   "execution_count": 20,
   "metadata": {},
   "outputs": [],
   "source": [
    "# gender = {\"Male\":1, \"Female\":0}\n",
    "# human_train[\"성별\"] = human_train[\"성별\"].map(gender)"
   ]
  },
  {
   "cell_type": "code",
   "execution_count": 21,
   "metadata": {},
   "outputs": [
    {
     "data": {
      "text/plain": [
       "1    20788\n",
       "0     9930\n",
       "Name: 성별, dtype: int64"
      ]
     },
     "execution_count": 21,
     "metadata": {},
     "output_type": "execute_result"
    }
   ],
   "source": [
    "human_train[\"성별\"].value_counts()"
   ]
  },
  {
   "cell_type": "markdown",
   "metadata": {},
   "source": [
    "# 아웃라이어 제거"
   ]
  },
  {
   "cell_type": "code",
   "execution_count": 6,
   "metadata": {},
   "outputs": [],
   "source": [
    "for i, v in enumerate(human_train['나이']):\n",
    "    if v>70 :\n",
    "        human_train['나이'].replace(v,70,inplace=True)"
   ]
  },
  {
   "cell_type": "code",
   "execution_count": 7,
   "metadata": {},
   "outputs": [],
   "source": [
    "for i, v in enumerate(human_train['fnlwgt']):\n",
    "    if v>400000 :\n",
    "        human_train['fnlwgt'].replace(v,400000,inplace=True)"
   ]
  },
  {
   "cell_type": "code",
   "execution_count": 8,
   "metadata": {},
   "outputs": [],
   "source": [
    "for i, v in enumerate(human_train['주당 시간']):\n",
    "    if v>70 :\n",
    "        human_train['주당 시간'].replace(v,70,inplace=True)"
   ]
  },
  {
   "cell_type": "markdown",
   "metadata": {},
   "source": [
    "# 파생 변수 만들기"
   ]
  },
  {
   "cell_type": "code",
   "execution_count": 9,
   "metadata": {},
   "outputs": [],
   "source": [
    "s1=human_train['자본 이득']\n",
    "s2=human_train['자본 손실']\n",
    "s=s1+s2\n",
    "s.rename(\"순이익\",inplace=True)\n",
    "human_train = pd.concat([human_train,s],axis=1)"
   ]
  },
  {
   "cell_type": "code",
   "execution_count": 10,
   "metadata": {},
   "outputs": [],
   "source": [
    "human_train['나이대'] = (human_train['나이']/10).astype(int)\n",
    "human_train['주당 시간별'] = (human_train['주당 시간']/10).astype(int)\n",
    "human_train['fnlwgt2'] = (human_train['fnlwgt']/10000).astype(int)"
   ]
  },
  {
   "cell_type": "code",
   "execution_count": 11,
   "metadata": {},
   "outputs": [],
   "source": [
    "# working_class = pd.get_dummies(human_train[\"노동 계급\"])\n",
    "# human_train = pd.concat([human_train, working_class], axis=1)\n",
    "# human_train.drop(\"노동 계급\", axis=1, inplace=True)\n",
    "\n",
    "human_train[[\"노동 계급\"]] = human_train[[\"노동 계급\"]].apply(lambda x: x.str.lstrip())\n",
    "human_train[[\"노동 계급\"]] = human_train[[\"노동 계급\"]].apply(lambda x: x.astype('category').cat.codes)"
   ]
  },
  {
   "cell_type": "code",
   "execution_count": 12,
   "metadata": {},
   "outputs": [],
   "source": [
    "# academic_ability = pd.get_dummies(human_train[\"학력\"])\n",
    "# human_train = pd.concat([human_train,academic_ability],axis=1)\n",
    "# human_train.drop(\"학력\",axis=1,inplace=True)\n",
    "\n",
    "human_train[[\"학력\"]] = human_train[[\"학력\"]].apply(lambda x: x.str.lstrip())\n",
    "human_train[[\"학력\"]] = human_train[[\"학력\"]].apply(lambda x: x.astype('category').cat.codes)"
   ]
  },
  {
   "cell_type": "code",
   "execution_count": 13,
   "metadata": {},
   "outputs": [],
   "source": [
    "# marital_status = pd.get_dummies(human_train[\"혼인 상태\"])\n",
    "# human_train = pd.concat([human_train,marital_status], axis=1)\n",
    "# human_train.drop(\"혼인 상태\", axis=1, inplace=True)\n",
    "\n",
    "human_train[[\"혼인 상태\"]] = human_train[[\"혼인 상태\"]].apply(lambda x: x.str.lstrip())\n",
    "human_train[[\"혼인 상태\"]] = human_train[[\"혼인 상태\"]].apply(lambda x: x.astype('category').cat.codes)"
   ]
  },
  {
   "cell_type": "code",
   "execution_count": 14,
   "metadata": {},
   "outputs": [],
   "source": [
    "# jobs = pd.get_dummies(human_train[\"직업\"])\n",
    "# human_train = pd.concat([human_train, jobs], axis=1)\n",
    "# human_train.drop(\"직업\", axis=1, inplace=True)\n",
    "\n",
    "human_train[[\"직업\"]] = human_train[[\"직업\"]].apply(lambda x: x.str.lstrip())\n",
    "human_train[[\"직업\"]] = human_train[[\"직업\"]].apply(lambda x: x.astype('category').cat.codes)"
   ]
  },
  {
   "cell_type": "code",
   "execution_count": 15,
   "metadata": {},
   "outputs": [],
   "source": [
    "# relationship = pd.get_dummies(human_train[\"관계\"])\n",
    "# human_train = pd.concat([human_train, relationship], axis=1)\n",
    "# human_train.drop(\"관계\", axis=1, inplace=True)\n",
    "\n",
    "human_train[[\"관계\"]] = human_train[[\"관계\"]].apply(lambda x: x.str.lstrip())\n",
    "human_train[[\"관계\"]] = human_train[[\"관계\"]].apply(lambda x: x.astype('category').cat.codes)"
   ]
  },
  {
   "cell_type": "code",
   "execution_count": 16,
   "metadata": {},
   "outputs": [],
   "source": [
    "# race = pd.get_dummies(human_train[\"인종\"])\n",
    "# human_train = pd.concat([human_train, race], axis=1)\n",
    "# human_train.drop(\"인종\", axis=1, inplace=True)\n",
    "\n",
    "human_train[[\"인종\"]] = human_train[[\"인종\"]].apply(lambda x: x.str.lstrip())\n",
    "human_train[[\"인종\"]] = human_train[[\"인종\"]].apply(lambda x: x.astype('category').cat.codes)"
   ]
  },
  {
   "cell_type": "code",
   "execution_count": 17,
   "metadata": {},
   "outputs": [],
   "source": [
    "# homeland = pd.get_dummies(human_train[\"모국\"])\n",
    "# human_train = pd.concat([human_train, homeland], axis=1)\n",
    "# human_train.drop(\"모국\", axis=1, inplace=True)\n",
    "\n",
    "human_train[[\"모국\"]] = human_train[[\"모국\"]].apply(lambda x: x.str.lstrip())\n",
    "human_train[[\"모국\"]] = human_train[[\"모국\"]].apply(lambda x: x.astype('category').cat.codes)"
   ]
  },
  {
   "cell_type": "code",
   "execution_count": 18,
   "metadata": {},
   "outputs": [],
   "source": [
    "human_train.drop([\"자본 이득\",\"자본 손실\",\"순이익\"],axis=1,inplace=True)"
   ]
  },
  {
   "cell_type": "code",
   "execution_count": 19,
   "metadata": {},
   "outputs": [
    {
     "data": {
      "text/plain": [
       "0"
      ]
     },
     "execution_count": 19,
     "metadata": {},
     "output_type": "execute_result"
    }
   ],
   "source": [
    "human_train.isnull().sum().sum()"
   ]
  },
  {
   "cell_type": "code",
   "execution_count": 21,
   "metadata": {},
   "outputs": [
    {
     "data": {
      "text/plain": [
       "나이            AxesSubplot(0.125,0.816017;0.352273x0.0639831)\n",
       "노동 계급      AxesSubplot(0.547727,0.816017;0.352273x0.0639831)\n",
       "fnlwgt        AxesSubplot(0.125,0.739237;0.352273x0.0639831)\n",
       "학력         AxesSubplot(0.547727,0.739237;0.352273x0.0639831)\n",
       "교육 수          AxesSubplot(0.125,0.662458;0.352273x0.0639831)\n",
       "혼인 상태      AxesSubplot(0.547727,0.662458;0.352273x0.0639831)\n",
       "직업            AxesSubplot(0.125,0.585678;0.352273x0.0639831)\n",
       "관계         AxesSubplot(0.547727,0.585678;0.352273x0.0639831)\n",
       "인종            AxesSubplot(0.125,0.508898;0.352273x0.0639831)\n",
       "성별         AxesSubplot(0.547727,0.508898;0.352273x0.0639831)\n",
       "주당 시간         AxesSubplot(0.125,0.432119;0.352273x0.0639831)\n",
       "모국         AxesSubplot(0.547727,0.432119;0.352273x0.0639831)\n",
       "나이대           AxesSubplot(0.125,0.355339;0.352273x0.0639831)\n",
       "주당 시간별     AxesSubplot(0.547727,0.355339;0.352273x0.0639831)\n",
       "fnlwgt2       AxesSubplot(0.125,0.278559;0.352273x0.0639831)\n",
       "dtype: object"
      ]
     },
     "execution_count": 21,
     "metadata": {},
     "output_type": "execute_result"
    },
    {
     "data": {
      "image/png": "[encoded data removed]",
      "text/plain": [
       "<Figure size 720x7200 with 20 Axes>"
      ]
     },
     "metadata": {
      "needs_background": "light"
     },
     "output_type": "display_data"
    }
   ],
   "source": [
    "plt.rcParams['figure.figsize'] = [50, 50]\n",
    "plt.rc('font', family='Malgun Gothic')\n",
    "human_train.loc[:, '나이':'fnlwgt2'].plot.box(subplots=True, layout=(10,2), figsize=(10,100))"
   ]
  },
  {
   "cell_type": "code",
   "execution_count": 35,
   "metadata": {},
   "outputs": [
    {
     "data": {
      "text/plain": [
       "주당 시간별    AxesSubplot(0.125,0.125;0.775x0.755)\n",
       "dtype: object"
      ]
     },
     "execution_count": 35,
     "metadata": {},
     "output_type": "execute_result"
    },
    {
     "data": {
      "image/png": "[encoded data removed]",
      "text/plain": [
       "<Figure size 360x720 with 1 Axes>"
      ]
     },
     "metadata": {
      "needs_background": "light"
     },
     "output_type": "display_data"
    }
   ],
   "source": [
    "human_train.loc[:, '주당 시간별'].plot.box(subplots=True, layout=(1,1), figsize=(5,10))"
   ]
  },
  {
   "cell_type": "code",
   "execution_count": 22,
   "metadata": {},
   "outputs": [
    {
     "data": {
      "text/plain": [
       "count    30718.000000\n",
       "mean         3.924311\n",
       "std          1.189654\n",
       "min          0.000000\n",
       "25%          4.000000\n",
       "50%          4.000000\n",
       "75%          4.000000\n",
       "max          7.000000\n",
       "Name: 주당 시간별, dtype: float64"
      ]
     },
     "execution_count": 22,
     "metadata": {},
     "output_type": "execute_result"
    }
   ],
   "source": [
    "human_train.loc[:,'주당 시간별'].describe().T"
   ]
  },
  {
   "cell_type": "code",
   "execution_count": 37,
   "metadata": {},
   "outputs": [
    {
     "data": {
      "text/plain": [
       "4    17583\n",
       "5     3799\n",
       "3     3374\n",
       "2     2088\n",
       "6     1760\n",
       "1     1063\n",
       "7      435\n",
       "0      294\n",
       "8      189\n",
       "9      133\n",
       "Name: 주당 시간별, dtype: int64"
      ]
     },
     "execution_count": 37,
     "metadata": {},
     "output_type": "execute_result"
    }
   ],
   "source": [
    "human_train.loc[:,'주당 시간별'].value_counts()"
   ]
  },
  {
   "cell_type": "code",
   "execution_count": 23,
   "metadata": {},
   "outputs": [
    {
     "name": "stdout",
     "output_type": "stream",
     "text": [
      "<class 'pandas.core.frame.DataFrame'>\n",
      "Int64Index: 30718 entries, 0 to 32560\n",
      "Data columns (total 16 columns):\n",
      " #   Column   Non-Null Count  Dtype \n",
      "---  ------   --------------  ----- \n",
      " 0   아이디      30718 non-null  object\n",
      " 1   나이       30718 non-null  int64 \n",
      " 2   노동 계급    30718 non-null  int8  \n",
      " 3   fnlwgt   30718 non-null  int64 \n",
      " 4   학력       30718 non-null  int8  \n",
      " 5   교육 수     30718 non-null  int64 \n",
      " 6   혼인 상태    30718 non-null  int8  \n",
      " 7   직업       30718 non-null  int8  \n",
      " 8   관계       30718 non-null  int8  \n",
      " 9   인종       30718 non-null  int8  \n",
      " 10  성별       30718 non-null  int8  \n",
      " 11  주당 시간    30718 non-null  int64 \n",
      " 12  모국       30718 non-null  int8  \n",
      " 13  나이대      30718 non-null  int32 \n",
      " 14  주당 시간별   30718 non-null  int32 \n",
      " 15  fnlwgt2  30718 non-null  int32 \n",
      "dtypes: int32(3), int64(4), int8(8), object(1)\n",
      "memory usage: 2.0+ MB\n"
     ]
    }
   ],
   "source": [
    "human_train.info()"
   ]
  },
  {
   "cell_type": "markdown",
   "metadata": {},
   "source": [
    "# 데이터 나누기"
   ]
  },
  {
   "cell_type": "code",
   "execution_count": 20,
   "metadata": {},
   "outputs": [],
   "source": [
    "htX = human_train.drop([\"아이디\",\"성별\"], axis=1)\n",
    "htY = human_train[\"성별\"]"
   ]
  },
  {
   "cell_type": "code",
   "execution_count": 21,
   "metadata": {},
   "outputs": [],
   "source": [
    "X_train, X_test, Y_train, Y_test = train_test_split(htX, htY, test_size=0.25, random_state=0)"
   ]
  },
  {
   "cell_type": "code",
   "execution_count": 22,
   "metadata": {},
   "outputs": [
    {
     "name": "stdout",
     "output_type": "stream",
     "text": [
      "<class 'pandas.core.frame.DataFrame'>\n",
      "Int64Index: 30718 entries, 0 to 32560\n",
      "Data columns (total 14 columns):\n",
      " #   Column   Non-Null Count  Dtype\n",
      "---  ------   --------------  -----\n",
      " 0   나이       30718 non-null  int64\n",
      " 1   노동 계급    30718 non-null  int8 \n",
      " 2   fnlwgt   30718 non-null  int64\n",
      " 3   학력       30718 non-null  int8 \n",
      " 4   교육 수     30718 non-null  int64\n",
      " 5   혼인 상태    30718 non-null  int8 \n",
      " 6   직업       30718 non-null  int8 \n",
      " 7   관계       30718 non-null  int8 \n",
      " 8   인종       30718 non-null  int8 \n",
      " 9   주당 시간    30718 non-null  int64\n",
      " 10  모국       30718 non-null  int8 \n",
      " 11  나이대      30718 non-null  int32\n",
      " 12  주당 시간별   30718 non-null  int32\n",
      " 13  fnlwgt2  30718 non-null  int32\n",
      "dtypes: int32(3), int64(4), int8(7)\n",
      "memory usage: 1.7 MB\n"
     ]
    }
   ],
   "source": [
    "htX.info()"
   ]
  },
  {
   "cell_type": "markdown",
   "metadata": {},
   "source": [
    "# Normalization"
   ]
  },
  {
   "cell_type": "code",
   "execution_count": 18,
   "metadata": {},
   "outputs": [
    {
     "data": {
      "text/plain": [
       "MinMaxScaler()"
      ]
     },
     "execution_count": 18,
     "metadata": {},
     "output_type": "execute_result"
    }
   ],
   "source": [
    "scaler = MinMaxScaler()\n",
    "scaler.fit(htX)"
   ]
  },
  {
   "cell_type": "code",
   "execution_count": 19,
   "metadata": {},
   "outputs": [],
   "source": [
    "x = scaler.transform(htX)\n",
    "htX = pd.DataFrame(x, columns = htX.columns)"
   ]
  },
  {
   "cell_type": "code",
   "execution_count": 31,
   "metadata": {},
   "outputs": [
    {
     "data": {
      "text/html": [
       "<div>\n",
       "<style scoped>\n",
       "    .dataframe tbody tr th:only-of-type {\n",
       "        vertical-align: middle;\n",
       "    }\n",
       "\n",
       "    .dataframe tbody tr th {\n",
       "        vertical-align: top;\n",
       "    }\n",
       "\n",
       "    .dataframe thead th {\n",
       "        text-align: right;\n",
       "    }\n",
       "</style>\n",
       "<table border=\"1\" class=\"dataframe\">\n",
       "  <thead>\n",
       "    <tr style=\"text-align: right;\">\n",
       "      <th></th>\n",
       "      <th>count</th>\n",
       "      <th>mean</th>\n",
       "      <th>std</th>\n",
       "      <th>min</th>\n",
       "      <th>25%</th>\n",
       "      <th>50%</th>\n",
       "      <th>75%</th>\n",
       "      <th>max</th>\n",
       "    </tr>\n",
       "  </thead>\n",
       "  <tbody>\n",
       "    <tr>\n",
       "      <th>나이</th>\n",
       "      <td>32561.0</td>\n",
       "      <td>0.295639</td>\n",
       "      <td>0.186855</td>\n",
       "      <td>0.0</td>\n",
       "      <td>0.150685</td>\n",
       "      <td>0.273973</td>\n",
       "      <td>0.424658</td>\n",
       "      <td>1.0</td>\n",
       "    </tr>\n",
       "    <tr>\n",
       "      <th>노동 계급</th>\n",
       "      <td>32561.0</td>\n",
       "      <td>0.483612</td>\n",
       "      <td>0.181995</td>\n",
       "      <td>0.0</td>\n",
       "      <td>0.500000</td>\n",
       "      <td>0.500000</td>\n",
       "      <td>0.500000</td>\n",
       "      <td>1.0</td>\n",
       "    </tr>\n",
       "    <tr>\n",
       "      <th>fnlwgt</th>\n",
       "      <td>32561.0</td>\n",
       "      <td>0.120545</td>\n",
       "      <td>0.071685</td>\n",
       "      <td>0.0</td>\n",
       "      <td>0.071679</td>\n",
       "      <td>0.112788</td>\n",
       "      <td>0.152651</td>\n",
       "      <td>1.0</td>\n",
       "    </tr>\n",
       "    <tr>\n",
       "      <th>학력</th>\n",
       "      <td>32561.0</td>\n",
       "      <td>0.686547</td>\n",
       "      <td>0.258018</td>\n",
       "      <td>0.0</td>\n",
       "      <td>0.600000</td>\n",
       "      <td>0.733333</td>\n",
       "      <td>0.800000</td>\n",
       "      <td>1.0</td>\n",
       "    </tr>\n",
       "    <tr>\n",
       "      <th>교육 수</th>\n",
       "      <td>32561.0</td>\n",
       "      <td>0.605379</td>\n",
       "      <td>0.171515</td>\n",
       "      <td>0.0</td>\n",
       "      <td>0.533333</td>\n",
       "      <td>0.600000</td>\n",
       "      <td>0.733333</td>\n",
       "      <td>1.0</td>\n",
       "    </tr>\n",
       "    <tr>\n",
       "      <th>...</th>\n",
       "      <td>...</td>\n",
       "      <td>...</td>\n",
       "      <td>...</td>\n",
       "      <td>...</td>\n",
       "      <td>...</td>\n",
       "      <td>...</td>\n",
       "      <td>...</td>\n",
       "      <td>...</td>\n",
       "    </tr>\n",
       "    <tr>\n",
       "      <th>Thailand</th>\n",
       "      <td>32561.0</td>\n",
       "      <td>0.000553</td>\n",
       "      <td>0.023506</td>\n",
       "      <td>0.0</td>\n",
       "      <td>0.000000</td>\n",
       "      <td>0.000000</td>\n",
       "      <td>0.000000</td>\n",
       "      <td>1.0</td>\n",
       "    </tr>\n",
       "    <tr>\n",
       "      <th>Trinadad&amp;Tobago</th>\n",
       "      <td>32561.0</td>\n",
       "      <td>0.000584</td>\n",
       "      <td>0.024149</td>\n",
       "      <td>0.0</td>\n",
       "      <td>0.000000</td>\n",
       "      <td>0.000000</td>\n",
       "      <td>0.000000</td>\n",
       "      <td>1.0</td>\n",
       "    </tr>\n",
       "    <tr>\n",
       "      <th>United-States</th>\n",
       "      <td>32561.0</td>\n",
       "      <td>0.895857</td>\n",
       "      <td>0.305451</td>\n",
       "      <td>0.0</td>\n",
       "      <td>1.000000</td>\n",
       "      <td>1.000000</td>\n",
       "      <td>1.000000</td>\n",
       "      <td>1.0</td>\n",
       "    </tr>\n",
       "    <tr>\n",
       "      <th>Vietnam</th>\n",
       "      <td>32561.0</td>\n",
       "      <td>0.002058</td>\n",
       "      <td>0.045316</td>\n",
       "      <td>0.0</td>\n",
       "      <td>0.000000</td>\n",
       "      <td>0.000000</td>\n",
       "      <td>0.000000</td>\n",
       "      <td>1.0</td>\n",
       "    </tr>\n",
       "    <tr>\n",
       "      <th>Yugoslavia</th>\n",
       "      <td>32561.0</td>\n",
       "      <td>0.000491</td>\n",
       "      <td>0.022162</td>\n",
       "      <td>0.0</td>\n",
       "      <td>0.000000</td>\n",
       "      <td>0.000000</td>\n",
       "      <td>0.000000</td>\n",
       "      <td>1.0</td>\n",
       "    </tr>\n",
       "  </tbody>\n",
       "</table>\n",
       "<p>114 rows × 8 columns</p>\n",
       "</div>"
      ],
      "text/plain": [
       "                    count      mean       std  min       25%       50%  \\\n",
       "나이                32561.0  0.295639  0.186855  0.0  0.150685  0.273973   \n",
       "노동 계급             32561.0  0.483612  0.181995  0.0  0.500000  0.500000   \n",
       "fnlwgt            32561.0  0.120545  0.071685  0.0  0.071679  0.112788   \n",
       "학력                32561.0  0.686547  0.258018  0.0  0.600000  0.733333   \n",
       "교육 수              32561.0  0.605379  0.171515  0.0  0.533333  0.600000   \n",
       "...                   ...       ...       ...  ...       ...       ...   \n",
       " Thailand         32561.0  0.000553  0.023506  0.0  0.000000  0.000000   \n",
       " Trinadad&Tobago  32561.0  0.000584  0.024149  0.0  0.000000  0.000000   \n",
       " United-States    32561.0  0.895857  0.305451  0.0  1.000000  1.000000   \n",
       " Vietnam          32561.0  0.002058  0.045316  0.0  0.000000  0.000000   \n",
       " Yugoslavia       32561.0  0.000491  0.022162  0.0  0.000000  0.000000   \n",
       "\n",
       "                       75%  max  \n",
       "나이                0.424658  1.0  \n",
       "노동 계급             0.500000  1.0  \n",
       "fnlwgt            0.152651  1.0  \n",
       "학력                0.800000  1.0  \n",
       "교육 수              0.733333  1.0  \n",
       "...                    ...  ...  \n",
       " Thailand         0.000000  1.0  \n",
       " Trinadad&Tobago  0.000000  1.0  \n",
       " United-States    1.000000  1.0  \n",
       " Vietnam          0.000000  1.0  \n",
       " Yugoslavia       0.000000  1.0  \n",
       "\n",
       "[114 rows x 8 columns]"
      ]
     },
     "execution_count": 31,
     "metadata": {},
     "output_type": "execute_result"
    }
   ],
   "source": [
    "htX.describe().T"
   ]
  },
  {
   "cell_type": "markdown",
   "metadata": {},
   "source": [
    "# Standardization"
   ]
  },
  {
   "cell_type": "code",
   "execution_count": 23,
   "metadata": {},
   "outputs": [],
   "source": [
    "scaler = StandardScaler()\n",
    "scaler.fit(htX)\n",
    "x = scaler.transform(htX)\n",
    "htX = pd.DataFrame(x, columns=htX.columns)"
   ]
  },
  {
   "cell_type": "code",
   "execution_count": 24,
   "metadata": {},
   "outputs": [
    {
     "data": {
      "text/html": [
       "<div>\n",
       "<style scoped>\n",
       "    .dataframe tbody tr th:only-of-type {\n",
       "        vertical-align: middle;\n",
       "    }\n",
       "\n",
       "    .dataframe tbody tr th {\n",
       "        vertical-align: top;\n",
       "    }\n",
       "\n",
       "    .dataframe thead th {\n",
       "        text-align: right;\n",
       "    }\n",
       "</style>\n",
       "<table border=\"1\" class=\"dataframe\">\n",
       "  <thead>\n",
       "    <tr style=\"text-align: right;\">\n",
       "      <th></th>\n",
       "      <th>나이</th>\n",
       "      <th>노동 계급</th>\n",
       "      <th>fnlwgt</th>\n",
       "      <th>학력</th>\n",
       "      <th>교육 수</th>\n",
       "      <th>혼인 상태</th>\n",
       "      <th>직업</th>\n",
       "      <th>관계</th>\n",
       "      <th>인종</th>\n",
       "      <th>주당 시간</th>\n",
       "      <th>모국</th>\n",
       "      <th>나이대</th>\n",
       "      <th>주당 시간별</th>\n",
       "      <th>fnlwgt2</th>\n",
       "    </tr>\n",
       "  </thead>\n",
       "  <tbody>\n",
       "    <tr>\n",
       "      <th>count</th>\n",
       "      <td>3.071800e+04</td>\n",
       "      <td>3.071800e+04</td>\n",
       "      <td>3.071800e+04</td>\n",
       "      <td>3.071800e+04</td>\n",
       "      <td>3.071800e+04</td>\n",
       "      <td>3.071800e+04</td>\n",
       "      <td>3.071800e+04</td>\n",
       "      <td>3.071800e+04</td>\n",
       "      <td>3.071800e+04</td>\n",
       "      <td>3.071800e+04</td>\n",
       "      <td>3.071800e+04</td>\n",
       "      <td>3.071800e+04</td>\n",
       "      <td>3.071800e+04</td>\n",
       "      <td>3.071800e+04</td>\n",
       "    </tr>\n",
       "    <tr>\n",
       "      <th>mean</th>\n",
       "      <td>-1.807266e-16</td>\n",
       "      <td>2.389520e-16</td>\n",
       "      <td>4.776583e-17</td>\n",
       "      <td>3.629585e-16</td>\n",
       "      <td>-1.171376e-17</td>\n",
       "      <td>-7.561538e-17</td>\n",
       "      <td>-2.847662e-16</td>\n",
       "      <td>2.904116e-16</td>\n",
       "      <td>-2.086564e-15</td>\n",
       "      <td>-4.131152e-16</td>\n",
       "      <td>6.591547e-16</td>\n",
       "      <td>5.821750e-16</td>\n",
       "      <td>-3.501691e-16</td>\n",
       "      <td>-1.189592e-16</td>\n",
       "    </tr>\n",
       "    <tr>\n",
       "      <th>std</th>\n",
       "      <td>1.000016e+00</td>\n",
       "      <td>1.000016e+00</td>\n",
       "      <td>1.000016e+00</td>\n",
       "      <td>1.000016e+00</td>\n",
       "      <td>1.000016e+00</td>\n",
       "      <td>1.000016e+00</td>\n",
       "      <td>1.000016e+00</td>\n",
       "      <td>1.000016e+00</td>\n",
       "      <td>1.000016e+00</td>\n",
       "      <td>1.000016e+00</td>\n",
       "      <td>1.000016e+00</td>\n",
       "      <td>1.000016e+00</td>\n",
       "      <td>1.000016e+00</td>\n",
       "      <td>1.000016e+00</td>\n",
       "    </tr>\n",
       "    <tr>\n",
       "      <th>min</th>\n",
       "      <td>-1.658789e+00</td>\n",
       "      <td>-2.308398e+00</td>\n",
       "      <td>-1.841263e+00</td>\n",
       "      <td>-2.711279e+00</td>\n",
       "      <td>-3.563151e+00</td>\n",
       "      <td>-1.727105e+00</td>\n",
       "      <td>-1.482162e+00</td>\n",
       "      <td>-8.850198e-01</td>\n",
       "      <td>-4.348280e+00</td>\n",
       "      <td>-3.517761e+00</td>\n",
       "      <td>-4.683008e+00</td>\n",
       "      <td>-1.793615e+00</td>\n",
       "      <td>-3.298755e+00</td>\n",
       "      <td>-1.821074e+00</td>\n",
       "    </tr>\n",
       "    <tr>\n",
       "      <th>25%</th>\n",
       "      <td>-8.045172e-01</td>\n",
       "      <td>-2.095873e-01</td>\n",
       "      <td>-7.310618e-01</td>\n",
       "      <td>-3.487608e-01</td>\n",
       "      <td>-4.411109e-01</td>\n",
       "      <td>-3.898931e-01</td>\n",
       "      <td>-9.853833e-01</td>\n",
       "      <td>-8.850198e-01</td>\n",
       "      <td>3.907821e-01</td>\n",
       "      <td>-6.589085e-02</td>\n",
       "      <td>2.926805e-01</td>\n",
       "      <td>-1.043904e+00</td>\n",
       "      <td>6.362335e-02</td>\n",
       "      <td>-7.592643e-01</td>\n",
       "    </tr>\n",
       "    <tr>\n",
       "      <th>50%</th>\n",
       "      <td>-1.055673e-01</td>\n",
       "      <td>-2.095873e-01</td>\n",
       "      <td>-8.358205e-02</td>\n",
       "      <td>1.762433e-01</td>\n",
       "      <td>-5.085588e-02</td>\n",
       "      <td>-3.898931e-01</td>\n",
       "      <td>8.175072e-03</td>\n",
       "      <td>-2.605559e-01</td>\n",
       "      <td>3.907821e-01</td>\n",
       "      <td>-6.589085e-02</td>\n",
       "      <td>2.926805e-01</td>\n",
       "      <td>-2.941928e-01</td>\n",
       "      <td>6.362335e-02</td>\n",
       "      <td>-1.221783e-01</td>\n",
       "    </tr>\n",
       "    <tr>\n",
       "      <th>75%</th>\n",
       "      <td>6.710436e-01</td>\n",
       "      <td>-2.095873e-01</td>\n",
       "      <td>5.437495e-01</td>\n",
       "      <td>4.387454e-01</td>\n",
       "      <td>1.119909e+00</td>\n",
       "      <td>9.473187e-01</td>\n",
       "      <td>7.533438e-01</td>\n",
       "      <td>9.883721e-01</td>\n",
       "      <td>3.907821e-01</td>\n",
       "      <td>3.766566e-01</td>\n",
       "      <td>2.926805e-01</td>\n",
       "      <td>4.555180e-01</td>\n",
       "      <td>6.362335e-02</td>\n",
       "      <td>5.149077e-01</td>\n",
       "    </tr>\n",
       "    <tr>\n",
       "      <th>max</th>\n",
       "      <td>2.457249e+00</td>\n",
       "      <td>3.988034e+00</td>\n",
       "      <td>2.279399e+00</td>\n",
       "      <td>1.226252e+00</td>\n",
       "      <td>2.290674e+00</td>\n",
       "      <td>2.284531e+00</td>\n",
       "      <td>1.746902e+00</td>\n",
       "      <td>2.237300e+00</td>\n",
       "      <td>3.907821e-01</td>\n",
       "      <td>2.589394e+00</td>\n",
       "      <td>5.478440e-01</td>\n",
       "      <td>2.704651e+00</td>\n",
       "      <td>2.585407e+00</td>\n",
       "      <td>2.319985e+00</td>\n",
       "    </tr>\n",
       "  </tbody>\n",
       "</table>\n",
       "</div>"
      ],
      "text/plain": [
       "                 나이         노동 계급        fnlwgt            학력          교육 수  \\\n",
       "count  3.071800e+04  3.071800e+04  3.071800e+04  3.071800e+04  3.071800e+04   \n",
       "mean  -1.807266e-16  2.389520e-16  4.776583e-17  3.629585e-16 -1.171376e-17   \n",
       "std    1.000016e+00  1.000016e+00  1.000016e+00  1.000016e+00  1.000016e+00   \n",
       "min   -1.658789e+00 -2.308398e+00 -1.841263e+00 -2.711279e+00 -3.563151e+00   \n",
       "25%   -8.045172e-01 -2.095873e-01 -7.310618e-01 -3.487608e-01 -4.411109e-01   \n",
       "50%   -1.055673e-01 -2.095873e-01 -8.358205e-02  1.762433e-01 -5.085588e-02   \n",
       "75%    6.710436e-01 -2.095873e-01  5.437495e-01  4.387454e-01  1.119909e+00   \n",
       "max    2.457249e+00  3.988034e+00  2.279399e+00  1.226252e+00  2.290674e+00   \n",
       "\n",
       "              혼인 상태            직업            관계            인종         주당 시간  \\\n",
       "count  3.071800e+04  3.071800e+04  3.071800e+04  3.071800e+04  3.071800e+04   \n",
       "mean  -7.561538e-17 -2.847662e-16  2.904116e-16 -2.086564e-15 -4.131152e-16   \n",
       "std    1.000016e+00  1.000016e+00  1.000016e+00  1.000016e+00  1.000016e+00   \n",
       "min   -1.727105e+00 -1.482162e+00 -8.850198e-01 -4.348280e+00 -3.517761e+00   \n",
       "25%   -3.898931e-01 -9.853833e-01 -8.850198e-01  3.907821e-01 -6.589085e-02   \n",
       "50%   -3.898931e-01  8.175072e-03 -2.605559e-01  3.907821e-01 -6.589085e-02   \n",
       "75%    9.473187e-01  7.533438e-01  9.883721e-01  3.907821e-01  3.766566e-01   \n",
       "max    2.284531e+00  1.746902e+00  2.237300e+00  3.907821e-01  2.589394e+00   \n",
       "\n",
       "                 모국           나이대        주당 시간별       fnlwgt2  \n",
       "count  3.071800e+04  3.071800e+04  3.071800e+04  3.071800e+04  \n",
       "mean   6.591547e-16  5.821750e-16 -3.501691e-16 -1.189592e-16  \n",
       "std    1.000016e+00  1.000016e+00  1.000016e+00  1.000016e+00  \n",
       "min   -4.683008e+00 -1.793615e+00 -3.298755e+00 -1.821074e+00  \n",
       "25%    2.926805e-01 -1.043904e+00  6.362335e-02 -7.592643e-01  \n",
       "50%    2.926805e-01 -2.941928e-01  6.362335e-02 -1.221783e-01  \n",
       "75%    2.926805e-01  4.555180e-01  6.362335e-02  5.149077e-01  \n",
       "max    5.478440e-01  2.704651e+00  2.585407e+00  2.319985e+00  "
      ]
     },
     "execution_count": 24,
     "metadata": {},
     "output_type": "execute_result"
    }
   ],
   "source": [
    "htX.describe()"
   ]
  },
  {
   "cell_type": "markdown",
   "metadata": {},
   "source": [
    "# 샘플링"
   ]
  },
  {
   "cell_type": "markdown",
   "metadata": {},
   "source": [
    "### 통합 샘플링"
   ]
  },
  {
   "cell_type": "code",
   "execution_count": 40,
   "metadata": {},
   "outputs": [
    {
     "name": "stdout",
     "output_type": "stream",
     "text": [
      "              precision    recall  f1-score   support\n",
      "\n",
      "           0       0.77      0.74      0.75      2493\n",
      "           1       0.88      0.89      0.89      5187\n",
      "\n",
      "    accuracy                           0.84      7680\n",
      "   macro avg       0.82      0.82      0.82      7680\n",
      "weighted avg       0.84      0.84      0.84      7680\n",
      "\n"
     ]
    }
   ],
   "source": [
    "tree3 = DecisionTreeClassifier(max_depth=10, random_state=0)\n",
    "tree3.fit(X_train, Y_train)\n",
    "pred_tree3 = tree3.predict(X_test);\n",
    "\n",
    "print(classification_report(Y_test, pred_tree3))"
   ]
  },
  {
   "cell_type": "code",
   "execution_count": 41,
   "metadata": {},
   "outputs": [],
   "source": [
    "htX, htY = SMOTETomek(random_state=0).fit_sample(X_train, Y_train)"
   ]
  },
  {
   "cell_type": "code",
   "execution_count": 42,
   "metadata": {},
   "outputs": [
    {
     "name": "stdout",
     "output_type": "stream",
     "text": [
      "              precision    recall  f1-score   support\n",
      "\n",
      "           0       0.67      0.87      0.76      2493\n",
      "           1       0.93      0.79      0.85      5187\n",
      "\n",
      "    accuracy                           0.82      7680\n",
      "   macro avg       0.80      0.83      0.81      7680\n",
      "weighted avg       0.84      0.82      0.82      7680\n",
      "\n"
     ]
    }
   ],
   "source": [
    "tree3 = DecisionTreeClassifier(max_depth=10, random_state=0)\n",
    "tree3.fit(htX, htY)\n",
    "pred_tree3 = tree3.predict(X_test)\n",
    "\n",
    "print(classification_report(Y_test, pred_tree3))\n",
    "\n",
    "# (precision) 0 이라고 예측한 데이터의 74%만 실제로 0\n",
    "# (precision) 1 이라고 예측한 데이터의 33%만 실제로 1\n",
    "# (recall) 실제 0인 데이터중 56%만 0으로 판별됨 \n",
    "# (recall) 실제 1인 데이타중 52%만 1로 판별됨"
   ]
  },
  {
   "cell_type": "markdown",
   "metadata": {},
   "source": [
    "### 언더 샘플링 / 오버 샘플링"
   ]
  },
  {
   "cell_type": "code",
   "execution_count": 25,
   "metadata": {},
   "outputs": [
    {
     "name": "stdout",
     "output_type": "stream",
     "text": [
      "20788 9930\n"
     ]
    }
   ],
   "source": [
    "aX = np.array(htX)\n",
    "aY = np.array(htY)\n",
    "print(np.sum(aY == 1), np.sum(aY == 0))"
   ]
  },
  {
   "cell_type": "code",
   "execution_count": 18,
   "metadata": {},
   "outputs": [],
   "source": [
    "#sampler = RandomUnderSampler(random_state=1)\n",
    "sampler = RandomOverSampler(random_state=1)\n",
    "aX, aY = sampler.fit_resample(aX, aY)"
   ]
  },
  {
   "cell_type": "code",
   "execution_count": 26,
   "metadata": {},
   "outputs": [
    {
     "name": "stdout",
     "output_type": "stream",
     "text": [
      "20788 9930\n"
     ]
    }
   ],
   "source": [
    "print(np.sum(aY == 1), np.sum(aY == 0))"
   ]
  },
  {
   "cell_type": "markdown",
   "metadata": {},
   "source": [
    "# Cross-Validation"
   ]
  },
  {
   "cell_type": "code",
   "execution_count": 27,
   "metadata": {},
   "outputs": [],
   "source": [
    "#model = KNeighborsClassifier()\n",
    "model = LogisticRegression()\n",
    "#model = DecisionTreeClassifier()\n",
    "# kf = StratifiedKFold(n_splits=10, shuffle=True)"
   ]
  },
  {
   "cell_type": "code",
   "execution_count": 28,
   "metadata": {},
   "outputs": [
    {
     "data": {
      "text/plain": [
       "array([0.7648112 , 0.77311198, 0.78271484, 0.77844701, 0.77551685])"
      ]
     },
     "execution_count": 28,
     "metadata": {},
     "output_type": "execute_result"
    }
   ],
   "source": [
    "scores = cross_val_score(model, htX, htY)\n",
    "scores"
   ]
  },
  {
   "cell_type": "code",
   "execution_count": 29,
   "metadata": {},
   "outputs": [
    {
     "name": "stdout",
     "output_type": "stream",
     "text": [
      "Mean: 0.775\n",
      "Std: 0.006\n",
      "Min: 0.765\n",
      "Max: 0.783\n"
     ]
    }
   ],
   "source": [
    "print(\"Mean: {:.3f}\\nStd: {:.3f}\\nMin: {:.3f}\\nMax: {:.3f}\".format(\n",
    "    scores.mean(), scores.std(), scores.min(), scores.max()))"
   ]
  },
  {
   "cell_type": "markdown",
   "metadata": {},
   "source": [
    "# K-Fold 교차검증"
   ]
  },
  {
   "cell_type": "code",
   "execution_count": 30,
   "metadata": {},
   "outputs": [
    {
     "data": {
      "text/plain": [
       "KFold(n_splits=10, random_state=None, shuffle=True)"
      ]
     },
     "execution_count": 30,
     "metadata": {},
     "output_type": "execute_result"
    }
   ],
   "source": [
    "kf = KFold(n_splits=10, shuffle=True)\n",
    "# kf = LeaveOneOut()\n",
    "kf"
   ]
  },
  {
   "cell_type": "code",
   "execution_count": 31,
   "metadata": {},
   "outputs": [
    {
     "name": "stdout",
     "output_type": "stream",
     "text": [
      "0.813171478142299 0.0052156290795152965 0.8203125 0.7998046875\n",
      "0.8655139289145053\n",
      "0.8617886178861789\n"
     ]
    }
   ],
   "source": [
    "scores = []\n",
    "\n",
    "for train_id, test_id in kf.split(aX):\n",
    "    x = aX[train_id]\n",
    "    y = aY[train_id]\n",
    "    clf = tree.DecisionTreeClassifier()\n",
    "    clf.fit(x,y)\n",
    "    pred_y = clf.predict(aX[test_id])\n",
    "    score = accuracy_score(aY[test_id], pred_y)\n",
    "    scores.append(score)\n",
    "\n",
    "scores = np.array(scores)\n",
    "print(scores.mean(), scores.std(), scores.max(), scores.min())\n",
    "print(recall_score(aY[test_id], pred_y))\n",
    "print(precision_score(aY[test_id], pred_y))"
   ]
  },
  {
   "cell_type": "code",
   "execution_count": 32,
   "metadata": {},
   "outputs": [],
   "source": [
    "# params = {\n",
    "#     'criterion': ['entropy'],    \n",
    "#     'max_depth': [2, 4, 6, 8, 10],\n",
    "#     'min_samples_leaf': [10, 20, 30, 40, 50],\n",
    "# }\n",
    "\n",
    "params = {\n",
    "     'learning_rate': [0.05]\n",
    "     ,'num_iterations': [1000]\n",
    "#      ,'max_depth': [5, 10, 15, 20]\n",
    "#     ,'objective' : ['binary','mae','mse']\n",
    "#     ,'boosting' : ['gbdt','dart','goss']\n",
    "}"
   ]
  },
  {
   "cell_type": "code",
   "execution_count": 33,
   "metadata": {},
   "outputs": [],
   "source": [
    "lgbm_wrapper = LGBMClassifier()"
   ]
  },
  {
   "cell_type": "code",
   "execution_count": 34,
   "metadata": {},
   "outputs": [],
   "source": [
    "# clf_gs = GridSearchCV(tree.DecisionTreeClassifier(), params, \n",
    "#                 cv=KFold(n_splits=10, shuffle=True), scoring='accuracy')\n",
    "clf_gs = GridSearchCV(estimator=lgbm_wrapper, param_grid=params, \n",
    "                cv=KFold(n_splits=10, shuffle=True), scoring='accuracy')"
   ]
  },
  {
   "cell_type": "code",
   "execution_count": 35,
   "metadata": {},
   "outputs": [
    {
     "name": "stderr",
     "output_type": "stream",
     "text": [
      "C:\\Users\\020\\anaconda3\\lib\\site-packages\\lightgbm\\engine.py:118: UserWarning: Found `num_iterations` in params. Will use it instead of argument\n",
      "  warnings.warn(\"Found `{}` in params. Will use it instead of argument\".format(alias))\n"
     ]
    },
    {
     "data": {
      "text/plain": [
       "GridSearchCV(cv=KFold(n_splits=10, random_state=None, shuffle=True),\n",
       "             estimator=LGBMClassifier(),\n",
       "             param_grid={'learning_rate': [0.05], 'num_iterations': [1000]},\n",
       "             scoring='accuracy')"
      ]
     },
     "execution_count": 35,
     "metadata": {},
     "output_type": "execute_result"
    }
   ],
   "source": [
    "clf_gs.fit(htX, htY)"
   ]
  },
  {
   "cell_type": "code",
   "execution_count": 36,
   "metadata": {},
   "outputs": [
    {
     "name": "stdout",
     "output_type": "stream",
     "text": [
      "0.8523669848312169\n",
      "{'learning_rate': 0.05, 'num_iterations': 1000}\n"
     ]
    }
   ],
   "source": [
    "print(clf_gs.best_score_)\n",
    "print(clf_gs.best_params_)"
   ]
  },
  {
   "cell_type": "code",
   "execution_count": 39,
   "metadata": {},
   "outputs": [
    {
     "data": {
      "text/plain": [
       "0.8672039243167484"
      ]
     },
     "execution_count": 39,
     "metadata": {},
     "output_type": "execute_result"
    }
   ],
   "source": [
    "tree1 = DecisionTreeClassifier(max_depth=10, min_samples_leaf=30, random_state=0)\n",
    "tree1.fit(aX, aY).score(aX[test_id], aY[test_id])"
   ]
  },
  {
   "cell_type": "code",
   "execution_count": 37,
   "metadata": {},
   "outputs": [
    {
     "name": "stdout",
     "output_type": "stream",
     "text": [
      "1    5187\n",
      "0    2493\n",
      "Name: 성별, dtype: int64\n"
     ]
    },
    {
     "data": {
      "text/plain": [
       "0.675390625"
      ]
     },
     "execution_count": 37,
     "metadata": {},
     "output_type": "execute_result"
    }
   ],
   "source": [
    "print(Y_test.value_counts())\n",
    "dummy=DummyClassifier(strategy='most_frequent').fit(aX, aY)\n",
    "dummy.score(X_test, Y_test)"
   ]
  },
  {
   "cell_type": "code",
   "execution_count": 41,
   "metadata": {},
   "outputs": [
    {
     "data": {
      "text/plain": [
       "SVC(random_state=0)"
      ]
     },
     "execution_count": 41,
     "metadata": {},
     "output_type": "execute_result"
    }
   ],
   "source": [
    "svm = SVC(random_state=0)\n",
    "svm.fit(htX, htY)"
   ]
  },
  {
   "cell_type": "code",
   "execution_count": 42,
   "metadata": {},
   "outputs": [
    {
     "data": {
      "text/plain": [
       "MLPClassifier()"
      ]
     },
     "execution_count": 42,
     "metadata": {},
     "output_type": "execute_result"
    }
   ],
   "source": [
    "mlp=MLPClassifier()\n",
    "mlp.fit(htX, htY)"
   ]
  },
  {
   "cell_type": "code",
   "execution_count": 43,
   "metadata": {},
   "outputs": [
    {
     "data": {
      "text/plain": [
       "0.5180773542600897"
      ]
     },
     "metadata": {},
     "output_type": "display_data"
    },
    {
     "data": {
      "text/plain": [
       "0.44231770833333334"
      ]
     },
     "metadata": {},
     "output_type": "display_data"
    }
   ],
   "source": [
    "display(svm.score(htX, htY))\n",
    "display(svm.score(X_test, Y_test))"
   ]
  },
  {
   "cell_type": "code",
   "execution_count": 44,
   "metadata": {},
   "outputs": [
    {
     "data": {
      "text/plain": [
       "0.5135930493273543"
      ]
     },
     "metadata": {},
     "output_type": "display_data"
    },
    {
     "data": {
      "text/plain": [
       "0.6815104166666667"
      ]
     },
     "metadata": {},
     "output_type": "display_data"
    }
   ],
   "source": [
    "display(mlp.score(htX, htY))\n",
    "display(mlp.score(X_test, Y_test))"
   ]
  },
  {
   "cell_type": "markdown",
   "metadata": {},
   "source": [
    "# xgboost"
   ]
  },
  {
   "cell_type": "code",
   "execution_count": 51,
   "metadata": {},
   "outputs": [],
   "source": [
    "dtrain = xgb.DMatrix(data=htX, label=htY)\n",
    "dtest = xgb.DMatrix(data=X_test, label=Y_test)"
   ]
  },
  {
   "cell_type": "code",
   "execution_count": 52,
   "metadata": {},
   "outputs": [],
   "source": [
    "params = {'max_depth':3,\n",
    "          'eta':0.1,\n",
    "          'objective':'binary:logistic',\n",
    "          'eval_metric':'logloss',\n",
    "          'early_stoppings':100\n",
    "         }\n",
    "num_rounds = 400"
   ]
  },
  {
   "cell_type": "code",
   "execution_count": 53,
   "metadata": {},
   "outputs": [
    {
     "name": "stdout",
     "output_type": "stream",
     "text": [
      "[16:49:20] WARNING: C:/Users/Administrator/workspace/xgboost-win64_release_1.3.0/src/learner.cc:541: \n",
      "Parameters: { early_stoppings } might not be used.\n",
      "\n",
      "  This may not be accurate due to some parameters are only used in language bindings but\n",
      "  passed down to XGBoost core.  Or some parameters are not used but slip through this\n",
      "  verification. Please open an issue if you find above cases.\n",
      "\n",
      "\n",
      "[0]\ttrain-logloss:0.64439\teval-logloss:0.64831\n",
      "[1]\ttrain-logloss:0.60452\teval-logloss:0.61211\n",
      "[2]\ttrain-logloss:0.57140\teval-logloss:0.58132\n",
      "[3]\ttrain-logloss:0.54342\teval-logloss:0.55589\n",
      "[4]\ttrain-logloss:0.51970\teval-logloss:0.53206\n",
      "[5]\ttrain-logloss:0.49866\teval-logloss:0.51236\n",
      "[6]\ttrain-logloss:0.48042\teval-logloss:0.49597\n",
      "[7]\ttrain-logloss:0.46457\teval-logloss:0.48225\n",
      "[8]\ttrain-logloss:0.45096\teval-logloss:0.47023\n",
      "[9]\ttrain-logloss:0.43854\teval-logloss:0.45865\n",
      "[10]\ttrain-logloss:0.42780\teval-logloss:0.44919\n",
      "[11]\ttrain-logloss:0.41848\teval-logloss:0.43987\n",
      "[12]\ttrain-logloss:0.40960\teval-logloss:0.43217\n",
      "[13]\ttrain-logloss:0.40215\teval-logloss:0.42478\n",
      "[14]\ttrain-logloss:0.39460\teval-logloss:0.41713\n",
      "[15]\ttrain-logloss:0.38859\teval-logloss:0.41220\n",
      "[16]\ttrain-logloss:0.38303\teval-logloss:0.40753\n",
      "[17]\ttrain-logloss:0.37743\teval-logloss:0.40179\n",
      "[18]\ttrain-logloss:0.37264\teval-logloss:0.39775\n",
      "[19]\ttrain-logloss:0.36853\teval-logloss:0.39338\n",
      "[20]\ttrain-logloss:0.36456\teval-logloss:0.39077\n",
      "[21]\ttrain-logloss:0.36114\teval-logloss:0.38681\n",
      "[22]\ttrain-logloss:0.35796\teval-logloss:0.38424\n",
      "[23]\ttrain-logloss:0.35518\teval-logloss:0.38205\n",
      "[24]\ttrain-logloss:0.35234\teval-logloss:0.37972\n",
      "[25]\ttrain-logloss:0.34988\teval-logloss:0.37703\n",
      "[26]\ttrain-logloss:0.34777\teval-logloss:0.37474\n",
      "[27]\ttrain-logloss:0.34554\teval-logloss:0.37339\n",
      "[28]\ttrain-logloss:0.34295\teval-logloss:0.37045\n",
      "[29]\ttrain-logloss:0.34110\teval-logloss:0.36887\n",
      "[30]\ttrain-logloss:0.33941\teval-logloss:0.36756\n",
      "[31]\ttrain-logloss:0.33761\teval-logloss:0.36606\n",
      "[32]\ttrain-logloss:0.33624\teval-logloss:0.36483\n",
      "[33]\ttrain-logloss:0.33470\teval-logloss:0.36358\n",
      "[34]\ttrain-logloss:0.33342\teval-logloss:0.36276\n",
      "[35]\ttrain-logloss:0.33216\teval-logloss:0.36166\n",
      "[36]\ttrain-logloss:0.33093\teval-logloss:0.36048\n",
      "[37]\ttrain-logloss:0.32948\teval-logloss:0.35948\n",
      "[38]\ttrain-logloss:0.32807\teval-logloss:0.35854\n",
      "[39]\ttrain-logloss:0.32710\teval-logloss:0.35763\n",
      "[40]\ttrain-logloss:0.32538\teval-logloss:0.35579\n",
      "[41]\ttrain-logloss:0.32422\teval-logloss:0.35432\n",
      "[42]\ttrain-logloss:0.32308\teval-logloss:0.35318\n",
      "[43]\ttrain-logloss:0.32194\teval-logloss:0.35245\n",
      "[44]\ttrain-logloss:0.32084\teval-logloss:0.35181\n",
      "[45]\ttrain-logloss:0.31952\teval-logloss:0.35109\n",
      "[46]\ttrain-logloss:0.31817\teval-logloss:0.34958\n",
      "[47]\ttrain-logloss:0.31734\teval-logloss:0.34857\n",
      "[48]\ttrain-logloss:0.31662\teval-logloss:0.34808\n",
      "[49]\ttrain-logloss:0.31535\teval-logloss:0.34736\n",
      "[50]\ttrain-logloss:0.31477\teval-logloss:0.34657\n",
      "[51]\ttrain-logloss:0.31362\teval-logloss:0.34520\n",
      "[52]\ttrain-logloss:0.31217\teval-logloss:0.34387\n",
      "[53]\ttrain-logloss:0.31129\teval-logloss:0.34328\n",
      "[54]\ttrain-logloss:0.31050\teval-logloss:0.34269\n",
      "[55]\ttrain-logloss:0.30995\teval-logloss:0.34211\n",
      "[56]\ttrain-logloss:0.30846\teval-logloss:0.34107\n",
      "[57]\ttrain-logloss:0.30797\teval-logloss:0.34079\n",
      "[58]\ttrain-logloss:0.30737\teval-logloss:0.33999\n",
      "[59]\ttrain-logloss:0.30644\teval-logloss:0.33898\n",
      "[60]\ttrain-logloss:0.30569\teval-logloss:0.33874\n",
      "[61]\ttrain-logloss:0.30440\teval-logloss:0.33810\n",
      "[62]\ttrain-logloss:0.30297\teval-logloss:0.33709\n",
      "[63]\ttrain-logloss:0.30251\teval-logloss:0.33685\n",
      "[64]\ttrain-logloss:0.30165\teval-logloss:0.33611\n",
      "[65]\ttrain-logloss:0.30127\teval-logloss:0.33577\n",
      "[66]\ttrain-logloss:0.30089\teval-logloss:0.33552\n",
      "[67]\ttrain-logloss:0.30048\teval-logloss:0.33498\n",
      "[68]\ttrain-logloss:0.29977\teval-logloss:0.33416\n",
      "[69]\ttrain-logloss:0.29870\teval-logloss:0.33364\n",
      "[70]\ttrain-logloss:0.29826\teval-logloss:0.33337\n",
      "[71]\ttrain-logloss:0.29774\teval-logloss:0.33308\n",
      "[72]\ttrain-logloss:0.29658\teval-logloss:0.33250\n",
      "[73]\ttrain-logloss:0.29623\teval-logloss:0.33202\n",
      "[74]\ttrain-logloss:0.29519\teval-logloss:0.33148\n",
      "[75]\ttrain-logloss:0.29438\teval-logloss:0.33088\n",
      "[76]\ttrain-logloss:0.29409\teval-logloss:0.33077\n",
      "[77]\ttrain-logloss:0.29299\teval-logloss:0.33006\n",
      "[78]\ttrain-logloss:0.29251\teval-logloss:0.32982\n",
      "[79]\ttrain-logloss:0.29196\teval-logloss:0.32915\n",
      "[80]\ttrain-logloss:0.29139\teval-logloss:0.32887\n",
      "[81]\ttrain-logloss:0.29047\teval-logloss:0.32820\n",
      "[82]\ttrain-logloss:0.29020\teval-logloss:0.32810\n",
      "[83]\ttrain-logloss:0.28967\teval-logloss:0.32786\n",
      "[84]\ttrain-logloss:0.28899\teval-logloss:0.32762\n",
      "[85]\ttrain-logloss:0.28847\teval-logloss:0.32703\n",
      "[86]\ttrain-logloss:0.28801\teval-logloss:0.32652\n",
      "[87]\ttrain-logloss:0.28750\teval-logloss:0.32628\n",
      "[88]\ttrain-logloss:0.28717\teval-logloss:0.32621\n",
      "[89]\ttrain-logloss:0.28661\teval-logloss:0.32587\n",
      "[90]\ttrain-logloss:0.28602\teval-logloss:0.32547\n",
      "[91]\ttrain-logloss:0.28563\teval-logloss:0.32499\n",
      "[92]\ttrain-logloss:0.28544\teval-logloss:0.32482\n",
      "[93]\ttrain-logloss:0.28508\teval-logloss:0.32452\n",
      "[94]\ttrain-logloss:0.28485\teval-logloss:0.32442\n",
      "[95]\ttrain-logloss:0.28466\teval-logloss:0.32433\n",
      "[96]\ttrain-logloss:0.28445\teval-logloss:0.32429\n",
      "[97]\ttrain-logloss:0.28386\teval-logloss:0.32399\n",
      "[98]\ttrain-logloss:0.28359\teval-logloss:0.32390\n",
      "[99]\ttrain-logloss:0.28297\teval-logloss:0.32348\n",
      "[100]\ttrain-logloss:0.28260\teval-logloss:0.32329\n",
      "[101]\ttrain-logloss:0.28240\teval-logloss:0.32310\n",
      "[102]\ttrain-logloss:0.28197\teval-logloss:0.32300\n",
      "[103]\ttrain-logloss:0.28149\teval-logloss:0.32279\n",
      "[104]\ttrain-logloss:0.28106\teval-logloss:0.32220\n",
      "[105]\ttrain-logloss:0.27984\teval-logloss:0.32159\n",
      "[106]\ttrain-logloss:0.27959\teval-logloss:0.32133\n",
      "[107]\ttrain-logloss:0.27926\teval-logloss:0.32123\n",
      "[108]\ttrain-logloss:0.27892\teval-logloss:0.32076\n",
      "[109]\ttrain-logloss:0.27871\teval-logloss:0.32067\n",
      "[110]\ttrain-logloss:0.27833\teval-logloss:0.32041\n",
      "[111]\ttrain-logloss:0.27748\teval-logloss:0.31963\n",
      "[112]\ttrain-logloss:0.27735\teval-logloss:0.31965\n",
      "[113]\ttrain-logloss:0.27629\teval-logloss:0.31915\n",
      "[114]\ttrain-logloss:0.27511\teval-logloss:0.31856\n",
      "[115]\ttrain-logloss:0.27489\teval-logloss:0.31831\n",
      "[116]\ttrain-logloss:0.27457\teval-logloss:0.31797\n",
      "[117]\ttrain-logloss:0.27419\teval-logloss:0.31769\n",
      "[118]\ttrain-logloss:0.27380\teval-logloss:0.31750\n",
      "[119]\ttrain-logloss:0.27358\teval-logloss:0.31749\n",
      "[120]\ttrain-logloss:0.27299\teval-logloss:0.31727\n",
      "[121]\ttrain-logloss:0.27210\teval-logloss:0.31680\n",
      "[122]\ttrain-logloss:0.27157\teval-logloss:0.31652\n",
      "[123]\ttrain-logloss:0.27138\teval-logloss:0.31617\n",
      "[124]\ttrain-logloss:0.27122\teval-logloss:0.31608\n",
      "[125]\ttrain-logloss:0.27083\teval-logloss:0.31586\n",
      "[126]\ttrain-logloss:0.27063\teval-logloss:0.31581\n",
      "[127]\ttrain-logloss:0.27053\teval-logloss:0.31574\n",
      "[128]\ttrain-logloss:0.27013\teval-logloss:0.31559\n",
      "[129]\ttrain-logloss:0.27003\teval-logloss:0.31556\n",
      "[130]\ttrain-logloss:0.26985\teval-logloss:0.31550\n",
      "[131]\ttrain-logloss:0.26927\teval-logloss:0.31534\n",
      "[132]\ttrain-logloss:0.26916\teval-logloss:0.31526\n",
      "[133]\ttrain-logloss:0.26889\teval-logloss:0.31490\n",
      "[134]\ttrain-logloss:0.26812\teval-logloss:0.31449\n",
      "[135]\ttrain-logloss:0.26804\teval-logloss:0.31439\n",
      "[136]\ttrain-logloss:0.26764\teval-logloss:0.31409\n",
      "[137]\ttrain-logloss:0.26735\teval-logloss:0.31381\n",
      "[138]\ttrain-logloss:0.26668\teval-logloss:0.31346\n",
      "[139]\ttrain-logloss:0.26586\teval-logloss:0.31307\n",
      "[140]\ttrain-logloss:0.26567\teval-logloss:0.31286\n",
      "[141]\ttrain-logloss:0.26552\teval-logloss:0.31279\n",
      "[142]\ttrain-logloss:0.26538\teval-logloss:0.31269\n",
      "[143]\ttrain-logloss:0.26527\teval-logloss:0.31272\n",
      "[144]\ttrain-logloss:0.26515\teval-logloss:0.31251\n",
      "[145]\ttrain-logloss:0.26469\teval-logloss:0.31242\n",
      "[146]\ttrain-logloss:0.26432\teval-logloss:0.31228\n",
      "[147]\ttrain-logloss:0.26422\teval-logloss:0.31223\n",
      "[148]\ttrain-logloss:0.26401\teval-logloss:0.31211\n",
      "[149]\ttrain-logloss:0.26386\teval-logloss:0.31201\n",
      "[150]\ttrain-logloss:0.26359\teval-logloss:0.31205\n",
      "[151]\ttrain-logloss:0.26323\teval-logloss:0.31186\n",
      "[152]\ttrain-logloss:0.26304\teval-logloss:0.31171\n",
      "[153]\ttrain-logloss:0.26290\teval-logloss:0.31155\n",
      "[154]\ttrain-logloss:0.26282\teval-logloss:0.31149\n",
      "[155]\ttrain-logloss:0.26274\teval-logloss:0.31139\n",
      "[156]\ttrain-logloss:0.26258\teval-logloss:0.31113\n",
      "[157]\ttrain-logloss:0.26247\teval-logloss:0.31098\n",
      "[158]\ttrain-logloss:0.26203\teval-logloss:0.31089\n",
      "[159]\ttrain-logloss:0.26182\teval-logloss:0.31079\n",
      "[160]\ttrain-logloss:0.26175\teval-logloss:0.31074\n",
      "[161]\ttrain-logloss:0.26162\teval-logloss:0.31067\n"
     ]
    },
    {
     "name": "stdout",
     "output_type": "stream",
     "text": [
      "[162]\ttrain-logloss:0.26140\teval-logloss:0.31065\n",
      "[163]\ttrain-logloss:0.26127\teval-logloss:0.31061\n",
      "[164]\ttrain-logloss:0.26096\teval-logloss:0.31049\n",
      "[165]\ttrain-logloss:0.26061\teval-logloss:0.31032\n",
      "[166]\ttrain-logloss:0.26039\teval-logloss:0.31022\n",
      "[167]\ttrain-logloss:0.26013\teval-logloss:0.31010\n",
      "[168]\ttrain-logloss:0.25974\teval-logloss:0.30994\n",
      "[169]\ttrain-logloss:0.25954\teval-logloss:0.30971\n",
      "[170]\ttrain-logloss:0.25905\teval-logloss:0.30936\n",
      "[171]\ttrain-logloss:0.25892\teval-logloss:0.30928\n",
      "[172]\ttrain-logloss:0.25872\teval-logloss:0.30930\n",
      "[173]\ttrain-logloss:0.25847\teval-logloss:0.30916\n",
      "[174]\ttrain-logloss:0.25819\teval-logloss:0.30896\n",
      "[175]\ttrain-logloss:0.25787\teval-logloss:0.30870\n",
      "[176]\ttrain-logloss:0.25775\teval-logloss:0.30872\n",
      "[177]\ttrain-logloss:0.25740\teval-logloss:0.30866\n",
      "[178]\ttrain-logloss:0.25735\teval-logloss:0.30862\n",
      "[179]\ttrain-logloss:0.25700\teval-logloss:0.30856\n",
      "[180]\ttrain-logloss:0.25688\teval-logloss:0.30850\n",
      "[181]\ttrain-logloss:0.25670\teval-logloss:0.30831\n",
      "[182]\ttrain-logloss:0.25626\teval-logloss:0.30795\n",
      "[183]\ttrain-logloss:0.25554\teval-logloss:0.30764\n",
      "[184]\ttrain-logloss:0.25525\teval-logloss:0.30747\n",
      "[185]\ttrain-logloss:0.25502\teval-logloss:0.30723\n",
      "[186]\ttrain-logloss:0.25482\teval-logloss:0.30727\n",
      "[187]\ttrain-logloss:0.25478\teval-logloss:0.30724\n",
      "[188]\ttrain-logloss:0.25451\teval-logloss:0.30705\n",
      "[189]\ttrain-logloss:0.25436\teval-logloss:0.30684\n",
      "[190]\ttrain-logloss:0.25426\teval-logloss:0.30682\n",
      "[191]\ttrain-logloss:0.25408\teval-logloss:0.30680\n",
      "[192]\ttrain-logloss:0.25398\teval-logloss:0.30683\n",
      "[193]\ttrain-logloss:0.25369\teval-logloss:0.30664\n",
      "[194]\ttrain-logloss:0.25342\teval-logloss:0.30658\n",
      "[195]\ttrain-logloss:0.25286\teval-logloss:0.30630\n",
      "[196]\ttrain-logloss:0.25242\teval-logloss:0.30619\n",
      "[197]\ttrain-logloss:0.25227\teval-logloss:0.30611\n",
      "[198]\ttrain-logloss:0.25214\teval-logloss:0.30606\n",
      "[199]\ttrain-logloss:0.25194\teval-logloss:0.30600\n",
      "[200]\ttrain-logloss:0.25179\teval-logloss:0.30585\n",
      "[201]\ttrain-logloss:0.25169\teval-logloss:0.30577\n",
      "[202]\ttrain-logloss:0.25152\teval-logloss:0.30571\n",
      "[203]\ttrain-logloss:0.25145\teval-logloss:0.30554\n",
      "[204]\ttrain-logloss:0.25137\teval-logloss:0.30553\n",
      "[205]\ttrain-logloss:0.25120\teval-logloss:0.30550\n",
      "[206]\ttrain-logloss:0.25106\teval-logloss:0.30545\n",
      "[207]\ttrain-logloss:0.25100\teval-logloss:0.30541\n",
      "[208]\ttrain-logloss:0.25095\teval-logloss:0.30540\n",
      "[209]\ttrain-logloss:0.25081\teval-logloss:0.30522\n",
      "[210]\ttrain-logloss:0.25060\teval-logloss:0.30508\n",
      "[211]\ttrain-logloss:0.25042\teval-logloss:0.30492\n",
      "[212]\ttrain-logloss:0.25033\teval-logloss:0.30495\n",
      "[213]\ttrain-logloss:0.25020\teval-logloss:0.30487\n",
      "[214]\ttrain-logloss:0.25001\teval-logloss:0.30478\n",
      "[215]\ttrain-logloss:0.24980\teval-logloss:0.30479\n",
      "[216]\ttrain-logloss:0.24966\teval-logloss:0.30475\n",
      "[217]\ttrain-logloss:0.24959\teval-logloss:0.30476\n",
      "[218]\ttrain-logloss:0.24935\teval-logloss:0.30473\n",
      "[219]\ttrain-logloss:0.24919\teval-logloss:0.30468\n",
      "[220]\ttrain-logloss:0.24894\teval-logloss:0.30461\n",
      "[221]\ttrain-logloss:0.24875\teval-logloss:0.30438\n",
      "[222]\ttrain-logloss:0.24865\teval-logloss:0.30427\n",
      "[223]\ttrain-logloss:0.24847\teval-logloss:0.30411\n",
      "[224]\ttrain-logloss:0.24800\teval-logloss:0.30389\n",
      "[225]\ttrain-logloss:0.24771\teval-logloss:0.30378\n",
      "[226]\ttrain-logloss:0.24769\teval-logloss:0.30375\n",
      "[227]\ttrain-logloss:0.24758\teval-logloss:0.30370\n",
      "[228]\ttrain-logloss:0.24751\teval-logloss:0.30373\n",
      "[229]\ttrain-logloss:0.24694\teval-logloss:0.30347\n",
      "[230]\ttrain-logloss:0.24676\teval-logloss:0.30347\n",
      "[231]\ttrain-logloss:0.24650\teval-logloss:0.30324\n",
      "[232]\ttrain-logloss:0.24629\teval-logloss:0.30322\n",
      "[233]\ttrain-logloss:0.24623\teval-logloss:0.30325\n",
      "[234]\ttrain-logloss:0.24621\teval-logloss:0.30323\n",
      "[235]\ttrain-logloss:0.24612\teval-logloss:0.30320\n",
      "[236]\ttrain-logloss:0.24585\teval-logloss:0.30298\n",
      "[237]\ttrain-logloss:0.24573\teval-logloss:0.30294\n",
      "[238]\ttrain-logloss:0.24544\teval-logloss:0.30281\n",
      "[239]\ttrain-logloss:0.24536\teval-logloss:0.30283\n",
      "[240]\ttrain-logloss:0.24520\teval-logloss:0.30274\n",
      "[241]\ttrain-logloss:0.24489\teval-logloss:0.30266\n",
      "[242]\ttrain-logloss:0.24467\teval-logloss:0.30256\n",
      "[243]\ttrain-logloss:0.24457\teval-logloss:0.30240\n",
      "[244]\ttrain-logloss:0.24440\teval-logloss:0.30227\n",
      "[245]\ttrain-logloss:0.24434\teval-logloss:0.30228\n",
      "[246]\ttrain-logloss:0.24421\teval-logloss:0.30224\n",
      "[247]\ttrain-logloss:0.24407\teval-logloss:0.30205\n",
      "[248]\ttrain-logloss:0.24387\teval-logloss:0.30188\n",
      "[249]\ttrain-logloss:0.24371\teval-logloss:0.30185\n",
      "[250]\ttrain-logloss:0.24366\teval-logloss:0.30182\n",
      "[251]\ttrain-logloss:0.24345\teval-logloss:0.30179\n",
      "[252]\ttrain-logloss:0.24337\teval-logloss:0.30176\n",
      "[253]\ttrain-logloss:0.24329\teval-logloss:0.30176\n",
      "[254]\ttrain-logloss:0.24311\teval-logloss:0.30165\n",
      "[255]\ttrain-logloss:0.24302\teval-logloss:0.30153\n",
      "[256]\ttrain-logloss:0.24288\teval-logloss:0.30157\n",
      "[257]\ttrain-logloss:0.24274\teval-logloss:0.30152\n",
      "[258]\ttrain-logloss:0.24250\teval-logloss:0.30146\n",
      "[259]\ttrain-logloss:0.24242\teval-logloss:0.30140\n",
      "[260]\ttrain-logloss:0.24236\teval-logloss:0.30143\n",
      "[261]\ttrain-logloss:0.24229\teval-logloss:0.30145\n",
      "[262]\ttrain-logloss:0.24209\teval-logloss:0.30141\n",
      "[263]\ttrain-logloss:0.24196\teval-logloss:0.30145\n",
      "[264]\ttrain-logloss:0.24187\teval-logloss:0.30131\n",
      "[265]\ttrain-logloss:0.24175\teval-logloss:0.30121\n",
      "[266]\ttrain-logloss:0.24163\teval-logloss:0.30120\n",
      "[267]\ttrain-logloss:0.24155\teval-logloss:0.30118\n",
      "[268]\ttrain-logloss:0.24145\teval-logloss:0.30120\n",
      "[269]\ttrain-logloss:0.24124\teval-logloss:0.30115\n",
      "[270]\ttrain-logloss:0.24118\teval-logloss:0.30112\n",
      "[271]\ttrain-logloss:0.24095\teval-logloss:0.30108\n",
      "[272]\ttrain-logloss:0.24092\teval-logloss:0.30107\n",
      "[273]\ttrain-logloss:0.24086\teval-logloss:0.30109\n",
      "[274]\ttrain-logloss:0.24069\teval-logloss:0.30106\n",
      "[275]\ttrain-logloss:0.24057\teval-logloss:0.30104\n",
      "[276]\ttrain-logloss:0.24047\teval-logloss:0.30106\n",
      "[277]\ttrain-logloss:0.24036\teval-logloss:0.30110\n",
      "[278]\ttrain-logloss:0.24023\teval-logloss:0.30101\n",
      "[279]\ttrain-logloss:0.24007\teval-logloss:0.30099\n",
      "[280]\ttrain-logloss:0.24002\teval-logloss:0.30096\n",
      "[281]\ttrain-logloss:0.23984\teval-logloss:0.30095\n",
      "[282]\ttrain-logloss:0.23977\teval-logloss:0.30090\n",
      "[283]\ttrain-logloss:0.23972\teval-logloss:0.30089\n",
      "[284]\ttrain-logloss:0.23967\teval-logloss:0.30085\n",
      "[285]\ttrain-logloss:0.23960\teval-logloss:0.30084\n",
      "[286]\ttrain-logloss:0.23952\teval-logloss:0.30076\n",
      "[287]\ttrain-logloss:0.23943\teval-logloss:0.30062\n",
      "[288]\ttrain-logloss:0.23941\teval-logloss:0.30062\n",
      "[289]\ttrain-logloss:0.23921\teval-logloss:0.30057\n",
      "[290]\ttrain-logloss:0.23908\teval-logloss:0.30049\n",
      "[291]\ttrain-logloss:0.23896\teval-logloss:0.30041\n",
      "[292]\ttrain-logloss:0.23847\teval-logloss:0.30023\n",
      "[293]\ttrain-logloss:0.23839\teval-logloss:0.30020\n",
      "[294]\ttrain-logloss:0.23817\teval-logloss:0.30012\n",
      "[295]\ttrain-logloss:0.23810\teval-logloss:0.30002\n",
      "[296]\ttrain-logloss:0.23792\teval-logloss:0.29989\n",
      "[297]\ttrain-logloss:0.23778\teval-logloss:0.29986\n",
      "[298]\ttrain-logloss:0.23774\teval-logloss:0.29985\n",
      "[299]\ttrain-logloss:0.23749\teval-logloss:0.29979\n",
      "[300]\ttrain-logloss:0.23742\teval-logloss:0.29980\n",
      "[301]\ttrain-logloss:0.23726\teval-logloss:0.29973\n",
      "[302]\ttrain-logloss:0.23714\teval-logloss:0.29964\n",
      "[303]\ttrain-logloss:0.23708\teval-logloss:0.29960\n",
      "[304]\ttrain-logloss:0.23701\teval-logloss:0.29960\n",
      "[305]\ttrain-logloss:0.23680\teval-logloss:0.29954\n",
      "[306]\ttrain-logloss:0.23662\teval-logloss:0.29956\n",
      "[307]\ttrain-logloss:0.23651\teval-logloss:0.29949\n",
      "[308]\ttrain-logloss:0.23637\teval-logloss:0.29944\n",
      "[309]\ttrain-logloss:0.23620\teval-logloss:0.29939\n",
      "[310]\ttrain-logloss:0.23611\teval-logloss:0.29933\n",
      "[311]\ttrain-logloss:0.23601\teval-logloss:0.29927\n",
      "[312]\ttrain-logloss:0.23592\teval-logloss:0.29920\n",
      "[313]\ttrain-logloss:0.23587\teval-logloss:0.29916\n",
      "[314]\ttrain-logloss:0.23572\teval-logloss:0.29921\n",
      "[315]\ttrain-logloss:0.23550\teval-logloss:0.29916\n",
      "[316]\ttrain-logloss:0.23539\teval-logloss:0.29916\n",
      "[317]\ttrain-logloss:0.23514\teval-logloss:0.29903\n",
      "[318]\ttrain-logloss:0.23509\teval-logloss:0.29892\n",
      "[319]\ttrain-logloss:0.23502\teval-logloss:0.29888\n",
      "[320]\ttrain-logloss:0.23497\teval-logloss:0.29888\n",
      "[321]\ttrain-logloss:0.23483\teval-logloss:0.29881\n",
      "[322]\ttrain-logloss:0.23475\teval-logloss:0.29878\n",
      "[323]\ttrain-logloss:0.23468\teval-logloss:0.29880\n",
      "[324]\ttrain-logloss:0.23461\teval-logloss:0.29879\n",
      "[325]\ttrain-logloss:0.23456\teval-logloss:0.29878\n",
      "[326]\ttrain-logloss:0.23448\teval-logloss:0.29879\n",
      "[327]\ttrain-logloss:0.23434\teval-logloss:0.29877\n",
      "[328]\ttrain-logloss:0.23421\teval-logloss:0.29881\n",
      "[329]\ttrain-logloss:0.23399\teval-logloss:0.29867\n"
     ]
    },
    {
     "name": "stdout",
     "output_type": "stream",
     "text": [
      "[330]\ttrain-logloss:0.23390\teval-logloss:0.29867\n",
      "[331]\ttrain-logloss:0.23381\teval-logloss:0.29861\n",
      "[332]\ttrain-logloss:0.23375\teval-logloss:0.29855\n",
      "[333]\ttrain-logloss:0.23365\teval-logloss:0.29841\n",
      "[334]\ttrain-logloss:0.23351\teval-logloss:0.29841\n",
      "[335]\ttrain-logloss:0.23348\teval-logloss:0.29837\n",
      "[336]\ttrain-logloss:0.23344\teval-logloss:0.29837\n",
      "[337]\ttrain-logloss:0.23340\teval-logloss:0.29834\n",
      "[338]\ttrain-logloss:0.23331\teval-logloss:0.29829\n",
      "[339]\ttrain-logloss:0.23328\teval-logloss:0.29829\n",
      "[340]\ttrain-logloss:0.23320\teval-logloss:0.29831\n",
      "[341]\ttrain-logloss:0.23314\teval-logloss:0.29827\n",
      "[342]\ttrain-logloss:0.23301\teval-logloss:0.29822\n",
      "[343]\ttrain-logloss:0.23286\teval-logloss:0.29821\n",
      "[344]\ttrain-logloss:0.23277\teval-logloss:0.29806\n",
      "[345]\ttrain-logloss:0.23244\teval-logloss:0.29794\n",
      "[346]\ttrain-logloss:0.23213\teval-logloss:0.29787\n",
      "[347]\ttrain-logloss:0.23198\teval-logloss:0.29781\n",
      "[348]\ttrain-logloss:0.23189\teval-logloss:0.29775\n",
      "[349]\ttrain-logloss:0.23178\teval-logloss:0.29771\n",
      "[350]\ttrain-logloss:0.23171\teval-logloss:0.29771\n",
      "[351]\ttrain-logloss:0.23152\teval-logloss:0.29765\n",
      "[352]\ttrain-logloss:0.23140\teval-logloss:0.29764\n",
      "[353]\ttrain-logloss:0.23124\teval-logloss:0.29758\n",
      "[354]\ttrain-logloss:0.23106\teval-logloss:0.29758\n",
      "[355]\ttrain-logloss:0.23101\teval-logloss:0.29752\n",
      "[356]\ttrain-logloss:0.23094\teval-logloss:0.29751\n",
      "[357]\ttrain-logloss:0.23089\teval-logloss:0.29753\n",
      "[358]\ttrain-logloss:0.23083\teval-logloss:0.29761\n",
      "[359]\ttrain-logloss:0.23072\teval-logloss:0.29754\n",
      "[360]\ttrain-logloss:0.23069\teval-logloss:0.29750\n",
      "[361]\ttrain-logloss:0.23063\teval-logloss:0.29751\n",
      "[362]\ttrain-logloss:0.23058\teval-logloss:0.29753\n",
      "[363]\ttrain-logloss:0.23055\teval-logloss:0.29755\n",
      "[364]\ttrain-logloss:0.23040\teval-logloss:0.29751\n",
      "[365]\ttrain-logloss:0.23029\teval-logloss:0.29745\n",
      "[366]\ttrain-logloss:0.23023\teval-logloss:0.29741\n",
      "[367]\ttrain-logloss:0.23017\teval-logloss:0.29742\n",
      "[368]\ttrain-logloss:0.23004\teval-logloss:0.29742\n",
      "[369]\ttrain-logloss:0.22995\teval-logloss:0.29722\n",
      "[370]\ttrain-logloss:0.22994\teval-logloss:0.29721\n",
      "[371]\ttrain-logloss:0.22974\teval-logloss:0.29723\n",
      "[372]\ttrain-logloss:0.22966\teval-logloss:0.29719\n",
      "[373]\ttrain-logloss:0.22962\teval-logloss:0.29723\n",
      "[374]\ttrain-logloss:0.22961\teval-logloss:0.29721\n",
      "[375]\ttrain-logloss:0.22945\teval-logloss:0.29717\n",
      "[376]\ttrain-logloss:0.22936\teval-logloss:0.29704\n",
      "[377]\ttrain-logloss:0.22929\teval-logloss:0.29707\n",
      "[378]\ttrain-logloss:0.22921\teval-logloss:0.29704\n",
      "[379]\ttrain-logloss:0.22919\teval-logloss:0.29702\n",
      "[380]\ttrain-logloss:0.22910\teval-logloss:0.29704\n",
      "[381]\ttrain-logloss:0.22909\teval-logloss:0.29704\n",
      "[382]\ttrain-logloss:0.22906\teval-logloss:0.29707\n",
      "[383]\ttrain-logloss:0.22903\teval-logloss:0.29707\n",
      "[384]\ttrain-logloss:0.22897\teval-logloss:0.29709\n",
      "[385]\ttrain-logloss:0.22892\teval-logloss:0.29708\n",
      "[386]\ttrain-logloss:0.22886\teval-logloss:0.29703\n",
      "[387]\ttrain-logloss:0.22878\teval-logloss:0.29695\n",
      "[388]\ttrain-logloss:0.22865\teval-logloss:0.29694\n",
      "[389]\ttrain-logloss:0.22822\teval-logloss:0.29678\n",
      "[390]\ttrain-logloss:0.22816\teval-logloss:0.29678\n",
      "[391]\ttrain-logloss:0.22804\teval-logloss:0.29669\n",
      "[392]\ttrain-logloss:0.22795\teval-logloss:0.29665\n",
      "[393]\ttrain-logloss:0.22788\teval-logloss:0.29659\n",
      "[394]\ttrain-logloss:0.22781\teval-logloss:0.29657\n",
      "[395]\ttrain-logloss:0.22774\teval-logloss:0.29655\n",
      "[396]\ttrain-logloss:0.22766\teval-logloss:0.29655\n",
      "[397]\ttrain-logloss:0.22765\teval-logloss:0.29655\n",
      "[398]\ttrain-logloss:0.22762\teval-logloss:0.29652\n",
      "[399]\ttrain-logloss:0.22756\teval-logloss:0.29649\n"
     ]
    }
   ],
   "source": [
    "# train 데이터 세트는 'train', evaluation(test) 데이터 세트는 'eval'로 명기\n",
    "wlist = [(dtrain, 'train'),(dtest, 'eval')]\n",
    "# 하이퍼 파라미터와 early stoppinig 파라미터를 train() 함수의 파라미터로 전달\n",
    "xgb_model = xgb.train(params=params, dtrain=dtrain, num_boost_round=num_rounds, evals=wlist)"
   ]
  },
  {
   "cell_type": "code",
   "execution_count": 54,
   "metadata": {},
   "outputs": [
    {
     "name": "stdout",
     "output_type": "stream",
     "text": [
      "[1.    0.662 0.594 1.    0.752 0.241 0.78  1.    1.    0.372]\n"
     ]
    }
   ],
   "source": [
    "pred_probs = xgb_model.predict(dtest)\n",
    "print(np.round(pred_probs[:10], 3))\n",
    "\n",
    "preds = [1 if x > 0.5 else 0 for x in pred_probs]"
   ]
  },
  {
   "cell_type": "code",
   "execution_count": 55,
   "metadata": {},
   "outputs": [],
   "source": [
    "def get_clf_eval(Y_test, pred):\n",
    "    confusion = confusion_matrix(Y_test, pred)\n",
    "    accuracy = accuracy_score(Y_test, pred)\n",
    "    precision = precision_score(Y_test, pred)\n",
    "    recall = recall_score(Y_test, pred)\n",
    "    print('오차행렬')\n",
    "    print(confusion)\n",
    "    print('정확도: {0:.4f}, 정밀도: {1:.4f}, 재현율: {2:.4f}'.format(accuracy, precision, recall))"
   ]
  },
  {
   "cell_type": "code",
   "execution_count": 56,
   "metadata": {},
   "outputs": [
    {
     "name": "stdout",
     "output_type": "stream",
     "text": [
      "오차행렬\n",
      "[[2142  351]\n",
      " [ 834 4353]]\n",
      "정확도: 0.8457, 정밀도: 0.9254, 재현율: 0.8392\n"
     ]
    }
   ],
   "source": [
    "get_clf_eval(Y_test, preds)"
   ]
  },
  {
   "cell_type": "markdown",
   "metadata": {},
   "source": [
    "# LightGBM"
   ]
  },
  {
   "cell_type": "code",
   "execution_count": 57,
   "metadata": {},
   "outputs": [
    {
     "name": "stdout",
     "output_type": "stream",
     "text": [
      "[1]\tvalid_0's l2: 0.236531\tvalid_0's binary_logloss: 0.666189\n",
      "[2]\tvalid_0's l2: 0.224327\tvalid_0's binary_logloss: 0.64166\n",
      "[3]\tvalid_0's l2: 0.213374\tvalid_0's binary_logloss: 0.619465\n",
      "[4]\tvalid_0's l2: 0.203377\tvalid_0's binary_logloss: 0.598984\n",
      "[5]\tvalid_0's l2: 0.194564\tvalid_0's binary_logloss: 0.580658\n",
      "[6]\tvalid_0's l2: 0.186482\tvalid_0's binary_logloss: 0.563581\n",
      "[7]\tvalid_0's l2: 0.179237\tvalid_0's binary_logloss: 0.547976\n",
      "[8]\tvalid_0's l2: 0.18226\tvalid_0's binary_logloss: 0.554527\n",
      "[9]\tvalid_0's l2: 0.175488\tvalid_0's binary_logloss: 0.53976\n",
      "[10]\tvalid_0's l2: 0.169246\tvalid_0's binary_logloss: 0.52587\n",
      "[11]\tvalid_0's l2: 0.163686\tvalid_0's binary_logloss: 0.513175\n",
      "[12]\tvalid_0's l2: 0.165853\tvalid_0's binary_logloss: 0.518166\n",
      "[13]\tvalid_0's l2: 0.160729\tvalid_0's binary_logloss: 0.506279\n",
      "[14]\tvalid_0's l2: 0.155973\tvalid_0's binary_logloss: 0.494976\n",
      "[15]\tvalid_0's l2: 0.151712\tvalid_0's binary_logloss: 0.484572\n",
      "[16]\tvalid_0's l2: 0.147686\tvalid_0's binary_logloss: 0.474469\n",
      "[17]\tvalid_0's l2: 0.144257\tvalid_0's binary_logloss: 0.46555\n",
      "[18]\tvalid_0's l2: 0.141044\tvalid_0's binary_logloss: 0.456947\n",
      "[19]\tvalid_0's l2: 0.138321\tvalid_0's binary_logloss: 0.449379\n",
      "[20]\tvalid_0's l2: 0.13565\tvalid_0's binary_logloss: 0.441803\n",
      "[21]\tvalid_0's l2: 0.136649\tvalid_0's binary_logloss: 0.444689\n",
      "[22]\tvalid_0's l2: 0.134279\tvalid_0's binary_logloss: 0.437758\n",
      "[23]\tvalid_0's l2: 0.132068\tvalid_0's binary_logloss: 0.431073\n",
      "[24]\tvalid_0's l2: 0.130191\tvalid_0's binary_logloss: 0.425122\n",
      "[25]\tvalid_0's l2: 0.128311\tvalid_0's binary_logloss: 0.419113\n",
      "[26]\tvalid_0's l2: 0.126696\tvalid_0's binary_logloss: 0.41369\n",
      "[27]\tvalid_0's l2: 0.125263\tvalid_0's binary_logloss: 0.408691\n",
      "[28]\tvalid_0's l2: 0.125995\tvalid_0's binary_logloss: 0.411332\n",
      "[29]\tvalid_0's l2: 0.124469\tvalid_0's binary_logloss: 0.406084\n",
      "[30]\tvalid_0's l2: 0.123257\tvalid_0's binary_logloss: 0.401573\n",
      "[31]\tvalid_0's l2: 0.123595\tvalid_0's binary_logloss: 0.402997\n",
      "[32]\tvalid_0's l2: 0.122255\tvalid_0's binary_logloss: 0.398175\n",
      "[33]\tvalid_0's l2: 0.121142\tvalid_0's binary_logloss: 0.393898\n",
      "[34]\tvalid_0's l2: 0.11996\tvalid_0's binary_logloss: 0.389482\n",
      "[35]\tvalid_0's l2: 0.120674\tvalid_0's binary_logloss: 0.392474\n",
      "[36]\tvalid_0's l2: 0.121944\tvalid_0's binary_logloss: 0.397608\n",
      "[37]\tvalid_0's l2: 0.120779\tvalid_0's binary_logloss: 0.393142\n",
      "[38]\tvalid_0's l2: 0.119632\tvalid_0's binary_logloss: 0.388805\n",
      "[39]\tvalid_0's l2: 0.118725\tvalid_0's binary_logloss: 0.385049\n",
      "[40]\tvalid_0's l2: 0.118633\tvalid_0's binary_logloss: 0.384817\n",
      "[41]\tvalid_0's l2: 0.119441\tvalid_0's binary_logloss: 0.388283\n",
      "[42]\tvalid_0's l2: 0.118519\tvalid_0's binary_logloss: 0.384437\n",
      "[43]\tvalid_0's l2: 0.119201\tvalid_0's binary_logloss: 0.387383\n",
      "[44]\tvalid_0's l2: 0.118384\tvalid_0's binary_logloss: 0.383814\n",
      "[45]\tvalid_0's l2: 0.117636\tvalid_0's binary_logloss: 0.380437\n",
      "[46]\tvalid_0's l2: 0.132473\tvalid_0's binary_logloss: 0.426731\n",
      "[47]\tvalid_0's l2: 0.130456\tvalid_0's binary_logloss: 0.420601\n",
      "[48]\tvalid_0's l2: 0.130231\tvalid_0's binary_logloss: 0.420139\n",
      "[49]\tvalid_0's l2: 0.131001\tvalid_0's binary_logloss: 0.423005\n",
      "[50]\tvalid_0's l2: 0.132017\tvalid_0's binary_logloss: 0.42646\n",
      "[51]\tvalid_0's l2: 0.130218\tvalid_0's binary_logloss: 0.420824\n",
      "[52]\tvalid_0's l2: 0.128369\tvalid_0's binary_logloss: 0.414989\n",
      "[53]\tvalid_0's l2: 0.129263\tvalid_0's binary_logloss: 0.418166"
     ]
    },
    {
     "name": "stderr",
     "output_type": "stream",
     "text": [
      "C:\\Users\\020\\anaconda3\\lib\\site-packages\\lightgbm\\callback.py:189: UserWarning: Early stopping is not available in dart mode\n",
      "  warnings.warn('Early stopping is not available in dart mode')\n"
     ]
    },
    {
     "name": "stdout",
     "output_type": "stream",
     "text": [
      "\n",
      "[54]\tvalid_0's l2: 0.127562\tvalid_0's binary_logloss: 0.412591\n",
      "[55]\tvalid_0's l2: 0.126123\tvalid_0's binary_logloss: 0.407678\n",
      "[56]\tvalid_0's l2: 0.127119\tvalid_0's binary_logloss: 0.411452\n",
      "[57]\tvalid_0's l2: 0.125605\tvalid_0's binary_logloss: 0.406276\n",
      "[58]\tvalid_0's l2: 0.145104\tvalid_0's binary_logloss: 0.46018\n",
      "[59]\tvalid_0's l2: 0.146272\tvalid_0's binary_logloss: 0.46349\n",
      "[60]\tvalid_0's l2: 0.143255\tvalid_0's binary_logloss: 0.455406\n",
      "[61]\tvalid_0's l2: 0.165016\tvalid_0's binary_logloss: 0.513395\n",
      "[62]\tvalid_0's l2: 0.160215\tvalid_0's binary_logloss: 0.501065\n",
      "[63]\tvalid_0's l2: 0.156071\tvalid_0's binary_logloss: 0.490259\n",
      "[64]\tvalid_0's l2: 0.156564\tvalid_0's binary_logloss: 0.490954\n",
      "[65]\tvalid_0's l2: 0.157459\tvalid_0's binary_logloss: 0.493036\n",
      "[66]\tvalid_0's l2: 0.15342\tvalid_0's binary_logloss: 0.482616\n",
      "[67]\tvalid_0's l2: 0.149708\tvalid_0's binary_logloss: 0.472752\n",
      "[68]\tvalid_0's l2: 0.146397\tvalid_0's binary_logloss: 0.463828\n",
      "[69]\tvalid_0's l2: 0.147147\tvalid_0's binary_logloss: 0.465773\n",
      "[70]\tvalid_0's l2: 0.147386\tvalid_0's binary_logloss: 0.466417\n",
      "[71]\tvalid_0's l2: 0.147761\tvalid_0's binary_logloss: 0.46739\n",
      "[72]\tvalid_0's l2: 0.144614\tvalid_0's binary_logloss: 0.45898\n",
      "[73]\tvalid_0's l2: 0.141768\tvalid_0's binary_logloss: 0.451101\n",
      "[74]\tvalid_0's l2: 0.142457\tvalid_0's binary_logloss: 0.453071\n",
      "[75]\tvalid_0's l2: 0.139563\tvalid_0's binary_logloss: 0.444934\n",
      "[76]\tvalid_0's l2: 0.139654\tvalid_0's binary_logloss: 0.445217\n",
      "[77]\tvalid_0's l2: 0.140214\tvalid_0's binary_logloss: 0.446901\n",
      "[78]\tvalid_0's l2: 0.141061\tvalid_0's binary_logloss: 0.449405\n",
      "[79]\tvalid_0's l2: 0.138262\tvalid_0's binary_logloss: 0.441603\n",
      "[80]\tvalid_0's l2: 0.135833\tvalid_0's binary_logloss: 0.434565\n",
      "[81]\tvalid_0's l2: 0.136737\tvalid_0's binary_logloss: 0.437343\n",
      "[82]\tvalid_0's l2: 0.134519\tvalid_0's binary_logloss: 0.43084\n",
      "[83]\tvalid_0's l2: 0.135528\tvalid_0's binary_logloss: 0.434049\n",
      "[84]\tvalid_0's l2: 0.136294\tvalid_0's binary_logloss: 0.436457\n",
      "[85]\tvalid_0's l2: 0.137366\tvalid_0's binary_logloss: 0.439663\n",
      "[86]\tvalid_0's l2: 0.135105\tvalid_0's binary_logloss: 0.433059\n",
      "[87]\tvalid_0's l2: 0.132877\tvalid_0's binary_logloss: 0.426475\n",
      "[88]\tvalid_0's l2: 0.133962\tvalid_0's binary_logloss: 0.429906\n",
      "[89]\tvalid_0's l2: 0.134443\tvalid_0's binary_logloss: 0.431596\n",
      "[90]\tvalid_0's l2: 0.135423\tvalid_0's binary_logloss: 0.434601\n",
      "[91]\tvalid_0's l2: 0.152068\tvalid_0's binary_logloss: 0.479077\n",
      "[92]\tvalid_0's l2: 0.148455\tvalid_0's binary_logloss: 0.469502\n",
      "[93]\tvalid_0's l2: 0.145213\tvalid_0's binary_logloss: 0.460793\n",
      "[94]\tvalid_0's l2: 0.146567\tvalid_0's binary_logloss: 0.464435\n",
      "[95]\tvalid_0's l2: 0.147348\tvalid_0's binary_logloss: 0.466492\n",
      "[96]\tvalid_0's l2: 0.148336\tvalid_0's binary_logloss: 0.469094\n",
      "[97]\tvalid_0's l2: 0.145117\tvalid_0's binary_logloss: 0.46048\n",
      "[98]\tvalid_0's l2: 0.145917\tvalid_0's binary_logloss: 0.462666\n",
      "[99]\tvalid_0's l2: 0.142806\tvalid_0's binary_logloss: 0.454167\n",
      "[100]\tvalid_0's l2: 0.139903\tvalid_0's binary_logloss: 0.44611\n"
     ]
    }
   ],
   "source": [
    "lgbm_wrapper = LGBMClassifier(learning_rate= 0.05,max_depth= 10,\n",
    "                              nestimators=500, objective = 'mse',\n",
    "                              boosting='dart'\n",
    "#                                ,num_leaves=50\n",
    "#                               ,min_data_in_leaf=200\n",
    "                             )\n",
    "evals = [(X_test, Y_test)]\n",
    "lgbm_wrapper.fit(htX, htY, early_stopping_rounds=100, \n",
    "                 eval_metric=\"logloss\", eval_set=evals, verbose=True)\n",
    "pred = lgbm_wrapper.predict(X_test)"
   ]
  },
  {
   "cell_type": "code",
   "execution_count": 58,
   "metadata": {},
   "outputs": [
    {
     "name": "stdout",
     "output_type": "stream",
     "text": [
      "오차행렬\n",
      "[[2421   72]\n",
      " [1451 3736]]\n",
      "정확도: 0.8017, 정밀도: 0.9811, 재현율: 0.7203\n"
     ]
    }
   ],
   "source": [
    "get_clf_eval(Y_test, pred)"
   ]
  },
  {
   "cell_type": "code",
   "execution_count": 53,
   "metadata": {},
   "outputs": [],
   "source": [
    "# import lightgbm as lgb\n",
    "# lgbm_wrapper = LGBMClassifier(nestimators=1000,learning_rate=0.1)\n",
    "# def modelFitter(colsampleByTree, subsample,maxDepth, num_leaves):   \n",
    "#     model = lgb.LGBMRegressor(learning_rate=0.02, n_estimators=10000, max_depth=maxDepth.astype(\"int32\"), subsample=subsample, colsample_bytree=colsampleByTree,num_leaves=num_leaves.astype(\"int32\"))\n",
    "#     evalSet  = [(X_test, Y_test)]\n",
    "#     model.fit(htX, htY, eval_metric=\"rmse\", eval_set=evals, early_stopping_rounds=50, verbose=False)\n",
    "#     bestScore = model.best_score_[list(model.best_score_.keys())[0]]['rmse']\n",
    "#     return -bestScore\n",
    "# # Bounded region of parameter space\n",
    "# pbounds = {'colsampleByTree': (0.8,1.0), 'subsample': (0.8,1.0), 'maxDepth': (2,5), 'num_leaves': (24, 45)}\n",
    "# optimizer = BayesianOptimization(\n",
    "#     f=modelFitter,\n",
    "#     pbounds=pbounds,\n",
    "#     random_state=1)\n",
    "# optimizer.maximize(init_points=5,n_iter=5)  #n_iter=bayesian, init_points=random"
   ]
  },
  {
   "cell_type": "markdown",
   "metadata": {},
   "source": [
    "# PR curve"
   ]
  },
  {
   "cell_type": "code",
   "execution_count": 38,
   "metadata": {},
   "outputs": [],
   "source": [
    "def plot_precision_recall_curve(precisions, recalls) :\n",
    "    plt.plot(recalls, precisions, color='blue')\n",
    "    plt.axis([0,1,0,1])\n",
    "    plt.xlabel('Recall')\n",
    "    plt.ylabel('Precision')\n",
    "    plt.title('PR curve')"
   ]
  },
  {
   "cell_type": "code",
   "execution_count": 39,
   "metadata": {},
   "outputs": [],
   "source": [
    "precisions, recalls, _ = precision_recall_curve(Y_test, \n",
    "                                    clf_gs.predict_proba(X_test)[:,1])"
   ]
  },
  {
   "cell_type": "code",
   "execution_count": 40,
   "metadata": {},
   "outputs": [
    {
     "data": {
      "text/plain": [
       "array([0.67539063, 0.67570033, 0.67618675, 0.67627494, 0.67623272,\n",
       "       0.67632094, 0.67649746, 0.67658575, 0.67654353, 0.6783979 ,\n",
       "       0.67915567, 0.67933492, 0.67951426, 0.67960396, 0.67969369,\n",
       "       0.67978344, 0.67987322, 0.68296572, 0.68292359, 0.69083815,\n",
       "       0.69084791, 0.69085768, 0.70583298, 0.70593173, 0.70701976,\n",
       "       0.7069787 , 0.70731023, 0.70736842, 0.70746771, 0.70866142,\n",
       "       0.72990777, 0.73100616, 0.73143528, 0.73182553, 0.73235294,\n",
       "       0.73267618, 0.73536369, 0.73547242, 0.73604737, 0.73615635,\n",
       "       0.73840666, 0.73851643, 0.73862623, 0.73884593, 0.74513973,\n",
       "       0.74525292, 0.74521422, 0.74562871, 0.74581685, 0.7462323 ,\n",
       "       0.75309406, 0.75321058, 0.75313419, 0.75313613, 0.75317632,\n",
       "       0.75329304, 0.75337157, 0.75348837, 0.82359723, 0.82511556,\n",
       "       0.82666667, 0.82682644, 0.82695282, 0.8270793 , 0.82717244,\n",
       "       0.83014073, 0.83030303, 0.83039906, 0.83072407, 0.8314673 ,\n",
       "       0.83143418, 0.83176101, 0.83192451, 0.83205506, 0.83211966,\n",
       "       0.83225044, 0.83241434, 0.83353081, 0.83386013, 0.83382731,\n",
       "       0.83488418, 0.83521489, 0.83538035, 0.83584756, 0.83581497,\n",
       "       0.83568448, 0.83661692, 0.83678344, 0.83642529, 0.85207949,\n",
       "       0.8522541 , 0.85170712, 0.85188233, 0.85205761, 0.85202717,\n",
       "       0.85193575, 0.85175258, 0.84907641, 0.84904472, 0.84898131,\n",
       "       0.84894958, 0.84891784, 0.84953704, 0.84971585, 0.85099198,\n",
       "       0.85096052, 0.85128855, 0.85272958, 0.86038059, 0.86035073,\n",
       "       0.86032086, 0.86017131, 0.86014136, 0.86029569, 0.86048007,\n",
       "       0.86045016, 0.86060476, 0.8611588 , 0.86656374, 0.8665343 ,\n",
       "       0.86650485, 0.86647539, 0.86663723, 0.86660777, 0.86657831,\n",
       "       0.86619406, 0.866386  , 0.87026173, 0.86996834, 0.87040399,\n",
       "       0.87048398, 0.87163088, 0.87183002, 0.87650602, 0.87843503,\n",
       "       0.87863965, 0.87884436, 0.87875962, 0.87896455, 0.87893632,\n",
       "       0.87890807, 0.87911319, 0.94479769, 0.94478173, 0.93210096,\n",
       "       0.93207681, 0.93361884, 0.93359514, 0.93350018, 0.93455592,\n",
       "       0.93453237, 0.93650794, 0.93639321, 0.93661717, 0.93650218,\n",
       "       0.93645606, 0.93643298, 0.93640988, 0.93573265, 0.9344078 ,\n",
       "       0.94144487, 0.9414003 , 0.94209524, 0.94207317, 0.94200687,\n",
       "       0.94236641, 0.9951986 , 0.9947619 , 0.99453008, 0.99452736,\n",
       "       0.99501744, 0.99501247, 0.99500749, 0.91071429, 0.90654206,\n",
       "       0.89690722, 0.87804878, 0.87012987, 0.86666667, 0.86486486,\n",
       "       0.8630137 , 0.87323944, 0.93103448, 0.92982456, 0.91304348,\n",
       "       0.93333333, 0.93181818, 0.93023256, 0.92682927, 1.        ,\n",
       "       1.        , 1.        , 1.        , 1.        , 1.        ,\n",
       "       1.        , 1.        , 1.        ])"
      ]
     },
     "execution_count": 40,
     "metadata": {},
     "output_type": "execute_result"
    }
   ],
   "source": [
    "precisions"
   ]
  },
  {
   "cell_type": "code",
   "execution_count": 41,
   "metadata": {},
   "outputs": [
    {
     "data": {
      "text/plain": [
       "array([1.00000000e+00, 9.99807210e-01, 9.99614421e-01, 9.99614421e-01,\n",
       "       9.99421631e-01, 9.99421631e-01, 9.99421631e-01, 9.99421631e-01,\n",
       "       9.99228841e-01, 9.95951417e-01, 9.92481203e-01, 9.92481203e-01,\n",
       "       9.92481203e-01, 9.92481203e-01, 9.92481203e-01, 9.92481203e-01,\n",
       "       9.92481203e-01, 9.90938886e-01, 9.90746096e-01, 9.89974937e-01,\n",
       "       9.89589358e-01, 9.89203779e-01, 9.72816657e-01, 9.72816657e-01,\n",
       "       9.72816657e-01, 9.72623867e-01, 9.71852709e-01, 9.71659919e-01,\n",
       "       9.71659919e-01, 9.71659919e-01, 9.61249277e-01, 9.60863698e-01,\n",
       "       9.60863698e-01, 9.60670908e-01, 9.60092539e-01, 9.60092539e-01,\n",
       "       9.58935801e-01, 9.58935801e-01, 9.58550222e-01, 9.58550222e-01,\n",
       "       9.57779063e-01, 9.57779063e-01, 9.57779063e-01, 9.57779063e-01,\n",
       "       9.45826104e-01, 9.45826104e-01, 9.45633314e-01, 9.45440524e-01,\n",
       "       9.45247735e-01, 9.45054945e-01, 9.38500096e-01, 9.38500096e-01,\n",
       "       9.38114517e-01, 9.37536148e-01, 9.37150569e-01, 9.37150569e-01,\n",
       "       9.36957779e-01, 9.36957779e-01, 8.26296511e-01, 8.25910931e-01,\n",
       "       8.24754193e-01, 8.24754193e-01, 8.24561404e-01, 8.24368614e-01,\n",
       "       8.23983035e-01, 8.18777714e-01, 8.18777714e-01, 8.18392134e-01,\n",
       "       8.18392134e-01, 8.16078658e-01, 8.15885869e-01, 8.15885869e-01,\n",
       "       8.15885869e-01, 8.15693079e-01, 8.15114710e-01, 8.14921920e-01,\n",
       "       8.14921920e-01, 8.13765182e-01, 8.13765182e-01, 8.13572393e-01,\n",
       "       8.12994024e-01, 8.12994024e-01, 8.12994024e-01, 8.11837286e-01,\n",
       "       8.11644496e-01, 8.10873337e-01, 8.10487758e-01, 8.10487758e-01,\n",
       "       8.08367072e-01, 8.01812223e-01, 8.01812223e-01, 7.98342009e-01,\n",
       "       7.98342009e-01, 7.98342009e-01, 7.98149219e-01, 7.97570850e-01,\n",
       "       7.96414112e-01, 7.79834201e-01, 7.79641411e-01, 7.79255832e-01,\n",
       "       7.79063042e-01, 7.78870253e-01, 7.78291884e-01, 7.78291884e-01,\n",
       "       7.77327935e-01, 7.77135146e-01, 7.76942356e-01, 7.76942356e-01,\n",
       "       7.75785618e-01, 7.75592828e-01, 7.75400039e-01, 7.74436090e-01,\n",
       "       7.74243301e-01, 7.74050511e-01, 7.74050511e-01, 7.73857721e-01,\n",
       "       7.73664932e-01, 7.73664932e-01, 7.57470600e-01, 7.57277810e-01,\n",
       "       7.57085020e-01, 7.56892231e-01, 7.56699441e-01, 7.56506651e-01,\n",
       "       7.56313862e-01, 7.53807596e-01, 7.53807596e-01, 7.43589744e-01,\n",
       "       7.41661847e-01, 7.39348371e-01, 7.38577212e-01, 7.35685367e-01,\n",
       "       7.35685367e-01, 7.29323308e-01, 7.27202622e-01, 7.27202622e-01,\n",
       "       7.27202622e-01, 7.26624253e-01, 7.26624253e-01, 7.26431463e-01,\n",
       "       7.26238674e-01, 7.26238674e-01, 6.30229420e-01, 6.30036630e-01,\n",
       "       5.05494505e-01, 5.05301716e-01, 5.04337767e-01, 5.04144978e-01,\n",
       "       5.03373819e-01, 5.01060343e-01, 5.00867553e-01, 5.00481974e-01,\n",
       "       4.99518026e-01, 4.98554078e-01, 4.97590129e-01, 4.97204550e-01,\n",
       "       4.97011760e-01, 4.96818971e-01, 4.91228070e-01, 4.80624639e-01,\n",
       "       4.77347214e-01, 4.76961635e-01, 4.76768845e-01, 4.76576056e-01,\n",
       "       4.75997687e-01, 4.75997687e-01, 4.39560440e-01, 4.02737613e-01,\n",
       "       3.85579333e-01, 3.85386543e-01, 3.85000964e-01, 3.84615385e-01,\n",
       "       3.84229805e-01, 1.96645460e-02, 1.87005976e-02, 1.67727010e-02,\n",
       "       1.38808560e-02, 1.29169077e-02, 1.25313283e-02, 1.23385387e-02,\n",
       "       1.21457490e-02, 1.19529593e-02, 1.04106420e-02, 1.02178523e-02,\n",
       "       8.09716599e-03, 8.09716599e-03, 7.90437633e-03, 7.71158666e-03,\n",
       "       7.32600733e-03, 6.94042799e-03, 6.74763833e-03, 5.97647966e-03,\n",
       "       5.78368999e-03, 5.59090033e-03, 5.78368999e-04, 3.85579333e-04,\n",
       "       1.92789666e-04, 0.00000000e+00])"
      ]
     },
     "execution_count": 41,
     "metadata": {},
     "output_type": "execute_result"
    }
   ],
   "source": [
    "recalls"
   ]
  },
  {
   "cell_type": "code",
   "execution_count": 42,
   "metadata": {},
   "outputs": [
    {
     "data": {
      "text/plain": [
       "array([4.12930597e-04, 5.33222569e-04, 5.62178579e-04, 5.62920778e-04,\n",
       "       5.72118658e-04, 6.07692082e-04, 6.60380337e-04, 6.70636051e-04,\n",
       "       6.73335535e-04, 6.78054778e-04, 6.91514957e-04, 7.23373378e-04,\n",
       "       7.27508008e-04, 7.40874640e-04, 7.43635440e-04, 7.56156092e-04,\n",
       "       7.71872363e-04, 7.80177162e-04, 7.94162349e-04, 7.95835505e-04,\n",
       "       7.96691834e-04, 7.99038546e-04, 8.02022188e-04, 8.08592009e-04,\n",
       "       8.46199302e-04, 8.69743578e-04, 8.78025784e-04, 8.79365692e-04,\n",
       "       8.83823750e-04, 8.84693175e-04, 8.86083913e-04, 8.97306743e-04,\n",
       "       9.25807640e-04, 9.41213950e-04, 9.49203050e-04, 9.53237913e-04,\n",
       "       9.66570846e-04, 9.82990227e-04, 9.90283152e-04, 1.01769061e-03,\n",
       "       1.02274080e-03, 1.05466014e-03, 1.08247867e-03, 1.13423120e-03,\n",
       "       1.13635869e-03, 1.14062701e-03, 1.17059145e-03, 1.20583656e-03,\n",
       "       1.21691468e-03, 1.31737936e-03, 1.32699187e-03, 1.33059099e-03,\n",
       "       1.41339512e-03, 1.42572897e-03, 1.44965118e-03, 1.45800227e-03,\n",
       "       1.45943570e-03, 1.48028891e-03, 1.55963501e-03, 1.58815928e-03,\n",
       "       1.62148797e-03, 1.70173566e-03, 1.82386260e-03, 1.83092189e-03,\n",
       "       1.86055796e-03, 1.95047620e-03, 1.99608358e-03, 2.01903974e-03,\n",
       "       2.04927627e-03, 2.15905516e-03, 2.19746237e-03, 2.33891143e-03,\n",
       "       2.82274053e-03, 2.86454956e-03, 3.32616769e-03, 3.60588114e-03,\n",
       "       3.73655828e-03, 4.60139677e-03, 5.16831229e-03, 6.53150401e-01,\n",
       "       6.57867929e-01, 6.76564442e-01, 6.77593443e-01, 7.08869288e-01,\n",
       "       7.27485907e-01, 7.29713301e-01, 7.45142741e-01, 7.46157569e-01,\n",
       "       7.52689618e-01, 7.65568491e-01, 7.66390519e-01, 7.71793388e-01,\n",
       "       7.83962958e-01, 7.86732041e-01, 7.89217140e-01, 8.08218444e-01,\n",
       "       8.26111533e-01, 8.30666292e-01, 8.40743749e-01, 8.40987049e-01,\n",
       "       8.58580335e-01, 8.68025188e-01, 8.72608995e-01, 8.73957334e-01,\n",
       "       9.15488242e-01, 9.17440477e-01, 9.25225591e-01, 9.31923600e-01,\n",
       "       9.38116377e-01, 9.50035840e-01, 9.57814626e-01, 9.59778814e-01,\n",
       "       9.62032554e-01, 9.63020688e-01, 9.67161414e-01, 9.67269748e-01,\n",
       "       9.67990553e-01, 9.68398879e-01, 9.68580287e-01, 9.69209042e-01,\n",
       "       9.70165381e-01, 9.70485016e-01, 9.71662934e-01, 9.72925054e-01,\n",
       "       9.73790328e-01, 9.73925500e-01, 9.74862748e-01, 9.75899158e-01,\n",
       "       9.76247605e-01, 9.77087081e-01, 9.77112209e-01, 9.77556010e-01,\n",
       "       9.77754406e-01, 9.78585176e-01, 9.78635828e-01, 9.79009271e-01,\n",
       "       9.80192301e-01, 9.80712024e-01, 9.81547052e-01, 9.81754136e-01,\n",
       "       9.81884875e-01, 9.82292549e-01, 9.82490122e-01, 9.82572903e-01,\n",
       "       9.82616407e-01, 9.82632019e-01, 9.82795552e-01, 9.83023212e-01,\n",
       "       9.83206654e-01, 9.83295792e-01, 9.83477149e-01, 9.83547226e-01,\n",
       "       9.83733390e-01, 9.83739059e-01, 9.83991305e-01, 9.84804510e-01,\n",
       "       9.84859869e-01, 9.85349468e-01, 9.85554068e-01, 9.85631931e-01,\n",
       "       9.85848334e-01, 9.86213175e-01, 9.86544977e-01, 9.87151282e-01,\n",
       "       9.87569923e-01, 9.87619172e-01, 9.87785133e-01, 9.88245805e-01,\n",
       "       9.88502530e-01, 9.88961159e-01, 9.89356523e-01, 9.89488235e-01,\n",
       "       9.90297295e-01, 9.90951323e-01, 9.91092703e-01, 9.91548271e-01,\n",
       "       9.91943531e-01, 9.93349161e-01, 9.93890924e-01, 9.93980852e-01,\n",
       "       9.94834096e-01, 9.95533364e-01, 9.95539321e-01, 9.95605020e-01,\n",
       "       9.95789643e-01, 9.96093889e-01, 9.96174312e-01, 9.96365094e-01,\n",
       "       9.96755491e-01, 9.97185614e-01, 9.97292727e-01, 9.97376330e-01,\n",
       "       9.97550671e-01, 9.97567353e-01, 9.97786593e-01, 9.97806161e-01,\n",
       "       9.97883000e-01])"
      ]
     },
     "execution_count": 42,
     "metadata": {},
     "output_type": "execute_result"
    }
   ],
   "source": [
    "_"
   ]
  },
  {
   "cell_type": "code",
   "execution_count": 43,
   "metadata": {},
   "outputs": [
    {
     "data": {
      "image/png": "[encoded data removed]",
      "text/plain": [
       "<Figure size 432x288 with 1 Axes>"
      ]
     },
     "metadata": {
      "needs_background": "light"
     },
     "output_type": "display_data"
    }
   ],
   "source": [
    "plot_precision_recall_curve(precisions, recalls)"
   ]
  },
  {
   "cell_type": "code",
   "execution_count": 44,
   "metadata": {},
   "outputs": [
    {
     "data": {
      "text/plain": [
       "0.8380040554655792"
      ]
     },
     "execution_count": 44,
     "metadata": {},
     "output_type": "execute_result"
    }
   ],
   "source": [
    "fpr, tpr, _ = roc_curve(Y_test, clf_gs.predict_proba(X_test)[:,1])\n",
    "auc(fpr, tpr)"
   ]
  },
  {
   "cell_type": "code",
   "execution_count": 45,
   "metadata": {},
   "outputs": [],
   "source": [
    "def plot_roc_curve(fpr, tpr, model, color=None) :\n",
    "    model = model + ' (auc = %0.3f)' % auc(fpr, tpr)\n",
    "    plt.plot(fpr, tpr, label=model, color=color)\n",
    "    plt.plot([0, 1], [0, 1], color='navy', linestyle='--')\n",
    "    plt.axis([0,1,0,1])\n",
    "    plt.xlabel('FPR (1 - specificity)')\n",
    "    plt.ylabel('TPR (recall)')\n",
    "    plt.title('ROC curve')\n",
    "    plt.legend(loc=\"lower right\")"
   ]
  },
  {
   "cell_type": "code",
   "execution_count": 46,
   "metadata": {},
   "outputs": [
    {
     "data": {
      "image/png": "[encoded data removed]",
      "text/plain": [
       "<Figure size 432x288 with 1 Axes>"
      ]
     },
     "metadata": {
      "needs_background": "light"
     },
     "output_type": "display_data"
    }
   ],
   "source": [
    "fpr_dummy, tpr_dummy, _ = roc_curve(Y_test, \n",
    "                                    dummy.predict_proba(X_test)[:,1])\n",
    "plot_roc_curve(fpr_dummy, tpr_dummy, 'dummy model', 'hotpink')\n",
    "fpr_tree, tpr_tree, _ = roc_curve(Y_test, \n",
    "                                  clf_gs.predict_proba(X_test)[:,1])\n",
    "plot_roc_curve(fpr_tree, tpr_tree, 'light GBM', 'darkgreen')"
   ]
  },
  {
   "cell_type": "code",
   "execution_count": 47,
   "metadata": {},
   "outputs": [],
   "source": [
    "human_new = pd.read_csv(\"work/human_new.csv\", encoding=\"cp949\")\n",
    "s1=human_new['자본 이득']\n",
    "s2=human_new['자본 손실']\n",
    "s=s1+s2\n",
    "s.rename(\"순이익\",inplace=True)\n",
    "human_new = pd.concat([human_new,s],axis=1)"
   ]
  },
  {
   "cell_type": "code",
   "execution_count": 48,
   "metadata": {},
   "outputs": [],
   "source": [
    "human_new['나이대'] = (human_new['나이']/10).astype(int)\n",
    "human_new['주당 시간별'] = (human_new['주당 시간']/10).astype(int)\n",
    "human_new['fnlwgt2'] = (human_new['fnlwgt']/10000).astype(int)"
   ]
  },
  {
   "cell_type": "code",
   "execution_count": 49,
   "metadata": {},
   "outputs": [],
   "source": [
    "# working_class = pd.get_dummies(human_new[\"노동 계급\"])\n",
    "# human_new = pd.concat([human_new, working_class], axis=1)\n",
    "# human_new.drop(\"노동 계급\", axis=1, inplace=True)\n",
    "\n",
    "human_new[[\"노동 계급\"]] = human_new[[\"노동 계급\"]].apply(lambda x: x.str.lstrip())\n",
    "human_new[[\"노동 계급\"]] = human_new[[\"노동 계급\"]].apply(lambda x: x.astype('category').cat.codes)"
   ]
  },
  {
   "cell_type": "code",
   "execution_count": 50,
   "metadata": {},
   "outputs": [],
   "source": [
    "# academic_ability = pd.get_dummies(human_new[\"학력\"])\n",
    "# human_new = pd.concat([human_new,academic_ability],axis=1)\n",
    "# human_new.drop(\"학력\",axis=1,inplace=True)\n",
    "\n",
    "human_new[[\"학력\"]] = human_new[[\"학력\"]].apply(lambda x: x.str.lstrip())\n",
    "human_new[[\"학력\"]] = human_new[[\"학력\"]].apply(lambda x: x.astype('category').cat.codes)"
   ]
  },
  {
   "cell_type": "code",
   "execution_count": 51,
   "metadata": {},
   "outputs": [],
   "source": [
    "# marital_status = pd.get_dummies(human_new[\"혼인 상태\"])\n",
    "# human_new = pd.concat([human_new,marital_status], axis=1)\n",
    "# human_new.drop(\"혼인 상태\", axis=1, inplace=True)\n",
    "\n",
    "human_new[[\"혼인 상태\"]] = human_new[[\"혼인 상태\"]].apply(lambda x: x.str.lstrip())\n",
    "human_new[[\"혼인 상태\"]] = human_new[[\"혼인 상태\"]].apply(lambda x: x.astype('category').cat.codes)"
   ]
  },
  {
   "cell_type": "code",
   "execution_count": 52,
   "metadata": {},
   "outputs": [],
   "source": [
    "# jobs = pd.get_dummies(human_new[\"직업\"])\n",
    "# human_new = pd.concat([human_new, jobs], axis=1)\n",
    "# human_new.drop(\"직업\", axis=1, inplace=True)\n",
    "\n",
    "human_new[[\"직업\"]] = human_new[[\"직업\"]].apply(lambda x: x.str.lstrip())\n",
    "human_new[[\"직업\"]] = human_new[[\"직업\"]].apply(lambda x: x.astype('category').cat.codes)"
   ]
  },
  {
   "cell_type": "code",
   "execution_count": 53,
   "metadata": {},
   "outputs": [],
   "source": [
    "# relationship = pd.get_dummies(human_new[\"관계\"])\n",
    "# human_new = pd.concat([human_new, relationship], axis=1)\n",
    "# human_new.drop(\"관계\", axis=1, inplace=True)\n",
    "\n",
    "human_new[[\"관계\"]] = human_new[[\"관계\"]].apply(lambda x: x.str.lstrip())\n",
    "human_new[[\"관계\"]] = human_new[[\"관계\"]].apply(lambda x: x.astype('category').cat.codes)"
   ]
  },
  {
   "cell_type": "code",
   "execution_count": 54,
   "metadata": {},
   "outputs": [],
   "source": [
    "# race = pd.get_dummies(human_new[\"인종\"])\n",
    "# human_new = pd.concat([human_new, race], axis=1)\n",
    "# human_new.drop(\"인종\", axis=1, inplace=True)\n",
    "\n",
    "human_new[[\"인종\"]] = human_new[[\"인종\"]].apply(lambda x: x.str.lstrip())\n",
    "human_new[[\"인종\"]] = human_new[[\"인종\"]].apply(lambda x: x.astype('category').cat.codes)"
   ]
  },
  {
   "cell_type": "code",
   "execution_count": 55,
   "metadata": {},
   "outputs": [],
   "source": [
    "# homeland = pd.get_dummies(human_new[\"모국\"])\n",
    "# human_new = pd.concat([human_new, homeland], axis=1)\n",
    "# human_new.drop(\"모국\", axis=1, inplace=True)\n",
    "# human_new[\"Holand-Netherlands\"]=human_new[\" Yugoslavia\"]\n",
    "# human_new.loc[:,[\"Holand-Netherlands\"]]=0\n",
    "\n",
    "human_new[[\"모국\"]] = human_new[[\"모국\"]].apply(lambda x: x.str.lstrip())\n",
    "human_new[[\"모국\"]] = human_new[[\"모국\"]].apply(lambda x: x.astype('category').cat.codes)"
   ]
  },
  {
   "cell_type": "code",
   "execution_count": 56,
   "metadata": {},
   "outputs": [],
   "source": [
    "human_new.drop([\"자본 이득\",\"자본 손실\",\"순이익\"],axis=1,inplace=True)"
   ]
  },
  {
   "cell_type": "code",
   "execution_count": 57,
   "metadata": {},
   "outputs": [
    {
     "name": "stdout",
     "output_type": "stream",
     "text": [
      "<class 'pandas.core.frame.DataFrame'>\n",
      "RangeIndex: 16281 entries, 0 to 16280\n",
      "Data columns (total 15 columns):\n",
      " #   Column   Non-Null Count  Dtype \n",
      "---  ------   --------------  ----- \n",
      " 0   아이디      16281 non-null  object\n",
      " 1   나이       16281 non-null  int64 \n",
      " 2   노동 계급    16281 non-null  int8  \n",
      " 3   fnlwgt   16281 non-null  int64 \n",
      " 4   학력       16281 non-null  int8  \n",
      " 5   교육 수     16281 non-null  int64 \n",
      " 6   혼인 상태    16281 non-null  int8  \n",
      " 7   직업       16281 non-null  int8  \n",
      " 8   관계       16281 non-null  int8  \n",
      " 9   인종       16281 non-null  int8  \n",
      " 10  주당 시간    16281 non-null  int64 \n",
      " 11  모국       16281 non-null  int8  \n",
      " 12  나이대      16281 non-null  int32 \n",
      " 13  주당 시간별   16281 non-null  int32 \n",
      " 14  fnlwgt2  16281 non-null  int32 \n",
      "dtypes: int32(3), int64(4), int8(7), object(1)\n",
      "memory usage: 938.2+ KB\n"
     ]
    }
   ],
   "source": [
    "human_new.info()"
   ]
  },
  {
   "cell_type": "code",
   "execution_count": 58,
   "metadata": {},
   "outputs": [
    {
     "data": {
      "text/html": [
       "<div>\n",
       "<style scoped>\n",
       "    .dataframe tbody tr th:only-of-type {\n",
       "        vertical-align: middle;\n",
       "    }\n",
       "\n",
       "    .dataframe tbody tr th {\n",
       "        vertical-align: top;\n",
       "    }\n",
       "\n",
       "    .dataframe thead th {\n",
       "        text-align: right;\n",
       "    }\n",
       "</style>\n",
       "<table border=\"1\" class=\"dataframe\">\n",
       "  <thead>\n",
       "    <tr style=\"text-align: right;\">\n",
       "      <th></th>\n",
       "      <th>아이디</th>\n",
       "      <th>나이</th>\n",
       "      <th>노동 계급</th>\n",
       "      <th>fnlwgt</th>\n",
       "      <th>학력</th>\n",
       "      <th>교육 수</th>\n",
       "      <th>혼인 상태</th>\n",
       "      <th>직업</th>\n",
       "      <th>관계</th>\n",
       "      <th>인종</th>\n",
       "      <th>주당 시간</th>\n",
       "      <th>모국</th>\n",
       "      <th>나이대</th>\n",
       "      <th>주당 시간별</th>\n",
       "      <th>fnlwgt2</th>\n",
       "    </tr>\n",
       "  </thead>\n",
       "  <tbody>\n",
       "    <tr>\n",
       "      <th>0</th>\n",
       "      <td>H00001</td>\n",
       "      <td>25</td>\n",
       "      <td>3</td>\n",
       "      <td>226802</td>\n",
       "      <td>1</td>\n",
       "      <td>7</td>\n",
       "      <td>4</td>\n",
       "      <td>6</td>\n",
       "      <td>3</td>\n",
       "      <td>2</td>\n",
       "      <td>40</td>\n",
       "      <td>37</td>\n",
       "      <td>2</td>\n",
       "      <td>4</td>\n",
       "      <td>22</td>\n",
       "    </tr>\n",
       "    <tr>\n",
       "      <th>1</th>\n",
       "      <td>H00002</td>\n",
       "      <td>38</td>\n",
       "      <td>3</td>\n",
       "      <td>89814</td>\n",
       "      <td>11</td>\n",
       "      <td>9</td>\n",
       "      <td>2</td>\n",
       "      <td>4</td>\n",
       "      <td>0</td>\n",
       "      <td>4</td>\n",
       "      <td>50</td>\n",
       "      <td>37</td>\n",
       "      <td>3</td>\n",
       "      <td>5</td>\n",
       "      <td>8</td>\n",
       "    </tr>\n",
       "    <tr>\n",
       "      <th>2</th>\n",
       "      <td>H00003</td>\n",
       "      <td>28</td>\n",
       "      <td>1</td>\n",
       "      <td>336951</td>\n",
       "      <td>7</td>\n",
       "      <td>12</td>\n",
       "      <td>2</td>\n",
       "      <td>10</td>\n",
       "      <td>0</td>\n",
       "      <td>4</td>\n",
       "      <td>40</td>\n",
       "      <td>37</td>\n",
       "      <td>2</td>\n",
       "      <td>4</td>\n",
       "      <td>33</td>\n",
       "    </tr>\n",
       "    <tr>\n",
       "      <th>3</th>\n",
       "      <td>H00004</td>\n",
       "      <td>44</td>\n",
       "      <td>3</td>\n",
       "      <td>160323</td>\n",
       "      <td>15</td>\n",
       "      <td>10</td>\n",
       "      <td>2</td>\n",
       "      <td>6</td>\n",
       "      <td>0</td>\n",
       "      <td>2</td>\n",
       "      <td>40</td>\n",
       "      <td>37</td>\n",
       "      <td>4</td>\n",
       "      <td>4</td>\n",
       "      <td>16</td>\n",
       "    </tr>\n",
       "    <tr>\n",
       "      <th>4</th>\n",
       "      <td>H00005</td>\n",
       "      <td>18</td>\n",
       "      <td>-1</td>\n",
       "      <td>103497</td>\n",
       "      <td>15</td>\n",
       "      <td>10</td>\n",
       "      <td>4</td>\n",
       "      <td>-1</td>\n",
       "      <td>3</td>\n",
       "      <td>4</td>\n",
       "      <td>30</td>\n",
       "      <td>37</td>\n",
       "      <td>1</td>\n",
       "      <td>3</td>\n",
       "      <td>10</td>\n",
       "    </tr>\n",
       "  </tbody>\n",
       "</table>\n",
       "</div>"
      ],
      "text/plain": [
       "      아이디  나이  노동 계급  fnlwgt  학력  교육 수  혼인 상태  직업  관계  인종  주당 시간  모국  나이대  \\\n",
       "0  H00001  25      3  226802   1     7      4   6   3   2     40  37    2   \n",
       "1  H00002  38      3   89814  11     9      2   4   0   4     50  37    3   \n",
       "2  H00003  28      1  336951   7    12      2  10   0   4     40  37    2   \n",
       "3  H00004  44      3  160323  15    10      2   6   0   2     40  37    4   \n",
       "4  H00005  18     -1  103497  15    10      4  -1   3   4     30  37    1   \n",
       "\n",
       "   주당 시간별  fnlwgt2  \n",
       "0       4       22  \n",
       "1       5        8  \n",
       "2       4       33  \n",
       "3       4       16  \n",
       "4       3       10  "
      ]
     },
     "execution_count": 58,
     "metadata": {},
     "output_type": "execute_result"
    }
   ],
   "source": [
    "ndf = human_new.copy()\n",
    "ndf.head()"
   ]
  },
  {
   "cell_type": "code",
   "execution_count": 59,
   "metadata": {},
   "outputs": [],
   "source": [
    "ndf['성별'] = clf_gs.predict(ndf.loc[:, '나이':'fnlwgt2'])"
   ]
  },
  {
   "cell_type": "code",
   "execution_count": 60,
   "metadata": {},
   "outputs": [
    {
     "data": {
      "text/plain": [
       "(16281, 16)"
      ]
     },
     "execution_count": 60,
     "metadata": {},
     "output_type": "execute_result"
    }
   ],
   "source": [
    "ndf.shape"
   ]
  },
  {
   "cell_type": "code",
   "execution_count": 61,
   "metadata": {},
   "outputs": [],
   "source": [
    "ndf_rename=ndf[['아이디','성별']]"
   ]
  },
  {
   "cell_type": "code",
   "execution_count": 62,
   "metadata": {},
   "outputs": [
    {
     "data": {
      "text/html": [
       "<div>\n",
       "<style scoped>\n",
       "    .dataframe tbody tr th:only-of-type {\n",
       "        vertical-align: middle;\n",
       "    }\n",
       "\n",
       "    .dataframe tbody tr th {\n",
       "        vertical-align: top;\n",
       "    }\n",
       "\n",
       "    .dataframe thead th {\n",
       "        text-align: right;\n",
       "    }\n",
       "</style>\n",
       "<table border=\"1\" class=\"dataframe\">\n",
       "  <thead>\n",
       "    <tr style=\"text-align: right;\">\n",
       "      <th></th>\n",
       "      <th>ID</th>\n",
       "      <th>SEX</th>\n",
       "    </tr>\n",
       "  </thead>\n",
       "  <tbody>\n",
       "    <tr>\n",
       "      <th>0</th>\n",
       "      <td>H00001</td>\n",
       "      <td>0</td>\n",
       "    </tr>\n",
       "    <tr>\n",
       "      <th>1</th>\n",
       "      <td>H00002</td>\n",
       "      <td>1</td>\n",
       "    </tr>\n",
       "    <tr>\n",
       "      <th>2</th>\n",
       "      <td>H00003</td>\n",
       "      <td>1</td>\n",
       "    </tr>\n",
       "    <tr>\n",
       "      <th>3</th>\n",
       "      <td>H00004</td>\n",
       "      <td>1</td>\n",
       "    </tr>\n",
       "    <tr>\n",
       "      <th>4</th>\n",
       "      <td>H00005</td>\n",
       "      <td>0</td>\n",
       "    </tr>\n",
       "  </tbody>\n",
       "</table>\n",
       "</div>"
      ],
      "text/plain": [
       "       ID  SEX\n",
       "0  H00001    0\n",
       "1  H00002    1\n",
       "2  H00003    1\n",
       "3  H00004    1\n",
       "4  H00005    0"
      ]
     },
     "execution_count": 62,
     "metadata": {},
     "output_type": "execute_result"
    }
   ],
   "source": [
    "ndf_rename = ndf_rename.rename(columns={'아이디':'ID', '성별':'SEX'})\n",
    "ndf_rename.head()"
   ]
  },
  {
   "cell_type": "code",
   "execution_count": 63,
   "metadata": {},
   "outputs": [],
   "source": [
    "ndf_rename.to_csv('submission_human.csv', encoding='cp949', index=False)"
   ]
  },
  {
   "cell_type": "code",
   "execution_count": 64,
   "metadata": {},
   "outputs": [
    {
     "data": {
      "text/plain": [
       "(16281, 2)"
      ]
     },
     "execution_count": 64,
     "metadata": {},
     "output_type": "execute_result"
    }
   ],
   "source": [
    "ndf_rename.shape"
   ]
  },
  {
   "cell_type": "code",
   "execution_count": 68,
   "metadata": {},
   "outputs": [
    {
     "data": {
      "text/html": [
       "<div>\n",
       "<style scoped>\n",
       "    .dataframe tbody tr th:only-of-type {\n",
       "        vertical-align: middle;\n",
       "    }\n",
       "\n",
       "    .dataframe tbody tr th {\n",
       "        vertical-align: top;\n",
       "    }\n",
       "\n",
       "    .dataframe thead th {\n",
       "        text-align: right;\n",
       "    }\n",
       "</style>\n",
       "<table border=\"1\" class=\"dataframe\">\n",
       "  <thead>\n",
       "    <tr style=\"text-align: right;\">\n",
       "      <th></th>\n",
       "      <th>나이</th>\n",
       "      <th>노동 계급</th>\n",
       "      <th>fnlwgt</th>\n",
       "      <th>학력</th>\n",
       "      <th>교육 수</th>\n",
       "      <th>혼인 상태</th>\n",
       "      <th>직업</th>\n",
       "      <th>관계</th>\n",
       "      <th>인종</th>\n",
       "      <th>성별</th>\n",
       "      <th>자본 이득</th>\n",
       "      <th>자본 손실</th>\n",
       "      <th>주당 시간</th>\n",
       "      <th>모국</th>\n",
       "      <th>순이익</th>\n",
       "      <th>나이대</th>\n",
       "      <th>주당 시간별</th>\n",
       "      <th>fnlwgt2</th>\n",
       "    </tr>\n",
       "  </thead>\n",
       "  <tbody>\n",
       "    <tr>\n",
       "      <th>나이</th>\n",
       "      <td>1.000000</td>\n",
       "      <td>0.003787</td>\n",
       "      <td>-0.076646</td>\n",
       "      <td>-0.010508</td>\n",
       "      <td>0.036527</td>\n",
       "      <td>-0.266288</td>\n",
       "      <td>-0.020947</td>\n",
       "      <td>-0.263698</td>\n",
       "      <td>0.028718</td>\n",
       "      <td>0.088832</td>\n",
       "      <td>0.077674</td>\n",
       "      <td>0.057775</td>\n",
       "      <td>0.068756</td>\n",
       "      <td>-0.001151</td>\n",
       "      <td>0.080846</td>\n",
       "      <td>0.977993</td>\n",
       "      <td>0.064680</td>\n",
       "      <td>-0.076616</td>\n",
       "    </tr>\n",
       "    <tr>\n",
       "      <th>노동 계급</th>\n",
       "      <td>0.003787</td>\n",
       "      <td>1.000000</td>\n",
       "      <td>-0.016656</td>\n",
       "      <td>0.023513</td>\n",
       "      <td>0.052085</td>\n",
       "      <td>-0.064731</td>\n",
       "      <td>0.254892</td>\n",
       "      <td>-0.090461</td>\n",
       "      <td>0.049742</td>\n",
       "      <td>0.095981</td>\n",
       "      <td>0.033835</td>\n",
       "      <td>0.012216</td>\n",
       "      <td>0.138962</td>\n",
       "      <td>-0.007690</td>\n",
       "      <td>0.034510</td>\n",
       "      <td>0.003189</td>\n",
       "      <td>0.132823</td>\n",
       "      <td>-0.016573</td>\n",
       "    </tr>\n",
       "    <tr>\n",
       "      <th>fnlwgt</th>\n",
       "      <td>-0.076646</td>\n",
       "      <td>-0.016656</td>\n",
       "      <td>1.000000</td>\n",
       "      <td>-0.028145</td>\n",
       "      <td>-0.043195</td>\n",
       "      <td>0.028153</td>\n",
       "      <td>0.001597</td>\n",
       "      <td>0.008931</td>\n",
       "      <td>-0.021291</td>\n",
       "      <td>0.026858</td>\n",
       "      <td>0.000432</td>\n",
       "      <td>-0.010252</td>\n",
       "      <td>-0.018768</td>\n",
       "      <td>-0.051966</td>\n",
       "      <td>-0.000128</td>\n",
       "      <td>-0.075656</td>\n",
       "      <td>-0.014272</td>\n",
       "      <td>0.999628</td>\n",
       "    </tr>\n",
       "    <tr>\n",
       "      <th>학력</th>\n",
       "      <td>-0.010508</td>\n",
       "      <td>0.023513</td>\n",
       "      <td>-0.028145</td>\n",
       "      <td>1.000000</td>\n",
       "      <td>0.359153</td>\n",
       "      <td>-0.038407</td>\n",
       "      <td>-0.021260</td>\n",
       "      <td>-0.010876</td>\n",
       "      <td>0.014131</td>\n",
       "      <td>-0.027356</td>\n",
       "      <td>0.030046</td>\n",
       "      <td>0.016746</td>\n",
       "      <td>0.055510</td>\n",
       "      <td>0.064288</td>\n",
       "      <td>0.030967</td>\n",
       "      <td>0.005547</td>\n",
       "      <td>0.053853</td>\n",
       "      <td>-0.028413</td>\n",
       "    </tr>\n",
       "    <tr>\n",
       "      <th>교육 수</th>\n",
       "      <td>0.036527</td>\n",
       "      <td>0.052085</td>\n",
       "      <td>-0.043195</td>\n",
       "      <td>0.359153</td>\n",
       "      <td>1.000000</td>\n",
       "      <td>-0.069304</td>\n",
       "      <td>0.109697</td>\n",
       "      <td>-0.094153</td>\n",
       "      <td>0.031838</td>\n",
       "      <td>0.012280</td>\n",
       "      <td>0.122630</td>\n",
       "      <td>0.079923</td>\n",
       "      <td>0.148123</td>\n",
       "      <td>0.050840</td>\n",
       "      <td>0.127021</td>\n",
       "      <td>0.039924</td>\n",
       "      <td>0.142033</td>\n",
       "      <td>-0.043218</td>\n",
       "    </tr>\n",
       "    <tr>\n",
       "      <th>혼인 상태</th>\n",
       "      <td>-0.266288</td>\n",
       "      <td>-0.064731</td>\n",
       "      <td>0.028153</td>\n",
       "      <td>-0.038407</td>\n",
       "      <td>-0.069304</td>\n",
       "      <td>1.000000</td>\n",
       "      <td>-0.009654</td>\n",
       "      <td>0.185451</td>\n",
       "      <td>-0.068013</td>\n",
       "      <td>-0.129314</td>\n",
       "      <td>-0.043393</td>\n",
       "      <td>-0.034187</td>\n",
       "      <td>-0.190519</td>\n",
       "      <td>-0.023819</td>\n",
       "      <td>-0.045270</td>\n",
       "      <td>-0.260127</td>\n",
       "      <td>-0.189112</td>\n",
       "      <td>0.028357</td>\n",
       "    </tr>\n",
       "    <tr>\n",
       "      <th>직업</th>\n",
       "      <td>-0.020947</td>\n",
       "      <td>0.254892</td>\n",
       "      <td>0.001597</td>\n",
       "      <td>-0.021260</td>\n",
       "      <td>0.109697</td>\n",
       "      <td>-0.009654</td>\n",
       "      <td>1.000000</td>\n",
       "      <td>-0.075607</td>\n",
       "      <td>0.006763</td>\n",
       "      <td>0.080296</td>\n",
       "      <td>0.025505</td>\n",
       "      <td>0.017987</td>\n",
       "      <td>0.080383</td>\n",
       "      <td>-0.012543</td>\n",
       "      <td>0.026492</td>\n",
       "      <td>-0.020454</td>\n",
       "      <td>0.073154</td>\n",
       "      <td>0.001402</td>\n",
       "    </tr>\n",
       "    <tr>\n",
       "      <th>관계</th>\n",
       "      <td>-0.263698</td>\n",
       "      <td>-0.090461</td>\n",
       "      <td>0.008931</td>\n",
       "      <td>-0.010876</td>\n",
       "      <td>-0.094153</td>\n",
       "      <td>0.185451</td>\n",
       "      <td>-0.075607</td>\n",
       "      <td>1.000000</td>\n",
       "      <td>-0.116055</td>\n",
       "      <td>-0.582454</td>\n",
       "      <td>-0.057919</td>\n",
       "      <td>-0.061062</td>\n",
       "      <td>-0.248974</td>\n",
       "      <td>-0.005507</td>\n",
       "      <td>-0.061266</td>\n",
       "      <td>-0.259224</td>\n",
       "      <td>-0.250568</td>\n",
       "      <td>0.008771</td>\n",
       "    </tr>\n",
       "    <tr>\n",
       "      <th>인종</th>\n",
       "      <td>0.028718</td>\n",
       "      <td>0.049742</td>\n",
       "      <td>-0.021291</td>\n",
       "      <td>0.014131</td>\n",
       "      <td>0.031838</td>\n",
       "      <td>-0.068013</td>\n",
       "      <td>0.006763</td>\n",
       "      <td>-0.116055</td>\n",
       "      <td>1.000000</td>\n",
       "      <td>0.087204</td>\n",
       "      <td>0.011145</td>\n",
       "      <td>0.018899</td>\n",
       "      <td>0.041910</td>\n",
       "      <td>0.137852</td>\n",
       "      <td>0.012179</td>\n",
       "      <td>0.026929</td>\n",
       "      <td>0.033926</td>\n",
       "      <td>-0.021480</td>\n",
       "    </tr>\n",
       "    <tr>\n",
       "      <th>성별</th>\n",
       "      <td>0.088832</td>\n",
       "      <td>0.095981</td>\n",
       "      <td>0.026858</td>\n",
       "      <td>-0.027356</td>\n",
       "      <td>0.012280</td>\n",
       "      <td>-0.129314</td>\n",
       "      <td>0.080296</td>\n",
       "      <td>-0.582454</td>\n",
       "      <td>0.087204</td>\n",
       "      <td>1.000000</td>\n",
       "      <td>0.048480</td>\n",
       "      <td>0.045567</td>\n",
       "      <td>0.229309</td>\n",
       "      <td>-0.008119</td>\n",
       "      <td>0.050978</td>\n",
       "      <td>0.087623</td>\n",
       "      <td>0.235689</td>\n",
       "      <td>0.026947</td>\n",
       "    </tr>\n",
       "    <tr>\n",
       "      <th>자본 이득</th>\n",
       "      <td>0.077674</td>\n",
       "      <td>0.033835</td>\n",
       "      <td>0.000432</td>\n",
       "      <td>0.030046</td>\n",
       "      <td>0.122630</td>\n",
       "      <td>-0.043393</td>\n",
       "      <td>0.025505</td>\n",
       "      <td>-0.057919</td>\n",
       "      <td>0.011145</td>\n",
       "      <td>0.048480</td>\n",
       "      <td>1.000000</td>\n",
       "      <td>-0.031615</td>\n",
       "      <td>0.078409</td>\n",
       "      <td>-0.001982</td>\n",
       "      <td>0.998511</td>\n",
       "      <td>0.075271</td>\n",
       "      <td>0.076646</td>\n",
       "      <td>0.000448</td>\n",
       "    </tr>\n",
       "    <tr>\n",
       "      <th>자본 손실</th>\n",
       "      <td>0.057775</td>\n",
       "      <td>0.012216</td>\n",
       "      <td>-0.010252</td>\n",
       "      <td>0.016746</td>\n",
       "      <td>0.079923</td>\n",
       "      <td>-0.034187</td>\n",
       "      <td>0.017987</td>\n",
       "      <td>-0.061062</td>\n",
       "      <td>0.018899</td>\n",
       "      <td>0.045567</td>\n",
       "      <td>-0.031615</td>\n",
       "      <td>1.000000</td>\n",
       "      <td>0.054256</td>\n",
       "      <td>0.000419</td>\n",
       "      <td>0.022953</td>\n",
       "      <td>0.057000</td>\n",
       "      <td>0.051378</td>\n",
       "      <td>-0.010243</td>\n",
       "    </tr>\n",
       "    <tr>\n",
       "      <th>주당 시간</th>\n",
       "      <td>0.068756</td>\n",
       "      <td>0.138962</td>\n",
       "      <td>-0.018768</td>\n",
       "      <td>0.055510</td>\n",
       "      <td>0.148123</td>\n",
       "      <td>-0.190519</td>\n",
       "      <td>0.080383</td>\n",
       "      <td>-0.248974</td>\n",
       "      <td>0.041910</td>\n",
       "      <td>0.229309</td>\n",
       "      <td>0.078409</td>\n",
       "      <td>0.054256</td>\n",
       "      <td>1.000000</td>\n",
       "      <td>-0.002671</td>\n",
       "      <td>0.081388</td>\n",
       "      <td>0.068722</td>\n",
       "      <td>0.979820</td>\n",
       "      <td>-0.018766</td>\n",
       "    </tr>\n",
       "    <tr>\n",
       "      <th>모국</th>\n",
       "      <td>-0.001151</td>\n",
       "      <td>-0.007690</td>\n",
       "      <td>-0.051966</td>\n",
       "      <td>0.064288</td>\n",
       "      <td>0.050840</td>\n",
       "      <td>-0.023819</td>\n",
       "      <td>-0.012543</td>\n",
       "      <td>-0.005507</td>\n",
       "      <td>0.137852</td>\n",
       "      <td>-0.008119</td>\n",
       "      <td>-0.001982</td>\n",
       "      <td>0.000419</td>\n",
       "      <td>-0.002671</td>\n",
       "      <td>1.000000</td>\n",
       "      <td>-0.001960</td>\n",
       "      <td>-0.001721</td>\n",
       "      <td>-0.005504</td>\n",
       "      <td>-0.051898</td>\n",
       "    </tr>\n",
       "    <tr>\n",
       "      <th>순이익</th>\n",
       "      <td>0.080846</td>\n",
       "      <td>0.034510</td>\n",
       "      <td>-0.000128</td>\n",
       "      <td>0.030967</td>\n",
       "      <td>0.127021</td>\n",
       "      <td>-0.045270</td>\n",
       "      <td>0.026492</td>\n",
       "      <td>-0.061266</td>\n",
       "      <td>0.012179</td>\n",
       "      <td>0.050978</td>\n",
       "      <td>0.998511</td>\n",
       "      <td>0.022953</td>\n",
       "      <td>0.081388</td>\n",
       "      <td>-0.001960</td>\n",
       "      <td>1.000000</td>\n",
       "      <td>0.078399</td>\n",
       "      <td>0.079468</td>\n",
       "      <td>-0.000110</td>\n",
       "    </tr>\n",
       "    <tr>\n",
       "      <th>나이대</th>\n",
       "      <td>0.977993</td>\n",
       "      <td>0.003189</td>\n",
       "      <td>-0.075656</td>\n",
       "      <td>0.005547</td>\n",
       "      <td>0.039924</td>\n",
       "      <td>-0.260127</td>\n",
       "      <td>-0.020454</td>\n",
       "      <td>-0.259224</td>\n",
       "      <td>0.026929</td>\n",
       "      <td>0.087623</td>\n",
       "      <td>0.075271</td>\n",
       "      <td>0.057000</td>\n",
       "      <td>0.068722</td>\n",
       "      <td>-0.001721</td>\n",
       "      <td>0.078399</td>\n",
       "      <td>1.000000</td>\n",
       "      <td>0.065202</td>\n",
       "      <td>-0.075611</td>\n",
       "    </tr>\n",
       "    <tr>\n",
       "      <th>주당 시간별</th>\n",
       "      <td>0.064680</td>\n",
       "      <td>0.132823</td>\n",
       "      <td>-0.014272</td>\n",
       "      <td>0.053853</td>\n",
       "      <td>0.142033</td>\n",
       "      <td>-0.189112</td>\n",
       "      <td>0.073154</td>\n",
       "      <td>-0.250568</td>\n",
       "      <td>0.033926</td>\n",
       "      <td>0.235689</td>\n",
       "      <td>0.076646</td>\n",
       "      <td>0.051378</td>\n",
       "      <td>0.979820</td>\n",
       "      <td>-0.005504</td>\n",
       "      <td>0.079468</td>\n",
       "      <td>0.065202</td>\n",
       "      <td>1.000000</td>\n",
       "      <td>-0.014251</td>\n",
       "    </tr>\n",
       "    <tr>\n",
       "      <th>fnlwgt2</th>\n",
       "      <td>-0.076616</td>\n",
       "      <td>-0.016573</td>\n",
       "      <td>0.999628</td>\n",
       "      <td>-0.028413</td>\n",
       "      <td>-0.043218</td>\n",
       "      <td>0.028357</td>\n",
       "      <td>0.001402</td>\n",
       "      <td>0.008771</td>\n",
       "      <td>-0.021480</td>\n",
       "      <td>0.026947</td>\n",
       "      <td>0.000448</td>\n",
       "      <td>-0.010243</td>\n",
       "      <td>-0.018766</td>\n",
       "      <td>-0.051898</td>\n",
       "      <td>-0.000110</td>\n",
       "      <td>-0.075611</td>\n",
       "      <td>-0.014251</td>\n",
       "      <td>1.000000</td>\n",
       "    </tr>\n",
       "  </tbody>\n",
       "</table>\n",
       "</div>"
      ],
      "text/plain": [
       "               나이     노동 계급    fnlwgt        학력      교육 수     혼인 상태        직업  \\\n",
       "나이       1.000000  0.003787 -0.076646 -0.010508  0.036527 -0.266288 -0.020947   \n",
       "노동 계급    0.003787  1.000000 -0.016656  0.023513  0.052085 -0.064731  0.254892   \n",
       "fnlwgt  -0.076646 -0.016656  1.000000 -0.028145 -0.043195  0.028153  0.001597   \n",
       "학력      -0.010508  0.023513 -0.028145  1.000000  0.359153 -0.038407 -0.021260   \n",
       "교육 수     0.036527  0.052085 -0.043195  0.359153  1.000000 -0.069304  0.109697   \n",
       "혼인 상태   -0.266288 -0.064731  0.028153 -0.038407 -0.069304  1.000000 -0.009654   \n",
       "직업      -0.020947  0.254892  0.001597 -0.021260  0.109697 -0.009654  1.000000   \n",
       "관계      -0.263698 -0.090461  0.008931 -0.010876 -0.094153  0.185451 -0.075607   \n",
       "인종       0.028718  0.049742 -0.021291  0.014131  0.031838 -0.068013  0.006763   \n",
       "성별       0.088832  0.095981  0.026858 -0.027356  0.012280 -0.129314  0.080296   \n",
       "자본 이득    0.077674  0.033835  0.000432  0.030046  0.122630 -0.043393  0.025505   \n",
       "자본 손실    0.057775  0.012216 -0.010252  0.016746  0.079923 -0.034187  0.017987   \n",
       "주당 시간    0.068756  0.138962 -0.018768  0.055510  0.148123 -0.190519  0.080383   \n",
       "모국      -0.001151 -0.007690 -0.051966  0.064288  0.050840 -0.023819 -0.012543   \n",
       "순이익      0.080846  0.034510 -0.000128  0.030967  0.127021 -0.045270  0.026492   \n",
       "나이대      0.977993  0.003189 -0.075656  0.005547  0.039924 -0.260127 -0.020454   \n",
       "주당 시간별   0.064680  0.132823 -0.014272  0.053853  0.142033 -0.189112  0.073154   \n",
       "fnlwgt2 -0.076616 -0.016573  0.999628 -0.028413 -0.043218  0.028357  0.001402   \n",
       "\n",
       "               관계        인종        성별     자본 이득     자본 손실     주당 시간        모국  \\\n",
       "나이      -0.263698  0.028718  0.088832  0.077674  0.057775  0.068756 -0.001151   \n",
       "노동 계급   -0.090461  0.049742  0.095981  0.033835  0.012216  0.138962 -0.007690   \n",
       "fnlwgt   0.008931 -0.021291  0.026858  0.000432 -0.010252 -0.018768 -0.051966   \n",
       "학력      -0.010876  0.014131 -0.027356  0.030046  0.016746  0.055510  0.064288   \n",
       "교육 수    -0.094153  0.031838  0.012280  0.122630  0.079923  0.148123  0.050840   \n",
       "혼인 상태    0.185451 -0.068013 -0.129314 -0.043393 -0.034187 -0.190519 -0.023819   \n",
       "직업      -0.075607  0.006763  0.080296  0.025505  0.017987  0.080383 -0.012543   \n",
       "관계       1.000000 -0.116055 -0.582454 -0.057919 -0.061062 -0.248974 -0.005507   \n",
       "인종      -0.116055  1.000000  0.087204  0.011145  0.018899  0.041910  0.137852   \n",
       "성별      -0.582454  0.087204  1.000000  0.048480  0.045567  0.229309 -0.008119   \n",
       "자본 이득   -0.057919  0.011145  0.048480  1.000000 -0.031615  0.078409 -0.001982   \n",
       "자본 손실   -0.061062  0.018899  0.045567 -0.031615  1.000000  0.054256  0.000419   \n",
       "주당 시간   -0.248974  0.041910  0.229309  0.078409  0.054256  1.000000 -0.002671   \n",
       "모국      -0.005507  0.137852 -0.008119 -0.001982  0.000419 -0.002671  1.000000   \n",
       "순이익     -0.061266  0.012179  0.050978  0.998511  0.022953  0.081388 -0.001960   \n",
       "나이대     -0.259224  0.026929  0.087623  0.075271  0.057000  0.068722 -0.001721   \n",
       "주당 시간별  -0.250568  0.033926  0.235689  0.076646  0.051378  0.979820 -0.005504   \n",
       "fnlwgt2  0.008771 -0.021480  0.026947  0.000448 -0.010243 -0.018766 -0.051898   \n",
       "\n",
       "              순이익       나이대    주당 시간별   fnlwgt2  \n",
       "나이       0.080846  0.977993  0.064680 -0.076616  \n",
       "노동 계급    0.034510  0.003189  0.132823 -0.016573  \n",
       "fnlwgt  -0.000128 -0.075656 -0.014272  0.999628  \n",
       "학력       0.030967  0.005547  0.053853 -0.028413  \n",
       "교육 수     0.127021  0.039924  0.142033 -0.043218  \n",
       "혼인 상태   -0.045270 -0.260127 -0.189112  0.028357  \n",
       "직업       0.026492 -0.020454  0.073154  0.001402  \n",
       "관계      -0.061266 -0.259224 -0.250568  0.008771  \n",
       "인종       0.012179  0.026929  0.033926 -0.021480  \n",
       "성별       0.050978  0.087623  0.235689  0.026947  \n",
       "자본 이득    0.998511  0.075271  0.076646  0.000448  \n",
       "자본 손실    0.022953  0.057000  0.051378 -0.010243  \n",
       "주당 시간    0.081388  0.068722  0.979820 -0.018766  \n",
       "모국      -0.001960 -0.001721 -0.005504 -0.051898  \n",
       "순이익      1.000000  0.078399  0.079468 -0.000110  \n",
       "나이대      0.078399  1.000000  0.065202 -0.075611  \n",
       "주당 시간별   0.079468  0.065202  1.000000 -0.014251  \n",
       "fnlwgt2 -0.000110 -0.075611 -0.014251  1.000000  "
      ]
     },
     "execution_count": 68,
     "metadata": {},
     "output_type": "execute_result"
    }
   ],
   "source": [
    "human_train.corr()"
   ]
  },
  {
   "cell_type": "code",
   "execution_count": 101,
   "metadata": {},
   "outputs": [],
   "source": [
    "a=human_train.corr().성별.sort_values(ascending=False)"
   ]
  },
  {
   "cell_type": "code",
   "execution_count": 54,
   "metadata": {},
   "outputs": [],
   "source": [
    "human_train['나이'] = (human_train['나이']/10).astype(int)"
   ]
  },
  {
   "cell_type": "code",
   "execution_count": 102,
   "metadata": {},
   "outputs": [],
   "source": [
    "a=pd.DataFrame({\"수치\":a})"
   ]
  },
  {
   "cell_type": "code",
   "execution_count": 114,
   "metadata": {},
   "outputs": [
    {
     "name": "stdout",
     "output_type": "stream",
     "text": [
      "<class 'pandas.core.frame.DataFrame'>\n",
      "Index: 115 entries, 성별 to 관계\n",
      "Data columns (total 1 columns):\n",
      " #   Column  Non-Null Count  Dtype  \n",
      "---  ------  --------------  -----  \n",
      " 0   수치      115 non-null    float64\n",
      "dtypes: float64(1)\n",
      "memory usage: 1.8+ KB\n"
     ]
    }
   ],
   "source": [
    "a.info()"
   ]
  },
  {
   "cell_type": "code",
   "execution_count": 113,
   "metadata": {},
   "outputs": [
    {
     "name": "stdout",
     "output_type": "stream",
     "text": [
      "0.5801352648003859\n",
      "0.43180545811342946\n",
      "0.23568946222608525\n",
      "0.2293091490264182\n",
      "0.22312817750275654\n",
      "0.13246788820685695\n",
      "0.10745142628229438\n",
      "0.10348624694398598\n",
      "0.10009723650965793\n",
      "0.09598083475032537\n",
      "0.09402582601874208\n",
      "0.08883173120974484\n",
      "0.08762274910394074\n",
      "0.08720430156363829\n",
      "0.08401528263720216\n",
      "0.08029644294812227\n",
      "0.06476990040727498\n",
      "0.05097797284054917\n",
      "0.048793147111447305\n",
      "0.048479646868691675\n",
      "0.045567354678684426\n",
      "0.036729116751779145\n",
      "0.03129314968865496\n",
      "0.03050199157934993\n",
      "0.02952536095137569\n",
      "0.026947031230594526\n",
      "0.0268580452698733\n",
      "0.026836574562376734\n",
      "0.026046443254430143\n",
      "0.02513316234783888\n",
      "0.016968752680404178\n",
      "0.013630536608212467\n",
      "0.012280054339657419\n",
      "0.011690465756782295\n",
      "0.011684471462180306\n",
      "0.011187318018610967\n",
      "0.010050485108158796\n",
      "0.00990169337152947\n",
      "0.008879534658810688\n",
      "0.008722291556379977\n",
      "0.00675287184158819\n",
      "0.005333360649173363\n",
      "0.005187288259542612\n",
      "0.0043446299626606006\n",
      "0.0030875206952258472\n",
      "0.0022586236466299306\n",
      "0.0017255605790154084\n",
      "0.0016226092120311902\n",
      "0.0014368990593077438\n",
      "0.0014049924901696968\n",
      "0.0012901618687111392\n",
      "0.0011008109393690307\n",
      "0.0009889120331748695\n",
      "0.0007625168393771189\n",
      "0.0005839952479669175\n",
      "0.0004638276699745275\n",
      "7.358743502835901e-05\n",
      "-0.0004364871276632203\n",
      "-0.0008558628553619476\n",
      "-0.0011614567414469808\n",
      "-0.0012053332437295431\n",
      "-0.0015218328318161534\n",
      "-0.002770661882305001\n",
      "-0.003504412982825123\n",
      "-0.004662808988473023\n",
      "-0.005266904725930219\n",
      "-0.005553569862249591\n",
      "-0.0056809080500611646\n",
      "-0.0062994258537964025\n",
      "-0.006880829665521661\n",
      "-0.0069932291541570475\n",
      "-0.007458716413127749\n",
      "-0.00788239880732494\n",
      "-0.007927075264000587\n",
      "-0.008118721130051734\n",
      "-0.008821007266885767\n",
      "-0.00967521747609973\n",
      "-0.010377071605479515\n",
      "-0.010820302987526256\n",
      "-0.011503718466704838\n",
      "-0.012744273132488685\n",
      "-0.013871570002567253\n",
      "-0.01390620463457857\n",
      "-0.014011911518821791\n",
      "-0.014804974756951786\n",
      "-0.015160274556498739\n",
      "-0.015703625529663527\n",
      "-0.01579123839188968\n",
      "-0.016092411324585405\n",
      "-0.016692563625172036\n",
      "-0.019895001534771646\n",
      "-0.02123522670889752\n",
      "-0.024947309189829455\n",
      "-0.02735623812478498\n",
      "-0.028511252013998584\n",
      "-0.03469922140000381\n",
      "-0.03796622740249425\n",
      "-0.03869164444350576\n",
      "-0.040282298953930304\n",
      "-0.06172150065290025\n",
      "-0.08869914085859852\n",
      "-0.10236883084144327\n",
      "-0.10913472805835225\n",
      "-0.11560448927241114\n",
      "-0.1293144674138526\n",
      "-0.15367728949869308\n",
      "-0.16887880592474305\n",
      "-0.1714339459788558\n",
      "-0.18848665862329125\n",
      "-0.22862112530320006\n",
      "-0.2631477628435698\n",
      "-0.31931054800352593\n",
      "-0.3212732037334771\n",
      "-0.5824536900499023\n"
     ]
    }
   ],
   "source": [
    "for i,v in enumerate(a['수치']):\n",
    "    if ((v>-1.0) and (v<1.0)) :\n",
    "        print(v)"
   ]
  },
  {
   "cell_type": "code",
   "execution_count": 103,
   "metadata": {},
   "outputs": [
    {
     "data": {
      "text/html": [
       "<div>\n",
       "<style scoped>\n",
       "    .dataframe tbody tr th:only-of-type {\n",
       "        vertical-align: middle;\n",
       "    }\n",
       "\n",
       "    .dataframe tbody tr th {\n",
       "        vertical-align: top;\n",
       "    }\n",
       "\n",
       "    .dataframe thead th {\n",
       "        text-align: right;\n",
       "    }\n",
       "</style>\n",
       "<table border=\"1\" class=\"dataframe\">\n",
       "  <thead>\n",
       "    <tr style=\"text-align: right;\">\n",
       "      <th></th>\n",
       "      <th>수치</th>\n",
       "    </tr>\n",
       "  </thead>\n",
       "  <tbody>\n",
       "    <tr>\n",
       "      <th>성별</th>\n",
       "      <td>1.000000</td>\n",
       "    </tr>\n",
       "    <tr>\n",
       "      <th>Husband</th>\n",
       "      <td>0.580135</td>\n",
       "    </tr>\n",
       "    <tr>\n",
       "      <th>Married-civ-spouse</th>\n",
       "      <td>0.431805</td>\n",
       "    </tr>\n",
       "    <tr>\n",
       "      <th>주당 시간별</th>\n",
       "      <td>0.235689</td>\n",
       "    </tr>\n",
       "    <tr>\n",
       "      <th>주당 시간</th>\n",
       "      <td>0.229309</td>\n",
       "    </tr>\n",
       "    <tr>\n",
       "      <th>...</th>\n",
       "      <td>...</td>\n",
       "    </tr>\n",
       "    <tr>\n",
       "      <th>Divorced</th>\n",
       "      <td>-0.228621</td>\n",
       "    </tr>\n",
       "    <tr>\n",
       "      <th>Adm-clerical</th>\n",
       "      <td>-0.263148</td>\n",
       "    </tr>\n",
       "    <tr>\n",
       "      <th>Wife</th>\n",
       "      <td>-0.319311</td>\n",
       "    </tr>\n",
       "    <tr>\n",
       "      <th>Unmarried</th>\n",
       "      <td>-0.321273</td>\n",
       "    </tr>\n",
       "    <tr>\n",
       "      <th>관계</th>\n",
       "      <td>-0.582454</td>\n",
       "    </tr>\n",
       "  </tbody>\n",
       "</table>\n",
       "<p>115 rows × 1 columns</p>\n",
       "</div>"
      ],
      "text/plain": [
       "                           수치\n",
       "성별                   1.000000\n",
       " Husband             0.580135\n",
       " Married-civ-spouse  0.431805\n",
       "주당 시간별               0.235689\n",
       "주당 시간                0.229309\n",
       "...                       ...\n",
       " Divorced           -0.228621\n",
       " Adm-clerical       -0.263148\n",
       " Wife               -0.319311\n",
       " Unmarried          -0.321273\n",
       "관계                  -0.582454\n",
       "\n",
       "[115 rows x 1 columns]"
      ]
     },
     "execution_count": 103,
     "metadata": {},
     "output_type": "execute_result"
    }
   ],
   "source": []
  },
  {
   "cell_type": "code",
   "execution_count": 100,
   "metadata": {},
   "outputs": [
    {
     "name": "stdout",
     "output_type": "stream",
     "text": [
      "1\n"
     ]
    }
   ],
   "source": [
    "for i,v in enumerate(a[['1']]):\n",
    "    #if (v<1) and (v>-1) :\n",
    "        print(v)"
   ]
  },
  {
   "cell_type": "code",
   "execution_count": null,
   "metadata": {},
   "outputs": [],
   "source": []
  },
  {
   "cell_type": "code",
   "execution_count": 56,
   "metadata": {},
   "outputs": [
    {
     "data": {
      "text/plain": [
       "3    8613\n",
       "2    8054\n",
       "4    7175\n",
       "5    4418\n",
       "6    2015\n",
       "1    1657\n",
       "7     508\n",
       "8      78\n",
       "9      43\n",
       "Name: 나이, dtype: int64"
      ]
     },
     "execution_count": 56,
     "metadata": {},
     "output_type": "execute_result"
    }
   ],
   "source": [
    "human_train['나이'].value_counts()"
   ]
  },
  {
   "cell_type": "code",
   "execution_count": 53,
   "metadata": {},
   "outputs": [
    {
     "data": {
      "text/plain": [
       "3    8613\n",
       "2    8054\n",
       "4    7175\n",
       "5    4418\n",
       "6    2015\n",
       "1    1657\n",
       "7     508\n",
       "8      78\n",
       "9      43\n",
       "Name: 나이, dtype: int64"
      ]
     },
     "execution_count": 53,
     "metadata": {},
     "output_type": "execute_result"
    }
   ],
   "source": [
    "a.value_counts()"
   ]
  },
  {
   "cell_type": "code",
   "execution_count": 4,
   "metadata": {},
   "outputs": [
    {
     "data": {
      "text/plain": [
       "count    32561.000000\n",
       "mean        38.581647\n",
       "std         13.640433\n",
       "min         17.000000\n",
       "25%         28.000000\n",
       "50%         37.000000\n",
       "75%         48.000000\n",
       "max         90.000000\n",
       "Name: 나이, dtype: float64"
      ]
     },
     "execution_count": 4,
     "metadata": {},
     "output_type": "execute_result"
    }
   ],
   "source": [
    "human_train['나이'].describe()"
   ]
  },
  {
   "cell_type": "code",
   "execution_count": 66,
   "metadata": {},
   "outputs": [
    {
     "data": {
      "text/plain": [
       "18     1852\n",
       "19     1815\n",
       "17     1758\n",
       "16     1537\n",
       "20     1483\n",
       "       ... \n",
       "116       1\n",
       "148       1\n",
       "88        1\n",
       "118       1\n",
       "95        1\n",
       "Name: fnlwgt, Length: 99, dtype: int64"
      ]
     },
     "execution_count": 66,
     "metadata": {},
     "output_type": "execute_result"
    }
   ],
   "source": [
    "human_train['fnlwgt'].value_counts()"
   ]
  },
  {
   "cell_type": "code",
   "execution_count": 6,
   "metadata": {},
   "outputs": [
    {
     "data": {
      "text/plain": [
       "Index(['아이디', '나이', '노동 계급', 'fnlwgt', '학력', '교육 수', '혼인 상태', '직업', '관계', '인종',\n",
       "       '성별', '자본 이득', '자본 손실', '주당 시간', '모국'],\n",
       "      dtype='object')"
      ]
     },
     "execution_count": 6,
     "metadata": {},
     "output_type": "execute_result"
    }
   ],
   "source": [
    "human_train.columns"
   ]
  },
  {
   "cell_type": "code",
   "execution_count": 7,
   "metadata": {},
   "outputs": [
    {
     "data": {
      "text/plain": [
       "9     10501\n",
       "10     7291\n",
       "13     5355\n",
       "14     1723\n",
       "11     1382\n",
       "7      1175\n",
       "12     1067\n",
       "6       933\n",
       "4       646\n",
       "15      576\n",
       "5       514\n",
       "8       433\n",
       "16      413\n",
       "3       333\n",
       "2       168\n",
       "1        51\n",
       "Name: 교육 수, dtype: int64"
      ]
     },
     "execution_count": 7,
     "metadata": {},
     "output_type": "execute_result"
    }
   ],
   "source": [
    "human_train['교육 수'].value_counts()"
   ]
  },
  {
   "cell_type": "code",
   "execution_count": 8,
   "metadata": {},
   "outputs": [
    {
     "data": {
      "text/plain": [
       "0        29849\n",
       "15024      347\n",
       "7688       284\n",
       "7298       246\n",
       "99999      159\n",
       "         ...  \n",
       "4931         1\n",
       "1455         1\n",
       "6097         1\n",
       "22040        1\n",
       "1111         1\n",
       "Name: 자본 이득, Length: 119, dtype: int64"
      ]
     },
     "execution_count": 8,
     "metadata": {},
     "output_type": "execute_result"
    }
   ],
   "source": [
    "human_train['자본 이득'].value_counts()"
   ]
  },
  {
   "cell_type": "code",
   "execution_count": 9,
   "metadata": {},
   "outputs": [
    {
     "data": {
      "text/plain": [
       "0       31042\n",
       "1902      202\n",
       "1977      168\n",
       "1887      159\n",
       "1848       51\n",
       "        ...  \n",
       "1411        1\n",
       "1539        1\n",
       "2472        1\n",
       "1944        1\n",
       "2201        1\n",
       "Name: 자본 손실, Length: 92, dtype: int64"
      ]
     },
     "execution_count": 9,
     "metadata": {},
     "output_type": "execute_result"
    }
   ],
   "source": [
    "human_train['자본 손실'].value_counts()"
   ]
  },
  {
   "cell_type": "code",
   "execution_count": 58,
   "metadata": {},
   "outputs": [
    {
     "data": {
      "text/plain": [
       "19750     1\n",
       "25078     1\n",
       "11451     1\n",
       "8447      1\n",
       "32525     1\n",
       "         ..\n",
       "25806    99\n",
       "30610    99\n",
       "10143    99\n",
       "4308     99\n",
       "1887     99\n",
       "Name: 주당 시간, Length: 32561, dtype: int64"
      ]
     },
     "execution_count": 58,
     "metadata": {},
     "output_type": "execute_result"
    }
   ],
   "source": [
    "human_train['주당 시간'].sort_values()"
   ]
  },
  {
   "cell_type": "code",
   "execution_count": 59,
   "metadata": {},
   "outputs": [
    {
     "data": {
      "text/plain": [
       "0        40\n",
       "1        13\n",
       "2        40\n",
       "3        40\n",
       "4        40\n",
       "         ..\n",
       "32556    38\n",
       "32557    40\n",
       "32558    40\n",
       "32559    20\n",
       "32560    40\n",
       "Name: 주당 시간, Length: 32561, dtype: int64"
      ]
     },
     "execution_count": 59,
     "metadata": {},
     "output_type": "execute_result"
    }
   ],
   "source": [
    "human_train['주당 시간']"
   ]
  },
  {
   "cell_type": "code",
   "execution_count": 64,
   "metadata": {},
   "outputs": [],
   "source": [
    "human_train['fnlwgt'] = (human_train['fnlwgt']/10000).astype(int)"
   ]
  },
  {
   "cell_type": "code",
   "execution_count": null,
   "metadata": {},
   "outputs": [],
   "source": [
    "human_new[[\"관계\"]] = human_new[[\"관계\"]].apply(lambda x: x.str.lstrip())\n",
    "human_new[[\"관계\"]] = human_new[[\"관계\"]].apply(lambda x: x.astype('category').cat.codes)"
   ]
  }
 ],
 "metadata": {
  "kernelspec": {
   "display_name": "Python 3",
   "language": "python",
   "name": "python3"
  },
  "language_info": {
   "codemirror_mode": {
    "name": "ipython",
    "version": 3
   },
   "file_extension": ".py",
   "mimetype": "text/x-python",
   "name": "python",
   "nbconvert_exporter": "python",
   "pygments_lexer": "ipython3",
   "version": "3.8.5"
  }
 },
 "nbformat": 4,
 "nbformat_minor": 4
}
