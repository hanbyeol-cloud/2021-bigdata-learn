{
 "cells": [
  {
   "cell_type": "code",
   "execution_count": 1,
   "metadata": {},
   "outputs": [],
   "source": [
    "import pandas as pd\n",
    "import numpy as np\n",
    "import matplotlib.pyplot as plt\n",
    "%matplotlib inline\n",
    "from sklearn.model_selection import train_test_split\n",
    "from sklearn.linear_model import LogisticRegression\n",
    "from sklearn.neighbors import KNeighborsClassifier\n",
    "from sklearn.model_selection import cross_val_score\n",
    "from sklearn.preprocessing import MinMaxScaler\n",
    "from sklearn.preprocessing import StandardScaler\n",
    "from imblearn.combine import *\n",
    "from imblearn.combine import *\n",
    "from sklearn.metrics import classification_report\n",
    "from imblearn.under_sampling import TomekLinks\n",
    "from imblearn.combine import SMOTETomek\n",
    "from imblearn.under_sampling import RandomUnderSampler\n",
    "from imblearn.over_sampling import RandomOverSampler\n",
    "from sklearn.model_selection import KFold\n",
    "from sklearn.model_selection import StratifiedKFold\n",
    "from sklearn.model_selection import LeaveOneOut\n",
    "from sklearn.metrics import accuracy_score\n",
    "from sklearn.tree import DecisionTreeClassifier\n",
    "from sklearn import tree\n",
    "from sklearn.metrics import recall_score\n",
    "from sklearn.metrics import precision_score\n",
    "from sklearn.model_selection import GridSearchCV\n",
    "from sklearn.dummy import DummyClassifier\n",
    "from sklearn.svm import SVC\n",
    "from sklearn.neural_network import MLPClassifier\n",
    "from sklearn.metrics import mean_squared_error\n",
    "import xgboost as xgb\n",
    "from xgboost import XGBClassifier\n",
    "from xgboost import plot_importance\n",
    "from sklearn.metrics import confusion_matrix\n",
    "from lightgbm import LGBMClassifier\n",
    "from sklearn.metrics import precision_recall_curve\n",
    "from sklearn.metrics import roc_curve\n",
    "from sklearn.metrics import auc\n",
    "from bayes_opt import BayesianOptimization\n",
    "from lightgbm import LGBMRegressor\n",
    "from sklearn.preprocessing import Binarizer"
   ]
  },
  {
   "cell_type": "code",
   "execution_count": 2,
   "metadata": {},
   "outputs": [],
   "source": [
    "human_train = pd.read_csv(\"work/human.csv\", encoding=\"cp949\")\n",
    "human_new = pd.read_csv(\"work/human_new.csv\", encoding=\"cp949\")"
   ]
  },
  {
   "cell_type": "code",
   "execution_count": 3,
   "metadata": {},
   "outputs": [],
   "source": [
    "# human_train"
   ]
  },
  {
   "cell_type": "code",
   "execution_count": 4,
   "metadata": {},
   "outputs": [],
   "source": [
    "# human_train.info()"
   ]
  },
  {
   "cell_type": "code",
   "execution_count": 5,
   "metadata": {},
   "outputs": [],
   "source": [
    "# human_train.isnull().sum()"
   ]
  },
  {
   "cell_type": "code",
   "execution_count": 6,
   "metadata": {},
   "outputs": [],
   "source": [
    "# human_train[\"노동 계급\"].value_counts()"
   ]
  },
  {
   "cell_type": "code",
   "execution_count": 7,
   "metadata": {},
   "outputs": [],
   "source": [
    "# human_train[\"학력\"].value_counts()"
   ]
  },
  {
   "cell_type": "code",
   "execution_count": 8,
   "metadata": {},
   "outputs": [],
   "source": [
    "# human_train[\"혼인 상태\"].value_counts()"
   ]
  },
  {
   "cell_type": "code",
   "execution_count": 9,
   "metadata": {},
   "outputs": [],
   "source": [
    "# human_train[\"직업\"].value_counts()"
   ]
  },
  {
   "cell_type": "code",
   "execution_count": 10,
   "metadata": {},
   "outputs": [],
   "source": [
    "# human_train[\"관계\"].value_counts()"
   ]
  },
  {
   "cell_type": "code",
   "execution_count": 11,
   "metadata": {},
   "outputs": [],
   "source": [
    "# human_train[\"인종\"].value_counts()"
   ]
  },
  {
   "cell_type": "code",
   "execution_count": 12,
   "metadata": {},
   "outputs": [],
   "source": [
    "# human_train[\"모국\"].value_counts()"
   ]
  },
  {
   "cell_type": "code",
   "execution_count": 13,
   "metadata": {},
   "outputs": [],
   "source": [
    "# human_train[\"교육 수\"].value_counts()"
   ]
  },
  {
   "cell_type": "code",
   "execution_count": 14,
   "metadata": {},
   "outputs": [],
   "source": [
    "# human_train[\"자본 이득\"].value_counts()"
   ]
  },
  {
   "cell_type": "code",
   "execution_count": 15,
   "metadata": {},
   "outputs": [],
   "source": [
    "#  human_train[\"자본 손실\"].value_counts()"
   ]
  },
  {
   "cell_type": "code",
   "execution_count": 16,
   "metadata": {},
   "outputs": [],
   "source": [
    "# human_train[\"주당 시간\"].value_counts()"
   ]
  },
  {
   "cell_type": "markdown",
   "metadata": {},
   "source": [
    "# Null값 제거"
   ]
  },
  {
   "cell_type": "code",
   "execution_count": 3,
   "metadata": {},
   "outputs": [
    {
     "data": {
      "text/html": [
       "<div>\n",
       "<style scoped>\n",
       "    .dataframe tbody tr th:only-of-type {\n",
       "        vertical-align: middle;\n",
       "    }\n",
       "\n",
       "    .dataframe tbody tr th {\n",
       "        vertical-align: top;\n",
       "    }\n",
       "\n",
       "    .dataframe thead th {\n",
       "        text-align: right;\n",
       "    }\n",
       "</style>\n",
       "<table border=\"1\" class=\"dataframe\">\n",
       "  <thead>\n",
       "    <tr style=\"text-align: right;\">\n",
       "      <th></th>\n",
       "      <th>아이디</th>\n",
       "      <th>나이</th>\n",
       "      <th>노동 계급</th>\n",
       "      <th>fnlwgt</th>\n",
       "      <th>학력</th>\n",
       "      <th>교육 수</th>\n",
       "      <th>혼인 상태</th>\n",
       "      <th>직업</th>\n",
       "      <th>관계</th>\n",
       "      <th>인종</th>\n",
       "      <th>성별</th>\n",
       "      <th>자본 이득</th>\n",
       "      <th>자본 손실</th>\n",
       "      <th>주당 시간</th>\n",
       "      <th>모국</th>\n",
       "    </tr>\n",
       "  </thead>\n",
       "  <tbody>\n",
       "    <tr>\n",
       "      <th>0</th>\n",
       "      <td>H20001</td>\n",
       "      <td>39</td>\n",
       "      <td>State-gov</td>\n",
       "      <td>77516</td>\n",
       "      <td>Bachelors</td>\n",
       "      <td>13</td>\n",
       "      <td>Never-married</td>\n",
       "      <td>Adm-clerical</td>\n",
       "      <td>Not-in-family</td>\n",
       "      <td>White</td>\n",
       "      <td>Male</td>\n",
       "      <td>2174</td>\n",
       "      <td>0</td>\n",
       "      <td>40</td>\n",
       "      <td>United-States</td>\n",
       "    </tr>\n",
       "    <tr>\n",
       "      <th>1</th>\n",
       "      <td>H20002</td>\n",
       "      <td>50</td>\n",
       "      <td>Self-emp-not-inc</td>\n",
       "      <td>83311</td>\n",
       "      <td>Bachelors</td>\n",
       "      <td>13</td>\n",
       "      <td>Married-civ-spouse</td>\n",
       "      <td>Exec-managerial</td>\n",
       "      <td>Husband</td>\n",
       "      <td>White</td>\n",
       "      <td>Male</td>\n",
       "      <td>0</td>\n",
       "      <td>0</td>\n",
       "      <td>13</td>\n",
       "      <td>United-States</td>\n",
       "    </tr>\n",
       "    <tr>\n",
       "      <th>2</th>\n",
       "      <td>H20003</td>\n",
       "      <td>38</td>\n",
       "      <td>Private</td>\n",
       "      <td>215646</td>\n",
       "      <td>HS-grad</td>\n",
       "      <td>9</td>\n",
       "      <td>Divorced</td>\n",
       "      <td>Handlers-cleaners</td>\n",
       "      <td>Not-in-family</td>\n",
       "      <td>White</td>\n",
       "      <td>Male</td>\n",
       "      <td>0</td>\n",
       "      <td>0</td>\n",
       "      <td>40</td>\n",
       "      <td>United-States</td>\n",
       "    </tr>\n",
       "    <tr>\n",
       "      <th>3</th>\n",
       "      <td>H20004</td>\n",
       "      <td>53</td>\n",
       "      <td>Private</td>\n",
       "      <td>234721</td>\n",
       "      <td>11th</td>\n",
       "      <td>7</td>\n",
       "      <td>Married-civ-spouse</td>\n",
       "      <td>Handlers-cleaners</td>\n",
       "      <td>Husband</td>\n",
       "      <td>Black</td>\n",
       "      <td>Male</td>\n",
       "      <td>0</td>\n",
       "      <td>0</td>\n",
       "      <td>40</td>\n",
       "      <td>United-States</td>\n",
       "    </tr>\n",
       "    <tr>\n",
       "      <th>4</th>\n",
       "      <td>H20005</td>\n",
       "      <td>28</td>\n",
       "      <td>Private</td>\n",
       "      <td>338409</td>\n",
       "      <td>Bachelors</td>\n",
       "      <td>13</td>\n",
       "      <td>Married-civ-spouse</td>\n",
       "      <td>Prof-specialty</td>\n",
       "      <td>Wife</td>\n",
       "      <td>Black</td>\n",
       "      <td>Female</td>\n",
       "      <td>0</td>\n",
       "      <td>0</td>\n",
       "      <td>40</td>\n",
       "      <td>Cuba</td>\n",
       "    </tr>\n",
       "    <tr>\n",
       "      <th>...</th>\n",
       "      <td>...</td>\n",
       "      <td>...</td>\n",
       "      <td>...</td>\n",
       "      <td>...</td>\n",
       "      <td>...</td>\n",
       "      <td>...</td>\n",
       "      <td>...</td>\n",
       "      <td>...</td>\n",
       "      <td>...</td>\n",
       "      <td>...</td>\n",
       "      <td>...</td>\n",
       "      <td>...</td>\n",
       "      <td>...</td>\n",
       "      <td>...</td>\n",
       "      <td>...</td>\n",
       "    </tr>\n",
       "    <tr>\n",
       "      <th>32556</th>\n",
       "      <td>H52557</td>\n",
       "      <td>27</td>\n",
       "      <td>Private</td>\n",
       "      <td>257302</td>\n",
       "      <td>Assoc-acdm</td>\n",
       "      <td>12</td>\n",
       "      <td>Married-civ-spouse</td>\n",
       "      <td>Tech-support</td>\n",
       "      <td>Wife</td>\n",
       "      <td>White</td>\n",
       "      <td>Female</td>\n",
       "      <td>0</td>\n",
       "      <td>0</td>\n",
       "      <td>38</td>\n",
       "      <td>United-States</td>\n",
       "    </tr>\n",
       "    <tr>\n",
       "      <th>32557</th>\n",
       "      <td>H52558</td>\n",
       "      <td>40</td>\n",
       "      <td>Private</td>\n",
       "      <td>154374</td>\n",
       "      <td>HS-grad</td>\n",
       "      <td>9</td>\n",
       "      <td>Married-civ-spouse</td>\n",
       "      <td>Machine-op-inspct</td>\n",
       "      <td>Husband</td>\n",
       "      <td>White</td>\n",
       "      <td>Male</td>\n",
       "      <td>0</td>\n",
       "      <td>0</td>\n",
       "      <td>40</td>\n",
       "      <td>United-States</td>\n",
       "    </tr>\n",
       "    <tr>\n",
       "      <th>32558</th>\n",
       "      <td>H52559</td>\n",
       "      <td>58</td>\n",
       "      <td>Private</td>\n",
       "      <td>151910</td>\n",
       "      <td>HS-grad</td>\n",
       "      <td>9</td>\n",
       "      <td>Widowed</td>\n",
       "      <td>Adm-clerical</td>\n",
       "      <td>Unmarried</td>\n",
       "      <td>White</td>\n",
       "      <td>Female</td>\n",
       "      <td>0</td>\n",
       "      <td>0</td>\n",
       "      <td>40</td>\n",
       "      <td>United-States</td>\n",
       "    </tr>\n",
       "    <tr>\n",
       "      <th>32559</th>\n",
       "      <td>H52560</td>\n",
       "      <td>22</td>\n",
       "      <td>Private</td>\n",
       "      <td>201490</td>\n",
       "      <td>HS-grad</td>\n",
       "      <td>9</td>\n",
       "      <td>Never-married</td>\n",
       "      <td>Adm-clerical</td>\n",
       "      <td>Own-child</td>\n",
       "      <td>White</td>\n",
       "      <td>Male</td>\n",
       "      <td>0</td>\n",
       "      <td>0</td>\n",
       "      <td>20</td>\n",
       "      <td>United-States</td>\n",
       "    </tr>\n",
       "    <tr>\n",
       "      <th>32560</th>\n",
       "      <td>H52561</td>\n",
       "      <td>52</td>\n",
       "      <td>Self-emp-inc</td>\n",
       "      <td>287927</td>\n",
       "      <td>HS-grad</td>\n",
       "      <td>9</td>\n",
       "      <td>Married-civ-spouse</td>\n",
       "      <td>Exec-managerial</td>\n",
       "      <td>Wife</td>\n",
       "      <td>White</td>\n",
       "      <td>Female</td>\n",
       "      <td>15024</td>\n",
       "      <td>0</td>\n",
       "      <td>40</td>\n",
       "      <td>United-States</td>\n",
       "    </tr>\n",
       "  </tbody>\n",
       "</table>\n",
       "<p>30718 rows × 15 columns</p>\n",
       "</div>"
      ],
      "text/plain": [
       "          아이디  나이              노동 계급  fnlwgt           학력  교육 수  \\\n",
       "0      H20001  39          State-gov   77516    Bachelors    13   \n",
       "1      H20002  50   Self-emp-not-inc   83311    Bachelors    13   \n",
       "2      H20003  38            Private  215646      HS-grad     9   \n",
       "3      H20004  53            Private  234721         11th     7   \n",
       "4      H20005  28            Private  338409    Bachelors    13   \n",
       "...       ...  ..                ...     ...          ...   ...   \n",
       "32556  H52557  27            Private  257302   Assoc-acdm    12   \n",
       "32557  H52558  40            Private  154374      HS-grad     9   \n",
       "32558  H52559  58            Private  151910      HS-grad     9   \n",
       "32559  H52560  22            Private  201490      HS-grad     9   \n",
       "32560  H52561  52       Self-emp-inc  287927      HS-grad     9   \n",
       "\n",
       "                     혼인 상태                  직업              관계      인종  \\\n",
       "0            Never-married        Adm-clerical   Not-in-family   White   \n",
       "1       Married-civ-spouse     Exec-managerial         Husband   White   \n",
       "2                 Divorced   Handlers-cleaners   Not-in-family   White   \n",
       "3       Married-civ-spouse   Handlers-cleaners         Husband   Black   \n",
       "4       Married-civ-spouse      Prof-specialty            Wife   Black   \n",
       "...                    ...                 ...             ...     ...   \n",
       "32556   Married-civ-spouse        Tech-support            Wife   White   \n",
       "32557   Married-civ-spouse   Machine-op-inspct         Husband   White   \n",
       "32558              Widowed        Adm-clerical       Unmarried   White   \n",
       "32559        Never-married        Adm-clerical       Own-child   White   \n",
       "32560   Married-civ-spouse     Exec-managerial            Wife   White   \n",
       "\n",
       "            성별  자본 이득  자본 손실  주당 시간              모국  \n",
       "0         Male   2174      0     40   United-States  \n",
       "1         Male      0      0     13   United-States  \n",
       "2         Male      0      0     40   United-States  \n",
       "3         Male      0      0     40   United-States  \n",
       "4       Female      0      0     40            Cuba  \n",
       "...        ...    ...    ...    ...             ...  \n",
       "32556   Female      0      0     38   United-States  \n",
       "32557     Male      0      0     40   United-States  \n",
       "32558   Female      0      0     40   United-States  \n",
       "32559     Male      0      0     20   United-States  \n",
       "32560   Female  15024      0     40   United-States  \n",
       "\n",
       "[30718 rows x 15 columns]"
      ]
     },
     "execution_count": 3,
     "metadata": {},
     "output_type": "execute_result"
    }
   ],
   "source": [
    "human_train.dropna(subset=[\"노동 계급\",\"직업\",\"학력\"],inplace=True)\n",
    "human_train"
   ]
  },
  {
   "cell_type": "markdown",
   "metadata": {},
   "source": [
    "# 성별 수치형으로 변환"
   ]
  },
  {
   "cell_type": "code",
   "execution_count": 3,
   "metadata": {},
   "outputs": [],
   "source": [
    "human_train[[\"성별\"]] = human_train[[\"성별\"]].apply(lambda x: x.str.lstrip())\n",
    "human_train[[\"성별\"]] = human_train[[\"성별\"]].apply(lambda x: x.astype('category').cat.codes)"
   ]
  },
  {
   "cell_type": "code",
   "execution_count": 5,
   "metadata": {},
   "outputs": [],
   "source": [
    "# human_train[\"성별\"] = human_train[\"성별\"].str.strip()"
   ]
  },
  {
   "cell_type": "code",
   "execution_count": 6,
   "metadata": {},
   "outputs": [],
   "source": [
    "# gender = {\"Male\":1, \"Female\":0}\n",
    "# human_train[\"성별\"] = human_train[\"성별\"].map(gender)"
   ]
  },
  {
   "cell_type": "code",
   "execution_count": 7,
   "metadata": {},
   "outputs": [
    {
     "data": {
      "text/plain": [
       "1    20788\n",
       "0     9930\n",
       "Name: 성별, dtype: int64"
      ]
     },
     "execution_count": 7,
     "metadata": {},
     "output_type": "execute_result"
    }
   ],
   "source": [
    "human_train[\"성별\"].value_counts()"
   ]
  },
  {
   "cell_type": "markdown",
   "metadata": {},
   "source": [
    "# 아웃라이어 제거"
   ]
  },
  {
   "cell_type": "code",
   "execution_count": 4,
   "metadata": {},
   "outputs": [],
   "source": [
    "for i, v in enumerate(human_train['나이']):\n",
    "    if v>70 :\n",
    "        human_train['나이'].replace(v,70,inplace=True)"
   ]
  },
  {
   "cell_type": "code",
   "execution_count": 5,
   "metadata": {},
   "outputs": [],
   "source": [
    "for i, v in enumerate(human_train['fnlwgt']):\n",
    "    if v>400000 :\n",
    "        human_train['fnlwgt'].replace(v,400000,inplace=True)"
   ]
  },
  {
   "cell_type": "code",
   "execution_count": 6,
   "metadata": {},
   "outputs": [],
   "source": [
    "for i, v in enumerate(human_train['주당 시간']):\n",
    "    if v>70 :\n",
    "        human_train['주당 시간'].replace(v,70,inplace=True)"
   ]
  },
  {
   "cell_type": "code",
   "execution_count": 7,
   "metadata": {},
   "outputs": [],
   "source": [
    "for i, v in enumerate(human_train['교육 수']):\n",
    "    if v<3:\n",
    "        human_train['교육 수'].replace(v,3,inplace=True)"
   ]
  },
  {
   "cell_type": "markdown",
   "metadata": {},
   "source": [
    "# 파생 변수 만들기"
   ]
  },
  {
   "cell_type": "code",
   "execution_count": 8,
   "metadata": {},
   "outputs": [],
   "source": [
    "s1=human_train['자본 이득']\n",
    "s2=human_train['자본 손실']\n",
    "s=s1+s2\n",
    "s.rename(\"순이익\",inplace=True)\n",
    "human_train = pd.concat([human_train,s],axis=1)"
   ]
  },
  {
   "cell_type": "code",
   "execution_count": 9,
   "metadata": {},
   "outputs": [],
   "source": [
    "human_train['나이대'] = (human_train['나이']/10).astype(int)\n",
    "human_train['주당 시간별'] = (human_train['주당 시간']/10).astype(int)\n",
    "human_train['fnlwgt2'] = (human_train['fnlwgt']/10000).astype(int)"
   ]
  },
  {
   "cell_type": "code",
   "execution_count": 10,
   "metadata": {},
   "outputs": [],
   "source": [
    "working_class = pd.get_dummies(human_train[\"노동 계급\"])\n",
    "human_train = pd.concat([human_train, working_class], axis=1)\n",
    "# human_train.drop(\"노동 계급\", axis=1, inplace=True)\n",
    "\n",
    "human_train[[\"노동 계급\"]] = human_train[[\"노동 계급\"]].apply(lambda x: x.str.lstrip())\n",
    "human_train[[\"노동 계급\"]] = human_train[[\"노동 계급\"]].apply(lambda x: x.astype('category').cat.codes)"
   ]
  },
  {
   "cell_type": "code",
   "execution_count": 11,
   "metadata": {},
   "outputs": [],
   "source": [
    "academic_ability = pd.get_dummies(human_train[\"학력\"])\n",
    "human_train = pd.concat([human_train,academic_ability],axis=1)\n",
    "# human_train.drop(\"학력\",axis=1,inplace=True)\n",
    "\n",
    "human_train[[\"학력\"]] = human_train[[\"학력\"]].apply(lambda x: x.str.lstrip())\n",
    "human_train[[\"학력\"]] = human_train[[\"학력\"]].apply(lambda x: x.astype('category').cat.codes)"
   ]
  },
  {
   "cell_type": "code",
   "execution_count": 12,
   "metadata": {},
   "outputs": [],
   "source": [
    "marital_status = pd.get_dummies(human_train[\"혼인 상태\"])\n",
    "human_train = pd.concat([human_train,marital_status], axis=1)\n",
    "# human_train.drop(\"혼인 상태\", axis=1, inplace=True)\n",
    "\n",
    "human_train[[\"혼인 상태\"]] = human_train[[\"혼인 상태\"]].apply(lambda x: x.str.lstrip())\n",
    "human_train[[\"혼인 상태\"]] = human_train[[\"혼인 상태\"]].apply(lambda x: x.astype('category').cat.codes)"
   ]
  },
  {
   "cell_type": "code",
   "execution_count": 13,
   "metadata": {},
   "outputs": [],
   "source": [
    "jobs = pd.get_dummies(human_train[\"직업\"])\n",
    "human_train = pd.concat([human_train, jobs], axis=1)\n",
    "# human_train.drop(\"직업\", axis=1, inplace=True)\n",
    "\n",
    "human_train[[\"직업\"]] = human_train[[\"직업\"]].apply(lambda x: x.str.lstrip())\n",
    "human_train[[\"직업\"]] = human_train[[\"직업\"]].apply(lambda x: x.astype('category').cat.codes)"
   ]
  },
  {
   "cell_type": "code",
   "execution_count": 14,
   "metadata": {},
   "outputs": [],
   "source": [
    "relationship = pd.get_dummies(human_train[\"관계\"])\n",
    "human_train = pd.concat([human_train, relationship], axis=1)\n",
    "# human_train.drop(\"관계\", axis=1, inplace=True)\n",
    "\n",
    "human_train[[\"관계\"]] = human_train[[\"관계\"]].apply(lambda x: x.str.lstrip())\n",
    "human_train[[\"관계\"]] = human_train[[\"관계\"]].apply(lambda x: x.astype('category').cat.codes)"
   ]
  },
  {
   "cell_type": "code",
   "execution_count": 15,
   "metadata": {},
   "outputs": [],
   "source": [
    "race = pd.get_dummies(human_train[\"인종\"])\n",
    "human_train = pd.concat([human_train, race], axis=1)\n",
    "# human_train.drop(\"인종\", axis=1, inplace=True)\n",
    "\n",
    "human_train[[\"인종\"]] = human_train[[\"인종\"]].apply(lambda x: x.str.lstrip())\n",
    "human_train[[\"인종\"]] = human_train[[\"인종\"]].apply(lambda x: x.astype('category').cat.codes)"
   ]
  },
  {
   "cell_type": "code",
   "execution_count": 16,
   "metadata": {},
   "outputs": [],
   "source": [
    "homeland = pd.get_dummies(human_train[\"모국\"])\n",
    "human_train = pd.concat([human_train, homeland], axis=1)\n",
    "# human_train.drop(\"모국\", axis=1, inplace=True)\n",
    "\n",
    "human_train[[\"모국\"]] = human_train[[\"모국\"]].apply(lambda x: x.str.lstrip())\n",
    "human_train[[\"모국\"]] = human_train[[\"모국\"]].apply(lambda x: x.astype('category').cat.codes)"
   ]
  },
  {
   "cell_type": "code",
   "execution_count": 17,
   "metadata": {},
   "outputs": [],
   "source": [
    "human_train.drop([\"자본 이득\",\"자본 손실\",\"순이익\",' Holand-Netherlands'],axis=1,inplace=True)"
   ]
  },
  {
   "cell_type": "code",
   "execution_count": 131,
   "metadata": {},
   "outputs": [
    {
     "data": {
      "text/plain": [
       "나이            AxesSubplot(0.125,0.816017;0.352273x0.0639831)\n",
       "노동 계급      AxesSubplot(0.547727,0.816017;0.352273x0.0639831)\n",
       "fnlwgt        AxesSubplot(0.125,0.739237;0.352273x0.0639831)\n",
       "학력         AxesSubplot(0.547727,0.739237;0.352273x0.0639831)\n",
       "교육 수          AxesSubplot(0.125,0.662458;0.352273x0.0639831)\n",
       "혼인 상태      AxesSubplot(0.547727,0.662458;0.352273x0.0639831)\n",
       "직업            AxesSubplot(0.125,0.585678;0.352273x0.0639831)\n",
       "관계         AxesSubplot(0.547727,0.585678;0.352273x0.0639831)\n",
       "인종            AxesSubplot(0.125,0.508898;0.352273x0.0639831)\n",
       "성별         AxesSubplot(0.547727,0.508898;0.352273x0.0639831)\n",
       "주당 시간         AxesSubplot(0.125,0.432119;0.352273x0.0639831)\n",
       "모국         AxesSubplot(0.547727,0.432119;0.352273x0.0639831)\n",
       "나이대           AxesSubplot(0.125,0.355339;0.352273x0.0639831)\n",
       "주당 시간별     AxesSubplot(0.547727,0.355339;0.352273x0.0639831)\n",
       "fnlwgt2       AxesSubplot(0.125,0.278559;0.352273x0.0639831)\n",
       "dtype: object"
      ]
     },
     "execution_count": 131,
     "metadata": {},
     "output_type": "execute_result"
    },
    {
     "data": {
      "image/png": "[encoded data removed]",
      "text/plain": [
       "<Figure size 720x7200 with 20 Axes>"
      ]
     },
     "metadata": {
      "needs_background": "light"
     },
     "output_type": "display_data"
    }
   ],
   "source": [
    "plt.rcParams['figure.figsize'] = [50, 50]\n",
    "plt.rc('font', family='Malgun Gothic')\n",
    "human_train.loc[:, '나이':'fnlwgt2'].plot.box(subplots=True, layout=(10,2), figsize=(10,100))"
   ]
  },
  {
   "cell_type": "code",
   "execution_count": 35,
   "metadata": {},
   "outputs": [
    {
     "data": {
      "text/plain": [
       "주당 시간별    AxesSubplot(0.125,0.125;0.775x0.755)\n",
       "dtype: object"
      ]
     },
     "execution_count": 35,
     "metadata": {},
     "output_type": "execute_result"
    },
    {
     "data": {
      "image/png": "[encoded data removed]",
      "text/plain": [
       "<Figure size 360x720 with 1 Axes>"
      ]
     },
     "metadata": {
      "needs_background": "light"
     },
     "output_type": "display_data"
    }
   ],
   "source": [
    "human_train.loc[:, '주당 시간별'].plot.box(subplots=True, layout=(1,1), figsize=(5,10))"
   ]
  },
  {
   "cell_type": "code",
   "execution_count": 22,
   "metadata": {},
   "outputs": [
    {
     "data": {
      "text/plain": [
       "count    30718.000000\n",
       "mean         3.924311\n",
       "std          1.189654\n",
       "min          0.000000\n",
       "25%          4.000000\n",
       "50%          4.000000\n",
       "75%          4.000000\n",
       "max          7.000000\n",
       "Name: 주당 시간별, dtype: float64"
      ]
     },
     "execution_count": 22,
     "metadata": {},
     "output_type": "execute_result"
    }
   ],
   "source": [
    "human_train.loc[:,'주당 시간별'].describe().T"
   ]
  },
  {
   "cell_type": "code",
   "execution_count": 37,
   "metadata": {},
   "outputs": [
    {
     "data": {
      "text/plain": [
       "4    17583\n",
       "5     3799\n",
       "3     3374\n",
       "2     2088\n",
       "6     1760\n",
       "1     1063\n",
       "7      435\n",
       "0      294\n",
       "8      189\n",
       "9      133\n",
       "Name: 주당 시간별, dtype: int64"
      ]
     },
     "execution_count": 37,
     "metadata": {},
     "output_type": "execute_result"
    }
   ],
   "source": [
    "human_train.loc[:,'주당 시간별'].value_counts()"
   ]
  },
  {
   "cell_type": "code",
   "execution_count": 18,
   "metadata": {},
   "outputs": [
    {
     "name": "stdout",
     "output_type": "stream",
     "text": [
      "<class 'pandas.core.frame.DataFrame'>\n",
      "RangeIndex: 32561 entries, 0 to 32560\n",
      "Columns: 112 entries, 아이디 to  Yugoslavia\n",
      "dtypes: int32(3), int64(4), int8(8), object(1), uint8(96)\n",
      "memory usage: 4.8+ MB\n"
     ]
    }
   ],
   "source": [
    "human_train.info()"
   ]
  },
  {
   "cell_type": "code",
   "execution_count": 35,
   "metadata": {},
   "outputs": [
    {
     "data": {
      "text/plain": [
       "성별                     1.000000\n",
       " Husband               0.580135\n",
       " Married-civ-spouse    0.431805\n",
       "주당 시간별                 0.240200\n",
       "주당 시간                  0.236223\n",
       "                         ...   \n",
       " Divorced             -0.228621\n",
       " Adm-clerical         -0.263148\n",
       " Wife                 -0.319311\n",
       " Unmarried            -0.321273\n",
       "관계                    -0.582454\n",
       "Name: 성별, Length: 112, dtype: float64"
      ]
     },
     "execution_count": 35,
     "metadata": {},
     "output_type": "execute_result"
    }
   ],
   "source": [
    "human_train.corr().성별.sort_values(ascending=False)"
   ]
  },
  {
   "cell_type": "code",
   "execution_count": 28,
   "metadata": {},
   "outputs": [
    {
     "data": {
      "text/html": [
       "<div>\n",
       "<style scoped>\n",
       "    .dataframe tbody tr th:only-of-type {\n",
       "        vertical-align: middle;\n",
       "    }\n",
       "\n",
       "    .dataframe tbody tr th {\n",
       "        vertical-align: top;\n",
       "    }\n",
       "\n",
       "    .dataframe thead th {\n",
       "        text-align: right;\n",
       "    }\n",
       "</style>\n",
       "<table border=\"1\" class=\"dataframe\">\n",
       "  <thead>\n",
       "    <tr style=\"text-align: right;\">\n",
       "      <th></th>\n",
       "      <th>아이디</th>\n",
       "      <th>나이</th>\n",
       "      <th>노동 계급</th>\n",
       "      <th>fnlwgt</th>\n",
       "      <th>학력</th>\n",
       "      <th>혼인 상태</th>\n",
       "      <th>직업</th>\n",
       "      <th>관계</th>\n",
       "      <th>인종</th>\n",
       "      <th>성별</th>\n",
       "      <th>주당 시간</th>\n",
       "      <th>모국</th>\n",
       "      <th>나이대</th>\n",
       "      <th>주당 시간별</th>\n",
       "      <th>fnlwgt2</th>\n",
       "    </tr>\n",
       "  </thead>\n",
       "  <tbody>\n",
       "    <tr>\n",
       "      <th>0</th>\n",
       "      <td>H20001</td>\n",
       "      <td>39</td>\n",
       "      <td>5</td>\n",
       "      <td>77516</td>\n",
       "      <td>9</td>\n",
       "      <td>4</td>\n",
       "      <td>0</td>\n",
       "      <td>1</td>\n",
       "      <td>4</td>\n",
       "      <td>1</td>\n",
       "      <td>40</td>\n",
       "      <td>38</td>\n",
       "      <td>3</td>\n",
       "      <td>4</td>\n",
       "      <td>7</td>\n",
       "    </tr>\n",
       "    <tr>\n",
       "      <th>1</th>\n",
       "      <td>H20002</td>\n",
       "      <td>50</td>\n",
       "      <td>4</td>\n",
       "      <td>83311</td>\n",
       "      <td>9</td>\n",
       "      <td>2</td>\n",
       "      <td>3</td>\n",
       "      <td>0</td>\n",
       "      <td>4</td>\n",
       "      <td>1</td>\n",
       "      <td>13</td>\n",
       "      <td>38</td>\n",
       "      <td>5</td>\n",
       "      <td>1</td>\n",
       "      <td>8</td>\n",
       "    </tr>\n",
       "    <tr>\n",
       "      <th>2</th>\n",
       "      <td>H20003</td>\n",
       "      <td>38</td>\n",
       "      <td>2</td>\n",
       "      <td>215646</td>\n",
       "      <td>11</td>\n",
       "      <td>0</td>\n",
       "      <td>5</td>\n",
       "      <td>1</td>\n",
       "      <td>4</td>\n",
       "      <td>1</td>\n",
       "      <td>40</td>\n",
       "      <td>38</td>\n",
       "      <td>3</td>\n",
       "      <td>4</td>\n",
       "      <td>21</td>\n",
       "    </tr>\n",
       "    <tr>\n",
       "      <th>3</th>\n",
       "      <td>H20004</td>\n",
       "      <td>53</td>\n",
       "      <td>2</td>\n",
       "      <td>234721</td>\n",
       "      <td>1</td>\n",
       "      <td>2</td>\n",
       "      <td>5</td>\n",
       "      <td>0</td>\n",
       "      <td>2</td>\n",
       "      <td>1</td>\n",
       "      <td>40</td>\n",
       "      <td>38</td>\n",
       "      <td>5</td>\n",
       "      <td>4</td>\n",
       "      <td>23</td>\n",
       "    </tr>\n",
       "    <tr>\n",
       "      <th>4</th>\n",
       "      <td>H20005</td>\n",
       "      <td>28</td>\n",
       "      <td>2</td>\n",
       "      <td>338409</td>\n",
       "      <td>9</td>\n",
       "      <td>2</td>\n",
       "      <td>9</td>\n",
       "      <td>5</td>\n",
       "      <td>2</td>\n",
       "      <td>0</td>\n",
       "      <td>40</td>\n",
       "      <td>4</td>\n",
       "      <td>2</td>\n",
       "      <td>4</td>\n",
       "      <td>33</td>\n",
       "    </tr>\n",
       "    <tr>\n",
       "      <th>...</th>\n",
       "      <td>...</td>\n",
       "      <td>...</td>\n",
       "      <td>...</td>\n",
       "      <td>...</td>\n",
       "      <td>...</td>\n",
       "      <td>...</td>\n",
       "      <td>...</td>\n",
       "      <td>...</td>\n",
       "      <td>...</td>\n",
       "      <td>...</td>\n",
       "      <td>...</td>\n",
       "      <td>...</td>\n",
       "      <td>...</td>\n",
       "      <td>...</td>\n",
       "      <td>...</td>\n",
       "    </tr>\n",
       "    <tr>\n",
       "      <th>32556</th>\n",
       "      <td>H52557</td>\n",
       "      <td>27</td>\n",
       "      <td>2</td>\n",
       "      <td>257302</td>\n",
       "      <td>7</td>\n",
       "      <td>2</td>\n",
       "      <td>12</td>\n",
       "      <td>5</td>\n",
       "      <td>4</td>\n",
       "      <td>0</td>\n",
       "      <td>38</td>\n",
       "      <td>38</td>\n",
       "      <td>2</td>\n",
       "      <td>3</td>\n",
       "      <td>25</td>\n",
       "    </tr>\n",
       "    <tr>\n",
       "      <th>32557</th>\n",
       "      <td>H52558</td>\n",
       "      <td>40</td>\n",
       "      <td>2</td>\n",
       "      <td>154374</td>\n",
       "      <td>11</td>\n",
       "      <td>2</td>\n",
       "      <td>6</td>\n",
       "      <td>0</td>\n",
       "      <td>4</td>\n",
       "      <td>1</td>\n",
       "      <td>40</td>\n",
       "      <td>38</td>\n",
       "      <td>4</td>\n",
       "      <td>4</td>\n",
       "      <td>15</td>\n",
       "    </tr>\n",
       "    <tr>\n",
       "      <th>32558</th>\n",
       "      <td>H52559</td>\n",
       "      <td>58</td>\n",
       "      <td>2</td>\n",
       "      <td>151910</td>\n",
       "      <td>11</td>\n",
       "      <td>6</td>\n",
       "      <td>0</td>\n",
       "      <td>4</td>\n",
       "      <td>4</td>\n",
       "      <td>0</td>\n",
       "      <td>40</td>\n",
       "      <td>38</td>\n",
       "      <td>5</td>\n",
       "      <td>4</td>\n",
       "      <td>15</td>\n",
       "    </tr>\n",
       "    <tr>\n",
       "      <th>32559</th>\n",
       "      <td>H52560</td>\n",
       "      <td>22</td>\n",
       "      <td>2</td>\n",
       "      <td>201490</td>\n",
       "      <td>11</td>\n",
       "      <td>4</td>\n",
       "      <td>0</td>\n",
       "      <td>3</td>\n",
       "      <td>4</td>\n",
       "      <td>1</td>\n",
       "      <td>20</td>\n",
       "      <td>38</td>\n",
       "      <td>2</td>\n",
       "      <td>2</td>\n",
       "      <td>20</td>\n",
       "    </tr>\n",
       "    <tr>\n",
       "      <th>32560</th>\n",
       "      <td>H52561</td>\n",
       "      <td>52</td>\n",
       "      <td>3</td>\n",
       "      <td>287927</td>\n",
       "      <td>11</td>\n",
       "      <td>2</td>\n",
       "      <td>3</td>\n",
       "      <td>5</td>\n",
       "      <td>4</td>\n",
       "      <td>0</td>\n",
       "      <td>40</td>\n",
       "      <td>38</td>\n",
       "      <td>5</td>\n",
       "      <td>4</td>\n",
       "      <td>28</td>\n",
       "    </tr>\n",
       "  </tbody>\n",
       "</table>\n",
       "<p>30718 rows × 15 columns</p>\n",
       "</div>"
      ],
      "text/plain": [
       "          아이디  나이  노동 계급  fnlwgt  학력  혼인 상태  직업  관계  인종  성별  주당 시간  모국  나이대  \\\n",
       "0      H20001  39      5   77516   9      4   0   1   4   1     40  38    3   \n",
       "1      H20002  50      4   83311   9      2   3   0   4   1     13  38    5   \n",
       "2      H20003  38      2  215646  11      0   5   1   4   1     40  38    3   \n",
       "3      H20004  53      2  234721   1      2   5   0   2   1     40  38    5   \n",
       "4      H20005  28      2  338409   9      2   9   5   2   0     40   4    2   \n",
       "...       ...  ..    ...     ...  ..    ...  ..  ..  ..  ..    ...  ..  ...   \n",
       "32556  H52557  27      2  257302   7      2  12   5   4   0     38  38    2   \n",
       "32557  H52558  40      2  154374  11      2   6   0   4   1     40  38    4   \n",
       "32558  H52559  58      2  151910  11      6   0   4   4   0     40  38    5   \n",
       "32559  H52560  22      2  201490  11      4   0   3   4   1     20  38    2   \n",
       "32560  H52561  52      3  287927  11      2   3   5   4   0     40  38    5   \n",
       "\n",
       "       주당 시간별  fnlwgt2  \n",
       "0           4        7  \n",
       "1           1        8  \n",
       "2           4       21  \n",
       "3           4       23  \n",
       "4           4       33  \n",
       "...       ...      ...  \n",
       "32556       3       25  \n",
       "32557       4       15  \n",
       "32558       4       15  \n",
       "32559       2       20  \n",
       "32560       4       28  \n",
       "\n",
       "[30718 rows x 15 columns]"
      ]
     },
     "execution_count": 28,
     "metadata": {},
     "output_type": "execute_result"
    }
   ],
   "source": [
    "human_train"
   ]
  },
  {
   "cell_type": "markdown",
   "metadata": {},
   "source": [
    "# 데이터 나누기"
   ]
  },
  {
   "cell_type": "code",
   "execution_count": 18,
   "metadata": {},
   "outputs": [],
   "source": [
    "htX = human_train.drop([\"아이디\",\"성별\"], axis=1)\n",
    "htY = human_train[\"성별\"]"
   ]
  },
  {
   "cell_type": "code",
   "execution_count": 27,
   "metadata": {},
   "outputs": [],
   "source": [
    "X_train, X_test, Y_train, Y_test = train_test_split(htX, htY, test_size=0.25, random_state=0)"
   ]
  },
  {
   "cell_type": "code",
   "execution_count": 28,
   "metadata": {},
   "outputs": [
    {
     "name": "stdout",
     "output_type": "stream",
     "text": [
      "<class 'pandas.core.frame.DataFrame'>\n",
      "RangeIndex: 32561 entries, 0 to 32560\n",
      "Columns: 110 entries, 노동 계급 to 교육 수\n",
      "dtypes: float64(7), int8(7), uint8(96)\n",
      "memory usage: 4.9 MB\n"
     ]
    }
   ],
   "source": [
    "htX.info()"
   ]
  },
  {
   "cell_type": "markdown",
   "metadata": {},
   "source": [
    "# Normalization"
   ]
  },
  {
   "cell_type": "code",
   "execution_count": 21,
   "metadata": {},
   "outputs": [],
   "source": [
    "htX_x=htX.loc[:,['주당 시간','주당 시간별','나이','나이대','fnlwgt','fnlwgt2','교육 수']]"
   ]
  },
  {
   "cell_type": "code",
   "execution_count": 39,
   "metadata": {},
   "outputs": [
    {
     "data": {
      "text/plain": [
       "MinMaxScaler()"
      ]
     },
     "execution_count": 39,
     "metadata": {},
     "output_type": "execute_result"
    }
   ],
   "source": [
    "scaler = MinMaxScaler()\n",
    "scaler.fit(htX)"
   ]
  },
  {
   "cell_type": "code",
   "execution_count": 40,
   "metadata": {},
   "outputs": [],
   "source": [
    "x = scaler.transform(htX)\n",
    "htX = pd.DataFrame(x, columns = htX.columns)"
   ]
  },
  {
   "cell_type": "code",
   "execution_count": 41,
   "metadata": {},
   "outputs": [
    {
     "data": {
      "text/html": [
       "<div>\n",
       "<style scoped>\n",
       "    .dataframe tbody tr th:only-of-type {\n",
       "        vertical-align: middle;\n",
       "    }\n",
       "\n",
       "    .dataframe tbody tr th {\n",
       "        vertical-align: top;\n",
       "    }\n",
       "\n",
       "    .dataframe thead th {\n",
       "        text-align: right;\n",
       "    }\n",
       "</style>\n",
       "<table border=\"1\" class=\"dataframe\">\n",
       "  <thead>\n",
       "    <tr style=\"text-align: right;\">\n",
       "      <th></th>\n",
       "      <th>count</th>\n",
       "      <th>mean</th>\n",
       "      <th>std</th>\n",
       "      <th>min</th>\n",
       "      <th>25%</th>\n",
       "      <th>50%</th>\n",
       "      <th>75%</th>\n",
       "      <th>max</th>\n",
       "    </tr>\n",
       "  </thead>\n",
       "  <tbody>\n",
       "    <tr>\n",
       "      <th>나이</th>\n",
       "      <td>30718.0</td>\n",
       "      <td>0.403006</td>\n",
       "      <td>0.242956</td>\n",
       "      <td>0.0</td>\n",
       "      <td>0.207547</td>\n",
       "      <td>0.377358</td>\n",
       "      <td>0.566038</td>\n",
       "      <td>1.0</td>\n",
       "    </tr>\n",
       "    <tr>\n",
       "      <th>노동 계급</th>\n",
       "      <td>30718.0</td>\n",
       "      <td>0.366620</td>\n",
       "      <td>0.158823</td>\n",
       "      <td>0.0</td>\n",
       "      <td>0.333333</td>\n",
       "      <td>0.333333</td>\n",
       "      <td>0.333333</td>\n",
       "      <td>1.0</td>\n",
       "    </tr>\n",
       "    <tr>\n",
       "      <th>fnlwgt</th>\n",
       "      <td>30718.0</td>\n",
       "      <td>0.446837</td>\n",
       "      <td>0.242683</td>\n",
       "      <td>0.0</td>\n",
       "      <td>0.269423</td>\n",
       "      <td>0.426553</td>\n",
       "      <td>0.578794</td>\n",
       "      <td>1.0</td>\n",
       "    </tr>\n",
       "    <tr>\n",
       "      <th>학력</th>\n",
       "      <td>30718.0</td>\n",
       "      <td>0.688573</td>\n",
       "      <td>0.253970</td>\n",
       "      <td>0.0</td>\n",
       "      <td>0.600000</td>\n",
       "      <td>0.733333</td>\n",
       "      <td>0.800000</td>\n",
       "      <td>1.0</td>\n",
       "    </tr>\n",
       "    <tr>\n",
       "      <th>교육 수</th>\n",
       "      <td>30718.0</td>\n",
       "      <td>0.608688</td>\n",
       "      <td>0.170831</td>\n",
       "      <td>0.0</td>\n",
       "      <td>0.533333</td>\n",
       "      <td>0.600000</td>\n",
       "      <td>0.800000</td>\n",
       "      <td>1.0</td>\n",
       "    </tr>\n",
       "    <tr>\n",
       "      <th>혼인 상태</th>\n",
       "      <td>30718.0</td>\n",
       "      <td>0.430524</td>\n",
       "      <td>0.249279</td>\n",
       "      <td>0.0</td>\n",
       "      <td>0.333333</td>\n",
       "      <td>0.333333</td>\n",
       "      <td>0.666667</td>\n",
       "      <td>1.0</td>\n",
       "    </tr>\n",
       "    <tr>\n",
       "      <th>직업</th>\n",
       "      <td>30718.0</td>\n",
       "      <td>0.459007</td>\n",
       "      <td>0.309692</td>\n",
       "      <td>0.0</td>\n",
       "      <td>0.153846</td>\n",
       "      <td>0.461538</td>\n",
       "      <td>0.692308</td>\n",
       "      <td>1.0</td>\n",
       "    </tr>\n",
       "    <tr>\n",
       "      <th>관계</th>\n",
       "      <td>30718.0</td>\n",
       "      <td>0.283449</td>\n",
       "      <td>0.320280</td>\n",
       "      <td>0.0</td>\n",
       "      <td>0.000000</td>\n",
       "      <td>0.200000</td>\n",
       "      <td>0.600000</td>\n",
       "      <td>1.0</td>\n",
       "    </tr>\n",
       "    <tr>\n",
       "      <th>인종</th>\n",
       "      <td>30718.0</td>\n",
       "      <td>0.917540</td>\n",
       "      <td>0.211016</td>\n",
       "      <td>0.0</td>\n",
       "      <td>1.000000</td>\n",
       "      <td>1.000000</td>\n",
       "      <td>1.000000</td>\n",
       "      <td>1.0</td>\n",
       "    </tr>\n",
       "    <tr>\n",
       "      <th>주당 시간</th>\n",
       "      <td>30718.0</td>\n",
       "      <td>0.576007</td>\n",
       "      <td>0.163745</td>\n",
       "      <td>0.0</td>\n",
       "      <td>0.565217</td>\n",
       "      <td>0.565217</td>\n",
       "      <td>0.637681</td>\n",
       "      <td>1.0</td>\n",
       "    </tr>\n",
       "    <tr>\n",
       "      <th>모국</th>\n",
       "      <td>30718.0</td>\n",
       "      <td>0.895267</td>\n",
       "      <td>0.191177</td>\n",
       "      <td>0.0</td>\n",
       "      <td>0.951220</td>\n",
       "      <td>0.951220</td>\n",
       "      <td>0.951220</td>\n",
       "      <td>1.0</td>\n",
       "    </tr>\n",
       "    <tr>\n",
       "      <th>나이대</th>\n",
       "      <td>30718.0</td>\n",
       "      <td>0.398735</td>\n",
       "      <td>0.222312</td>\n",
       "      <td>0.0</td>\n",
       "      <td>0.166667</td>\n",
       "      <td>0.333333</td>\n",
       "      <td>0.500000</td>\n",
       "      <td>1.0</td>\n",
       "    </tr>\n",
       "    <tr>\n",
       "      <th>주당 시간별</th>\n",
       "      <td>30718.0</td>\n",
       "      <td>0.560616</td>\n",
       "      <td>0.169951</td>\n",
       "      <td>0.0</td>\n",
       "      <td>0.571429</td>\n",
       "      <td>0.571429</td>\n",
       "      <td>0.571429</td>\n",
       "      <td>1.0</td>\n",
       "    </tr>\n",
       "    <tr>\n",
       "      <th>fnlwgt2</th>\n",
       "      <td>30718.0</td>\n",
       "      <td>0.439761</td>\n",
       "      <td>0.241488</td>\n",
       "      <td>0.0</td>\n",
       "      <td>0.256410</td>\n",
       "      <td>0.410256</td>\n",
       "      <td>0.564103</td>\n",
       "      <td>1.0</td>\n",
       "    </tr>\n",
       "  </tbody>\n",
       "</table>\n",
       "</div>"
      ],
      "text/plain": [
       "           count      mean       std  min       25%       50%       75%  max\n",
       "나이       30718.0  0.403006  0.242956  0.0  0.207547  0.377358  0.566038  1.0\n",
       "노동 계급    30718.0  0.366620  0.158823  0.0  0.333333  0.333333  0.333333  1.0\n",
       "fnlwgt   30718.0  0.446837  0.242683  0.0  0.269423  0.426553  0.578794  1.0\n",
       "학력       30718.0  0.688573  0.253970  0.0  0.600000  0.733333  0.800000  1.0\n",
       "교육 수     30718.0  0.608688  0.170831  0.0  0.533333  0.600000  0.800000  1.0\n",
       "혼인 상태    30718.0  0.430524  0.249279  0.0  0.333333  0.333333  0.666667  1.0\n",
       "직업       30718.0  0.459007  0.309692  0.0  0.153846  0.461538  0.692308  1.0\n",
       "관계       30718.0  0.283449  0.320280  0.0  0.000000  0.200000  0.600000  1.0\n",
       "인종       30718.0  0.917540  0.211016  0.0  1.000000  1.000000  1.000000  1.0\n",
       "주당 시간    30718.0  0.576007  0.163745  0.0  0.565217  0.565217  0.637681  1.0\n",
       "모국       30718.0  0.895267  0.191177  0.0  0.951220  0.951220  0.951220  1.0\n",
       "나이대      30718.0  0.398735  0.222312  0.0  0.166667  0.333333  0.500000  1.0\n",
       "주당 시간별   30718.0  0.560616  0.169951  0.0  0.571429  0.571429  0.571429  1.0\n",
       "fnlwgt2  30718.0  0.439761  0.241488  0.0  0.256410  0.410256  0.564103  1.0"
      ]
     },
     "execution_count": 41,
     "metadata": {},
     "output_type": "execute_result"
    }
   ],
   "source": [
    "htX.describe().T"
   ]
  },
  {
   "cell_type": "markdown",
   "metadata": {},
   "source": [
    "# Standardization"
   ]
  },
  {
   "cell_type": "code",
   "execution_count": 22,
   "metadata": {},
   "outputs": [],
   "source": [
    "scaler = StandardScaler()\n",
    "scaler.fit(htX_x)\n",
    "x = scaler.transform(htX_x)\n",
    "htX_x = pd.DataFrame(x, columns=htX_x.columns)"
   ]
  },
  {
   "cell_type": "code",
   "execution_count": 23,
   "metadata": {},
   "outputs": [
    {
     "data": {
      "text/html": [
       "<div>\n",
       "<style scoped>\n",
       "    .dataframe tbody tr th:only-of-type {\n",
       "        vertical-align: middle;\n",
       "    }\n",
       "\n",
       "    .dataframe tbody tr th {\n",
       "        vertical-align: top;\n",
       "    }\n",
       "\n",
       "    .dataframe thead th {\n",
       "        text-align: right;\n",
       "    }\n",
       "</style>\n",
       "<table border=\"1\" class=\"dataframe\">\n",
       "  <thead>\n",
       "    <tr style=\"text-align: right;\">\n",
       "      <th></th>\n",
       "      <th>count</th>\n",
       "      <th>mean</th>\n",
       "      <th>std</th>\n",
       "      <th>min</th>\n",
       "      <th>25%</th>\n",
       "      <th>50%</th>\n",
       "      <th>75%</th>\n",
       "      <th>max</th>\n",
       "    </tr>\n",
       "  </thead>\n",
       "  <tbody>\n",
       "    <tr>\n",
       "      <th>주당 시간</th>\n",
       "      <td>32561.0</td>\n",
       "      <td>6.573601e-17</td>\n",
       "      <td>1.000015</td>\n",
       "      <td>-3.359764</td>\n",
       "      <td>-0.020038</td>\n",
       "      <td>-0.020038</td>\n",
       "      <td>0.408132</td>\n",
       "      <td>2.548982</td>\n",
       "    </tr>\n",
       "    <tr>\n",
       "      <th>주당 시간별</th>\n",
       "      <td>32561.0</td>\n",
       "      <td>-1.001862e-15</td>\n",
       "      <td>1.000015</td>\n",
       "      <td>-3.143089</td>\n",
       "      <td>0.104347</td>\n",
       "      <td>0.104347</td>\n",
       "      <td>0.104347</td>\n",
       "      <td>2.539923</td>\n",
       "    </tr>\n",
       "    <tr>\n",
       "      <th>나이</th>\n",
       "      <td>32561.0</td>\n",
       "      <td>1.483412e-16</td>\n",
       "      <td>1.000015</td>\n",
       "      <td>-1.608872</td>\n",
       "      <td>-0.784759</td>\n",
       "      <td>-0.110484</td>\n",
       "      <td>0.713629</td>\n",
       "      <td>2.361855</td>\n",
       "    </tr>\n",
       "    <tr>\n",
       "      <th>나이대</th>\n",
       "      <td>32561.0</td>\n",
       "      <td>-6.541727e-16</td>\n",
       "      <td>1.000015</td>\n",
       "      <td>-1.738028</td>\n",
       "      <td>-1.015510</td>\n",
       "      <td>-0.292992</td>\n",
       "      <td>0.429525</td>\n",
       "      <td>2.597079</td>\n",
       "    </tr>\n",
       "    <tr>\n",
       "      <th>fnlwgt</th>\n",
       "      <td>32561.0</td>\n",
       "      <td>-3.104847e-17</td>\n",
       "      <td>1.000015</td>\n",
       "      <td>-1.853962</td>\n",
       "      <td>-0.729408</td>\n",
       "      <td>-0.084470</td>\n",
       "      <td>0.540927</td>\n",
       "      <td>2.277153</td>\n",
       "    </tr>\n",
       "    <tr>\n",
       "      <th>fnlwgt2</th>\n",
       "      <td>32561.0</td>\n",
       "      <td>-7.092116e-18</td>\n",
       "      <td>1.000015</td>\n",
       "      <td>-1.817904</td>\n",
       "      <td>-0.757542</td>\n",
       "      <td>-0.121326</td>\n",
       "      <td>0.514891</td>\n",
       "      <td>2.317506</td>\n",
       "    </tr>\n",
       "    <tr>\n",
       "      <th>교육 수</th>\n",
       "      <td>32561.0</td>\n",
       "      <td>1.262260e-17</td>\n",
       "      <td>1.000015</td>\n",
       "      <td>-2.782715</td>\n",
       "      <td>-0.427466</td>\n",
       "      <td>-0.034925</td>\n",
       "      <td>0.750158</td>\n",
       "      <td>2.320324</td>\n",
       "    </tr>\n",
       "  </tbody>\n",
       "</table>\n",
       "</div>"
      ],
      "text/plain": [
       "           count          mean       std       min       25%       50%  \\\n",
       "주당 시간    32561.0  6.573601e-17  1.000015 -3.359764 -0.020038 -0.020038   \n",
       "주당 시간별   32561.0 -1.001862e-15  1.000015 -3.143089  0.104347  0.104347   \n",
       "나이       32561.0  1.483412e-16  1.000015 -1.608872 -0.784759 -0.110484   \n",
       "나이대      32561.0 -6.541727e-16  1.000015 -1.738028 -1.015510 -0.292992   \n",
       "fnlwgt   32561.0 -3.104847e-17  1.000015 -1.853962 -0.729408 -0.084470   \n",
       "fnlwgt2  32561.0 -7.092116e-18  1.000015 -1.817904 -0.757542 -0.121326   \n",
       "교육 수     32561.0  1.262260e-17  1.000015 -2.782715 -0.427466 -0.034925   \n",
       "\n",
       "              75%       max  \n",
       "주당 시간    0.408132  2.548982  \n",
       "주당 시간별   0.104347  2.539923  \n",
       "나이       0.713629  2.361855  \n",
       "나이대      0.429525  2.597079  \n",
       "fnlwgt   0.540927  2.277153  \n",
       "fnlwgt2  0.514891  2.317506  \n",
       "교육 수     0.750158  2.320324  "
      ]
     },
     "execution_count": 23,
     "metadata": {},
     "output_type": "execute_result"
    }
   ],
   "source": [
    "htX_x.describe().T"
   ]
  },
  {
   "cell_type": "code",
   "execution_count": 24,
   "metadata": {},
   "outputs": [],
   "source": [
    "htX.drop(['주당 시간','주당 시간별','나이','나이대','fnlwgt','fnlwgt2','교육 수'],axis=1,inplace=True)"
   ]
  },
  {
   "cell_type": "code",
   "execution_count": 25,
   "metadata": {},
   "outputs": [],
   "source": [
    "htX = pd.concat([htX,htX_x],axis=1)"
   ]
  },
  {
   "cell_type": "code",
   "execution_count": 26,
   "metadata": {},
   "outputs": [
    {
     "data": {
      "text/html": [
       "<div>\n",
       "<style scoped>\n",
       "    .dataframe tbody tr th:only-of-type {\n",
       "        vertical-align: middle;\n",
       "    }\n",
       "\n",
       "    .dataframe tbody tr th {\n",
       "        vertical-align: top;\n",
       "    }\n",
       "\n",
       "    .dataframe thead th {\n",
       "        text-align: right;\n",
       "    }\n",
       "</style>\n",
       "<table border=\"1\" class=\"dataframe\">\n",
       "  <thead>\n",
       "    <tr style=\"text-align: right;\">\n",
       "      <th></th>\n",
       "      <th>노동 계급</th>\n",
       "      <th>학력</th>\n",
       "      <th>혼인 상태</th>\n",
       "      <th>직업</th>\n",
       "      <th>관계</th>\n",
       "      <th>인종</th>\n",
       "      <th>모국</th>\n",
       "      <th>Federal-gov</th>\n",
       "      <th>Local-gov</th>\n",
       "      <th>Never-worked</th>\n",
       "      <th>...</th>\n",
       "      <th>United-States</th>\n",
       "      <th>Vietnam</th>\n",
       "      <th>Yugoslavia</th>\n",
       "      <th>주당 시간</th>\n",
       "      <th>주당 시간별</th>\n",
       "      <th>나이</th>\n",
       "      <th>나이대</th>\n",
       "      <th>fnlwgt</th>\n",
       "      <th>fnlwgt2</th>\n",
       "      <th>교육 수</th>\n",
       "    </tr>\n",
       "  </thead>\n",
       "  <tbody>\n",
       "    <tr>\n",
       "      <th>0</th>\n",
       "      <td>6</td>\n",
       "      <td>9</td>\n",
       "      <td>4</td>\n",
       "      <td>0</td>\n",
       "      <td>1</td>\n",
       "      <td>4</td>\n",
       "      <td>38</td>\n",
       "      <td>0</td>\n",
       "      <td>0</td>\n",
       "      <td>0</td>\n",
       "      <td>...</td>\n",
       "      <td>1</td>\n",
       "      <td>0</td>\n",
       "      <td>0</td>\n",
       "      <td>-0.020038</td>\n",
       "      <td>0.104347</td>\n",
       "      <td>0.039354</td>\n",
       "      <td>-0.292992</td>\n",
       "      <td>-1.158923</td>\n",
       "      <td>-1.181687</td>\n",
       "      <td>1.142699</td>\n",
       "    </tr>\n",
       "    <tr>\n",
       "      <th>1</th>\n",
       "      <td>5</td>\n",
       "      <td>9</td>\n",
       "      <td>2</td>\n",
       "      <td>3</td>\n",
       "      <td>0</td>\n",
       "      <td>4</td>\n",
       "      <td>38</td>\n",
       "      <td>0</td>\n",
       "      <td>0</td>\n",
       "      <td>0</td>\n",
       "      <td>...</td>\n",
       "      <td>1</td>\n",
       "      <td>0</td>\n",
       "      <td>0</td>\n",
       "      <td>-2.332156</td>\n",
       "      <td>-2.331230</td>\n",
       "      <td>0.863468</td>\n",
       "      <td>1.152043</td>\n",
       "      <td>-1.097177</td>\n",
       "      <td>-1.075651</td>\n",
       "      <td>1.142699</td>\n",
       "    </tr>\n",
       "    <tr>\n",
       "      <th>2</th>\n",
       "      <td>3</td>\n",
       "      <td>11</td>\n",
       "      <td>0</td>\n",
       "      <td>5</td>\n",
       "      <td>1</td>\n",
       "      <td>4</td>\n",
       "      <td>38</td>\n",
       "      <td>0</td>\n",
       "      <td>0</td>\n",
       "      <td>0</td>\n",
       "      <td>...</td>\n",
       "      <td>1</td>\n",
       "      <td>0</td>\n",
       "      <td>0</td>\n",
       "      <td>-0.020038</td>\n",
       "      <td>0.104347</td>\n",
       "      <td>-0.035565</td>\n",
       "      <td>-0.292992</td>\n",
       "      <td>0.312856</td>\n",
       "      <td>0.302819</td>\n",
       "      <td>-0.427466</td>\n",
       "    </tr>\n",
       "    <tr>\n",
       "      <th>3</th>\n",
       "      <td>3</td>\n",
       "      <td>1</td>\n",
       "      <td>2</td>\n",
       "      <td>5</td>\n",
       "      <td>0</td>\n",
       "      <td>2</td>\n",
       "      <td>38</td>\n",
       "      <td>0</td>\n",
       "      <td>0</td>\n",
       "      <td>0</td>\n",
       "      <td>...</td>\n",
       "      <td>1</td>\n",
       "      <td>0</td>\n",
       "      <td>0</td>\n",
       "      <td>-0.020038</td>\n",
       "      <td>0.104347</td>\n",
       "      <td>1.088226</td>\n",
       "      <td>1.152043</td>\n",
       "      <td>0.516101</td>\n",
       "      <td>0.514891</td>\n",
       "      <td>-1.212549</td>\n",
       "    </tr>\n",
       "    <tr>\n",
       "      <th>4</th>\n",
       "      <td>3</td>\n",
       "      <td>9</td>\n",
       "      <td>2</td>\n",
       "      <td>9</td>\n",
       "      <td>5</td>\n",
       "      <td>2</td>\n",
       "      <td>4</td>\n",
       "      <td>0</td>\n",
       "      <td>0</td>\n",
       "      <td>0</td>\n",
       "      <td>...</td>\n",
       "      <td>0</td>\n",
       "      <td>0</td>\n",
       "      <td>0</td>\n",
       "      <td>-0.020038</td>\n",
       "      <td>0.104347</td>\n",
       "      <td>-0.784759</td>\n",
       "      <td>-1.015510</td>\n",
       "      <td>1.620899</td>\n",
       "      <td>1.575253</td>\n",
       "      <td>1.142699</td>\n",
       "    </tr>\n",
       "    <tr>\n",
       "      <th>...</th>\n",
       "      <td>...</td>\n",
       "      <td>...</td>\n",
       "      <td>...</td>\n",
       "      <td>...</td>\n",
       "      <td>...</td>\n",
       "      <td>...</td>\n",
       "      <td>...</td>\n",
       "      <td>...</td>\n",
       "      <td>...</td>\n",
       "      <td>...</td>\n",
       "      <td>...</td>\n",
       "      <td>...</td>\n",
       "      <td>...</td>\n",
       "      <td>...</td>\n",
       "      <td>...</td>\n",
       "      <td>...</td>\n",
       "      <td>...</td>\n",
       "      <td>...</td>\n",
       "      <td>...</td>\n",
       "      <td>...</td>\n",
       "      <td>...</td>\n",
       "    </tr>\n",
       "    <tr>\n",
       "      <th>32556</th>\n",
       "      <td>3</td>\n",
       "      <td>7</td>\n",
       "      <td>2</td>\n",
       "      <td>12</td>\n",
       "      <td>5</td>\n",
       "      <td>4</td>\n",
       "      <td>38</td>\n",
       "      <td>0</td>\n",
       "      <td>0</td>\n",
       "      <td>0</td>\n",
       "      <td>...</td>\n",
       "      <td>1</td>\n",
       "      <td>0</td>\n",
       "      <td>0</td>\n",
       "      <td>-0.191306</td>\n",
       "      <td>-0.707512</td>\n",
       "      <td>-0.859678</td>\n",
       "      <td>-1.015510</td>\n",
       "      <td>0.756702</td>\n",
       "      <td>0.726964</td>\n",
       "      <td>0.750158</td>\n",
       "    </tr>\n",
       "    <tr>\n",
       "      <th>32557</th>\n",
       "      <td>3</td>\n",
       "      <td>11</td>\n",
       "      <td>2</td>\n",
       "      <td>6</td>\n",
       "      <td>0</td>\n",
       "      <td>4</td>\n",
       "      <td>38</td>\n",
       "      <td>0</td>\n",
       "      <td>0</td>\n",
       "      <td>0</td>\n",
       "      <td>...</td>\n",
       "      <td>1</td>\n",
       "      <td>0</td>\n",
       "      <td>0</td>\n",
       "      <td>-0.020038</td>\n",
       "      <td>0.104347</td>\n",
       "      <td>0.114274</td>\n",
       "      <td>0.429525</td>\n",
       "      <td>-0.339999</td>\n",
       "      <td>-0.333398</td>\n",
       "      <td>-0.427466</td>\n",
       "    </tr>\n",
       "    <tr>\n",
       "      <th>32558</th>\n",
       "      <td>3</td>\n",
       "      <td>11</td>\n",
       "      <td>6</td>\n",
       "      <td>0</td>\n",
       "      <td>4</td>\n",
       "      <td>4</td>\n",
       "      <td>38</td>\n",
       "      <td>0</td>\n",
       "      <td>0</td>\n",
       "      <td>0</td>\n",
       "      <td>...</td>\n",
       "      <td>1</td>\n",
       "      <td>0</td>\n",
       "      <td>0</td>\n",
       "      <td>-0.020038</td>\n",
       "      <td>0.104347</td>\n",
       "      <td>1.462823</td>\n",
       "      <td>1.152043</td>\n",
       "      <td>-0.366253</td>\n",
       "      <td>-0.333398</td>\n",
       "      <td>-0.427466</td>\n",
       "    </tr>\n",
       "    <tr>\n",
       "      <th>32559</th>\n",
       "      <td>3</td>\n",
       "      <td>11</td>\n",
       "      <td>4</td>\n",
       "      <td>0</td>\n",
       "      <td>3</td>\n",
       "      <td>4</td>\n",
       "      <td>38</td>\n",
       "      <td>0</td>\n",
       "      <td>0</td>\n",
       "      <td>0</td>\n",
       "      <td>...</td>\n",
       "      <td>1</td>\n",
       "      <td>0</td>\n",
       "      <td>0</td>\n",
       "      <td>-1.732718</td>\n",
       "      <td>-1.519371</td>\n",
       "      <td>-1.234275</td>\n",
       "      <td>-1.015510</td>\n",
       "      <td>0.162023</td>\n",
       "      <td>0.196783</td>\n",
       "      <td>-0.427466</td>\n",
       "    </tr>\n",
       "    <tr>\n",
       "      <th>32560</th>\n",
       "      <td>4</td>\n",
       "      <td>11</td>\n",
       "      <td>2</td>\n",
       "      <td>3</td>\n",
       "      <td>5</td>\n",
       "      <td>4</td>\n",
       "      <td>38</td>\n",
       "      <td>0</td>\n",
       "      <td>0</td>\n",
       "      <td>0</td>\n",
       "      <td>...</td>\n",
       "      <td>1</td>\n",
       "      <td>0</td>\n",
       "      <td>0</td>\n",
       "      <td>-0.020038</td>\n",
       "      <td>0.104347</td>\n",
       "      <td>1.013306</td>\n",
       "      <td>1.152043</td>\n",
       "      <td>1.083012</td>\n",
       "      <td>1.045072</td>\n",
       "      <td>-0.427466</td>\n",
       "    </tr>\n",
       "  </tbody>\n",
       "</table>\n",
       "<p>32561 rows × 110 columns</p>\n",
       "</div>"
      ],
      "text/plain": [
       "       노동 계급  학력  혼인 상태  직업  관계  인종  모국   Federal-gov   Local-gov  \\\n",
       "0          6   9      4   0   1   4  38             0           0   \n",
       "1          5   9      2   3   0   4  38             0           0   \n",
       "2          3  11      0   5   1   4  38             0           0   \n",
       "3          3   1      2   5   0   2  38             0           0   \n",
       "4          3   9      2   9   5   2   4             0           0   \n",
       "...      ...  ..    ...  ..  ..  ..  ..           ...         ...   \n",
       "32556      3   7      2  12   5   4  38             0           0   \n",
       "32557      3  11      2   6   0   4  38             0           0   \n",
       "32558      3  11      6   0   4   4  38             0           0   \n",
       "32559      3  11      4   0   3   4  38             0           0   \n",
       "32560      4  11      2   3   5   4  38             0           0   \n",
       "\n",
       "        Never-worked  ...   United-States   Vietnam   Yugoslavia     주당 시간  \\\n",
       "0                  0  ...               1         0            0 -0.020038   \n",
       "1                  0  ...               1         0            0 -2.332156   \n",
       "2                  0  ...               1         0            0 -0.020038   \n",
       "3                  0  ...               1         0            0 -0.020038   \n",
       "4                  0  ...               0         0            0 -0.020038   \n",
       "...              ...  ...             ...       ...          ...       ...   \n",
       "32556              0  ...               1         0            0 -0.191306   \n",
       "32557              0  ...               1         0            0 -0.020038   \n",
       "32558              0  ...               1         0            0 -0.020038   \n",
       "32559              0  ...               1         0            0 -1.732718   \n",
       "32560              0  ...               1         0            0 -0.020038   \n",
       "\n",
       "         주당 시간별        나이       나이대    fnlwgt   fnlwgt2      교육 수  \n",
       "0      0.104347  0.039354 -0.292992 -1.158923 -1.181687  1.142699  \n",
       "1     -2.331230  0.863468  1.152043 -1.097177 -1.075651  1.142699  \n",
       "2      0.104347 -0.035565 -0.292992  0.312856  0.302819 -0.427466  \n",
       "3      0.104347  1.088226  1.152043  0.516101  0.514891 -1.212549  \n",
       "4      0.104347 -0.784759 -1.015510  1.620899  1.575253  1.142699  \n",
       "...         ...       ...       ...       ...       ...       ...  \n",
       "32556 -0.707512 -0.859678 -1.015510  0.756702  0.726964  0.750158  \n",
       "32557  0.104347  0.114274  0.429525 -0.339999 -0.333398 -0.427466  \n",
       "32558  0.104347  1.462823  1.152043 -0.366253 -0.333398 -0.427466  \n",
       "32559 -1.519371 -1.234275 -1.015510  0.162023  0.196783 -0.427466  \n",
       "32560  0.104347  1.013306  1.152043  1.083012  1.045072 -0.427466  \n",
       "\n",
       "[32561 rows x 110 columns]"
      ]
     },
     "execution_count": 26,
     "metadata": {},
     "output_type": "execute_result"
    }
   ],
   "source": [
    "htX"
   ]
  },
  {
   "cell_type": "markdown",
   "metadata": {},
   "source": [
    "# 샘플링"
   ]
  },
  {
   "cell_type": "markdown",
   "metadata": {},
   "source": [
    "### 통합 샘플링"
   ]
  },
  {
   "cell_type": "code",
   "execution_count": 29,
   "metadata": {},
   "outputs": [
    {
     "name": "stdout",
     "output_type": "stream",
     "text": [
      "              precision    recall  f1-score   support\n",
      "\n",
      "           0       0.77      0.68      0.72      2701\n",
      "           1       0.85      0.90      0.87      5440\n",
      "\n",
      "    accuracy                           0.83      8141\n",
      "   macro avg       0.81      0.79      0.80      8141\n",
      "weighted avg       0.82      0.83      0.82      8141\n",
      "\n"
     ]
    }
   ],
   "source": [
    "tree3 = DecisionTreeClassifier(max_depth=10, random_state=0)\n",
    "tree3.fit(X_train, Y_train)\n",
    "pred_tree3 = tree3.predict(X_test);\n",
    "\n",
    "print(classification_report(Y_test, pred_tree3))"
   ]
  },
  {
   "cell_type": "code",
   "execution_count": 30,
   "metadata": {},
   "outputs": [],
   "source": [
    "htX, htY = SMOTETomek(random_state=0).fit_sample(X_train, Y_train)"
   ]
  },
  {
   "cell_type": "code",
   "execution_count": 31,
   "metadata": {},
   "outputs": [
    {
     "name": "stdout",
     "output_type": "stream",
     "text": [
      "              precision    recall  f1-score   support\n",
      "\n",
      "           0       0.69      0.83      0.75      2701\n",
      "           1       0.91      0.81      0.86      5440\n",
      "\n",
      "    accuracy                           0.82      8141\n",
      "   macro avg       0.80      0.82      0.80      8141\n",
      "weighted avg       0.83      0.82      0.82      8141\n",
      "\n"
     ]
    }
   ],
   "source": [
    "tree3 = DecisionTreeClassifier(max_depth=20, random_state=0)\n",
    "tree3.fit(htX, htY)\n",
    "pred_tree3 = tree3.predict(X_test)\n",
    "\n",
    "print(classification_report(Y_test, pred_tree3))\n",
    "\n",
    "# (precision) 0 이라고 예측한 데이터의 74%만 실제로 0\n",
    "# (precision) 1 이라고 예측한 데이터의 33%만 실제로 1\n",
    "# (recall) 실제 0인 데이터중 56%만 0으로 판별됨 \n",
    "# (recall) 실제 1인 데이타중 52%만 1로 판별됨"
   ]
  },
  {
   "cell_type": "markdown",
   "metadata": {},
   "source": [
    "### 언더 샘플링 / 오버 샘플링"
   ]
  },
  {
   "cell_type": "code",
   "execution_count": 32,
   "metadata": {},
   "outputs": [
    {
     "name": "stdout",
     "output_type": "stream",
     "text": [
      "15765 15765\n"
     ]
    }
   ],
   "source": [
    "aX = np.array(htX)\n",
    "aY = np.array(htY)\n",
    "print(np.sum(aY == 1), np.sum(aY == 0))"
   ]
  },
  {
   "cell_type": "code",
   "execution_count": 29,
   "metadata": {},
   "outputs": [],
   "source": [
    "#sampler = RandomUnderSampler(random_state=1)\n",
    "sampler = RandomOverSampler(random_state=1)\n",
    "aX, aY = sampler.fit_resample(aX, aY)"
   ]
  },
  {
   "cell_type": "code",
   "execution_count": 33,
   "metadata": {},
   "outputs": [
    {
     "name": "stdout",
     "output_type": "stream",
     "text": [
      "15765 15765\n"
     ]
    }
   ],
   "source": [
    "print(np.sum(aY == 1), np.sum(aY == 0))"
   ]
  },
  {
   "cell_type": "markdown",
   "metadata": {},
   "source": [
    "# Cross-Validation"
   ]
  },
  {
   "cell_type": "code",
   "execution_count": 34,
   "metadata": {},
   "outputs": [],
   "source": [
    "#model = KNeighborsClassifier()\n",
    "model = LogisticRegression()\n",
    "#model = DecisionTreeClassifier()\n",
    "# kf = StratifiedKFold(n_splits=10, shuffle=True)"
   ]
  },
  {
   "cell_type": "code",
   "execution_count": 35,
   "metadata": {},
   "outputs": [
    {
     "name": "stderr",
     "output_type": "stream",
     "text": [
      "C:\\Users\\020\\anaconda3\\lib\\site-packages\\sklearn\\linear_model\\_logistic.py:762: ConvergenceWarning: lbfgs failed to converge (status=1):\n",
      "STOP: TOTAL NO. of ITERATIONS REACHED LIMIT.\n",
      "\n",
      "Increase the number of iterations (max_iter) or scale the data as shown in:\n",
      "    https://scikit-learn.org/stable/modules/preprocessing.html\n",
      "Please also refer to the documentation for alternative solver options:\n",
      "    https://scikit-learn.org/stable/modules/linear_model.html#logistic-regression\n",
      "  n_iter_i = _check_optimize_result(\n",
      "C:\\Users\\020\\anaconda3\\lib\\site-packages\\sklearn\\linear_model\\_logistic.py:762: ConvergenceWarning: lbfgs failed to converge (status=1):\n",
      "STOP: TOTAL NO. of ITERATIONS REACHED LIMIT.\n",
      "\n",
      "Increase the number of iterations (max_iter) or scale the data as shown in:\n",
      "    https://scikit-learn.org/stable/modules/preprocessing.html\n",
      "Please also refer to the documentation for alternative solver options:\n",
      "    https://scikit-learn.org/stable/modules/linear_model.html#logistic-regression\n",
      "  n_iter_i = _check_optimize_result(\n",
      "C:\\Users\\020\\anaconda3\\lib\\site-packages\\sklearn\\linear_model\\_logistic.py:762: ConvergenceWarning: lbfgs failed to converge (status=1):\n",
      "STOP: TOTAL NO. of ITERATIONS REACHED LIMIT.\n",
      "\n",
      "Increase the number of iterations (max_iter) or scale the data as shown in:\n",
      "    https://scikit-learn.org/stable/modules/preprocessing.html\n",
      "Please also refer to the documentation for alternative solver options:\n",
      "    https://scikit-learn.org/stable/modules/linear_model.html#logistic-regression\n",
      "  n_iter_i = _check_optimize_result(\n",
      "C:\\Users\\020\\anaconda3\\lib\\site-packages\\sklearn\\linear_model\\_logistic.py:762: ConvergenceWarning: lbfgs failed to converge (status=1):\n",
      "STOP: TOTAL NO. of ITERATIONS REACHED LIMIT.\n",
      "\n",
      "Increase the number of iterations (max_iter) or scale the data as shown in:\n",
      "    https://scikit-learn.org/stable/modules/preprocessing.html\n",
      "Please also refer to the documentation for alternative solver options:\n",
      "    https://scikit-learn.org/stable/modules/linear_model.html#logistic-regression\n",
      "  n_iter_i = _check_optimize_result(\n",
      "C:\\Users\\020\\anaconda3\\lib\\site-packages\\sklearn\\linear_model\\_logistic.py:762: ConvergenceWarning: lbfgs failed to converge (status=1):\n",
      "STOP: TOTAL NO. of ITERATIONS REACHED LIMIT.\n",
      "\n",
      "Increase the number of iterations (max_iter) or scale the data as shown in:\n",
      "    https://scikit-learn.org/stable/modules/preprocessing.html\n",
      "Please also refer to the documentation for alternative solver options:\n",
      "    https://scikit-learn.org/stable/modules/linear_model.html#logistic-regression\n",
      "  n_iter_i = _check_optimize_result(\n"
     ]
    },
    {
     "data": {
      "text/plain": [
       "array([0.86885506, 0.86045036, 0.88249286, 0.88471297, 0.88043134])"
      ]
     },
     "execution_count": 35,
     "metadata": {},
     "output_type": "execute_result"
    }
   ],
   "source": [
    "scores = cross_val_score(model, htX, htY)\n",
    "scores"
   ]
  },
  {
   "cell_type": "code",
   "execution_count": 36,
   "metadata": {},
   "outputs": [
    {
     "name": "stdout",
     "output_type": "stream",
     "text": [
      "Mean: 0.875\n",
      "Std: 0.009\n",
      "Min: 0.860\n",
      "Max: 0.885\n"
     ]
    }
   ],
   "source": [
    "print(\"Mean: {:.3f}\\nStd: {:.3f}\\nMin: {:.3f}\\nMax: {:.3f}\".format(\n",
    "    scores.mean(), scores.std(), scores.min(), scores.max()))"
   ]
  },
  {
   "cell_type": "markdown",
   "metadata": {},
   "source": [
    "# K-Fold 교차검증"
   ]
  },
  {
   "cell_type": "code",
   "execution_count": 37,
   "metadata": {},
   "outputs": [
    {
     "data": {
      "text/plain": [
       "KFold(n_splits=10, random_state=None, shuffle=True)"
      ]
     },
     "execution_count": 37,
     "metadata": {},
     "output_type": "execute_result"
    }
   ],
   "source": [
    "kf = KFold(n_splits=10, shuffle=True)\n",
    "# kf = LeaveOneOut()\n",
    "kf"
   ]
  },
  {
   "cell_type": "code",
   "execution_count": 38,
   "metadata": {},
   "outputs": [
    {
     "name": "stdout",
     "output_type": "stream",
     "text": [
      "0.8658103393593404 0.00525459553987067 0.8756739613066921 0.8560101490643831\n",
      "0.8669527896995708\n",
      "0.8685503685503686\n"
     ]
    }
   ],
   "source": [
    "scores = []\n",
    "\n",
    "for train_id, test_id in kf.split(aX):\n",
    "    x = aX[train_id]\n",
    "    y = aY[train_id]\n",
    "    clf = tree.DecisionTreeClassifier()\n",
    "    clf.fit(x,y)\n",
    "    pred_y = clf.predict(aX[test_id])\n",
    "    score = accuracy_score(aY[test_id], pred_y)\n",
    "    scores.append(score)\n",
    "\n",
    "scores = np.array(scores)\n",
    "print(scores.mean(), scores.std(), scores.max(), scores.min())\n",
    "print(recall_score(aY[test_id], pred_y))\n",
    "print(precision_score(aY[test_id], pred_y))"
   ]
  },
  {
   "cell_type": "code",
   "execution_count": 44,
   "metadata": {},
   "outputs": [],
   "source": [
    "# params = {\n",
    "#     'criterion': ['entropy'],    \n",
    "#     'max_depth': [2, 4, 6, 8, 10],\n",
    "#     'min_samples_leaf': [10, 20, 30, 40, 50],\n",
    "# }\n",
    "\n",
    "params = {\n",
    "#      'learning_rate': [0.05]\n",
    "#      ,'nestimators': [1000]\n",
    "#      ,'max_depth': [10, 15, 20]\n",
    "#     ,'num_leaves' : [100,500,1000]\n",
    "#     ,'objective' : ['binary','mae','mse']\n",
    "#     ,'boosting' : ['gbdt','dart','goss']\n",
    "    'eta':[0.01,0.1,0.2]\n",
    "#     ,'nrounds':[100,500,1000]\n",
    "     ,'max_depth':[6,10]\n",
    "#     ,'max_leaves' : [100,500,1000] \n",
    "#     ,'booster' : ['gblinear','gbtree','dart']\n",
    "    ,'objective': ['binary:logistic']\n",
    "     ,'eval_metric':['logloss']\n",
    "    \n",
    "}"
   ]
  },
  {
   "cell_type": "code",
   "execution_count": 45,
   "metadata": {},
   "outputs": [],
   "source": [
    "lgbm_wrapper = LGBMClassifier()\n",
    "xgbb =XGBClassifier()"
   ]
  },
  {
   "cell_type": "code",
   "execution_count": 46,
   "metadata": {},
   "outputs": [],
   "source": [
    "# clf_gs = GridSearchCV(tree.DecisionTreeClassifier(), params, \n",
    "#                 cv=KFold(n_splits=10, shuffle=True), scoring='accuracy')\n",
    "clf_gs = GridSearchCV(estimator=xgbb, param_grid=params, \n",
    "                cv=KFold(n_splits=10, shuffle=True), scoring='accuracy')"
   ]
  },
  {
   "cell_type": "code",
   "execution_count": 47,
   "metadata": {},
   "outputs": [
    {
     "data": {
      "text/plain": [
       "GridSearchCV(cv=KFold(n_splits=10, random_state=None, shuffle=True),\n",
       "             estimator=XGBClassifier(base_score=None, booster=None,\n",
       "                                     colsample_bylevel=None,\n",
       "                                     colsample_bynode=None,\n",
       "                                     colsample_bytree=None, gamma=None,\n",
       "                                     gpu_id=None, importance_type='gain',\n",
       "                                     interaction_constraints=None,\n",
       "                                     learning_rate=None, max_delta_step=None,\n",
       "                                     max_depth=None, min_child_weight=None,\n",
       "                                     missing=nan, monotone_constraints=None,\n",
       "                                     n_estimators=100, n_jobs=None,\n",
       "                                     num_parallel_tree=None, random_state=None,\n",
       "                                     reg_alpha=None, reg_lambda=None,\n",
       "                                     scale_pos_weight=None, subsample=None,\n",
       "                                     tree_method=None, validate_parameters=None,\n",
       "                                     verbosity=None),\n",
       "             param_grid={'eta': [0.01, 0.1, 0.2], 'eval_metric': ['logloss'],\n",
       "                         'max_depth': [6, 10],\n",
       "                         'objective': ['binary:logistic']},\n",
       "             scoring='accuracy')"
      ]
     },
     "execution_count": 47,
     "metadata": {},
     "output_type": "execute_result"
    }
   ],
   "source": [
    "clf_gs.fit(htX, htY)"
   ]
  },
  {
   "cell_type": "code",
   "execution_count": 48,
   "metadata": {},
   "outputs": [
    {
     "name": "stdout",
     "output_type": "stream",
     "text": [
      "0.9029178560101491\n",
      "{'eta': 0.2, 'eval_metric': 'logloss', 'max_depth': 10, 'objective': 'binary:logistic'}\n"
     ]
    }
   ],
   "source": [
    "print(clf_gs.best_score_)\n",
    "print(clf_gs.best_params_)"
   ]
  },
  {
   "cell_type": "code",
   "execution_count": 49,
   "metadata": {},
   "outputs": [
    {
     "data": {
      "text/plain": [
       "0.8775769108785284"
      ]
     },
     "execution_count": 49,
     "metadata": {},
     "output_type": "execute_result"
    }
   ],
   "source": [
    "tree1 = DecisionTreeClassifier(max_depth=10, min_samples_leaf=30, random_state=0)\n",
    "tree1.fit(aX, aY).score(aX[test_id], aY[test_id])"
   ]
  },
  {
   "cell_type": "code",
   "execution_count": 50,
   "metadata": {},
   "outputs": [
    {
     "name": "stdout",
     "output_type": "stream",
     "text": [
      "1    5440\n",
      "0    2701\n",
      "Name: 성별, dtype: int64\n"
     ]
    },
    {
     "data": {
      "text/plain": [
       "0.3317774229210171"
      ]
     },
     "execution_count": 50,
     "metadata": {},
     "output_type": "execute_result"
    }
   ],
   "source": [
    "print(Y_test.value_counts())\n",
    "dummy=DummyClassifier(strategy='most_frequent').fit(aX, aY)\n",
    "dummy.score(X_test, Y_test)"
   ]
  },
  {
   "cell_type": "code",
   "execution_count": 48,
   "metadata": {},
   "outputs": [
    {
     "data": {
      "text/plain": [
       "SVC(random_state=0)"
      ]
     },
     "execution_count": 48,
     "metadata": {},
     "output_type": "execute_result"
    }
   ],
   "source": [
    "svm = SVC(random_state=0)\n",
    "svm.fit(htX, htY)"
   ]
  },
  {
   "cell_type": "code",
   "execution_count": 49,
   "metadata": {},
   "outputs": [
    {
     "name": "stderr",
     "output_type": "stream",
     "text": [
      "C:\\Users\\020\\anaconda3\\lib\\site-packages\\sklearn\\neural_network\\_multilayer_perceptron.py:582: ConvergenceWarning: Stochastic Optimizer: Maximum iterations (200) reached and the optimization hasn't converged yet.\n",
      "  warnings.warn(\n"
     ]
    },
    {
     "data": {
      "text/plain": [
       "MLPClassifier()"
      ]
     },
     "execution_count": 49,
     "metadata": {},
     "output_type": "execute_result"
    }
   ],
   "source": [
    "mlp=MLPClassifier()\n",
    "mlp.fit(htX, htY)"
   ]
  },
  {
   "cell_type": "code",
   "execution_count": 50,
   "metadata": {},
   "outputs": [
    {
     "data": {
      "text/plain": [
       "0.8444338725023787"
      ]
     },
     "metadata": {},
     "output_type": "display_data"
    },
    {
     "data": {
      "text/plain": [
       "0.7733693649428817"
      ]
     },
     "metadata": {},
     "output_type": "display_data"
    }
   ],
   "source": [
    "display(svm.score(htX, htY))\n",
    "display(svm.score(X_test, Y_test))"
   ]
  },
  {
   "cell_type": "code",
   "execution_count": 51,
   "metadata": {},
   "outputs": [
    {
     "data": {
      "text/plain": [
       "0.9244211861718997"
      ]
     },
     "metadata": {},
     "output_type": "display_data"
    },
    {
     "data": {
      "text/plain": [
       "0.8334356958604594"
      ]
     },
     "metadata": {},
     "output_type": "display_data"
    }
   ],
   "source": [
    "display(mlp.score(htX, htY))\n",
    "display(mlp.score(X_test, Y_test))"
   ]
  },
  {
   "cell_type": "markdown",
   "metadata": {},
   "source": [
    "# xgboost"
   ]
  },
  {
   "cell_type": "code",
   "execution_count": 50,
   "metadata": {},
   "outputs": [],
   "source": [
    "dtrain = xgb.DMatrix(data=htX, label=htY)\n",
    "dtest = xgb.DMatrix(data=X_test, label=Y_test)"
   ]
  },
  {
   "cell_type": "code",
   "execution_count": 51,
   "metadata": {},
   "outputs": [],
   "source": [
    "params = {'max_depth':3,\n",
    "          'eta':0.1,\n",
    "          'objective':'binary:logistic',\n",
    "          'eval_metric':'logloss',\n",
    "          'early_stoppings':100\n",
    "         }\n",
    "num_rounds = 400"
   ]
  },
  {
   "cell_type": "code",
   "execution_count": 52,
   "metadata": {},
   "outputs": [
    {
     "name": "stdout",
     "output_type": "stream",
     "text": [
      "[17:28:36] WARNING: C:/Users/Administrator/workspace/xgboost-win64_release_1.3.0/src/learner.cc:541: \n",
      "Parameters: { early_stoppings } might not be used.\n",
      "\n",
      "  This may not be accurate due to some parameters are only used in language bindings but\n",
      "  passed down to XGBoost core.  Or some parameters are not used but slip through this\n",
      "  verification. Please open an issue if you find above cases.\n",
      "\n",
      "\n",
      "[0]\ttrain-logloss:0.64133\teval-logloss:0.64401\n",
      "[1]\ttrain-logloss:0.59900\teval-logloss:0.60445\n",
      "[2]\ttrain-logloss:0.56360\teval-logloss:0.57259\n",
      "[3]\ttrain-logloss:0.53378\teval-logloss:0.54546\n",
      "[4]\ttrain-logloss:0.50853\teval-logloss:0.52248\n",
      "[5]\ttrain-logloss:0.48669\teval-logloss:0.50310\n",
      "[6]\ttrain-logloss:0.46742\teval-logloss:0.48628\n",
      "[7]\ttrain-logloss:0.45052\teval-logloss:0.47184\n",
      "[8]\ttrain-logloss:0.43564\teval-logloss:0.45897\n",
      "[9]\ttrain-logloss:0.42262\teval-logloss:0.44773\n",
      "[10]\ttrain-logloss:0.41093\teval-logloss:0.43747\n",
      "[11]\ttrain-logloss:0.40044\teval-logloss:0.42912\n",
      "[12]\ttrain-logloss:0.39114\teval-logloss:0.42120\n",
      "[13]\ttrain-logloss:0.38254\teval-logloss:0.41475\n",
      "[14]\ttrain-logloss:0.37487\teval-logloss:0.40814\n",
      "[15]\ttrain-logloss:0.36795\teval-logloss:0.40218\n",
      "[16]\ttrain-logloss:0.36173\teval-logloss:0.39681\n",
      "[17]\ttrain-logloss:0.35611\teval-logloss:0.39254\n",
      "[18]\ttrain-logloss:0.35094\teval-logloss:0.38826\n",
      "[19]\ttrain-logloss:0.34612\teval-logloss:0.38424\n",
      "[20]\ttrain-logloss:0.34172\teval-logloss:0.38053\n",
      "[21]\ttrain-logloss:0.33774\teval-logloss:0.37722\n",
      "[22]\ttrain-logloss:0.33413\teval-logloss:0.37379\n",
      "[23]\ttrain-logloss:0.33071\teval-logloss:0.37106\n",
      "[24]\ttrain-logloss:0.32757\teval-logloss:0.36827\n",
      "[25]\ttrain-logloss:0.32461\teval-logloss:0.36630\n",
      "[26]\ttrain-logloss:0.32190\teval-logloss:0.36441\n",
      "[27]\ttrain-logloss:0.31939\teval-logloss:0.36231\n",
      "[28]\ttrain-logloss:0.31699\teval-logloss:0.36016\n",
      "[29]\ttrain-logloss:0.31481\teval-logloss:0.35821\n",
      "[30]\ttrain-logloss:0.31285\teval-logloss:0.35691\n",
      "[31]\ttrain-logloss:0.31105\teval-logloss:0.35544\n",
      "[32]\ttrain-logloss:0.30929\teval-logloss:0.35406\n",
      "[33]\ttrain-logloss:0.30738\teval-logloss:0.35216\n",
      "[34]\ttrain-logloss:0.30495\teval-logloss:0.35007\n",
      "[35]\ttrain-logloss:0.30344\teval-logloss:0.34903\n",
      "[36]\ttrain-logloss:0.30174\teval-logloss:0.34805\n",
      "[37]\ttrain-logloss:0.30012\teval-logloss:0.34630\n",
      "[38]\ttrain-logloss:0.29880\teval-logloss:0.34530\n",
      "[39]\ttrain-logloss:0.29691\teval-logloss:0.34373\n",
      "[40]\ttrain-logloss:0.29576\teval-logloss:0.34271\n",
      "[41]\ttrain-logloss:0.29445\teval-logloss:0.34180\n",
      "[42]\ttrain-logloss:0.29312\teval-logloss:0.34101\n",
      "[43]\ttrain-logloss:0.29206\teval-logloss:0.34009\n",
      "[44]\ttrain-logloss:0.29098\teval-logloss:0.33944\n",
      "[45]\ttrain-logloss:0.28954\teval-logloss:0.33883\n",
      "[46]\ttrain-logloss:0.28855\teval-logloss:0.33818\n",
      "[47]\ttrain-logloss:0.28763\teval-logloss:0.33737\n",
      "[48]\ttrain-logloss:0.28671\teval-logloss:0.33652\n",
      "[49]\ttrain-logloss:0.28571\teval-logloss:0.33603\n",
      "[50]\ttrain-logloss:0.28486\teval-logloss:0.33548\n",
      "[51]\ttrain-logloss:0.28403\teval-logloss:0.33487\n",
      "[52]\ttrain-logloss:0.28280\teval-logloss:0.33404\n",
      "[53]\ttrain-logloss:0.28206\teval-logloss:0.33343\n",
      "[54]\ttrain-logloss:0.28125\teval-logloss:0.33299\n",
      "[55]\ttrain-logloss:0.28040\teval-logloss:0.33209\n",
      "[56]\ttrain-logloss:0.27934\teval-logloss:0.33168\n",
      "[57]\ttrain-logloss:0.27820\teval-logloss:0.33094\n",
      "[58]\ttrain-logloss:0.27756\teval-logloss:0.33063\n",
      "[59]\ttrain-logloss:0.27695\teval-logloss:0.33024\n",
      "[60]\ttrain-logloss:0.27634\teval-logloss:0.32986\n",
      "[61]\ttrain-logloss:0.27573\teval-logloss:0.32933\n",
      "[62]\ttrain-logloss:0.27488\teval-logloss:0.32916\n",
      "[63]\ttrain-logloss:0.27427\teval-logloss:0.32890\n",
      "[64]\ttrain-logloss:0.27347\teval-logloss:0.32839\n",
      "[65]\ttrain-logloss:0.27254\teval-logloss:0.32779\n",
      "[66]\ttrain-logloss:0.27139\teval-logloss:0.32724\n",
      "[67]\ttrain-logloss:0.27082\teval-logloss:0.32702\n",
      "[68]\ttrain-logloss:0.27028\teval-logloss:0.32672\n",
      "[69]\ttrain-logloss:0.26942\teval-logloss:0.32645\n",
      "[70]\ttrain-logloss:0.26897\teval-logloss:0.32601\n",
      "[71]\ttrain-logloss:0.26855\teval-logloss:0.32578\n",
      "[72]\ttrain-logloss:0.26811\teval-logloss:0.32562\n",
      "[73]\ttrain-logloss:0.26762\teval-logloss:0.32542\n",
      "[74]\ttrain-logloss:0.26722\teval-logloss:0.32521\n",
      "[75]\ttrain-logloss:0.26648\teval-logloss:0.32475\n",
      "[76]\ttrain-logloss:0.26561\teval-logloss:0.32431\n",
      "[77]\ttrain-logloss:0.26465\teval-logloss:0.32383\n",
      "[78]\ttrain-logloss:0.26420\teval-logloss:0.32358\n",
      "[79]\ttrain-logloss:0.26381\teval-logloss:0.32347\n",
      "[80]\ttrain-logloss:0.26346\teval-logloss:0.32321\n",
      "[81]\ttrain-logloss:0.26293\teval-logloss:0.32306\n",
      "[82]\ttrain-logloss:0.26258\teval-logloss:0.32276\n",
      "[83]\ttrain-logloss:0.26189\teval-logloss:0.32258\n",
      "[84]\ttrain-logloss:0.26149\teval-logloss:0.32254\n",
      "[85]\ttrain-logloss:0.26089\teval-logloss:0.32234\n",
      "[86]\ttrain-logloss:0.26063\teval-logloss:0.32218\n",
      "[87]\ttrain-logloss:0.26033\teval-logloss:0.32210\n",
      "[88]\ttrain-logloss:0.26000\teval-logloss:0.32187\n",
      "[89]\ttrain-logloss:0.25966\teval-logloss:0.32184\n",
      "[90]\ttrain-logloss:0.25910\teval-logloss:0.32167\n",
      "[91]\ttrain-logloss:0.25805\teval-logloss:0.32114\n",
      "[92]\ttrain-logloss:0.25737\teval-logloss:0.32087\n",
      "[93]\ttrain-logloss:0.25702\teval-logloss:0.32070\n",
      "[94]\ttrain-logloss:0.25678\teval-logloss:0.32052\n",
      "[95]\ttrain-logloss:0.25655\teval-logloss:0.32050\n",
      "[96]\ttrain-logloss:0.25583\teval-logloss:0.32012\n",
      "[97]\ttrain-logloss:0.25557\teval-logloss:0.31990\n",
      "[98]\ttrain-logloss:0.25512\teval-logloss:0.31982\n",
      "[99]\ttrain-logloss:0.25482\teval-logloss:0.31962\n",
      "[100]\ttrain-logloss:0.25463\teval-logloss:0.31948\n",
      "[101]\ttrain-logloss:0.25439\teval-logloss:0.31926\n",
      "[102]\ttrain-logloss:0.25368\teval-logloss:0.31882\n",
      "[103]\ttrain-logloss:0.25317\teval-logloss:0.31866\n",
      "[104]\ttrain-logloss:0.25293\teval-logloss:0.31866\n",
      "[105]\ttrain-logloss:0.25268\teval-logloss:0.31853\n",
      "[106]\ttrain-logloss:0.25250\teval-logloss:0.31848\n",
      "[107]\ttrain-logloss:0.25194\teval-logloss:0.31830\n",
      "[108]\ttrain-logloss:0.25173\teval-logloss:0.31815\n",
      "[109]\ttrain-logloss:0.25086\teval-logloss:0.31783\n",
      "[110]\ttrain-logloss:0.25060\teval-logloss:0.31769\n",
      "[111]\ttrain-logloss:0.25043\teval-logloss:0.31757\n",
      "[112]\ttrain-logloss:0.25011\teval-logloss:0.31731\n",
      "[113]\ttrain-logloss:0.24993\teval-logloss:0.31721\n",
      "[114]\ttrain-logloss:0.24970\teval-logloss:0.31727\n",
      "[115]\ttrain-logloss:0.24905\teval-logloss:0.31699\n",
      "[116]\ttrain-logloss:0.24847\teval-logloss:0.31667\n",
      "[117]\ttrain-logloss:0.24805\teval-logloss:0.31650\n",
      "[118]\ttrain-logloss:0.24781\teval-logloss:0.31631\n",
      "[119]\ttrain-logloss:0.24758\teval-logloss:0.31634\n",
      "[120]\ttrain-logloss:0.24741\teval-logloss:0.31627\n",
      "[121]\ttrain-logloss:0.24728\teval-logloss:0.31613\n",
      "[122]\ttrain-logloss:0.24705\teval-logloss:0.31595\n",
      "[123]\ttrain-logloss:0.24689\teval-logloss:0.31595\n",
      "[124]\ttrain-logloss:0.24639\teval-logloss:0.31559\n",
      "[125]\ttrain-logloss:0.24616\teval-logloss:0.31560\n",
      "[126]\ttrain-logloss:0.24600\teval-logloss:0.31552\n",
      "[127]\ttrain-logloss:0.24569\teval-logloss:0.31551\n",
      "[128]\ttrain-logloss:0.24547\teval-logloss:0.31547\n",
      "[129]\ttrain-logloss:0.24525\teval-logloss:0.31546\n",
      "[130]\ttrain-logloss:0.24500\teval-logloss:0.31527\n",
      "[131]\ttrain-logloss:0.24445\teval-logloss:0.31515\n",
      "[132]\ttrain-logloss:0.24415\teval-logloss:0.31507\n",
      "[133]\ttrain-logloss:0.24371\teval-logloss:0.31487\n",
      "[134]\ttrain-logloss:0.24352\teval-logloss:0.31488\n",
      "[135]\ttrain-logloss:0.24338\teval-logloss:0.31489\n",
      "[136]\ttrain-logloss:0.24268\teval-logloss:0.31463\n",
      "[137]\ttrain-logloss:0.24255\teval-logloss:0.31455\n",
      "[138]\ttrain-logloss:0.24234\teval-logloss:0.31440\n",
      "[139]\ttrain-logloss:0.24213\teval-logloss:0.31425\n",
      "[140]\ttrain-logloss:0.24196\teval-logloss:0.31433\n",
      "[141]\ttrain-logloss:0.24177\teval-logloss:0.31433\n",
      "[142]\ttrain-logloss:0.24164\teval-logloss:0.31440\n",
      "[143]\ttrain-logloss:0.24089\teval-logloss:0.31410\n",
      "[144]\ttrain-logloss:0.24074\teval-logloss:0.31405\n",
      "[145]\ttrain-logloss:0.24063\teval-logloss:0.31409\n",
      "[146]\ttrain-logloss:0.24049\teval-logloss:0.31412\n",
      "[147]\ttrain-logloss:0.24037\teval-logloss:0.31400\n",
      "[148]\ttrain-logloss:0.24016\teval-logloss:0.31387\n",
      "[149]\ttrain-logloss:0.23972\teval-logloss:0.31367\n",
      "[150]\ttrain-logloss:0.23957\teval-logloss:0.31362\n",
      "[151]\ttrain-logloss:0.23936\teval-logloss:0.31354\n",
      "[152]\ttrain-logloss:0.23926\teval-logloss:0.31346\n",
      "[153]\ttrain-logloss:0.23910\teval-logloss:0.31338\n",
      "[154]\ttrain-logloss:0.23873\teval-logloss:0.31313\n",
      "[155]\ttrain-logloss:0.23809\teval-logloss:0.31277\n",
      "[156]\ttrain-logloss:0.23799\teval-logloss:0.31278\n",
      "[157]\ttrain-logloss:0.23766\teval-logloss:0.31266\n",
      "[158]\ttrain-logloss:0.23748\teval-logloss:0.31269\n",
      "[159]\ttrain-logloss:0.23723\teval-logloss:0.31257\n",
      "[160]\ttrain-logloss:0.23699\teval-logloss:0.31253\n",
      "[161]\ttrain-logloss:0.23691\teval-logloss:0.31256\n"
     ]
    },
    {
     "name": "stdout",
     "output_type": "stream",
     "text": [
      "[162]\ttrain-logloss:0.23677\teval-logloss:0.31258\n",
      "[163]\ttrain-logloss:0.23645\teval-logloss:0.31235\n",
      "[164]\ttrain-logloss:0.23638\teval-logloss:0.31237\n",
      "[165]\ttrain-logloss:0.23624\teval-logloss:0.31227\n",
      "[166]\ttrain-logloss:0.23608\teval-logloss:0.31220\n",
      "[167]\ttrain-logloss:0.23594\teval-logloss:0.31217\n",
      "[168]\ttrain-logloss:0.23563\teval-logloss:0.31214\n",
      "[169]\ttrain-logloss:0.23505\teval-logloss:0.31180\n",
      "[170]\ttrain-logloss:0.23496\teval-logloss:0.31183\n",
      "[171]\ttrain-logloss:0.23483\teval-logloss:0.31185\n",
      "[172]\ttrain-logloss:0.23471\teval-logloss:0.31188\n",
      "[173]\ttrain-logloss:0.23465\teval-logloss:0.31188\n",
      "[174]\ttrain-logloss:0.23451\teval-logloss:0.31184\n",
      "[175]\ttrain-logloss:0.23422\teval-logloss:0.31174\n",
      "[176]\ttrain-logloss:0.23394\teval-logloss:0.31163\n",
      "[177]\ttrain-logloss:0.23361\teval-logloss:0.31147\n",
      "[178]\ttrain-logloss:0.23351\teval-logloss:0.31149\n",
      "[179]\ttrain-logloss:0.23343\teval-logloss:0.31149\n",
      "[180]\ttrain-logloss:0.23335\teval-logloss:0.31147\n",
      "[181]\ttrain-logloss:0.23325\teval-logloss:0.31144\n",
      "[182]\ttrain-logloss:0.23312\teval-logloss:0.31134\n",
      "[183]\ttrain-logloss:0.23305\teval-logloss:0.31132\n",
      "[184]\ttrain-logloss:0.23291\teval-logloss:0.31128\n",
      "[185]\ttrain-logloss:0.23276\teval-logloss:0.31136\n",
      "[186]\ttrain-logloss:0.23265\teval-logloss:0.31134\n",
      "[187]\ttrain-logloss:0.23250\teval-logloss:0.31132\n",
      "[188]\ttrain-logloss:0.23226\teval-logloss:0.31126\n",
      "[189]\ttrain-logloss:0.23205\teval-logloss:0.31117\n",
      "[190]\ttrain-logloss:0.23190\teval-logloss:0.31106\n",
      "[191]\ttrain-logloss:0.23180\teval-logloss:0.31107\n",
      "[192]\ttrain-logloss:0.23169\teval-logloss:0.31099\n",
      "[193]\ttrain-logloss:0.23157\teval-logloss:0.31095\n",
      "[194]\ttrain-logloss:0.23152\teval-logloss:0.31096\n",
      "[195]\ttrain-logloss:0.23141\teval-logloss:0.31094\n",
      "[196]\ttrain-logloss:0.23126\teval-logloss:0.31091\n",
      "[197]\ttrain-logloss:0.23093\teval-logloss:0.31081\n",
      "[198]\ttrain-logloss:0.23081\teval-logloss:0.31080\n",
      "[199]\ttrain-logloss:0.23054\teval-logloss:0.31072\n",
      "[200]\ttrain-logloss:0.23049\teval-logloss:0.31076\n",
      "[201]\ttrain-logloss:0.23028\teval-logloss:0.31065\n",
      "[202]\ttrain-logloss:0.23013\teval-logloss:0.31058\n",
      "[203]\ttrain-logloss:0.23006\teval-logloss:0.31054\n",
      "[204]\ttrain-logloss:0.22993\teval-logloss:0.31045\n",
      "[205]\ttrain-logloss:0.22974\teval-logloss:0.31037\n",
      "[206]\ttrain-logloss:0.22969\teval-logloss:0.31037\n",
      "[207]\ttrain-logloss:0.22962\teval-logloss:0.31036\n",
      "[208]\ttrain-logloss:0.22937\teval-logloss:0.31018\n",
      "[209]\ttrain-logloss:0.22927\teval-logloss:0.31014\n",
      "[210]\ttrain-logloss:0.22852\teval-logloss:0.30994\n",
      "[211]\ttrain-logloss:0.22842\teval-logloss:0.30982\n",
      "[212]\ttrain-logloss:0.22834\teval-logloss:0.30982\n",
      "[213]\ttrain-logloss:0.22806\teval-logloss:0.30967\n",
      "[214]\ttrain-logloss:0.22801\teval-logloss:0.30973\n",
      "[215]\ttrain-logloss:0.22783\teval-logloss:0.30968\n",
      "[216]\ttrain-logloss:0.22775\teval-logloss:0.30971\n",
      "[217]\ttrain-logloss:0.22769\teval-logloss:0.30971\n",
      "[218]\ttrain-logloss:0.22754\teval-logloss:0.30966\n",
      "[219]\ttrain-logloss:0.22733\teval-logloss:0.30965\n",
      "[220]\ttrain-logloss:0.22728\teval-logloss:0.30966\n",
      "[221]\ttrain-logloss:0.22711\teval-logloss:0.30961\n",
      "[222]\ttrain-logloss:0.22705\teval-logloss:0.30957\n",
      "[223]\ttrain-logloss:0.22696\teval-logloss:0.30961\n",
      "[224]\ttrain-logloss:0.22690\teval-logloss:0.30957\n",
      "[225]\ttrain-logloss:0.22675\teval-logloss:0.30951\n",
      "[226]\ttrain-logloss:0.22636\teval-logloss:0.30937\n",
      "[227]\ttrain-logloss:0.22609\teval-logloss:0.30934\n",
      "[228]\ttrain-logloss:0.22578\teval-logloss:0.30932\n",
      "[229]\ttrain-logloss:0.22569\teval-logloss:0.30933\n",
      "[230]\ttrain-logloss:0.22549\teval-logloss:0.30921\n",
      "[231]\ttrain-logloss:0.22539\teval-logloss:0.30916\n",
      "[232]\ttrain-logloss:0.22520\teval-logloss:0.30908\n",
      "[233]\ttrain-logloss:0.22471\teval-logloss:0.30884\n",
      "[234]\ttrain-logloss:0.22454\teval-logloss:0.30879\n",
      "[235]\ttrain-logloss:0.22447\teval-logloss:0.30874\n",
      "[236]\ttrain-logloss:0.22424\teval-logloss:0.30872\n",
      "[237]\ttrain-logloss:0.22417\teval-logloss:0.30879\n",
      "[238]\ttrain-logloss:0.22408\teval-logloss:0.30885\n",
      "[239]\ttrain-logloss:0.22403\teval-logloss:0.30880\n",
      "[240]\ttrain-logloss:0.22397\teval-logloss:0.30879\n",
      "[241]\ttrain-logloss:0.22393\teval-logloss:0.30885\n",
      "[242]\ttrain-logloss:0.22385\teval-logloss:0.30887\n",
      "[243]\ttrain-logloss:0.22378\teval-logloss:0.30882\n",
      "[244]\ttrain-logloss:0.22371\teval-logloss:0.30884\n",
      "[245]\ttrain-logloss:0.22361\teval-logloss:0.30879\n",
      "[246]\ttrain-logloss:0.22356\teval-logloss:0.30881\n",
      "[247]\ttrain-logloss:0.22321\teval-logloss:0.30868\n",
      "[248]\ttrain-logloss:0.22303\teval-logloss:0.30867\n",
      "[249]\ttrain-logloss:0.22262\teval-logloss:0.30844\n",
      "[250]\ttrain-logloss:0.22228\teval-logloss:0.30829\n",
      "[251]\ttrain-logloss:0.22220\teval-logloss:0.30821\n",
      "[252]\ttrain-logloss:0.22179\teval-logloss:0.30807\n",
      "[253]\ttrain-logloss:0.22167\teval-logloss:0.30800\n",
      "[254]\ttrain-logloss:0.22164\teval-logloss:0.30794\n",
      "[255]\ttrain-logloss:0.22130\teval-logloss:0.30783\n",
      "[256]\ttrain-logloss:0.22126\teval-logloss:0.30789\n",
      "[257]\ttrain-logloss:0.22123\teval-logloss:0.30789\n",
      "[258]\ttrain-logloss:0.22120\teval-logloss:0.30793\n",
      "[259]\ttrain-logloss:0.22112\teval-logloss:0.30796\n",
      "[260]\ttrain-logloss:0.22103\teval-logloss:0.30803\n",
      "[261]\ttrain-logloss:0.22073\teval-logloss:0.30788\n",
      "[262]\ttrain-logloss:0.22066\teval-logloss:0.30784\n",
      "[263]\ttrain-logloss:0.22042\teval-logloss:0.30778\n",
      "[264]\ttrain-logloss:0.22004\teval-logloss:0.30772\n",
      "[265]\ttrain-logloss:0.21976\teval-logloss:0.30754\n",
      "[266]\ttrain-logloss:0.21967\teval-logloss:0.30758\n",
      "[267]\ttrain-logloss:0.21965\teval-logloss:0.30759\n",
      "[268]\ttrain-logloss:0.21944\teval-logloss:0.30741\n",
      "[269]\ttrain-logloss:0.21937\teval-logloss:0.30744\n",
      "[270]\ttrain-logloss:0.21927\teval-logloss:0.30739\n",
      "[271]\ttrain-logloss:0.21914\teval-logloss:0.30737\n",
      "[272]\ttrain-logloss:0.21907\teval-logloss:0.30733\n",
      "[273]\ttrain-logloss:0.21893\teval-logloss:0.30732\n",
      "[274]\ttrain-logloss:0.21871\teval-logloss:0.30726\n",
      "[275]\ttrain-logloss:0.21863\teval-logloss:0.30725\n",
      "[276]\ttrain-logloss:0.21857\teval-logloss:0.30722\n",
      "[277]\ttrain-logloss:0.21851\teval-logloss:0.30715\n",
      "[278]\ttrain-logloss:0.21848\teval-logloss:0.30715\n",
      "[279]\ttrain-logloss:0.21840\teval-logloss:0.30717\n",
      "[280]\ttrain-logloss:0.21831\teval-logloss:0.30721\n",
      "[281]\ttrain-logloss:0.21818\teval-logloss:0.30714\n",
      "[282]\ttrain-logloss:0.21815\teval-logloss:0.30718\n",
      "[283]\ttrain-logloss:0.21810\teval-logloss:0.30718\n",
      "[284]\ttrain-logloss:0.21802\teval-logloss:0.30723\n",
      "[285]\ttrain-logloss:0.21798\teval-logloss:0.30724\n",
      "[286]\ttrain-logloss:0.21792\teval-logloss:0.30721\n",
      "[287]\ttrain-logloss:0.21769\teval-logloss:0.30706\n",
      "[288]\ttrain-logloss:0.21737\teval-logloss:0.30703\n",
      "[289]\ttrain-logloss:0.21717\teval-logloss:0.30696\n",
      "[290]\ttrain-logloss:0.21709\teval-logloss:0.30698\n",
      "[291]\ttrain-logloss:0.21706\teval-logloss:0.30699\n",
      "[292]\ttrain-logloss:0.21689\teval-logloss:0.30695\n",
      "[293]\ttrain-logloss:0.21686\teval-logloss:0.30692\n",
      "[294]\ttrain-logloss:0.21682\teval-logloss:0.30688\n",
      "[295]\ttrain-logloss:0.21677\teval-logloss:0.30690\n",
      "[296]\ttrain-logloss:0.21673\teval-logloss:0.30687\n",
      "[297]\ttrain-logloss:0.21653\teval-logloss:0.30681\n",
      "[298]\ttrain-logloss:0.21627\teval-logloss:0.30674\n",
      "[299]\ttrain-logloss:0.21622\teval-logloss:0.30674\n",
      "[300]\ttrain-logloss:0.21618\teval-logloss:0.30674\n",
      "[301]\ttrain-logloss:0.21615\teval-logloss:0.30677\n",
      "[302]\ttrain-logloss:0.21599\teval-logloss:0.30669\n",
      "[303]\ttrain-logloss:0.21595\teval-logloss:0.30671\n",
      "[304]\ttrain-logloss:0.21563\teval-logloss:0.30661\n",
      "[305]\ttrain-logloss:0.21529\teval-logloss:0.30656\n",
      "[306]\ttrain-logloss:0.21526\teval-logloss:0.30656\n",
      "[307]\ttrain-logloss:0.21506\teval-logloss:0.30647\n",
      "[308]\ttrain-logloss:0.21484\teval-logloss:0.30635\n",
      "[309]\ttrain-logloss:0.21480\teval-logloss:0.30634\n",
      "[310]\ttrain-logloss:0.21477\teval-logloss:0.30632\n",
      "[311]\ttrain-logloss:0.21473\teval-logloss:0.30632\n",
      "[312]\ttrain-logloss:0.21470\teval-logloss:0.30633\n",
      "[313]\ttrain-logloss:0.21459\teval-logloss:0.30627\n",
      "[314]\ttrain-logloss:0.21451\teval-logloss:0.30626\n",
      "[315]\ttrain-logloss:0.21440\teval-logloss:0.30625\n",
      "[316]\ttrain-logloss:0.21436\teval-logloss:0.30628\n",
      "[317]\ttrain-logloss:0.21430\teval-logloss:0.30631\n",
      "[318]\ttrain-logloss:0.21423\teval-logloss:0.30628\n",
      "[319]\ttrain-logloss:0.21391\teval-logloss:0.30624\n",
      "[320]\ttrain-logloss:0.21377\teval-logloss:0.30621\n",
      "[321]\ttrain-logloss:0.21371\teval-logloss:0.30626\n",
      "[322]\ttrain-logloss:0.21359\teval-logloss:0.30625\n",
      "[323]\ttrain-logloss:0.21352\teval-logloss:0.30622\n",
      "[324]\ttrain-logloss:0.21343\teval-logloss:0.30621\n",
      "[325]\ttrain-logloss:0.21314\teval-logloss:0.30617\n",
      "[326]\ttrain-logloss:0.21309\teval-logloss:0.30622\n",
      "[327]\ttrain-logloss:0.21306\teval-logloss:0.30624\n",
      "[328]\ttrain-logloss:0.21303\teval-logloss:0.30626\n",
      "[329]\ttrain-logloss:0.21299\teval-logloss:0.30627\n"
     ]
    },
    {
     "name": "stdout",
     "output_type": "stream",
     "text": [
      "[330]\ttrain-logloss:0.21288\teval-logloss:0.30625\n",
      "[331]\ttrain-logloss:0.21272\teval-logloss:0.30611\n",
      "[332]\ttrain-logloss:0.21270\teval-logloss:0.30610\n",
      "[333]\ttrain-logloss:0.21260\teval-logloss:0.30612\n",
      "[334]\ttrain-logloss:0.21238\teval-logloss:0.30599\n",
      "[335]\ttrain-logloss:0.21232\teval-logloss:0.30606\n",
      "[336]\ttrain-logloss:0.21230\teval-logloss:0.30606\n",
      "[337]\ttrain-logloss:0.21228\teval-logloss:0.30606\n",
      "[338]\ttrain-logloss:0.21214\teval-logloss:0.30601\n",
      "[339]\ttrain-logloss:0.21194\teval-logloss:0.30601\n",
      "[340]\ttrain-logloss:0.21173\teval-logloss:0.30600\n",
      "[341]\ttrain-logloss:0.21158\teval-logloss:0.30600\n",
      "[342]\ttrain-logloss:0.21135\teval-logloss:0.30592\n",
      "[343]\ttrain-logloss:0.21116\teval-logloss:0.30585\n",
      "[344]\ttrain-logloss:0.21098\teval-logloss:0.30582\n",
      "[345]\ttrain-logloss:0.21079\teval-logloss:0.30579\n",
      "[346]\ttrain-logloss:0.21073\teval-logloss:0.30580\n",
      "[347]\ttrain-logloss:0.21064\teval-logloss:0.30578\n",
      "[348]\ttrain-logloss:0.21059\teval-logloss:0.30577\n",
      "[349]\ttrain-logloss:0.21054\teval-logloss:0.30573\n",
      "[350]\ttrain-logloss:0.21039\teval-logloss:0.30567\n",
      "[351]\ttrain-logloss:0.21036\teval-logloss:0.30569\n",
      "[352]\ttrain-logloss:0.21033\teval-logloss:0.30571\n",
      "[353]\ttrain-logloss:0.21020\teval-logloss:0.30571\n",
      "[354]\ttrain-logloss:0.21004\teval-logloss:0.30565\n",
      "[355]\ttrain-logloss:0.20997\teval-logloss:0.30562\n",
      "[356]\ttrain-logloss:0.20989\teval-logloss:0.30561\n",
      "[357]\ttrain-logloss:0.20956\teval-logloss:0.30545\n",
      "[358]\ttrain-logloss:0.20952\teval-logloss:0.30545\n",
      "[359]\ttrain-logloss:0.20946\teval-logloss:0.30545\n",
      "[360]\ttrain-logloss:0.20944\teval-logloss:0.30552\n",
      "[361]\ttrain-logloss:0.20939\teval-logloss:0.30553\n",
      "[362]\ttrain-logloss:0.20928\teval-logloss:0.30552\n",
      "[363]\ttrain-logloss:0.20911\teval-logloss:0.30544\n",
      "[364]\ttrain-logloss:0.20899\teval-logloss:0.30550\n",
      "[365]\ttrain-logloss:0.20880\teval-logloss:0.30547\n",
      "[366]\ttrain-logloss:0.20867\teval-logloss:0.30547\n",
      "[367]\ttrain-logloss:0.20850\teval-logloss:0.30542\n",
      "[368]\ttrain-logloss:0.20848\teval-logloss:0.30542\n",
      "[369]\ttrain-logloss:0.20843\teval-logloss:0.30538\n",
      "[370]\ttrain-logloss:0.20837\teval-logloss:0.30536\n",
      "[371]\ttrain-logloss:0.20816\teval-logloss:0.30528\n",
      "[372]\ttrain-logloss:0.20808\teval-logloss:0.30529\n",
      "[373]\ttrain-logloss:0.20805\teval-logloss:0.30532\n",
      "[374]\ttrain-logloss:0.20800\teval-logloss:0.30531\n",
      "[375]\ttrain-logloss:0.20796\teval-logloss:0.30533\n",
      "[376]\ttrain-logloss:0.20792\teval-logloss:0.30534\n",
      "[377]\ttrain-logloss:0.20789\teval-logloss:0.30539\n",
      "[378]\ttrain-logloss:0.20779\teval-logloss:0.30534\n",
      "[379]\ttrain-logloss:0.20774\teval-logloss:0.30533\n",
      "[380]\ttrain-logloss:0.20741\teval-logloss:0.30520\n",
      "[381]\ttrain-logloss:0.20734\teval-logloss:0.30520\n",
      "[382]\ttrain-logloss:0.20733\teval-logloss:0.30520\n",
      "[383]\ttrain-logloss:0.20713\teval-logloss:0.30514\n",
      "[384]\ttrain-logloss:0.20696\teval-logloss:0.30508\n",
      "[385]\ttrain-logloss:0.20679\teval-logloss:0.30499\n",
      "[386]\ttrain-logloss:0.20655\teval-logloss:0.30496\n",
      "[387]\ttrain-logloss:0.20651\teval-logloss:0.30492\n",
      "[388]\ttrain-logloss:0.20649\teval-logloss:0.30490\n",
      "[389]\ttrain-logloss:0.20632\teval-logloss:0.30485\n",
      "[390]\ttrain-logloss:0.20630\teval-logloss:0.30485\n",
      "[391]\ttrain-logloss:0.20609\teval-logloss:0.30476\n",
      "[392]\ttrain-logloss:0.20607\teval-logloss:0.30474\n",
      "[393]\ttrain-logloss:0.20602\teval-logloss:0.30474\n",
      "[394]\ttrain-logloss:0.20579\teval-logloss:0.30464\n",
      "[395]\ttrain-logloss:0.20577\teval-logloss:0.30462\n",
      "[396]\ttrain-logloss:0.20574\teval-logloss:0.30462\n",
      "[397]\ttrain-logloss:0.20572\teval-logloss:0.30463\n",
      "[398]\ttrain-logloss:0.20569\teval-logloss:0.30464\n",
      "[399]\ttrain-logloss:0.20564\teval-logloss:0.30468\n"
     ]
    }
   ],
   "source": [
    "# train 데이터 세트는 'train', evaluation(test) 데이터 세트는 'eval'로 명기\n",
    "wlist = [(dtrain, 'train'),(dtest, 'eval')]\n",
    "# 하이퍼 파라미터와 early stoppinig 파라미터를 train() 함수의 파라미터로 전달\n",
    "xgb_model = xgb.train(params=params, dtrain=dtrain, num_boost_round=num_rounds, evals=wlist)"
   ]
  },
  {
   "cell_type": "code",
   "execution_count": 53,
   "metadata": {},
   "outputs": [
    {
     "name": "stdout",
     "output_type": "stream",
     "text": [
      "[0.024 0.302 1.    1.    0.974 0.623 0.463 0.241 0.051 0.184]\n"
     ]
    }
   ],
   "source": [
    "pred_probs = xgb_model.predict(dtest)\n",
    "print(np.round(pred_probs[:10], 3))\n",
    "\n",
    "preds = [1 if x > 0.5 else 0 for x in pred_probs]"
   ]
  },
  {
   "cell_type": "code",
   "execution_count": 54,
   "metadata": {},
   "outputs": [],
   "source": [
    "def get_clf_eval(Y_test, pred):\n",
    "    confusion = confusion_matrix(Y_test, pred)\n",
    "    accuracy = accuracy_score(Y_test, pred)\n",
    "    precision = precision_score(Y_test, pred)\n",
    "    recall = recall_score(Y_test, pred)\n",
    "    print('오차행렬')\n",
    "    print(confusion)\n",
    "    print('정확도: {0:.4f}, 정밀도: {1:.4f}, 재현율: {2:.4f}'.format(accuracy, precision, recall))"
   ]
  },
  {
   "cell_type": "code",
   "execution_count": 55,
   "metadata": {},
   "outputs": [
    {
     "name": "stdout",
     "output_type": "stream",
     "text": [
      "오차행렬\n",
      "[[2345  356]\n",
      " [ 970 4470]]\n",
      "정확도: 0.8371, 정밀도: 0.9262, 재현율: 0.8217\n"
     ]
    }
   ],
   "source": [
    "get_clf_eval(Y_test, preds)"
   ]
  },
  {
   "cell_type": "markdown",
   "metadata": {},
   "source": [
    "# LightGBM"
   ]
  },
  {
   "cell_type": "code",
   "execution_count": 56,
   "metadata": {},
   "outputs": [
    {
     "name": "stdout",
     "output_type": "stream",
     "text": [
      "[1]\tvalid_0's l2: 0.23514\tvalid_0's binary_logloss: 0.663405\n",
      "[2]\tvalid_0's l2: 0.221811\tvalid_0's binary_logloss: 0.63661\n",
      "[3]\tvalid_0's l2: 0.209794\tvalid_0's binary_logloss: 0.612251\n",
      "[4]\tvalid_0's l2: 0.199086\tvalid_0's binary_logloss: 0.59029\n",
      "[5]\tvalid_0's l2: 0.18943\tvalid_0's binary_logloss: 0.570192\n",
      "[6]\tvalid_0's l2: 0.180787\tvalid_0's binary_logloss: 0.551886\n",
      "[7]\tvalid_0's l2: 0.173016\tvalid_0's binary_logloss: 0.535096\n",
      "[8]\tvalid_0's l2: 0.176259\tvalid_0's binary_logloss: 0.542149\n",
      "[9]\tvalid_0's l2: 0.168926\tvalid_0's binary_logloss: 0.526115\n",
      "[10]\tvalid_0's l2: 0.162312\tvalid_0's binary_logloss: 0.511326\n",
      "[11]\tvalid_0's l2: 0.156474\tvalid_0's binary_logloss: 0.497919\n",
      "[12]\tvalid_0's l2: 0.158774\tvalid_0's binary_logloss: 0.503245\n",
      "[13]\tvalid_0's l2: 0.153234\tvalid_0's binary_logloss: 0.490333\n",
      "[14]\tvalid_0's l2: 0.148311\tvalid_0's binary_logloss: 0.478515\n",
      "[15]\tvalid_0's l2: 0.143794\tvalid_0's binary_logloss: 0.467386\n",
      "[16]\tvalid_0's l2: 0.1398\tvalid_0's binary_logloss: 0.457223\n",
      "[17]\tvalid_0's l2: 0.136178\tvalid_0's binary_logloss: 0.44773\n",
      "[18]\tvalid_0's l2: 0.132949\tvalid_0's binary_logloss: 0.438966\n",
      "[19]\tvalid_0's l2: 0.130032\tvalid_0's binary_logloss: 0.430793\n",
      "[20]\tvalid_0's l2: 0.127407\tvalid_0's binary_logloss: 0.423176\n",
      "[21]\tvalid_0's l2: 0.128408\tvalid_0's binary_logloss: 0.426125\n",
      "[22]\tvalid_0's l2: 0.125962\tvalid_0's binary_logloss: 0.418864\n",
      "[23]\tvalid_0's l2: 0.123789\tvalid_0's binary_logloss: 0.412145\n",
      "[24]\tvalid_0's l2: 0.121803\tvalid_0's binary_logloss: 0.405814\n",
      "[25]\tvalid_0's l2: 0.120017\tvalid_0's binary_logloss: 0.399885\n",
      "[26]\tvalid_0's l2: 0.118398\tvalid_0's binary_logloss: 0.394334\n",
      "[27]\tvalid_0's l2: 0.116962\tvalid_0's binary_logloss: 0.389163"
     ]
    },
    {
     "name": "stderr",
     "output_type": "stream",
     "text": [
      "C:\\Users\\020\\anaconda3\\lib\\site-packages\\lightgbm\\callback.py:189: UserWarning: Early stopping is not available in dart mode\n",
      "  warnings.warn('Early stopping is not available in dart mode')\n"
     ]
    },
    {
     "name": "stdout",
     "output_type": "stream",
     "text": [
      "\n",
      "[28]\tvalid_0's l2: 0.117714\tvalid_0's binary_logloss: 0.391934\n",
      "[29]\tvalid_0's l2: 0.116266\tvalid_0's binary_logloss: 0.386763\n",
      "[30]\tvalid_0's l2: 0.115041\tvalid_0's binary_logloss: 0.382065\n",
      "[31]\tvalid_0's l2: 0.115416\tvalid_0's binary_logloss: 0.383607\n",
      "[32]\tvalid_0's l2: 0.1143\tvalid_0's binary_logloss: 0.37919\n",
      "[33]\tvalid_0's l2: 0.113251\tvalid_0's binary_logloss: 0.374965\n",
      "[34]\tvalid_0's l2: 0.112334\tvalid_0's binary_logloss: 0.371055\n",
      "[35]\tvalid_0's l2: 0.113027\tvalid_0's binary_logloss: 0.374072\n",
      "[36]\tvalid_0's l2: 0.114232\tvalid_0's binary_logloss: 0.379202\n",
      "[37]\tvalid_0's l2: 0.113166\tvalid_0's binary_logloss: 0.374926\n",
      "[38]\tvalid_0's l2: 0.112274\tvalid_0's binary_logloss: 0.37105\n",
      "[39]\tvalid_0's l2: 0.111479\tvalid_0's binary_logloss: 0.367425\n",
      "[40]\tvalid_0's l2: 0.11138\tvalid_0's binary_logloss: 0.367233\n",
      "[41]\tvalid_0's l2: 0.112103\tvalid_0's binary_logloss: 0.3706\n",
      "[42]\tvalid_0's l2: 0.11131\tvalid_0's binary_logloss: 0.366994\n",
      "[43]\tvalid_0's l2: 0.111936\tvalid_0's binary_logloss: 0.369858\n",
      "[44]\tvalid_0's l2: 0.111115\tvalid_0's binary_logloss: 0.366207\n",
      "[45]\tvalid_0's l2: 0.110414\tvalid_0's binary_logloss: 0.362868\n",
      "[46]\tvalid_0's l2: 0.123787\tvalid_0's binary_logloss: 0.40697\n",
      "[47]\tvalid_0's l2: 0.122014\tvalid_0's binary_logloss: 0.401246\n",
      "[48]\tvalid_0's l2: 0.12185\tvalid_0's binary_logloss: 0.400906\n",
      "[49]\tvalid_0's l2: 0.122634\tvalid_0's binary_logloss: 0.403781\n",
      "[50]\tvalid_0's l2: 0.123614\tvalid_0's binary_logloss: 0.407206\n",
      "[51]\tvalid_0's l2: 0.121903\tvalid_0's binary_logloss: 0.401622\n",
      "[52]\tvalid_0's l2: 0.120321\tvalid_0's binary_logloss: 0.396321\n",
      "[53]\tvalid_0's l2: 0.121185\tvalid_0's binary_logloss: 0.399499\n",
      "[54]\tvalid_0's l2: 0.119701\tvalid_0's binary_logloss: 0.39441\n",
      "[55]\tvalid_0's l2: 0.118221\tvalid_0's binary_logloss: 0.38935\n",
      "[56]\tvalid_0's l2: 0.119161\tvalid_0's binary_logloss: 0.393024\n",
      "[57]\tvalid_0's l2: 0.117692\tvalid_0's binary_logloss: 0.387934\n",
      "[58]\tvalid_0's l2: 0.13568\tvalid_0's binary_logloss: 0.44064\n",
      "[59]\tvalid_0's l2: 0.13685\tvalid_0's binary_logloss: 0.443728\n",
      "[60]\tvalid_0's l2: 0.133984\tvalid_0's binary_logloss: 0.435804\n",
      "[61]\tvalid_0's l2: 0.154515\tvalid_0's binary_logloss: 0.503081\n",
      "[62]\tvalid_0's l2: 0.150115\tvalid_0's binary_logloss: 0.491442\n",
      "[63]\tvalid_0's l2: 0.146085\tvalid_0's binary_logloss: 0.480298\n",
      "[64]\tvalid_0's l2: 0.146571\tvalid_0's binary_logloss: 0.476459\n",
      "[65]\tvalid_0's l2: 0.147427\tvalid_0's binary_logloss: 0.478052\n",
      "[66]\tvalid_0's l2: 0.143549\tvalid_0's binary_logloss: 0.467741\n",
      "[67]\tvalid_0's l2: 0.140114\tvalid_0's binary_logloss: 0.458419\n",
      "[68]\tvalid_0's l2: 0.137011\tvalid_0's binary_logloss: 0.449734\n",
      "[69]\tvalid_0's l2: 0.137694\tvalid_0's binary_logloss: 0.447672\n",
      "[70]\tvalid_0's l2: 0.137919\tvalid_0's binary_logloss: 0.447856\n",
      "[71]\tvalid_0's l2: 0.138349\tvalid_0's binary_logloss: 0.448464\n",
      "[72]\tvalid_0's l2: 0.135298\tvalid_0's binary_logloss: 0.440036\n",
      "[73]\tvalid_0's l2: 0.132579\tvalid_0's binary_logloss: 0.432221\n",
      "[74]\tvalid_0's l2: 0.133223\tvalid_0's binary_logloss: 0.433969\n",
      "[75]\tvalid_0's l2: 0.130691\tvalid_0's binary_logloss: 0.42666\n",
      "[76]\tvalid_0's l2: 0.130805\tvalid_0's binary_logloss: 0.426993\n",
      "[77]\tvalid_0's l2: 0.131358\tvalid_0's binary_logloss: 0.428514\n",
      "[78]\tvalid_0's l2: 0.132202\tvalid_0's binary_logloss: 0.430874\n",
      "[79]\tvalid_0's l2: 0.129751\tvalid_0's binary_logloss: 0.423774\n",
      "[80]\tvalid_0's l2: 0.127468\tvalid_0's binary_logloss: 0.416978\n",
      "[81]\tvalid_0's l2: 0.128337\tvalid_0's binary_logloss: 0.419619\n",
      "[82]\tvalid_0's l2: 0.126275\tvalid_0's binary_logloss: 0.413334\n",
      "[83]\tvalid_0's l2: 0.127219\tvalid_0's binary_logloss: 0.41629\n",
      "[84]\tvalid_0's l2: 0.127963\tvalid_0's binary_logloss: 0.418537\n",
      "[85]\tvalid_0's l2: 0.128966\tvalid_0's binary_logloss: 0.421562\n",
      "[86]\tvalid_0's l2: 0.12675\tvalid_0's binary_logloss: 0.414924\n",
      "[87]\tvalid_0's l2: 0.12469\tvalid_0's binary_logloss: 0.40865\n",
      "[88]\tvalid_0's l2: 0.125691\tvalid_0's binary_logloss: 0.411856\n",
      "[89]\tvalid_0's l2: 0.126168\tvalid_0's binary_logloss: 0.413453\n",
      "[90]\tvalid_0's l2: 0.127107\tvalid_0's binary_logloss: 0.416343\n",
      "[91]\tvalid_0's l2: 0.142672\tvalid_0's binary_logloss: 0.461669\n",
      "[92]\tvalid_0's l2: 0.13929\tvalid_0's binary_logloss: 0.455505\n",
      "[93]\tvalid_0's l2: 0.136259\tvalid_0's binary_logloss: 0.447105\n",
      "[94]\tvalid_0's l2: 0.137508\tvalid_0's binary_logloss: 0.447112\n",
      "[95]\tvalid_0's l2: 0.138251\tvalid_0's binary_logloss: 0.448708\n",
      "[96]\tvalid_0's l2: 0.139196\tvalid_0's binary_logloss: 0.451084\n",
      "[97]\tvalid_0's l2: 0.136081\tvalid_0's binary_logloss: 0.44245\n",
      "[98]\tvalid_0's l2: 0.136835\tvalid_0's binary_logloss: 0.444266\n",
      "[99]\tvalid_0's l2: 0.133975\tvalid_0's binary_logloss: 0.436233\n",
      "[100]\tvalid_0's l2: 0.131425\tvalid_0's binary_logloss: 0.428847\n"
     ]
    }
   ],
   "source": [
    "lgbm_wrapper = LGBMClassifier(learning_rate= 0.05,max_depth= 20,\n",
    "                              nestimators=1000, objective = 'mse',\n",
    "                              boosting='dart'\n",
    "                                ,num_leaves=100\n",
    "#                               ,min_data_in_leaf=200\n",
    "                             )\n",
    "evals = [(X_test, Y_test)]\n",
    "lgbm_wrapper.fit(htX, htY, early_stopping_rounds=100, \n",
    "                 eval_metric=\"logloss\", eval_set=evals, verbose=True)\n",
    "pred = lgbm_wrapper.predict(X_test)"
   ]
  },
  {
   "cell_type": "code",
   "execution_count": 57,
   "metadata": {},
   "outputs": [
    {
     "name": "stdout",
     "output_type": "stream",
     "text": [
      "오차행렬\n",
      "[[2509  192]\n",
      " [1193 4247]]\n",
      "정확도: 0.8299, 정밀도: 0.9567, 재현율: 0.7807\n"
     ]
    }
   ],
   "source": [
    "get_clf_eval(Y_test, pred)"
   ]
  },
  {
   "cell_type": "code",
   "execution_count": 60,
   "metadata": {},
   "outputs": [],
   "source": [
    "# import lightgbm as lgb\n",
    "# lgbm_wrapper = LGBMClassifier(nestimators=1000,learning_rate=0.1)\n",
    "# def modelFitter(colsampleByTree, subsample,maxDepth, num_leaves):   \n",
    "#     model = lgb.LGBMRegressor(learning_rate=0.02, n_estimators=10000, max_depth=maxDepth.astype(\"int32\"), subsample=subsample, colsample_bytree=colsampleByTree,num_leaves=num_leaves.astype(\"int32\"))\n",
    "#     evalSet  = [(X_test, Y_test)]\n",
    "#     model.fit(htX, htY, eval_metric=\"rmse\", eval_set=evals, early_stopping_rounds=50, verbose=False)\n",
    "#     bestScore = model.best_score_[list(model.best_score_.keys())[0]]['rmse']\n",
    "#     return -bestScore\n",
    "# # Bounded region of parameter space\n",
    "# pbounds = {'colsampleByTree': (0.8,1.0), 'subsample': (0.8,1.0), 'maxDepth': (2,5), 'num_leaves': (24, 45)}\n",
    "# optimizer = BayesianOptimization(\n",
    "#     f=modelFitter,\n",
    "#     pbounds=pbounds,\n",
    "#     random_state=1)\n",
    "# optimizer.maximize(init_points=5,n_iter=5)  #n_iter=bayesian, init_points=random"
   ]
  },
  {
   "cell_type": "markdown",
   "metadata": {},
   "source": [
    "# PR curve"
   ]
  },
  {
   "cell_type": "code",
   "execution_count": 51,
   "metadata": {},
   "outputs": [],
   "source": [
    "def plot_precision_recall_curve(precisions, recalls) :\n",
    "    plt.plot(recalls, precisions, color='blue')\n",
    "    plt.axis([0,1,0,1])\n",
    "    plt.xlabel('Recall')\n",
    "    plt.ylabel('Precision')\n",
    "    plt.title('PR curve')"
   ]
  },
  {
   "cell_type": "code",
   "execution_count": 52,
   "metadata": {},
   "outputs": [],
   "source": [
    "precisions, recalls, _ = precision_recall_curve(Y_test, \n",
    "                                    clf_gs.predict_proba(X_test)[:,1])"
   ]
  },
  {
   "cell_type": "code",
   "execution_count": 53,
   "metadata": {},
   "outputs": [
    {
     "data": {
      "text/plain": [
       "array([0.67069412, 0.67065351, 0.67073622, ..., 1.        , 1.        ,\n",
       "       1.        ])"
      ]
     },
     "execution_count": 53,
     "metadata": {},
     "output_type": "execute_result"
    }
   ],
   "source": [
    "precisions"
   ]
  },
  {
   "cell_type": "code",
   "execution_count": 54,
   "metadata": {},
   "outputs": [
    {
     "data": {
      "text/plain": [
       "array([1.00000000e+00, 9.99816176e-01, 9.99816176e-01, ...,\n",
       "       3.67647059e-04, 1.83823529e-04, 0.00000000e+00])"
      ]
     },
     "execution_count": 54,
     "metadata": {},
     "output_type": "execute_result"
    }
   ],
   "source": [
    "recalls"
   ]
  },
  {
   "cell_type": "code",
   "execution_count": 55,
   "metadata": {},
   "outputs": [
    {
     "data": {
      "text/plain": [
       "array([2.3180839e-04, 2.3415837e-04, 2.4286532e-04, ..., 9.9998856e-01,\n",
       "       9.9998868e-01, 9.9998915e-01], dtype=float32)"
      ]
     },
     "execution_count": 55,
     "metadata": {},
     "output_type": "execute_result"
    }
   ],
   "source": [
    "_"
   ]
  },
  {
   "cell_type": "code",
   "execution_count": 56,
   "metadata": {},
   "outputs": [
    {
     "data": {
      "image/png": "[encoded data removed]",
      "text/plain": [
       "<Figure size 432x288 with 1 Axes>"
      ]
     },
     "metadata": {
      "needs_background": "light"
     },
     "output_type": "display_data"
    }
   ],
   "source": [
    "plot_precision_recall_curve(precisions, recalls)"
   ]
  },
  {
   "cell_type": "code",
   "execution_count": 57,
   "metadata": {},
   "outputs": [
    {
     "data": {
      "text/plain": [
       "0.9294510679595793"
      ]
     },
     "execution_count": 57,
     "metadata": {},
     "output_type": "execute_result"
    }
   ],
   "source": [
    "fpr, tpr, _ = roc_curve(Y_test, clf_gs.predict_proba(X_test)[:,1])\n",
    "auc(fpr, tpr)"
   ]
  },
  {
   "cell_type": "code",
   "execution_count": 58,
   "metadata": {},
   "outputs": [],
   "source": [
    "def plot_roc_curve(fpr, tpr, model, color=None) :\n",
    "    model = model + ' (auc = %0.3f)' % auc(fpr, tpr)\n",
    "    plt.plot(fpr, tpr, label=model, color=color)\n",
    "    plt.plot([0, 1], [0, 1], color='navy', linestyle='--')\n",
    "    plt.axis([0,1,0,1])\n",
    "    plt.xlabel('FPR (1 - specificity)')\n",
    "    plt.ylabel('TPR (recall)')\n",
    "    plt.title('ROC curve')\n",
    "    plt.legend(loc=\"lower right\")"
   ]
  },
  {
   "cell_type": "code",
   "execution_count": 59,
   "metadata": {},
   "outputs": [
    {
     "data": {
      "image/png": "[encoded data removed]",
      "text/plain": [
       "<Figure size 432x288 with 1 Axes>"
      ]
     },
     "metadata": {
      "needs_background": "light"
     },
     "output_type": "display_data"
    }
   ],
   "source": [
    "fpr_dummy, tpr_dummy, _ = roc_curve(Y_test, \n",
    "                                    dummy.predict_proba(X_test)[:,1])\n",
    "plot_roc_curve(fpr_dummy, tpr_dummy, 'dummy model', 'hotpink')\n",
    "fpr_tree, tpr_tree, _ = roc_curve(Y_test, \n",
    "                                  clf_gs.predict_proba(X_test)[:,1])\n",
    "plot_roc_curve(fpr_tree, tpr_tree, 'light GBM', 'darkgreen')"
   ]
  },
  {
   "cell_type": "code",
   "execution_count": 60,
   "metadata": {},
   "outputs": [],
   "source": [
    "human_new = pd.read_csv(\"work/human_new.csv\", encoding=\"cp949\")\n",
    "s1=human_new['자본 이득']\n",
    "s2=human_new['자본 손실']\n",
    "s=s1+s2\n",
    "s.rename(\"순이익\",inplace=True)\n",
    "human_new = pd.concat([human_new,s],axis=1)"
   ]
  },
  {
   "cell_type": "code",
   "execution_count": 61,
   "metadata": {},
   "outputs": [],
   "source": [
    "human_new['나이대'] = (human_new['나이']/10).astype(int)\n",
    "human_new['주당 시간별'] = (human_new['주당 시간']/10).astype(int)\n",
    "human_new['fnlwgt2'] = (human_new['fnlwgt']/10000).astype(int)"
   ]
  },
  {
   "cell_type": "code",
   "execution_count": 62,
   "metadata": {},
   "outputs": [],
   "source": [
    " working_class = pd.get_dummies(human_new[\"노동 계급\"])\n",
    " human_new = pd.concat([human_new, working_class], axis=1)\n",
    "# human_new.drop(\"노동 계급\", axis=1, inplace=True)\n",
    "\n",
    "human_new[[\"노동 계급\"]] = human_new[[\"노동 계급\"]].apply(lambda x: x.str.lstrip())\n",
    "human_new[[\"노동 계급\"]] = human_new[[\"노동 계급\"]].apply(lambda x: x.astype('category').cat.codes)"
   ]
  },
  {
   "cell_type": "code",
   "execution_count": 63,
   "metadata": {},
   "outputs": [],
   "source": [
    "academic_ability = pd.get_dummies(human_new[\"학력\"])\n",
    "human_new = pd.concat([human_new,academic_ability],axis=1)\n",
    "# human_new.drop(\"학력\",axis=1,inplace=True)\n",
    "\n",
    "human_new[[\"학력\"]] = human_new[[\"학력\"]].apply(lambda x: x.str.lstrip())\n",
    "human_new[[\"학력\"]] = human_new[[\"학력\"]].apply(lambda x: x.astype('category').cat.codes)"
   ]
  },
  {
   "cell_type": "code",
   "execution_count": 64,
   "metadata": {},
   "outputs": [],
   "source": [
    "marital_status = pd.get_dummies(human_new[\"혼인 상태\"])\n",
    "human_new = pd.concat([human_new,marital_status], axis=1)\n",
    "# human_new.drop(\"혼인 상태\", axis=1, inplace=True)\n",
    "\n",
    "human_new[[\"혼인 상태\"]] = human_new[[\"혼인 상태\"]].apply(lambda x: x.str.lstrip())\n",
    "human_new[[\"혼인 상태\"]] = human_new[[\"혼인 상태\"]].apply(lambda x: x.astype('category').cat.codes)"
   ]
  },
  {
   "cell_type": "code",
   "execution_count": 65,
   "metadata": {},
   "outputs": [],
   "source": [
    "jobs = pd.get_dummies(human_new[\"직업\"])\n",
    "human_new = pd.concat([human_new, jobs], axis=1)\n",
    "# human_new.drop(\"직업\", axis=1, inplace=True)\n",
    "\n",
    "human_new[[\"직업\"]] = human_new[[\"직업\"]].apply(lambda x: x.str.lstrip())\n",
    "human_new[[\"직업\"]] = human_new[[\"직업\"]].apply(lambda x: x.astype('category').cat.codes)"
   ]
  },
  {
   "cell_type": "code",
   "execution_count": 66,
   "metadata": {},
   "outputs": [],
   "source": [
    "relationship = pd.get_dummies(human_new[\"관계\"])\n",
    "human_new = pd.concat([human_new, relationship], axis=1)\n",
    "# human_new.drop(\"관계\", axis=1, inplace=True)\n",
    "\n",
    "human_new[[\"관계\"]] = human_new[[\"관계\"]].apply(lambda x: x.str.lstrip())\n",
    "human_new[[\"관계\"]] = human_new[[\"관계\"]].apply(lambda x: x.astype('category').cat.codes)"
   ]
  },
  {
   "cell_type": "code",
   "execution_count": 67,
   "metadata": {},
   "outputs": [],
   "source": [
    "race = pd.get_dummies(human_new[\"인종\"])\n",
    "human_new = pd.concat([human_new, race], axis=1)\n",
    "# human_new.drop(\"인종\", axis=1, inplace=True)\n",
    "\n",
    "human_new[[\"인종\"]] = human_new[[\"인종\"]].apply(lambda x: x.str.lstrip())\n",
    "human_new[[\"인종\"]] = human_new[[\"인종\"]].apply(lambda x: x.astype('category').cat.codes)"
   ]
  },
  {
   "cell_type": "code",
   "execution_count": 68,
   "metadata": {},
   "outputs": [],
   "source": [
    "homeland = pd.get_dummies(human_new[\"모국\"])\n",
    "human_new = pd.concat([human_new, homeland], axis=1)\n",
    "# human_new.drop(\"모국\", axis=1, inplace=True)\n",
    "# human_new[\"Holand-Netherlands\"]=human_new[\" Yugoslavia\"]\n",
    "# human_new.loc[:,[\"Holand-Netherlands\"]]=0\n",
    "\n",
    "human_new[[\"모국\"]] = human_new[[\"모국\"]].apply(lambda x: x.str.lstrip())\n",
    "human_new[[\"모국\"]] = human_new[[\"모국\"]].apply(lambda x: x.astype('category').cat.codes)"
   ]
  },
  {
   "cell_type": "code",
   "execution_count": 69,
   "metadata": {},
   "outputs": [],
   "source": [
    "human_new.drop([\"자본 이득\",\"자본 손실\",\"순이익\"],axis=1,inplace=True)"
   ]
  },
  {
   "cell_type": "code",
   "execution_count": 70,
   "metadata": {},
   "outputs": [],
   "source": [
    "human_new_x=human_new.loc[:,['주당 시간','주당 시간별','나이','나이대','fnlwgt','fnlwgt2','교육 수']]"
   ]
  },
  {
   "cell_type": "code",
   "execution_count": 71,
   "metadata": {},
   "outputs": [],
   "source": [
    "human_new.drop(['주당 시간','주당 시간별','나이','나이대','fnlwgt','fnlwgt2','교육 수'],axis=1,inplace=True)"
   ]
  },
  {
   "cell_type": "code",
   "execution_count": 72,
   "metadata": {},
   "outputs": [],
   "source": [
    "human_new = pd.concat([human_new,human_new_x],axis=1)"
   ]
  },
  {
   "cell_type": "code",
   "execution_count": 73,
   "metadata": {},
   "outputs": [
    {
     "name": "stdout",
     "output_type": "stream",
     "text": [
      "<class 'pandas.core.frame.DataFrame'>\n",
      "RangeIndex: 16281 entries, 0 to 16280\n",
      "Columns: 111 entries, 아이디 to 교육 수\n",
      "dtypes: int32(3), int64(4), int8(7), object(1), uint8(96)\n",
      "memory usage: 2.4+ MB\n"
     ]
    }
   ],
   "source": [
    "human_new.info()"
   ]
  },
  {
   "cell_type": "code",
   "execution_count": 74,
   "metadata": {},
   "outputs": [],
   "source": [
    "ndf_predict_proba = clf_gs.predict_proba(human_new.loc[:, '노동 계급':'교육 수'])\n",
    "ndf_predict = clf_gs.predict(human_new.loc[:, '노동 계급':'교육 수'])"
   ]
  },
  {
   "cell_type": "code",
   "execution_count": 75,
   "metadata": {},
   "outputs": [],
   "source": [
    "result=np.concatenate([ndf_predict_proba, ndf_predict.reshape(-1,1)], axis=1)"
   ]
  },
  {
   "cell_type": "code",
   "execution_count": 76,
   "metadata": {},
   "outputs": [],
   "source": [
    "ndf_predict_proba_1 = ndf_predict_proba[:,1].reshape(-1,1)"
   ]
  },
  {
   "cell_type": "code",
   "execution_count": 95,
   "metadata": {},
   "outputs": [],
   "source": [
    "from sklearn.preprocessing import Binarizer\n",
    "custom_threshold =0.45\n",
    "binarizer = Binarizer(threshold=custom_threshold).fit(ndf_predict_proba_1)\n",
    "custom_predict = binarizer.transform(ndf_predict_proba_1)"
   ]
  },
  {
   "cell_type": "code",
   "execution_count": 96,
   "metadata": {},
   "outputs": [
    {
     "data": {
      "text/plain": [
       "array([[1.],\n",
       "       [1.],\n",
       "       [1.],\n",
       "       ...,\n",
       "       [1.],\n",
       "       [1.],\n",
       "       [1.]], dtype=float32)"
      ]
     },
     "execution_count": 96,
     "metadata": {},
     "output_type": "execute_result"
    }
   ],
   "source": [
    "custom_predict"
   ]
  },
  {
   "cell_type": "code",
   "execution_count": 102,
   "metadata": {},
   "outputs": [],
   "source": [
    "human_new['성별'] = custom_predict"
   ]
  },
  {
   "cell_type": "code",
   "execution_count": 103,
   "metadata": {},
   "outputs": [],
   "source": [
    "ndf_rename=human_new[['아이디','성별']]"
   ]
  },
  {
   "cell_type": "code",
   "execution_count": 104,
   "metadata": {},
   "outputs": [
    {
     "data": {
      "text/html": [
       "<div>\n",
       "<style scoped>\n",
       "    .dataframe tbody tr th:only-of-type {\n",
       "        vertical-align: middle;\n",
       "    }\n",
       "\n",
       "    .dataframe tbody tr th {\n",
       "        vertical-align: top;\n",
       "    }\n",
       "\n",
       "    .dataframe thead th {\n",
       "        text-align: right;\n",
       "    }\n",
       "</style>\n",
       "<table border=\"1\" class=\"dataframe\">\n",
       "  <thead>\n",
       "    <tr style=\"text-align: right;\">\n",
       "      <th></th>\n",
       "      <th>ID</th>\n",
       "      <th>SEX</th>\n",
       "    </tr>\n",
       "  </thead>\n",
       "  <tbody>\n",
       "    <tr>\n",
       "      <th>0</th>\n",
       "      <td>H00001</td>\n",
       "      <td>1</td>\n",
       "    </tr>\n",
       "    <tr>\n",
       "      <th>1</th>\n",
       "      <td>H00002</td>\n",
       "      <td>1</td>\n",
       "    </tr>\n",
       "    <tr>\n",
       "      <th>2</th>\n",
       "      <td>H00003</td>\n",
       "      <td>1</td>\n",
       "    </tr>\n",
       "    <tr>\n",
       "      <th>3</th>\n",
       "      <td>H00004</td>\n",
       "      <td>1</td>\n",
       "    </tr>\n",
       "    <tr>\n",
       "      <th>4</th>\n",
       "      <td>H00005</td>\n",
       "      <td>1</td>\n",
       "    </tr>\n",
       "  </tbody>\n",
       "</table>\n",
       "</div>"
      ],
      "text/plain": [
       "       ID  SEX\n",
       "0  H00001    1\n",
       "1  H00002    1\n",
       "2  H00003    1\n",
       "3  H00004    1\n",
       "4  H00005    1"
      ]
     },
     "execution_count": 104,
     "metadata": {},
     "output_type": "execute_result"
    }
   ],
   "source": [
    "ndf_rename = ndf_rename.rename(columns={'아이디':'ID', '성별':'SEX'})\n",
    "ndf_rename.head()"
   ]
  },
  {
   "cell_type": "code",
   "execution_count": 105,
   "metadata": {},
   "outputs": [],
   "source": [
    "ndf_rename.to_csv('submission_human.csv', encoding='cp949', index=False)"
   ]
  },
  {
   "cell_type": "code",
   "execution_count": 106,
   "metadata": {},
   "outputs": [
    {
     "data": {
      "text/plain": [
       "(16281, 2)"
      ]
     },
     "execution_count": 106,
     "metadata": {},
     "output_type": "execute_result"
    }
   ],
   "source": [
    "ndf_rename.shape"
   ]
  },
  {
   "cell_type": "code",
   "execution_count": 107,
   "metadata": {},
   "outputs": [
    {
     "data": {
      "text/plain": [
       "성별                     1.000000\n",
       " Husband               0.580135\n",
       " Married-civ-spouse    0.431805\n",
       "주당 시간별                 0.240200\n",
       "주당 시간                  0.236223\n",
       "                         ...   \n",
       " Divorced             -0.228621\n",
       " Adm-clerical         -0.263148\n",
       " Wife                 -0.319311\n",
       " Unmarried            -0.321273\n",
       "관계                    -0.582454\n",
       "Name: 성별, Length: 111, dtype: float64"
      ]
     },
     "execution_count": 107,
     "metadata": {},
     "output_type": "execute_result"
    }
   ],
   "source": [
    "human_train.corr().성별.sort_values(ascending=False)"
   ]
  },
  {
   "cell_type": "code",
   "execution_count": 85,
   "metadata": {},
   "outputs": [],
   "source": [
    "predict_proba = clf_gs.predict_proba(X_test)\n",
    "predict = clf_gs.predict(X_test)"
   ]
  },
  {
   "cell_type": "code",
   "execution_count": 86,
   "metadata": {},
   "outputs": [],
   "source": [
    "result1=np.concatenate([predict_proba, predict.reshape(-1,1)], axis=1)"
   ]
  },
  {
   "cell_type": "code",
   "execution_count": 87,
   "metadata": {},
   "outputs": [],
   "source": [
    "predict_proba_1 = predict_proba[:,1].reshape(-1,1)"
   ]
  },
  {
   "cell_type": "code",
   "execution_count": 88,
   "metadata": {},
   "outputs": [],
   "source": [
    "custom_threshold =0.55\n",
    "binarizer = Binarizer(threshold=custom_threshold).fit(predict_proba_1)\n",
    "custom_predict = binarizer.transform(predict_proba_1)"
   ]
  },
  {
   "cell_type": "code",
   "execution_count": 125,
   "metadata": {},
   "outputs": [
    {
     "name": "stdout",
     "output_type": "stream",
     "text": [
      "오차행렬\n",
      "[[2223  478]\n",
      " [ 821 4619]]\n",
      "정확도: 0.8404, 정밀도: 0.9062, 재현율: 0.8491\n"
     ]
    }
   ],
   "source": [
    "get_clf_eval(Y_test, custom_predict)"
   ]
  },
  {
   "cell_type": "code",
   "execution_count": 118,
   "metadata": {},
   "outputs": [],
   "source": [
    "a=human_train.corr().성별.sort_values(ascending=False)"
   ]
  },
  {
   "cell_type": "code",
   "execution_count": 119,
   "metadata": {},
   "outputs": [],
   "source": [
    "human_train['나이'] = (human_train['나이']/10).astype(int)"
   ]
  },
  {
   "cell_type": "code",
   "execution_count": 120,
   "metadata": {},
   "outputs": [],
   "source": [
    "a=pd.DataFrame({\"수치\":a})"
   ]
  },
  {
   "cell_type": "code",
   "execution_count": 114,
   "metadata": {},
   "outputs": [
    {
     "name": "stdout",
     "output_type": "stream",
     "text": [
      "<class 'pandas.core.frame.DataFrame'>\n",
      "Index: 115 entries, 성별 to 관계\n",
      "Data columns (total 1 columns):\n",
      " #   Column  Non-Null Count  Dtype  \n",
      "---  ------  --------------  -----  \n",
      " 0   수치      115 non-null    float64\n",
      "dtypes: float64(1)\n",
      "memory usage: 1.8+ KB\n"
     ]
    }
   ],
   "source": [
    "a.info()"
   ]
  },
  {
   "cell_type": "code",
   "execution_count": 113,
   "metadata": {},
   "outputs": [
    {
     "name": "stdout",
     "output_type": "stream",
     "text": [
      "0.5801352648003859\n",
      "0.43180545811342946\n",
      "0.23568946222608525\n",
      "0.2293091490264182\n",
      "0.22312817750275654\n",
      "0.13246788820685695\n",
      "0.10745142628229438\n",
      "0.10348624694398598\n",
      "0.10009723650965793\n",
      "0.09598083475032537\n",
      "0.09402582601874208\n",
      "0.08883173120974484\n",
      "0.08762274910394074\n",
      "0.08720430156363829\n",
      "0.08401528263720216\n",
      "0.08029644294812227\n",
      "0.06476990040727498\n",
      "0.05097797284054917\n",
      "0.048793147111447305\n",
      "0.048479646868691675\n",
      "0.045567354678684426\n",
      "0.036729116751779145\n",
      "0.03129314968865496\n",
      "0.03050199157934993\n",
      "0.02952536095137569\n",
      "0.026947031230594526\n",
      "0.0268580452698733\n",
      "0.026836574562376734\n",
      "0.026046443254430143\n",
      "0.02513316234783888\n",
      "0.016968752680404178\n",
      "0.013630536608212467\n",
      "0.012280054339657419\n",
      "0.011690465756782295\n",
      "0.011684471462180306\n",
      "0.011187318018610967\n",
      "0.010050485108158796\n",
      "0.00990169337152947\n",
      "0.008879534658810688\n",
      "0.008722291556379977\n",
      "0.00675287184158819\n",
      "0.005333360649173363\n",
      "0.005187288259542612\n",
      "0.0043446299626606006\n",
      "0.0030875206952258472\n",
      "0.0022586236466299306\n",
      "0.0017255605790154084\n",
      "0.0016226092120311902\n",
      "0.0014368990593077438\n",
      "0.0014049924901696968\n",
      "0.0012901618687111392\n",
      "0.0011008109393690307\n",
      "0.0009889120331748695\n",
      "0.0007625168393771189\n",
      "0.0005839952479669175\n",
      "0.0004638276699745275\n",
      "7.358743502835901e-05\n",
      "-0.0004364871276632203\n",
      "-0.0008558628553619476\n",
      "-0.0011614567414469808\n",
      "-0.0012053332437295431\n",
      "-0.0015218328318161534\n",
      "-0.002770661882305001\n",
      "-0.003504412982825123\n",
      "-0.004662808988473023\n",
      "-0.005266904725930219\n",
      "-0.005553569862249591\n",
      "-0.0056809080500611646\n",
      "-0.0062994258537964025\n",
      "-0.006880829665521661\n",
      "-0.0069932291541570475\n",
      "-0.007458716413127749\n",
      "-0.00788239880732494\n",
      "-0.007927075264000587\n",
      "-0.008118721130051734\n",
      "-0.008821007266885767\n",
      "-0.00967521747609973\n",
      "-0.010377071605479515\n",
      "-0.010820302987526256\n",
      "-0.011503718466704838\n",
      "-0.012744273132488685\n",
      "-0.013871570002567253\n",
      "-0.01390620463457857\n",
      "-0.014011911518821791\n",
      "-0.014804974756951786\n",
      "-0.015160274556498739\n",
      "-0.015703625529663527\n",
      "-0.01579123839188968\n",
      "-0.016092411324585405\n",
      "-0.016692563625172036\n",
      "-0.019895001534771646\n",
      "-0.02123522670889752\n",
      "-0.024947309189829455\n",
      "-0.02735623812478498\n",
      "-0.028511252013998584\n",
      "-0.03469922140000381\n",
      "-0.03796622740249425\n",
      "-0.03869164444350576\n",
      "-0.040282298953930304\n",
      "-0.06172150065290025\n",
      "-0.08869914085859852\n",
      "-0.10236883084144327\n",
      "-0.10913472805835225\n",
      "-0.11560448927241114\n",
      "-0.1293144674138526\n",
      "-0.15367728949869308\n",
      "-0.16887880592474305\n",
      "-0.1714339459788558\n",
      "-0.18848665862329125\n",
      "-0.22862112530320006\n",
      "-0.2631477628435698\n",
      "-0.31931054800352593\n",
      "-0.3212732037334771\n",
      "-0.5824536900499023\n"
     ]
    }
   ],
   "source": [
    "for i,v in enumerate(a['수치']):\n",
    "    if ((v>-1.0) and (v<1.0)) :\n",
    "        print(v)"
   ]
  },
  {
   "cell_type": "code",
   "execution_count": 134,
   "metadata": {},
   "outputs": [
    {
     "ename": "TypeError",
     "evalue": "corr() missing 1 required positional argument: 'other'",
     "output_type": "error",
     "traceback": [
      "\u001b[1;31m---------------------------------------------------------------------------\u001b[0m",
      "\u001b[1;31mTypeError\u001b[0m                                 Traceback (most recent call last)",
      "\u001b[1;32m<ipython-input-134-5206f57b2619>\u001b[0m in \u001b[0;36m<module>\u001b[1;34m\u001b[0m\n\u001b[1;32m----> 1\u001b[1;33m \u001b[0mhuman_train\u001b[0m\u001b[1;33m.\u001b[0m\u001b[0m성별\u001b[0m\u001b[1;33m.\u001b[0m\u001b[0mcorr\u001b[0m\u001b[1;33m(\u001b[0m\u001b[1;33m)\u001b[0m\u001b[1;33m\u001b[0m\u001b[1;33m\u001b[0m\u001b[0m\n\u001b[0m",
      "\u001b[1;31mTypeError\u001b[0m: corr() missing 1 required positional argument: 'other'"
     ]
    }
   ],
   "source": []
  },
  {
   "cell_type": "code",
   "execution_count": 100,
   "metadata": {},
   "outputs": [
    {
     "name": "stdout",
     "output_type": "stream",
     "text": [
      "1\n"
     ]
    }
   ],
   "source": [
    "for i,v in enumerate(a[['1']]):\n",
    "    #if (v<1) and (v>-1) :\n",
    "        print(v)"
   ]
  },
  {
   "cell_type": "code",
   "execution_count": null,
   "metadata": {},
   "outputs": [],
   "source": []
  },
  {
   "cell_type": "code",
   "execution_count": 56,
   "metadata": {},
   "outputs": [
    {
     "data": {
      "text/plain": [
       "3    8613\n",
       "2    8054\n",
       "4    7175\n",
       "5    4418\n",
       "6    2015\n",
       "1    1657\n",
       "7     508\n",
       "8      78\n",
       "9      43\n",
       "Name: 나이, dtype: int64"
      ]
     },
     "execution_count": 56,
     "metadata": {},
     "output_type": "execute_result"
    }
   ],
   "source": [
    "human_train['나이'].value_counts()"
   ]
  },
  {
   "cell_type": "code",
   "execution_count": 53,
   "metadata": {},
   "outputs": [
    {
     "data": {
      "text/plain": [
       "3    8613\n",
       "2    8054\n",
       "4    7175\n",
       "5    4418\n",
       "6    2015\n",
       "1    1657\n",
       "7     508\n",
       "8      78\n",
       "9      43\n",
       "Name: 나이, dtype: int64"
      ]
     },
     "execution_count": 53,
     "metadata": {},
     "output_type": "execute_result"
    }
   ],
   "source": [
    "a.value_counts()"
   ]
  },
  {
   "cell_type": "code",
   "execution_count": 4,
   "metadata": {},
   "outputs": [
    {
     "data": {
      "text/plain": [
       "count    32561.000000\n",
       "mean        38.581647\n",
       "std         13.640433\n",
       "min         17.000000\n",
       "25%         28.000000\n",
       "50%         37.000000\n",
       "75%         48.000000\n",
       "max         90.000000\n",
       "Name: 나이, dtype: float64"
      ]
     },
     "execution_count": 4,
     "metadata": {},
     "output_type": "execute_result"
    }
   ],
   "source": [
    "human_train['나이'].describe()"
   ]
  },
  {
   "cell_type": "code",
   "execution_count": 66,
   "metadata": {},
   "outputs": [
    {
     "data": {
      "text/plain": [
       "18     1852\n",
       "19     1815\n",
       "17     1758\n",
       "16     1537\n",
       "20     1483\n",
       "       ... \n",
       "116       1\n",
       "148       1\n",
       "88        1\n",
       "118       1\n",
       "95        1\n",
       "Name: fnlwgt, Length: 99, dtype: int64"
      ]
     },
     "execution_count": 66,
     "metadata": {},
     "output_type": "execute_result"
    }
   ],
   "source": [
    "human_train['fnlwgt'].value_counts()"
   ]
  },
  {
   "cell_type": "code",
   "execution_count": 6,
   "metadata": {},
   "outputs": [
    {
     "data": {
      "text/plain": [
       "Index(['아이디', '나이', '노동 계급', 'fnlwgt', '학력', '교육 수', '혼인 상태', '직업', '관계', '인종',\n",
       "       '성별', '자본 이득', '자본 손실', '주당 시간', '모국'],\n",
       "      dtype='object')"
      ]
     },
     "execution_count": 6,
     "metadata": {},
     "output_type": "execute_result"
    }
   ],
   "source": [
    "human_train.columns"
   ]
  },
  {
   "cell_type": "code",
   "execution_count": 7,
   "metadata": {},
   "outputs": [
    {
     "data": {
      "text/plain": [
       "9     10501\n",
       "10     7291\n",
       "13     5355\n",
       "14     1723\n",
       "11     1382\n",
       "7      1175\n",
       "12     1067\n",
       "6       933\n",
       "4       646\n",
       "15      576\n",
       "5       514\n",
       "8       433\n",
       "16      413\n",
       "3       333\n",
       "2       168\n",
       "1        51\n",
       "Name: 교육 수, dtype: int64"
      ]
     },
     "execution_count": 7,
     "metadata": {},
     "output_type": "execute_result"
    }
   ],
   "source": [
    "human_train['교육 수'].value_counts()"
   ]
  },
  {
   "cell_type": "code",
   "execution_count": 8,
   "metadata": {},
   "outputs": [
    {
     "data": {
      "text/plain": [
       "0        29849\n",
       "15024      347\n",
       "7688       284\n",
       "7298       246\n",
       "99999      159\n",
       "         ...  \n",
       "4931         1\n",
       "1455         1\n",
       "6097         1\n",
       "22040        1\n",
       "1111         1\n",
       "Name: 자본 이득, Length: 119, dtype: int64"
      ]
     },
     "execution_count": 8,
     "metadata": {},
     "output_type": "execute_result"
    }
   ],
   "source": [
    "human_train['자본 이득'].value_counts()"
   ]
  },
  {
   "cell_type": "code",
   "execution_count": 9,
   "metadata": {},
   "outputs": [
    {
     "data": {
      "text/plain": [
       "0       31042\n",
       "1902      202\n",
       "1977      168\n",
       "1887      159\n",
       "1848       51\n",
       "        ...  \n",
       "1411        1\n",
       "1539        1\n",
       "2472        1\n",
       "1944        1\n",
       "2201        1\n",
       "Name: 자본 손실, Length: 92, dtype: int64"
      ]
     },
     "execution_count": 9,
     "metadata": {},
     "output_type": "execute_result"
    }
   ],
   "source": [
    "human_train['자본 손실'].value_counts()"
   ]
  },
  {
   "cell_type": "code",
   "execution_count": 58,
   "metadata": {},
   "outputs": [
    {
     "data": {
      "text/plain": [
       "19750     1\n",
       "25078     1\n",
       "11451     1\n",
       "8447      1\n",
       "32525     1\n",
       "         ..\n",
       "25806    99\n",
       "30610    99\n",
       "10143    99\n",
       "4308     99\n",
       "1887     99\n",
       "Name: 주당 시간, Length: 32561, dtype: int64"
      ]
     },
     "execution_count": 58,
     "metadata": {},
     "output_type": "execute_result"
    }
   ],
   "source": [
    "human_train['주당 시간'].sort_values()"
   ]
  },
  {
   "cell_type": "code",
   "execution_count": 59,
   "metadata": {},
   "outputs": [
    {
     "data": {
      "text/plain": [
       "0        40\n",
       "1        13\n",
       "2        40\n",
       "3        40\n",
       "4        40\n",
       "         ..\n",
       "32556    38\n",
       "32557    40\n",
       "32558    40\n",
       "32559    20\n",
       "32560    40\n",
       "Name: 주당 시간, Length: 32561, dtype: int64"
      ]
     },
     "execution_count": 59,
     "metadata": {},
     "output_type": "execute_result"
    }
   ],
   "source": [
    "human_train['주당 시간']"
   ]
  },
  {
   "cell_type": "code",
   "execution_count": 64,
   "metadata": {},
   "outputs": [],
   "source": [
    "human_train['fnlwgt'] = (human_train['fnlwgt']/10000).astype(int)"
   ]
  },
  {
   "cell_type": "code",
   "execution_count": null,
   "metadata": {},
   "outputs": [],
   "source": [
    "human_new[[\"관계\"]] = human_new[[\"관계\"]].apply(lambda x: x.str.lstrip())\n",
    "human_new[[\"관계\"]] = human_new[[\"관계\"]].apply(lambda x: x.astype('category').cat.codes)"
   ]
  }
 ],
 "metadata": {
  "kernelspec": {
   "display_name": "Python 3",
   "language": "python",
   "name": "python3"
  },
  "language_info": {
   "codemirror_mode": {
    "name": "ipython",
    "version": 3
   },
   "file_extension": ".py",
   "mimetype": "text/x-python",
   "name": "python",
   "nbconvert_exporter": "python",
   "pygments_lexer": "ipython3",
   "version": "3.8.5"
  }
 },
 "nbformat": 4,
 "nbformat_minor": 4
}
