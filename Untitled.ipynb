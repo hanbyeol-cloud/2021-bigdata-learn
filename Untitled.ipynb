{
 "cells": [
  {
   "cell_type": "code",
   "execution_count": 36,
   "metadata": {},
   "outputs": [],
   "source": [
    "import pandas as pd\n",
    "import numpy as np\n",
    "import matplotlib.pyplot as plt\n",
    "%matplotlib inline\n",
    "from sklearn.model_selection import train_test_split\n",
    "from sklearn.linear_model import LogisticRegression\n",
    "from sklearn.model_selection import cross_val_score\n",
    "from sklearn.preprocessing import MinMaxScaler\n",
    "from sklearn.model_selection import KFold\n",
    "from sklearn.metrics import accuracy_score\n",
    "from sklearn.tree import DecisionTreeClassifier\n",
    "from sklearn import tree\n",
    "from sklearn.metrics import recall_score\n",
    "from sklearn.metrics import precision_score\n",
    "from sklearn.model_selection import GridSearchCV\n",
    "from sklearn.dummy import DummyClassifier\n",
    "from sklearn.svm import SVC\n",
    "from sklearn.neural_network import MLPClassifier\n",
    "from sklearn.metrics import mean_squared_error\n",
    "import xgboost as xgb\n",
    "from xgboost import XGBClassifier\n",
    "from xgboost import plot_importance\n",
    "from sklearn.metrics import confusion_matrix\n",
    "from lightgbm import LGBMClassifier\n",
    "from sklearn.metrics import precision_recall_curve\n",
    "from sklearn.metrics import roc_curve\n",
    "from sklearn.metrics import auc"
   ]
  },
  {
   "cell_type": "code",
   "execution_count": 37,
   "metadata": {},
   "outputs": [],
   "source": [
    "human_train = pd.read_csv(\"work/human.csv\", encoding=\"cp949\")\n",
    "human_new = pd.read_csv(\"work/human_new.csv\", encoding=\"cp949\")"
   ]
  },
  {
   "cell_type": "code",
   "execution_count": 38,
   "metadata": {},
   "outputs": [
    {
     "data": {
      "text/html": [
       "<div>\n",
       "<style scoped>\n",
       "    .dataframe tbody tr th:only-of-type {\n",
       "        vertical-align: middle;\n",
       "    }\n",
       "\n",
       "    .dataframe tbody tr th {\n",
       "        vertical-align: top;\n",
       "    }\n",
       "\n",
       "    .dataframe thead th {\n",
       "        text-align: right;\n",
       "    }\n",
       "</style>\n",
       "<table border=\"1\" class=\"dataframe\">\n",
       "  <thead>\n",
       "    <tr style=\"text-align: right;\">\n",
       "      <th></th>\n",
       "      <th>아이디</th>\n",
       "      <th>나이</th>\n",
       "      <th>노동 계급</th>\n",
       "      <th>fnlwgt</th>\n",
       "      <th>학력</th>\n",
       "      <th>교육 수</th>\n",
       "      <th>혼인 상태</th>\n",
       "      <th>직업</th>\n",
       "      <th>관계</th>\n",
       "      <th>인종</th>\n",
       "      <th>성별</th>\n",
       "      <th>자본 이득</th>\n",
       "      <th>자본 손실</th>\n",
       "      <th>주당 시간</th>\n",
       "      <th>모국</th>\n",
       "    </tr>\n",
       "  </thead>\n",
       "  <tbody>\n",
       "    <tr>\n",
       "      <th>0</th>\n",
       "      <td>H20001</td>\n",
       "      <td>39</td>\n",
       "      <td>State-gov</td>\n",
       "      <td>77516</td>\n",
       "      <td>Bachelors</td>\n",
       "      <td>13</td>\n",
       "      <td>Never-married</td>\n",
       "      <td>Adm-clerical</td>\n",
       "      <td>Not-in-family</td>\n",
       "      <td>White</td>\n",
       "      <td>Male</td>\n",
       "      <td>2174</td>\n",
       "      <td>0</td>\n",
       "      <td>40</td>\n",
       "      <td>United-States</td>\n",
       "    </tr>\n",
       "    <tr>\n",
       "      <th>1</th>\n",
       "      <td>H20002</td>\n",
       "      <td>50</td>\n",
       "      <td>Self-emp-not-inc</td>\n",
       "      <td>83311</td>\n",
       "      <td>Bachelors</td>\n",
       "      <td>13</td>\n",
       "      <td>Married-civ-spouse</td>\n",
       "      <td>Exec-managerial</td>\n",
       "      <td>Husband</td>\n",
       "      <td>White</td>\n",
       "      <td>Male</td>\n",
       "      <td>0</td>\n",
       "      <td>0</td>\n",
       "      <td>13</td>\n",
       "      <td>United-States</td>\n",
       "    </tr>\n",
       "    <tr>\n",
       "      <th>2</th>\n",
       "      <td>H20003</td>\n",
       "      <td>38</td>\n",
       "      <td>Private</td>\n",
       "      <td>215646</td>\n",
       "      <td>HS-grad</td>\n",
       "      <td>9</td>\n",
       "      <td>Divorced</td>\n",
       "      <td>Handlers-cleaners</td>\n",
       "      <td>Not-in-family</td>\n",
       "      <td>White</td>\n",
       "      <td>Male</td>\n",
       "      <td>0</td>\n",
       "      <td>0</td>\n",
       "      <td>40</td>\n",
       "      <td>United-States</td>\n",
       "    </tr>\n",
       "    <tr>\n",
       "      <th>3</th>\n",
       "      <td>H20004</td>\n",
       "      <td>53</td>\n",
       "      <td>Private</td>\n",
       "      <td>234721</td>\n",
       "      <td>11th</td>\n",
       "      <td>7</td>\n",
       "      <td>Married-civ-spouse</td>\n",
       "      <td>Handlers-cleaners</td>\n",
       "      <td>Husband</td>\n",
       "      <td>Black</td>\n",
       "      <td>Male</td>\n",
       "      <td>0</td>\n",
       "      <td>0</td>\n",
       "      <td>40</td>\n",
       "      <td>United-States</td>\n",
       "    </tr>\n",
       "    <tr>\n",
       "      <th>4</th>\n",
       "      <td>H20005</td>\n",
       "      <td>28</td>\n",
       "      <td>Private</td>\n",
       "      <td>338409</td>\n",
       "      <td>Bachelors</td>\n",
       "      <td>13</td>\n",
       "      <td>Married-civ-spouse</td>\n",
       "      <td>Prof-specialty</td>\n",
       "      <td>Wife</td>\n",
       "      <td>Black</td>\n",
       "      <td>Female</td>\n",
       "      <td>0</td>\n",
       "      <td>0</td>\n",
       "      <td>40</td>\n",
       "      <td>Cuba</td>\n",
       "    </tr>\n",
       "    <tr>\n",
       "      <th>...</th>\n",
       "      <td>...</td>\n",
       "      <td>...</td>\n",
       "      <td>...</td>\n",
       "      <td>...</td>\n",
       "      <td>...</td>\n",
       "      <td>...</td>\n",
       "      <td>...</td>\n",
       "      <td>...</td>\n",
       "      <td>...</td>\n",
       "      <td>...</td>\n",
       "      <td>...</td>\n",
       "      <td>...</td>\n",
       "      <td>...</td>\n",
       "      <td>...</td>\n",
       "      <td>...</td>\n",
       "    </tr>\n",
       "    <tr>\n",
       "      <th>32556</th>\n",
       "      <td>H52557</td>\n",
       "      <td>27</td>\n",
       "      <td>Private</td>\n",
       "      <td>257302</td>\n",
       "      <td>Assoc-acdm</td>\n",
       "      <td>12</td>\n",
       "      <td>Married-civ-spouse</td>\n",
       "      <td>Tech-support</td>\n",
       "      <td>Wife</td>\n",
       "      <td>White</td>\n",
       "      <td>Female</td>\n",
       "      <td>0</td>\n",
       "      <td>0</td>\n",
       "      <td>38</td>\n",
       "      <td>United-States</td>\n",
       "    </tr>\n",
       "    <tr>\n",
       "      <th>32557</th>\n",
       "      <td>H52558</td>\n",
       "      <td>40</td>\n",
       "      <td>Private</td>\n",
       "      <td>154374</td>\n",
       "      <td>HS-grad</td>\n",
       "      <td>9</td>\n",
       "      <td>Married-civ-spouse</td>\n",
       "      <td>Machine-op-inspct</td>\n",
       "      <td>Husband</td>\n",
       "      <td>White</td>\n",
       "      <td>Male</td>\n",
       "      <td>0</td>\n",
       "      <td>0</td>\n",
       "      <td>40</td>\n",
       "      <td>United-States</td>\n",
       "    </tr>\n",
       "    <tr>\n",
       "      <th>32558</th>\n",
       "      <td>H52559</td>\n",
       "      <td>58</td>\n",
       "      <td>Private</td>\n",
       "      <td>151910</td>\n",
       "      <td>HS-grad</td>\n",
       "      <td>9</td>\n",
       "      <td>Widowed</td>\n",
       "      <td>Adm-clerical</td>\n",
       "      <td>Unmarried</td>\n",
       "      <td>White</td>\n",
       "      <td>Female</td>\n",
       "      <td>0</td>\n",
       "      <td>0</td>\n",
       "      <td>40</td>\n",
       "      <td>United-States</td>\n",
       "    </tr>\n",
       "    <tr>\n",
       "      <th>32559</th>\n",
       "      <td>H52560</td>\n",
       "      <td>22</td>\n",
       "      <td>Private</td>\n",
       "      <td>201490</td>\n",
       "      <td>HS-grad</td>\n",
       "      <td>9</td>\n",
       "      <td>Never-married</td>\n",
       "      <td>Adm-clerical</td>\n",
       "      <td>Own-child</td>\n",
       "      <td>White</td>\n",
       "      <td>Male</td>\n",
       "      <td>0</td>\n",
       "      <td>0</td>\n",
       "      <td>20</td>\n",
       "      <td>United-States</td>\n",
       "    </tr>\n",
       "    <tr>\n",
       "      <th>32560</th>\n",
       "      <td>H52561</td>\n",
       "      <td>52</td>\n",
       "      <td>Self-emp-inc</td>\n",
       "      <td>287927</td>\n",
       "      <td>HS-grad</td>\n",
       "      <td>9</td>\n",
       "      <td>Married-civ-spouse</td>\n",
       "      <td>Exec-managerial</td>\n",
       "      <td>Wife</td>\n",
       "      <td>White</td>\n",
       "      <td>Female</td>\n",
       "      <td>15024</td>\n",
       "      <td>0</td>\n",
       "      <td>40</td>\n",
       "      <td>United-States</td>\n",
       "    </tr>\n",
       "  </tbody>\n",
       "</table>\n",
       "<p>32561 rows × 15 columns</p>\n",
       "</div>"
      ],
      "text/plain": [
       "          아이디  나이              노동 계급  fnlwgt           학력  교육 수  \\\n",
       "0      H20001  39          State-gov   77516    Bachelors    13   \n",
       "1      H20002  50   Self-emp-not-inc   83311    Bachelors    13   \n",
       "2      H20003  38            Private  215646      HS-grad     9   \n",
       "3      H20004  53            Private  234721         11th     7   \n",
       "4      H20005  28            Private  338409    Bachelors    13   \n",
       "...       ...  ..                ...     ...          ...   ...   \n",
       "32556  H52557  27            Private  257302   Assoc-acdm    12   \n",
       "32557  H52558  40            Private  154374      HS-grad     9   \n",
       "32558  H52559  58            Private  151910      HS-grad     9   \n",
       "32559  H52560  22            Private  201490      HS-grad     9   \n",
       "32560  H52561  52       Self-emp-inc  287927      HS-grad     9   \n",
       "\n",
       "                     혼인 상태                  직업              관계      인종  \\\n",
       "0            Never-married        Adm-clerical   Not-in-family   White   \n",
       "1       Married-civ-spouse     Exec-managerial         Husband   White   \n",
       "2                 Divorced   Handlers-cleaners   Not-in-family   White   \n",
       "3       Married-civ-spouse   Handlers-cleaners         Husband   Black   \n",
       "4       Married-civ-spouse      Prof-specialty            Wife   Black   \n",
       "...                    ...                 ...             ...     ...   \n",
       "32556   Married-civ-spouse        Tech-support            Wife   White   \n",
       "32557   Married-civ-spouse   Machine-op-inspct         Husband   White   \n",
       "32558              Widowed        Adm-clerical       Unmarried   White   \n",
       "32559        Never-married        Adm-clerical       Own-child   White   \n",
       "32560   Married-civ-spouse     Exec-managerial            Wife   White   \n",
       "\n",
       "            성별  자본 이득  자본 손실  주당 시간              모국  \n",
       "0         Male   2174      0     40   United-States  \n",
       "1         Male      0      0     13   United-States  \n",
       "2         Male      0      0     40   United-States  \n",
       "3         Male      0      0     40   United-States  \n",
       "4       Female      0      0     40            Cuba  \n",
       "...        ...    ...    ...    ...             ...  \n",
       "32556   Female      0      0     38   United-States  \n",
       "32557     Male      0      0     40   United-States  \n",
       "32558   Female      0      0     40   United-States  \n",
       "32559     Male      0      0     20   United-States  \n",
       "32560   Female  15024      0     40   United-States  \n",
       "\n",
       "[32561 rows x 15 columns]"
      ]
     },
     "execution_count": 38,
     "metadata": {},
     "output_type": "execute_result"
    }
   ],
   "source": [
    "human_train"
   ]
  },
  {
   "cell_type": "code",
   "execution_count": 39,
   "metadata": {},
   "outputs": [
    {
     "name": "stdout",
     "output_type": "stream",
     "text": [
      "<class 'pandas.core.frame.DataFrame'>\n",
      "RangeIndex: 32561 entries, 0 to 32560\n",
      "Data columns (total 15 columns):\n",
      " #   Column  Non-Null Count  Dtype \n",
      "---  ------  --------------  ----- \n",
      " 0   아이디     32561 non-null  object\n",
      " 1   나이      32561 non-null  int64 \n",
      " 2   노동 계급   30725 non-null  object\n",
      " 3   fnlwgt  32561 non-null  int64 \n",
      " 4   학력      32561 non-null  object\n",
      " 5   교육 수    32561 non-null  int64 \n",
      " 6   혼인 상태   32561 non-null  object\n",
      " 7   직업      30718 non-null  object\n",
      " 8   관계      32561 non-null  object\n",
      " 9   인종      32561 non-null  object\n",
      " 10  성별      32561 non-null  object\n",
      " 11  자본 이득   32561 non-null  int64 \n",
      " 12  자본 손실   32561 non-null  int64 \n",
      " 13  주당 시간   32561 non-null  int64 \n",
      " 14  모국      31978 non-null  object\n",
      "dtypes: int64(6), object(9)\n",
      "memory usage: 3.7+ MB\n"
     ]
    }
   ],
   "source": [
    "human_train.info()"
   ]
  },
  {
   "cell_type": "code",
   "execution_count": 40,
   "metadata": {},
   "outputs": [
    {
     "data": {
      "text/plain": [
       "아이디          0\n",
       "나이           0\n",
       "노동 계급     1836\n",
       "fnlwgt       0\n",
       "학력           0\n",
       "교육 수         0\n",
       "혼인 상태        0\n",
       "직업        1843\n",
       "관계           0\n",
       "인종           0\n",
       "성별           0\n",
       "자본 이득        0\n",
       "자본 손실        0\n",
       "주당 시간        0\n",
       "모국         583\n",
       "dtype: int64"
      ]
     },
     "execution_count": 40,
     "metadata": {},
     "output_type": "execute_result"
    }
   ],
   "source": [
    "human_train.isnull().sum()"
   ]
  },
  {
   "cell_type": "code",
   "execution_count": 41,
   "metadata": {},
   "outputs": [
    {
     "data": {
      "text/plain": [
       " Private             22696\n",
       " Self-emp-not-inc     2541\n",
       " Local-gov            2093\n",
       " State-gov            1298\n",
       " Self-emp-inc         1116\n",
       " Federal-gov           960\n",
       " Without-pay            14\n",
       " Never-worked            7\n",
       "Name: 노동 계급, dtype: int64"
      ]
     },
     "execution_count": 41,
     "metadata": {},
     "output_type": "execute_result"
    }
   ],
   "source": [
    "human_train[\"노동 계급\"].value_counts()"
   ]
  },
  {
   "cell_type": "code",
   "execution_count": 42,
   "metadata": {},
   "outputs": [
    {
     "data": {
      "text/plain": [
       " HS-grad         10501\n",
       " Some-college     7291\n",
       " Bachelors        5355\n",
       " Masters          1723\n",
       " Assoc-voc        1382\n",
       " 11th             1175\n",
       " Assoc-acdm       1067\n",
       " 10th              933\n",
       " 7th-8th           646\n",
       " Prof-school       576\n",
       " 9th               514\n",
       " 12th              433\n",
       " Doctorate         413\n",
       " 5th-6th           333\n",
       " 1st-4th           168\n",
       " Preschool          51\n",
       "Name: 학력, dtype: int64"
      ]
     },
     "execution_count": 42,
     "metadata": {},
     "output_type": "execute_result"
    }
   ],
   "source": [
    "human_train[\"학력\"].value_counts()"
   ]
  },
  {
   "cell_type": "code",
   "execution_count": 43,
   "metadata": {},
   "outputs": [
    {
     "data": {
      "text/plain": [
       " Married-civ-spouse       14976\n",
       " Never-married            10683\n",
       " Divorced                  4443\n",
       " Separated                 1025\n",
       " Widowed                    993\n",
       " Married-spouse-absent      418\n",
       " Married-AF-spouse           23\n",
       "Name: 혼인 상태, dtype: int64"
      ]
     },
     "execution_count": 43,
     "metadata": {},
     "output_type": "execute_result"
    }
   ],
   "source": [
    "human_train[\"혼인 상태\"].value_counts()"
   ]
  },
  {
   "cell_type": "code",
   "execution_count": 44,
   "metadata": {},
   "outputs": [
    {
     "data": {
      "text/plain": [
       " Prof-specialty       4140\n",
       " Craft-repair         4099\n",
       " Exec-managerial      4066\n",
       " Adm-clerical         3770\n",
       " Sales                3650\n",
       " Other-service        3295\n",
       " Machine-op-inspct    2002\n",
       " Transport-moving     1597\n",
       " Handlers-cleaners    1370\n",
       " Farming-fishing       994\n",
       " Tech-support          928\n",
       " Protective-serv       649\n",
       " Priv-house-serv       149\n",
       " Armed-Forces            9\n",
       "Name: 직업, dtype: int64"
      ]
     },
     "execution_count": 44,
     "metadata": {},
     "output_type": "execute_result"
    }
   ],
   "source": [
    "human_train[\"직업\"].value_counts()"
   ]
  },
  {
   "cell_type": "code",
   "execution_count": 45,
   "metadata": {},
   "outputs": [
    {
     "data": {
      "text/plain": [
       " Husband           13193\n",
       " Not-in-family      8305\n",
       " Own-child          5068\n",
       " Unmarried          3446\n",
       " Wife               1568\n",
       " Other-relative      981\n",
       "Name: 관계, dtype: int64"
      ]
     },
     "execution_count": 45,
     "metadata": {},
     "output_type": "execute_result"
    }
   ],
   "source": [
    "human_train[\"관계\"].value_counts()"
   ]
  },
  {
   "cell_type": "code",
   "execution_count": 46,
   "metadata": {},
   "outputs": [
    {
     "data": {
      "text/plain": [
       " White                 27816\n",
       " Black                  3124\n",
       " Asian-Pac-Islander     1039\n",
       " Amer-Indian-Eskimo      311\n",
       " Other                   271\n",
       "Name: 인종, dtype: int64"
      ]
     },
     "execution_count": 46,
     "metadata": {},
     "output_type": "execute_result"
    }
   ],
   "source": [
    "human_train[\"인종\"].value_counts()"
   ]
  },
  {
   "cell_type": "code",
   "execution_count": 47,
   "metadata": {},
   "outputs": [
    {
     "data": {
      "text/plain": [
       " United-States                 29170\n",
       " Mexico                          643\n",
       " Philippines                     198\n",
       " Germany                         137\n",
       " Canada                          121\n",
       " Puerto-Rico                     114\n",
       " El-Salvador                     106\n",
       " India                           100\n",
       " Cuba                             95\n",
       " England                          90\n",
       " Jamaica                          81\n",
       " South                            80\n",
       " China                            75\n",
       " Italy                            73\n",
       " Dominican-Republic               70\n",
       " Vietnam                          67\n",
       " Guatemala                        64\n",
       " Japan                            62\n",
       " Poland                           60\n",
       " Columbia                         59\n",
       " Taiwan                           51\n",
       " Haiti                            44\n",
       " Iran                             43\n",
       " Portugal                         37\n",
       " Nicaragua                        34\n",
       " Peru                             31\n",
       " Greece                           29\n",
       " France                           29\n",
       " Ecuador                          28\n",
       " Ireland                          24\n",
       " Hong                             20\n",
       " Trinadad&Tobago                  19\n",
       " Cambodia                         19\n",
       " Laos                             18\n",
       " Thailand                         18\n",
       " Yugoslavia                       16\n",
       " Outlying-US(Guam-USVI-etc)       14\n",
       " Honduras                         13\n",
       " Hungary                          13\n",
       " Scotland                         12\n",
       " Holand-Netherlands                1\n",
       "Name: 모국, dtype: int64"
      ]
     },
     "execution_count": 47,
     "metadata": {},
     "output_type": "execute_result"
    }
   ],
   "source": [
    "human_train[\"모국\"].value_counts()"
   ]
  },
  {
   "cell_type": "code",
   "execution_count": 48,
   "metadata": {},
   "outputs": [
    {
     "data": {
      "text/plain": [
       "9     10501\n",
       "10     7291\n",
       "13     5355\n",
       "14     1723\n",
       "11     1382\n",
       "7      1175\n",
       "12     1067\n",
       "6       933\n",
       "4       646\n",
       "15      576\n",
       "5       514\n",
       "8       433\n",
       "16      413\n",
       "3       333\n",
       "2       168\n",
       "1        51\n",
       "Name: 교육 수, dtype: int64"
      ]
     },
     "execution_count": 48,
     "metadata": {},
     "output_type": "execute_result"
    }
   ],
   "source": [
    "human_train[\"교육 수\"].value_counts()"
   ]
  },
  {
   "cell_type": "code",
   "execution_count": 49,
   "metadata": {},
   "outputs": [
    {
     "data": {
      "text/plain": [
       "0        29849\n",
       "15024      347\n",
       "7688       284\n",
       "7298       246\n",
       "99999      159\n",
       "         ...  \n",
       "4931         1\n",
       "1455         1\n",
       "6097         1\n",
       "22040        1\n",
       "1111         1\n",
       "Name: 자본 이득, Length: 119, dtype: int64"
      ]
     },
     "execution_count": 49,
     "metadata": {},
     "output_type": "execute_result"
    }
   ],
   "source": [
    "human_train[\"자본 이득\"].value_counts()"
   ]
  },
  {
   "cell_type": "code",
   "execution_count": 50,
   "metadata": {},
   "outputs": [
    {
     "data": {
      "text/plain": [
       "0       31042\n",
       "1902      202\n",
       "1977      168\n",
       "1887      159\n",
       "1848       51\n",
       "        ...  \n",
       "1411        1\n",
       "1539        1\n",
       "2472        1\n",
       "1944        1\n",
       "2201        1\n",
       "Name: 자본 손실, Length: 92, dtype: int64"
      ]
     },
     "execution_count": 50,
     "metadata": {},
     "output_type": "execute_result"
    }
   ],
   "source": [
    "human_train[\"자본 손실\"].value_counts()"
   ]
  },
  {
   "cell_type": "code",
   "execution_count": 51,
   "metadata": {},
   "outputs": [
    {
     "data": {
      "text/plain": [
       "40    15217\n",
       "50     2819\n",
       "45     1824\n",
       "60     1475\n",
       "35     1297\n",
       "      ...  \n",
       "92        1\n",
       "94        1\n",
       "87        1\n",
       "74        1\n",
       "82        1\n",
       "Name: 주당 시간, Length: 94, dtype: int64"
      ]
     },
     "execution_count": 51,
     "metadata": {},
     "output_type": "execute_result"
    }
   ],
   "source": [
    "human_train[\"주당 시간\"].value_counts()"
   ]
  },
  {
   "cell_type": "markdown",
   "metadata": {},
   "source": [
    "# Null값 제거"
   ]
  },
  {
   "cell_type": "code",
   "execution_count": 52,
   "metadata": {},
   "outputs": [],
   "source": [
    "# human_train.dropna(subset=[\"노동 계급\",\"직업\",\"학력\"],inplace=True)\n",
    "# human_train"
   ]
  },
  {
   "cell_type": "markdown",
   "metadata": {},
   "source": [
    "# 성별 수치형으로 변환"
   ]
  },
  {
   "cell_type": "code",
   "execution_count": 53,
   "metadata": {},
   "outputs": [],
   "source": [
    "human_train[\"성별\"] = human_train[\"성별\"].str.strip()"
   ]
  },
  {
   "cell_type": "code",
   "execution_count": 54,
   "metadata": {},
   "outputs": [],
   "source": [
    "gender = {\"Male\":1, \"Female\":0}\n",
    "human_train[\"성별\"] = human_train[\"성별\"].map(gender)"
   ]
  },
  {
   "cell_type": "code",
   "execution_count": 55,
   "metadata": {},
   "outputs": [
    {
     "data": {
      "text/plain": [
       "1    21790\n",
       "0    10771\n",
       "Name: 성별, dtype: int64"
      ]
     },
     "execution_count": 55,
     "metadata": {},
     "output_type": "execute_result"
    }
   ],
   "source": [
    "human_train[\"성별\"].value_counts()"
   ]
  },
  {
   "cell_type": "markdown",
   "metadata": {},
   "source": [
    "# 파생 변수 만들기"
   ]
  },
  {
   "cell_type": "code",
   "execution_count": 56,
   "metadata": {},
   "outputs": [
    {
     "data": {
      "text/html": [
       "<div>\n",
       "<style scoped>\n",
       "    .dataframe tbody tr th:only-of-type {\n",
       "        vertical-align: middle;\n",
       "    }\n",
       "\n",
       "    .dataframe tbody tr th {\n",
       "        vertical-align: top;\n",
       "    }\n",
       "\n",
       "    .dataframe thead th {\n",
       "        text-align: right;\n",
       "    }\n",
       "</style>\n",
       "<table border=\"1\" class=\"dataframe\">\n",
       "  <thead>\n",
       "    <tr style=\"text-align: right;\">\n",
       "      <th></th>\n",
       "      <th>Federal-gov</th>\n",
       "      <th>Local-gov</th>\n",
       "      <th>Never-worked</th>\n",
       "      <th>Private</th>\n",
       "      <th>Self-emp-inc</th>\n",
       "      <th>Self-emp-not-inc</th>\n",
       "      <th>State-gov</th>\n",
       "      <th>Without-pay</th>\n",
       "    </tr>\n",
       "  </thead>\n",
       "  <tbody>\n",
       "    <tr>\n",
       "      <th>0</th>\n",
       "      <td>0</td>\n",
       "      <td>0</td>\n",
       "      <td>0</td>\n",
       "      <td>0</td>\n",
       "      <td>0</td>\n",
       "      <td>0</td>\n",
       "      <td>1</td>\n",
       "      <td>0</td>\n",
       "    </tr>\n",
       "    <tr>\n",
       "      <th>1</th>\n",
       "      <td>0</td>\n",
       "      <td>0</td>\n",
       "      <td>0</td>\n",
       "      <td>0</td>\n",
       "      <td>0</td>\n",
       "      <td>1</td>\n",
       "      <td>0</td>\n",
       "      <td>0</td>\n",
       "    </tr>\n",
       "    <tr>\n",
       "      <th>2</th>\n",
       "      <td>0</td>\n",
       "      <td>0</td>\n",
       "      <td>0</td>\n",
       "      <td>1</td>\n",
       "      <td>0</td>\n",
       "      <td>0</td>\n",
       "      <td>0</td>\n",
       "      <td>0</td>\n",
       "    </tr>\n",
       "    <tr>\n",
       "      <th>3</th>\n",
       "      <td>0</td>\n",
       "      <td>0</td>\n",
       "      <td>0</td>\n",
       "      <td>1</td>\n",
       "      <td>0</td>\n",
       "      <td>0</td>\n",
       "      <td>0</td>\n",
       "      <td>0</td>\n",
       "    </tr>\n",
       "    <tr>\n",
       "      <th>4</th>\n",
       "      <td>0</td>\n",
       "      <td>0</td>\n",
       "      <td>0</td>\n",
       "      <td>1</td>\n",
       "      <td>0</td>\n",
       "      <td>0</td>\n",
       "      <td>0</td>\n",
       "      <td>0</td>\n",
       "    </tr>\n",
       "  </tbody>\n",
       "</table>\n",
       "</div>"
      ],
      "text/plain": [
       "    Federal-gov   Local-gov   Never-worked   Private   Self-emp-inc  \\\n",
       "0             0           0              0         0              0   \n",
       "1             0           0              0         0              0   \n",
       "2             0           0              0         1              0   \n",
       "3             0           0              0         1              0   \n",
       "4             0           0              0         1              0   \n",
       "\n",
       "    Self-emp-not-inc   State-gov   Without-pay  \n",
       "0                  0           1             0  \n",
       "1                  1           0             0  \n",
       "2                  0           0             0  \n",
       "3                  0           0             0  \n",
       "4                  0           0             0  "
      ]
     },
     "execution_count": 56,
     "metadata": {},
     "output_type": "execute_result"
    }
   ],
   "source": [
    "working_class = pd.get_dummies(human_train[\"노동 계급\"])\n",
    "working_class.head()"
   ]
  },
  {
   "cell_type": "code",
   "execution_count": 57,
   "metadata": {},
   "outputs": [],
   "source": [
    "human_train = pd.concat([human_train, working_class], axis=1)\n",
    "human_train.drop(\"노동 계급\", axis=1, inplace=True)"
   ]
  },
  {
   "cell_type": "code",
   "execution_count": 58,
   "metadata": {},
   "outputs": [
    {
     "data": {
      "text/html": [
       "<div>\n",
       "<style scoped>\n",
       "    .dataframe tbody tr th:only-of-type {\n",
       "        vertical-align: middle;\n",
       "    }\n",
       "\n",
       "    .dataframe tbody tr th {\n",
       "        vertical-align: top;\n",
       "    }\n",
       "\n",
       "    .dataframe thead th {\n",
       "        text-align: right;\n",
       "    }\n",
       "</style>\n",
       "<table border=\"1\" class=\"dataframe\">\n",
       "  <thead>\n",
       "    <tr style=\"text-align: right;\">\n",
       "      <th></th>\n",
       "      <th>10th</th>\n",
       "      <th>11th</th>\n",
       "      <th>12th</th>\n",
       "      <th>1st-4th</th>\n",
       "      <th>5th-6th</th>\n",
       "      <th>7th-8th</th>\n",
       "      <th>9th</th>\n",
       "      <th>Assoc-acdm</th>\n",
       "      <th>Assoc-voc</th>\n",
       "      <th>Bachelors</th>\n",
       "      <th>Doctorate</th>\n",
       "      <th>HS-grad</th>\n",
       "      <th>Masters</th>\n",
       "      <th>Preschool</th>\n",
       "      <th>Prof-school</th>\n",
       "      <th>Some-college</th>\n",
       "    </tr>\n",
       "  </thead>\n",
       "  <tbody>\n",
       "    <tr>\n",
       "      <th>0</th>\n",
       "      <td>0</td>\n",
       "      <td>0</td>\n",
       "      <td>0</td>\n",
       "      <td>0</td>\n",
       "      <td>0</td>\n",
       "      <td>0</td>\n",
       "      <td>0</td>\n",
       "      <td>0</td>\n",
       "      <td>0</td>\n",
       "      <td>1</td>\n",
       "      <td>0</td>\n",
       "      <td>0</td>\n",
       "      <td>0</td>\n",
       "      <td>0</td>\n",
       "      <td>0</td>\n",
       "      <td>0</td>\n",
       "    </tr>\n",
       "    <tr>\n",
       "      <th>1</th>\n",
       "      <td>0</td>\n",
       "      <td>0</td>\n",
       "      <td>0</td>\n",
       "      <td>0</td>\n",
       "      <td>0</td>\n",
       "      <td>0</td>\n",
       "      <td>0</td>\n",
       "      <td>0</td>\n",
       "      <td>0</td>\n",
       "      <td>1</td>\n",
       "      <td>0</td>\n",
       "      <td>0</td>\n",
       "      <td>0</td>\n",
       "      <td>0</td>\n",
       "      <td>0</td>\n",
       "      <td>0</td>\n",
       "    </tr>\n",
       "    <tr>\n",
       "      <th>2</th>\n",
       "      <td>0</td>\n",
       "      <td>0</td>\n",
       "      <td>0</td>\n",
       "      <td>0</td>\n",
       "      <td>0</td>\n",
       "      <td>0</td>\n",
       "      <td>0</td>\n",
       "      <td>0</td>\n",
       "      <td>0</td>\n",
       "      <td>0</td>\n",
       "      <td>0</td>\n",
       "      <td>1</td>\n",
       "      <td>0</td>\n",
       "      <td>0</td>\n",
       "      <td>0</td>\n",
       "      <td>0</td>\n",
       "    </tr>\n",
       "    <tr>\n",
       "      <th>3</th>\n",
       "      <td>0</td>\n",
       "      <td>1</td>\n",
       "      <td>0</td>\n",
       "      <td>0</td>\n",
       "      <td>0</td>\n",
       "      <td>0</td>\n",
       "      <td>0</td>\n",
       "      <td>0</td>\n",
       "      <td>0</td>\n",
       "      <td>0</td>\n",
       "      <td>0</td>\n",
       "      <td>0</td>\n",
       "      <td>0</td>\n",
       "      <td>0</td>\n",
       "      <td>0</td>\n",
       "      <td>0</td>\n",
       "    </tr>\n",
       "    <tr>\n",
       "      <th>4</th>\n",
       "      <td>0</td>\n",
       "      <td>0</td>\n",
       "      <td>0</td>\n",
       "      <td>0</td>\n",
       "      <td>0</td>\n",
       "      <td>0</td>\n",
       "      <td>0</td>\n",
       "      <td>0</td>\n",
       "      <td>0</td>\n",
       "      <td>1</td>\n",
       "      <td>0</td>\n",
       "      <td>0</td>\n",
       "      <td>0</td>\n",
       "      <td>0</td>\n",
       "      <td>0</td>\n",
       "      <td>0</td>\n",
       "    </tr>\n",
       "  </tbody>\n",
       "</table>\n",
       "</div>"
      ],
      "text/plain": [
       "    10th   11th   12th   1st-4th   5th-6th   7th-8th   9th   Assoc-acdm  \\\n",
       "0      0      0      0         0         0         0     0            0   \n",
       "1      0      0      0         0         0         0     0            0   \n",
       "2      0      0      0         0         0         0     0            0   \n",
       "3      0      1      0         0         0         0     0            0   \n",
       "4      0      0      0         0         0         0     0            0   \n",
       "\n",
       "    Assoc-voc   Bachelors   Doctorate   HS-grad   Masters   Preschool  \\\n",
       "0           0           1           0         0         0           0   \n",
       "1           0           1           0         0         0           0   \n",
       "2           0           0           0         1         0           0   \n",
       "3           0           0           0         0         0           0   \n",
       "4           0           1           0         0         0           0   \n",
       "\n",
       "    Prof-school   Some-college  \n",
       "0             0              0  \n",
       "1             0              0  \n",
       "2             0              0  \n",
       "3             0              0  \n",
       "4             0              0  "
      ]
     },
     "execution_count": 58,
     "metadata": {},
     "output_type": "execute_result"
    }
   ],
   "source": [
    "academic_ability = pd.get_dummies(human_train[\"학력\"])\n",
    "academic_ability.head()"
   ]
  },
  {
   "cell_type": "code",
   "execution_count": 59,
   "metadata": {},
   "outputs": [],
   "source": [
    "human_train = pd.concat([human_train,academic_ability],axis=1)\n",
    "human_train.drop(\"학력\",axis=1,inplace=True)"
   ]
  },
  {
   "cell_type": "code",
   "execution_count": 60,
   "metadata": {},
   "outputs": [
    {
     "data": {
      "text/html": [
       "<div>\n",
       "<style scoped>\n",
       "    .dataframe tbody tr th:only-of-type {\n",
       "        vertical-align: middle;\n",
       "    }\n",
       "\n",
       "    .dataframe tbody tr th {\n",
       "        vertical-align: top;\n",
       "    }\n",
       "\n",
       "    .dataframe thead th {\n",
       "        text-align: right;\n",
       "    }\n",
       "</style>\n",
       "<table border=\"1\" class=\"dataframe\">\n",
       "  <thead>\n",
       "    <tr style=\"text-align: right;\">\n",
       "      <th></th>\n",
       "      <th>Divorced</th>\n",
       "      <th>Married-AF-spouse</th>\n",
       "      <th>Married-civ-spouse</th>\n",
       "      <th>Married-spouse-absent</th>\n",
       "      <th>Never-married</th>\n",
       "      <th>Separated</th>\n",
       "      <th>Widowed</th>\n",
       "    </tr>\n",
       "  </thead>\n",
       "  <tbody>\n",
       "    <tr>\n",
       "      <th>0</th>\n",
       "      <td>0</td>\n",
       "      <td>0</td>\n",
       "      <td>0</td>\n",
       "      <td>0</td>\n",
       "      <td>1</td>\n",
       "      <td>0</td>\n",
       "      <td>0</td>\n",
       "    </tr>\n",
       "    <tr>\n",
       "      <th>1</th>\n",
       "      <td>0</td>\n",
       "      <td>0</td>\n",
       "      <td>1</td>\n",
       "      <td>0</td>\n",
       "      <td>0</td>\n",
       "      <td>0</td>\n",
       "      <td>0</td>\n",
       "    </tr>\n",
       "    <tr>\n",
       "      <th>2</th>\n",
       "      <td>1</td>\n",
       "      <td>0</td>\n",
       "      <td>0</td>\n",
       "      <td>0</td>\n",
       "      <td>0</td>\n",
       "      <td>0</td>\n",
       "      <td>0</td>\n",
       "    </tr>\n",
       "    <tr>\n",
       "      <th>3</th>\n",
       "      <td>0</td>\n",
       "      <td>0</td>\n",
       "      <td>1</td>\n",
       "      <td>0</td>\n",
       "      <td>0</td>\n",
       "      <td>0</td>\n",
       "      <td>0</td>\n",
       "    </tr>\n",
       "    <tr>\n",
       "      <th>4</th>\n",
       "      <td>0</td>\n",
       "      <td>0</td>\n",
       "      <td>1</td>\n",
       "      <td>0</td>\n",
       "      <td>0</td>\n",
       "      <td>0</td>\n",
       "      <td>0</td>\n",
       "    </tr>\n",
       "  </tbody>\n",
       "</table>\n",
       "</div>"
      ],
      "text/plain": [
       "    Divorced   Married-AF-spouse   Married-civ-spouse   Married-spouse-absent  \\\n",
       "0          0                   0                    0                       0   \n",
       "1          0                   0                    1                       0   \n",
       "2          1                   0                    0                       0   \n",
       "3          0                   0                    1                       0   \n",
       "4          0                   0                    1                       0   \n",
       "\n",
       "    Never-married   Separated   Widowed  \n",
       "0               1           0         0  \n",
       "1               0           0         0  \n",
       "2               0           0         0  \n",
       "3               0           0         0  \n",
       "4               0           0         0  "
      ]
     },
     "execution_count": 60,
     "metadata": {},
     "output_type": "execute_result"
    }
   ],
   "source": [
    "marital_status = pd.get_dummies(human_train[\"혼인 상태\"])\n",
    "marital_status.head()"
   ]
  },
  {
   "cell_type": "code",
   "execution_count": 61,
   "metadata": {},
   "outputs": [],
   "source": [
    "human_train = pd.concat([human_train,marital_status], axis=1)\n",
    "human_train.drop(\"혼인 상태\", axis=1, inplace=True)"
   ]
  },
  {
   "cell_type": "code",
   "execution_count": 62,
   "metadata": {},
   "outputs": [
    {
     "data": {
      "text/html": [
       "<div>\n",
       "<style scoped>\n",
       "    .dataframe tbody tr th:only-of-type {\n",
       "        vertical-align: middle;\n",
       "    }\n",
       "\n",
       "    .dataframe tbody tr th {\n",
       "        vertical-align: top;\n",
       "    }\n",
       "\n",
       "    .dataframe thead th {\n",
       "        text-align: right;\n",
       "    }\n",
       "</style>\n",
       "<table border=\"1\" class=\"dataframe\">\n",
       "  <thead>\n",
       "    <tr style=\"text-align: right;\">\n",
       "      <th></th>\n",
       "      <th>Adm-clerical</th>\n",
       "      <th>Armed-Forces</th>\n",
       "      <th>Craft-repair</th>\n",
       "      <th>Exec-managerial</th>\n",
       "      <th>Farming-fishing</th>\n",
       "      <th>Handlers-cleaners</th>\n",
       "      <th>Machine-op-inspct</th>\n",
       "      <th>Other-service</th>\n",
       "      <th>Priv-house-serv</th>\n",
       "      <th>Prof-specialty</th>\n",
       "      <th>Protective-serv</th>\n",
       "      <th>Sales</th>\n",
       "      <th>Tech-support</th>\n",
       "      <th>Transport-moving</th>\n",
       "    </tr>\n",
       "  </thead>\n",
       "  <tbody>\n",
       "    <tr>\n",
       "      <th>0</th>\n",
       "      <td>1</td>\n",
       "      <td>0</td>\n",
       "      <td>0</td>\n",
       "      <td>0</td>\n",
       "      <td>0</td>\n",
       "      <td>0</td>\n",
       "      <td>0</td>\n",
       "      <td>0</td>\n",
       "      <td>0</td>\n",
       "      <td>0</td>\n",
       "      <td>0</td>\n",
       "      <td>0</td>\n",
       "      <td>0</td>\n",
       "      <td>0</td>\n",
       "    </tr>\n",
       "    <tr>\n",
       "      <th>1</th>\n",
       "      <td>0</td>\n",
       "      <td>0</td>\n",
       "      <td>0</td>\n",
       "      <td>1</td>\n",
       "      <td>0</td>\n",
       "      <td>0</td>\n",
       "      <td>0</td>\n",
       "      <td>0</td>\n",
       "      <td>0</td>\n",
       "      <td>0</td>\n",
       "      <td>0</td>\n",
       "      <td>0</td>\n",
       "      <td>0</td>\n",
       "      <td>0</td>\n",
       "    </tr>\n",
       "    <tr>\n",
       "      <th>2</th>\n",
       "      <td>0</td>\n",
       "      <td>0</td>\n",
       "      <td>0</td>\n",
       "      <td>0</td>\n",
       "      <td>0</td>\n",
       "      <td>1</td>\n",
       "      <td>0</td>\n",
       "      <td>0</td>\n",
       "      <td>0</td>\n",
       "      <td>0</td>\n",
       "      <td>0</td>\n",
       "      <td>0</td>\n",
       "      <td>0</td>\n",
       "      <td>0</td>\n",
       "    </tr>\n",
       "    <tr>\n",
       "      <th>3</th>\n",
       "      <td>0</td>\n",
       "      <td>0</td>\n",
       "      <td>0</td>\n",
       "      <td>0</td>\n",
       "      <td>0</td>\n",
       "      <td>1</td>\n",
       "      <td>0</td>\n",
       "      <td>0</td>\n",
       "      <td>0</td>\n",
       "      <td>0</td>\n",
       "      <td>0</td>\n",
       "      <td>0</td>\n",
       "      <td>0</td>\n",
       "      <td>0</td>\n",
       "    </tr>\n",
       "    <tr>\n",
       "      <th>4</th>\n",
       "      <td>0</td>\n",
       "      <td>0</td>\n",
       "      <td>0</td>\n",
       "      <td>0</td>\n",
       "      <td>0</td>\n",
       "      <td>0</td>\n",
       "      <td>0</td>\n",
       "      <td>0</td>\n",
       "      <td>0</td>\n",
       "      <td>1</td>\n",
       "      <td>0</td>\n",
       "      <td>0</td>\n",
       "      <td>0</td>\n",
       "      <td>0</td>\n",
       "    </tr>\n",
       "  </tbody>\n",
       "</table>\n",
       "</div>"
      ],
      "text/plain": [
       "    Adm-clerical   Armed-Forces   Craft-repair   Exec-managerial  \\\n",
       "0              1              0              0                 0   \n",
       "1              0              0              0                 1   \n",
       "2              0              0              0                 0   \n",
       "3              0              0              0                 0   \n",
       "4              0              0              0                 0   \n",
       "\n",
       "    Farming-fishing   Handlers-cleaners   Machine-op-inspct   Other-service  \\\n",
       "0                 0                   0                   0               0   \n",
       "1                 0                   0                   0               0   \n",
       "2                 0                   1                   0               0   \n",
       "3                 0                   1                   0               0   \n",
       "4                 0                   0                   0               0   \n",
       "\n",
       "    Priv-house-serv   Prof-specialty   Protective-serv   Sales   Tech-support  \\\n",
       "0                 0                0                 0       0              0   \n",
       "1                 0                0                 0       0              0   \n",
       "2                 0                0                 0       0              0   \n",
       "3                 0                0                 0       0              0   \n",
       "4                 0                1                 0       0              0   \n",
       "\n",
       "    Transport-moving  \n",
       "0                  0  \n",
       "1                  0  \n",
       "2                  0  \n",
       "3                  0  \n",
       "4                  0  "
      ]
     },
     "execution_count": 62,
     "metadata": {},
     "output_type": "execute_result"
    }
   ],
   "source": [
    "jobs = pd.get_dummies(human_train[\"직업\"])\n",
    "jobs.head()"
   ]
  },
  {
   "cell_type": "code",
   "execution_count": 63,
   "metadata": {},
   "outputs": [],
   "source": [
    "human_train = pd.concat([human_train, jobs], axis=1)\n",
    "human_train.drop(\"직업\", axis=1, inplace=True)"
   ]
  },
  {
   "cell_type": "code",
   "execution_count": 64,
   "metadata": {},
   "outputs": [
    {
     "data": {
      "text/html": [
       "<div>\n",
       "<style scoped>\n",
       "    .dataframe tbody tr th:only-of-type {\n",
       "        vertical-align: middle;\n",
       "    }\n",
       "\n",
       "    .dataframe tbody tr th {\n",
       "        vertical-align: top;\n",
       "    }\n",
       "\n",
       "    .dataframe thead th {\n",
       "        text-align: right;\n",
       "    }\n",
       "</style>\n",
       "<table border=\"1\" class=\"dataframe\">\n",
       "  <thead>\n",
       "    <tr style=\"text-align: right;\">\n",
       "      <th></th>\n",
       "      <th>Husband</th>\n",
       "      <th>Not-in-family</th>\n",
       "      <th>Other-relative</th>\n",
       "      <th>Own-child</th>\n",
       "      <th>Unmarried</th>\n",
       "      <th>Wife</th>\n",
       "    </tr>\n",
       "  </thead>\n",
       "  <tbody>\n",
       "    <tr>\n",
       "      <th>0</th>\n",
       "      <td>0</td>\n",
       "      <td>1</td>\n",
       "      <td>0</td>\n",
       "      <td>0</td>\n",
       "      <td>0</td>\n",
       "      <td>0</td>\n",
       "    </tr>\n",
       "    <tr>\n",
       "      <th>1</th>\n",
       "      <td>1</td>\n",
       "      <td>0</td>\n",
       "      <td>0</td>\n",
       "      <td>0</td>\n",
       "      <td>0</td>\n",
       "      <td>0</td>\n",
       "    </tr>\n",
       "    <tr>\n",
       "      <th>2</th>\n",
       "      <td>0</td>\n",
       "      <td>1</td>\n",
       "      <td>0</td>\n",
       "      <td>0</td>\n",
       "      <td>0</td>\n",
       "      <td>0</td>\n",
       "    </tr>\n",
       "    <tr>\n",
       "      <th>3</th>\n",
       "      <td>1</td>\n",
       "      <td>0</td>\n",
       "      <td>0</td>\n",
       "      <td>0</td>\n",
       "      <td>0</td>\n",
       "      <td>0</td>\n",
       "    </tr>\n",
       "    <tr>\n",
       "      <th>4</th>\n",
       "      <td>0</td>\n",
       "      <td>0</td>\n",
       "      <td>0</td>\n",
       "      <td>0</td>\n",
       "      <td>0</td>\n",
       "      <td>1</td>\n",
       "    </tr>\n",
       "  </tbody>\n",
       "</table>\n",
       "</div>"
      ],
      "text/plain": [
       "    Husband   Not-in-family   Other-relative   Own-child   Unmarried   Wife\n",
       "0         0               1                0           0           0      0\n",
       "1         1               0                0           0           0      0\n",
       "2         0               1                0           0           0      0\n",
       "3         1               0                0           0           0      0\n",
       "4         0               0                0           0           0      1"
      ]
     },
     "execution_count": 64,
     "metadata": {},
     "output_type": "execute_result"
    }
   ],
   "source": [
    "relationship = pd.get_dummies(human_train[\"관계\"])\n",
    "relationship.head()"
   ]
  },
  {
   "cell_type": "code",
   "execution_count": 65,
   "metadata": {},
   "outputs": [],
   "source": [
    "human_train = pd.concat([human_train, relationship], axis=1)\n",
    "human_train.drop(\"관계\", axis=1, inplace=True)"
   ]
  },
  {
   "cell_type": "code",
   "execution_count": 66,
   "metadata": {},
   "outputs": [
    {
     "data": {
      "text/html": [
       "<div>\n",
       "<style scoped>\n",
       "    .dataframe tbody tr th:only-of-type {\n",
       "        vertical-align: middle;\n",
       "    }\n",
       "\n",
       "    .dataframe tbody tr th {\n",
       "        vertical-align: top;\n",
       "    }\n",
       "\n",
       "    .dataframe thead th {\n",
       "        text-align: right;\n",
       "    }\n",
       "</style>\n",
       "<table border=\"1\" class=\"dataframe\">\n",
       "  <thead>\n",
       "    <tr style=\"text-align: right;\">\n",
       "      <th></th>\n",
       "      <th>Amer-Indian-Eskimo</th>\n",
       "      <th>Asian-Pac-Islander</th>\n",
       "      <th>Black</th>\n",
       "      <th>Other</th>\n",
       "      <th>White</th>\n",
       "    </tr>\n",
       "  </thead>\n",
       "  <tbody>\n",
       "    <tr>\n",
       "      <th>0</th>\n",
       "      <td>0</td>\n",
       "      <td>0</td>\n",
       "      <td>0</td>\n",
       "      <td>0</td>\n",
       "      <td>1</td>\n",
       "    </tr>\n",
       "    <tr>\n",
       "      <th>1</th>\n",
       "      <td>0</td>\n",
       "      <td>0</td>\n",
       "      <td>0</td>\n",
       "      <td>0</td>\n",
       "      <td>1</td>\n",
       "    </tr>\n",
       "    <tr>\n",
       "      <th>2</th>\n",
       "      <td>0</td>\n",
       "      <td>0</td>\n",
       "      <td>0</td>\n",
       "      <td>0</td>\n",
       "      <td>1</td>\n",
       "    </tr>\n",
       "    <tr>\n",
       "      <th>3</th>\n",
       "      <td>0</td>\n",
       "      <td>0</td>\n",
       "      <td>1</td>\n",
       "      <td>0</td>\n",
       "      <td>0</td>\n",
       "    </tr>\n",
       "    <tr>\n",
       "      <th>4</th>\n",
       "      <td>0</td>\n",
       "      <td>0</td>\n",
       "      <td>1</td>\n",
       "      <td>0</td>\n",
       "      <td>0</td>\n",
       "    </tr>\n",
       "  </tbody>\n",
       "</table>\n",
       "</div>"
      ],
      "text/plain": [
       "    Amer-Indian-Eskimo   Asian-Pac-Islander   Black   Other   White\n",
       "0                    0                    0       0       0       1\n",
       "1                    0                    0       0       0       1\n",
       "2                    0                    0       0       0       1\n",
       "3                    0                    0       1       0       0\n",
       "4                    0                    0       1       0       0"
      ]
     },
     "execution_count": 66,
     "metadata": {},
     "output_type": "execute_result"
    }
   ],
   "source": [
    "race = pd.get_dummies(human_train[\"인종\"])\n",
    "race.head()"
   ]
  },
  {
   "cell_type": "code",
   "execution_count": 67,
   "metadata": {},
   "outputs": [],
   "source": [
    "human_train = pd.concat([human_train, race], axis=1)\n",
    "human_train.drop(\"인종\", axis=1, inplace=True)"
   ]
  },
  {
   "cell_type": "code",
   "execution_count": 68,
   "metadata": {},
   "outputs": [],
   "source": [
    "# homeland = pd.get_dummies(human_train[\"모국\"])\n",
    "# homeland.head()\n",
    "human_train[[\"모국\"]] = human_train[[\"모국\"]].apply(lambda x: x.str.lstrip())\n",
    "human_train[[\"모국\"]] = human_train[[\"모국\"]].apply(lambda x: x.astype('category').cat.codes)"
   ]
  },
  {
   "cell_type": "code",
   "execution_count": 69,
   "metadata": {},
   "outputs": [],
   "source": [
    "# human_train = pd.concat([human_train, homeland], axis=1)\n",
    "# human_train.drop(\"모국\", axis=1, inplace=True)"
   ]
  },
  {
   "cell_type": "code",
   "execution_count": 70,
   "metadata": {},
   "outputs": [
    {
     "data": {
      "text/plain": [
       "0"
      ]
     },
     "execution_count": 70,
     "metadata": {},
     "output_type": "execute_result"
    }
   ],
   "source": [
    "human_train.isnull().sum().sum()"
   ]
  },
  {
   "cell_type": "markdown",
   "metadata": {},
   "source": [
    "# 데이터 나누기"
   ]
  },
  {
   "cell_type": "code",
   "execution_count": 71,
   "metadata": {},
   "outputs": [],
   "source": [
    "htX = human_train.drop([\"아이디\",\"성별\"], axis=1)\n",
    "htY = human_train[\"성별\"]"
   ]
  },
  {
   "cell_type": "code",
   "execution_count": 72,
   "metadata": {},
   "outputs": [],
   "source": [
    "X_train, X_test, Y_train, Y_test = train_test_split(htX, htY, test_size=0.25, random_state=0)"
   ]
  },
  {
   "cell_type": "code",
   "execution_count": 73,
   "metadata": {},
   "outputs": [
    {
     "name": "stdout",
     "output_type": "stream",
     "text": [
      "<class 'pandas.core.frame.DataFrame'>\n",
      "RangeIndex: 32561 entries, 0 to 32560\n",
      "Data columns (total 63 columns):\n",
      " #   Column                  Non-Null Count  Dtype\n",
      "---  ------                  --------------  -----\n",
      " 0   나이                      32561 non-null  int64\n",
      " 1   fnlwgt                  32561 non-null  int64\n",
      " 2   교육 수                    32561 non-null  int64\n",
      " 3   자본 이득                   32561 non-null  int64\n",
      " 4   자본 손실                   32561 non-null  int64\n",
      " 5   주당 시간                   32561 non-null  int64\n",
      " 6   모국                      32561 non-null  int8 \n",
      " 7    Federal-gov            32561 non-null  uint8\n",
      " 8    Local-gov              32561 non-null  uint8\n",
      " 9    Never-worked           32561 non-null  uint8\n",
      " 10   Private                32561 non-null  uint8\n",
      " 11   Self-emp-inc           32561 non-null  uint8\n",
      " 12   Self-emp-not-inc       32561 non-null  uint8\n",
      " 13   State-gov              32561 non-null  uint8\n",
      " 14   Without-pay            32561 non-null  uint8\n",
      " 15   10th                   32561 non-null  uint8\n",
      " 16   11th                   32561 non-null  uint8\n",
      " 17   12th                   32561 non-null  uint8\n",
      " 18   1st-4th                32561 non-null  uint8\n",
      " 19   5th-6th                32561 non-null  uint8\n",
      " 20   7th-8th                32561 non-null  uint8\n",
      " 21   9th                    32561 non-null  uint8\n",
      " 22   Assoc-acdm             32561 non-null  uint8\n",
      " 23   Assoc-voc              32561 non-null  uint8\n",
      " 24   Bachelors              32561 non-null  uint8\n",
      " 25   Doctorate              32561 non-null  uint8\n",
      " 26   HS-grad                32561 non-null  uint8\n",
      " 27   Masters                32561 non-null  uint8\n",
      " 28   Preschool              32561 non-null  uint8\n",
      " 29   Prof-school            32561 non-null  uint8\n",
      " 30   Some-college           32561 non-null  uint8\n",
      " 31   Divorced               32561 non-null  uint8\n",
      " 32   Married-AF-spouse      32561 non-null  uint8\n",
      " 33   Married-civ-spouse     32561 non-null  uint8\n",
      " 34   Married-spouse-absent  32561 non-null  uint8\n",
      " 35   Never-married          32561 non-null  uint8\n",
      " 36   Separated              32561 non-null  uint8\n",
      " 37   Widowed                32561 non-null  uint8\n",
      " 38   Adm-clerical           32561 non-null  uint8\n",
      " 39   Armed-Forces           32561 non-null  uint8\n",
      " 40   Craft-repair           32561 non-null  uint8\n",
      " 41   Exec-managerial        32561 non-null  uint8\n",
      " 42   Farming-fishing        32561 non-null  uint8\n",
      " 43   Handlers-cleaners      32561 non-null  uint8\n",
      " 44   Machine-op-inspct      32561 non-null  uint8\n",
      " 45   Other-service          32561 non-null  uint8\n",
      " 46   Priv-house-serv        32561 non-null  uint8\n",
      " 47   Prof-specialty         32561 non-null  uint8\n",
      " 48   Protective-serv        32561 non-null  uint8\n",
      " 49   Sales                  32561 non-null  uint8\n",
      " 50   Tech-support           32561 non-null  uint8\n",
      " 51   Transport-moving       32561 non-null  uint8\n",
      " 52   Husband                32561 non-null  uint8\n",
      " 53   Not-in-family          32561 non-null  uint8\n",
      " 54   Other-relative         32561 non-null  uint8\n",
      " 55   Own-child              32561 non-null  uint8\n",
      " 56   Unmarried              32561 non-null  uint8\n",
      " 57   Wife                   32561 non-null  uint8\n",
      " 58   Amer-Indian-Eskimo     32561 non-null  uint8\n",
      " 59   Asian-Pac-Islander     32561 non-null  uint8\n",
      " 60   Black                  32561 non-null  uint8\n",
      " 61   Other                  32561 non-null  uint8\n",
      " 62   White                  32561 non-null  uint8\n",
      "dtypes: int64(6), int8(1), uint8(56)\n",
      "memory usage: 3.3 MB\n"
     ]
    }
   ],
   "source": [
    "htX.info()"
   ]
  },
  {
   "cell_type": "markdown",
   "metadata": {},
   "source": [
    "# Cross-Validation"
   ]
  },
  {
   "cell_type": "code",
   "execution_count": 74,
   "metadata": {},
   "outputs": [],
   "source": [
    "model = LogisticRegression()"
   ]
  },
  {
   "cell_type": "code",
   "execution_count": 75,
   "metadata": {},
   "outputs": [
    {
     "name": "stderr",
     "output_type": "stream",
     "text": [
      "C:\\Users\\020\\anaconda3\\lib\\site-packages\\sklearn\\linear_model\\_logistic.py:762: ConvergenceWarning: lbfgs failed to converge (status=1):\n",
      "STOP: TOTAL NO. of ITERATIONS REACHED LIMIT.\n",
      "\n",
      "Increase the number of iterations (max_iter) or scale the data as shown in:\n",
      "    https://scikit-learn.org/stable/modules/preprocessing.html\n",
      "Please also refer to the documentation for alternative solver options:\n",
      "    https://scikit-learn.org/stable/modules/linear_model.html#logistic-regression\n",
      "  n_iter_i = _check_optimize_result(\n"
     ]
    },
    {
     "data": {
      "text/plain": [
       "array([0.66912329, 0.67321867, 0.67628993, 0.68028256, 0.66922604])"
      ]
     },
     "execution_count": 75,
     "metadata": {},
     "output_type": "execute_result"
    }
   ],
   "source": [
    "scores = cross_val_score(model, htX, htY)\n",
    "scores"
   ]
  },
  {
   "cell_type": "code",
   "execution_count": 76,
   "metadata": {},
   "outputs": [
    {
     "name": "stdout",
     "output_type": "stream",
     "text": [
      "Mean: 0.674\n",
      "Std: 0.004\n",
      "Min: 0.669\n",
      "Max: 0.680\n"
     ]
    }
   ],
   "source": [
    "print(\"Mean: {:.3f}\\nStd: {:.3f}\\nMin: {:.3f}\\nMax: {:.3f}\".format(\n",
    "    scores.mean(), scores.std(), scores.min(), scores.max()))"
   ]
  },
  {
   "cell_type": "code",
   "execution_count": null,
   "metadata": {},
   "outputs": [],
   "source": []
  },
  {
   "cell_type": "markdown",
   "metadata": {},
   "source": [
    "# MinMaxScaler"
   ]
  },
  {
   "cell_type": "code",
   "execution_count": 77,
   "metadata": {},
   "outputs": [
    {
     "data": {
      "text/plain": [
       "MinMaxScaler()"
      ]
     },
     "execution_count": 77,
     "metadata": {},
     "output_type": "execute_result"
    }
   ],
   "source": [
    "# scaler = MinMaxScaler()\n",
    "# scaler.fit(htX)"
   ]
  },
  {
   "cell_type": "code",
   "execution_count": 78,
   "metadata": {},
   "outputs": [],
   "source": [
    "# x = scaler.transform(htX)\n",
    "# htX_s = pd.DataFrame(x, columns = htX.columns)"
   ]
  },
  {
   "cell_type": "code",
   "execution_count": 79,
   "metadata": {},
   "outputs": [
    {
     "data": {
      "text/html": [
       "<div>\n",
       "<style scoped>\n",
       "    .dataframe tbody tr th:only-of-type {\n",
       "        vertical-align: middle;\n",
       "    }\n",
       "\n",
       "    .dataframe tbody tr th {\n",
       "        vertical-align: top;\n",
       "    }\n",
       "\n",
       "    .dataframe thead th {\n",
       "        text-align: right;\n",
       "    }\n",
       "</style>\n",
       "<table border=\"1\" class=\"dataframe\">\n",
       "  <thead>\n",
       "    <tr style=\"text-align: right;\">\n",
       "      <th></th>\n",
       "      <th>count</th>\n",
       "      <th>mean</th>\n",
       "      <th>std</th>\n",
       "      <th>min</th>\n",
       "      <th>25%</th>\n",
       "      <th>50%</th>\n",
       "      <th>75%</th>\n",
       "      <th>max</th>\n",
       "    </tr>\n",
       "  </thead>\n",
       "  <tbody>\n",
       "    <tr>\n",
       "      <th>나이</th>\n",
       "      <td>32561.0</td>\n",
       "      <td>0.295639</td>\n",
       "      <td>0.186855</td>\n",
       "      <td>0.0</td>\n",
       "      <td>0.150685</td>\n",
       "      <td>0.273973</td>\n",
       "      <td>0.424658</td>\n",
       "      <td>1.0</td>\n",
       "    </tr>\n",
       "    <tr>\n",
       "      <th>fnlwgt</th>\n",
       "      <td>32561.0</td>\n",
       "      <td>0.120545</td>\n",
       "      <td>0.071685</td>\n",
       "      <td>0.0</td>\n",
       "      <td>0.071679</td>\n",
       "      <td>0.112788</td>\n",
       "      <td>0.152651</td>\n",
       "      <td>1.0</td>\n",
       "    </tr>\n",
       "    <tr>\n",
       "      <th>교육 수</th>\n",
       "      <td>32561.0</td>\n",
       "      <td>0.605379</td>\n",
       "      <td>0.171515</td>\n",
       "      <td>0.0</td>\n",
       "      <td>0.533333</td>\n",
       "      <td>0.600000</td>\n",
       "      <td>0.733333</td>\n",
       "      <td>1.0</td>\n",
       "    </tr>\n",
       "    <tr>\n",
       "      <th>자본 이득</th>\n",
       "      <td>32561.0</td>\n",
       "      <td>0.010777</td>\n",
       "      <td>0.073854</td>\n",
       "      <td>0.0</td>\n",
       "      <td>0.000000</td>\n",
       "      <td>0.000000</td>\n",
       "      <td>0.000000</td>\n",
       "      <td>1.0</td>\n",
       "    </tr>\n",
       "    <tr>\n",
       "      <th>자본 손실</th>\n",
       "      <td>32561.0</td>\n",
       "      <td>0.020042</td>\n",
       "      <td>0.092507</td>\n",
       "      <td>0.0</td>\n",
       "      <td>0.000000</td>\n",
       "      <td>0.000000</td>\n",
       "      <td>0.000000</td>\n",
       "      <td>1.0</td>\n",
       "    </tr>\n",
       "    <tr>\n",
       "      <th>...</th>\n",
       "      <td>...</td>\n",
       "      <td>...</td>\n",
       "      <td>...</td>\n",
       "      <td>...</td>\n",
       "      <td>...</td>\n",
       "      <td>...</td>\n",
       "      <td>...</td>\n",
       "      <td>...</td>\n",
       "    </tr>\n",
       "    <tr>\n",
       "      <th>Amer-Indian-Eskimo</th>\n",
       "      <td>32561.0</td>\n",
       "      <td>0.009551</td>\n",
       "      <td>0.097264</td>\n",
       "      <td>0.0</td>\n",
       "      <td>0.000000</td>\n",
       "      <td>0.000000</td>\n",
       "      <td>0.000000</td>\n",
       "      <td>1.0</td>\n",
       "    </tr>\n",
       "    <tr>\n",
       "      <th>Asian-Pac-Islander</th>\n",
       "      <td>32561.0</td>\n",
       "      <td>0.031909</td>\n",
       "      <td>0.175761</td>\n",
       "      <td>0.0</td>\n",
       "      <td>0.000000</td>\n",
       "      <td>0.000000</td>\n",
       "      <td>0.000000</td>\n",
       "      <td>1.0</td>\n",
       "    </tr>\n",
       "    <tr>\n",
       "      <th>Black</th>\n",
       "      <td>32561.0</td>\n",
       "      <td>0.095943</td>\n",
       "      <td>0.294518</td>\n",
       "      <td>0.0</td>\n",
       "      <td>0.000000</td>\n",
       "      <td>0.000000</td>\n",
       "      <td>0.000000</td>\n",
       "      <td>1.0</td>\n",
       "    </tr>\n",
       "    <tr>\n",
       "      <th>Other</th>\n",
       "      <td>32561.0</td>\n",
       "      <td>0.008323</td>\n",
       "      <td>0.090851</td>\n",
       "      <td>0.0</td>\n",
       "      <td>0.000000</td>\n",
       "      <td>0.000000</td>\n",
       "      <td>0.000000</td>\n",
       "      <td>1.0</td>\n",
       "    </tr>\n",
       "    <tr>\n",
       "      <th>White</th>\n",
       "      <td>32561.0</td>\n",
       "      <td>0.854274</td>\n",
       "      <td>0.352837</td>\n",
       "      <td>0.0</td>\n",
       "      <td>1.000000</td>\n",
       "      <td>1.000000</td>\n",
       "      <td>1.000000</td>\n",
       "      <td>1.0</td>\n",
       "    </tr>\n",
       "  </tbody>\n",
       "</table>\n",
       "<p>63 rows × 8 columns</p>\n",
       "</div>"
      ],
      "text/plain": [
       "                       count      mean       std  min       25%       50%  \\\n",
       "나이                   32561.0  0.295639  0.186855  0.0  0.150685  0.273973   \n",
       "fnlwgt               32561.0  0.120545  0.071685  0.0  0.071679  0.112788   \n",
       "교육 수                 32561.0  0.605379  0.171515  0.0  0.533333  0.600000   \n",
       "자본 이득                32561.0  0.010777  0.073854  0.0  0.000000  0.000000   \n",
       "자본 손실                32561.0  0.020042  0.092507  0.0  0.000000  0.000000   \n",
       "...                      ...       ...       ...  ...       ...       ...   \n",
       " Amer-Indian-Eskimo  32561.0  0.009551  0.097264  0.0  0.000000  0.000000   \n",
       " Asian-Pac-Islander  32561.0  0.031909  0.175761  0.0  0.000000  0.000000   \n",
       " Black               32561.0  0.095943  0.294518  0.0  0.000000  0.000000   \n",
       " Other               32561.0  0.008323  0.090851  0.0  0.000000  0.000000   \n",
       " White               32561.0  0.854274  0.352837  0.0  1.000000  1.000000   \n",
       "\n",
       "                          75%  max  \n",
       "나이                   0.424658  1.0  \n",
       "fnlwgt               0.152651  1.0  \n",
       "교육 수                 0.733333  1.0  \n",
       "자본 이득                0.000000  1.0  \n",
       "자본 손실                0.000000  1.0  \n",
       "...                       ...  ...  \n",
       " Amer-Indian-Eskimo  0.000000  1.0  \n",
       " Asian-Pac-Islander  0.000000  1.0  \n",
       " Black               0.000000  1.0  \n",
       " Other               0.000000  1.0  \n",
       " White               1.000000  1.0  \n",
       "\n",
       "[63 rows x 8 columns]"
      ]
     },
     "execution_count": 79,
     "metadata": {},
     "output_type": "execute_result"
    }
   ],
   "source": [
    "# htX_s.describe().T"
   ]
  },
  {
   "cell_type": "markdown",
   "metadata": {},
   "source": [
    "# 샘플링"
   ]
  },
  {
   "cell_type": "code",
   "execution_count": 80,
   "metadata": {},
   "outputs": [
    {
     "name": "stdout",
     "output_type": "stream",
     "text": [
      "21790 10771\n"
     ]
    }
   ],
   "source": [
    "aX = np.array(htX)\n",
    "aY = np.array(htY)\n",
    "print(np.sum(aY == 1), np.sum(aY == 0))"
   ]
  },
  {
   "cell_type": "code",
   "execution_count": null,
   "metadata": {},
   "outputs": [],
   "source": []
  },
  {
   "cell_type": "markdown",
   "metadata": {},
   "source": [
    "# K-Fold 교차검증"
   ]
  },
  {
   "cell_type": "code",
   "execution_count": 82,
   "metadata": {},
   "outputs": [
    {
     "data": {
      "text/plain": [
       "KFold(n_splits=10, random_state=None, shuffle=True)"
      ]
     },
     "execution_count": 82,
     "metadata": {},
     "output_type": "execute_result"
    }
   ],
   "source": [
    "kf = KFold(n_splits=10, shuffle=True)\n",
    "kf"
   ]
  },
  {
   "cell_type": "code",
   "execution_count": 83,
   "metadata": {},
   "outputs": [
    {
     "name": "stdout",
     "output_type": "stream",
     "text": [
      "0.8052880999457604 0.008543737236714704 0.8194657660423703 0.7933046683046683\n",
      "0.8508891928864569\n",
      "0.8603042876901799\n"
     ]
    }
   ],
   "source": [
    "scores = []\n",
    "\n",
    "for train_id, test_id in kf.split(aX):\n",
    "    x = aX[train_id]\n",
    "    y = aY[train_id]\n",
    "    clf = tree.DecisionTreeClassifier()\n",
    "    clf.fit(x,y)\n",
    "    pred_y = clf.predict(aX[test_id])\n",
    "    score = accuracy_score(aY[test_id], pred_y)\n",
    "    scores.append(score)\n",
    "\n",
    "scores = np.array(scores)\n",
    "print(scores.mean(), scores.std(), scores.max(), scores.min())\n",
    "print(recall_score(aY[test_id], pred_y))\n",
    "print(precision_score(aY[test_id], pred_y))"
   ]
  },
  {
   "cell_type": "code",
   "execution_count": 84,
   "metadata": {},
   "outputs": [],
   "source": [
    "params = {\n",
    "    'criterion': ['entropy'],    \n",
    "    'max_depth': [2, 4, 6, 8, 10],\n",
    "    'min_samples_leaf': [10, 20, 30, 40, 50],\n",
    "}"
   ]
  },
  {
   "cell_type": "code",
   "execution_count": 85,
   "metadata": {},
   "outputs": [],
   "source": [
    "clf_gs = GridSearchCV(tree.DecisionTreeClassifier(), params, \n",
    "                cv=KFold(n_splits=10, shuffle=True), scoring='accuracy')"
   ]
  },
  {
   "cell_type": "code",
   "execution_count": 86,
   "metadata": {},
   "outputs": [
    {
     "data": {
      "text/plain": [
       "GridSearchCV(cv=KFold(n_splits=10, random_state=None, shuffle=True),\n",
       "             estimator=DecisionTreeClassifier(),\n",
       "             param_grid={'criterion': ['entropy'],\n",
       "                         'max_depth': [2, 4, 6, 8, 10],\n",
       "                         'min_samples_leaf': [10, 20, 30, 40, 50]},\n",
       "             scoring='accuracy')"
      ]
     },
     "execution_count": 86,
     "metadata": {},
     "output_type": "execute_result"
    }
   ],
   "source": [
    "clf_gs.fit(aX, aY)"
   ]
  },
  {
   "cell_type": "code",
   "execution_count": 87,
   "metadata": {},
   "outputs": [
    {
     "name": "stdout",
     "output_type": "stream",
     "text": [
      "0.8309633890037637\n",
      "{'criterion': 'entropy', 'max_depth': 10, 'min_samples_leaf': 30}\n"
     ]
    }
   ],
   "source": [
    "print(clf_gs.best_score_)\n",
    "print(clf_gs.best_params_)"
   ]
  },
  {
   "cell_type": "code",
   "execution_count": 88,
   "metadata": {},
   "outputs": [
    {
     "data": {
      "text/plain": [
       "0.8381449631449631"
      ]
     },
     "execution_count": 88,
     "metadata": {},
     "output_type": "execute_result"
    }
   ],
   "source": [
    "tree1 = DecisionTreeClassifier(max_depth=10, min_samples_leaf=40, random_state=0)\n",
    "tree1.fit(aX, aY).score(aX[test_id], aY[test_id])"
   ]
  },
  {
   "cell_type": "code",
   "execution_count": 89,
   "metadata": {},
   "outputs": [
    {
     "name": "stdout",
     "output_type": "stream",
     "text": [
      "1    5440\n",
      "0    2701\n",
      "Name: 성별, dtype: int64\n"
     ]
    },
    {
     "data": {
      "text/plain": [
       "0.6682225770789829"
      ]
     },
     "execution_count": 89,
     "metadata": {},
     "output_type": "execute_result"
    }
   ],
   "source": [
    "print(Y_test.value_counts())\n",
    "dummy=DummyClassifier(strategy='most_frequent').fit(aX, aY)\n",
    "dummy.score(X_test, Y_test)"
   ]
  },
  {
   "cell_type": "code",
   "execution_count": 90,
   "metadata": {},
   "outputs": [
    {
     "data": {
      "text/plain": [
       "SVC(random_state=0)"
      ]
     },
     "execution_count": 90,
     "metadata": {},
     "output_type": "execute_result"
    }
   ],
   "source": [
    "svm = SVC(random_state=0)\n",
    "svm.fit(htX, htY)"
   ]
  },
  {
   "cell_type": "code",
   "execution_count": 91,
   "metadata": {},
   "outputs": [
    {
     "data": {
      "text/plain": [
       "MLPClassifier()"
      ]
     },
     "execution_count": 91,
     "metadata": {},
     "output_type": "execute_result"
    }
   ],
   "source": [
    "mlp=MLPClassifier()\n",
    "mlp.fit(htX, htY)"
   ]
  },
  {
   "cell_type": "code",
   "execution_count": 92,
   "metadata": {},
   "outputs": [
    {
     "data": {
      "text/plain": [
       "0.6692054912318418"
      ]
     },
     "metadata": {},
     "output_type": "display_data"
    },
    {
     "data": {
      "text/plain": [
       "0.6682225770789829"
      ]
     },
     "metadata": {},
     "output_type": "display_data"
    }
   ],
   "source": [
    "display(svm.score(htX, htY))\n",
    "display(svm.score(X_test, Y_test))"
   ]
  },
  {
   "cell_type": "code",
   "execution_count": 93,
   "metadata": {},
   "outputs": [
    {
     "data": {
      "text/plain": [
       "0.7901477227357883"
      ]
     },
     "metadata": {},
     "output_type": "display_data"
    },
    {
     "data": {
      "text/plain": [
       "0.7792654465053434"
      ]
     },
     "metadata": {},
     "output_type": "display_data"
    }
   ],
   "source": [
    "display(mlp.score(htX, htY))\n",
    "display(mlp.score(X_test, Y_test))"
   ]
  },
  {
   "cell_type": "markdown",
   "metadata": {},
   "source": [
    "# xgboost"
   ]
  },
  {
   "cell_type": "code",
   "execution_count": 94,
   "metadata": {},
   "outputs": [],
   "source": [
    "dtrain = xgb.DMatrix(data=htX, label=htY)\n",
    "dtest = xgb.DMatrix(data=X_test, label=Y_test)"
   ]
  },
  {
   "cell_type": "code",
   "execution_count": 95,
   "metadata": {},
   "outputs": [],
   "source": [
    "params = {'max_depth':3,\n",
    "          'eta':0.1,\n",
    "          'objective':'binary:logistic',\n",
    "          'eval_metric':'logloss',\n",
    "          'early_stoppings':100\n",
    "         }\n",
    "num_rounds = 400"
   ]
  },
  {
   "cell_type": "code",
   "execution_count": 96,
   "metadata": {},
   "outputs": [
    {
     "name": "stdout",
     "output_type": "stream",
     "text": [
      "[17:39:42] WARNING: C:/Users/Administrator/workspace/xgboost-win64_release_1.3.0/src/learner.cc:541: \n",
      "Parameters: { early_stoppings } might not be used.\n",
      "\n",
      "  This may not be accurate due to some parameters are only used in language bindings but\n",
      "  passed down to XGBoost core.  Or some parameters are not used but slip through this\n",
      "  verification. Please open an issue if you find above cases.\n",
      "\n",
      "\n",
      "[0]\ttrain-logloss:0.64688\teval-logloss:0.64691\n",
      "[1]\ttrain-logloss:0.60826\teval-logloss:0.60853\n",
      "[2]\ttrain-logloss:0.57605\teval-logloss:0.57632\n",
      "[3]\ttrain-logloss:0.54840\teval-logloss:0.54887\n",
      "[4]\ttrain-logloss:0.52453\teval-logloss:0.52501\n",
      "[5]\ttrain-logloss:0.50389\teval-logloss:0.50446\n",
      "[6]\ttrain-logloss:0.48567\teval-logloss:0.48620\n",
      "[7]\ttrain-logloss:0.46986\teval-logloss:0.47051\n",
      "[8]\ttrain-logloss:0.45554\teval-logloss:0.45621\n",
      "[9]\ttrain-logloss:0.44293\teval-logloss:0.44360\n",
      "[10]\ttrain-logloss:0.43157\teval-logloss:0.43210\n",
      "[11]\ttrain-logloss:0.42143\teval-logloss:0.42197\n",
      "[12]\ttrain-logloss:0.41244\teval-logloss:0.41301\n",
      "[13]\ttrain-logloss:0.40411\teval-logloss:0.40469\n",
      "[14]\ttrain-logloss:0.39664\teval-logloss:0.39723\n",
      "[15]\ttrain-logloss:0.38986\teval-logloss:0.39034\n",
      "[16]\ttrain-logloss:0.38378\teval-logloss:0.38439\n",
      "[17]\ttrain-logloss:0.37816\teval-logloss:0.37886\n",
      "[18]\ttrain-logloss:0.37307\teval-logloss:0.37377\n",
      "[19]\ttrain-logloss:0.36839\teval-logloss:0.36900\n",
      "[20]\ttrain-logloss:0.36409\teval-logloss:0.36487\n",
      "[21]\ttrain-logloss:0.36003\teval-logloss:0.36082\n",
      "[22]\ttrain-logloss:0.35643\teval-logloss:0.35719\n",
      "[23]\ttrain-logloss:0.35309\teval-logloss:0.35385\n",
      "[24]\ttrain-logloss:0.34967\teval-logloss:0.35040\n",
      "[25]\ttrain-logloss:0.34675\teval-logloss:0.34749\n",
      "[26]\ttrain-logloss:0.34406\teval-logloss:0.34485\n",
      "[27]\ttrain-logloss:0.34163\teval-logloss:0.34237\n",
      "[28]\ttrain-logloss:0.33924\teval-logloss:0.34013\n",
      "[29]\ttrain-logloss:0.33712\teval-logloss:0.33793\n",
      "[30]\ttrain-logloss:0.33511\teval-logloss:0.33594\n",
      "[31]\ttrain-logloss:0.33327\teval-logloss:0.33413\n",
      "[32]\ttrain-logloss:0.33135\teval-logloss:0.33218\n",
      "[33]\ttrain-logloss:0.32973\teval-logloss:0.33059\n",
      "[34]\ttrain-logloss:0.32822\teval-logloss:0.32901\n",
      "[35]\ttrain-logloss:0.32668\teval-logloss:0.32750\n",
      "[36]\ttrain-logloss:0.32539\teval-logloss:0.32622\n",
      "[37]\ttrain-logloss:0.32403\teval-logloss:0.32485\n",
      "[38]\ttrain-logloss:0.32287\teval-logloss:0.32378\n",
      "[39]\ttrain-logloss:0.32136\teval-logloss:0.32232\n",
      "[40]\ttrain-logloss:0.32032\teval-logloss:0.32127\n",
      "[41]\ttrain-logloss:0.31932\teval-logloss:0.32027\n",
      "[42]\ttrain-logloss:0.31814\teval-logloss:0.31925\n",
      "[43]\ttrain-logloss:0.31712\teval-logloss:0.31819\n",
      "[44]\ttrain-logloss:0.31625\teval-logloss:0.31732\n",
      "[45]\ttrain-logloss:0.31527\teval-logloss:0.31644\n",
      "[46]\ttrain-logloss:0.31451\teval-logloss:0.31566\n",
      "[47]\ttrain-logloss:0.31345\teval-logloss:0.31462\n",
      "[48]\ttrain-logloss:0.31276\teval-logloss:0.31393\n",
      "[49]\ttrain-logloss:0.31197\teval-logloss:0.31320\n",
      "[50]\ttrain-logloss:0.31127\teval-logloss:0.31241\n",
      "[51]\ttrain-logloss:0.31063\teval-logloss:0.31179\n",
      "[52]\ttrain-logloss:0.30989\teval-logloss:0.31104\n",
      "[53]\ttrain-logloss:0.30908\teval-logloss:0.31036\n",
      "[54]\ttrain-logloss:0.30854\teval-logloss:0.30983\n",
      "[55]\ttrain-logloss:0.30798\teval-logloss:0.30924\n",
      "[56]\ttrain-logloss:0.30740\teval-logloss:0.30869\n",
      "[57]\ttrain-logloss:0.30692\teval-logloss:0.30827\n",
      "[58]\ttrain-logloss:0.30633\teval-logloss:0.30776\n",
      "[59]\ttrain-logloss:0.30570\teval-logloss:0.30722\n",
      "[60]\ttrain-logloss:0.30523\teval-logloss:0.30668\n",
      "[61]\ttrain-logloss:0.30463\teval-logloss:0.30607\n",
      "[62]\ttrain-logloss:0.30422\teval-logloss:0.30567\n",
      "[63]\ttrain-logloss:0.30373\teval-logloss:0.30525\n",
      "[64]\ttrain-logloss:0.30325\teval-logloss:0.30485\n",
      "[65]\ttrain-logloss:0.30288\teval-logloss:0.30448\n",
      "[66]\ttrain-logloss:0.30244\teval-logloss:0.30408\n",
      "[67]\ttrain-logloss:0.30196\teval-logloss:0.30364\n",
      "[68]\ttrain-logloss:0.30155\teval-logloss:0.30325\n",
      "[69]\ttrain-logloss:0.30123\teval-logloss:0.30292\n",
      "[70]\ttrain-logloss:0.30065\teval-logloss:0.30241\n",
      "[71]\ttrain-logloss:0.30032\teval-logloss:0.30210\n",
      "[72]\ttrain-logloss:0.29996\teval-logloss:0.30175\n",
      "[73]\ttrain-logloss:0.29953\teval-logloss:0.30138\n",
      "[74]\ttrain-logloss:0.29920\teval-logloss:0.30111\n",
      "[75]\ttrain-logloss:0.29893\teval-logloss:0.30082\n",
      "[76]\ttrain-logloss:0.29860\teval-logloss:0.30058\n",
      "[77]\ttrain-logloss:0.29828\teval-logloss:0.30031\n",
      "[78]\ttrain-logloss:0.29795\teval-logloss:0.29999\n",
      "[79]\ttrain-logloss:0.29761\teval-logloss:0.29972\n",
      "[80]\ttrain-logloss:0.29737\teval-logloss:0.29947\n",
      "[81]\ttrain-logloss:0.29706\teval-logloss:0.29921\n",
      "[82]\ttrain-logloss:0.29672\teval-logloss:0.29895\n",
      "[83]\ttrain-logloss:0.29650\teval-logloss:0.29875\n",
      "[84]\ttrain-logloss:0.29618\teval-logloss:0.29847\n",
      "[85]\ttrain-logloss:0.29575\teval-logloss:0.29808\n",
      "[86]\ttrain-logloss:0.29555\teval-logloss:0.29792\n",
      "[87]\ttrain-logloss:0.29536\teval-logloss:0.29773\n",
      "[88]\ttrain-logloss:0.29509\teval-logloss:0.29756\n",
      "[89]\ttrain-logloss:0.29486\teval-logloss:0.29733\n",
      "[90]\ttrain-logloss:0.29468\teval-logloss:0.29717\n",
      "[91]\ttrain-logloss:0.29452\teval-logloss:0.29701\n",
      "[92]\ttrain-logloss:0.29418\teval-logloss:0.29673\n",
      "[93]\ttrain-logloss:0.29381\teval-logloss:0.29636\n",
      "[94]\ttrain-logloss:0.29362\teval-logloss:0.29623\n",
      "[95]\ttrain-logloss:0.29341\teval-logloss:0.29605\n",
      "[96]\ttrain-logloss:0.29318\teval-logloss:0.29575\n",
      "[97]\ttrain-logloss:0.29299\teval-logloss:0.29562\n",
      "[98]\ttrain-logloss:0.29280\teval-logloss:0.29543\n",
      "[99]\ttrain-logloss:0.29265\teval-logloss:0.29526\n",
      "[100]\ttrain-logloss:0.29243\teval-logloss:0.29507\n",
      "[101]\ttrain-logloss:0.29229\teval-logloss:0.29499\n",
      "[102]\ttrain-logloss:0.29213\teval-logloss:0.29487\n",
      "[103]\ttrain-logloss:0.29200\teval-logloss:0.29474\n",
      "[104]\ttrain-logloss:0.29181\teval-logloss:0.29452\n",
      "[105]\ttrain-logloss:0.29153\teval-logloss:0.29426\n",
      "[106]\ttrain-logloss:0.29136\teval-logloss:0.29411\n",
      "[107]\ttrain-logloss:0.29122\teval-logloss:0.29402\n",
      "[108]\ttrain-logloss:0.29105\teval-logloss:0.29382\n",
      "[109]\ttrain-logloss:0.29080\teval-logloss:0.29367\n",
      "[110]\ttrain-logloss:0.29063\teval-logloss:0.29348\n",
      "[111]\ttrain-logloss:0.29046\teval-logloss:0.29327\n",
      "[112]\ttrain-logloss:0.29034\teval-logloss:0.29317\n",
      "[113]\ttrain-logloss:0.29013\teval-logloss:0.29298\n",
      "[114]\ttrain-logloss:0.28998\teval-logloss:0.29287\n",
      "[115]\ttrain-logloss:0.28988\teval-logloss:0.29278\n",
      "[116]\ttrain-logloss:0.28970\teval-logloss:0.29263\n",
      "[117]\ttrain-logloss:0.28961\teval-logloss:0.29258\n",
      "[118]\ttrain-logloss:0.28947\teval-logloss:0.29243\n",
      "[119]\ttrain-logloss:0.28926\teval-logloss:0.29224\n",
      "[120]\ttrain-logloss:0.28917\teval-logloss:0.29217\n",
      "[121]\ttrain-logloss:0.28907\teval-logloss:0.29205\n",
      "[122]\ttrain-logloss:0.28890\teval-logloss:0.29187\n",
      "[123]\ttrain-logloss:0.28874\teval-logloss:0.29171\n",
      "[124]\ttrain-logloss:0.28856\teval-logloss:0.29160\n",
      "[125]\ttrain-logloss:0.28842\teval-logloss:0.29140\n",
      "[126]\ttrain-logloss:0.28826\teval-logloss:0.29131\n",
      "[127]\ttrain-logloss:0.28816\teval-logloss:0.29120\n",
      "[128]\ttrain-logloss:0.28804\teval-logloss:0.29111\n",
      "[129]\ttrain-logloss:0.28790\teval-logloss:0.29102\n",
      "[130]\ttrain-logloss:0.28782\teval-logloss:0.29094\n",
      "[131]\ttrain-logloss:0.28774\teval-logloss:0.29084\n",
      "[132]\ttrain-logloss:0.28763\teval-logloss:0.29075\n",
      "[133]\ttrain-logloss:0.28753\teval-logloss:0.29065\n",
      "[134]\ttrain-logloss:0.28734\teval-logloss:0.29045\n",
      "[135]\ttrain-logloss:0.28716\teval-logloss:0.29033\n",
      "[136]\ttrain-logloss:0.28708\teval-logloss:0.29025\n",
      "[137]\ttrain-logloss:0.28701\teval-logloss:0.29021\n",
      "[138]\ttrain-logloss:0.28689\teval-logloss:0.29011\n",
      "[139]\ttrain-logloss:0.28680\teval-logloss:0.29003\n",
      "[140]\ttrain-logloss:0.28673\teval-logloss:0.28993\n",
      "[141]\ttrain-logloss:0.28666\teval-logloss:0.28985\n",
      "[142]\ttrain-logloss:0.28644\teval-logloss:0.28971\n",
      "[143]\ttrain-logloss:0.28635\teval-logloss:0.28964\n",
      "[144]\ttrain-logloss:0.28626\teval-logloss:0.28955\n",
      "[145]\ttrain-logloss:0.28615\teval-logloss:0.28938\n",
      "[146]\ttrain-logloss:0.28607\teval-logloss:0.28932\n",
      "[147]\ttrain-logloss:0.28601\teval-logloss:0.28926\n",
      "[148]\ttrain-logloss:0.28587\teval-logloss:0.28915\n",
      "[149]\ttrain-logloss:0.28577\teval-logloss:0.28909\n",
      "[150]\ttrain-logloss:0.28567\teval-logloss:0.28901\n",
      "[151]\ttrain-logloss:0.28555\teval-logloss:0.28890\n",
      "[152]\ttrain-logloss:0.28544\teval-logloss:0.28879\n",
      "[153]\ttrain-logloss:0.28532\teval-logloss:0.28870\n",
      "[154]\ttrain-logloss:0.28524\teval-logloss:0.28865\n",
      "[155]\ttrain-logloss:0.28517\teval-logloss:0.28859\n",
      "[156]\ttrain-logloss:0.28505\teval-logloss:0.28848\n",
      "[157]\ttrain-logloss:0.28499\teval-logloss:0.28839\n",
      "[158]\ttrain-logloss:0.28491\teval-logloss:0.28834\n",
      "[159]\ttrain-logloss:0.28483\teval-logloss:0.28823\n",
      "[160]\ttrain-logloss:0.28478\teval-logloss:0.28819\n",
      "[161]\ttrain-logloss:0.28466\teval-logloss:0.28810\n"
     ]
    },
    {
     "name": "stdout",
     "output_type": "stream",
     "text": [
      "[162]\ttrain-logloss:0.28456\teval-logloss:0.28800\n",
      "[163]\ttrain-logloss:0.28446\teval-logloss:0.28791\n",
      "[164]\ttrain-logloss:0.28440\teval-logloss:0.28784\n",
      "[165]\ttrain-logloss:0.28429\teval-logloss:0.28775\n",
      "[166]\ttrain-logloss:0.28415\teval-logloss:0.28766\n",
      "[167]\ttrain-logloss:0.28409\teval-logloss:0.28758\n",
      "[168]\ttrain-logloss:0.28395\teval-logloss:0.28747\n",
      "[169]\ttrain-logloss:0.28387\teval-logloss:0.28741\n",
      "[170]\ttrain-logloss:0.28378\teval-logloss:0.28733\n",
      "[171]\ttrain-logloss:0.28374\teval-logloss:0.28729\n",
      "[172]\ttrain-logloss:0.28367\teval-logloss:0.28725\n",
      "[173]\ttrain-logloss:0.28359\teval-logloss:0.28719\n",
      "[174]\ttrain-logloss:0.28349\teval-logloss:0.28708\n",
      "[175]\ttrain-logloss:0.28342\teval-logloss:0.28703\n",
      "[176]\ttrain-logloss:0.28339\teval-logloss:0.28700\n",
      "[177]\ttrain-logloss:0.28329\teval-logloss:0.28693\n",
      "[178]\ttrain-logloss:0.28318\teval-logloss:0.28680\n",
      "[179]\ttrain-logloss:0.28312\teval-logloss:0.28676\n",
      "[180]\ttrain-logloss:0.28300\teval-logloss:0.28665\n",
      "[181]\ttrain-logloss:0.28296\teval-logloss:0.28662\n",
      "[182]\ttrain-logloss:0.28289\teval-logloss:0.28657\n",
      "[183]\ttrain-logloss:0.28281\teval-logloss:0.28649\n",
      "[184]\ttrain-logloss:0.28273\teval-logloss:0.28639\n",
      "[185]\ttrain-logloss:0.28265\teval-logloss:0.28630\n",
      "[186]\ttrain-logloss:0.28261\teval-logloss:0.28626\n",
      "[187]\ttrain-logloss:0.28251\teval-logloss:0.28617\n",
      "[188]\ttrain-logloss:0.28245\teval-logloss:0.28609\n",
      "[189]\ttrain-logloss:0.28235\teval-logloss:0.28604\n",
      "[190]\ttrain-logloss:0.28228\teval-logloss:0.28597\n",
      "[191]\ttrain-logloss:0.28224\teval-logloss:0.28593\n",
      "[192]\ttrain-logloss:0.28214\teval-logloss:0.28588\n",
      "[193]\ttrain-logloss:0.28202\teval-logloss:0.28576\n",
      "[194]\ttrain-logloss:0.28191\teval-logloss:0.28570\n",
      "[195]\ttrain-logloss:0.28188\teval-logloss:0.28567\n",
      "[196]\ttrain-logloss:0.28182\teval-logloss:0.28560\n",
      "[197]\ttrain-logloss:0.28177\teval-logloss:0.28557\n",
      "[198]\ttrain-logloss:0.28168\teval-logloss:0.28547\n",
      "[199]\ttrain-logloss:0.28155\teval-logloss:0.28535\n",
      "[200]\ttrain-logloss:0.28152\teval-logloss:0.28532\n",
      "[201]\ttrain-logloss:0.28148\teval-logloss:0.28530\n",
      "[202]\ttrain-logloss:0.28138\teval-logloss:0.28519\n",
      "[203]\ttrain-logloss:0.28130\teval-logloss:0.28510\n",
      "[204]\ttrain-logloss:0.28125\teval-logloss:0.28507\n",
      "[205]\ttrain-logloss:0.28118\teval-logloss:0.28501\n",
      "[206]\ttrain-logloss:0.28107\teval-logloss:0.28487\n",
      "[207]\ttrain-logloss:0.28100\teval-logloss:0.28476\n",
      "[208]\ttrain-logloss:0.28093\teval-logloss:0.28471\n",
      "[209]\ttrain-logloss:0.28085\teval-logloss:0.28462\n",
      "[210]\ttrain-logloss:0.28082\teval-logloss:0.28459\n",
      "[211]\ttrain-logloss:0.28069\teval-logloss:0.28450\n",
      "[212]\ttrain-logloss:0.28068\teval-logloss:0.28448\n",
      "[213]\ttrain-logloss:0.28063\teval-logloss:0.28443\n",
      "[214]\ttrain-logloss:0.28054\teval-logloss:0.28434\n",
      "[215]\ttrain-logloss:0.28047\teval-logloss:0.28426\n",
      "[216]\ttrain-logloss:0.28039\teval-logloss:0.28421\n",
      "[217]\ttrain-logloss:0.28035\teval-logloss:0.28416\n",
      "[218]\ttrain-logloss:0.28028\teval-logloss:0.28410\n",
      "[219]\ttrain-logloss:0.28023\teval-logloss:0.28405\n",
      "[220]\ttrain-logloss:0.28012\teval-logloss:0.28392\n",
      "[221]\ttrain-logloss:0.28004\teval-logloss:0.28385\n",
      "[222]\ttrain-logloss:0.27997\teval-logloss:0.28381\n",
      "[223]\ttrain-logloss:0.27991\teval-logloss:0.28373\n",
      "[224]\ttrain-logloss:0.27989\teval-logloss:0.28371\n",
      "[225]\ttrain-logloss:0.27983\teval-logloss:0.28366\n",
      "[226]\ttrain-logloss:0.27978\teval-logloss:0.28363\n",
      "[227]\ttrain-logloss:0.27974\teval-logloss:0.28357\n",
      "[228]\ttrain-logloss:0.27967\teval-logloss:0.28348\n",
      "[229]\ttrain-logloss:0.27958\teval-logloss:0.28344\n",
      "[230]\ttrain-logloss:0.27956\teval-logloss:0.28342\n",
      "[231]\ttrain-logloss:0.27950\teval-logloss:0.28339\n",
      "[232]\ttrain-logloss:0.27946\teval-logloss:0.28333\n",
      "[233]\ttrain-logloss:0.27941\teval-logloss:0.28324\n",
      "[234]\ttrain-logloss:0.27933\teval-logloss:0.28318\n",
      "[235]\ttrain-logloss:0.27926\teval-logloss:0.28307\n",
      "[236]\ttrain-logloss:0.27924\teval-logloss:0.28306\n",
      "[237]\ttrain-logloss:0.27917\teval-logloss:0.28303\n",
      "[238]\ttrain-logloss:0.27915\teval-logloss:0.28301\n",
      "[239]\ttrain-logloss:0.27906\teval-logloss:0.28289\n",
      "[240]\ttrain-logloss:0.27902\teval-logloss:0.28281\n",
      "[241]\ttrain-logloss:0.27897\teval-logloss:0.28276\n",
      "[242]\ttrain-logloss:0.27890\teval-logloss:0.28271\n",
      "[243]\ttrain-logloss:0.27886\teval-logloss:0.28265\n",
      "[244]\ttrain-logloss:0.27883\teval-logloss:0.28261\n",
      "[245]\ttrain-logloss:0.27873\teval-logloss:0.28252\n",
      "[246]\ttrain-logloss:0.27871\teval-logloss:0.28251\n",
      "[247]\ttrain-logloss:0.27866\teval-logloss:0.28247\n",
      "[248]\ttrain-logloss:0.27863\teval-logloss:0.28245\n",
      "[249]\ttrain-logloss:0.27859\teval-logloss:0.28238\n",
      "[250]\ttrain-logloss:0.27854\teval-logloss:0.28230\n",
      "[251]\ttrain-logloss:0.27848\teval-logloss:0.28225\n",
      "[252]\ttrain-logloss:0.27836\teval-logloss:0.28216\n",
      "[253]\ttrain-logloss:0.27835\teval-logloss:0.28213\n",
      "[254]\ttrain-logloss:0.27831\teval-logloss:0.28205\n",
      "[255]\ttrain-logloss:0.27829\teval-logloss:0.28204\n",
      "[256]\ttrain-logloss:0.27825\teval-logloss:0.28200\n",
      "[257]\ttrain-logloss:0.27818\teval-logloss:0.28191\n",
      "[258]\ttrain-logloss:0.27808\teval-logloss:0.28181\n",
      "[259]\ttrain-logloss:0.27805\teval-logloss:0.28175\n",
      "[260]\ttrain-logloss:0.27799\teval-logloss:0.28167\n",
      "[261]\ttrain-logloss:0.27794\teval-logloss:0.28160\n",
      "[262]\ttrain-logloss:0.27790\teval-logloss:0.28155\n",
      "[263]\ttrain-logloss:0.27785\teval-logloss:0.28151\n",
      "[264]\ttrain-logloss:0.27779\teval-logloss:0.28147\n",
      "[265]\ttrain-logloss:0.27771\teval-logloss:0.28140\n",
      "[266]\ttrain-logloss:0.27760\teval-logloss:0.28127\n",
      "[267]\ttrain-logloss:0.27758\teval-logloss:0.28125\n",
      "[268]\ttrain-logloss:0.27752\teval-logloss:0.28118\n",
      "[269]\ttrain-logloss:0.27746\teval-logloss:0.28111\n",
      "[270]\ttrain-logloss:0.27743\teval-logloss:0.28107\n",
      "[271]\ttrain-logloss:0.27740\teval-logloss:0.28103\n",
      "[272]\ttrain-logloss:0.27738\teval-logloss:0.28101\n",
      "[273]\ttrain-logloss:0.27736\teval-logloss:0.28098\n",
      "[274]\ttrain-logloss:0.27734\teval-logloss:0.28099\n",
      "[275]\ttrain-logloss:0.27730\teval-logloss:0.28095\n",
      "[276]\ttrain-logloss:0.27722\teval-logloss:0.28087\n",
      "[277]\ttrain-logloss:0.27717\teval-logloss:0.28082\n",
      "[278]\ttrain-logloss:0.27710\teval-logloss:0.28075\n",
      "[279]\ttrain-logloss:0.27708\teval-logloss:0.28073\n",
      "[280]\ttrain-logloss:0.27702\teval-logloss:0.28071\n",
      "[281]\ttrain-logloss:0.27698\teval-logloss:0.28067\n",
      "[282]\ttrain-logloss:0.27691\teval-logloss:0.28057\n",
      "[283]\ttrain-logloss:0.27688\teval-logloss:0.28054\n",
      "[284]\ttrain-logloss:0.27684\teval-logloss:0.28047\n",
      "[285]\ttrain-logloss:0.27677\teval-logloss:0.28038\n",
      "[286]\ttrain-logloss:0.27668\teval-logloss:0.28030\n",
      "[287]\ttrain-logloss:0.27664\teval-logloss:0.28023\n",
      "[288]\ttrain-logloss:0.27657\teval-logloss:0.28016\n",
      "[289]\ttrain-logloss:0.27653\teval-logloss:0.28014\n",
      "[290]\ttrain-logloss:0.27649\teval-logloss:0.28010\n",
      "[291]\ttrain-logloss:0.27643\teval-logloss:0.28000\n",
      "[292]\ttrain-logloss:0.27641\teval-logloss:0.27997\n",
      "[293]\ttrain-logloss:0.27638\teval-logloss:0.27988\n",
      "[294]\ttrain-logloss:0.27631\teval-logloss:0.27979\n",
      "[295]\ttrain-logloss:0.27630\teval-logloss:0.27979\n",
      "[296]\ttrain-logloss:0.27628\teval-logloss:0.27978\n",
      "[297]\ttrain-logloss:0.27624\teval-logloss:0.27975\n",
      "[298]\ttrain-logloss:0.27621\teval-logloss:0.27972\n",
      "[299]\ttrain-logloss:0.27615\teval-logloss:0.27969\n",
      "[300]\ttrain-logloss:0.27607\teval-logloss:0.27963\n",
      "[301]\ttrain-logloss:0.27604\teval-logloss:0.27958\n",
      "[302]\ttrain-logloss:0.27602\teval-logloss:0.27956\n",
      "[303]\ttrain-logloss:0.27597\teval-logloss:0.27950\n",
      "[304]\ttrain-logloss:0.27594\teval-logloss:0.27946\n",
      "[305]\ttrain-logloss:0.27593\teval-logloss:0.27944\n",
      "[306]\ttrain-logloss:0.27591\teval-logloss:0.27943\n",
      "[307]\ttrain-logloss:0.27585\teval-logloss:0.27937\n",
      "[308]\ttrain-logloss:0.27580\teval-logloss:0.27931\n",
      "[309]\ttrain-logloss:0.27573\teval-logloss:0.27924\n",
      "[310]\ttrain-logloss:0.27571\teval-logloss:0.27922\n",
      "[311]\ttrain-logloss:0.27566\teval-logloss:0.27916\n",
      "[312]\ttrain-logloss:0.27559\teval-logloss:0.27916\n",
      "[313]\ttrain-logloss:0.27552\teval-logloss:0.27912\n",
      "[314]\ttrain-logloss:0.27547\teval-logloss:0.27908\n",
      "[315]\ttrain-logloss:0.27544\teval-logloss:0.27905\n",
      "[316]\ttrain-logloss:0.27536\teval-logloss:0.27900\n",
      "[317]\ttrain-logloss:0.27528\teval-logloss:0.27889\n",
      "[318]\ttrain-logloss:0.27521\teval-logloss:0.27883\n",
      "[319]\ttrain-logloss:0.27519\teval-logloss:0.27882\n",
      "[320]\ttrain-logloss:0.27517\teval-logloss:0.27879\n",
      "[321]\ttrain-logloss:0.27516\teval-logloss:0.27878\n",
      "[322]\ttrain-logloss:0.27510\teval-logloss:0.27873\n",
      "[323]\ttrain-logloss:0.27509\teval-logloss:0.27872\n",
      "[324]\ttrain-logloss:0.27507\teval-logloss:0.27869\n",
      "[325]\ttrain-logloss:0.27500\teval-logloss:0.27865\n",
      "[326]\ttrain-logloss:0.27497\teval-logloss:0.27862\n",
      "[327]\ttrain-logloss:0.27494\teval-logloss:0.27857\n",
      "[328]\ttrain-logloss:0.27492\teval-logloss:0.27853\n",
      "[329]\ttrain-logloss:0.27482\teval-logloss:0.27843\n"
     ]
    },
    {
     "name": "stdout",
     "output_type": "stream",
     "text": [
      "[330]\ttrain-logloss:0.27475\teval-logloss:0.27838\n",
      "[331]\ttrain-logloss:0.27469\teval-logloss:0.27834\n",
      "[332]\ttrain-logloss:0.27467\teval-logloss:0.27831\n",
      "[333]\ttrain-logloss:0.27461\teval-logloss:0.27827\n",
      "[334]\ttrain-logloss:0.27451\teval-logloss:0.27817\n",
      "[335]\ttrain-logloss:0.27441\teval-logloss:0.27807\n",
      "[336]\ttrain-logloss:0.27432\teval-logloss:0.27797\n",
      "[337]\ttrain-logloss:0.27428\teval-logloss:0.27792\n",
      "[338]\ttrain-logloss:0.27427\teval-logloss:0.27790\n",
      "[339]\ttrain-logloss:0.27418\teval-logloss:0.27781\n",
      "[340]\ttrain-logloss:0.27413\teval-logloss:0.27776\n",
      "[341]\ttrain-logloss:0.27409\teval-logloss:0.27776\n",
      "[342]\ttrain-logloss:0.27408\teval-logloss:0.27775\n",
      "[343]\ttrain-logloss:0.27400\teval-logloss:0.27768\n",
      "[344]\ttrain-logloss:0.27391\teval-logloss:0.27762\n",
      "[345]\ttrain-logloss:0.27379\teval-logloss:0.27760\n",
      "[346]\ttrain-logloss:0.27371\teval-logloss:0.27752\n",
      "[347]\ttrain-logloss:0.27364\teval-logloss:0.27745\n",
      "[348]\ttrain-logloss:0.27360\teval-logloss:0.27741\n",
      "[349]\ttrain-logloss:0.27355\teval-logloss:0.27731\n",
      "[350]\ttrain-logloss:0.27345\teval-logloss:0.27720\n",
      "[351]\ttrain-logloss:0.27343\teval-logloss:0.27719\n",
      "[352]\ttrain-logloss:0.27340\teval-logloss:0.27716\n",
      "[353]\ttrain-logloss:0.27337\teval-logloss:0.27713\n",
      "[354]\ttrain-logloss:0.27334\teval-logloss:0.27710\n",
      "[355]\ttrain-logloss:0.27333\teval-logloss:0.27708\n",
      "[356]\ttrain-logloss:0.27328\teval-logloss:0.27702\n",
      "[357]\ttrain-logloss:0.27327\teval-logloss:0.27700\n",
      "[358]\ttrain-logloss:0.27322\teval-logloss:0.27695\n",
      "[359]\ttrain-logloss:0.27312\teval-logloss:0.27691\n",
      "[360]\ttrain-logloss:0.27310\teval-logloss:0.27688\n",
      "[361]\ttrain-logloss:0.27303\teval-logloss:0.27679\n",
      "[362]\ttrain-logloss:0.27302\teval-logloss:0.27678\n",
      "[363]\ttrain-logloss:0.27295\teval-logloss:0.27674\n",
      "[364]\ttrain-logloss:0.27289\teval-logloss:0.27669\n",
      "[365]\ttrain-logloss:0.27284\teval-logloss:0.27665\n",
      "[366]\ttrain-logloss:0.27280\teval-logloss:0.27660\n",
      "[367]\ttrain-logloss:0.27278\teval-logloss:0.27659\n",
      "[368]\ttrain-logloss:0.27272\teval-logloss:0.27656\n",
      "[369]\ttrain-logloss:0.27262\teval-logloss:0.27651\n",
      "[370]\ttrain-logloss:0.27260\teval-logloss:0.27648\n",
      "[371]\ttrain-logloss:0.27255\teval-logloss:0.27646\n",
      "[372]\ttrain-logloss:0.27248\teval-logloss:0.27639\n",
      "[373]\ttrain-logloss:0.27244\teval-logloss:0.27632\n",
      "[374]\ttrain-logloss:0.27240\teval-logloss:0.27630\n",
      "[375]\ttrain-logloss:0.27237\teval-logloss:0.27626\n",
      "[376]\ttrain-logloss:0.27234\teval-logloss:0.27621\n",
      "[377]\ttrain-logloss:0.27231\teval-logloss:0.27619\n",
      "[378]\ttrain-logloss:0.27224\teval-logloss:0.27612\n",
      "[379]\ttrain-logloss:0.27223\teval-logloss:0.27611\n",
      "[380]\ttrain-logloss:0.27222\teval-logloss:0.27610\n",
      "[381]\ttrain-logloss:0.27217\teval-logloss:0.27605\n",
      "[382]\ttrain-logloss:0.27214\teval-logloss:0.27603\n",
      "[383]\ttrain-logloss:0.27214\teval-logloss:0.27601\n",
      "[384]\ttrain-logloss:0.27212\teval-logloss:0.27598\n",
      "[385]\ttrain-logloss:0.27210\teval-logloss:0.27597\n",
      "[386]\ttrain-logloss:0.27206\teval-logloss:0.27591\n",
      "[387]\ttrain-logloss:0.27202\teval-logloss:0.27587\n",
      "[388]\ttrain-logloss:0.27198\teval-logloss:0.27583\n",
      "[389]\ttrain-logloss:0.27192\teval-logloss:0.27579\n",
      "[390]\ttrain-logloss:0.27186\teval-logloss:0.27573\n",
      "[391]\ttrain-logloss:0.27180\teval-logloss:0.27570\n",
      "[392]\ttrain-logloss:0.27177\teval-logloss:0.27564\n",
      "[393]\ttrain-logloss:0.27172\teval-logloss:0.27560\n",
      "[394]\ttrain-logloss:0.27166\teval-logloss:0.27551\n",
      "[395]\ttrain-logloss:0.27164\teval-logloss:0.27549\n",
      "[396]\ttrain-logloss:0.27163\teval-logloss:0.27547\n",
      "[397]\ttrain-logloss:0.27157\teval-logloss:0.27538\n",
      "[398]\ttrain-logloss:0.27150\teval-logloss:0.27531\n",
      "[399]\ttrain-logloss:0.27150\teval-logloss:0.27531\n"
     ]
    }
   ],
   "source": [
    "# train 데이터 세트는 'train', evaluation(test) 데이터 세트는 'eval'로 명기\n",
    "wlist = [(dtrain, 'train'),(dtest, 'eval')]\n",
    "# 하이퍼 파라미터와 early stoppinig 파라미터를 train() 함수의 파라미터로 전달\n",
    "xgb_model = xgb.train(params=params, dtrain=dtrain, num_boost_round=num_rounds, evals=wlist)"
   ]
  },
  {
   "cell_type": "code",
   "execution_count": 97,
   "metadata": {},
   "outputs": [
    {
     "name": "stdout",
     "output_type": "stream",
     "text": [
      "[0.074 0.464 0.999 1.    0.978 0.557 0.536 0.273 0.083 0.281]\n"
     ]
    }
   ],
   "source": [
    "pred_probs = xgb_model.predict(dtest)\n",
    "print(np.round(pred_probs[:10], 3))\n",
    "\n",
    "preds = [1 if x > 0.5 else 0 for x in pred_probs]"
   ]
  },
  {
   "cell_type": "code",
   "execution_count": 98,
   "metadata": {},
   "outputs": [],
   "source": [
    "def get_clf_eval(Y_test, pred):\n",
    "    confusion = confusion_matrix(Y_test, pred)\n",
    "    accuracy = accuracy_score(Y_test, pred)\n",
    "    precision = precision_score(Y_test, pred)\n",
    "    recall = recall_score(Y_test, pred)\n",
    "    print('오차행렬')\n",
    "    print(confusion)\n",
    "    print('정확도: {0:.4f}, 정밀도: {1:.4f}, 재현율: {2:.4f}'.format(accuracy, precision, recall))"
   ]
  },
  {
   "cell_type": "code",
   "execution_count": 99,
   "metadata": {},
   "outputs": [
    {
     "name": "stdout",
     "output_type": "stream",
     "text": [
      "오차행렬\n",
      "[[2224  477]\n",
      " [ 687 4753]]\n",
      "정확도: 0.8570, 정밀도: 0.9088, 재현율: 0.8737\n"
     ]
    }
   ],
   "source": [
    "get_clf_eval(Y_test, preds)"
   ]
  },
  {
   "cell_type": "markdown",
   "metadata": {},
   "source": [
    "# LightGBM"
   ]
  },
  {
   "cell_type": "code",
   "execution_count": 100,
   "metadata": {},
   "outputs": [
    {
     "name": "stdout",
     "output_type": "stream",
     "text": [
      "[1]\tvalid_0's binary_logloss: 0.583772\tvalid_0's binary_logloss: 0.583772\n",
      "Training until validation scores don't improve for 100 rounds.\n",
      "[2]\tvalid_0's binary_logloss: 0.54258\tvalid_0's binary_logloss: 0.54258\n",
      "[3]\tvalid_0's binary_logloss: 0.509078\tvalid_0's binary_logloss: 0.509078\n",
      "[4]\tvalid_0's binary_logloss: 0.481238\tvalid_0's binary_logloss: 0.481238\n",
      "[5]\tvalid_0's binary_logloss: 0.457184\tvalid_0's binary_logloss: 0.457184\n",
      "[6]\tvalid_0's binary_logloss: 0.436406\tvalid_0's binary_logloss: 0.436406\n",
      "[7]\tvalid_0's binary_logloss: 0.418939\tvalid_0's binary_logloss: 0.418939\n",
      "[8]\tvalid_0's binary_logloss: 0.403556\tvalid_0's binary_logloss: 0.403556\n",
      "[9]\tvalid_0's binary_logloss: 0.390411\tvalid_0's binary_logloss: 0.390411\n",
      "[10]\tvalid_0's binary_logloss: 0.378813\tvalid_0's binary_logloss: 0.378813\n",
      "[11]\tvalid_0's binary_logloss: 0.368548\tvalid_0's binary_logloss: 0.368548\n",
      "[12]\tvalid_0's binary_logloss: 0.359522\tvalid_0's binary_logloss: 0.359522\n",
      "[13]\tvalid_0's binary_logloss: 0.351718\tvalid_0's binary_logloss: 0.351718\n",
      "[14]\tvalid_0's binary_logloss: 0.344738\tvalid_0's binary_logloss: 0.344738\n",
      "[15]\tvalid_0's binary_logloss: 0.338488\tvalid_0's binary_logloss: 0.338488\n",
      "[16]\tvalid_0's binary_logloss: 0.332981\tvalid_0's binary_logloss: 0.332981\n",
      "[17]\tvalid_0's binary_logloss: 0.328127\tvalid_0's binary_logloss: 0.328127\n",
      "[18]\tvalid_0's binary_logloss: 0.32364\tvalid_0's binary_logloss: 0.32364\n",
      "[19]\tvalid_0's binary_logloss: 0.31954\tvalid_0's binary_logloss: 0.31954\n",
      "[20]\tvalid_0's binary_logloss: 0.316081\tvalid_0's binary_logloss: 0.316081\n",
      "[21]\tvalid_0's binary_logloss: 0.312929\tvalid_0's binary_logloss: 0.312929\n",
      "[22]\tvalid_0's binary_logloss: 0.310044\tvalid_0's binary_logloss: 0.310044\n",
      "[23]\tvalid_0's binary_logloss: 0.307522\tvalid_0's binary_logloss: 0.307522\n",
      "[24]\tvalid_0's binary_logloss: 0.305022\tvalid_0's binary_logloss: 0.305022\n",
      "[25]\tvalid_0's binary_logloss: 0.302752\tvalid_0's binary_logloss: 0.302752\n",
      "[26]\tvalid_0's binary_logloss: 0.30069\tvalid_0's binary_logloss: 0.30069\n",
      "[27]\tvalid_0's binary_logloss: 0.298762\tvalid_0's binary_logloss: 0.298762\n",
      "[28]\tvalid_0's binary_logloss: 0.296911\tvalid_0's binary_logloss: 0.296911\n",
      "[29]\tvalid_0's binary_logloss: 0.295292\tvalid_0's binary_logloss: 0.295292\n",
      "[30]\tvalid_0's binary_logloss: 0.293679\tvalid_0's binary_logloss: 0.293679\n",
      "[31]\tvalid_0's binary_logloss: 0.292286\tvalid_0's binary_logloss: 0.292286\n",
      "[32]\tvalid_0's binary_logloss: 0.291119\tvalid_0's binary_logloss: 0.291119\n",
      "[33]\tvalid_0's binary_logloss: 0.289971\tvalid_0's binary_logloss: 0.289971\n",
      "[34]\tvalid_0's binary_logloss: 0.288982\tvalid_0's binary_logloss: 0.288982\n",
      "[35]\tvalid_0's binary_logloss: 0.287953\tvalid_0's binary_logloss: 0.287953\n",
      "[36]\tvalid_0's binary_logloss: 0.287008\tvalid_0's binary_logloss: 0.287008\n",
      "[37]\tvalid_0's binary_logloss: 0.286216\tvalid_0's binary_logloss: 0.286216\n",
      "[38]\tvalid_0's binary_logloss: 0.285389\tvalid_0's binary_logloss: 0.285389\n",
      "[39]\tvalid_0's binary_logloss: 0.284648\tvalid_0's binary_logloss: 0.284648\n",
      "[40]\tvalid_0's binary_logloss: 0.28388\tvalid_0's binary_logloss: 0.28388\n",
      "[41]\tvalid_0's binary_logloss: 0.283163\tvalid_0's binary_logloss: 0.283163\n",
      "[42]\tvalid_0's binary_logloss: 0.282214\tvalid_0's binary_logloss: 0.282214\n",
      "[43]\tvalid_0's binary_logloss: 0.281563\tvalid_0's binary_logloss: 0.281563\n",
      "[44]\tvalid_0's binary_logloss: 0.280938\tvalid_0's binary_logloss: 0.280938\n",
      "[45]\tvalid_0's binary_logloss: 0.280245\tvalid_0's binary_logloss: 0.280245\n",
      "[46]\tvalid_0's binary_logloss: 0.279636\tvalid_0's binary_logloss: 0.279636\n",
      "[47]\tvalid_0's binary_logloss: 0.279003\tvalid_0's binary_logloss: 0.279003\n",
      "[48]\tvalid_0's binary_logloss: 0.278482\tvalid_0's binary_logloss: 0.278482\n",
      "[49]\tvalid_0's binary_logloss: 0.277966\tvalid_0's binary_logloss: 0.277966\n",
      "[50]\tvalid_0's binary_logloss: 0.277549\tvalid_0's binary_logloss: 0.277549\n",
      "[51]\tvalid_0's binary_logloss: 0.277091\tvalid_0's binary_logloss: 0.277091\n",
      "[52]\tvalid_0's binary_logloss: 0.276624\tvalid_0's binary_logloss: 0.276624\n",
      "[53]\tvalid_0's binary_logloss: 0.276188\tvalid_0's binary_logloss: 0.276188\n",
      "[54]\tvalid_0's binary_logloss: 0.275785\tvalid_0's binary_logloss: 0.275785\n",
      "[55]\tvalid_0's binary_logloss: 0.275351\tvalid_0's binary_logloss: 0.275351\n",
      "[56]\tvalid_0's binary_logloss: 0.274912\tvalid_0's binary_logloss: 0.274912\n",
      "[57]\tvalid_0's binary_logloss: 0.274544\tvalid_0's binary_logloss: 0.274544\n",
      "[58]\tvalid_0's binary_logloss: 0.274092\tvalid_0's binary_logloss: 0.274092\n",
      "[59]\tvalid_0's binary_logloss: 0.273856\tvalid_0's binary_logloss: 0.273856\n",
      "[60]\tvalid_0's binary_logloss: 0.273494\tvalid_0's binary_logloss: 0.273494\n",
      "[61]\tvalid_0's binary_logloss: 0.273159\tvalid_0's binary_logloss: 0.273159\n",
      "[62]\tvalid_0's binary_logloss: 0.272987\tvalid_0's binary_logloss: 0.272987\n",
      "[63]\tvalid_0's binary_logloss: 0.272688\tvalid_0's binary_logloss: 0.272688\n",
      "[64]\tvalid_0's binary_logloss: 0.272244\tvalid_0's binary_logloss: 0.272244\n",
      "[65]\tvalid_0's binary_logloss: 0.271851\tvalid_0's binary_logloss: 0.271851\n",
      "[66]\tvalid_0's binary_logloss: 0.27144\tvalid_0's binary_logloss: 0.27144\n",
      "[67]\tvalid_0's binary_logloss: 0.271147\tvalid_0's binary_logloss: 0.271147\n",
      "[68]\tvalid_0's binary_logloss: 0.270862\tvalid_0's binary_logloss: 0.270862\n",
      "[69]\tvalid_0's binary_logloss: 0.27065\tvalid_0's binary_logloss: 0.27065\n",
      "[70]\tvalid_0's binary_logloss: 0.27011\tvalid_0's binary_logloss: 0.27011\n",
      "[71]\tvalid_0's binary_logloss: 0.270296\tvalid_0's binary_logloss: 0.270296\n",
      "[72]\tvalid_0's binary_logloss: 0.26995\tvalid_0's binary_logloss: 0.26995\n",
      "[73]\tvalid_0's binary_logloss: 0.269563\tvalid_0's binary_logloss: 0.269563\n",
      "[74]\tvalid_0's binary_logloss: 0.269207\tvalid_0's binary_logloss: 0.269207\n",
      "[75]\tvalid_0's binary_logloss: 0.26881\tvalid_0's binary_logloss: 0.26881\n",
      "[76]\tvalid_0's binary_logloss: 0.268451\tvalid_0's binary_logloss: 0.268451\n",
      "[77]\tvalid_0's binary_logloss: 0.268128\tvalid_0's binary_logloss: 0.268128\n",
      "[78]\tvalid_0's binary_logloss: 0.267832\tvalid_0's binary_logloss: 0.267832\n",
      "[79]\tvalid_0's binary_logloss: 0.267518\tvalid_0's binary_logloss: 0.267518\n",
      "[80]\tvalid_0's binary_logloss: 0.267146\tvalid_0's binary_logloss: 0.267146\n",
      "[81]\tvalid_0's binary_logloss: 0.266885\tvalid_0's binary_logloss: 0.266885\n",
      "[82]\tvalid_0's binary_logloss: 0.266599\tvalid_0's binary_logloss: 0.266599\n",
      "[83]\tvalid_0's binary_logloss: 0.266276\tvalid_0's binary_logloss: 0.266276\n",
      "[84]\tvalid_0's binary_logloss: 0.266023\tvalid_0's binary_logloss: 0.266023\n",
      "[85]\tvalid_0's binary_logloss: 0.265763\tvalid_0's binary_logloss: 0.265763\n",
      "[86]\tvalid_0's binary_logloss: 0.265406\tvalid_0's binary_logloss: 0.265406\n",
      "[87]\tvalid_0's binary_logloss: 0.265073\tvalid_0's binary_logloss: 0.265073\n",
      "[88]\tvalid_0's binary_logloss: 0.264812\tvalid_0's binary_logloss: 0.264812\n",
      "[89]\tvalid_0's binary_logloss: 0.264449\tvalid_0's binary_logloss: 0.264449\n",
      "[90]\tvalid_0's binary_logloss: 0.264061\tvalid_0's binary_logloss: 0.264061\n",
      "[91]\tvalid_0's binary_logloss: 0.263634\tvalid_0's binary_logloss: 0.263634\n",
      "[92]\tvalid_0's binary_logloss: 0.263198\tvalid_0's binary_logloss: 0.263198\n",
      "[93]\tvalid_0's binary_logloss: 0.262974\tvalid_0's binary_logloss: 0.262974\n",
      "[94]\tvalid_0's binary_logloss: 0.262667\tvalid_0's binary_logloss: 0.262667\n",
      "[95]\tvalid_0's binary_logloss: 0.262371\tvalid_0's binary_logloss: 0.262371\n",
      "[96]\tvalid_0's binary_logloss: 0.262204\tvalid_0's binary_logloss: 0.262204\n",
      "[97]\tvalid_0's binary_logloss: 0.261895\tvalid_0's binary_logloss: 0.261895\n",
      "[98]\tvalid_0's binary_logloss: 0.261591\tvalid_0's binary_logloss: 0.261591\n",
      "[99]\tvalid_0's binary_logloss: 0.261398\tvalid_0's binary_logloss: 0.261398\n",
      "[100]\tvalid_0's binary_logloss: 0.261137\tvalid_0's binary_logloss: 0.261137\n",
      "Did not meet early stopping. Best iteration is:\n",
      "[100]\tvalid_0's binary_logloss: 0.261137\tvalid_0's binary_logloss: 0.261137\n"
     ]
    }
   ],
   "source": [
    "lgbm_wrapper = LGBMClassifier(nestimators=400)\n",
    "evals = [(X_test, Y_test)]\n",
    "lgbm_wrapper.fit(htX, htY, early_stopping_rounds=100, \n",
    "                 eval_metric=\"logloss\", eval_set=evals, verbose=True)\n",
    "pred = lgbm_wrapper.predict(X_test)"
   ]
  },
  {
   "cell_type": "code",
   "execution_count": 101,
   "metadata": {},
   "outputs": [
    {
     "name": "stdout",
     "output_type": "stream",
     "text": [
      "오차행렬\n",
      "[[2287  414]\n",
      " [ 629 4811]]\n",
      "정확도: 0.8719, 정밀도: 0.9208, 재현율: 0.8844\n"
     ]
    }
   ],
   "source": [
    "get_clf_eval(Y_test, pred)"
   ]
  },
  {
   "cell_type": "markdown",
   "metadata": {},
   "source": [
    "# PR curve"
   ]
  },
  {
   "cell_type": "code",
   "execution_count": 102,
   "metadata": {},
   "outputs": [],
   "source": [
    "def plot_precision_recall_curve(precisions, recalls) :\n",
    "    plt.plot(recalls, precisions, color='blue')\n",
    "    plt.axis([0,1,0,1])\n",
    "    plt.xlabel('Recall')\n",
    "    plt.ylabel('Precision')\n",
    "    plt.title('PR curve')"
   ]
  },
  {
   "cell_type": "code",
   "execution_count": 103,
   "metadata": {},
   "outputs": [],
   "source": [
    "precisions, recalls, _ = precision_recall_curve(Y_test, \n",
    "                                    clf_gs.predict_proba(X_test)[:,1])"
   ]
  },
  {
   "cell_type": "code",
   "execution_count": 104,
   "metadata": {},
   "outputs": [
    {
     "data": {
      "text/plain": [
       "array([0.70247934, 0.70362225, 0.70426   , 0.70531777, 0.74183365,\n",
       "       0.7424763 , 0.7434627 , 0.74476007, 0.75202344, 0.75739645,\n",
       "       0.76820144, 0.76864382, 0.7694969 , 0.78771616, 0.78817734,\n",
       "       0.78858509, 0.79523376, 0.79731585, 0.7983797 , 0.79877582,\n",
       "       0.80647169, 0.86199538, 0.86217949, 0.86302836, 0.8647343 ,\n",
       "       0.86523297, 0.8651363 , 0.86539842, 0.86681066, 0.97676107,\n",
       "       0.97743266, 0.97835077, 0.97880633, 0.97926323, 0.97948217,\n",
       "       0.98086829, 0.98133137, 0.98154982, 0.98248643, 0.98295455,\n",
       "       0.98390691, 0.98413485, 0.98510057, 0.98604883, 0.98700974,\n",
       "       0.98746553, 0.98911392, 0.98934281, 0.98958333, 0.98981929,\n",
       "       0.9897855 , 0.98976982, 0.99001025, 0.99075738, 0.99123937,\n",
       "       0.99264126, 0.99570008, 0.99569314, 0.99595251, 0.99594375,\n",
       "       0.99803481, 0.99831034, 0.99858597, 0.99886525, 1.        ,\n",
       "       1.        , 1.        , 1.        , 1.        , 1.        ,\n",
       "       1.        ])"
      ]
     },
     "execution_count": 104,
     "metadata": {},
     "output_type": "execute_result"
    }
   ],
   "source": [
    "precisions"
   ]
  },
  {
   "cell_type": "code",
   "execution_count": 105,
   "metadata": {},
   "outputs": [
    {
     "data": {
      "text/plain": [
       "array([1.        , 0.99981618, 0.99981618, 0.99963235, 0.99356618,\n",
       "       0.99319853, 0.99301471, 0.99283088, 0.990625  , 0.98823529,\n",
       "       0.98143382, 0.98143382, 0.98125   , 0.97132353, 0.97058824,\n",
       "       0.97022059, 0.96305147, 0.96102941, 0.96011029, 0.95955882,\n",
       "       0.95294118, 0.89099265, 0.89007353, 0.88952206, 0.88841912,\n",
       "       0.8875    , 0.88676471, 0.88639706, 0.88529412, 0.74172794,\n",
       "       0.74044118, 0.73933824, 0.73860294, 0.73786765, 0.73713235,\n",
       "       0.73511029, 0.734375  , 0.73345588, 0.73216912, 0.73143382,\n",
       "       0.73051471, 0.72977941, 0.72922794, 0.72757353, 0.72628676,\n",
       "       0.72408088, 0.71819853, 0.71672794, 0.71599265, 0.71488971,\n",
       "       0.7125    , 0.71139706, 0.71047794, 0.709375  , 0.70716912,\n",
       "       0.69430147, 0.68106618, 0.67996324, 0.67849265, 0.67702206,\n",
       "       0.65349265, 0.65165441, 0.64908088, 0.64724265, 0.63694853,\n",
       "       0.63455882, 0.63216912, 0.63033088, 0.62647059, 0.62261029,\n",
       "       0.        ])"
      ]
     },
     "execution_count": 105,
     "metadata": {},
     "output_type": "execute_result"
    }
   ],
   "source": [
    "recalls"
   ]
  },
  {
   "cell_type": "code",
   "execution_count": 106,
   "metadata": {},
   "outputs": [
    {
     "data": {
      "text/plain": [
       "array([0.03030303, 0.03225806, 0.03333333, 0.08969697, 0.1       ,\n",
       "       0.10526316, 0.1147541 , 0.12371134, 0.12671233, 0.17570093,\n",
       "       0.22580645, 0.22727273, 0.25460123, 0.28888889, 0.33333333,\n",
       "       0.34328358, 0.35555556, 0.36923077, 0.4       , 0.40105541,\n",
       "       0.40824211, 0.41935484, 0.425     , 0.43589744, 0.46666667,\n",
       "       0.48387097, 0.53333333, 0.53846154, 0.5570904 , 0.6       ,\n",
       "       0.60377358, 0.61290323, 0.64516129, 0.64705882, 0.68085106,\n",
       "       0.68421053, 0.68571429, 0.69767442, 0.7       , 0.70967742,\n",
       "       0.76470588, 0.77419355, 0.775     , 0.7755102 , 0.79245283,\n",
       "       0.81714286, 0.825     , 0.83333333, 0.83870968, 0.84313725,\n",
       "       0.84375   , 0.875     , 0.87804878, 0.89473684, 0.89754098,\n",
       "       0.89846154, 0.9       , 0.92      , 0.92105263, 0.92405063,\n",
       "       0.93103448, 0.94339623, 0.94444444, 0.95238095, 0.95348837,\n",
       "       0.96078431, 0.96666667, 0.97297297, 0.97368421, 1.        ])"
      ]
     },
     "execution_count": 106,
     "metadata": {},
     "output_type": "execute_result"
    }
   ],
   "source": [
    "_"
   ]
  },
  {
   "cell_type": "code",
   "execution_count": 107,
   "metadata": {},
   "outputs": [
    {
     "data": {
      "image/png": "[encoded data removed]",
      "text/plain": [
       "<Figure size 432x288 with 1 Axes>"
      ]
     },
     "metadata": {
      "needs_background": "light"
     },
     "output_type": "display_data"
    }
   ],
   "source": [
    "plot_precision_recall_curve(precisions, recalls)"
   ]
  },
  {
   "cell_type": "code",
   "execution_count": 108,
   "metadata": {},
   "outputs": [
    {
     "data": {
      "text/plain": [
       "0.9244127991811313"
      ]
     },
     "execution_count": 108,
     "metadata": {},
     "output_type": "execute_result"
    }
   ],
   "source": [
    "fpr, tpr, _ = roc_curve(Y_test, clf_gs.predict_proba(X_test)[:,1])\n",
    "auc(fpr, tpr)"
   ]
  },
  {
   "cell_type": "code",
   "execution_count": 109,
   "metadata": {},
   "outputs": [],
   "source": [
    "def plot_roc_curve(fpr, tpr, model, color=None) :\n",
    "    model = model + ' (auc = %0.3f)' % auc(fpr, tpr)\n",
    "    plt.plot(fpr, tpr, label=model, color=color)\n",
    "    plt.plot([0, 1], [0, 1], color='navy', linestyle='--')\n",
    "    plt.axis([0,1,0,1])\n",
    "    plt.xlabel('FPR (1 - specificity)')\n",
    "    plt.ylabel('TPR (recall)')\n",
    "    plt.title('ROC curve')\n",
    "    plt.legend(loc=\"lower right\")"
   ]
  },
  {
   "cell_type": "code",
   "execution_count": 110,
   "metadata": {},
   "outputs": [
    {
     "data": {
      "image/png": "[encoded data removed]",
      "text/plain": [
       "<Figure size 432x288 with 1 Axes>"
      ]
     },
     "metadata": {
      "needs_background": "light"
     },
     "output_type": "display_data"
    }
   ],
   "source": [
    "fpr_dummy, tpr_dummy, _ = roc_curve(Y_test, \n",
    "                                    dummy.predict_proba(X_test)[:,1])\n",
    "plot_roc_curve(fpr_dummy, tpr_dummy, 'dummy model', 'hotpink')\n",
    "fpr_tree, tpr_tree, _ = roc_curve(Y_test, \n",
    "                                  clf_gs.predict_proba(X_test)[:,1])\n",
    "plot_roc_curve(fpr_tree, tpr_tree, 'clf_gs', 'darkgreen')"
   ]
  },
  {
   "cell_type": "code",
   "execution_count": 111,
   "metadata": {},
   "outputs": [],
   "source": [
    "working_class = pd.get_dummies(human_new[\"노동 계급\"])\n",
    "human_new = pd.concat([human_new, working_class], axis=1)\n",
    "human_new.drop(\"노동 계급\", axis=1, inplace=True)"
   ]
  },
  {
   "cell_type": "code",
   "execution_count": 112,
   "metadata": {},
   "outputs": [],
   "source": [
    "academic_ability = pd.get_dummies(human_new[\"학력\"])\n",
    "human_new = pd.concat([human_new,academic_ability],axis=1)\n",
    "human_new.drop(\"학력\",axis=1,inplace=True)"
   ]
  },
  {
   "cell_type": "code",
   "execution_count": 113,
   "metadata": {},
   "outputs": [],
   "source": [
    "marital_status = pd.get_dummies(human_new[\"혼인 상태\"])\n",
    "human_new = pd.concat([human_new,marital_status], axis=1)\n",
    "human_new.drop(\"혼인 상태\", axis=1, inplace=True)"
   ]
  },
  {
   "cell_type": "code",
   "execution_count": 114,
   "metadata": {},
   "outputs": [],
   "source": [
    "jobs = pd.get_dummies(human_new[\"직업\"])\n",
    "human_new = pd.concat([human_new, jobs], axis=1)\n",
    "human_new.drop(\"직업\", axis=1, inplace=True)"
   ]
  },
  {
   "cell_type": "code",
   "execution_count": 115,
   "metadata": {},
   "outputs": [],
   "source": [
    "relationship = pd.get_dummies(human_new[\"관계\"])\n",
    "human_new = pd.concat([human_new, relationship], axis=1)\n",
    "human_new.drop(\"관계\", axis=1, inplace=True)"
   ]
  },
  {
   "cell_type": "code",
   "execution_count": 116,
   "metadata": {},
   "outputs": [],
   "source": [
    "race = pd.get_dummies(human_new[\"인종\"])\n",
    "human_new = pd.concat([human_new, race], axis=1)\n",
    "human_new.drop(\"인종\", axis=1, inplace=True)"
   ]
  },
  {
   "cell_type": "code",
   "execution_count": 117,
   "metadata": {},
   "outputs": [],
   "source": [
    "human_new[[\"모국\"]] = human_new[[\"모국\"]].apply(lambda x: x.str.lstrip())\n",
    "human_new[[\"모국\"]] = human_new[[\"모국\"]].apply(lambda x: x.astype('category').cat.codes)"
   ]
  },
  {
   "cell_type": "code",
   "execution_count": 118,
   "metadata": {},
   "outputs": [
    {
     "data": {
      "text/html": [
       "<div>\n",
       "<style scoped>\n",
       "    .dataframe tbody tr th:only-of-type {\n",
       "        vertical-align: middle;\n",
       "    }\n",
       "\n",
       "    .dataframe tbody tr th {\n",
       "        vertical-align: top;\n",
       "    }\n",
       "\n",
       "    .dataframe thead th {\n",
       "        text-align: right;\n",
       "    }\n",
       "</style>\n",
       "<table border=\"1\" class=\"dataframe\">\n",
       "  <thead>\n",
       "    <tr style=\"text-align: right;\">\n",
       "      <th></th>\n",
       "      <th>아이디</th>\n",
       "      <th>나이</th>\n",
       "      <th>fnlwgt</th>\n",
       "      <th>교육 수</th>\n",
       "      <th>자본 이득</th>\n",
       "      <th>자본 손실</th>\n",
       "      <th>주당 시간</th>\n",
       "      <th>모국</th>\n",
       "      <th>Federal-gov</th>\n",
       "      <th>Local-gov</th>\n",
       "      <th>...</th>\n",
       "      <th>Not-in-family</th>\n",
       "      <th>Other-relative</th>\n",
       "      <th>Own-child</th>\n",
       "      <th>Unmarried</th>\n",
       "      <th>Wife</th>\n",
       "      <th>Amer-Indian-Eskimo</th>\n",
       "      <th>Asian-Pac-Islander</th>\n",
       "      <th>Black</th>\n",
       "      <th>Other</th>\n",
       "      <th>White</th>\n",
       "    </tr>\n",
       "  </thead>\n",
       "  <tbody>\n",
       "    <tr>\n",
       "      <th>0</th>\n",
       "      <td>H00001</td>\n",
       "      <td>25</td>\n",
       "      <td>226802</td>\n",
       "      <td>7</td>\n",
       "      <td>0</td>\n",
       "      <td>0</td>\n",
       "      <td>40</td>\n",
       "      <td>37</td>\n",
       "      <td>0</td>\n",
       "      <td>0</td>\n",
       "      <td>...</td>\n",
       "      <td>0</td>\n",
       "      <td>0</td>\n",
       "      <td>1</td>\n",
       "      <td>0</td>\n",
       "      <td>0</td>\n",
       "      <td>0</td>\n",
       "      <td>0</td>\n",
       "      <td>1</td>\n",
       "      <td>0</td>\n",
       "      <td>0</td>\n",
       "    </tr>\n",
       "    <tr>\n",
       "      <th>1</th>\n",
       "      <td>H00002</td>\n",
       "      <td>38</td>\n",
       "      <td>89814</td>\n",
       "      <td>9</td>\n",
       "      <td>0</td>\n",
       "      <td>0</td>\n",
       "      <td>50</td>\n",
       "      <td>37</td>\n",
       "      <td>0</td>\n",
       "      <td>0</td>\n",
       "      <td>...</td>\n",
       "      <td>0</td>\n",
       "      <td>0</td>\n",
       "      <td>0</td>\n",
       "      <td>0</td>\n",
       "      <td>0</td>\n",
       "      <td>0</td>\n",
       "      <td>0</td>\n",
       "      <td>0</td>\n",
       "      <td>0</td>\n",
       "      <td>1</td>\n",
       "    </tr>\n",
       "    <tr>\n",
       "      <th>2</th>\n",
       "      <td>H00003</td>\n",
       "      <td>28</td>\n",
       "      <td>336951</td>\n",
       "      <td>12</td>\n",
       "      <td>0</td>\n",
       "      <td>0</td>\n",
       "      <td>40</td>\n",
       "      <td>37</td>\n",
       "      <td>0</td>\n",
       "      <td>1</td>\n",
       "      <td>...</td>\n",
       "      <td>0</td>\n",
       "      <td>0</td>\n",
       "      <td>0</td>\n",
       "      <td>0</td>\n",
       "      <td>0</td>\n",
       "      <td>0</td>\n",
       "      <td>0</td>\n",
       "      <td>0</td>\n",
       "      <td>0</td>\n",
       "      <td>1</td>\n",
       "    </tr>\n",
       "    <tr>\n",
       "      <th>3</th>\n",
       "      <td>H00004</td>\n",
       "      <td>44</td>\n",
       "      <td>160323</td>\n",
       "      <td>10</td>\n",
       "      <td>7688</td>\n",
       "      <td>0</td>\n",
       "      <td>40</td>\n",
       "      <td>37</td>\n",
       "      <td>0</td>\n",
       "      <td>0</td>\n",
       "      <td>...</td>\n",
       "      <td>0</td>\n",
       "      <td>0</td>\n",
       "      <td>0</td>\n",
       "      <td>0</td>\n",
       "      <td>0</td>\n",
       "      <td>0</td>\n",
       "      <td>0</td>\n",
       "      <td>1</td>\n",
       "      <td>0</td>\n",
       "      <td>0</td>\n",
       "    </tr>\n",
       "    <tr>\n",
       "      <th>4</th>\n",
       "      <td>H00005</td>\n",
       "      <td>18</td>\n",
       "      <td>103497</td>\n",
       "      <td>10</td>\n",
       "      <td>0</td>\n",
       "      <td>0</td>\n",
       "      <td>30</td>\n",
       "      <td>37</td>\n",
       "      <td>0</td>\n",
       "      <td>0</td>\n",
       "      <td>...</td>\n",
       "      <td>0</td>\n",
       "      <td>0</td>\n",
       "      <td>1</td>\n",
       "      <td>0</td>\n",
       "      <td>0</td>\n",
       "      <td>0</td>\n",
       "      <td>0</td>\n",
       "      <td>0</td>\n",
       "      <td>0</td>\n",
       "      <td>1</td>\n",
       "    </tr>\n",
       "  </tbody>\n",
       "</table>\n",
       "<p>5 rows × 64 columns</p>\n",
       "</div>"
      ],
      "text/plain": [
       "      아이디  나이  fnlwgt  교육 수  자본 이득  자본 손실  주당 시간  모국   Federal-gov  \\\n",
       "0  H00001  25  226802     7      0      0     40  37             0   \n",
       "1  H00002  38   89814     9      0      0     50  37             0   \n",
       "2  H00003  28  336951    12      0      0     40  37             0   \n",
       "3  H00004  44  160323    10   7688      0     40  37             0   \n",
       "4  H00005  18  103497    10      0      0     30  37             0   \n",
       "\n",
       "    Local-gov  ...   Not-in-family   Other-relative   Own-child   Unmarried  \\\n",
       "0           0  ...               0                0           1           0   \n",
       "1           0  ...               0                0           0           0   \n",
       "2           1  ...               0                0           0           0   \n",
       "3           0  ...               0                0           0           0   \n",
       "4           0  ...               0                0           1           0   \n",
       "\n",
       "    Wife   Amer-Indian-Eskimo   Asian-Pac-Islander   Black   Other   White  \n",
       "0      0                    0                    0       1       0       0  \n",
       "1      0                    0                    0       0       0       1  \n",
       "2      0                    0                    0       0       0       1  \n",
       "3      0                    0                    0       1       0       0  \n",
       "4      0                    0                    0       0       0       1  \n",
       "\n",
       "[5 rows x 64 columns]"
      ]
     },
     "execution_count": 118,
     "metadata": {},
     "output_type": "execute_result"
    }
   ],
   "source": [
    "ndf = human_new.copy()\n",
    "ndf.head()"
   ]
  },
  {
   "cell_type": "code",
   "execution_count": 120,
   "metadata": {},
   "outputs": [],
   "source": [
    "ndf['성별'] = lgbm_wrapper.predict(ndf.loc[:, '나이':' White'])"
   ]
  },
  {
   "cell_type": "code",
   "execution_count": 121,
   "metadata": {},
   "outputs": [
    {
     "data": {
      "text/plain": [
       "(16281, 65)"
      ]
     },
     "execution_count": 121,
     "metadata": {},
     "output_type": "execute_result"
    }
   ],
   "source": [
    "ndf.shape"
   ]
  },
  {
   "cell_type": "code",
   "execution_count": 122,
   "metadata": {},
   "outputs": [],
   "source": [
    "ndf_rename=ndf[['아이디','성별']]"
   ]
  },
  {
   "cell_type": "code",
   "execution_count": 123,
   "metadata": {},
   "outputs": [
    {
     "data": {
      "text/html": [
       "<div>\n",
       "<style scoped>\n",
       "    .dataframe tbody tr th:only-of-type {\n",
       "        vertical-align: middle;\n",
       "    }\n",
       "\n",
       "    .dataframe tbody tr th {\n",
       "        vertical-align: top;\n",
       "    }\n",
       "\n",
       "    .dataframe thead th {\n",
       "        text-align: right;\n",
       "    }\n",
       "</style>\n",
       "<table border=\"1\" class=\"dataframe\">\n",
       "  <thead>\n",
       "    <tr style=\"text-align: right;\">\n",
       "      <th></th>\n",
       "      <th>ID</th>\n",
       "      <th>SEX</th>\n",
       "    </tr>\n",
       "  </thead>\n",
       "  <tbody>\n",
       "    <tr>\n",
       "      <th>0</th>\n",
       "      <td>H00001</td>\n",
       "      <td>1</td>\n",
       "    </tr>\n",
       "    <tr>\n",
       "      <th>1</th>\n",
       "      <td>H00002</td>\n",
       "      <td>1</td>\n",
       "    </tr>\n",
       "    <tr>\n",
       "      <th>2</th>\n",
       "      <td>H00003</td>\n",
       "      <td>1</td>\n",
       "    </tr>\n",
       "    <tr>\n",
       "      <th>3</th>\n",
       "      <td>H00004</td>\n",
       "      <td>1</td>\n",
       "    </tr>\n",
       "    <tr>\n",
       "      <th>4</th>\n",
       "      <td>H00005</td>\n",
       "      <td>0</td>\n",
       "    </tr>\n",
       "  </tbody>\n",
       "</table>\n",
       "</div>"
      ],
      "text/plain": [
       "       ID  SEX\n",
       "0  H00001    1\n",
       "1  H00002    1\n",
       "2  H00003    1\n",
       "3  H00004    1\n",
       "4  H00005    0"
      ]
     },
     "execution_count": 123,
     "metadata": {},
     "output_type": "execute_result"
    }
   ],
   "source": [
    "ndf_rename = ndf_rename.rename(columns={'아이디':'ID', '성별':'SEX'})\n",
    "ndf_rename.head()"
   ]
  },
  {
   "cell_type": "code",
   "execution_count": 124,
   "metadata": {},
   "outputs": [],
   "source": [
    "ndf_rename.to_csv('submission_human.csv', encoding='cp949', index=False)"
   ]
  },
  {
   "cell_type": "code",
   "execution_count": 125,
   "metadata": {},
   "outputs": [
    {
     "data": {
      "text/plain": [
       "(16281, 2)"
      ]
     },
     "execution_count": 125,
     "metadata": {},
     "output_type": "execute_result"
    }
   ],
   "source": [
    "ndf_rename.shape"
   ]
  },
  {
   "cell_type": "code",
   "execution_count": null,
   "metadata": {},
   "outputs": [],
   "source": []
  },
  {
   "cell_type": "code",
   "execution_count": null,
   "metadata": {},
   "outputs": [],
   "source": []
  },
  {
   "cell_type": "code",
   "execution_count": null,
   "metadata": {},
   "outputs": [],
   "source": []
  },
  {
   "cell_type": "code",
   "execution_count": null,
   "metadata": {},
   "outputs": [],
   "source": []
  }
 ],
 "metadata": {
  "kernelspec": {
   "display_name": "Python 3",
   "language": "python",
   "name": "python3"
  },
  "language_info": {
   "codemirror_mode": {
    "name": "ipython",
    "version": 3
   },
   "file_extension": ".py",
   "mimetype": "text/x-python",
   "name": "python",
   "nbconvert_exporter": "python",
   "pygments_lexer": "ipython3",
   "version": "3.8.5"
  }
 },
 "nbformat": 4,
 "nbformat_minor": 4
}
