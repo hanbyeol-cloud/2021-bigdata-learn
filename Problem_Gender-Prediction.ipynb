{
 "cells": [
  {
   "cell_type": "code",
   "execution_count": 1,
   "metadata": {},
   "outputs": [],
   "source": [
    "import pandas as pd\n",
    "import numpy as np\n",
    "import seaborn as sns\n",
    "import matplotlib.pyplot as plt\n",
    "from sklearn.model_selection import train_test_split\n",
    "from sklearn.linear_model import LogisticRegression\n",
    "from sklearn.neighbors import KNeighborsClassifier\n",
    "from sklearn.tree import DecisionTreeClassifier\n",
    "from sklearn.model_selection import cross_val_score\n",
    "from sklearn.model_selection import KFold\n",
    "from sklearn.preprocessing import MinMaxScaler\n",
    "from imblearn.under_sampling import RandomUnderSampler\n",
    "from imblearn.over_sampling import RandomOverSampler\n",
    "from sklearn import tree\n",
    "%matplotlib inline"
   ]
  },
  {
   "cell_type": "code",
   "execution_count": 2,
   "metadata": {},
   "outputs": [],
   "source": [
    "departmentstore_train = pd.read_csv(\"H-departmentstore/train.csv\",encoding='cp949')\n",
    "departmentstore_test = pd.read_csv(\"H-departmentstore/train.csv\",encoding='cp949')"
   ]
  },
  {
   "cell_type": "code",
   "execution_count": 3,
   "metadata": {},
   "outputs": [
    {
     "data": {
      "text/html": [
       "<div>\n",
       "<style scoped>\n",
       "    .dataframe tbody tr th:only-of-type {\n",
       "        vertical-align: middle;\n",
       "    }\n",
       "\n",
       "    .dataframe tbody tr th {\n",
       "        vertical-align: top;\n",
       "    }\n",
       "\n",
       "    .dataframe thead th {\n",
       "        text-align: right;\n",
       "    }\n",
       "</style>\n",
       "<table border=\"1\" class=\"dataframe\">\n",
       "  <thead>\n",
       "    <tr style=\"text-align: right;\">\n",
       "      <th></th>\n",
       "      <th>custid</th>\n",
       "      <th>gender</th>\n",
       "      <th>총구매액</th>\n",
       "      <th>구매건수</th>\n",
       "      <th>평균구매가격</th>\n",
       "      <th>평균할부개월수</th>\n",
       "      <th>구매브랜드종류</th>\n",
       "      <th>내점일수</th>\n",
       "      <th>수입상품_구매비율</th>\n",
       "      <th>주말방문비율</th>\n",
       "      <th>가을_구매건수</th>\n",
       "      <th>겨울_구매건수</th>\n",
       "      <th>봄_구매건수</th>\n",
       "      <th>여름_구매건수</th>\n",
       "      <th>아침_구매건수</th>\n",
       "      <th>저녁_구매건수</th>\n",
       "      <th>점심_구매건수</th>\n",
       "      <th>주구매코너</th>\n",
       "    </tr>\n",
       "  </thead>\n",
       "  <tbody>\n",
       "    <tr>\n",
       "      <th>0</th>\n",
       "      <td>18</td>\n",
       "      <td>0</td>\n",
       "      <td>680100</td>\n",
       "      <td>15</td>\n",
       "      <td>45340</td>\n",
       "      <td>1.7</td>\n",
       "      <td>9</td>\n",
       "      <td>10</td>\n",
       "      <td>26.7</td>\n",
       "      <td>100.0</td>\n",
       "      <td>NaN</td>\n",
       "      <td>9.0</td>\n",
       "      <td>6.0</td>\n",
       "      <td>NaN</td>\n",
       "      <td>NaN</td>\n",
       "      <td>6.0</td>\n",
       "      <td>9.0</td>\n",
       "      <td>화장품</td>\n",
       "    </tr>\n",
       "    <tr>\n",
       "      <th>1</th>\n",
       "      <td>21</td>\n",
       "      <td>0</td>\n",
       "      <td>353450</td>\n",
       "      <td>9</td>\n",
       "      <td>39272</td>\n",
       "      <td>1.2</td>\n",
       "      <td>6</td>\n",
       "      <td>8</td>\n",
       "      <td>11.1</td>\n",
       "      <td>37.5</td>\n",
       "      <td>NaN</td>\n",
       "      <td>5.0</td>\n",
       "      <td>4.0</td>\n",
       "      <td>NaN</td>\n",
       "      <td>3.0</td>\n",
       "      <td>NaN</td>\n",
       "      <td>6.0</td>\n",
       "      <td>영캐주얼</td>\n",
       "    </tr>\n",
       "    <tr>\n",
       "      <th>2</th>\n",
       "      <td>23</td>\n",
       "      <td>0</td>\n",
       "      <td>5671400</td>\n",
       "      <td>36</td>\n",
       "      <td>157539</td>\n",
       "      <td>2.8</td>\n",
       "      <td>22</td>\n",
       "      <td>16</td>\n",
       "      <td>5.6</td>\n",
       "      <td>37.5</td>\n",
       "      <td>7.0</td>\n",
       "      <td>17.0</td>\n",
       "      <td>12.0</td>\n",
       "      <td>NaN</td>\n",
       "      <td>10.0</td>\n",
       "      <td>11.0</td>\n",
       "      <td>15.0</td>\n",
       "      <td>장신구</td>\n",
       "    </tr>\n",
       "    <tr>\n",
       "      <th>3</th>\n",
       "      <td>26</td>\n",
       "      <td>0</td>\n",
       "      <td>1964000</td>\n",
       "      <td>28</td>\n",
       "      <td>70143</td>\n",
       "      <td>1.4</td>\n",
       "      <td>15</td>\n",
       "      <td>14</td>\n",
       "      <td>39.3</td>\n",
       "      <td>28.6</td>\n",
       "      <td>5.0</td>\n",
       "      <td>8.0</td>\n",
       "      <td>15.0</td>\n",
       "      <td>NaN</td>\n",
       "      <td>NaN</td>\n",
       "      <td>18.0</td>\n",
       "      <td>10.0</td>\n",
       "      <td>화장품</td>\n",
       "    </tr>\n",
       "    <tr>\n",
       "      <th>4</th>\n",
       "      <td>35</td>\n",
       "      <td>0</td>\n",
       "      <td>885000</td>\n",
       "      <td>5</td>\n",
       "      <td>177000</td>\n",
       "      <td>6.0</td>\n",
       "      <td>5</td>\n",
       "      <td>2</td>\n",
       "      <td>0.0</td>\n",
       "      <td>100.0</td>\n",
       "      <td>NaN</td>\n",
       "      <td>NaN</td>\n",
       "      <td>5.0</td>\n",
       "      <td>NaN</td>\n",
       "      <td>NaN</td>\n",
       "      <td>5.0</td>\n",
       "      <td>NaN</td>\n",
       "      <td>피혁A</td>\n",
       "    </tr>\n",
       "    <tr>\n",
       "      <th>...</th>\n",
       "      <td>...</td>\n",
       "      <td>...</td>\n",
       "      <td>...</td>\n",
       "      <td>...</td>\n",
       "      <td>...</td>\n",
       "      <td>...</td>\n",
       "      <td>...</td>\n",
       "      <td>...</td>\n",
       "      <td>...</td>\n",
       "      <td>...</td>\n",
       "      <td>...</td>\n",
       "      <td>...</td>\n",
       "      <td>...</td>\n",
       "      <td>...</td>\n",
       "      <td>...</td>\n",
       "      <td>...</td>\n",
       "      <td>...</td>\n",
       "      <td>...</td>\n",
       "    </tr>\n",
       "    <tr>\n",
       "      <th>4995</th>\n",
       "      <td>49952</td>\n",
       "      <td>1</td>\n",
       "      <td>6666517</td>\n",
       "      <td>93</td>\n",
       "      <td>71683</td>\n",
       "      <td>1.8</td>\n",
       "      <td>27</td>\n",
       "      <td>39</td>\n",
       "      <td>10.8</td>\n",
       "      <td>43.6</td>\n",
       "      <td>13.0</td>\n",
       "      <td>33.0</td>\n",
       "      <td>14.0</td>\n",
       "      <td>33.0</td>\n",
       "      <td>8.0</td>\n",
       "      <td>41.0</td>\n",
       "      <td>44.0</td>\n",
       "      <td>일반식품</td>\n",
       "    </tr>\n",
       "    <tr>\n",
       "      <th>4996</th>\n",
       "      <td>49954</td>\n",
       "      <td>0</td>\n",
       "      <td>3112100</td>\n",
       "      <td>17</td>\n",
       "      <td>183065</td>\n",
       "      <td>3.6</td>\n",
       "      <td>10</td>\n",
       "      <td>13</td>\n",
       "      <td>29.4</td>\n",
       "      <td>38.5</td>\n",
       "      <td>4.0</td>\n",
       "      <td>6.0</td>\n",
       "      <td>6.0</td>\n",
       "      <td>1.0</td>\n",
       "      <td>3.0</td>\n",
       "      <td>NaN</td>\n",
       "      <td>14.0</td>\n",
       "      <td>디자이너부띠끄</td>\n",
       "    </tr>\n",
       "    <tr>\n",
       "      <th>4997</th>\n",
       "      <td>49957</td>\n",
       "      <td>1</td>\n",
       "      <td>5852482</td>\n",
       "      <td>37</td>\n",
       "      <td>158175</td>\n",
       "      <td>2.6</td>\n",
       "      <td>14</td>\n",
       "      <td>21</td>\n",
       "      <td>40.5</td>\n",
       "      <td>19.0</td>\n",
       "      <td>12.0</td>\n",
       "      <td>6.0</td>\n",
       "      <td>6.0</td>\n",
       "      <td>13.0</td>\n",
       "      <td>16.0</td>\n",
       "      <td>NaN</td>\n",
       "      <td>21.0</td>\n",
       "      <td>화장품</td>\n",
       "    </tr>\n",
       "    <tr>\n",
       "      <th>4998</th>\n",
       "      <td>49975</td>\n",
       "      <td>1</td>\n",
       "      <td>654498</td>\n",
       "      <td>13</td>\n",
       "      <td>50346</td>\n",
       "      <td>2.5</td>\n",
       "      <td>10</td>\n",
       "      <td>7</td>\n",
       "      <td>7.7</td>\n",
       "      <td>14.3</td>\n",
       "      <td>6.0</td>\n",
       "      <td>4.0</td>\n",
       "      <td>2.0</td>\n",
       "      <td>1.0</td>\n",
       "      <td>NaN</td>\n",
       "      <td>2.0</td>\n",
       "      <td>11.0</td>\n",
       "      <td>피혁A</td>\n",
       "    </tr>\n",
       "    <tr>\n",
       "      <th>4999</th>\n",
       "      <td>49993</td>\n",
       "      <td>1</td>\n",
       "      <td>2554723</td>\n",
       "      <td>32</td>\n",
       "      <td>79835</td>\n",
       "      <td>1.7</td>\n",
       "      <td>9</td>\n",
       "      <td>26</td>\n",
       "      <td>21.9</td>\n",
       "      <td>34.6</td>\n",
       "      <td>6.0</td>\n",
       "      <td>5.0</td>\n",
       "      <td>10.0</td>\n",
       "      <td>11.0</td>\n",
       "      <td>8.0</td>\n",
       "      <td>5.0</td>\n",
       "      <td>19.0</td>\n",
       "      <td>일반식품</td>\n",
       "    </tr>\n",
       "  </tbody>\n",
       "</table>\n",
       "<p>5000 rows × 18 columns</p>\n",
       "</div>"
      ],
      "text/plain": [
       "      custid  gender     총구매액  구매건수  평균구매가격  평균할부개월수  구매브랜드종류  내점일수  \\\n",
       "0         18       0   680100    15   45340      1.7        9    10   \n",
       "1         21       0   353450     9   39272      1.2        6     8   \n",
       "2         23       0  5671400    36  157539      2.8       22    16   \n",
       "3         26       0  1964000    28   70143      1.4       15    14   \n",
       "4         35       0   885000     5  177000      6.0        5     2   \n",
       "...      ...     ...      ...   ...     ...      ...      ...   ...   \n",
       "4995   49952       1  6666517    93   71683      1.8       27    39   \n",
       "4996   49954       0  3112100    17  183065      3.6       10    13   \n",
       "4997   49957       1  5852482    37  158175      2.6       14    21   \n",
       "4998   49975       1   654498    13   50346      2.5       10     7   \n",
       "4999   49993       1  2554723    32   79835      1.7        9    26   \n",
       "\n",
       "      수입상품_구매비율  주말방문비율  가을_구매건수  겨울_구매건수  봄_구매건수  여름_구매건수  아침_구매건수  저녁_구매건수  \\\n",
       "0          26.7   100.0      NaN      9.0     6.0      NaN      NaN      6.0   \n",
       "1          11.1    37.5      NaN      5.0     4.0      NaN      3.0      NaN   \n",
       "2           5.6    37.5      7.0     17.0    12.0      NaN     10.0     11.0   \n",
       "3          39.3    28.6      5.0      8.0    15.0      NaN      NaN     18.0   \n",
       "4           0.0   100.0      NaN      NaN     5.0      NaN      NaN      5.0   \n",
       "...         ...     ...      ...      ...     ...      ...      ...      ...   \n",
       "4995       10.8    43.6     13.0     33.0    14.0     33.0      8.0     41.0   \n",
       "4996       29.4    38.5      4.0      6.0     6.0      1.0      3.0      NaN   \n",
       "4997       40.5    19.0     12.0      6.0     6.0     13.0     16.0      NaN   \n",
       "4998        7.7    14.3      6.0      4.0     2.0      1.0      NaN      2.0   \n",
       "4999       21.9    34.6      6.0      5.0    10.0     11.0      8.0      5.0   \n",
       "\n",
       "      점심_구매건수    주구매코너  \n",
       "0         9.0      화장품  \n",
       "1         6.0     영캐주얼  \n",
       "2        15.0      장신구  \n",
       "3        10.0      화장품  \n",
       "4         NaN      피혁A  \n",
       "...       ...      ...  \n",
       "4995     44.0     일반식품  \n",
       "4996     14.0  디자이너부띠끄  \n",
       "4997     21.0      화장품  \n",
       "4998     11.0      피혁A  \n",
       "4999     19.0     일반식품  \n",
       "\n",
       "[5000 rows x 18 columns]"
      ]
     },
     "execution_count": 3,
     "metadata": {},
     "output_type": "execute_result"
    }
   ],
   "source": [
    "departmentstore_train"
   ]
  },
  {
   "cell_type": "code",
   "execution_count": 4,
   "metadata": {},
   "outputs": [],
   "source": [
    "#총 구매액이 마이너스인 행 제거\n",
    "list = []\n",
    "for i, v in enumerate(departmentstore_train[\"총구매액\"]) :\n",
    "    if v < 0 :\n",
    "        list.append(i)\n",
    "departmentstore_train.drop(list,inplace=True)"
   ]
  },
  {
   "cell_type": "code",
   "execution_count": 5,
   "metadata": {},
   "outputs": [
    {
     "data": {
      "text/plain": [
       "custid          0\n",
       "gender          0\n",
       "총구매액            0\n",
       "구매건수            0\n",
       "평균구매가격          0\n",
       "평균할부개월수         0\n",
       "구매브랜드종류         0\n",
       "내점일수            0\n",
       "수입상품_구매비율       0\n",
       "주말방문비율          0\n",
       "가을_구매건수       944\n",
       "겨울_구매건수       896\n",
       "봄_구매건수        688\n",
       "여름_구매건수      1022\n",
       "아침_구매건수      1442\n",
       "저녁_구매건수       967\n",
       "점심_구매건수       145\n",
       "주구매코너           0\n",
       "dtype: int64"
      ]
     },
     "execution_count": 5,
     "metadata": {},
     "output_type": "execute_result"
    }
   ],
   "source": [
    "departmentstore_train.isnull().sum()"
   ]
  },
  {
   "cell_type": "markdown",
   "metadata": {},
   "source": [
    "# Null값 처리"
   ]
  },
  {
   "cell_type": "code",
   "execution_count": 6,
   "metadata": {},
   "outputs": [
    {
     "data": {
      "text/html": [
       "<div>\n",
       "<style scoped>\n",
       "    .dataframe tbody tr th:only-of-type {\n",
       "        vertical-align: middle;\n",
       "    }\n",
       "\n",
       "    .dataframe tbody tr th {\n",
       "        vertical-align: top;\n",
       "    }\n",
       "\n",
       "    .dataframe thead th {\n",
       "        text-align: right;\n",
       "    }\n",
       "</style>\n",
       "<table border=\"1\" class=\"dataframe\">\n",
       "  <thead>\n",
       "    <tr style=\"text-align: right;\">\n",
       "      <th></th>\n",
       "      <th>구매건수</th>\n",
       "      <th>봄_구매건수</th>\n",
       "      <th>여름_구매건수</th>\n",
       "      <th>가을_구매건수</th>\n",
       "      <th>겨울_구매건수</th>\n",
       "      <th>아침_구매건수</th>\n",
       "      <th>점심_구매건수</th>\n",
       "      <th>저녁_구매건수</th>\n",
       "    </tr>\n",
       "  </thead>\n",
       "  <tbody>\n",
       "    <tr>\n",
       "      <th>0</th>\n",
       "      <td>15</td>\n",
       "      <td>6.0</td>\n",
       "      <td>NaN</td>\n",
       "      <td>NaN</td>\n",
       "      <td>9.0</td>\n",
       "      <td>NaN</td>\n",
       "      <td>9.0</td>\n",
       "      <td>6.0</td>\n",
       "    </tr>\n",
       "    <tr>\n",
       "      <th>1</th>\n",
       "      <td>9</td>\n",
       "      <td>4.0</td>\n",
       "      <td>NaN</td>\n",
       "      <td>NaN</td>\n",
       "      <td>5.0</td>\n",
       "      <td>3.0</td>\n",
       "      <td>6.0</td>\n",
       "      <td>NaN</td>\n",
       "    </tr>\n",
       "    <tr>\n",
       "      <th>2</th>\n",
       "      <td>36</td>\n",
       "      <td>12.0</td>\n",
       "      <td>NaN</td>\n",
       "      <td>7.0</td>\n",
       "      <td>17.0</td>\n",
       "      <td>10.0</td>\n",
       "      <td>15.0</td>\n",
       "      <td>11.0</td>\n",
       "    </tr>\n",
       "    <tr>\n",
       "      <th>3</th>\n",
       "      <td>28</td>\n",
       "      <td>15.0</td>\n",
       "      <td>NaN</td>\n",
       "      <td>5.0</td>\n",
       "      <td>8.0</td>\n",
       "      <td>NaN</td>\n",
       "      <td>10.0</td>\n",
       "      <td>18.0</td>\n",
       "    </tr>\n",
       "    <tr>\n",
       "      <th>4</th>\n",
       "      <td>5</td>\n",
       "      <td>5.0</td>\n",
       "      <td>NaN</td>\n",
       "      <td>NaN</td>\n",
       "      <td>NaN</td>\n",
       "      <td>NaN</td>\n",
       "      <td>NaN</td>\n",
       "      <td>5.0</td>\n",
       "    </tr>\n",
       "    <tr>\n",
       "      <th>...</th>\n",
       "      <td>...</td>\n",
       "      <td>...</td>\n",
       "      <td>...</td>\n",
       "      <td>...</td>\n",
       "      <td>...</td>\n",
       "      <td>...</td>\n",
       "      <td>...</td>\n",
       "      <td>...</td>\n",
       "    </tr>\n",
       "    <tr>\n",
       "      <th>4995</th>\n",
       "      <td>93</td>\n",
       "      <td>14.0</td>\n",
       "      <td>33.0</td>\n",
       "      <td>13.0</td>\n",
       "      <td>33.0</td>\n",
       "      <td>8.0</td>\n",
       "      <td>44.0</td>\n",
       "      <td>41.0</td>\n",
       "    </tr>\n",
       "    <tr>\n",
       "      <th>4996</th>\n",
       "      <td>17</td>\n",
       "      <td>6.0</td>\n",
       "      <td>1.0</td>\n",
       "      <td>4.0</td>\n",
       "      <td>6.0</td>\n",
       "      <td>3.0</td>\n",
       "      <td>14.0</td>\n",
       "      <td>NaN</td>\n",
       "    </tr>\n",
       "    <tr>\n",
       "      <th>4997</th>\n",
       "      <td>37</td>\n",
       "      <td>6.0</td>\n",
       "      <td>13.0</td>\n",
       "      <td>12.0</td>\n",
       "      <td>6.0</td>\n",
       "      <td>16.0</td>\n",
       "      <td>21.0</td>\n",
       "      <td>NaN</td>\n",
       "    </tr>\n",
       "    <tr>\n",
       "      <th>4998</th>\n",
       "      <td>13</td>\n",
       "      <td>2.0</td>\n",
       "      <td>1.0</td>\n",
       "      <td>6.0</td>\n",
       "      <td>4.0</td>\n",
       "      <td>NaN</td>\n",
       "      <td>11.0</td>\n",
       "      <td>2.0</td>\n",
       "    </tr>\n",
       "    <tr>\n",
       "      <th>4999</th>\n",
       "      <td>32</td>\n",
       "      <td>10.0</td>\n",
       "      <td>11.0</td>\n",
       "      <td>6.0</td>\n",
       "      <td>5.0</td>\n",
       "      <td>8.0</td>\n",
       "      <td>19.0</td>\n",
       "      <td>5.0</td>\n",
       "    </tr>\n",
       "  </tbody>\n",
       "</table>\n",
       "<p>4997 rows × 8 columns</p>\n",
       "</div>"
      ],
      "text/plain": [
       "      구매건수  봄_구매건수  여름_구매건수  가을_구매건수  겨울_구매건수  아침_구매건수  점심_구매건수  저녁_구매건수\n",
       "0       15     6.0      NaN      NaN      9.0      NaN      9.0      6.0\n",
       "1        9     4.0      NaN      NaN      5.0      3.0      6.0      NaN\n",
       "2       36    12.0      NaN      7.0     17.0     10.0     15.0     11.0\n",
       "3       28    15.0      NaN      5.0      8.0      NaN     10.0     18.0\n",
       "4        5     5.0      NaN      NaN      NaN      NaN      NaN      5.0\n",
       "...    ...     ...      ...      ...      ...      ...      ...      ...\n",
       "4995    93    14.0     33.0     13.0     33.0      8.0     44.0     41.0\n",
       "4996    17     6.0      1.0      4.0      6.0      3.0     14.0      NaN\n",
       "4997    37     6.0     13.0     12.0      6.0     16.0     21.0      NaN\n",
       "4998    13     2.0      1.0      6.0      4.0      NaN     11.0      2.0\n",
       "4999    32    10.0     11.0      6.0      5.0      8.0     19.0      5.0\n",
       "\n",
       "[4997 rows x 8 columns]"
      ]
     },
     "execution_count": 6,
     "metadata": {},
     "output_type": "execute_result"
    }
   ],
   "source": [
    "departmentstore_train[['구매건수','봄_구매건수','여름_구매건수','가을_구매건수',\n",
    "                     '겨울_구매건수','아침_구매건수','점심_구매건수',\n",
    "                     '저녁_구매건수']]"
   ]
  },
  {
   "cell_type": "code",
   "execution_count": 7,
   "metadata": {},
   "outputs": [],
   "source": [
    "#구매건수 Null값 처리 확인\n",
    "weather_buy = departmentstore_train[['봄_구매건수','여름_구매건수','가을_구매건수',\n",
    "                     '겨울_구매건수']]\n",
    "time_buy = departmentstore_train[['아침_구매건수','점심_구매건수',\n",
    "                     '저녁_구매건수']]\n",
    "for i, v in enumerate(departmentstore_train['구매건수']):\n",
    "    if (v!=weather_buy.iloc[i,:].sum()):\n",
    "        print(\"w\",i)\n",
    "    if (v!=time_buy.iloc[i,:].sum()):\n",
    "        print(\"t\",i)"
   ]
  },
  {
   "cell_type": "code",
   "execution_count": 8,
   "metadata": {},
   "outputs": [],
   "source": [
    "#계절별 구매건수의 합과 시간별 구매건수의 합은 각각 총구매건수와 같으므로\n",
    "departmentstore_train.fillna(0,inplace=True)"
   ]
  },
  {
   "cell_type": "code",
   "execution_count": 9,
   "metadata": {},
   "outputs": [
    {
     "data": {
      "text/plain": [
       "custid       0\n",
       "gender       0\n",
       "총구매액         0\n",
       "구매건수         0\n",
       "평균구매가격       0\n",
       "평균할부개월수      0\n",
       "구매브랜드종류      0\n",
       "내점일수         0\n",
       "수입상품_구매비율    0\n",
       "주말방문비율       0\n",
       "가을_구매건수      0\n",
       "겨울_구매건수      0\n",
       "봄_구매건수       0\n",
       "여름_구매건수      0\n",
       "아침_구매건수      0\n",
       "저녁_구매건수      0\n",
       "점심_구매건수      0\n",
       "주구매코너        0\n",
       "dtype: int64"
      ]
     },
     "execution_count": 9,
     "metadata": {},
     "output_type": "execute_result"
    }
   ],
   "source": [
    "departmentstore_train.isnull().sum()\n",
    "# Null 값 처리 완료"
   ]
  },
  {
   "cell_type": "code",
   "execution_count": 10,
   "metadata": {},
   "outputs": [
    {
     "name": "stdout",
     "output_type": "stream",
     "text": [
      "<class 'pandas.core.frame.DataFrame'>\n",
      "Int64Index: 4997 entries, 0 to 4999\n",
      "Data columns (total 18 columns):\n",
      " #   Column     Non-Null Count  Dtype  \n",
      "---  ------     --------------  -----  \n",
      " 0   custid     4997 non-null   int64  \n",
      " 1   gender     4997 non-null   int64  \n",
      " 2   총구매액       4997 non-null   int64  \n",
      " 3   구매건수       4997 non-null   int64  \n",
      " 4   평균구매가격     4997 non-null   int64  \n",
      " 5   평균할부개월수    4997 non-null   float64\n",
      " 6   구매브랜드종류    4997 non-null   int64  \n",
      " 7   내점일수       4997 non-null   int64  \n",
      " 8   수입상품_구매비율  4997 non-null   float64\n",
      " 9   주말방문비율     4997 non-null   float64\n",
      " 10  가을_구매건수    4997 non-null   float64\n",
      " 11  겨울_구매건수    4997 non-null   float64\n",
      " 12  봄_구매건수     4997 non-null   float64\n",
      " 13  여름_구매건수    4997 non-null   float64\n",
      " 14  아침_구매건수    4997 non-null   float64\n",
      " 15  저녁_구매건수    4997 non-null   float64\n",
      " 16  점심_구매건수    4997 non-null   float64\n",
      " 17  주구매코너      4997 non-null   object \n",
      "dtypes: float64(10), int64(7), object(1)\n",
      "memory usage: 741.7+ KB\n"
     ]
    }
   ],
   "source": [
    "departmentstore_train.info()"
   ]
  },
  {
   "cell_type": "markdown",
   "metadata": {},
   "source": [
    "# 파생변수 만들기"
   ]
  },
  {
   "cell_type": "code",
   "execution_count": 11,
   "metadata": {},
   "outputs": [
    {
     "data": {
      "text/html": [
       "<div>\n",
       "<style scoped>\n",
       "    .dataframe tbody tr th:only-of-type {\n",
       "        vertical-align: middle;\n",
       "    }\n",
       "\n",
       "    .dataframe tbody tr th {\n",
       "        vertical-align: top;\n",
       "    }\n",
       "\n",
       "    .dataframe thead th {\n",
       "        text-align: right;\n",
       "    }\n",
       "</style>\n",
       "<table border=\"1\" class=\"dataframe\">\n",
       "  <thead>\n",
       "    <tr style=\"text-align: right;\">\n",
       "      <th></th>\n",
       "      <th>가구</th>\n",
       "      <th>가전</th>\n",
       "      <th>기타바이어</th>\n",
       "      <th>니트단품</th>\n",
       "      <th>도자기크리스탈</th>\n",
       "      <th>디자이너부띠끄</th>\n",
       "      <th>문화완구</th>\n",
       "      <th>섬유</th>\n",
       "      <th>수입명품</th>\n",
       "      <th>스포츠</th>\n",
       "      <th>...</th>\n",
       "      <th>장신구</th>\n",
       "      <th>정장셔츠</th>\n",
       "      <th>조리욕실</th>\n",
       "      <th>침구수예</th>\n",
       "      <th>캐릭터캐주얼</th>\n",
       "      <th>타운모피</th>\n",
       "      <th>트래디셔널캐주얼</th>\n",
       "      <th>피혁A</th>\n",
       "      <th>피혁B</th>\n",
       "      <th>화장품</th>\n",
       "    </tr>\n",
       "  </thead>\n",
       "  <tbody>\n",
       "    <tr>\n",
       "      <th>0</th>\n",
       "      <td>0</td>\n",
       "      <td>0</td>\n",
       "      <td>0</td>\n",
       "      <td>0</td>\n",
       "      <td>0</td>\n",
       "      <td>0</td>\n",
       "      <td>0</td>\n",
       "      <td>0</td>\n",
       "      <td>0</td>\n",
       "      <td>0</td>\n",
       "      <td>...</td>\n",
       "      <td>0</td>\n",
       "      <td>0</td>\n",
       "      <td>0</td>\n",
       "      <td>0</td>\n",
       "      <td>0</td>\n",
       "      <td>0</td>\n",
       "      <td>0</td>\n",
       "      <td>0</td>\n",
       "      <td>0</td>\n",
       "      <td>1</td>\n",
       "    </tr>\n",
       "    <tr>\n",
       "      <th>1</th>\n",
       "      <td>0</td>\n",
       "      <td>0</td>\n",
       "      <td>0</td>\n",
       "      <td>0</td>\n",
       "      <td>0</td>\n",
       "      <td>0</td>\n",
       "      <td>0</td>\n",
       "      <td>0</td>\n",
       "      <td>0</td>\n",
       "      <td>0</td>\n",
       "      <td>...</td>\n",
       "      <td>0</td>\n",
       "      <td>0</td>\n",
       "      <td>0</td>\n",
       "      <td>0</td>\n",
       "      <td>0</td>\n",
       "      <td>0</td>\n",
       "      <td>0</td>\n",
       "      <td>0</td>\n",
       "      <td>0</td>\n",
       "      <td>0</td>\n",
       "    </tr>\n",
       "    <tr>\n",
       "      <th>2</th>\n",
       "      <td>0</td>\n",
       "      <td>0</td>\n",
       "      <td>0</td>\n",
       "      <td>0</td>\n",
       "      <td>0</td>\n",
       "      <td>0</td>\n",
       "      <td>0</td>\n",
       "      <td>0</td>\n",
       "      <td>0</td>\n",
       "      <td>0</td>\n",
       "      <td>...</td>\n",
       "      <td>1</td>\n",
       "      <td>0</td>\n",
       "      <td>0</td>\n",
       "      <td>0</td>\n",
       "      <td>0</td>\n",
       "      <td>0</td>\n",
       "      <td>0</td>\n",
       "      <td>0</td>\n",
       "      <td>0</td>\n",
       "      <td>0</td>\n",
       "    </tr>\n",
       "    <tr>\n",
       "      <th>3</th>\n",
       "      <td>0</td>\n",
       "      <td>0</td>\n",
       "      <td>0</td>\n",
       "      <td>0</td>\n",
       "      <td>0</td>\n",
       "      <td>0</td>\n",
       "      <td>0</td>\n",
       "      <td>0</td>\n",
       "      <td>0</td>\n",
       "      <td>0</td>\n",
       "      <td>...</td>\n",
       "      <td>0</td>\n",
       "      <td>0</td>\n",
       "      <td>0</td>\n",
       "      <td>0</td>\n",
       "      <td>0</td>\n",
       "      <td>0</td>\n",
       "      <td>0</td>\n",
       "      <td>0</td>\n",
       "      <td>0</td>\n",
       "      <td>1</td>\n",
       "    </tr>\n",
       "    <tr>\n",
       "      <th>4</th>\n",
       "      <td>0</td>\n",
       "      <td>0</td>\n",
       "      <td>0</td>\n",
       "      <td>0</td>\n",
       "      <td>0</td>\n",
       "      <td>0</td>\n",
       "      <td>0</td>\n",
       "      <td>0</td>\n",
       "      <td>0</td>\n",
       "      <td>0</td>\n",
       "      <td>...</td>\n",
       "      <td>0</td>\n",
       "      <td>0</td>\n",
       "      <td>0</td>\n",
       "      <td>0</td>\n",
       "      <td>0</td>\n",
       "      <td>0</td>\n",
       "      <td>0</td>\n",
       "      <td>1</td>\n",
       "      <td>0</td>\n",
       "      <td>0</td>\n",
       "    </tr>\n",
       "  </tbody>\n",
       "</table>\n",
       "<p>5 rows × 25 columns</p>\n",
       "</div>"
      ],
      "text/plain": [
       "   가구  가전  기타바이어  니트단품  도자기크리스탈  디자이너부띠끄  문화완구  섬유  수입명품  스포츠  ...  장신구  정장셔츠  \\\n",
       "0   0   0      0     0        0        0     0   0     0    0  ...    0     0   \n",
       "1   0   0      0     0        0        0     0   0     0    0  ...    0     0   \n",
       "2   0   0      0     0        0        0     0   0     0    0  ...    1     0   \n",
       "3   0   0      0     0        0        0     0   0     0    0  ...    0     0   \n",
       "4   0   0      0     0        0        0     0   0     0    0  ...    0     0   \n",
       "\n",
       "   조리욕실  침구수예  캐릭터캐주얼  타운모피  트래디셔널캐주얼  피혁A  피혁B  화장품  \n",
       "0     0     0       0     0         0    0    0    1  \n",
       "1     0     0       0     0         0    0    0    0  \n",
       "2     0     0       0     0         0    0    0    0  \n",
       "3     0     0       0     0         0    0    0    1  \n",
       "4     0     0       0     0         0    1    0    0  \n",
       "\n",
       "[5 rows x 25 columns]"
      ]
     },
     "execution_count": 11,
     "metadata": {},
     "output_type": "execute_result"
    }
   ],
   "source": [
    "coner=pd.get_dummies(departmentstore_train['주구매코너'])\n",
    "coner.head()"
   ]
  },
  {
   "cell_type": "code",
   "execution_count": 12,
   "metadata": {},
   "outputs": [],
   "source": [
    "departmentstore_train = pd.concat([departmentstore_train,coner], axis=1)"
   ]
  },
  {
   "cell_type": "code",
   "execution_count": 13,
   "metadata": {},
   "outputs": [],
   "source": [
    "departmentstore_train.drop('주구매코너',axis=1,inplace=True)"
   ]
  },
  {
   "cell_type": "code",
   "execution_count": 14,
   "metadata": {},
   "outputs": [
    {
     "data": {
      "text/html": [
       "<div>\n",
       "<style scoped>\n",
       "    .dataframe tbody tr th:only-of-type {\n",
       "        vertical-align: middle;\n",
       "    }\n",
       "\n",
       "    .dataframe tbody tr th {\n",
       "        vertical-align: top;\n",
       "    }\n",
       "\n",
       "    .dataframe thead th {\n",
       "        text-align: right;\n",
       "    }\n",
       "</style>\n",
       "<table border=\"1\" class=\"dataframe\">\n",
       "  <thead>\n",
       "    <tr style=\"text-align: right;\">\n",
       "      <th></th>\n",
       "      <th>1</th>\n",
       "      <th>2</th>\n",
       "      <th>3</th>\n",
       "      <th>4</th>\n",
       "      <th>5</th>\n",
       "      <th>6</th>\n",
       "      <th>7</th>\n",
       "      <th>8</th>\n",
       "      <th>9</th>\n",
       "      <th>10</th>\n",
       "      <th>...</th>\n",
       "      <th>93</th>\n",
       "      <th>94</th>\n",
       "      <th>95</th>\n",
       "      <th>99</th>\n",
       "      <th>100</th>\n",
       "      <th>102</th>\n",
       "      <th>104</th>\n",
       "      <th>109</th>\n",
       "      <th>112</th>\n",
       "      <th>134</th>\n",
       "    </tr>\n",
       "  </thead>\n",
       "  <tbody>\n",
       "    <tr>\n",
       "      <th>0</th>\n",
       "      <td>0</td>\n",
       "      <td>0</td>\n",
       "      <td>0</td>\n",
       "      <td>0</td>\n",
       "      <td>0</td>\n",
       "      <td>0</td>\n",
       "      <td>0</td>\n",
       "      <td>0</td>\n",
       "      <td>1</td>\n",
       "      <td>0</td>\n",
       "      <td>...</td>\n",
       "      <td>0</td>\n",
       "      <td>0</td>\n",
       "      <td>0</td>\n",
       "      <td>0</td>\n",
       "      <td>0</td>\n",
       "      <td>0</td>\n",
       "      <td>0</td>\n",
       "      <td>0</td>\n",
       "      <td>0</td>\n",
       "      <td>0</td>\n",
       "    </tr>\n",
       "    <tr>\n",
       "      <th>1</th>\n",
       "      <td>0</td>\n",
       "      <td>0</td>\n",
       "      <td>0</td>\n",
       "      <td>0</td>\n",
       "      <td>0</td>\n",
       "      <td>1</td>\n",
       "      <td>0</td>\n",
       "      <td>0</td>\n",
       "      <td>0</td>\n",
       "      <td>0</td>\n",
       "      <td>...</td>\n",
       "      <td>0</td>\n",
       "      <td>0</td>\n",
       "      <td>0</td>\n",
       "      <td>0</td>\n",
       "      <td>0</td>\n",
       "      <td>0</td>\n",
       "      <td>0</td>\n",
       "      <td>0</td>\n",
       "      <td>0</td>\n",
       "      <td>0</td>\n",
       "    </tr>\n",
       "    <tr>\n",
       "      <th>2</th>\n",
       "      <td>0</td>\n",
       "      <td>0</td>\n",
       "      <td>0</td>\n",
       "      <td>0</td>\n",
       "      <td>0</td>\n",
       "      <td>0</td>\n",
       "      <td>0</td>\n",
       "      <td>0</td>\n",
       "      <td>0</td>\n",
       "      <td>0</td>\n",
       "      <td>...</td>\n",
       "      <td>0</td>\n",
       "      <td>0</td>\n",
       "      <td>0</td>\n",
       "      <td>0</td>\n",
       "      <td>0</td>\n",
       "      <td>0</td>\n",
       "      <td>0</td>\n",
       "      <td>0</td>\n",
       "      <td>0</td>\n",
       "      <td>0</td>\n",
       "    </tr>\n",
       "    <tr>\n",
       "      <th>3</th>\n",
       "      <td>0</td>\n",
       "      <td>0</td>\n",
       "      <td>0</td>\n",
       "      <td>0</td>\n",
       "      <td>0</td>\n",
       "      <td>0</td>\n",
       "      <td>0</td>\n",
       "      <td>0</td>\n",
       "      <td>0</td>\n",
       "      <td>0</td>\n",
       "      <td>...</td>\n",
       "      <td>0</td>\n",
       "      <td>0</td>\n",
       "      <td>0</td>\n",
       "      <td>0</td>\n",
       "      <td>0</td>\n",
       "      <td>0</td>\n",
       "      <td>0</td>\n",
       "      <td>0</td>\n",
       "      <td>0</td>\n",
       "      <td>0</td>\n",
       "    </tr>\n",
       "    <tr>\n",
       "      <th>4</th>\n",
       "      <td>0</td>\n",
       "      <td>0</td>\n",
       "      <td>0</td>\n",
       "      <td>0</td>\n",
       "      <td>1</td>\n",
       "      <td>0</td>\n",
       "      <td>0</td>\n",
       "      <td>0</td>\n",
       "      <td>0</td>\n",
       "      <td>0</td>\n",
       "      <td>...</td>\n",
       "      <td>0</td>\n",
       "      <td>0</td>\n",
       "      <td>0</td>\n",
       "      <td>0</td>\n",
       "      <td>0</td>\n",
       "      <td>0</td>\n",
       "      <td>0</td>\n",
       "      <td>0</td>\n",
       "      <td>0</td>\n",
       "      <td>0</td>\n",
       "    </tr>\n",
       "  </tbody>\n",
       "</table>\n",
       "<p>5 rows × 93 columns</p>\n",
       "</div>"
      ],
      "text/plain": [
       "   1    2    3    4    5    6    7    8    9    10   ...  93   94   95   99   \\\n",
       "0    0    0    0    0    0    0    0    0    1    0  ...    0    0    0    0   \n",
       "1    0    0    0    0    0    1    0    0    0    0  ...    0    0    0    0   \n",
       "2    0    0    0    0    0    0    0    0    0    0  ...    0    0    0    0   \n",
       "3    0    0    0    0    0    0    0    0    0    0  ...    0    0    0    0   \n",
       "4    0    0    0    0    1    0    0    0    0    0  ...    0    0    0    0   \n",
       "\n",
       "   100  102  104  109  112  134  \n",
       "0    0    0    0    0    0    0  \n",
       "1    0    0    0    0    0    0  \n",
       "2    0    0    0    0    0    0  \n",
       "3    0    0    0    0    0    0  \n",
       "4    0    0    0    0    0    0  \n",
       "\n",
       "[5 rows x 93 columns]"
      ]
     },
     "execution_count": 14,
     "metadata": {},
     "output_type": "execute_result"
    }
   ],
   "source": [
    "brand = pd.get_dummies(departmentstore_train['구매브랜드종류'])\n",
    "brand.head()"
   ]
  },
  {
   "cell_type": "code",
   "execution_count": 15,
   "metadata": {},
   "outputs": [],
   "source": [
    "departmentstore_train = pd.concat([departmentstore_train,brand], axis=1)"
   ]
  },
  {
   "cell_type": "code",
   "execution_count": 16,
   "metadata": {},
   "outputs": [],
   "source": [
    "departmentstore_train.drop('구매브랜드종류', axis=1, inplace=True)"
   ]
  },
  {
   "cell_type": "code",
   "execution_count": 17,
   "metadata": {},
   "outputs": [
    {
     "name": "stdout",
     "output_type": "stream",
     "text": [
      "<class 'pandas.core.frame.DataFrame'>\n",
      "Int64Index: 4997 entries, 0 to 4999\n",
      "Columns: 134 entries, custid to 134\n",
      "dtypes: float64(10), int64(6), uint8(118)\n",
      "memory usage: 1.2 MB\n"
     ]
    }
   ],
   "source": [
    "departmentstore_train.info()"
   ]
  },
  {
   "cell_type": "code",
   "execution_count": 18,
   "metadata": {},
   "outputs": [],
   "source": [
    "# 코너별 파생변수\n",
    "dst = departmentstore_train"
   ]
  },
  {
   "cell_type": "code",
   "execution_count": 19,
   "metadata": {},
   "outputs": [
    {
     "data": {
      "text/html": [
       "<div>\n",
       "<style scoped>\n",
       "    .dataframe tbody tr th:only-of-type {\n",
       "        vertical-align: middle;\n",
       "    }\n",
       "\n",
       "    .dataframe tbody tr th {\n",
       "        vertical-align: top;\n",
       "    }\n",
       "\n",
       "    .dataframe thead th {\n",
       "        text-align: right;\n",
       "    }\n",
       "</style>\n",
       "<table border=\"1\" class=\"dataframe\">\n",
       "  <thead>\n",
       "    <tr style=\"text-align: right;\">\n",
       "      <th></th>\n",
       "      <th>custid</th>\n",
       "      <th>gender</th>\n",
       "      <th>총구매액</th>\n",
       "      <th>구매건수</th>\n",
       "      <th>평균구매가격</th>\n",
       "      <th>평균할부개월수</th>\n",
       "      <th>내점일수</th>\n",
       "      <th>수입상품_구매비율</th>\n",
       "      <th>주말방문비율</th>\n",
       "      <th>가을_구매건수</th>\n",
       "      <th>...</th>\n",
       "      <th>여름구매건수비율</th>\n",
       "      <th>가을구매건수비율</th>\n",
       "      <th>겨울구매건수비율</th>\n",
       "      <th>아침매출비중</th>\n",
       "      <th>점심매출비중</th>\n",
       "      <th>저녁매출비중</th>\n",
       "      <th>봄매출비중</th>\n",
       "      <th>여름매출비중</th>\n",
       "      <th>가을매출비중</th>\n",
       "      <th>겨울매출비중</th>\n",
       "    </tr>\n",
       "  </thead>\n",
       "  <tbody>\n",
       "    <tr>\n",
       "      <th>0</th>\n",
       "      <td>18</td>\n",
       "      <td>0</td>\n",
       "      <td>680100</td>\n",
       "      <td>15</td>\n",
       "      <td>45340</td>\n",
       "      <td>1.7</td>\n",
       "      <td>10</td>\n",
       "      <td>26.7</td>\n",
       "      <td>100.0</td>\n",
       "      <td>0.0</td>\n",
       "      <td>...</td>\n",
       "      <td>0.00</td>\n",
       "      <td>0.00</td>\n",
       "      <td>60.00</td>\n",
       "      <td>0.00</td>\n",
       "      <td>60.00</td>\n",
       "      <td>40.00</td>\n",
       "      <td>40.00</td>\n",
       "      <td>0.00</td>\n",
       "      <td>0.00</td>\n",
       "      <td>60.00</td>\n",
       "    </tr>\n",
       "    <tr>\n",
       "      <th>1</th>\n",
       "      <td>21</td>\n",
       "      <td>0</td>\n",
       "      <td>353450</td>\n",
       "      <td>9</td>\n",
       "      <td>39272</td>\n",
       "      <td>1.2</td>\n",
       "      <td>8</td>\n",
       "      <td>11.1</td>\n",
       "      <td>37.5</td>\n",
       "      <td>0.0</td>\n",
       "      <td>...</td>\n",
       "      <td>0.00</td>\n",
       "      <td>0.00</td>\n",
       "      <td>55.56</td>\n",
       "      <td>33.33</td>\n",
       "      <td>66.67</td>\n",
       "      <td>0.00</td>\n",
       "      <td>44.44</td>\n",
       "      <td>0.00</td>\n",
       "      <td>0.00</td>\n",
       "      <td>55.56</td>\n",
       "    </tr>\n",
       "    <tr>\n",
       "      <th>2</th>\n",
       "      <td>23</td>\n",
       "      <td>0</td>\n",
       "      <td>5671400</td>\n",
       "      <td>36</td>\n",
       "      <td>157539</td>\n",
       "      <td>2.8</td>\n",
       "      <td>16</td>\n",
       "      <td>5.6</td>\n",
       "      <td>37.5</td>\n",
       "      <td>7.0</td>\n",
       "      <td>...</td>\n",
       "      <td>0.00</td>\n",
       "      <td>19.44</td>\n",
       "      <td>47.22</td>\n",
       "      <td>27.78</td>\n",
       "      <td>41.67</td>\n",
       "      <td>30.56</td>\n",
       "      <td>33.33</td>\n",
       "      <td>0.00</td>\n",
       "      <td>19.44</td>\n",
       "      <td>47.22</td>\n",
       "    </tr>\n",
       "    <tr>\n",
       "      <th>3</th>\n",
       "      <td>26</td>\n",
       "      <td>0</td>\n",
       "      <td>1964000</td>\n",
       "      <td>28</td>\n",
       "      <td>70143</td>\n",
       "      <td>1.4</td>\n",
       "      <td>14</td>\n",
       "      <td>39.3</td>\n",
       "      <td>28.6</td>\n",
       "      <td>5.0</td>\n",
       "      <td>...</td>\n",
       "      <td>0.00</td>\n",
       "      <td>17.86</td>\n",
       "      <td>28.57</td>\n",
       "      <td>0.00</td>\n",
       "      <td>35.71</td>\n",
       "      <td>64.29</td>\n",
       "      <td>53.57</td>\n",
       "      <td>0.00</td>\n",
       "      <td>17.86</td>\n",
       "      <td>28.57</td>\n",
       "    </tr>\n",
       "    <tr>\n",
       "      <th>4</th>\n",
       "      <td>35</td>\n",
       "      <td>0</td>\n",
       "      <td>885000</td>\n",
       "      <td>5</td>\n",
       "      <td>177000</td>\n",
       "      <td>6.0</td>\n",
       "      <td>2</td>\n",
       "      <td>0.0</td>\n",
       "      <td>100.0</td>\n",
       "      <td>0.0</td>\n",
       "      <td>...</td>\n",
       "      <td>0.00</td>\n",
       "      <td>0.00</td>\n",
       "      <td>0.00</td>\n",
       "      <td>0.00</td>\n",
       "      <td>0.00</td>\n",
       "      <td>100.00</td>\n",
       "      <td>100.00</td>\n",
       "      <td>0.00</td>\n",
       "      <td>0.00</td>\n",
       "      <td>0.00</td>\n",
       "    </tr>\n",
       "    <tr>\n",
       "      <th>...</th>\n",
       "      <td>...</td>\n",
       "      <td>...</td>\n",
       "      <td>...</td>\n",
       "      <td>...</td>\n",
       "      <td>...</td>\n",
       "      <td>...</td>\n",
       "      <td>...</td>\n",
       "      <td>...</td>\n",
       "      <td>...</td>\n",
       "      <td>...</td>\n",
       "      <td>...</td>\n",
       "      <td>...</td>\n",
       "      <td>...</td>\n",
       "      <td>...</td>\n",
       "      <td>...</td>\n",
       "      <td>...</td>\n",
       "      <td>...</td>\n",
       "      <td>...</td>\n",
       "      <td>...</td>\n",
       "      <td>...</td>\n",
       "      <td>...</td>\n",
       "    </tr>\n",
       "    <tr>\n",
       "      <th>4995</th>\n",
       "      <td>49952</td>\n",
       "      <td>1</td>\n",
       "      <td>6666517</td>\n",
       "      <td>93</td>\n",
       "      <td>71683</td>\n",
       "      <td>1.8</td>\n",
       "      <td>39</td>\n",
       "      <td>10.8</td>\n",
       "      <td>43.6</td>\n",
       "      <td>13.0</td>\n",
       "      <td>...</td>\n",
       "      <td>35.48</td>\n",
       "      <td>13.98</td>\n",
       "      <td>35.48</td>\n",
       "      <td>8.60</td>\n",
       "      <td>47.31</td>\n",
       "      <td>44.09</td>\n",
       "      <td>15.05</td>\n",
       "      <td>35.48</td>\n",
       "      <td>13.98</td>\n",
       "      <td>35.48</td>\n",
       "    </tr>\n",
       "    <tr>\n",
       "      <th>4996</th>\n",
       "      <td>49954</td>\n",
       "      <td>0</td>\n",
       "      <td>3112100</td>\n",
       "      <td>17</td>\n",
       "      <td>183065</td>\n",
       "      <td>3.6</td>\n",
       "      <td>13</td>\n",
       "      <td>29.4</td>\n",
       "      <td>38.5</td>\n",
       "      <td>4.0</td>\n",
       "      <td>...</td>\n",
       "      <td>5.88</td>\n",
       "      <td>23.53</td>\n",
       "      <td>35.29</td>\n",
       "      <td>17.65</td>\n",
       "      <td>82.35</td>\n",
       "      <td>0.00</td>\n",
       "      <td>35.29</td>\n",
       "      <td>5.88</td>\n",
       "      <td>23.53</td>\n",
       "      <td>35.29</td>\n",
       "    </tr>\n",
       "    <tr>\n",
       "      <th>4997</th>\n",
       "      <td>49957</td>\n",
       "      <td>1</td>\n",
       "      <td>5852482</td>\n",
       "      <td>37</td>\n",
       "      <td>158175</td>\n",
       "      <td>2.6</td>\n",
       "      <td>21</td>\n",
       "      <td>40.5</td>\n",
       "      <td>19.0</td>\n",
       "      <td>12.0</td>\n",
       "      <td>...</td>\n",
       "      <td>35.14</td>\n",
       "      <td>32.43</td>\n",
       "      <td>16.22</td>\n",
       "      <td>43.24</td>\n",
       "      <td>56.76</td>\n",
       "      <td>0.00</td>\n",
       "      <td>16.22</td>\n",
       "      <td>35.14</td>\n",
       "      <td>32.43</td>\n",
       "      <td>16.22</td>\n",
       "    </tr>\n",
       "    <tr>\n",
       "      <th>4998</th>\n",
       "      <td>49975</td>\n",
       "      <td>1</td>\n",
       "      <td>654498</td>\n",
       "      <td>13</td>\n",
       "      <td>50346</td>\n",
       "      <td>2.5</td>\n",
       "      <td>7</td>\n",
       "      <td>7.7</td>\n",
       "      <td>14.3</td>\n",
       "      <td>6.0</td>\n",
       "      <td>...</td>\n",
       "      <td>7.69</td>\n",
       "      <td>46.15</td>\n",
       "      <td>30.77</td>\n",
       "      <td>0.00</td>\n",
       "      <td>84.62</td>\n",
       "      <td>15.38</td>\n",
       "      <td>15.38</td>\n",
       "      <td>7.69</td>\n",
       "      <td>46.15</td>\n",
       "      <td>30.77</td>\n",
       "    </tr>\n",
       "    <tr>\n",
       "      <th>4999</th>\n",
       "      <td>49993</td>\n",
       "      <td>1</td>\n",
       "      <td>2554723</td>\n",
       "      <td>32</td>\n",
       "      <td>79835</td>\n",
       "      <td>1.7</td>\n",
       "      <td>26</td>\n",
       "      <td>21.9</td>\n",
       "      <td>34.6</td>\n",
       "      <td>6.0</td>\n",
       "      <td>...</td>\n",
       "      <td>34.38</td>\n",
       "      <td>18.75</td>\n",
       "      <td>15.62</td>\n",
       "      <td>25.00</td>\n",
       "      <td>59.37</td>\n",
       "      <td>15.63</td>\n",
       "      <td>31.25</td>\n",
       "      <td>34.37</td>\n",
       "      <td>18.75</td>\n",
       "      <td>15.63</td>\n",
       "    </tr>\n",
       "  </tbody>\n",
       "</table>\n",
       "<p>4997 rows × 156 columns</p>\n",
       "</div>"
      ],
      "text/plain": [
       "      custid  gender     총구매액  구매건수  평균구매가격  평균할부개월수  내점일수  수입상품_구매비율  주말방문비율  \\\n",
       "0         18       0   680100    15   45340      1.7    10       26.7   100.0   \n",
       "1         21       0   353450     9   39272      1.2     8       11.1    37.5   \n",
       "2         23       0  5671400    36  157539      2.8    16        5.6    37.5   \n",
       "3         26       0  1964000    28   70143      1.4    14       39.3    28.6   \n",
       "4         35       0   885000     5  177000      6.0     2        0.0   100.0   \n",
       "...      ...     ...      ...   ...     ...      ...   ...        ...     ...   \n",
       "4995   49952       1  6666517    93   71683      1.8    39       10.8    43.6   \n",
       "4996   49954       0  3112100    17  183065      3.6    13       29.4    38.5   \n",
       "4997   49957       1  5852482    37  158175      2.6    21       40.5    19.0   \n",
       "4998   49975       1   654498    13   50346      2.5     7        7.7    14.3   \n",
       "4999   49993       1  2554723    32   79835      1.7    26       21.9    34.6   \n",
       "\n",
       "      가을_구매건수  ...  여름구매건수비율  가을구매건수비율  겨울구매건수비율  아침매출비중  점심매출비중  저녁매출비중  \\\n",
       "0         0.0  ...      0.00      0.00     60.00    0.00   60.00   40.00   \n",
       "1         0.0  ...      0.00      0.00     55.56   33.33   66.67    0.00   \n",
       "2         7.0  ...      0.00     19.44     47.22   27.78   41.67   30.56   \n",
       "3         5.0  ...      0.00     17.86     28.57    0.00   35.71   64.29   \n",
       "4         0.0  ...      0.00      0.00      0.00    0.00    0.00  100.00   \n",
       "...       ...  ...       ...       ...       ...     ...     ...     ...   \n",
       "4995     13.0  ...     35.48     13.98     35.48    8.60   47.31   44.09   \n",
       "4996      4.0  ...      5.88     23.53     35.29   17.65   82.35    0.00   \n",
       "4997     12.0  ...     35.14     32.43     16.22   43.24   56.76    0.00   \n",
       "4998      6.0  ...      7.69     46.15     30.77    0.00   84.62   15.38   \n",
       "4999      6.0  ...     34.38     18.75     15.62   25.00   59.37   15.63   \n",
       "\n",
       "       봄매출비중  여름매출비중  가을매출비중  겨울매출비중  \n",
       "0      40.00    0.00    0.00   60.00  \n",
       "1      44.44    0.00    0.00   55.56  \n",
       "2      33.33    0.00   19.44   47.22  \n",
       "3      53.57    0.00   17.86   28.57  \n",
       "4     100.00    0.00    0.00    0.00  \n",
       "...      ...     ...     ...     ...  \n",
       "4995   15.05   35.48   13.98   35.48  \n",
       "4996   35.29    5.88   23.53   35.29  \n",
       "4997   16.22   35.14   32.43   16.22  \n",
       "4998   15.38    7.69   46.15   30.77  \n",
       "4999   31.25   34.37   18.75   15.63  \n",
       "\n",
       "[4997 rows x 156 columns]"
      ]
     },
     "execution_count": 19,
     "metadata": {},
     "output_type": "execute_result"
    }
   ],
   "source": [
    "def createFeatures(x):\n",
    "    x['아침구매액'] = np.round(x['총구매액']*(x['아침_구매건수'] /x['구매건수'] ), 2)\n",
    "    x['점심구매액'] = np.round(x['총구매액']*(x['점심_구매건수'] /x['구매건수'] ), 2)\n",
    "    x['저녁구매액'] = np.round(x['총구매액']*(x['저녁_구매건수'] /x['구매건수'] ), 2)  \n",
    "    x['봄구매액']   = np.round(x['총구매액']*(x['봄_구매건수'] /x['구매건수'] ), 2) \n",
    "    x['여름구매액'] = np.round(x['총구매액']*(x['여름_구매건수'] /x['구매건수'] ), 2) \n",
    "    x['가을구매액'] = np.round(x['총구매액']*(x['가을_구매건수'] /x['구매건수'] ), 2)\n",
    "    x['겨울구매액'] = np.round(x['총구매액']*(x['겨울_구매건수'] /x['구매건수'] ), 2)\n",
    "    x['내점구매율'] = np.round(x['구매건수'] /x['내점일수'], 2)\n",
    "    x['아침구매건수비율'] = np.round(x['아침_구매건수'] /x['구매건수']*100 , 2)\n",
    "    x['점심구매건수비율'] = np.round(x['점심_구매건수'] /x['구매건수']*100 , 2)\n",
    "    x['저녁구매건수비율'] = np.round(x['저녁_구매건수'] /x['구매건수']*100 , 2)  \n",
    "    x['봄구매건수비율']   = np.round(x['봄_구매건수'] /x['구매건수']*100 , 2) \n",
    "    x['여름구매건수비율'] = np.round(x['여름_구매건수'] /x['구매건수']*100 , 2) \n",
    "    x['가을구매건수비율'] = np.round(x['가을_구매건수'] /x['구매건수']*100 , 2)  \n",
    "    x['겨울구매건수비율'] = np.round(x['겨울_구매건수'] /x['구매건수']*100 , 2)\n",
    "    x['아침매출비중'] = np.round(x['아침구매액'] /x['총구매액']*100 , 2)\n",
    "    x['점심매출비중'] = np.round(x['점심구매액'] /x['총구매액']*100 , 2)\n",
    "    x['저녁매출비중'] = np.round(x['저녁구매액'] /x['총구매액']*100 , 2)\n",
    "    x['봄매출비중'] = np.round(x['봄구매액'] /x['총구매액']*100 , 2)\n",
    "    x['여름매출비중'] = np.round(x['여름구매액'] /x['총구매액']*100 , 2)\n",
    "    x['가을매출비중'] = np.round(x['가을구매액'] /x['총구매액']*100 , 2)\n",
    "    x['겨울매출비중'] = np.round(x['겨울구매액'] /x['총구매액']*100 , 2)\n",
    "    \n",
    "createFeatures(dst)\n",
    "dst\n"
   ]
  },
  {
   "cell_type": "code",
   "execution_count": 20,
   "metadata": {},
   "outputs": [
    {
     "data": {
      "text/plain": [
       "4343     0.0\n",
       "3221     0.0\n",
       "4906     0.0\n",
       "1155     0.0\n",
       "1723     0.0\n",
       "        ... \n",
       "4976    60.0\n",
       "4164    65.0\n",
       "3342    69.0\n",
       "4703    85.0\n",
       "2577    93.0\n",
       "Name: 총구매액-백만단위, Length: 4997, dtype: float64"
      ]
     },
     "execution_count": 20,
     "metadata": {},
     "output_type": "execute_result"
    }
   ],
   "source": [
    "departmentstore_train=departmentstore_train.sort_values(by=\"총구매액\")\n",
    "Total=round(departmentstore_train[\"총구매액\"]/1000000,0)\n",
    "Total.rename(\"총구매액-백만단위\",inplace=True)"
   ]
  },
  {
   "cell_type": "code",
   "execution_count": 21,
   "metadata": {},
   "outputs": [
    {
     "data": {
      "text/plain": [
       "count    4997.000000\n",
       "mean        3.349610\n",
       "std         5.107378\n",
       "min         0.000000\n",
       "25%         1.000000\n",
       "50%         2.000000\n",
       "75%         4.000000\n",
       "max        93.000000\n",
       "Name: 총구매액-백만단위, dtype: float64"
      ]
     },
     "execution_count": 21,
     "metadata": {},
     "output_type": "execute_result"
    }
   ],
   "source": [
    "Total.describe().T"
   ]
  },
  {
   "cell_type": "code",
   "execution_count": 22,
   "metadata": {},
   "outputs": [
    {
     "data": {
      "text/plain": [
       "0.0      888\n",
       "1.0     1303\n",
       "2.0      818\n",
       "3.0      527\n",
       "4.0      363\n",
       "5.0      254\n",
       "6.0      188\n",
       "7.0      128\n",
       "8.0      108\n",
       "9.0       67\n",
       "10.0      44\n",
       "11.0      52\n",
       "12.0      45\n",
       "13.0      30\n",
       "14.0      29\n",
       "15.0      25\n",
       "16.0      18\n",
       "17.0       9\n",
       "18.0      12\n",
       "19.0       8\n",
       "20.0       9\n",
       "21.0       8\n",
       "22.0       7\n",
       "23.0      11\n",
       "24.0       3\n",
       "25.0      43\n",
       "Name: 총구매액-백만단위, dtype: int64"
      ]
     },
     "execution_count": 22,
     "metadata": {},
     "output_type": "execute_result"
    }
   ],
   "source": [
    "for i, v in enumerate(Total):\n",
    "    if (v > 24):\n",
    "        Total=Total.replace(v,25)\n",
    "        \n",
    "Total.value_counts().sort_index()"
   ]
  },
  {
   "cell_type": "code",
   "execution_count": 23,
   "metadata": {},
   "outputs": [],
   "source": [
    "departmentstore_train=pd.concat([departmentstore_train,Total],axis=1)"
   ]
  },
  {
   "cell_type": "code",
   "execution_count": 24,
   "metadata": {},
   "outputs": [
    {
     "data": {
      "text/plain": [
       "4343     0.0\n",
       "3960     0.0\n",
       "2238     1.0\n",
       "3967     1.0\n",
       "1697     1.0\n",
       "        ... \n",
       "2479    75.0\n",
       "2424    75.0\n",
       "4087    77.0\n",
       "1894    88.0\n",
       "3143    93.0\n",
       "Name: 평균구매가격-만단위, Length: 4997, dtype: float64"
      ]
     },
     "execution_count": 24,
     "metadata": {},
     "output_type": "execute_result"
    }
   ],
   "source": [
    "departmentstore_train=departmentstore_train.sort_values(by=\"평균구매가격\")\n",
    "Avg=round(departmentstore_train[\"평균구매가격\"]/10000,0)\n",
    "Avg.rename(\"평균구매가격-만단위\",inplace=True)"
   ]
  },
  {
   "cell_type": "code",
   "execution_count": 25,
   "metadata": {},
   "outputs": [
    {
     "data": {
      "text/plain": [
       "count    4997.000000\n",
       "mean       10.264959\n",
       "std         7.910873\n",
       "min         0.000000\n",
       "25%         5.000000\n",
       "50%         8.000000\n",
       "75%        12.000000\n",
       "max        93.000000\n",
       "Name: 평균구매가격-만단위, dtype: float64"
      ]
     },
     "execution_count": 25,
     "metadata": {},
     "output_type": "execute_result"
    }
   ],
   "source": [
    "Avg.describe().T"
   ]
  },
  {
   "cell_type": "code",
   "execution_count": 26,
   "metadata": {},
   "outputs": [
    {
     "data": {
      "text/plain": [
       "0.0       2\n",
       "1.0      15\n",
       "2.0     104\n",
       "3.0     249\n",
       "4.0     447\n",
       "5.0     443\n",
       "6.0     477\n",
       "7.0     433\n",
       "8.0     453\n",
       "9.0     362\n",
       "10.0    305\n",
       "11.0    247\n",
       "12.0    229\n",
       "13.0    183\n",
       "14.0    164\n",
       "15.0    123\n",
       "16.0    105\n",
       "17.0     79\n",
       "18.0     70\n",
       "19.0     52\n",
       "20.0     70\n",
       "21.0     35\n",
       "22.0     49\n",
       "23.0     36\n",
       "24.0     24\n",
       "25.0     26\n",
       "26.0     26\n",
       "27.0     21\n",
       "28.0     13\n",
       "29.0     12\n",
       "30.0     14\n",
       "31.0     17\n",
       "32.0     11\n",
       "33.0      6\n",
       "34.0      5\n",
       "35.0      4\n",
       "36.0      5\n",
       "37.0      8\n",
       "38.0      3\n",
       "39.0      2\n",
       "40.0     10\n",
       "41.0      4\n",
       "42.0      3\n",
       "43.0      3\n",
       "44.0      3\n",
       "45.0      3\n",
       "46.0      4\n",
       "47.0      1\n",
       "48.0      5\n",
       "49.0      2\n",
       "50.0     30\n",
       "Name: 평균구매가격-만단위, dtype: int64"
      ]
     },
     "execution_count": 26,
     "metadata": {},
     "output_type": "execute_result"
    }
   ],
   "source": [
    "# for i, v in enumerate(Avg):\n",
    "#     if (v <= 5.48) :\n",
    "#         Avg=Avg.replace(v,1)\n",
    "#     elif ((v > 5.48) and (v <= 8.22)) :\n",
    "#         Avg=Avg.replace(v,2)\n",
    "#     elif ((v > 8.22) and (v <= 12.42)) :\n",
    "#         Avg=Avg.replace(v,3)\n",
    "#     elif (v > 12.42) :\n",
    "#         Avg=Avg.replace(v,4)\n",
    "\n",
    "for i, v in enumerate(Avg):\n",
    "    if (v > 49) :\n",
    "        Avg=Avg.replace(v,50)\n",
    "        \n",
    "Avg.value_counts().sort_index()"
   ]
  },
  {
   "cell_type": "code",
   "execution_count": 27,
   "metadata": {},
   "outputs": [],
   "source": [
    "departmentstore_train=pd.concat([departmentstore_train,Avg],axis=1)"
   ]
  },
  {
   "cell_type": "code",
   "execution_count": 28,
   "metadata": {},
   "outputs": [],
   "source": [
    "departmentstore_train.drop([\"총구매액\",\"평균구매가격\"],axis=1,inplace=True)"
   ]
  },
  {
   "cell_type": "code",
   "execution_count": 29,
   "metadata": {},
   "outputs": [
    {
     "data": {
      "text/html": [
       "<div>\n",
       "<style scoped>\n",
       "    .dataframe tbody tr th:only-of-type {\n",
       "        vertical-align: middle;\n",
       "    }\n",
       "\n",
       "    .dataframe tbody tr th {\n",
       "        vertical-align: top;\n",
       "    }\n",
       "\n",
       "    .dataframe thead th {\n",
       "        text-align: right;\n",
       "    }\n",
       "</style>\n",
       "<table border=\"1\" class=\"dataframe\">\n",
       "  <thead>\n",
       "    <tr style=\"text-align: right;\">\n",
       "      <th></th>\n",
       "      <th>custid</th>\n",
       "      <th>gender</th>\n",
       "      <th>구매건수</th>\n",
       "      <th>평균할부개월수</th>\n",
       "      <th>내점일수</th>\n",
       "      <th>수입상품_구매비율</th>\n",
       "      <th>주말방문비율</th>\n",
       "      <th>가을_구매건수</th>\n",
       "      <th>겨울_구매건수</th>\n",
       "      <th>봄_구매건수</th>\n",
       "      <th>...</th>\n",
       "      <th>겨울구매건수비율</th>\n",
       "      <th>아침매출비중</th>\n",
       "      <th>점심매출비중</th>\n",
       "      <th>저녁매출비중</th>\n",
       "      <th>봄매출비중</th>\n",
       "      <th>여름매출비중</th>\n",
       "      <th>가을매출비중</th>\n",
       "      <th>겨울매출비중</th>\n",
       "      <th>총구매액-백만단위</th>\n",
       "      <th>평균구매가격-만단위</th>\n",
       "    </tr>\n",
       "  </thead>\n",
       "  <tbody>\n",
       "    <tr>\n",
       "      <th>4343</th>\n",
       "      <td>43255</td>\n",
       "      <td>0</td>\n",
       "      <td>9</td>\n",
       "      <td>4.3</td>\n",
       "      <td>4</td>\n",
       "      <td>66.7</td>\n",
       "      <td>0.0</td>\n",
       "      <td>1.0</td>\n",
       "      <td>0.0</td>\n",
       "      <td>0.0</td>\n",
       "      <td>...</td>\n",
       "      <td>0.00</td>\n",
       "      <td>22.22</td>\n",
       "      <td>33.33</td>\n",
       "      <td>44.44</td>\n",
       "      <td>0.00</td>\n",
       "      <td>88.89</td>\n",
       "      <td>11.11</td>\n",
       "      <td>0.00</td>\n",
       "      <td>0.0</td>\n",
       "      <td>0.0</td>\n",
       "    </tr>\n",
       "    <tr>\n",
       "      <th>3960</th>\n",
       "      <td>39630</td>\n",
       "      <td>0</td>\n",
       "      <td>14</td>\n",
       "      <td>2.9</td>\n",
       "      <td>10</td>\n",
       "      <td>7.1</td>\n",
       "      <td>50.0</td>\n",
       "      <td>6.0</td>\n",
       "      <td>7.0</td>\n",
       "      <td>1.0</td>\n",
       "      <td>...</td>\n",
       "      <td>50.00</td>\n",
       "      <td>7.14</td>\n",
       "      <td>85.71</td>\n",
       "      <td>7.14</td>\n",
       "      <td>7.14</td>\n",
       "      <td>0.00</td>\n",
       "      <td>42.86</td>\n",
       "      <td>50.00</td>\n",
       "      <td>0.0</td>\n",
       "      <td>0.0</td>\n",
       "    </tr>\n",
       "    <tr>\n",
       "      <th>2238</th>\n",
       "      <td>22860</td>\n",
       "      <td>1</td>\n",
       "      <td>12</td>\n",
       "      <td>1.7</td>\n",
       "      <td>10</td>\n",
       "      <td>33.3</td>\n",
       "      <td>70.0</td>\n",
       "      <td>1.0</td>\n",
       "      <td>1.0</td>\n",
       "      <td>10.0</td>\n",
       "      <td>...</td>\n",
       "      <td>8.33</td>\n",
       "      <td>0.00</td>\n",
       "      <td>91.67</td>\n",
       "      <td>8.33</td>\n",
       "      <td>83.33</td>\n",
       "      <td>0.00</td>\n",
       "      <td>8.33</td>\n",
       "      <td>8.33</td>\n",
       "      <td>0.0</td>\n",
       "      <td>1.0</td>\n",
       "    </tr>\n",
       "    <tr>\n",
       "      <th>3967</th>\n",
       "      <td>39660</td>\n",
       "      <td>0</td>\n",
       "      <td>93</td>\n",
       "      <td>1.2</td>\n",
       "      <td>60</td>\n",
       "      <td>1.1</td>\n",
       "      <td>15.0</td>\n",
       "      <td>21.0</td>\n",
       "      <td>11.0</td>\n",
       "      <td>32.0</td>\n",
       "      <td>...</td>\n",
       "      <td>11.83</td>\n",
       "      <td>13.98</td>\n",
       "      <td>55.91</td>\n",
       "      <td>30.11</td>\n",
       "      <td>34.41</td>\n",
       "      <td>31.18</td>\n",
       "      <td>22.58</td>\n",
       "      <td>11.83</td>\n",
       "      <td>1.0</td>\n",
       "      <td>1.0</td>\n",
       "    </tr>\n",
       "    <tr>\n",
       "      <th>1697</th>\n",
       "      <td>17280</td>\n",
       "      <td>0</td>\n",
       "      <td>7</td>\n",
       "      <td>2.7</td>\n",
       "      <td>3</td>\n",
       "      <td>42.9</td>\n",
       "      <td>66.7</td>\n",
       "      <td>7.0</td>\n",
       "      <td>0.0</td>\n",
       "      <td>0.0</td>\n",
       "      <td>...</td>\n",
       "      <td>0.00</td>\n",
       "      <td>71.43</td>\n",
       "      <td>28.57</td>\n",
       "      <td>0.00</td>\n",
       "      <td>0.00</td>\n",
       "      <td>0.00</td>\n",
       "      <td>100.00</td>\n",
       "      <td>0.00</td>\n",
       "      <td>0.0</td>\n",
       "      <td>1.0</td>\n",
       "    </tr>\n",
       "    <tr>\n",
       "      <th>...</th>\n",
       "      <td>...</td>\n",
       "      <td>...</td>\n",
       "      <td>...</td>\n",
       "      <td>...</td>\n",
       "      <td>...</td>\n",
       "      <td>...</td>\n",
       "      <td>...</td>\n",
       "      <td>...</td>\n",
       "      <td>...</td>\n",
       "      <td>...</td>\n",
       "      <td>...</td>\n",
       "      <td>...</td>\n",
       "      <td>...</td>\n",
       "      <td>...</td>\n",
       "      <td>...</td>\n",
       "      <td>...</td>\n",
       "      <td>...</td>\n",
       "      <td>...</td>\n",
       "      <td>...</td>\n",
       "      <td>...</td>\n",
       "      <td>...</td>\n",
       "    </tr>\n",
       "    <tr>\n",
       "      <th>2479</th>\n",
       "      <td>25117</td>\n",
       "      <td>0</td>\n",
       "      <td>44</td>\n",
       "      <td>3.9</td>\n",
       "      <td>30</td>\n",
       "      <td>77.3</td>\n",
       "      <td>26.7</td>\n",
       "      <td>6.0</td>\n",
       "      <td>16.0</td>\n",
       "      <td>22.0</td>\n",
       "      <td>...</td>\n",
       "      <td>36.36</td>\n",
       "      <td>31.82</td>\n",
       "      <td>52.27</td>\n",
       "      <td>15.91</td>\n",
       "      <td>50.00</td>\n",
       "      <td>0.00</td>\n",
       "      <td>13.64</td>\n",
       "      <td>36.36</td>\n",
       "      <td>25.0</td>\n",
       "      <td>50.0</td>\n",
       "    </tr>\n",
       "    <tr>\n",
       "      <th>2424</th>\n",
       "      <td>24640</td>\n",
       "      <td>0</td>\n",
       "      <td>4</td>\n",
       "      <td>2.0</td>\n",
       "      <td>4</td>\n",
       "      <td>25.0</td>\n",
       "      <td>50.0</td>\n",
       "      <td>1.0</td>\n",
       "      <td>1.0</td>\n",
       "      <td>1.0</td>\n",
       "      <td>...</td>\n",
       "      <td>25.00</td>\n",
       "      <td>0.00</td>\n",
       "      <td>50.00</td>\n",
       "      <td>50.00</td>\n",
       "      <td>25.00</td>\n",
       "      <td>25.00</td>\n",
       "      <td>25.00</td>\n",
       "      <td>25.00</td>\n",
       "      <td>3.0</td>\n",
       "      <td>50.0</td>\n",
       "    </tr>\n",
       "    <tr>\n",
       "      <th>4087</th>\n",
       "      <td>40700</td>\n",
       "      <td>0</td>\n",
       "      <td>28</td>\n",
       "      <td>2.9</td>\n",
       "      <td>11</td>\n",
       "      <td>39.3</td>\n",
       "      <td>63.6</td>\n",
       "      <td>2.0</td>\n",
       "      <td>5.0</td>\n",
       "      <td>16.0</td>\n",
       "      <td>...</td>\n",
       "      <td>17.86</td>\n",
       "      <td>25.00</td>\n",
       "      <td>64.29</td>\n",
       "      <td>10.71</td>\n",
       "      <td>57.14</td>\n",
       "      <td>17.86</td>\n",
       "      <td>7.14</td>\n",
       "      <td>17.86</td>\n",
       "      <td>22.0</td>\n",
       "      <td>50.0</td>\n",
       "    </tr>\n",
       "    <tr>\n",
       "      <th>1894</th>\n",
       "      <td>19178</td>\n",
       "      <td>1</td>\n",
       "      <td>11</td>\n",
       "      <td>2.6</td>\n",
       "      <td>10</td>\n",
       "      <td>72.7</td>\n",
       "      <td>40.0</td>\n",
       "      <td>3.0</td>\n",
       "      <td>6.0</td>\n",
       "      <td>2.0</td>\n",
       "      <td>...</td>\n",
       "      <td>54.55</td>\n",
       "      <td>9.09</td>\n",
       "      <td>81.82</td>\n",
       "      <td>9.09</td>\n",
       "      <td>18.18</td>\n",
       "      <td>0.00</td>\n",
       "      <td>27.27</td>\n",
       "      <td>54.55</td>\n",
       "      <td>10.0</td>\n",
       "      <td>50.0</td>\n",
       "    </tr>\n",
       "    <tr>\n",
       "      <th>3143</th>\n",
       "      <td>31838</td>\n",
       "      <td>0</td>\n",
       "      <td>6</td>\n",
       "      <td>4.7</td>\n",
       "      <td>4</td>\n",
       "      <td>50.0</td>\n",
       "      <td>25.0</td>\n",
       "      <td>0.0</td>\n",
       "      <td>5.0</td>\n",
       "      <td>1.0</td>\n",
       "      <td>...</td>\n",
       "      <td>83.33</td>\n",
       "      <td>0.00</td>\n",
       "      <td>100.00</td>\n",
       "      <td>0.00</td>\n",
       "      <td>16.67</td>\n",
       "      <td>0.00</td>\n",
       "      <td>0.00</td>\n",
       "      <td>83.33</td>\n",
       "      <td>6.0</td>\n",
       "      <td>50.0</td>\n",
       "    </tr>\n",
       "  </tbody>\n",
       "</table>\n",
       "<p>4997 rows × 156 columns</p>\n",
       "</div>"
      ],
      "text/plain": [
       "      custid  gender  구매건수  평균할부개월수  내점일수  수입상품_구매비율  주말방문비율  가을_구매건수  \\\n",
       "4343   43255       0     9      4.3     4       66.7     0.0      1.0   \n",
       "3960   39630       0    14      2.9    10        7.1    50.0      6.0   \n",
       "2238   22860       1    12      1.7    10       33.3    70.0      1.0   \n",
       "3967   39660       0    93      1.2    60        1.1    15.0     21.0   \n",
       "1697   17280       0     7      2.7     3       42.9    66.7      7.0   \n",
       "...      ...     ...   ...      ...   ...        ...     ...      ...   \n",
       "2479   25117       0    44      3.9    30       77.3    26.7      6.0   \n",
       "2424   24640       0     4      2.0     4       25.0    50.0      1.0   \n",
       "4087   40700       0    28      2.9    11       39.3    63.6      2.0   \n",
       "1894   19178       1    11      2.6    10       72.7    40.0      3.0   \n",
       "3143   31838       0     6      4.7     4       50.0    25.0      0.0   \n",
       "\n",
       "      겨울_구매건수  봄_구매건수  ...  겨울구매건수비율  아침매출비중  점심매출비중  저녁매출비중  봄매출비중  여름매출비중  \\\n",
       "4343      0.0     0.0  ...      0.00   22.22   33.33   44.44   0.00   88.89   \n",
       "3960      7.0     1.0  ...     50.00    7.14   85.71    7.14   7.14    0.00   \n",
       "2238      1.0    10.0  ...      8.33    0.00   91.67    8.33  83.33    0.00   \n",
       "3967     11.0    32.0  ...     11.83   13.98   55.91   30.11  34.41   31.18   \n",
       "1697      0.0     0.0  ...      0.00   71.43   28.57    0.00   0.00    0.00   \n",
       "...       ...     ...  ...       ...     ...     ...     ...    ...     ...   \n",
       "2479     16.0    22.0  ...     36.36   31.82   52.27   15.91  50.00    0.00   \n",
       "2424      1.0     1.0  ...     25.00    0.00   50.00   50.00  25.00   25.00   \n",
       "4087      5.0    16.0  ...     17.86   25.00   64.29   10.71  57.14   17.86   \n",
       "1894      6.0     2.0  ...     54.55    9.09   81.82    9.09  18.18    0.00   \n",
       "3143      5.0     1.0  ...     83.33    0.00  100.00    0.00  16.67    0.00   \n",
       "\n",
       "      가을매출비중  겨울매출비중  총구매액-백만단위  평균구매가격-만단위  \n",
       "4343   11.11    0.00        0.0         0.0  \n",
       "3960   42.86   50.00        0.0         0.0  \n",
       "2238    8.33    8.33        0.0         1.0  \n",
       "3967   22.58   11.83        1.0         1.0  \n",
       "1697  100.00    0.00        0.0         1.0  \n",
       "...      ...     ...        ...         ...  \n",
       "2479   13.64   36.36       25.0        50.0  \n",
       "2424   25.00   25.00        3.0        50.0  \n",
       "4087    7.14   17.86       22.0        50.0  \n",
       "1894   27.27   54.55       10.0        50.0  \n",
       "3143    0.00   83.33        6.0        50.0  \n",
       "\n",
       "[4997 rows x 156 columns]"
      ]
     },
     "execution_count": 29,
     "metadata": {},
     "output_type": "execute_result"
    }
   ],
   "source": [
    "departmentstore_train"
   ]
  },
  {
   "cell_type": "code",
   "execution_count": 30,
   "metadata": {},
   "outputs": [
    {
     "name": "stdout",
     "output_type": "stream",
     "text": [
      "<class 'pandas.core.frame.DataFrame'>\n",
      "Int64Index: 4997 entries, 4343 to 3143\n",
      "Columns: 156 entries, custid to 평균구매가격-만단위\n",
      "dtypes: float64(34), int64(4), uint8(118)\n",
      "memory usage: 2.0 MB\n"
     ]
    }
   ],
   "source": [
    "departmentstore_train.info()"
   ]
  },
  {
   "cell_type": "markdown",
   "metadata": {},
   "source": [
    "# 데이터 나누기"
   ]
  },
  {
   "cell_type": "code",
   "execution_count": 31,
   "metadata": {},
   "outputs": [],
   "source": [
    "dtX = departmentstore_train.drop(['custid','gender'], axis=1)\n",
    "dtY = departmentstore_train['gender']"
   ]
  },
  {
   "cell_type": "code",
   "execution_count": 32,
   "metadata": {},
   "outputs": [],
   "source": [
    "X_train, X_test, Y_train, Y_test = train_test_split(dtX, dtY, test_size=0.25, random_state=0)"
   ]
  },
  {
   "cell_type": "markdown",
   "metadata": {},
   "source": [
    "# Cross-Validation"
   ]
  },
  {
   "cell_type": "code",
   "execution_count": 33,
   "metadata": {},
   "outputs": [],
   "source": [
    "#model = KNeighborsClassifier()\n",
    "model = LogisticRegression()\n",
    "#model = DecisionTreeClassifier()"
   ]
  },
  {
   "cell_type": "code",
   "execution_count": 34,
   "metadata": {},
   "outputs": [
    {
     "data": {
      "text/plain": [
       "array([0.696     , 0.697     , 0.66866867, 0.69169169, 0.68868869])"
      ]
     },
     "execution_count": 34,
     "metadata": {},
     "output_type": "execute_result"
    }
   ],
   "source": [
    "scores = cross_val_score(model, dtX, dtY); scores"
   ]
  },
  {
   "cell_type": "code",
   "execution_count": 35,
   "metadata": {},
   "outputs": [
    {
     "name": "stdout",
     "output_type": "stream",
     "text": [
      "Mean: 0.688\n",
      "Std: 0.010\n",
      "Min: 0.669\n",
      "Max: 0.697\n"
     ]
    }
   ],
   "source": [
    "print(\"Mean: {:.3f}\\nStd: {:.3f}\\nMin: {:.3f}\\nMax: {:.3f}\".format(\n",
    "    scores.mean(), scores.std(), scores.min(), scores.max()))\n",
    "# 분산이 작으면 Overfitting 이 적다"
   ]
  },
  {
   "cell_type": "markdown",
   "metadata": {},
   "source": [
    "# MinMaxScaler"
   ]
  },
  {
   "cell_type": "code",
   "execution_count": 36,
   "metadata": {},
   "outputs": [
    {
     "data": {
      "text/plain": [
       "MinMaxScaler()"
      ]
     },
     "execution_count": 36,
     "metadata": {},
     "output_type": "execute_result"
    }
   ],
   "source": [
    "scaler = MinMaxScaler()\n",
    "scaler.fit(dtX)"
   ]
  },
  {
   "cell_type": "code",
   "execution_count": 37,
   "metadata": {},
   "outputs": [],
   "source": [
    "x = scaler.transform(dtX)\n",
    "dtX_s = pd.DataFrame(x,columns=dtX.columns)"
   ]
  },
  {
   "cell_type": "code",
   "execution_count": 38,
   "metadata": {},
   "outputs": [
    {
     "data": {
      "text/html": [
       "<div>\n",
       "<style scoped>\n",
       "    .dataframe tbody tr th:only-of-type {\n",
       "        vertical-align: middle;\n",
       "    }\n",
       "\n",
       "    .dataframe tbody tr th {\n",
       "        vertical-align: top;\n",
       "    }\n",
       "\n",
       "    .dataframe thead th {\n",
       "        text-align: right;\n",
       "    }\n",
       "</style>\n",
       "<table border=\"1\" class=\"dataframe\">\n",
       "  <thead>\n",
       "    <tr style=\"text-align: right;\">\n",
       "      <th></th>\n",
       "      <th>count</th>\n",
       "      <th>mean</th>\n",
       "      <th>std</th>\n",
       "      <th>min</th>\n",
       "      <th>25%</th>\n",
       "      <th>50%</th>\n",
       "      <th>75%</th>\n",
       "      <th>max</th>\n",
       "    </tr>\n",
       "  </thead>\n",
       "  <tbody>\n",
       "    <tr>\n",
       "      <th>구매건수</th>\n",
       "      <td>4997.0</td>\n",
       "      <td>0.068467</td>\n",
       "      <td>0.081875</td>\n",
       "      <td>0.0</td>\n",
       "      <td>0.018367</td>\n",
       "      <td>0.040816</td>\n",
       "      <td>0.087755</td>\n",
       "      <td>1.0</td>\n",
       "    </tr>\n",
       "    <tr>\n",
       "      <th>평균할부개월수</th>\n",
       "      <td>4997.0</td>\n",
       "      <td>0.101732</td>\n",
       "      <td>0.081164</td>\n",
       "      <td>0.0</td>\n",
       "      <td>0.044444</td>\n",
       "      <td>0.088889</td>\n",
       "      <td>0.133333</td>\n",
       "      <td>1.0</td>\n",
       "    </tr>\n",
       "    <tr>\n",
       "      <th>내점일수</th>\n",
       "      <td>4997.0</td>\n",
       "      <td>0.068791</td>\n",
       "      <td>0.078119</td>\n",
       "      <td>0.0</td>\n",
       "      <td>0.020161</td>\n",
       "      <td>0.044355</td>\n",
       "      <td>0.088710</td>\n",
       "      <td>1.0</td>\n",
       "    </tr>\n",
       "    <tr>\n",
       "      <th>수입상품_구매비율</th>\n",
       "      <td>4997.0</td>\n",
       "      <td>0.179950</td>\n",
       "      <td>0.194876</td>\n",
       "      <td>0.0</td>\n",
       "      <td>0.050000</td>\n",
       "      <td>0.125000</td>\n",
       "      <td>0.250000</td>\n",
       "      <td>1.0</td>\n",
       "    </tr>\n",
       "    <tr>\n",
       "      <th>주말방문비율</th>\n",
       "      <td>4997.0</td>\n",
       "      <td>0.385614</td>\n",
       "      <td>0.245046</td>\n",
       "      <td>0.0</td>\n",
       "      <td>0.222000</td>\n",
       "      <td>0.348000</td>\n",
       "      <td>0.500000</td>\n",
       "      <td>1.0</td>\n",
       "    </tr>\n",
       "    <tr>\n",
       "      <th>...</th>\n",
       "      <td>...</td>\n",
       "      <td>...</td>\n",
       "      <td>...</td>\n",
       "      <td>...</td>\n",
       "      <td>...</td>\n",
       "      <td>...</td>\n",
       "      <td>...</td>\n",
       "      <td>...</td>\n",
       "    </tr>\n",
       "    <tr>\n",
       "      <th>여름매출비중</th>\n",
       "      <td>4997.0</td>\n",
       "      <td>0.253493</td>\n",
       "      <td>0.215694</td>\n",
       "      <td>0.0</td>\n",
       "      <td>0.086200</td>\n",
       "      <td>0.233800</td>\n",
       "      <td>0.357100</td>\n",
       "      <td>1.0</td>\n",
       "    </tr>\n",
       "    <tr>\n",
       "      <th>가을매출비중</th>\n",
       "      <td>4997.0</td>\n",
       "      <td>0.229211</td>\n",
       "      <td>0.193069</td>\n",
       "      <td>0.0</td>\n",
       "      <td>0.087000</td>\n",
       "      <td>0.210500</td>\n",
       "      <td>0.322200</td>\n",
       "      <td>1.0</td>\n",
       "    </tr>\n",
       "    <tr>\n",
       "      <th>겨울매출비중</th>\n",
       "      <td>4997.0</td>\n",
       "      <td>0.239579</td>\n",
       "      <td>0.208021</td>\n",
       "      <td>0.0</td>\n",
       "      <td>0.090900</td>\n",
       "      <td>0.209500</td>\n",
       "      <td>0.333300</td>\n",
       "      <td>1.0</td>\n",
       "    </tr>\n",
       "    <tr>\n",
       "      <th>총구매액-백만단위</th>\n",
       "      <td>4997.0</td>\n",
       "      <td>0.129414</td>\n",
       "      <td>0.166942</td>\n",
       "      <td>0.0</td>\n",
       "      <td>0.040000</td>\n",
       "      <td>0.080000</td>\n",
       "      <td>0.160000</td>\n",
       "      <td>1.0</td>\n",
       "    </tr>\n",
       "    <tr>\n",
       "      <th>평균구매가격-만단위</th>\n",
       "      <td>4997.0</td>\n",
       "      <td>0.203746</td>\n",
       "      <td>0.147945</td>\n",
       "      <td>0.0</td>\n",
       "      <td>0.100000</td>\n",
       "      <td>0.160000</td>\n",
       "      <td>0.240000</td>\n",
       "      <td>1.0</td>\n",
       "    </tr>\n",
       "  </tbody>\n",
       "</table>\n",
       "<p>154 rows × 8 columns</p>\n",
       "</div>"
      ],
      "text/plain": [
       "             count      mean       std  min       25%       50%       75%  max\n",
       "구매건수        4997.0  0.068467  0.081875  0.0  0.018367  0.040816  0.087755  1.0\n",
       "평균할부개월수     4997.0  0.101732  0.081164  0.0  0.044444  0.088889  0.133333  1.0\n",
       "내점일수        4997.0  0.068791  0.078119  0.0  0.020161  0.044355  0.088710  1.0\n",
       "수입상품_구매비율   4997.0  0.179950  0.194876  0.0  0.050000  0.125000  0.250000  1.0\n",
       "주말방문비율      4997.0  0.385614  0.245046  0.0  0.222000  0.348000  0.500000  1.0\n",
       "...            ...       ...       ...  ...       ...       ...       ...  ...\n",
       "여름매출비중      4997.0  0.253493  0.215694  0.0  0.086200  0.233800  0.357100  1.0\n",
       "가을매출비중      4997.0  0.229211  0.193069  0.0  0.087000  0.210500  0.322200  1.0\n",
       "겨울매출비중      4997.0  0.239579  0.208021  0.0  0.090900  0.209500  0.333300  1.0\n",
       "총구매액-백만단위   4997.0  0.129414  0.166942  0.0  0.040000  0.080000  0.160000  1.0\n",
       "평균구매가격-만단위  4997.0  0.203746  0.147945  0.0  0.100000  0.160000  0.240000  1.0\n",
       "\n",
       "[154 rows x 8 columns]"
      ]
     },
     "execution_count": 38,
     "metadata": {},
     "output_type": "execute_result"
    }
   ],
   "source": [
    "dtX_s.describe().T"
   ]
  },
  {
   "cell_type": "markdown",
   "metadata": {},
   "source": [
    "# 남여 비율 조정 복합 스케일링"
   ]
  },
  {
   "cell_type": "code",
   "execution_count": 39,
   "metadata": {},
   "outputs": [],
   "source": [
    "# departmentstore_train['gender'].value_counts()"
   ]
  },
  {
   "cell_type": "code",
   "execution_count": 40,
   "metadata": {},
   "outputs": [],
   "source": [
    "# from imblearn.combine import *"
   ]
  },
  {
   "cell_type": "code",
   "execution_count": 41,
   "metadata": {},
   "outputs": [],
   "source": [
    "# from imblearn.combine import SMOTETomek"
   ]
  },
  {
   "cell_type": "code",
   "execution_count": 42,
   "metadata": {},
   "outputs": [],
   "source": [
    "#scores = cross_val_score(model, dtX, dtY); scores"
   ]
  },
  {
   "cell_type": "code",
   "execution_count": 43,
   "metadata": {},
   "outputs": [],
   "source": [
    "# from sklearn.metrics import classification_report"
   ]
  },
  {
   "cell_type": "code",
   "execution_count": 44,
   "metadata": {},
   "outputs": [],
   "source": [
    "# tree = DecisionTreeClassifier(max_depth=6, random_state=0)\n",
    "# tree.fit(X_train, Y_train)\n",
    "# pred_tree = tree.predict(X_test);\n",
    "\n",
    "# print(classification_report(Y_test, pred_tree))"
   ]
  },
  {
   "cell_type": "code",
   "execution_count": 45,
   "metadata": {},
   "outputs": [],
   "source": [
    "# from imblearn.under_sampling import TomekLinks\n",
    "# from imblearn.combine import SMOTETomek"
   ]
  },
  {
   "cell_type": "code",
   "execution_count": 46,
   "metadata": {},
   "outputs": [],
   "source": [
    "# dtX, dtY = SMOTETomek(random_state=0).fit_sample(X_train, Y_train)"
   ]
  },
  {
   "cell_type": "code",
   "execution_count": 47,
   "metadata": {},
   "outputs": [],
   "source": [
    "# tree = DecisionTreeClassifier(max_depth=6, random_state=0)\n",
    "# tree.fit(dtX, dtY)\n",
    "# pred_tree = tree.predict(X_test)\n",
    "\n",
    "# print(classification_report(Y_test, pred_tree))\n",
    "# (precision) 0 이라고 예측한 데이터의 74%만 실제로 0\n",
    "# (precision) 1 이라고 예측한 데이터의 33%만 실제로 1\n",
    "# (recall) 실제 0인 데이터중 56%만 0으로 판별됨 \n",
    "# (recall) 실제 1인 데이타중 52%만 1로 판별됨"
   ]
  },
  {
   "cell_type": "markdown",
   "metadata": {},
   "source": [
    "# 언더 샘플링 / 오버 샘플링"
   ]
  },
  {
   "cell_type": "code",
   "execution_count": 48,
   "metadata": {},
   "outputs": [
    {
     "name": "stdout",
     "output_type": "stream",
     "text": [
      "1520 3477\n"
     ]
    }
   ],
   "source": [
    "aX = np.array(dtX)\n",
    "aY = np.array(dtY)\n",
    "print(np.sum(aY == 1), np.sum(aY == 0))"
   ]
  },
  {
   "cell_type": "code",
   "execution_count": 49,
   "metadata": {},
   "outputs": [],
   "source": [
    "sampler = RandomUnderSampler(random_state=1)\n",
    "#sampler = RandomOverSampler(random_state=1)\n",
    "aX, aY = sampler.fit_resample(aX, aY)"
   ]
  },
  {
   "cell_type": "code",
   "execution_count": 50,
   "metadata": {},
   "outputs": [
    {
     "name": "stdout",
     "output_type": "stream",
     "text": [
      "1520 1520\n"
     ]
    }
   ],
   "source": [
    "print(np.sum(aY == 1), np.sum(aY == 0))"
   ]
  },
  {
   "cell_type": "markdown",
   "metadata": {},
   "source": [
    "# K-Fold 교차검증"
   ]
  },
  {
   "cell_type": "code",
   "execution_count": 51,
   "metadata": {},
   "outputs": [],
   "source": [
    "kf = KFold(n_splits=10, shuffle=True)"
   ]
  },
  {
   "cell_type": "code",
   "execution_count": 52,
   "metadata": {},
   "outputs": [
    {
     "data": {
      "text/plain": [
       "KFold(n_splits=10, random_state=None, shuffle=True)"
      ]
     },
     "execution_count": 52,
     "metadata": {},
     "output_type": "execute_result"
    }
   ],
   "source": [
    "kf"
   ]
  },
  {
   "cell_type": "code",
   "execution_count": 53,
   "metadata": {},
   "outputs": [],
   "source": [
    "scores = []"
   ]
  },
  {
   "cell_type": "code",
   "execution_count": 54,
   "metadata": {},
   "outputs": [
    {
     "name": "stdout",
     "output_type": "stream",
     "text": [
      "0.5315789473684209 0.028835009211593595 0.5822368421052632 0.46710526315789475\n"
     ]
    }
   ],
   "source": [
    "from sklearn.metrics import accuracy_score\n",
    "for train_id, test_id in kf.split(aX):\n",
    "    x = aX[train_id]\n",
    "    y = aY[train_id]\n",
    "    clf = tree.DecisionTreeClassifier()\n",
    "    clf.fit(x,y)\n",
    "    pred_y = clf.predict(aX[test_id])\n",
    "    score = accuracy_score(aY[test_id], pred_y)\n",
    "    scores.append(score)\n",
    "\n",
    "scores = np.array(scores)\n",
    "print(scores.mean(), scores.std(), scores.max(), scores.min())"
   ]
  },
  {
   "cell_type": "code",
   "execution_count": 55,
   "metadata": {},
   "outputs": [
    {
     "name": "stdout",
     "output_type": "stream",
     "text": [
      "0.49324324324324326\n",
      "0.5447761194029851\n"
     ]
    }
   ],
   "source": [
    "from sklearn.metrics import recall_score\n",
    "from sklearn.metrics import precision_score\n",
    "print(recall_score(aY[test_id], pred_y))\n",
    "print(precision_score(aY[test_id], pred_y))"
   ]
  },
  {
   "cell_type": "code",
   "execution_count": 56,
   "metadata": {},
   "outputs": [
    {
     "name": "stdout",
     "output_type": "stream",
     "text": [
      "DecisionTreeClassifier()\n"
     ]
    }
   ],
   "source": [
    "print(clf)"
   ]
  },
  {
   "cell_type": "code",
   "execution_count": 57,
   "metadata": {},
   "outputs": [],
   "source": [
    "from sklearn.model_selection import GridSearchCV"
   ]
  },
  {
   "cell_type": "code",
   "execution_count": 58,
   "metadata": {},
   "outputs": [],
   "source": [
    "# 패러메터 범위설정\n",
    "params = {\n",
    "    'criterion': ['entropy'],    \n",
    "    'max_depth': [2, 4, 6, 8, 10],\n",
    "    'min_samples_leaf': [10, 20, 30, 40, 50],\n",
    "}"
   ]
  },
  {
   "cell_type": "code",
   "execution_count": 59,
   "metadata": {},
   "outputs": [],
   "source": [
    "clf_gs = GridSearchCV(tree.DecisionTreeClassifier(), params, \n",
    "                cv=KFold(n_splits=10, shuffle=True), scoring='accuracy')"
   ]
  },
  {
   "cell_type": "code",
   "execution_count": 60,
   "metadata": {},
   "outputs": [
    {
     "data": {
      "text/plain": [
       "0.6480263157894737"
      ]
     },
     "execution_count": 60,
     "metadata": {},
     "output_type": "execute_result"
    }
   ],
   "source": [
    "tree11 = DecisionTreeClassifier(max_depth=6, random_state=0)\n",
    "tree11.fit(aX, aY).score(aX[test_id],aY[test_id])"
   ]
  },
  {
   "cell_type": "code",
   "execution_count": 61,
   "metadata": {},
   "outputs": [
    {
     "data": {
      "text/plain": [
       "GridSearchCV(cv=KFold(n_splits=10, random_state=None, shuffle=True),\n",
       "             estimator=DecisionTreeClassifier(),\n",
       "             param_grid={'criterion': ['entropy'],\n",
       "                         'max_depth': [2, 4, 6, 8, 10],\n",
       "                         'min_samples_leaf': [10, 20, 30, 40, 50]},\n",
       "             scoring='accuracy')"
      ]
     },
     "execution_count": 61,
     "metadata": {},
     "output_type": "execute_result"
    }
   ],
   "source": [
    "clf_gs.fit(aX, aY)"
   ]
  },
  {
   "cell_type": "code",
   "execution_count": 62,
   "metadata": {},
   "outputs": [
    {
     "name": "stdout",
     "output_type": "stream",
     "text": [
      "0.5802631578947367\n",
      "{'criterion': 'entropy', 'max_depth': 4, 'min_samples_leaf': 40}\n"
     ]
    }
   ],
   "source": [
    "# 가장 높은 성능일 때의 모델에 대한 정밀도와 파라미터 조합 확인\n",
    "print(clf_gs.best_score_)\n",
    "print(clf_gs.best_params_)"
   ]
  },
  {
   "cell_type": "code",
   "execution_count": 63,
   "metadata": {},
   "outputs": [
    {
     "name": "stdout",
     "output_type": "stream",
     "text": [
      "0    872\n",
      "1    378\n",
      "Name: gender, dtype: int64\n"
     ]
    },
    {
     "data": {
      "text/plain": [
       "0.6976"
      ]
     },
     "execution_count": 63,
     "metadata": {},
     "output_type": "execute_result"
    }
   ],
   "source": [
    "from sklearn.dummy import DummyClassifier\n",
    "print(Y_test.value_counts())\n",
    "dummy=DummyClassifier(strategy='most_frequent').fit(aX, aY)\n",
    "dummy.score(X_test, Y_test)"
   ]
  },
  {
   "cell_type": "code",
   "execution_count": 64,
   "metadata": {},
   "outputs": [],
   "source": [
    "from sklearn.svm import SVC\n",
    "from sklearn.neural_network import MLPClassifier\n",
    "from sklearn.metrics import mean_squared_error"
   ]
  },
  {
   "cell_type": "code",
   "execution_count": 65,
   "metadata": {},
   "outputs": [
    {
     "data": {
      "text/plain": [
       "SVC(random_state=0)"
      ]
     },
     "execution_count": 65,
     "metadata": {},
     "output_type": "execute_result"
    }
   ],
   "source": [
    "svm = SVC(random_state=0)\n",
    "svm.fit(dtX, dtY)"
   ]
  },
  {
   "cell_type": "code",
   "execution_count": 66,
   "metadata": {},
   "outputs": [
    {
     "data": {
      "text/plain": [
       "MLPClassifier()"
      ]
     },
     "execution_count": 66,
     "metadata": {},
     "output_type": "execute_result"
    }
   ],
   "source": [
    "mlp=MLPClassifier()\n",
    "mlp.fit(dtX, dtY)"
   ]
  },
  {
   "cell_type": "code",
   "execution_count": 67,
   "metadata": {},
   "outputs": [
    {
     "data": {
      "text/plain": [
       "0.706824094456674"
      ]
     },
     "metadata": {},
     "output_type": "display_data"
    },
    {
     "data": {
      "text/plain": [
       "0.7096"
      ]
     },
     "metadata": {},
     "output_type": "display_data"
    }
   ],
   "source": [
    "display(svm.score(dtX, dtY))\n",
    "display(svm.score(X_test, Y_test))"
   ]
  },
  {
   "cell_type": "code",
   "execution_count": 68,
   "metadata": {},
   "outputs": [
    {
     "data": {
      "text/plain": [
       "0.5493295977586552"
      ]
     },
     "metadata": {},
     "output_type": "display_data"
    },
    {
     "data": {
      "text/plain": [
       "0.568"
      ]
     },
     "metadata": {},
     "output_type": "display_data"
    }
   ],
   "source": [
    "display(mlp.score(dtX, dtY))\n",
    "display(mlp.score(X_test, Y_test))"
   ]
  },
  {
   "cell_type": "markdown",
   "metadata": {},
   "source": [
    "# xgboost"
   ]
  },
  {
   "cell_type": "code",
   "execution_count": 69,
   "metadata": {},
   "outputs": [],
   "source": [
    "import xgboost as xgb\n",
    "from xgboost import XGBClassifier"
   ]
  },
  {
   "cell_type": "code",
   "execution_count": 70,
   "metadata": {},
   "outputs": [],
   "source": [
    "from xgboost import plot_importance"
   ]
  },
  {
   "cell_type": "code",
   "execution_count": 71,
   "metadata": {},
   "outputs": [],
   "source": [
    "dtrain = xgb.DMatrix(data=dtX, label=dtY)\n",
    "dtest = xgb.DMatrix(data=X_test, label=Y_test)"
   ]
  },
  {
   "cell_type": "code",
   "execution_count": 72,
   "metadata": {},
   "outputs": [],
   "source": [
    "params = {'max_depth':3,\n",
    "          'eta':0.1,\n",
    "          'objective':'binary:logistic',\n",
    "          'eval_metric':'logloss',\n",
    "          'early_stoppings':100\n",
    "         }\n",
    "num_rounds = 400"
   ]
  },
  {
   "cell_type": "code",
   "execution_count": 73,
   "metadata": {},
   "outputs": [
    {
     "name": "stdout",
     "output_type": "stream",
     "text": [
      "[18:08:19] WARNING: C:/Users/Administrator/workspace/xgboost-win64_release_1.3.0/src/learner.cc:541: \n",
      "Parameters: { early_stoppings } might not be used.\n",
      "\n",
      "  This may not be accurate due to some parameters are only used in language bindings but\n",
      "  passed down to XGBoost core.  Or some parameters are not used but slip through this\n",
      "  verification. Please open an issue if you find above cases.\n",
      "\n",
      "\n",
      "[0]\ttrain-logloss:0.67518\teval-logloss:0.67471\n",
      "[1]\ttrain-logloss:0.66050\teval-logloss:0.65995\n",
      "[2]\ttrain-logloss:0.64828\teval-logloss:0.64724\n",
      "[3]\ttrain-logloss:0.63814\teval-logloss:0.63702\n",
      "[4]\ttrain-logloss:0.62972\teval-logloss:0.62825\n",
      "[5]\ttrain-logloss:0.62269\teval-logloss:0.62100\n",
      "[6]\ttrain-logloss:0.61644\teval-logloss:0.61455\n",
      "[7]\ttrain-logloss:0.61097\teval-logloss:0.60898\n",
      "[8]\ttrain-logloss:0.60656\teval-logloss:0.60443\n",
      "[9]\ttrain-logloss:0.60260\teval-logloss:0.60041\n",
      "[10]\ttrain-logloss:0.59932\teval-logloss:0.59676\n",
      "[11]\ttrain-logloss:0.59618\teval-logloss:0.59354\n",
      "[12]\ttrain-logloss:0.59327\teval-logloss:0.59009\n",
      "[13]\ttrain-logloss:0.59098\teval-logloss:0.58800\n",
      "[14]\ttrain-logloss:0.58854\teval-logloss:0.58539\n",
      "[15]\ttrain-logloss:0.58664\teval-logloss:0.58321\n",
      "[16]\ttrain-logloss:0.58497\teval-logloss:0.58149\n",
      "[17]\ttrain-logloss:0.58346\teval-logloss:0.57998\n",
      "[18]\ttrain-logloss:0.58186\teval-logloss:0.57803\n",
      "[19]\ttrain-logloss:0.58047\teval-logloss:0.57709\n",
      "[20]\ttrain-logloss:0.57940\teval-logloss:0.57616\n",
      "[21]\ttrain-logloss:0.57827\teval-logloss:0.57488\n",
      "[22]\ttrain-logloss:0.57680\teval-logloss:0.57358\n",
      "[23]\ttrain-logloss:0.57580\teval-logloss:0.57258\n",
      "[24]\ttrain-logloss:0.57478\teval-logloss:0.57202\n",
      "[25]\ttrain-logloss:0.57376\teval-logloss:0.57073\n",
      "[26]\ttrain-logloss:0.57295\teval-logloss:0.57001\n",
      "[27]\ttrain-logloss:0.57210\teval-logloss:0.56938\n",
      "[28]\ttrain-logloss:0.57126\teval-logloss:0.56859\n",
      "[29]\ttrain-logloss:0.57036\teval-logloss:0.56782\n",
      "[30]\ttrain-logloss:0.56947\teval-logloss:0.56690\n",
      "[31]\ttrain-logloss:0.56876\teval-logloss:0.56656\n",
      "[32]\ttrain-logloss:0.56800\teval-logloss:0.56586\n",
      "[33]\ttrain-logloss:0.56738\teval-logloss:0.56525\n",
      "[34]\ttrain-logloss:0.56675\teval-logloss:0.56456\n",
      "[35]\ttrain-logloss:0.56601\teval-logloss:0.56372\n",
      "[36]\ttrain-logloss:0.56531\teval-logloss:0.56297\n",
      "[37]\ttrain-logloss:0.56440\teval-logloss:0.56221\n",
      "[38]\ttrain-logloss:0.56367\teval-logloss:0.56181\n",
      "[39]\ttrain-logloss:0.56287\teval-logloss:0.56130\n",
      "[40]\ttrain-logloss:0.56246\teval-logloss:0.56079\n",
      "[41]\ttrain-logloss:0.56167\teval-logloss:0.56041\n",
      "[42]\ttrain-logloss:0.56112\teval-logloss:0.55979\n",
      "[43]\ttrain-logloss:0.56054\teval-logloss:0.55947\n",
      "[44]\ttrain-logloss:0.56000\teval-logloss:0.55901\n",
      "[45]\ttrain-logloss:0.55973\teval-logloss:0.55886\n",
      "[46]\ttrain-logloss:0.55904\teval-logloss:0.55834\n",
      "[47]\ttrain-logloss:0.55820\teval-logloss:0.55754\n",
      "[48]\ttrain-logloss:0.55736\teval-logloss:0.55687\n",
      "[49]\ttrain-logloss:0.55670\teval-logloss:0.55610\n",
      "[50]\ttrain-logloss:0.55639\teval-logloss:0.55585\n",
      "[51]\ttrain-logloss:0.55602\teval-logloss:0.55544\n",
      "[52]\ttrain-logloss:0.55558\teval-logloss:0.55486\n",
      "[53]\ttrain-logloss:0.55521\teval-logloss:0.55465\n",
      "[54]\ttrain-logloss:0.55474\teval-logloss:0.55415\n",
      "[55]\ttrain-logloss:0.55449\teval-logloss:0.55375\n",
      "[56]\ttrain-logloss:0.55382\teval-logloss:0.55306\n",
      "[57]\ttrain-logloss:0.55328\teval-logloss:0.55273\n",
      "[58]\ttrain-logloss:0.55297\teval-logloss:0.55243\n",
      "[59]\ttrain-logloss:0.55227\teval-logloss:0.55146\n",
      "[60]\ttrain-logloss:0.55166\teval-logloss:0.55126\n",
      "[61]\ttrain-logloss:0.55141\teval-logloss:0.55082\n",
      "[62]\ttrain-logloss:0.55094\teval-logloss:0.55017\n",
      "[63]\ttrain-logloss:0.55036\teval-logloss:0.54948\n",
      "[64]\ttrain-logloss:0.54979\teval-logloss:0.54873\n",
      "[65]\ttrain-logloss:0.54917\teval-logloss:0.54828\n",
      "[66]\ttrain-logloss:0.54835\teval-logloss:0.54754\n",
      "[67]\ttrain-logloss:0.54820\teval-logloss:0.54743\n",
      "[68]\ttrain-logloss:0.54779\teval-logloss:0.54714\n",
      "[69]\ttrain-logloss:0.54743\teval-logloss:0.54671\n",
      "[70]\ttrain-logloss:0.54687\teval-logloss:0.54623\n",
      "[71]\ttrain-logloss:0.54638\teval-logloss:0.54600\n",
      "[72]\ttrain-logloss:0.54612\teval-logloss:0.54574\n",
      "[73]\ttrain-logloss:0.54578\teval-logloss:0.54537\n",
      "[74]\ttrain-logloss:0.54532\teval-logloss:0.54498\n",
      "[75]\ttrain-logloss:0.54463\teval-logloss:0.54415\n",
      "[76]\ttrain-logloss:0.54379\teval-logloss:0.54291\n",
      "[77]\ttrain-logloss:0.54324\teval-logloss:0.54203\n",
      "[78]\ttrain-logloss:0.54295\teval-logloss:0.54174\n",
      "[79]\ttrain-logloss:0.54238\teval-logloss:0.54100\n",
      "[80]\ttrain-logloss:0.54193\teval-logloss:0.54055\n",
      "[81]\ttrain-logloss:0.54145\teval-logloss:0.53984\n",
      "[82]\ttrain-logloss:0.54106\teval-logloss:0.53937\n",
      "[83]\ttrain-logloss:0.54056\teval-logloss:0.53882\n",
      "[84]\ttrain-logloss:0.54012\teval-logloss:0.53829\n",
      "[85]\ttrain-logloss:0.53979\teval-logloss:0.53797\n",
      "[86]\ttrain-logloss:0.53944\teval-logloss:0.53749\n",
      "[87]\ttrain-logloss:0.53898\teval-logloss:0.53714\n",
      "[88]\ttrain-logloss:0.53847\teval-logloss:0.53686\n",
      "[89]\ttrain-logloss:0.53770\teval-logloss:0.53607\n",
      "[90]\ttrain-logloss:0.53704\teval-logloss:0.53565\n",
      "[91]\ttrain-logloss:0.53658\teval-logloss:0.53497\n",
      "[92]\ttrain-logloss:0.53609\teval-logloss:0.53442\n",
      "[93]\ttrain-logloss:0.53567\teval-logloss:0.53413\n",
      "[94]\ttrain-logloss:0.53490\teval-logloss:0.53319\n",
      "[95]\ttrain-logloss:0.53436\teval-logloss:0.53251\n",
      "[96]\ttrain-logloss:0.53417\teval-logloss:0.53240\n",
      "[97]\ttrain-logloss:0.53355\teval-logloss:0.53194\n",
      "[98]\ttrain-logloss:0.53334\teval-logloss:0.53177\n",
      "[99]\ttrain-logloss:0.53267\teval-logloss:0.53092\n",
      "[100]\ttrain-logloss:0.53226\teval-logloss:0.53058\n",
      "[101]\ttrain-logloss:0.53165\teval-logloss:0.52983\n",
      "[102]\ttrain-logloss:0.53125\teval-logloss:0.52952\n",
      "[103]\ttrain-logloss:0.53085\teval-logloss:0.52899\n",
      "[104]\ttrain-logloss:0.53005\teval-logloss:0.52785\n",
      "[105]\ttrain-logloss:0.52965\teval-logloss:0.52736\n",
      "[106]\ttrain-logloss:0.52926\teval-logloss:0.52712\n",
      "[107]\ttrain-logloss:0.52910\teval-logloss:0.52680\n",
      "[108]\ttrain-logloss:0.52853\teval-logloss:0.52638\n",
      "[109]\ttrain-logloss:0.52775\teval-logloss:0.52545\n",
      "[110]\ttrain-logloss:0.52720\teval-logloss:0.52491\n",
      "[111]\ttrain-logloss:0.52687\teval-logloss:0.52467\n",
      "[112]\ttrain-logloss:0.52632\teval-logloss:0.52406\n",
      "[113]\ttrain-logloss:0.52571\teval-logloss:0.52332\n",
      "[114]\ttrain-logloss:0.52516\teval-logloss:0.52256\n",
      "[115]\ttrain-logloss:0.52467\teval-logloss:0.52235\n",
      "[116]\ttrain-logloss:0.52423\teval-logloss:0.52187\n",
      "[117]\ttrain-logloss:0.52404\teval-logloss:0.52171\n",
      "[118]\ttrain-logloss:0.52371\teval-logloss:0.52137\n",
      "[119]\ttrain-logloss:0.52342\teval-logloss:0.52116\n",
      "[120]\ttrain-logloss:0.52276\teval-logloss:0.52059\n",
      "[121]\ttrain-logloss:0.52265\teval-logloss:0.52050\n",
      "[122]\ttrain-logloss:0.52242\teval-logloss:0.52033\n",
      "[123]\ttrain-logloss:0.52211\teval-logloss:0.52009\n",
      "[124]\ttrain-logloss:0.52170\teval-logloss:0.51966\n",
      "[125]\ttrain-logloss:0.52133\teval-logloss:0.51929\n",
      "[126]\ttrain-logloss:0.52104\teval-logloss:0.51909\n",
      "[127]\ttrain-logloss:0.52031\teval-logloss:0.51811\n",
      "[128]\ttrain-logloss:0.51983\teval-logloss:0.51772\n",
      "[129]\ttrain-logloss:0.51948\teval-logloss:0.51750\n",
      "[130]\ttrain-logloss:0.51909\teval-logloss:0.51706\n",
      "[131]\ttrain-logloss:0.51857\teval-logloss:0.51666\n",
      "[132]\ttrain-logloss:0.51828\teval-logloss:0.51648\n",
      "[133]\ttrain-logloss:0.51766\teval-logloss:0.51587\n",
      "[134]\ttrain-logloss:0.51694\teval-logloss:0.51508\n",
      "[135]\ttrain-logloss:0.51642\teval-logloss:0.51435\n",
      "[136]\ttrain-logloss:0.51585\teval-logloss:0.51377\n",
      "[137]\ttrain-logloss:0.51557\teval-logloss:0.51338\n",
      "[138]\ttrain-logloss:0.51494\teval-logloss:0.51272\n",
      "[139]\ttrain-logloss:0.51455\teval-logloss:0.51238\n",
      "[140]\ttrain-logloss:0.51416\teval-logloss:0.51209\n",
      "[141]\ttrain-logloss:0.51392\teval-logloss:0.51188\n",
      "[142]\ttrain-logloss:0.51367\teval-logloss:0.51175\n",
      "[143]\ttrain-logloss:0.51332\teval-logloss:0.51114\n",
      "[144]\ttrain-logloss:0.51315\teval-logloss:0.51077\n",
      "[145]\ttrain-logloss:0.51279\teval-logloss:0.51046\n",
      "[146]\ttrain-logloss:0.51224\teval-logloss:0.51013\n",
      "[147]\ttrain-logloss:0.51200\teval-logloss:0.50981\n",
      "[148]\ttrain-logloss:0.51123\teval-logloss:0.50926\n",
      "[149]\ttrain-logloss:0.51046\teval-logloss:0.50863\n",
      "[150]\ttrain-logloss:0.50998\teval-logloss:0.50818\n",
      "[151]\ttrain-logloss:0.50947\teval-logloss:0.50784\n",
      "[152]\ttrain-logloss:0.50891\teval-logloss:0.50726\n",
      "[153]\ttrain-logloss:0.50858\teval-logloss:0.50676\n",
      "[154]\ttrain-logloss:0.50824\teval-logloss:0.50653\n",
      "[155]\ttrain-logloss:0.50782\teval-logloss:0.50593\n",
      "[156]\ttrain-logloss:0.50740\teval-logloss:0.50535\n",
      "[157]\ttrain-logloss:0.50721\teval-logloss:0.50526\n",
      "[158]\ttrain-logloss:0.50704\teval-logloss:0.50503\n",
      "[159]\ttrain-logloss:0.50645\teval-logloss:0.50431\n",
      "[160]\ttrain-logloss:0.50590\teval-logloss:0.50375\n",
      "[161]\ttrain-logloss:0.50515\teval-logloss:0.50284\n"
     ]
    },
    {
     "name": "stdout",
     "output_type": "stream",
     "text": [
      "[162]\ttrain-logloss:0.50463\teval-logloss:0.50246\n",
      "[163]\ttrain-logloss:0.50413\teval-logloss:0.50188\n",
      "[164]\ttrain-logloss:0.50352\teval-logloss:0.50116\n",
      "[165]\ttrain-logloss:0.50298\teval-logloss:0.50039\n",
      "[166]\ttrain-logloss:0.50249\teval-logloss:0.49976\n",
      "[167]\ttrain-logloss:0.50181\teval-logloss:0.49926\n",
      "[168]\ttrain-logloss:0.50141\teval-logloss:0.49895\n",
      "[169]\ttrain-logloss:0.50103\teval-logloss:0.49867\n",
      "[170]\ttrain-logloss:0.50042\teval-logloss:0.49762\n",
      "[171]\ttrain-logloss:0.50008\teval-logloss:0.49728\n",
      "[172]\ttrain-logloss:0.49953\teval-logloss:0.49640\n",
      "[173]\ttrain-logloss:0.49892\teval-logloss:0.49576\n",
      "[174]\ttrain-logloss:0.49869\teval-logloss:0.49543\n",
      "[175]\ttrain-logloss:0.49817\teval-logloss:0.49479\n",
      "[176]\ttrain-logloss:0.49774\teval-logloss:0.49451\n",
      "[177]\ttrain-logloss:0.49730\teval-logloss:0.49404\n",
      "[178]\ttrain-logloss:0.49668\teval-logloss:0.49356\n",
      "[179]\ttrain-logloss:0.49651\teval-logloss:0.49335\n",
      "[180]\ttrain-logloss:0.49601\teval-logloss:0.49287\n",
      "[181]\ttrain-logloss:0.49579\teval-logloss:0.49261\n",
      "[182]\ttrain-logloss:0.49544\teval-logloss:0.49238\n",
      "[183]\ttrain-logloss:0.49506\teval-logloss:0.49201\n",
      "[184]\ttrain-logloss:0.49441\teval-logloss:0.49145\n",
      "[185]\ttrain-logloss:0.49386\teval-logloss:0.49103\n",
      "[186]\ttrain-logloss:0.49370\teval-logloss:0.49085\n",
      "[187]\ttrain-logloss:0.49337\teval-logloss:0.49055\n",
      "[188]\ttrain-logloss:0.49310\teval-logloss:0.49041\n",
      "[189]\ttrain-logloss:0.49291\teval-logloss:0.49029\n",
      "[190]\ttrain-logloss:0.49237\teval-logloss:0.48949\n",
      "[191]\ttrain-logloss:0.49204\teval-logloss:0.48929\n",
      "[192]\ttrain-logloss:0.49144\teval-logloss:0.48849\n",
      "[193]\ttrain-logloss:0.49097\teval-logloss:0.48800\n",
      "[194]\ttrain-logloss:0.49060\teval-logloss:0.48757\n",
      "[195]\ttrain-logloss:0.49008\teval-logloss:0.48705\n",
      "[196]\ttrain-logloss:0.48968\teval-logloss:0.48694\n",
      "[197]\ttrain-logloss:0.48900\teval-logloss:0.48640\n",
      "[198]\ttrain-logloss:0.48844\teval-logloss:0.48578\n",
      "[199]\ttrain-logloss:0.48793\teval-logloss:0.48537\n",
      "[200]\ttrain-logloss:0.48764\teval-logloss:0.48492\n",
      "[201]\ttrain-logloss:0.48743\teval-logloss:0.48463\n",
      "[202]\ttrain-logloss:0.48725\teval-logloss:0.48443\n",
      "[203]\ttrain-logloss:0.48711\teval-logloss:0.48428\n",
      "[204]\ttrain-logloss:0.48650\teval-logloss:0.48361\n",
      "[205]\ttrain-logloss:0.48599\teval-logloss:0.48322\n",
      "[206]\ttrain-logloss:0.48567\teval-logloss:0.48291\n",
      "[207]\ttrain-logloss:0.48515\teval-logloss:0.48244\n",
      "[208]\ttrain-logloss:0.48504\teval-logloss:0.48219\n",
      "[209]\ttrain-logloss:0.48453\teval-logloss:0.48169\n",
      "[210]\ttrain-logloss:0.48407\teval-logloss:0.48121\n",
      "[211]\ttrain-logloss:0.48349\teval-logloss:0.48076\n",
      "[212]\ttrain-logloss:0.48311\teval-logloss:0.48031\n",
      "[213]\ttrain-logloss:0.48300\teval-logloss:0.48019\n",
      "[214]\ttrain-logloss:0.48250\teval-logloss:0.47953\n",
      "[215]\ttrain-logloss:0.48216\teval-logloss:0.47937\n",
      "[216]\ttrain-logloss:0.48173\teval-logloss:0.47882\n",
      "[217]\ttrain-logloss:0.48131\teval-logloss:0.47848\n",
      "[218]\ttrain-logloss:0.48087\teval-logloss:0.47827\n",
      "[219]\ttrain-logloss:0.48057\teval-logloss:0.47807\n",
      "[220]\ttrain-logloss:0.48036\teval-logloss:0.47784\n",
      "[221]\ttrain-logloss:0.48017\teval-logloss:0.47763\n",
      "[222]\ttrain-logloss:0.47991\teval-logloss:0.47746\n",
      "[223]\ttrain-logloss:0.47943\teval-logloss:0.47683\n",
      "[224]\ttrain-logloss:0.47921\teval-logloss:0.47670\n",
      "[225]\ttrain-logloss:0.47874\teval-logloss:0.47647\n",
      "[226]\ttrain-logloss:0.47828\teval-logloss:0.47594\n",
      "[227]\ttrain-logloss:0.47801\teval-logloss:0.47559\n",
      "[228]\ttrain-logloss:0.47763\teval-logloss:0.47532\n",
      "[229]\ttrain-logloss:0.47729\teval-logloss:0.47481\n",
      "[230]\ttrain-logloss:0.47690\teval-logloss:0.47451\n",
      "[231]\ttrain-logloss:0.47654\teval-logloss:0.47440\n",
      "[232]\ttrain-logloss:0.47589\teval-logloss:0.47350\n",
      "[233]\ttrain-logloss:0.47543\teval-logloss:0.47295\n",
      "[234]\ttrain-logloss:0.47496\teval-logloss:0.47262\n",
      "[235]\ttrain-logloss:0.47445\teval-logloss:0.47216\n",
      "[236]\ttrain-logloss:0.47397\teval-logloss:0.47166\n",
      "[237]\ttrain-logloss:0.47359\teval-logloss:0.47160\n",
      "[238]\ttrain-logloss:0.47325\teval-logloss:0.47125\n",
      "[239]\ttrain-logloss:0.47277\teval-logloss:0.47046\n",
      "[240]\ttrain-logloss:0.47251\teval-logloss:0.47022\n",
      "[241]\ttrain-logloss:0.47232\teval-logloss:0.47013\n",
      "[242]\ttrain-logloss:0.47225\teval-logloss:0.47006\n",
      "[243]\ttrain-logloss:0.47199\teval-logloss:0.46998\n",
      "[244]\ttrain-logloss:0.47166\teval-logloss:0.46953\n",
      "[245]\ttrain-logloss:0.47142\teval-logloss:0.46936\n",
      "[246]\ttrain-logloss:0.47092\teval-logloss:0.46886\n",
      "[247]\ttrain-logloss:0.47036\teval-logloss:0.46838\n",
      "[248]\ttrain-logloss:0.47015\teval-logloss:0.46825\n",
      "[249]\ttrain-logloss:0.46997\teval-logloss:0.46814\n",
      "[250]\ttrain-logloss:0.46945\teval-logloss:0.46778\n",
      "[251]\ttrain-logloss:0.46930\teval-logloss:0.46768\n",
      "[252]\ttrain-logloss:0.46884\teval-logloss:0.46715\n",
      "[253]\ttrain-logloss:0.46841\teval-logloss:0.46677\n",
      "[254]\ttrain-logloss:0.46813\teval-logloss:0.46637\n",
      "[255]\ttrain-logloss:0.46790\teval-logloss:0.46613\n",
      "[256]\ttrain-logloss:0.46762\teval-logloss:0.46584\n",
      "[257]\ttrain-logloss:0.46715\teval-logloss:0.46522\n",
      "[258]\ttrain-logloss:0.46680\teval-logloss:0.46469\n",
      "[259]\ttrain-logloss:0.46631\teval-logloss:0.46396\n",
      "[260]\ttrain-logloss:0.46589\teval-logloss:0.46356\n",
      "[261]\ttrain-logloss:0.46546\teval-logloss:0.46323\n",
      "[262]\ttrain-logloss:0.46521\teval-logloss:0.46289\n",
      "[263]\ttrain-logloss:0.46482\teval-logloss:0.46260\n",
      "[264]\ttrain-logloss:0.46459\teval-logloss:0.46227\n",
      "[265]\ttrain-logloss:0.46427\teval-logloss:0.46201\n",
      "[266]\ttrain-logloss:0.46381\teval-logloss:0.46155\n",
      "[267]\ttrain-logloss:0.46360\teval-logloss:0.46132\n",
      "[268]\ttrain-logloss:0.46338\teval-logloss:0.46103\n",
      "[269]\ttrain-logloss:0.46315\teval-logloss:0.46097\n",
      "[270]\ttrain-logloss:0.46299\teval-logloss:0.46069\n",
      "[271]\ttrain-logloss:0.46249\teval-logloss:0.46028\n",
      "[272]\ttrain-logloss:0.46230\teval-logloss:0.45994\n",
      "[273]\ttrain-logloss:0.46178\teval-logloss:0.45935\n",
      "[274]\ttrain-logloss:0.46151\teval-logloss:0.45899\n",
      "[275]\ttrain-logloss:0.46136\teval-logloss:0.45880\n",
      "[276]\ttrain-logloss:0.46106\teval-logloss:0.45853\n",
      "[277]\ttrain-logloss:0.46073\teval-logloss:0.45826\n",
      "[278]\ttrain-logloss:0.46064\teval-logloss:0.45817\n",
      "[279]\ttrain-logloss:0.46030\teval-logloss:0.45784\n",
      "[280]\ttrain-logloss:0.45998\teval-logloss:0.45766\n",
      "[281]\ttrain-logloss:0.45956\teval-logloss:0.45749\n",
      "[282]\ttrain-logloss:0.45928\teval-logloss:0.45731\n",
      "[283]\ttrain-logloss:0.45891\teval-logloss:0.45681\n",
      "[284]\ttrain-logloss:0.45843\teval-logloss:0.45658\n",
      "[285]\ttrain-logloss:0.45795\teval-logloss:0.45593\n",
      "[286]\ttrain-logloss:0.45773\teval-logloss:0.45572\n",
      "[287]\ttrain-logloss:0.45729\teval-logloss:0.45507\n",
      "[288]\ttrain-logloss:0.45720\teval-logloss:0.45500\n",
      "[289]\ttrain-logloss:0.45699\teval-logloss:0.45459\n",
      "[290]\ttrain-logloss:0.45669\teval-logloss:0.45442\n",
      "[291]\ttrain-logloss:0.45625\teval-logloss:0.45395\n",
      "[292]\ttrain-logloss:0.45571\teval-logloss:0.45334\n",
      "[293]\ttrain-logloss:0.45527\teval-logloss:0.45274\n",
      "[294]\ttrain-logloss:0.45489\teval-logloss:0.45241\n",
      "[295]\ttrain-logloss:0.45460\teval-logloss:0.45213\n",
      "[296]\ttrain-logloss:0.45414\teval-logloss:0.45157\n",
      "[297]\ttrain-logloss:0.45372\teval-logloss:0.45103\n",
      "[298]\ttrain-logloss:0.45344\teval-logloss:0.45095\n",
      "[299]\ttrain-logloss:0.45314\teval-logloss:0.45072\n",
      "[300]\ttrain-logloss:0.45290\teval-logloss:0.45048\n",
      "[301]\ttrain-logloss:0.45276\teval-logloss:0.45031\n",
      "[302]\ttrain-logloss:0.45247\teval-logloss:0.45006\n",
      "[303]\ttrain-logloss:0.45215\teval-logloss:0.44957\n",
      "[304]\ttrain-logloss:0.45176\teval-logloss:0.44904\n",
      "[305]\ttrain-logloss:0.45117\teval-logloss:0.44837\n",
      "[306]\ttrain-logloss:0.45055\teval-logloss:0.44804\n",
      "[307]\ttrain-logloss:0.45037\teval-logloss:0.44790\n",
      "[308]\ttrain-logloss:0.45022\teval-logloss:0.44781\n",
      "[309]\ttrain-logloss:0.45003\teval-logloss:0.44760\n",
      "[310]\ttrain-logloss:0.44961\teval-logloss:0.44725\n",
      "[311]\ttrain-logloss:0.44941\teval-logloss:0.44707\n",
      "[312]\ttrain-logloss:0.44931\teval-logloss:0.44692\n",
      "[313]\ttrain-logloss:0.44901\teval-logloss:0.44670\n",
      "[314]\ttrain-logloss:0.44889\teval-logloss:0.44657\n",
      "[315]\ttrain-logloss:0.44840\teval-logloss:0.44591\n",
      "[316]\ttrain-logloss:0.44806\teval-logloss:0.44543\n",
      "[317]\ttrain-logloss:0.44762\teval-logloss:0.44525\n",
      "[318]\ttrain-logloss:0.44723\teval-logloss:0.44473\n",
      "[319]\ttrain-logloss:0.44678\teval-logloss:0.44415\n",
      "[320]\ttrain-logloss:0.44660\teval-logloss:0.44398\n",
      "[321]\ttrain-logloss:0.44637\teval-logloss:0.44380\n",
      "[322]\ttrain-logloss:0.44592\teval-logloss:0.44335\n",
      "[323]\ttrain-logloss:0.44541\teval-logloss:0.44296\n",
      "[324]\ttrain-logloss:0.44485\teval-logloss:0.44242\n",
      "[325]\ttrain-logloss:0.44446\teval-logloss:0.44190\n",
      "[326]\ttrain-logloss:0.44406\teval-logloss:0.44136\n",
      "[327]\ttrain-logloss:0.44380\teval-logloss:0.44112\n",
      "[328]\ttrain-logloss:0.44354\teval-logloss:0.44094\n",
      "[329]\ttrain-logloss:0.44315\teval-logloss:0.44053\n"
     ]
    },
    {
     "name": "stdout",
     "output_type": "stream",
     "text": [
      "[330]\ttrain-logloss:0.44271\teval-logloss:0.44012\n",
      "[331]\ttrain-logloss:0.44225\teval-logloss:0.43955\n",
      "[332]\ttrain-logloss:0.44205\teval-logloss:0.43933\n",
      "[333]\ttrain-logloss:0.44189\teval-logloss:0.43914\n",
      "[334]\ttrain-logloss:0.44175\teval-logloss:0.43900\n",
      "[335]\ttrain-logloss:0.44156\teval-logloss:0.43880\n",
      "[336]\ttrain-logloss:0.44110\teval-logloss:0.43807\n",
      "[337]\ttrain-logloss:0.44077\teval-logloss:0.43772\n",
      "[338]\ttrain-logloss:0.44030\teval-logloss:0.43716\n",
      "[339]\ttrain-logloss:0.43989\teval-logloss:0.43668\n",
      "[340]\ttrain-logloss:0.43943\teval-logloss:0.43611\n",
      "[341]\ttrain-logloss:0.43904\teval-logloss:0.43581\n",
      "[342]\ttrain-logloss:0.43861\teval-logloss:0.43544\n",
      "[343]\ttrain-logloss:0.43837\teval-logloss:0.43504\n",
      "[344]\ttrain-logloss:0.43799\teval-logloss:0.43474\n",
      "[345]\ttrain-logloss:0.43777\teval-logloss:0.43457\n",
      "[346]\ttrain-logloss:0.43728\teval-logloss:0.43422\n",
      "[347]\ttrain-logloss:0.43707\teval-logloss:0.43405\n",
      "[348]\ttrain-logloss:0.43697\teval-logloss:0.43393\n",
      "[349]\ttrain-logloss:0.43687\teval-logloss:0.43382\n",
      "[350]\ttrain-logloss:0.43667\teval-logloss:0.43370\n",
      "[351]\ttrain-logloss:0.43642\teval-logloss:0.43345\n",
      "[352]\ttrain-logloss:0.43621\teval-logloss:0.43329\n",
      "[353]\ttrain-logloss:0.43595\teval-logloss:0.43303\n",
      "[354]\ttrain-logloss:0.43563\teval-logloss:0.43263\n",
      "[355]\ttrain-logloss:0.43514\teval-logloss:0.43234\n",
      "[356]\ttrain-logloss:0.43504\teval-logloss:0.43225\n",
      "[357]\ttrain-logloss:0.43481\teval-logloss:0.43212\n",
      "[358]\ttrain-logloss:0.43462\teval-logloss:0.43196\n",
      "[359]\ttrain-logloss:0.43438\teval-logloss:0.43169\n",
      "[360]\ttrain-logloss:0.43418\teval-logloss:0.43160\n",
      "[361]\ttrain-logloss:0.43393\teval-logloss:0.43140\n",
      "[362]\ttrain-logloss:0.43387\teval-logloss:0.43138\n",
      "[363]\ttrain-logloss:0.43370\teval-logloss:0.43114\n",
      "[364]\ttrain-logloss:0.43356\teval-logloss:0.43100\n",
      "[365]\ttrain-logloss:0.43330\teval-logloss:0.43069\n",
      "[366]\ttrain-logloss:0.43289\teval-logloss:0.43023\n",
      "[367]\ttrain-logloss:0.43243\teval-logloss:0.42970\n",
      "[368]\ttrain-logloss:0.43216\teval-logloss:0.42930\n",
      "[369]\ttrain-logloss:0.43207\teval-logloss:0.42920\n",
      "[370]\ttrain-logloss:0.43188\teval-logloss:0.42897\n",
      "[371]\ttrain-logloss:0.43173\teval-logloss:0.42867\n",
      "[372]\ttrain-logloss:0.43140\teval-logloss:0.42845\n",
      "[373]\ttrain-logloss:0.43123\teval-logloss:0.42834\n",
      "[374]\ttrain-logloss:0.43099\teval-logloss:0.42807\n",
      "[375]\ttrain-logloss:0.43063\teval-logloss:0.42779\n",
      "[376]\ttrain-logloss:0.43019\teval-logloss:0.42735\n",
      "[377]\ttrain-logloss:0.42972\teval-logloss:0.42691\n",
      "[378]\ttrain-logloss:0.42948\teval-logloss:0.42668\n",
      "[379]\ttrain-logloss:0.42921\teval-logloss:0.42644\n",
      "[380]\ttrain-logloss:0.42891\teval-logloss:0.42625\n",
      "[381]\ttrain-logloss:0.42853\teval-logloss:0.42568\n",
      "[382]\ttrain-logloss:0.42812\teval-logloss:0.42519\n",
      "[383]\ttrain-logloss:0.42772\teval-logloss:0.42470\n",
      "[384]\ttrain-logloss:0.42767\teval-logloss:0.42466\n",
      "[385]\ttrain-logloss:0.42731\teval-logloss:0.42417\n",
      "[386]\ttrain-logloss:0.42711\teval-logloss:0.42396\n",
      "[387]\ttrain-logloss:0.42703\teval-logloss:0.42388\n",
      "[388]\ttrain-logloss:0.42682\teval-logloss:0.42365\n",
      "[389]\ttrain-logloss:0.42656\teval-logloss:0.42341\n",
      "[390]\ttrain-logloss:0.42610\teval-logloss:0.42290\n",
      "[391]\ttrain-logloss:0.42577\teval-logloss:0.42265\n",
      "[392]\ttrain-logloss:0.42564\teval-logloss:0.42262\n",
      "[393]\ttrain-logloss:0.42550\teval-logloss:0.42266\n",
      "[394]\ttrain-logloss:0.42521\teval-logloss:0.42227\n",
      "[395]\ttrain-logloss:0.42490\teval-logloss:0.42188\n",
      "[396]\ttrain-logloss:0.42471\teval-logloss:0.42177\n",
      "[397]\ttrain-logloss:0.42463\teval-logloss:0.42170\n",
      "[398]\ttrain-logloss:0.42428\teval-logloss:0.42140\n",
      "[399]\ttrain-logloss:0.42379\teval-logloss:0.42114\n"
     ]
    }
   ],
   "source": [
    "# train 데이터 세트는 'train', evaluation(test) 데이터 세트는 'eval'로 명기\n",
    "wlist = [(dtrain, 'train'),(dtest, 'eval')]\n",
    "# 하이퍼 파라미터와 early stoppinig 파라미터를 train() 함수의 파라미터로 전달\n",
    "xgb_model = xgb.train(params=params, dtrain=dtrain, num_boost_round=num_rounds, evals=wlist)"
   ]
  },
  {
   "cell_type": "code",
   "execution_count": 74,
   "metadata": {},
   "outputs": [
    {
     "name": "stdout",
     "output_type": "stream",
     "text": [
      "predict() 수행 결과값을 10개만 표시, 예측 확률값으로 표시됨\n",
      "[0.876 0.128 0.209 0.12  0.524 0.272 0.835 0.39  0.747 0.239]\n"
     ]
    }
   ],
   "source": [
    "pred_probs = xgb_model.predict(dtest)\n",
    "print('predict() 수행 결과값을 10개만 표시, 예측 확률값으로 표시됨')\n",
    "print(np.round(pred_probs[:10], 3))\n",
    "\n",
    "preds = [1 if x > 0.4 else 0 for x in pred_probs]"
   ]
  },
  {
   "cell_type": "code",
   "execution_count": 75,
   "metadata": {},
   "outputs": [],
   "source": [
    "from sklearn.metrics import accuracy_score, recall_score, precision_score, confusion_matrix\n",
    "def get_clf_eval(Y_test, pred):\n",
    "    confusion = confusion_matrix(Y_test, pred)\n",
    "    accuracy = accuracy_score(Y_test, pred)\n",
    "    precision = precision_score(Y_test, pred)\n",
    "    recall = recall_score(Y_test, pred)\n",
    "    print('오차행렬')\n",
    "    print(confusion)\n",
    "    print('정확도: {0:.4f}, 정밀도: {1:.4f}, 재현율: {2:.4f}'.format(accuracy, precision, recall))"
   ]
  },
  {
   "cell_type": "code",
   "execution_count": 76,
   "metadata": {},
   "outputs": [
    {
     "name": "stdout",
     "output_type": "stream",
     "text": [
      "오차행렬\n",
      "[[812  60]\n",
      " [122 256]]\n",
      "정확도: 0.8544, 정밀도: 0.8101, 재현율: 0.6772\n"
     ]
    }
   ],
   "source": [
    "get_clf_eval(Y_test, preds)"
   ]
  },
  {
   "cell_type": "markdown",
   "metadata": {},
   "source": [
    "# LightGBM"
   ]
  },
  {
   "cell_type": "code",
   "execution_count": 77,
   "metadata": {},
   "outputs": [
    {
     "data": {
      "text/plain": [
       "Index([      '구매건수',    '평균할부개월수',       '내점일수',  '수입상품_구매비율',     '주말방문비율',\n",
       "          '가을_구매건수',    '겨울_구매건수',     '봄_구매건수',    '여름_구매건수',    '아침_구매건수',\n",
       "       ...\n",
       "         '겨울구매건수비율',     '아침매출비중',     '점심매출비중',     '저녁매출비중',      '봄매출비중',\n",
       "           '여름매출비중',     '가을매출비중',     '겨울매출비중',  '총구매액-백만단위', '평균구매가격-만단위'],\n",
       "      dtype='object', length=154)"
      ]
     },
     "execution_count": 77,
     "metadata": {},
     "output_type": "execute_result"
    }
   ],
   "source": [
    "dtX.columns"
   ]
  },
  {
   "cell_type": "code",
   "execution_count": 78,
   "metadata": {},
   "outputs": [
    {
     "name": "stdout",
     "output_type": "stream",
     "text": [
      "[1]\tvalid_0's binary_logloss: 0.602824\tvalid_0's binary_logloss: 0.602824\n",
      "Training until validation scores don't improve for 100 rounds.\n",
      "[2]\tvalid_0's binary_logloss: 0.595603\tvalid_0's binary_logloss: 0.595603\n",
      "[3]\tvalid_0's binary_logloss: 0.589021\tvalid_0's binary_logloss: 0.589021\n",
      "[4]\tvalid_0's binary_logloss: 0.582816\tvalid_0's binary_logloss: 0.582816\n",
      "[5]\tvalid_0's binary_logloss: 0.577713\tvalid_0's binary_logloss: 0.577713\n",
      "[6]\tvalid_0's binary_logloss: 0.571385\tvalid_0's binary_logloss: 0.571385\n",
      "[7]\tvalid_0's binary_logloss: 0.56581\tvalid_0's binary_logloss: 0.56581\n",
      "[8]\tvalid_0's binary_logloss: 0.56075\tvalid_0's binary_logloss: 0.56075\n",
      "[9]\tvalid_0's binary_logloss: 0.555771\tvalid_0's binary_logloss: 0.555771\n",
      "[10]\tvalid_0's binary_logloss: 0.551196\tvalid_0's binary_logloss: 0.551196\n",
      "[11]\tvalid_0's binary_logloss: 0.5473\tvalid_0's binary_logloss: 0.5473\n",
      "[12]\tvalid_0's binary_logloss: 0.543373\tvalid_0's binary_logloss: 0.543373\n",
      "[13]\tvalid_0's binary_logloss: 0.5384\tvalid_0's binary_logloss: 0.5384\n",
      "[14]\tvalid_0's binary_logloss: 0.533572\tvalid_0's binary_logloss: 0.533572\n",
      "[15]\tvalid_0's binary_logloss: 0.529574\tvalid_0's binary_logloss: 0.529574\n",
      "[16]\tvalid_0's binary_logloss: 0.526185\tvalid_0's binary_logloss: 0.526185\n",
      "[17]\tvalid_0's binary_logloss: 0.522077\tvalid_0's binary_logloss: 0.522077\n",
      "[18]\tvalid_0's binary_logloss: 0.518016\tvalid_0's binary_logloss: 0.518016\n",
      "[19]\tvalid_0's binary_logloss: 0.514126\tvalid_0's binary_logloss: 0.514126\n",
      "[20]\tvalid_0's binary_logloss: 0.510269\tvalid_0's binary_logloss: 0.510269\n",
      "[21]\tvalid_0's binary_logloss: 0.5067\tvalid_0's binary_logloss: 0.5067\n",
      "[22]\tvalid_0's binary_logloss: 0.502617\tvalid_0's binary_logloss: 0.502617\n",
      "[23]\tvalid_0's binary_logloss: 0.50037\tvalid_0's binary_logloss: 0.50037\n",
      "[24]\tvalid_0's binary_logloss: 0.497804\tvalid_0's binary_logloss: 0.497804\n",
      "[25]\tvalid_0's binary_logloss: 0.49483\tvalid_0's binary_logloss: 0.49483\n",
      "[26]\tvalid_0's binary_logloss: 0.491552\tvalid_0's binary_logloss: 0.491552\n",
      "[27]\tvalid_0's binary_logloss: 0.489317\tvalid_0's binary_logloss: 0.489317\n",
      "[28]\tvalid_0's binary_logloss: 0.485856\tvalid_0's binary_logloss: 0.485856\n",
      "[29]\tvalid_0's binary_logloss: 0.48351\tvalid_0's binary_logloss: 0.48351\n",
      "[30]\tvalid_0's binary_logloss: 0.481513\tvalid_0's binary_logloss: 0.481513\n",
      "[31]\tvalid_0's binary_logloss: 0.479134\tvalid_0's binary_logloss: 0.479134\n",
      "[32]\tvalid_0's binary_logloss: 0.476398\tvalid_0's binary_logloss: 0.476398\n",
      "[33]\tvalid_0's binary_logloss: 0.474412\tvalid_0's binary_logloss: 0.474412\n",
      "[34]\tvalid_0's binary_logloss: 0.472365\tvalid_0's binary_logloss: 0.472365\n",
      "[35]\tvalid_0's binary_logloss: 0.469935\tvalid_0's binary_logloss: 0.469935\n",
      "[36]\tvalid_0's binary_logloss: 0.466701\tvalid_0's binary_logloss: 0.466701\n",
      "[37]\tvalid_0's binary_logloss: 0.464608\tvalid_0's binary_logloss: 0.464608\n",
      "[38]\tvalid_0's binary_logloss: 0.462504\tvalid_0's binary_logloss: 0.462504\n",
      "[39]\tvalid_0's binary_logloss: 0.4599\tvalid_0's binary_logloss: 0.4599\n",
      "[40]\tvalid_0's binary_logloss: 0.457158\tvalid_0's binary_logloss: 0.457158\n",
      "[41]\tvalid_0's binary_logloss: 0.454901\tvalid_0's binary_logloss: 0.454901\n",
      "[42]\tvalid_0's binary_logloss: 0.451809\tvalid_0's binary_logloss: 0.451809\n",
      "[43]\tvalid_0's binary_logloss: 0.449168\tvalid_0's binary_logloss: 0.449168\n",
      "[44]\tvalid_0's binary_logloss: 0.445886\tvalid_0's binary_logloss: 0.445886\n",
      "[45]\tvalid_0's binary_logloss: 0.443484\tvalid_0's binary_logloss: 0.443484\n",
      "[46]\tvalid_0's binary_logloss: 0.440757\tvalid_0's binary_logloss: 0.440757\n",
      "[47]\tvalid_0's binary_logloss: 0.438245\tvalid_0's binary_logloss: 0.438245\n",
      "[48]\tvalid_0's binary_logloss: 0.435931\tvalid_0's binary_logloss: 0.435931\n",
      "[49]\tvalid_0's binary_logloss: 0.433909\tvalid_0's binary_logloss: 0.433909\n",
      "[50]\tvalid_0's binary_logloss: 0.431525\tvalid_0's binary_logloss: 0.431525\n",
      "[51]\tvalid_0's binary_logloss: 0.429313\tvalid_0's binary_logloss: 0.429313\n",
      "[52]\tvalid_0's binary_logloss: 0.42679\tvalid_0's binary_logloss: 0.42679\n",
      "[53]\tvalid_0's binary_logloss: 0.424126\tvalid_0's binary_logloss: 0.424126\n",
      "[54]\tvalid_0's binary_logloss: 0.4211\tvalid_0's binary_logloss: 0.4211\n",
      "[55]\tvalid_0's binary_logloss: 0.419162\tvalid_0's binary_logloss: 0.419162\n",
      "[56]\tvalid_0's binary_logloss: 0.416766\tvalid_0's binary_logloss: 0.416766\n",
      "[57]\tvalid_0's binary_logloss: 0.414582\tvalid_0's binary_logloss: 0.414582\n",
      "[58]\tvalid_0's binary_logloss: 0.412446\tvalid_0's binary_logloss: 0.412446\n",
      "[59]\tvalid_0's binary_logloss: 0.410683\tvalid_0's binary_logloss: 0.410683\n",
      "[60]\tvalid_0's binary_logloss: 0.408231\tvalid_0's binary_logloss: 0.408231\n",
      "[61]\tvalid_0's binary_logloss: 0.404879\tvalid_0's binary_logloss: 0.404879\n",
      "[62]\tvalid_0's binary_logloss: 0.402033\tvalid_0's binary_logloss: 0.402033\n",
      "[63]\tvalid_0's binary_logloss: 0.399091\tvalid_0's binary_logloss: 0.399091\n",
      "[64]\tvalid_0's binary_logloss: 0.397443\tvalid_0's binary_logloss: 0.397443\n",
      "[65]\tvalid_0's binary_logloss: 0.395551\tvalid_0's binary_logloss: 0.395551\n",
      "[66]\tvalid_0's binary_logloss: 0.393862\tvalid_0's binary_logloss: 0.393862\n",
      "[67]\tvalid_0's binary_logloss: 0.392288\tvalid_0's binary_logloss: 0.392288\n",
      "[68]\tvalid_0's binary_logloss: 0.390607\tvalid_0's binary_logloss: 0.390607\n",
      "[69]\tvalid_0's binary_logloss: 0.38844\tvalid_0's binary_logloss: 0.38844\n",
      "[70]\tvalid_0's binary_logloss: 0.386236\tvalid_0's binary_logloss: 0.386236\n",
      "[71]\tvalid_0's binary_logloss: 0.384499\tvalid_0's binary_logloss: 0.384499\n",
      "[72]\tvalid_0's binary_logloss: 0.382574\tvalid_0's binary_logloss: 0.382574\n",
      "[73]\tvalid_0's binary_logloss: 0.380228\tvalid_0's binary_logloss: 0.380228\n",
      "[74]\tvalid_0's binary_logloss: 0.378218\tvalid_0's binary_logloss: 0.378218\n",
      "[75]\tvalid_0's binary_logloss: 0.376524\tvalid_0's binary_logloss: 0.376524\n",
      "[76]\tvalid_0's binary_logloss: 0.374794\tvalid_0's binary_logloss: 0.374794\n",
      "[77]\tvalid_0's binary_logloss: 0.372841\tvalid_0's binary_logloss: 0.372841\n",
      "[78]\tvalid_0's binary_logloss: 0.371175\tvalid_0's binary_logloss: 0.371175\n",
      "[79]\tvalid_0's binary_logloss: 0.368855\tvalid_0's binary_logloss: 0.368855\n",
      "[80]\tvalid_0's binary_logloss: 0.367278\tvalid_0's binary_logloss: 0.367278\n",
      "[81]\tvalid_0's binary_logloss: 0.365534\tvalid_0's binary_logloss: 0.365534\n",
      "[82]\tvalid_0's binary_logloss: 0.363459\tvalid_0's binary_logloss: 0.363459\n",
      "[83]\tvalid_0's binary_logloss: 0.3618\tvalid_0's binary_logloss: 0.3618\n",
      "[84]\tvalid_0's binary_logloss: 0.359946\tvalid_0's binary_logloss: 0.359946\n",
      "[85]\tvalid_0's binary_logloss: 0.358079\tvalid_0's binary_logloss: 0.358079\n",
      "[86]\tvalid_0's binary_logloss: 0.356184\tvalid_0's binary_logloss: 0.356184\n",
      "[87]\tvalid_0's binary_logloss: 0.354384\tvalid_0's binary_logloss: 0.354384\n",
      "[88]\tvalid_0's binary_logloss: 0.352413\tvalid_0's binary_logloss: 0.352413\n",
      "[89]\tvalid_0's binary_logloss: 0.350651\tvalid_0's binary_logloss: 0.350651\n",
      "[90]\tvalid_0's binary_logloss: 0.349052\tvalid_0's binary_logloss: 0.349052\n",
      "[91]\tvalid_0's binary_logloss: 0.34762\tvalid_0's binary_logloss: 0.34762\n",
      "[92]\tvalid_0's binary_logloss: 0.346552\tvalid_0's binary_logloss: 0.346552\n",
      "[93]\tvalid_0's binary_logloss: 0.345024\tvalid_0's binary_logloss: 0.345024\n",
      "[94]\tvalid_0's binary_logloss: 0.343294\tvalid_0's binary_logloss: 0.343294\n",
      "[95]\tvalid_0's binary_logloss: 0.341422\tvalid_0's binary_logloss: 0.341422\n",
      "[96]\tvalid_0's binary_logloss: 0.339554\tvalid_0's binary_logloss: 0.339554\n",
      "[97]\tvalid_0's binary_logloss: 0.337925\tvalid_0's binary_logloss: 0.337925\n",
      "[98]\tvalid_0's binary_logloss: 0.335991\tvalid_0's binary_logloss: 0.335991\n",
      "[99]\tvalid_0's binary_logloss: 0.334631\tvalid_0's binary_logloss: 0.334631\n",
      "[100]\tvalid_0's binary_logloss: 0.333167\tvalid_0's binary_logloss: 0.333167\n",
      "Did not meet early stopping. Best iteration is:\n",
      "[100]\tvalid_0's binary_logloss: 0.333167\tvalid_0's binary_logloss: 0.333167\n"
     ]
    }
   ],
   "source": [
    "from lightgbm import LGBMClassifier\n",
    "lgbm_wrapper = LGBMClassifier(nestimators=400)\n",
    "evals = [(X_test, Y_test)]\n",
    "lgbm_wrapper.fit(dtX, dtY, early_stopping_rounds=100, \n",
    "                 eval_metric=\"logloss\", eval_set=evals, verbose=True)\n",
    "pred = lgbm_wrapper.predict(X_test)"
   ]
  },
  {
   "cell_type": "code",
   "execution_count": 79,
   "metadata": {
    "scrolled": true
   },
   "outputs": [
    {
     "name": "stdout",
     "output_type": "stream",
     "text": [
      "오차행렬\n",
      "[[812  60]\n",
      " [122 256]]\n",
      "정확도: 0.8544, 정밀도: 0.8101, 재현율: 0.6772\n"
     ]
    }
   ],
   "source": [
    "get_clf_eval(Y_test, preds)"
   ]
  },
  {
   "cell_type": "markdown",
   "metadata": {},
   "source": [
    "# PR curve"
   ]
  },
  {
   "cell_type": "code",
   "execution_count": 80,
   "metadata": {
    "scrolled": true
   },
   "outputs": [],
   "source": [
    "from sklearn.metrics import precision_recall_curve"
   ]
  },
  {
   "cell_type": "code",
   "execution_count": 81,
   "metadata": {},
   "outputs": [],
   "source": [
    "def plot_precision_recall_curve(precisions, recalls) :\n",
    "    plt.plot(recalls, precisions, color='blue')\n",
    "    plt.axis([0,1,0,1])\n",
    "    plt.xlabel('Recall')\n",
    "    plt.ylabel('Precision')\n",
    "    plt.title('PR curve')"
   ]
  },
  {
   "cell_type": "code",
   "execution_count": 82,
   "metadata": {},
   "outputs": [],
   "source": [
    "precisions, recalls, _ = precision_recall_curve(Y_test, \n",
    "                                    clf.predict_proba(X_test)[:,1])"
   ]
  },
  {
   "cell_type": "code",
   "execution_count": 83,
   "metadata": {},
   "outputs": [
    {
     "data": {
      "text/plain": [
       "array([0.3024    , 0.59173554, 0.5920398 , 1.        ])"
      ]
     },
     "execution_count": 83,
     "metadata": {},
     "output_type": "execute_result"
    }
   ],
   "source": [
    "precisions"
   ]
  },
  {
   "cell_type": "code",
   "execution_count": 84,
   "metadata": {},
   "outputs": [
    {
     "data": {
      "text/plain": [
       "array([1.        , 0.94708995, 0.94444444, 0.        ])"
      ]
     },
     "execution_count": 84,
     "metadata": {},
     "output_type": "execute_result"
    }
   ],
   "source": [
    "recalls"
   ]
  },
  {
   "cell_type": "code",
   "execution_count": 85,
   "metadata": {},
   "outputs": [
    {
     "data": {
      "text/plain": [
       "array([0. , 0.5, 1. ])"
      ]
     },
     "execution_count": 85,
     "metadata": {},
     "output_type": "execute_result"
    }
   ],
   "source": [
    "_"
   ]
  },
  {
   "cell_type": "code",
   "execution_count": 86,
   "metadata": {},
   "outputs": [
    {
     "data": {
      "image/png": "[encoded data removed]",
      "text/plain": [
       "<Figure size 432x288 with 1 Axes>"
      ]
     },
     "metadata": {
      "needs_background": "light"
     },
     "output_type": "display_data"
    }
   ],
   "source": [
    "plot_precision_recall_curve(precisions, recalls)"
   ]
  },
  {
   "cell_type": "code",
   "execution_count": 87,
   "metadata": {},
   "outputs": [],
   "source": [
    "from sklearn.metrics import roc_curve\n",
    "from sklearn.metrics import auc"
   ]
  },
  {
   "cell_type": "code",
   "execution_count": 88,
   "metadata": {},
   "outputs": [
    {
     "data": {
      "text/plain": [
       "0.8320849109266539"
      ]
     },
     "execution_count": 88,
     "metadata": {},
     "output_type": "execute_result"
    }
   ],
   "source": [
    "fpr, tpr, _ = roc_curve(Y_test, clf.predict_proba(X_test)[:,1])\n",
    "auc(fpr, tpr)"
   ]
  },
  {
   "cell_type": "code",
   "execution_count": 89,
   "metadata": {},
   "outputs": [],
   "source": [
    "def plot_roc_curve(fpr, tpr, model, color=None) :\n",
    "    model = model + ' (auc = %0.3f)' % auc(fpr, tpr)\n",
    "    plt.plot(fpr, tpr, label=model, color=color)\n",
    "    plt.plot([0, 1], [0, 1], color='navy', linestyle='--')\n",
    "    plt.axis([0,1,0,1])\n",
    "    plt.xlabel('FPR (1 - specificity)')\n",
    "    plt.ylabel('TPR (recall)')\n",
    "    plt.title('ROC curve')\n",
    "    plt.legend(loc=\"lower right\")"
   ]
  },
  {
   "cell_type": "code",
   "execution_count": 90,
   "metadata": {},
   "outputs": [
    {
     "data": {
      "image/png": "[encoded data removed]",
      "text/plain": [
       "<Figure size 432x288 with 1 Axes>"
      ]
     },
     "metadata": {
      "needs_background": "light"
     },
     "output_type": "display_data"
    }
   ],
   "source": [
    "fpr_dummy, tpr_dummy, _ = roc_curve(Y_test, \n",
    "                                    dummy.predict_proba(X_test)[:,1])\n",
    "plot_roc_curve(fpr_dummy, tpr_dummy, 'dummy model', 'hotpink')\n",
    "fpr_tree, tpr_tree, _ = roc_curve(Y_test, \n",
    "                                  clf.predict_proba(X_test)[:,1])\n",
    "plot_roc_curve(fpr_tree, tpr_tree, 'decision tree', 'darkgreen')"
   ]
  },
  {
   "cell_type": "code",
   "execution_count": 91,
   "metadata": {},
   "outputs": [],
   "source": [
    "# import seaborn as sns"
   ]
  },
  {
   "cell_type": "code",
   "execution_count": 92,
   "metadata": {
    "scrolled": false
   },
   "outputs": [],
   "source": [
    "# plt.rcParams['figure.figsize'] = [50, 50]\n",
    "# plt.rc('font', family='Malgun Gothic')\n",
    "# sns.heatmap(departmentstore_train.corr(), annot=True)"
   ]
  },
  {
   "cell_type": "code",
   "execution_count": 93,
   "metadata": {},
   "outputs": [],
   "source": [
    "# plt.rc('font', family='Malgun Gothic')\n",
    "# departmentstore_train.hist(bins=30, figsize=(30,20))"
   ]
  },
  {
   "cell_type": "code",
   "execution_count": 94,
   "metadata": {},
   "outputs": [],
   "source": [
    "# departmentstore_train.groupby(['gender'])['평균할부개월수'].mean()"
   ]
  },
  {
   "cell_type": "code",
   "execution_count": 95,
   "metadata": {},
   "outputs": [],
   "source": [
    "# plt.rcParams[\"figure.figsize\"] = (8,8) #그래프 크기설정\n",
    "# plt.figure() #그래프 설정 시작\n",
    "# #막대그래프 표현\n",
    "# plt.bar(departmentstore_train['gender'],departmentstore_train['평균할부개월수'].mean(),label='평균할부개월수')\n",
    "# plt.legend() #범주 표시\n",
    "# plt.xlabel('성별') #x축 라벨 설정\n",
    "# plt.ylabel('평균할부개월수') #y축 라벨 설정\n",
    "# plt.ylim(0,2) #데이터축 범위 설정\n",
    "# plt.title(\"성별 평균할부개월수\") #그래프 제목 설정\n",
    "# plt.xticks(departmentstore_train['gender'])#x축 값에 맞게 값이 설정?\n",
    "# plt.grid()\n",
    "# plt.text(1)"
   ]
  },
  {
   "cell_type": "code",
   "execution_count": 96,
   "metadata": {},
   "outputs": [],
   "source": [
    "# for i, v in enumerate(departmentstore_train['평균할부개월수']):\n",
    "#     print(i,v)"
   ]
  },
  {
   "cell_type": "code",
   "execution_count": 17,
   "metadata": {},
   "outputs": [],
   "source": [
    "# \"\"\"for i, v in enumerate(departmentstore_train['평균할부개월수']):\n",
    "#     st\"\"\""
   ]
  },
  {
   "cell_type": "code",
   "execution_count": null,
   "metadata": {},
   "outputs": [],
   "source": []
  }
 ],
 "metadata": {
  "kernelspec": {
   "display_name": "Python 3",
   "language": "python",
   "name": "python3"
  },
  "language_info": {
   "codemirror_mode": {
    "name": "ipython",
    "version": 3
   },
   "file_extension": ".py",
   "mimetype": "text/x-python",
   "name": "python",
   "nbconvert_exporter": "python",
   "pygments_lexer": "ipython3",
   "version": "3.8.5"
  }
 },
 "nbformat": 4,
 "nbformat_minor": 4
}
