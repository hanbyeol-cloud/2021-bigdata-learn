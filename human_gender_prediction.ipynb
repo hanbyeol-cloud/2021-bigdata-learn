{
 "cells": [
  {
   "cell_type": "code",
   "execution_count": 1,
   "metadata": {},
   "outputs": [],
   "source": [
    "import pandas as pd\n",
    "import numpy as np\n",
    "import matplotlib.pyplot as plt\n",
    "%matplotlib inline\n",
    "from sklearn.model_selection import train_test_split\n",
    "from sklearn.linear_model import LogisticRegression\n",
    "from sklearn.neighbors import KNeighborsClassifier\n",
    "from sklearn.model_selection import cross_val_score\n",
    "from sklearn.preprocessing import MinMaxScaler\n",
    "from sklearn.preprocessing import StandardScaler\n",
    "from imblearn.combine import *\n",
    "from imblearn.combine import *\n",
    "from sklearn.metrics import classification_report\n",
    "from imblearn.under_sampling import TomekLinks\n",
    "from imblearn.combine import SMOTETomek\n",
    "from imblearn.under_sampling import RandomUnderSampler\n",
    "from imblearn.over_sampling import RandomOverSampler\n",
    "from sklearn.model_selection import KFold\n",
    "from sklearn.model_selection import StratifiedKFold\n",
    "from sklearn.model_selection import LeaveOneOut\n",
    "from sklearn.metrics import accuracy_score\n",
    "from sklearn.tree import DecisionTreeClassifier\n",
    "from sklearn import tree\n",
    "from sklearn.metrics import recall_score\n",
    "from sklearn.metrics import precision_score\n",
    "from sklearn.model_selection import GridSearchCV\n",
    "from sklearn.dummy import DummyClassifier\n",
    "from sklearn.svm import SVC\n",
    "from sklearn.neural_network import MLPClassifier\n",
    "from sklearn.metrics import mean_squared_error\n",
    "import xgboost as xgb\n",
    "from xgboost import XGBClassifier\n",
    "from xgboost import plot_importance\n",
    "from sklearn.metrics import confusion_matrix\n",
    "from lightgbm import LGBMClassifier\n",
    "from sklearn.metrics import precision_recall_curve\n",
    "from sklearn.metrics import roc_curve\n",
    "from sklearn.metrics import auc\n",
    "from bayes_opt import BayesianOptimization\n",
    "from lightgbm import LGBMRegressor\n",
    "from sklearn.preprocessing import Binarizer\n",
    "from sklearn.impute import SimpleImputer"
   ]
  },
  {
   "cell_type": "code",
   "execution_count": 2,
   "metadata": {},
   "outputs": [],
   "source": [
    "human_train = pd.read_csv(\"work/human.csv\", encoding=\"cp949\")\n",
    "human_new = pd.read_csv(\"work/human_new.csv\", encoding=\"cp949\")"
   ]
  },
  {
   "cell_type": "code",
   "execution_count": 3,
   "metadata": {},
   "outputs": [],
   "source": [
    "# human_train"
   ]
  },
  {
   "cell_type": "code",
   "execution_count": 4,
   "metadata": {},
   "outputs": [],
   "source": [
    "# human_train.info()"
   ]
  },
  {
   "cell_type": "code",
   "execution_count": 5,
   "metadata": {},
   "outputs": [],
   "source": [
    "# human_train.isnull().sum()"
   ]
  },
  {
   "cell_type": "code",
   "execution_count": 6,
   "metadata": {},
   "outputs": [],
   "source": [
    "# human_train[\"노동 계급\"].value_counts()"
   ]
  },
  {
   "cell_type": "code",
   "execution_count": 7,
   "metadata": {},
   "outputs": [],
   "source": [
    "# human_train[\"학력\"].value_counts()"
   ]
  },
  {
   "cell_type": "code",
   "execution_count": 8,
   "metadata": {},
   "outputs": [],
   "source": [
    "# human_train[\"혼인 상태\"].value_counts()"
   ]
  },
  {
   "cell_type": "code",
   "execution_count": 9,
   "metadata": {},
   "outputs": [],
   "source": [
    "# human_train[\"직업\"].value_counts()"
   ]
  },
  {
   "cell_type": "code",
   "execution_count": 10,
   "metadata": {},
   "outputs": [],
   "source": [
    "# human_train[\"관계\"].value_counts()"
   ]
  },
  {
   "cell_type": "code",
   "execution_count": 11,
   "metadata": {},
   "outputs": [],
   "source": [
    "# human_train[\"인종\"].value_counts()"
   ]
  },
  {
   "cell_type": "code",
   "execution_count": 12,
   "metadata": {},
   "outputs": [],
   "source": [
    "# human_train[\"모국\"].value_counts()"
   ]
  },
  {
   "cell_type": "code",
   "execution_count": 13,
   "metadata": {},
   "outputs": [],
   "source": [
    "# human_train[\"교육 수\"].value_counts()"
   ]
  },
  {
   "cell_type": "code",
   "execution_count": 14,
   "metadata": {},
   "outputs": [],
   "source": [
    "# human_train[\"자본 이득\"].value_counts()"
   ]
  },
  {
   "cell_type": "code",
   "execution_count": 15,
   "metadata": {},
   "outputs": [],
   "source": [
    "#  human_train[\"자본 손실\"].value_counts()"
   ]
  },
  {
   "cell_type": "code",
   "execution_count": 16,
   "metadata": {},
   "outputs": [],
   "source": [
    "# human_train[\"주당 시간\"].value_counts()"
   ]
  },
  {
   "cell_type": "markdown",
   "metadata": {},
   "source": [
    "# Null값 제거"
   ]
  },
  {
   "cell_type": "code",
   "execution_count": 3,
   "metadata": {},
   "outputs": [],
   "source": [
    "# human_train.dropna(subset=[\"노동 계급\",\"직업\",\"모국\"],inplace=True)\n",
    "# human_train\n",
    "\n",
    "imputer_con = SimpleImputer(strategy=\"most_frequent\")  \n",
    "imputer_con.fit(human_train[[\"노동 계급\",\"직업\",\"모국\"]])\n",
    "x = imputer_con.transform(human_train[[\"노동 계급\",\"직업\",\"모국\"]])\n",
    "human_train[[\"노동 계급\",\"직업\",\"모국\"]] = x"
   ]
  },
  {
   "cell_type": "markdown",
   "metadata": {},
   "source": [
    "# 성별 수치형으로 변환"
   ]
  },
  {
   "cell_type": "code",
   "execution_count": 3,
   "metadata": {},
   "outputs": [],
   "source": [
    "human_train[[\"성별\"]] = human_train[[\"성별\"]].apply(lambda x: x.str.lstrip())\n",
    "human_train[[\"성별\"]] = human_train[[\"성별\"]].apply(lambda x: x.astype('category').cat.codes)"
   ]
  },
  {
   "cell_type": "code",
   "execution_count": 40,
   "metadata": {},
   "outputs": [],
   "source": [
    "# human_train[\"성별\"] = human_train[\"성별\"].str.strip()"
   ]
  },
  {
   "cell_type": "code",
   "execution_count": 41,
   "metadata": {},
   "outputs": [],
   "source": [
    "# gender = {\"Male\":1, \"Female\":0}\n",
    "# human_train[\"성별\"] = human_train[\"성별\"].map(gender)"
   ]
  },
  {
   "cell_type": "code",
   "execution_count": 42,
   "metadata": {},
   "outputs": [
    {
     "data": {
      "text/plain": [
       "1    21790\n",
       "0    10771\n",
       "Name: 성별, dtype: int64"
      ]
     },
     "execution_count": 42,
     "metadata": {},
     "output_type": "execute_result"
    }
   ],
   "source": [
    "human_train[\"성별\"].value_counts()"
   ]
  },
  {
   "cell_type": "code",
   "execution_count": 46,
   "metadata": {},
   "outputs": [
    {
     "data": {
      "text/plain": [
       "아이디       0\n",
       "나이        0\n",
       "노동 계급     0\n",
       "fnlwgt    0\n",
       "학력        0\n",
       "교육 수      0\n",
       "혼인 상태     0\n",
       "직업        0\n",
       "관계        0\n",
       "인종        0\n",
       "성별        0\n",
       "자본 이득     0\n",
       "자본 손실     0\n",
       "주당 시간     0\n",
       "모국        0\n",
       "dtype: int64"
      ]
     },
     "execution_count": 46,
     "metadata": {},
     "output_type": "execute_result"
    }
   ],
   "source": [
    "human_train.isnull().sum()"
   ]
  },
  {
   "cell_type": "markdown",
   "metadata": {},
   "source": [
    "# 아웃라이어 제거"
   ]
  },
  {
   "cell_type": "code",
   "execution_count": 14,
   "metadata": {},
   "outputs": [],
   "source": [
    "def remove_outlier_test(d_cp, column):\n",
    "    fraud_column_data = d_cp[column]\n",
    "    quan_25 = np.percentile(fraud_column_data.values, 25)\n",
    "    quan_75 = np.percentile(fraud_column_data.values, 75)\n",
    "    iqr = quan_75 - quan_25\n",
    "    lowest = quan_25 - iqr\n",
    "    highest = quan_75 + iqr\n",
    "    outlier_index = fraud_column_data[(fraud_column_data < lowest)|(fraud_column_data > highest)].index\n",
    "    print(len(outlier_index))\n",
    "    d_cp.drop(outlier_index, axis=0, inplace=True)\n",
    "    print(d_cp.shape)\n",
    "    \n",
    "    return d_cp"
   ]
  },
  {
   "cell_type": "code",
   "execution_count": 15,
   "metadata": {},
   "outputs": [
    {
     "name": "stdout",
     "output_type": "stream",
     "text": [
      "737\n",
      "(31824, 115)\n",
      "1987\n",
      "(29837, 115)\n"
     ]
    },
    {
     "data": {
      "text/html": [
       "<div>\n",
       "<style scoped>\n",
       "    .dataframe tbody tr th:only-of-type {\n",
       "        vertical-align: middle;\n",
       "    }\n",
       "\n",
       "    .dataframe tbody tr th {\n",
       "        vertical-align: top;\n",
       "    }\n",
       "\n",
       "    .dataframe thead th {\n",
       "        text-align: right;\n",
       "    }\n",
       "</style>\n",
       "<table border=\"1\" class=\"dataframe\">\n",
       "  <thead>\n",
       "    <tr style=\"text-align: right;\">\n",
       "      <th></th>\n",
       "      <th>아이디</th>\n",
       "      <th>나이</th>\n",
       "      <th>노동 계급</th>\n",
       "      <th>fnlwgt</th>\n",
       "      <th>학력</th>\n",
       "      <th>교육 수</th>\n",
       "      <th>혼인 상태</th>\n",
       "      <th>직업</th>\n",
       "      <th>관계</th>\n",
       "      <th>인종</th>\n",
       "      <th>...</th>\n",
       "      <th>Portugal</th>\n",
       "      <th>Puerto-Rico</th>\n",
       "      <th>Scotland</th>\n",
       "      <th>South</th>\n",
       "      <th>Taiwan</th>\n",
       "      <th>Thailand</th>\n",
       "      <th>Trinadad&amp;Tobago</th>\n",
       "      <th>United-States</th>\n",
       "      <th>Vietnam</th>\n",
       "      <th>Yugoslavia</th>\n",
       "    </tr>\n",
       "  </thead>\n",
       "  <tbody>\n",
       "    <tr>\n",
       "      <th>0</th>\n",
       "      <td>H20001</td>\n",
       "      <td>39</td>\n",
       "      <td>6</td>\n",
       "      <td>77516</td>\n",
       "      <td>9</td>\n",
       "      <td>13</td>\n",
       "      <td>4</td>\n",
       "      <td>0</td>\n",
       "      <td>1</td>\n",
       "      <td>4</td>\n",
       "      <td>...</td>\n",
       "      <td>0</td>\n",
       "      <td>0</td>\n",
       "      <td>0</td>\n",
       "      <td>0</td>\n",
       "      <td>0</td>\n",
       "      <td>0</td>\n",
       "      <td>0</td>\n",
       "      <td>1</td>\n",
       "      <td>0</td>\n",
       "      <td>0</td>\n",
       "    </tr>\n",
       "    <tr>\n",
       "      <th>1</th>\n",
       "      <td>H20002</td>\n",
       "      <td>50</td>\n",
       "      <td>5</td>\n",
       "      <td>83311</td>\n",
       "      <td>9</td>\n",
       "      <td>13</td>\n",
       "      <td>2</td>\n",
       "      <td>3</td>\n",
       "      <td>0</td>\n",
       "      <td>4</td>\n",
       "      <td>...</td>\n",
       "      <td>0</td>\n",
       "      <td>0</td>\n",
       "      <td>0</td>\n",
       "      <td>0</td>\n",
       "      <td>0</td>\n",
       "      <td>0</td>\n",
       "      <td>0</td>\n",
       "      <td>1</td>\n",
       "      <td>0</td>\n",
       "      <td>0</td>\n",
       "    </tr>\n",
       "    <tr>\n",
       "      <th>2</th>\n",
       "      <td>H20003</td>\n",
       "      <td>38</td>\n",
       "      <td>3</td>\n",
       "      <td>215646</td>\n",
       "      <td>11</td>\n",
       "      <td>9</td>\n",
       "      <td>0</td>\n",
       "      <td>5</td>\n",
       "      <td>1</td>\n",
       "      <td>4</td>\n",
       "      <td>...</td>\n",
       "      <td>0</td>\n",
       "      <td>0</td>\n",
       "      <td>0</td>\n",
       "      <td>0</td>\n",
       "      <td>0</td>\n",
       "      <td>0</td>\n",
       "      <td>0</td>\n",
       "      <td>1</td>\n",
       "      <td>0</td>\n",
       "      <td>0</td>\n",
       "    </tr>\n",
       "    <tr>\n",
       "      <th>3</th>\n",
       "      <td>H20004</td>\n",
       "      <td>53</td>\n",
       "      <td>3</td>\n",
       "      <td>234721</td>\n",
       "      <td>1</td>\n",
       "      <td>7</td>\n",
       "      <td>2</td>\n",
       "      <td>5</td>\n",
       "      <td>0</td>\n",
       "      <td>2</td>\n",
       "      <td>...</td>\n",
       "      <td>0</td>\n",
       "      <td>0</td>\n",
       "      <td>0</td>\n",
       "      <td>0</td>\n",
       "      <td>0</td>\n",
       "      <td>0</td>\n",
       "      <td>0</td>\n",
       "      <td>1</td>\n",
       "      <td>0</td>\n",
       "      <td>0</td>\n",
       "    </tr>\n",
       "    <tr>\n",
       "      <th>4</th>\n",
       "      <td>H20005</td>\n",
       "      <td>28</td>\n",
       "      <td>3</td>\n",
       "      <td>338409</td>\n",
       "      <td>9</td>\n",
       "      <td>13</td>\n",
       "      <td>2</td>\n",
       "      <td>9</td>\n",
       "      <td>5</td>\n",
       "      <td>2</td>\n",
       "      <td>...</td>\n",
       "      <td>0</td>\n",
       "      <td>0</td>\n",
       "      <td>0</td>\n",
       "      <td>0</td>\n",
       "      <td>0</td>\n",
       "      <td>0</td>\n",
       "      <td>0</td>\n",
       "      <td>0</td>\n",
       "      <td>0</td>\n",
       "      <td>0</td>\n",
       "    </tr>\n",
       "    <tr>\n",
       "      <th>...</th>\n",
       "      <td>...</td>\n",
       "      <td>...</td>\n",
       "      <td>...</td>\n",
       "      <td>...</td>\n",
       "      <td>...</td>\n",
       "      <td>...</td>\n",
       "      <td>...</td>\n",
       "      <td>...</td>\n",
       "      <td>...</td>\n",
       "      <td>...</td>\n",
       "      <td>...</td>\n",
       "      <td>...</td>\n",
       "      <td>...</td>\n",
       "      <td>...</td>\n",
       "      <td>...</td>\n",
       "      <td>...</td>\n",
       "      <td>...</td>\n",
       "      <td>...</td>\n",
       "      <td>...</td>\n",
       "      <td>...</td>\n",
       "      <td>...</td>\n",
       "    </tr>\n",
       "    <tr>\n",
       "      <th>32556</th>\n",
       "      <td>H52557</td>\n",
       "      <td>27</td>\n",
       "      <td>3</td>\n",
       "      <td>257302</td>\n",
       "      <td>7</td>\n",
       "      <td>12</td>\n",
       "      <td>2</td>\n",
       "      <td>12</td>\n",
       "      <td>5</td>\n",
       "      <td>4</td>\n",
       "      <td>...</td>\n",
       "      <td>0</td>\n",
       "      <td>0</td>\n",
       "      <td>0</td>\n",
       "      <td>0</td>\n",
       "      <td>0</td>\n",
       "      <td>0</td>\n",
       "      <td>0</td>\n",
       "      <td>1</td>\n",
       "      <td>0</td>\n",
       "      <td>0</td>\n",
       "    </tr>\n",
       "    <tr>\n",
       "      <th>32557</th>\n",
       "      <td>H52558</td>\n",
       "      <td>40</td>\n",
       "      <td>3</td>\n",
       "      <td>154374</td>\n",
       "      <td>11</td>\n",
       "      <td>9</td>\n",
       "      <td>2</td>\n",
       "      <td>6</td>\n",
       "      <td>0</td>\n",
       "      <td>4</td>\n",
       "      <td>...</td>\n",
       "      <td>0</td>\n",
       "      <td>0</td>\n",
       "      <td>0</td>\n",
       "      <td>0</td>\n",
       "      <td>0</td>\n",
       "      <td>0</td>\n",
       "      <td>0</td>\n",
       "      <td>1</td>\n",
       "      <td>0</td>\n",
       "      <td>0</td>\n",
       "    </tr>\n",
       "    <tr>\n",
       "      <th>32558</th>\n",
       "      <td>H52559</td>\n",
       "      <td>58</td>\n",
       "      <td>3</td>\n",
       "      <td>151910</td>\n",
       "      <td>11</td>\n",
       "      <td>9</td>\n",
       "      <td>6</td>\n",
       "      <td>0</td>\n",
       "      <td>4</td>\n",
       "      <td>4</td>\n",
       "      <td>...</td>\n",
       "      <td>0</td>\n",
       "      <td>0</td>\n",
       "      <td>0</td>\n",
       "      <td>0</td>\n",
       "      <td>0</td>\n",
       "      <td>0</td>\n",
       "      <td>0</td>\n",
       "      <td>1</td>\n",
       "      <td>0</td>\n",
       "      <td>0</td>\n",
       "    </tr>\n",
       "    <tr>\n",
       "      <th>32559</th>\n",
       "      <td>H52560</td>\n",
       "      <td>22</td>\n",
       "      <td>3</td>\n",
       "      <td>201490</td>\n",
       "      <td>11</td>\n",
       "      <td>9</td>\n",
       "      <td>4</td>\n",
       "      <td>0</td>\n",
       "      <td>3</td>\n",
       "      <td>4</td>\n",
       "      <td>...</td>\n",
       "      <td>0</td>\n",
       "      <td>0</td>\n",
       "      <td>0</td>\n",
       "      <td>0</td>\n",
       "      <td>0</td>\n",
       "      <td>0</td>\n",
       "      <td>0</td>\n",
       "      <td>1</td>\n",
       "      <td>0</td>\n",
       "      <td>0</td>\n",
       "    </tr>\n",
       "    <tr>\n",
       "      <th>32560</th>\n",
       "      <td>H52561</td>\n",
       "      <td>52</td>\n",
       "      <td>4</td>\n",
       "      <td>287927</td>\n",
       "      <td>11</td>\n",
       "      <td>9</td>\n",
       "      <td>2</td>\n",
       "      <td>3</td>\n",
       "      <td>5</td>\n",
       "      <td>4</td>\n",
       "      <td>...</td>\n",
       "      <td>0</td>\n",
       "      <td>0</td>\n",
       "      <td>0</td>\n",
       "      <td>0</td>\n",
       "      <td>0</td>\n",
       "      <td>0</td>\n",
       "      <td>0</td>\n",
       "      <td>1</td>\n",
       "      <td>0</td>\n",
       "      <td>0</td>\n",
       "    </tr>\n",
       "  </tbody>\n",
       "</table>\n",
       "<p>29837 rows × 115 columns</p>\n",
       "</div>"
      ],
      "text/plain": [
       "          아이디  나이  노동 계급  fnlwgt  학력  교육 수  혼인 상태  직업  관계  인종  ...   Portugal  \\\n",
       "0      H20001  39      6   77516   9    13      4   0   1   4  ...          0   \n",
       "1      H20002  50      5   83311   9    13      2   3   0   4  ...          0   \n",
       "2      H20003  38      3  215646  11     9      0   5   1   4  ...          0   \n",
       "3      H20004  53      3  234721   1     7      2   5   0   2  ...          0   \n",
       "4      H20005  28      3  338409   9    13      2   9   5   2  ...          0   \n",
       "...       ...  ..    ...     ...  ..   ...    ...  ..  ..  ..  ...        ...   \n",
       "32556  H52557  27      3  257302   7    12      2  12   5   4  ...          0   \n",
       "32557  H52558  40      3  154374  11     9      2   6   0   4  ...          0   \n",
       "32558  H52559  58      3  151910  11     9      6   0   4   4  ...          0   \n",
       "32559  H52560  22      3  201490  11     9      4   0   3   4  ...          0   \n",
       "32560  H52561  52      4  287927  11     9      2   3   5   4  ...          0   \n",
       "\n",
       "        Puerto-Rico   Scotland   South   Taiwan   Thailand   Trinadad&Tobago  \\\n",
       "0                 0          0       0        0          0                 0   \n",
       "1                 0          0       0        0          0                 0   \n",
       "2                 0          0       0        0          0                 0   \n",
       "3                 0          0       0        0          0                 0   \n",
       "4                 0          0       0        0          0                 0   \n",
       "...             ...        ...     ...      ...        ...               ...   \n",
       "32556             0          0       0        0          0                 0   \n",
       "32557             0          0       0        0          0                 0   \n",
       "32558             0          0       0        0          0                 0   \n",
       "32559             0          0       0        0          0                 0   \n",
       "32560             0          0       0        0          0                 0   \n",
       "\n",
       "        United-States   Vietnam   Yugoslavia  \n",
       "0                   1         0            0  \n",
       "1                   1         0            0  \n",
       "2                   1         0            0  \n",
       "3                   1         0            0  \n",
       "4                   0         0            0  \n",
       "...               ...       ...          ...  \n",
       "32556               1         0            0  \n",
       "32557               1         0            0  \n",
       "32558               1         0            0  \n",
       "32559               1         0            0  \n",
       "32560               1         0            0  \n",
       "\n",
       "[29837 rows x 115 columns]"
      ]
     },
     "execution_count": 15,
     "metadata": {},
     "output_type": "execute_result"
    }
   ],
   "source": [
    "remove_outlier_test(human_train, '나이') #0.93325\n",
    "#remove_outlier_test(human_train, 'fnlwgt') #0.93404\n",
    "#remove_outlier_test(human_train, '주당 시간') #0.93466 \n",
    "remove_outlier_test(human_train, '교육 수')\n",
    "#아래 두개 빼고 하면 0.93358\n",
    "#remove_outlier_test(human_train, '자본 이득')\n",
    "#remove_outlier_test(human_train, '자본 손실')\n",
    "#다했을때 0.93281\n",
    "#나이,교육 수만 했을때 0.93510\n",
    "#remove_outlier_test(human_train, '학력') #나이 교육수 학력 0.93474"
   ]
  },
  {
   "cell_type": "code",
   "execution_count": 10,
   "metadata": {},
   "outputs": [],
   "source": [
    "#remove_outlier_test(human_train, 'fnlwgt')\n",
    "# 0 -> 0.91771 1-> 0.91945\n",
    "#remove_outlier_test(human_train, '주당 시간')\n",
    "# 0 -> 0.88918 1->0.90873"
   ]
  },
  {
   "cell_type": "code",
   "execution_count": 11,
   "metadata": {},
   "outputs": [],
   "source": [
    "# for i, v in enumerate(human_train['나이']):\n",
    "#     if v>79 :\n",
    "#         human_train['나이'].replace(v,79,inplace=True)"
   ]
  },
  {
   "cell_type": "code",
   "execution_count": 18,
   "metadata": {},
   "outputs": [],
   "source": [
    "# for i, v in enumerate(human_train['fnlwgt']):\n",
    "#     if v>410000 :\n",
    "#         human_train['fnlwgt'].replace(v,410000,inplace=True)"
   ]
  },
  {
   "cell_type": "code",
   "execution_count": 19,
   "metadata": {},
   "outputs": [],
   "source": [
    "# for i, v in enumerate(human_train['주당 시간']):\n",
    "#     if v>53 :\n",
    "#         human_train['주당 시간'].replace(v,53,inplace=True)\n",
    "# for i, v in enumerate(human_train['주당 시간']):\n",
    "#     if v<32 :\n",
    "#         human_train['주당 시간'].replace(v,32,inplace=True)"
   ]
  },
  {
   "cell_type": "code",
   "execution_count": 20,
   "metadata": {},
   "outputs": [],
   "source": [
    "# for i, v in enumerate(human_train['교육 수']):\n",
    "#     if v<4:\n",
    "#         human_train['교육 수'].replace(v,4,inplace=True)"
   ]
  },
  {
   "cell_type": "markdown",
   "metadata": {},
   "source": [
    "# 파생 변수 만들기"
   ]
  },
  {
   "cell_type": "code",
   "execution_count": 4,
   "metadata": {},
   "outputs": [],
   "source": [
    "s1=human_train['자본 이득']\n",
    "s2=human_train['자본 손실']\n",
    "s=s1+s2\n",
    "s.rename(\"순이익\",inplace=True)\n",
    "human_train = pd.concat([human_train,s],axis=1)"
   ]
  },
  {
   "cell_type": "code",
   "execution_count": 5,
   "metadata": {},
   "outputs": [],
   "source": [
    "human_train['나이대'] = (human_train['나이']/10).astype(int)\n",
    "human_train['주당 시간별'] = (human_train['주당 시간']/10).astype(int)\n",
    "human_train['fnlwgt2'] = (human_train['fnlwgt']/10000).astype(int)"
   ]
  },
  {
   "cell_type": "code",
   "execution_count": 6,
   "metadata": {},
   "outputs": [],
   "source": [
    "working_class = pd.get_dummies(human_train[\"노동 계급\"])\n",
    "human_train = pd.concat([human_train, working_class], axis=1)\n",
    "# human_train.drop(\"노동 계급\", axis=1, inplace=True)\n",
    "\n",
    "human_train[[\"노동 계급\"]] = human_train[[\"노동 계급\"]].apply(lambda x: x.str.lstrip())\n",
    "human_train[[\"노동 계급\"]] = human_train[[\"노동 계급\"]].apply(lambda x: x.astype('category').cat.codes)"
   ]
  },
  {
   "cell_type": "code",
   "execution_count": 7,
   "metadata": {},
   "outputs": [],
   "source": [
    "academic_ability = pd.get_dummies(human_train[\"학력\"])\n",
    "human_train = pd.concat([human_train,academic_ability],axis=1)\n",
    "# human_train.drop(\"학력\",axis=1,inplace=True)\n",
    "\n",
    "human_train[[\"학력\"]] = human_train[[\"학력\"]].apply(lambda x: x.str.lstrip())\n",
    "human_train[[\"학력\"]] = human_train[[\"학력\"]].apply(lambda x: x.astype('category').cat.codes)"
   ]
  },
  {
   "cell_type": "code",
   "execution_count": 8,
   "metadata": {},
   "outputs": [],
   "source": [
    "marital_status = pd.get_dummies(human_train[\"혼인 상태\"])\n",
    "human_train = pd.concat([human_train,marital_status], axis=1)\n",
    "# human_train.drop(\"혼인 상태\", axis=1, inplace=True)\n",
    "\n",
    "human_train[[\"혼인 상태\"]] = human_train[[\"혼인 상태\"]].apply(lambda x: x.str.lstrip())\n",
    "human_train[[\"혼인 상태\"]] = human_train[[\"혼인 상태\"]].apply(lambda x: x.astype('category').cat.codes)"
   ]
  },
  {
   "cell_type": "code",
   "execution_count": 9,
   "metadata": {},
   "outputs": [
    {
     "data": {
      "text/plain": [
       "아이디                  0\n",
       "나이                   0\n",
       "노동 계급                0\n",
       "fnlwgt               0\n",
       "학력                   0\n",
       "                    ..\n",
       " Prof-specialty      0\n",
       " Protective-serv     0\n",
       " Sales               0\n",
       " Tech-support        0\n",
       " Transport-moving    0\n",
       "Length: 64, dtype: int64"
      ]
     },
     "execution_count": 9,
     "metadata": {},
     "output_type": "execute_result"
    }
   ],
   "source": [
    "jobs = pd.get_dummies(human_train[\"직업\"])\n",
    "human_train = pd.concat([human_train, jobs], axis=1)\n",
    "# human_train.drop(\"직업\", axis=1, inplace=True)\n",
    "\n",
    "human_train[[\"직업\"]] = human_train[[\"직업\"]].apply(lambda x: x.str.lstrip())\n",
    "human_train[[\"직업\"]] = human_train[[\"직업\"]].apply(lambda x: x.astype('category').cat.codes)\n",
    "human_train.isnull().sum()"
   ]
  },
  {
   "cell_type": "code",
   "execution_count": 10,
   "metadata": {},
   "outputs": [],
   "source": [
    "relationship = pd.get_dummies(human_train[\"관계\"])\n",
    "human_train = pd.concat([human_train, relationship], axis=1)\n",
    "# human_train.drop(\"관계\", axis=1, inplace=True)\n",
    "\n",
    "human_train[[\"관계\"]] = human_train[[\"관계\"]].apply(lambda x: x.str.lstrip())\n",
    "human_train[[\"관계\"]] = human_train[[\"관계\"]].apply(lambda x: x.astype('category').cat.codes)"
   ]
  },
  {
   "cell_type": "code",
   "execution_count": 11,
   "metadata": {},
   "outputs": [],
   "source": [
    "race = pd.get_dummies(human_train[\"인종\"])\n",
    "human_train = pd.concat([human_train, race], axis=1)\n",
    "# human_train.drop(\"인종\", axis=1, inplace=True)\n",
    "\n",
    "human_train[[\"인종\"]] = human_train[[\"인종\"]].apply(lambda x: x.str.lstrip())\n",
    "human_train[[\"인종\"]] = human_train[[\"인종\"]].apply(lambda x: x.astype('category').cat.codes)"
   ]
  },
  {
   "cell_type": "code",
   "execution_count": 12,
   "metadata": {},
   "outputs": [],
   "source": [
    "homeland = pd.get_dummies(human_train[\"모국\"])\n",
    "human_train = pd.concat([human_train, homeland], axis=1)\n",
    "# human_train.drop(\"모국\", axis=1, inplace=True)\n",
    "\n",
    "human_train[[\"모국\"]] = human_train[[\"모국\"]].apply(lambda x: x.str.lstrip())\n",
    "human_train[[\"모국\"]] = human_train[[\"모국\"]].apply(lambda x: x.astype('category').cat.codes)"
   ]
  },
  {
   "cell_type": "code",
   "execution_count": 24,
   "metadata": {},
   "outputs": [],
   "source": [
    "human_train.drop([\"자본 이득\",\"자본 손실\",\"순이익\"],axis=1,inplace=True)"
   ]
  },
  {
   "cell_type": "code",
   "execution_count": 13,
   "metadata": {},
   "outputs": [],
   "source": [
    "human_train.drop([\" Holand-Netherlands\"],axis=1,inplace=True)"
   ]
  },
  {
   "cell_type": "code",
   "execution_count": 27,
   "metadata": {},
   "outputs": [
    {
     "data": {
      "text/plain": [
       "나이            AxesSubplot(0.125,0.816017;0.352273x0.0639831)\n",
       "노동 계급      AxesSubplot(0.547727,0.816017;0.352273x0.0639831)\n",
       "fnlwgt        AxesSubplot(0.125,0.739237;0.352273x0.0639831)\n",
       "학력         AxesSubplot(0.547727,0.739237;0.352273x0.0639831)\n",
       "교육 수          AxesSubplot(0.125,0.662458;0.352273x0.0639831)\n",
       "혼인 상태      AxesSubplot(0.547727,0.662458;0.352273x0.0639831)\n",
       "직업            AxesSubplot(0.125,0.585678;0.352273x0.0639831)\n",
       "관계         AxesSubplot(0.547727,0.585678;0.352273x0.0639831)\n",
       "인종            AxesSubplot(0.125,0.508898;0.352273x0.0639831)\n",
       "성별         AxesSubplot(0.547727,0.508898;0.352273x0.0639831)\n",
       "주당 시간         AxesSubplot(0.125,0.432119;0.352273x0.0639831)\n",
       "모국         AxesSubplot(0.547727,0.432119;0.352273x0.0639831)\n",
       "나이대           AxesSubplot(0.125,0.355339;0.352273x0.0639831)\n",
       "주당 시간별     AxesSubplot(0.547727,0.355339;0.352273x0.0639831)\n",
       "fnlwgt2       AxesSubplot(0.125,0.278559;0.352273x0.0639831)\n",
       "dtype: object"
      ]
     },
     "execution_count": 27,
     "metadata": {},
     "output_type": "execute_result"
    },
    {
     "name": "stderr",
     "output_type": "stream",
     "text": [
      "C:\\Users\\020\\anaconda3\\lib\\site-packages\\matplotlib\\backends\\backend_agg.py:238: RuntimeWarning: Glyph 8722 missing from current font.\n",
      "  font.set_text(s, 0.0, flags=flags)\n",
      "C:\\Users\\020\\anaconda3\\lib\\site-packages\\matplotlib\\backends\\backend_agg.py:201: RuntimeWarning: Glyph 8722 missing from current font.\n",
      "  font.set_text(s, 0, flags=flags)\n"
     ]
    },
    {
     "data": {
      "image/png": "[encoded data removed]",
      "text/plain": [
       "<Figure size 720x7200 with 20 Axes>"
      ]
     },
     "metadata": {
      "needs_background": "light"
     },
     "output_type": "display_data"
    }
   ],
   "source": [
    "plt.rcParams['figure.figsize'] = [50, 50]\n",
    "plt.rc('font', family='Malgun Gothic')\n",
    "human_train.loc[:, '나이':'fnlwgt2'].plot.box(subplots=True, layout=(10,2), figsize=(10,100))"
   ]
  },
  {
   "cell_type": "code",
   "execution_count": 14,
   "metadata": {},
   "outputs": [
    {
     "data": {
      "text/plain": [
       "{'whiskers': [<matplotlib.lines.Line2D at 0x1a90b5bceb0>,\n",
       "  <matplotlib.lines.Line2D at 0x1a90b856250>,\n",
       "  <matplotlib.lines.Line2D at 0x1a90b8616d0>,\n",
       "  <matplotlib.lines.Line2D at 0x1a90b861a30>],\n",
       " 'caps': [<matplotlib.lines.Line2D at 0x1a90b8565b0>,\n",
       "  <matplotlib.lines.Line2D at 0x1a90b856910>,\n",
       "  <matplotlib.lines.Line2D at 0x1a90b861d90>,\n",
       "  <matplotlib.lines.Line2D at 0x1a90b86d130>],\n",
       " 'boxes': [<matplotlib.lines.Line2D at 0x1a90b5bc5e0>,\n",
       "  <matplotlib.lines.Line2D at 0x1a90b861370>],\n",
       " 'medians': [<matplotlib.lines.Line2D at 0x1a90b856c70>,\n",
       "  <matplotlib.lines.Line2D at 0x1a90b86d490>],\n",
       " 'fliers': [<matplotlib.lines.Line2D at 0x1a90b856fd0>,\n",
       "  <matplotlib.lines.Line2D at 0x1a90b86d7f0>],\n",
       " 'means': []}"
      ]
     },
     "execution_count": 14,
     "metadata": {},
     "output_type": "execute_result"
    },
    {
     "data": {
      "image/png": "[encoded data removed]",
      "text/plain": [
       "<Figure size 432x288 with 1 Axes>"
      ]
     },
     "metadata": {
      "needs_background": "light"
     },
     "output_type": "display_data"
    }
   ],
   "source": [
    "plt.rc('font', family='Malgun Gothic')\n",
    "#human_train.loc[:, '주당 시간별'].plot.box(subplots=True, layout=(1,1), figsize=(5,10))\n",
    "gender_male = human_train[human_train['성별']==1]\n",
    "gender_female = human_train[human_train['성별']==0]\n",
    "gender = [gender_male['주당 시간'], gender_female['주당 시간']]\n",
    "plt.boxplot(gender)"
   ]
  },
  {
   "cell_type": "code",
   "execution_count": 22,
   "metadata": {},
   "outputs": [
    {
     "data": {
      "text/plain": [
       "count    30718.000000\n",
       "mean         3.924311\n",
       "std          1.189654\n",
       "min          0.000000\n",
       "25%          4.000000\n",
       "50%          4.000000\n",
       "75%          4.000000\n",
       "max          7.000000\n",
       "Name: 주당 시간별, dtype: float64"
      ]
     },
     "execution_count": 22,
     "metadata": {},
     "output_type": "execute_result"
    }
   ],
   "source": [
    "human_train.loc[:,'주당 시간별'].describe().T"
   ]
  },
  {
   "cell_type": "code",
   "execution_count": 37,
   "metadata": {},
   "outputs": [
    {
     "data": {
      "text/plain": [
       "4    17583\n",
       "5     3799\n",
       "3     3374\n",
       "2     2088\n",
       "6     1760\n",
       "1     1063\n",
       "7      435\n",
       "0      294\n",
       "8      189\n",
       "9      133\n",
       "Name: 주당 시간별, dtype: int64"
      ]
     },
     "execution_count": 37,
     "metadata": {},
     "output_type": "execute_result"
    }
   ],
   "source": [
    "human_train.loc[:,'주당 시간별'].value_counts()"
   ]
  },
  {
   "cell_type": "code",
   "execution_count": 18,
   "metadata": {},
   "outputs": [
    {
     "name": "stdout",
     "output_type": "stream",
     "text": [
      "<class 'pandas.core.frame.DataFrame'>\n",
      "RangeIndex: 32561 entries, 0 to 32560\n",
      "Columns: 112 entries, 아이디 to  Yugoslavia\n",
      "dtypes: int32(3), int64(4), int8(8), object(1), uint8(96)\n",
      "memory usage: 4.8+ MB\n"
     ]
    }
   ],
   "source": [
    "human_train.info()"
   ]
  },
  {
   "cell_type": "code",
   "execution_count": 35,
   "metadata": {},
   "outputs": [
    {
     "data": {
      "text/plain": [
       "성별                     1.000000\n",
       " Husband               0.580135\n",
       " Married-civ-spouse    0.431805\n",
       "주당 시간별                 0.240200\n",
       "주당 시간                  0.236223\n",
       "                         ...   \n",
       " Divorced             -0.228621\n",
       " Adm-clerical         -0.263148\n",
       " Wife                 -0.319311\n",
       " Unmarried            -0.321273\n",
       "관계                    -0.582454\n",
       "Name: 성별, Length: 112, dtype: float64"
      ]
     },
     "execution_count": 35,
     "metadata": {},
     "output_type": "execute_result"
    }
   ],
   "source": [
    "human_train.corr().성별.sort_values(ascending=False)"
   ]
  },
  {
   "cell_type": "code",
   "execution_count": 13,
   "metadata": {},
   "outputs": [
    {
     "data": {
      "text/plain": [
       "583"
      ]
     },
     "execution_count": 13,
     "metadata": {},
     "output_type": "execute_result"
    }
   ],
   "source": [
    "human_train.isnull().sum().sum()"
   ]
  },
  {
   "cell_type": "markdown",
   "metadata": {},
   "source": [
    "# 데이터 나누기"
   ]
  },
  {
   "cell_type": "code",
   "execution_count": 16,
   "metadata": {},
   "outputs": [],
   "source": [
    "htX = human_train.drop([\"아이디\",\"성별\"], axis=1)\n",
    "htY = human_train[\"성별\"]"
   ]
  },
  {
   "cell_type": "code",
   "execution_count": 17,
   "metadata": {},
   "outputs": [],
   "source": [
    "X_train, X_test, Y_train, Y_test = train_test_split(htX, htY, test_size=0.25, random_state=0)"
   ]
  },
  {
   "cell_type": "code",
   "execution_count": 19,
   "metadata": {},
   "outputs": [
    {
     "name": "stdout",
     "output_type": "stream",
     "text": [
      "<class 'pandas.core.frame.DataFrame'>\n",
      "Int64Index: 29837 entries, 0 to 32560\n",
      "Columns: 107 entries, 나이 to  Yugoslavia\n",
      "dtypes: int32(3), int64(7), int8(7), uint8(90)\n",
      "memory usage: 4.9 MB\n"
     ]
    }
   ],
   "source": [
    "htX.info()"
   ]
  },
  {
   "cell_type": "markdown",
   "metadata": {},
   "source": [
    "# Normalization"
   ]
  },
  {
   "cell_type": "code",
   "execution_count": 22,
   "metadata": {},
   "outputs": [],
   "source": [
    " human_train_x=human_train.loc[:,['주당 시간','주당 시간별','나이','나이대','fnlwgt','fnlwgt2','교육 수']]\n",
    "#human_train_x=human_train.loc[:,['주당 시간','나이','fnlwgt','교육 수']]"
   ]
  },
  {
   "cell_type": "code",
   "execution_count": 26,
   "metadata": {},
   "outputs": [
    {
     "data": {
      "text/plain": [
       "MinMaxScaler()"
      ]
     },
     "execution_count": 26,
     "metadata": {},
     "output_type": "execute_result"
    }
   ],
   "source": [
    "scaler = MinMaxScaler()\n",
    "scaler.fit(human_train_x)"
   ]
  },
  {
   "cell_type": "code",
   "execution_count": 27,
   "metadata": {},
   "outputs": [],
   "source": [
    "x = scaler.transform(human_train_x)\n",
    "human_train_x = pd.DataFrame(x, columns = human_train_x.columns)"
   ]
  },
  {
   "cell_type": "code",
   "execution_count": 28,
   "metadata": {},
   "outputs": [
    {
     "data": {
      "text/html": [
       "<div>\n",
       "<style scoped>\n",
       "    .dataframe tbody tr th:only-of-type {\n",
       "        vertical-align: middle;\n",
       "    }\n",
       "\n",
       "    .dataframe tbody tr th {\n",
       "        vertical-align: top;\n",
       "    }\n",
       "\n",
       "    .dataframe thead th {\n",
       "        text-align: right;\n",
       "    }\n",
       "</style>\n",
       "<table border=\"1\" class=\"dataframe\">\n",
       "  <thead>\n",
       "    <tr style=\"text-align: right;\">\n",
       "      <th></th>\n",
       "      <th>count</th>\n",
       "      <th>mean</th>\n",
       "      <th>std</th>\n",
       "      <th>min</th>\n",
       "      <th>25%</th>\n",
       "      <th>50%</th>\n",
       "      <th>75%</th>\n",
       "      <th>max</th>\n",
       "    </tr>\n",
       "  </thead>\n",
       "  <tbody>\n",
       "    <tr>\n",
       "      <th>주당 시간</th>\n",
       "      <td>32561.0</td>\n",
       "      <td>0.402423</td>\n",
       "      <td>0.125994</td>\n",
       "      <td>0.0</td>\n",
       "      <td>0.397959</td>\n",
       "      <td>0.397959</td>\n",
       "      <td>0.448980</td>\n",
       "      <td>1.0</td>\n",
       "    </tr>\n",
       "    <tr>\n",
       "      <th>주당 시간별</th>\n",
       "      <td>32561.0</td>\n",
       "      <td>0.431802</td>\n",
       "      <td>0.141968</td>\n",
       "      <td>0.0</td>\n",
       "      <td>0.444444</td>\n",
       "      <td>0.444444</td>\n",
       "      <td>0.444444</td>\n",
       "      <td>1.0</td>\n",
       "    </tr>\n",
       "    <tr>\n",
       "      <th>나이</th>\n",
       "      <td>32561.0</td>\n",
       "      <td>0.295639</td>\n",
       "      <td>0.186855</td>\n",
       "      <td>0.0</td>\n",
       "      <td>0.150685</td>\n",
       "      <td>0.273973</td>\n",
       "      <td>0.424658</td>\n",
       "      <td>1.0</td>\n",
       "    </tr>\n",
       "    <tr>\n",
       "      <th>나이대</th>\n",
       "      <td>32561.0</td>\n",
       "      <td>0.301319</td>\n",
       "      <td>0.174978</td>\n",
       "      <td>0.0</td>\n",
       "      <td>0.125000</td>\n",
       "      <td>0.250000</td>\n",
       "      <td>0.375000</td>\n",
       "      <td>1.0</td>\n",
       "    </tr>\n",
       "    <tr>\n",
       "      <th>fnlwgt</th>\n",
       "      <td>32561.0</td>\n",
       "      <td>0.120545</td>\n",
       "      <td>0.071685</td>\n",
       "      <td>0.0</td>\n",
       "      <td>0.071679</td>\n",
       "      <td>0.112788</td>\n",
       "      <td>0.152651</td>\n",
       "      <td>1.0</td>\n",
       "    </tr>\n",
       "    <tr>\n",
       "      <th>fnlwgt2</th>\n",
       "      <td>32561.0</td>\n",
       "      <td>0.118875</td>\n",
       "      <td>0.071810</td>\n",
       "      <td>0.0</td>\n",
       "      <td>0.068027</td>\n",
       "      <td>0.108844</td>\n",
       "      <td>0.149660</td>\n",
       "      <td>1.0</td>\n",
       "    </tr>\n",
       "    <tr>\n",
       "      <th>교육 수</th>\n",
       "      <td>32561.0</td>\n",
       "      <td>0.605379</td>\n",
       "      <td>0.171515</td>\n",
       "      <td>0.0</td>\n",
       "      <td>0.533333</td>\n",
       "      <td>0.600000</td>\n",
       "      <td>0.733333</td>\n",
       "      <td>1.0</td>\n",
       "    </tr>\n",
       "  </tbody>\n",
       "</table>\n",
       "</div>"
      ],
      "text/plain": [
       "           count      mean       std  min       25%       50%       75%  max\n",
       "주당 시간    32561.0  0.402423  0.125994  0.0  0.397959  0.397959  0.448980  1.0\n",
       "주당 시간별   32561.0  0.431802  0.141968  0.0  0.444444  0.444444  0.444444  1.0\n",
       "나이       32561.0  0.295639  0.186855  0.0  0.150685  0.273973  0.424658  1.0\n",
       "나이대      32561.0  0.301319  0.174978  0.0  0.125000  0.250000  0.375000  1.0\n",
       "fnlwgt   32561.0  0.120545  0.071685  0.0  0.071679  0.112788  0.152651  1.0\n",
       "fnlwgt2  32561.0  0.118875  0.071810  0.0  0.068027  0.108844  0.149660  1.0\n",
       "교육 수     32561.0  0.605379  0.171515  0.0  0.533333  0.600000  0.733333  1.0"
      ]
     },
     "execution_count": 28,
     "metadata": {},
     "output_type": "execute_result"
    }
   ],
   "source": [
    "human_train_x.describe().T"
   ]
  },
  {
   "cell_type": "markdown",
   "metadata": {},
   "source": [
    "# Standardization"
   ]
  },
  {
   "cell_type": "code",
   "execution_count": 17,
   "metadata": {},
   "outputs": [],
   "source": [
    "scaler = StandardScaler()\n",
    "scaler.fit(human_train_x)\n",
    "x = scaler.transform(human_train_x)\n",
    "human_train_x = pd.DataFrame(x, columns=human_train_x.columns)"
   ]
  },
  {
   "cell_type": "code",
   "execution_count": 18,
   "metadata": {},
   "outputs": [
    {
     "data": {
      "text/html": [
       "<div>\n",
       "<style scoped>\n",
       "    .dataframe tbody tr th:only-of-type {\n",
       "        vertical-align: middle;\n",
       "    }\n",
       "\n",
       "    .dataframe tbody tr th {\n",
       "        vertical-align: top;\n",
       "    }\n",
       "\n",
       "    .dataframe thead th {\n",
       "        text-align: right;\n",
       "    }\n",
       "</style>\n",
       "<table border=\"1\" class=\"dataframe\">\n",
       "  <thead>\n",
       "    <tr style=\"text-align: right;\">\n",
       "      <th></th>\n",
       "      <th>count</th>\n",
       "      <th>mean</th>\n",
       "      <th>std</th>\n",
       "      <th>min</th>\n",
       "      <th>25%</th>\n",
       "      <th>50%</th>\n",
       "      <th>75%</th>\n",
       "      <th>max</th>\n",
       "    </tr>\n",
       "  </thead>\n",
       "  <tbody>\n",
       "    <tr>\n",
       "      <th>주당 시간</th>\n",
       "      <td>32561.0</td>\n",
       "      <td>5.995645e-16</td>\n",
       "      <td>1.000015</td>\n",
       "      <td>-3.194030</td>\n",
       "      <td>-0.035429</td>\n",
       "      <td>-0.035429</td>\n",
       "      <td>0.369519</td>\n",
       "      <td>4.742967</td>\n",
       "    </tr>\n",
       "    <tr>\n",
       "      <th>주당 시간별</th>\n",
       "      <td>32561.0</td>\n",
       "      <td>-3.671193e-16</td>\n",
       "      <td>1.000015</td>\n",
       "      <td>-3.041598</td>\n",
       "      <td>0.089056</td>\n",
       "      <td>0.089056</td>\n",
       "      <td>0.089056</td>\n",
       "      <td>4.002374</td>\n",
       "    </tr>\n",
       "    <tr>\n",
       "      <th>나이</th>\n",
       "      <td>32561.0</td>\n",
       "      <td>-1.737807e-16</td>\n",
       "      <td>1.000015</td>\n",
       "      <td>-1.582206</td>\n",
       "      <td>-0.775768</td>\n",
       "      <td>-0.115955</td>\n",
       "      <td>0.690484</td>\n",
       "      <td>3.769612</td>\n",
       "    </tr>\n",
       "    <tr>\n",
       "      <th>나이대</th>\n",
       "      <td>32561.0</td>\n",
       "      <td>-1.043714e-15</td>\n",
       "      <td>1.000015</td>\n",
       "      <td>-1.722064</td>\n",
       "      <td>-1.007678</td>\n",
       "      <td>-0.293293</td>\n",
       "      <td>0.421093</td>\n",
       "      <td>3.993020</td>\n",
       "    </tr>\n",
       "    <tr>\n",
       "      <th>fnlwgt</th>\n",
       "      <td>32561.0</td>\n",
       "      <td>-8.840254e-17</td>\n",
       "      <td>1.000015</td>\n",
       "      <td>-1.681631</td>\n",
       "      <td>-0.681691</td>\n",
       "      <td>-0.108219</td>\n",
       "      <td>0.447877</td>\n",
       "      <td>12.268563</td>\n",
       "    </tr>\n",
       "    <tr>\n",
       "      <th>fnlwgt2</th>\n",
       "      <td>32561.0</td>\n",
       "      <td>1.429777e-16</td>\n",
       "      <td>1.000015</td>\n",
       "      <td>-1.655440</td>\n",
       "      <td>-0.708104</td>\n",
       "      <td>-0.139702</td>\n",
       "      <td>0.428700</td>\n",
       "      <td>12.270406</td>\n",
       "    </tr>\n",
       "    <tr>\n",
       "      <th>교육 수</th>\n",
       "      <td>32561.0</td>\n",
       "      <td>2.312098e-17</td>\n",
       "      <td>1.000015</td>\n",
       "      <td>-3.529656</td>\n",
       "      <td>-0.420060</td>\n",
       "      <td>-0.031360</td>\n",
       "      <td>0.746039</td>\n",
       "      <td>2.300838</td>\n",
       "    </tr>\n",
       "  </tbody>\n",
       "</table>\n",
       "</div>"
      ],
      "text/plain": [
       "           count          mean       std       min       25%       50%  \\\n",
       "주당 시간    32561.0  5.995645e-16  1.000015 -3.194030 -0.035429 -0.035429   \n",
       "주당 시간별   32561.0 -3.671193e-16  1.000015 -3.041598  0.089056  0.089056   \n",
       "나이       32561.0 -1.737807e-16  1.000015 -1.582206 -0.775768 -0.115955   \n",
       "나이대      32561.0 -1.043714e-15  1.000015 -1.722064 -1.007678 -0.293293   \n",
       "fnlwgt   32561.0 -8.840254e-17  1.000015 -1.681631 -0.681691 -0.108219   \n",
       "fnlwgt2  32561.0  1.429777e-16  1.000015 -1.655440 -0.708104 -0.139702   \n",
       "교육 수     32561.0  2.312098e-17  1.000015 -3.529656 -0.420060 -0.031360   \n",
       "\n",
       "              75%        max  \n",
       "주당 시간    0.369519   4.742967  \n",
       "주당 시간별   0.089056   4.002374  \n",
       "나이       0.690484   3.769612  \n",
       "나이대      0.421093   3.993020  \n",
       "fnlwgt   0.447877  12.268563  \n",
       "fnlwgt2  0.428700  12.270406  \n",
       "교육 수     0.746039   2.300838  "
      ]
     },
     "execution_count": 18,
     "metadata": {},
     "output_type": "execute_result"
    }
   ],
   "source": [
    "human_train_x.describe().T"
   ]
  },
  {
   "cell_type": "code",
   "execution_count": 29,
   "metadata": {},
   "outputs": [],
   "source": [
    "human_train.drop(['주당 시간','주당 시간별','나이','나이대','fnlwgt','fnlwgt2','교육 수'],axis=1,inplace=True)\n",
    "#human_train.drop(['주당 시간','나이','fnlwgt','교육 수'],axis=1,inplace=True)"
   ]
  },
  {
   "cell_type": "code",
   "execution_count": 30,
   "metadata": {},
   "outputs": [],
   "source": [
    "human_train = pd.concat([human_train,human_train_x],axis=1)"
   ]
  },
  {
   "cell_type": "code",
   "execution_count": 31,
   "metadata": {},
   "outputs": [
    {
     "data": {
      "text/plain": [
       "아이디        0\n",
       "노동 계급      0\n",
       "학력         0\n",
       "혼인 상태      0\n",
       "직업         0\n",
       "          ..\n",
       "나이         0\n",
       "나이대        0\n",
       "fnlwgt     0\n",
       "fnlwgt2    0\n",
       "교육 수       0\n",
       "Length: 115, dtype: int64"
      ]
     },
     "execution_count": 31,
     "metadata": {},
     "output_type": "execute_result"
    }
   ],
   "source": [
    "human_train.isnull().sum()"
   ]
  },
  {
   "cell_type": "code",
   "execution_count": 32,
   "metadata": {},
   "outputs": [
    {
     "data": {
      "text/plain": [
       "아이디        0\n",
       "노동 계급      0\n",
       "학력         0\n",
       "혼인 상태      0\n",
       "직업         0\n",
       "          ..\n",
       "나이         0\n",
       "나이대        0\n",
       "fnlwgt     0\n",
       "fnlwgt2    0\n",
       "교육 수       0\n",
       "Length: 109, dtype: int64"
      ]
     },
     "execution_count": 32,
     "metadata": {},
     "output_type": "execute_result"
    }
   ],
   "source": [
    "human_train.dropna(inplace=True)\n",
    "human_train.isnull().sum()"
   ]
  },
  {
   "cell_type": "markdown",
   "metadata": {},
   "source": [
    "# 샘플링"
   ]
  },
  {
   "cell_type": "markdown",
   "metadata": {},
   "source": [
    "### 통합 샘플링"
   ]
  },
  {
   "cell_type": "code",
   "execution_count": 18,
   "metadata": {},
   "outputs": [
    {
     "name": "stdout",
     "output_type": "stream",
     "text": [
      "              precision    recall  f1-score   support\n",
      "\n",
      "           0       0.76      0.72      0.74      2530\n",
      "           1       0.86      0.88      0.87      4930\n",
      "\n",
      "    accuracy                           0.83      7460\n",
      "   macro avg       0.81      0.80      0.80      7460\n",
      "weighted avg       0.82      0.83      0.82      7460\n",
      "\n"
     ]
    }
   ],
   "source": [
    "tree3 = DecisionTreeClassifier(max_depth=10, random_state=0)\n",
    "tree3.fit(X_train, Y_train)\n",
    "pred_tree3 = tree3.predict(X_test);\n",
    "\n",
    "print(classification_report(Y_test, pred_tree3))"
   ]
  },
  {
   "cell_type": "code",
   "execution_count": 19,
   "metadata": {},
   "outputs": [],
   "source": [
    "htX, htY = SMOTETomek(random_state=0).fit_sample(X_train, Y_train)"
   ]
  },
  {
   "cell_type": "code",
   "execution_count": 20,
   "metadata": {},
   "outputs": [
    {
     "name": "stdout",
     "output_type": "stream",
     "text": [
      "              precision    recall  f1-score   support\n",
      "\n",
      "           0       0.71      0.77      0.74      2530\n",
      "           1       0.88      0.83      0.86      4930\n",
      "\n",
      "    accuracy                           0.81      7460\n",
      "   macro avg       0.79      0.80      0.80      7460\n",
      "weighted avg       0.82      0.81      0.82      7460\n",
      "\n"
     ]
    }
   ],
   "source": [
    "tree3 = DecisionTreeClassifier(max_depth=20, random_state=0)\n",
    "tree3.fit(htX, htY)\n",
    "pred_tree3 = tree3.predict(X_test)\n",
    "\n",
    "print(classification_report(Y_test, pred_tree3))\n",
    "\n",
    "# (precision) 0 이라고 예측한 데이터의 74%만 실제로 0\n",
    "# (precision) 1 이라고 예측한 데이터의 33%만 실제로 1\n",
    "# (recall) 실제 0인 데이터중 56%만 0으로 판별됨 \n",
    "# (recall) 실제 1인 데이타중 52%만 1로 판별됨"
   ]
  },
  {
   "cell_type": "markdown",
   "metadata": {},
   "source": [
    "### 언더 샘플링 / 오버 샘플링"
   ]
  },
  {
   "cell_type": "code",
   "execution_count": 21,
   "metadata": {},
   "outputs": [
    {
     "name": "stdout",
     "output_type": "stream",
     "text": [
      "13228 13228\n"
     ]
    }
   ],
   "source": [
    "aX = np.array(htX)\n",
    "aY = np.array(htY)\n",
    "print(np.sum(aY == 1), np.sum(aY == 0))"
   ]
  },
  {
   "cell_type": "code",
   "execution_count": 27,
   "metadata": {},
   "outputs": [],
   "source": [
    "#sampler = RandomUnderSampler(random_state=1)\n",
    "sampler = RandomOverSampler(random_state=1)\n",
    "aX, aY = sampler.fit_resample(aX, aY)"
   ]
  },
  {
   "cell_type": "code",
   "execution_count": 22,
   "metadata": {},
   "outputs": [
    {
     "name": "stdout",
     "output_type": "stream",
     "text": [
      "19804 10033\n"
     ]
    }
   ],
   "source": [
    "print(np.sum(aY == 1), np.sum(aY == 0))"
   ]
  },
  {
   "cell_type": "markdown",
   "metadata": {},
   "source": [
    "# Cross-Validation"
   ]
  },
  {
   "cell_type": "code",
   "execution_count": 30,
   "metadata": {},
   "outputs": [],
   "source": [
    "#model = KNeighborsClassifier()\n",
    "#model = LogisticRegression()\n",
    "model = DecisionTreeClassifier()\n",
    "# kf = StratifiedKFold(n_splits=10, shuffle=True)"
   ]
  },
  {
   "cell_type": "code",
   "execution_count": 31,
   "metadata": {},
   "outputs": [
    {
     "data": {
      "text/plain": [
       "array([0.79524129, 0.80663539, 0.80610022, 0.79654768, 0.7962125 ])"
      ]
     },
     "execution_count": 31,
     "metadata": {},
     "output_type": "execute_result"
    }
   ],
   "source": [
    "scores = cross_val_score(model, htX, htY)\n",
    "scores"
   ]
  },
  {
   "cell_type": "code",
   "execution_count": 32,
   "metadata": {},
   "outputs": [
    {
     "name": "stdout",
     "output_type": "stream",
     "text": [
      "Mean: 0.800\n",
      "Std: 0.005\n",
      "Min: 0.795\n",
      "Max: 0.807\n"
     ]
    }
   ],
   "source": [
    "print(\"Mean: {:.3f}\\nStd: {:.3f}\\nMin: {:.3f}\\nMax: {:.3f}\".format(\n",
    "    scores.mean(), scores.std(), scores.min(), scores.max()))"
   ]
  },
  {
   "cell_type": "markdown",
   "metadata": {},
   "source": [
    "# K-Fold 교차검증"
   ]
  },
  {
   "cell_type": "code",
   "execution_count": 33,
   "metadata": {},
   "outputs": [
    {
     "data": {
      "text/plain": [
       "KFold(n_splits=10, random_state=None, shuffle=True)"
      ]
     },
     "execution_count": 33,
     "metadata": {},
     "output_type": "execute_result"
    }
   ],
   "source": [
    "kf = KFold(n_splits=10, shuffle=True)\n",
    "# kf = LeaveOneOut()\n",
    "kf"
   ]
  },
  {
   "cell_type": "code",
   "execution_count": 34,
   "metadata": {},
   "outputs": [
    {
     "name": "stdout",
     "output_type": "stream",
     "text": [
      "0.8032642638040945 0.00722545288032349 0.8123324396782842 0.7877975192758967\n",
      "0.8392217101894521\n",
      "0.8370786516853933\n"
     ]
    }
   ],
   "source": [
    "scores = []\n",
    "\n",
    "for train_id, test_id in kf.split(aX):\n",
    "    x = aX[train_id]\n",
    "    y = aY[train_id]\n",
    "    clf = tree.DecisionTreeClassifier()\n",
    "    clf.fit(x,y)\n",
    "    pred_y = clf.predict(aX[test_id])\n",
    "    score = accuracy_score(aY[test_id], pred_y)\n",
    "    scores.append(score)\n",
    "\n",
    "scores = np.array(scores)\n",
    "print(scores.mean(), scores.std(), scores.max(), scores.min())\n",
    "print(recall_score(aY[test_id], pred_y))\n",
    "print(precision_score(aY[test_id], pred_y))"
   ]
  },
  {
   "cell_type": "code",
   "execution_count": 35,
   "metadata": {},
   "outputs": [],
   "source": [
    "dtrain = xgb.DMatrix(data=htX, label=htY)\n",
    "dtest = xgb.DMatrix(data=X_test, label=Y_test)"
   ]
  },
  {
   "cell_type": "code",
   "execution_count": 35,
   "metadata": {},
   "outputs": [],
   "source": [
    "# params = {\n",
    "#     'criterion': ['entropy'],    \n",
    "#     'max_depth': [2, 4, 6, 8, 10],\n",
    "#     'min_samples_leaf': [10, 20, 30, 40, 50],\n",
    "# }\n",
    "\n",
    "params = {\n",
    "#      'learning_rate': [0.05]\n",
    "#      ,'nestimators': [1000]\n",
    "#      ,'max_depth': [10, 15, 20]\n",
    "#     ,'num_leaves' : [100,500,1000]\n",
    "#     ,'objective' : ['binary','mae','mse']\n",
    "#     ,'boosting' : ['gbdt','dart','goss']\n",
    "    'eta':[0.01,0.05,0.1]\n",
    "     ,'n_estimators':[100,500,1000]\n",
    "      ,'max_depth':[3,6,10]\n",
    "#     ,'max_leaves' : [100,500,1000] \n",
    "     ,'booster' : ['gbtree']\n",
    "    ,'objective': ['binary:logistic']\n",
    "     ,'eval_metric':['logloss']\n",
    "    \n",
    "}"
   ]
  },
  {
   "cell_type": "code",
   "execution_count": 36,
   "metadata": {},
   "outputs": [],
   "source": [
    "lgbm_wrapper = LGBMClassifier()\n",
    "xgbb =XGBClassifier()"
   ]
  },
  {
   "cell_type": "code",
   "execution_count": 37,
   "metadata": {},
   "outputs": [],
   "source": [
    "# clf_gs = GridSearchCV(tree.DecisionTreeClassifier(), params, \n",
    "#                 cv=KFold(n_splits=10, shuffle=True), scoring='accuracy')\n",
    "clf_gs = GridSearchCV(estimator=xgbb, param_grid=params, \n",
    "                cv=KFold(n_splits=10, shuffle=True), scoring='accuracy')"
   ]
  },
  {
   "cell_type": "code",
   "execution_count": 38,
   "metadata": {},
   "outputs": [
    {
     "name": "stderr",
     "output_type": "stream",
     "text": [
      "C:\\Users\\020\\anaconda3\\lib\\site-packages\\xgboost\\sklearn.py:888: UserWarning: The use of label encoder in XGBClassifier is deprecated and will be removed in a future release. To remove this warning, do the following: 1) Pass option use_label_encoder=False when constructing XGBClassifier object; and 2) Encode your labels (y) as integers starting with 0, i.e. 0, 1, 2, ..., [num_class - 1].\n",
      "  warnings.warn(label_encoder_deprecation_msg, UserWarning)\n"
     ]
    },
    {
     "data": {
      "text/plain": [
       "GridSearchCV(cv=KFold(n_splits=10, random_state=None, shuffle=True),\n",
       "             estimator=XGBClassifier(base_score=None, booster=None,\n",
       "                                     colsample_bylevel=None,\n",
       "                                     colsample_bynode=None,\n",
       "                                     colsample_bytree=None, gamma=None,\n",
       "                                     gpu_id=None, importance_type='gain',\n",
       "                                     interaction_constraints=None,\n",
       "                                     learning_rate=None, max_delta_step=None,\n",
       "                                     max_depth=None, min_child_weight=None,\n",
       "                                     missing=nan, m...\n",
       "                                     num_parallel_tree=None, random_state=None,\n",
       "                                     reg_alpha=None, reg_lambda=None,\n",
       "                                     scale_pos_weight=None, subsample=None,\n",
       "                                     tree_method=None, validate_parameters=None,\n",
       "                                     verbosity=None),\n",
       "             param_grid={'booster': ['gbtree'], 'eta': [0.01, 0.05, 0.1],\n",
       "                         'eval_metric': ['logloss'], 'max_depth': [3, 6, 10],\n",
       "                         'n_estimators': [100, 500, 1000],\n",
       "                         'objective': ['binary:logistic']},\n",
       "             scoring='accuracy')"
      ]
     },
     "execution_count": 38,
     "metadata": {},
     "output_type": "execute_result"
    }
   ],
   "source": [
    "clf_gs.fit(X_train, Y_train)"
   ]
  },
  {
   "cell_type": "code",
   "execution_count": 39,
   "metadata": {},
   "outputs": [
    {
     "name": "stdout",
     "output_type": "stream",
     "text": [
      "0.8473434036312677\n",
      "{'booster': 'gbtree', 'eta': 0.1, 'eval_metric': 'logloss', 'max_depth': 6, 'n_estimators': 500, 'objective': 'binary:logistic'}\n"
     ]
    }
   ],
   "source": [
    "print(clf_gs.best_score_)\n",
    "print(clf_gs.best_params_)"
   ]
  },
  {
   "cell_type": "code",
   "execution_count": 150,
   "metadata": {},
   "outputs": [
    {
     "data": {
      "text/plain": [
       "0.8815697266993693"
      ]
     },
     "execution_count": 150,
     "metadata": {},
     "output_type": "execute_result"
    }
   ],
   "source": [
    "tree1 = DecisionTreeClassifier(max_depth=10, min_samples_leaf=30, random_state=0)\n",
    "tree1.fit(aX, aY).score(aX[test_id], aY[test_id])"
   ]
  },
  {
   "cell_type": "code",
   "execution_count": 22,
   "metadata": {},
   "outputs": [
    {
     "name": "stdout",
     "output_type": "stream",
     "text": [
      "1    4930\n",
      "0    2530\n",
      "Name: 성별, dtype: int64\n"
     ]
    },
    {
     "data": {
      "text/plain": [
       "0.339142091152815"
      ]
     },
     "execution_count": 22,
     "metadata": {},
     "output_type": "execute_result"
    }
   ],
   "source": [
    "print(Y_test.value_counts())\n",
    "dummy=DummyClassifier(strategy='most_frequent').fit(aX, aY)\n",
    "dummy.score(X_test, Y_test)"
   ]
  },
  {
   "cell_type": "code",
   "execution_count": 48,
   "metadata": {},
   "outputs": [
    {
     "data": {
      "text/plain": [
       "SVC(random_state=0)"
      ]
     },
     "execution_count": 48,
     "metadata": {},
     "output_type": "execute_result"
    }
   ],
   "source": [
    "svm = SVC(random_state=0)\n",
    "svm.fit(htX, htY)"
   ]
  },
  {
   "cell_type": "code",
   "execution_count": 49,
   "metadata": {},
   "outputs": [
    {
     "name": "stderr",
     "output_type": "stream",
     "text": [
      "C:\\Users\\020\\anaconda3\\lib\\site-packages\\sklearn\\neural_network\\_multilayer_perceptron.py:582: ConvergenceWarning: Stochastic Optimizer: Maximum iterations (200) reached and the optimization hasn't converged yet.\n",
      "  warnings.warn(\n"
     ]
    },
    {
     "data": {
      "text/plain": [
       "MLPClassifier()"
      ]
     },
     "execution_count": 49,
     "metadata": {},
     "output_type": "execute_result"
    }
   ],
   "source": [
    "mlp=MLPClassifier()\n",
    "mlp.fit(htX, htY)"
   ]
  },
  {
   "cell_type": "code",
   "execution_count": 50,
   "metadata": {},
   "outputs": [
    {
     "data": {
      "text/plain": [
       "0.8444338725023787"
      ]
     },
     "metadata": {},
     "output_type": "display_data"
    },
    {
     "data": {
      "text/plain": [
       "0.7733693649428817"
      ]
     },
     "metadata": {},
     "output_type": "display_data"
    }
   ],
   "source": [
    "display(svm.score(htX, htY))\n",
    "display(svm.score(X_test, Y_test))"
   ]
  },
  {
   "cell_type": "code",
   "execution_count": 51,
   "metadata": {},
   "outputs": [
    {
     "data": {
      "text/plain": [
       "0.9244211861718997"
      ]
     },
     "metadata": {},
     "output_type": "display_data"
    },
    {
     "data": {
      "text/plain": [
       "0.8334356958604594"
      ]
     },
     "metadata": {},
     "output_type": "display_data"
    }
   ],
   "source": [
    "display(mlp.score(htX, htY))\n",
    "display(mlp.score(X_test, Y_test))"
   ]
  },
  {
   "cell_type": "markdown",
   "metadata": {},
   "source": [
    "# xgboost"
   ]
  },
  {
   "cell_type": "code",
   "execution_count": 23,
   "metadata": {},
   "outputs": [],
   "source": [
    "dtrain = xgb.DMatrix(data=htX, label=htY)\n",
    "dtest = xgb.DMatrix(data=X_test, label=Y_test)"
   ]
  },
  {
   "cell_type": "code",
   "execution_count": 24,
   "metadata": {},
   "outputs": [],
   "source": [
    "params = {'max_depth':3,\n",
    "          'eta':0.1,\n",
    "          'objective':'binary:logistic',\n",
    "          'eval_metric':'logloss',\n",
    "          'early_stoppings':100\n",
    "         }\n",
    "num_rounds = 400"
   ]
  },
  {
   "cell_type": "code",
   "execution_count": 25,
   "metadata": {},
   "outputs": [
    {
     "name": "stdout",
     "output_type": "stream",
     "text": [
      "[14:06:36] WARNING: C:/Users/Administrator/workspace/xgboost-win64_release_1.3.0/src/learner.cc:541: \n",
      "Parameters: { early_stoppings } might not be used.\n",
      "\n",
      "  This may not be accurate due to some parameters are only used in language bindings but\n",
      "  passed down to XGBoost core.  Or some parameters are not used but slip through this\n",
      "  verification. Please open an issue if you find above cases.\n",
      "\n",
      "\n",
      "[0]\ttrain-logloss:0.64160\teval-logloss:0.64616\n",
      "[1]\ttrain-logloss:0.59911\teval-logloss:0.60732\n",
      "[2]\ttrain-logloss:0.56373\teval-logloss:0.57599\n",
      "[3]\ttrain-logloss:0.53358\teval-logloss:0.54891\n",
      "[4]\ttrain-logloss:0.50812\teval-logloss:0.52634\n",
      "[5]\ttrain-logloss:0.48377\teval-logloss:0.50594\n",
      "[6]\ttrain-logloss:0.46463\teval-logloss:0.48869\n",
      "[7]\ttrain-logloss:0.44584\teval-logloss:0.47273\n",
      "[8]\ttrain-logloss:0.43033\teval-logloss:0.45990\n",
      "[9]\ttrain-logloss:0.41720\teval-logloss:0.44804\n",
      "[10]\ttrain-logloss:0.40386\teval-logloss:0.43732\n",
      "[11]\ttrain-logloss:0.39346\teval-logloss:0.42801\n",
      "[12]\ttrain-logloss:0.38348\teval-logloss:0.42002\n",
      "[13]\ttrain-logloss:0.37513\teval-logloss:0.41261\n",
      "[14]\ttrain-logloss:0.36618\teval-logloss:0.40529\n",
      "[15]\ttrain-logloss:0.35935\teval-logloss:0.39925\n",
      "[16]\ttrain-logloss:0.35314\teval-logloss:0.39389\n",
      "[17]\ttrain-logloss:0.34755\teval-logloss:0.38920\n",
      "[18]\ttrain-logloss:0.34136\teval-logloss:0.38438\n",
      "[19]\ttrain-logloss:0.33664\teval-logloss:0.38036\n",
      "[20]\ttrain-logloss:0.33233\teval-logloss:0.37648\n",
      "[21]\ttrain-logloss:0.32816\teval-logloss:0.37324\n",
      "[22]\ttrain-logloss:0.32453\teval-logloss:0.36997\n",
      "[23]\ttrain-logloss:0.32116\teval-logloss:0.36703\n",
      "[24]\ttrain-logloss:0.31811\teval-logloss:0.36436\n",
      "[25]\ttrain-logloss:0.31453\teval-logloss:0.36180\n",
      "[26]\ttrain-logloss:0.31171\teval-logloss:0.35982\n",
      "[27]\ttrain-logloss:0.30928\teval-logloss:0.35749\n",
      "[28]\ttrain-logloss:0.30688\teval-logloss:0.35540\n",
      "[29]\ttrain-logloss:0.30474\teval-logloss:0.35378\n",
      "[30]\ttrain-logloss:0.30205\teval-logloss:0.35115\n",
      "[31]\ttrain-logloss:0.30009\teval-logloss:0.34970\n",
      "[32]\ttrain-logloss:0.29829\teval-logloss:0.34829\n",
      "[33]\ttrain-logloss:0.29619\teval-logloss:0.34678\n",
      "[34]\ttrain-logloss:0.29433\teval-logloss:0.34532\n",
      "[35]\ttrain-logloss:0.29182\teval-logloss:0.34366\n",
      "[36]\ttrain-logloss:0.29009\teval-logloss:0.34258\n",
      "[37]\ttrain-logloss:0.28859\teval-logloss:0.34148\n",
      "[38]\ttrain-logloss:0.28710\teval-logloss:0.34036\n",
      "[39]\ttrain-logloss:0.28575\teval-logloss:0.33955\n",
      "[40]\ttrain-logloss:0.28452\teval-logloss:0.33858\n",
      "[41]\ttrain-logloss:0.28317\teval-logloss:0.33753\n",
      "[42]\ttrain-logloss:0.28133\teval-logloss:0.33624\n",
      "[43]\ttrain-logloss:0.27959\teval-logloss:0.33529\n",
      "[44]\ttrain-logloss:0.27857\teval-logloss:0.33431\n",
      "[45]\ttrain-logloss:0.27751\teval-logloss:0.33363\n",
      "[46]\ttrain-logloss:0.27644\teval-logloss:0.33258\n",
      "[47]\ttrain-logloss:0.27506\teval-logloss:0.33159\n",
      "[48]\ttrain-logloss:0.27416\teval-logloss:0.33106\n",
      "[49]\ttrain-logloss:0.27326\teval-logloss:0.33018\n",
      "[50]\ttrain-logloss:0.27187\teval-logloss:0.32942\n",
      "[51]\ttrain-logloss:0.27107\teval-logloss:0.32887\n",
      "[52]\ttrain-logloss:0.27022\teval-logloss:0.32833\n",
      "[53]\ttrain-logloss:0.26948\teval-logloss:0.32782\n",
      "[54]\ttrain-logloss:0.26846\teval-logloss:0.32707\n",
      "[55]\ttrain-logloss:0.26772\teval-logloss:0.32663\n",
      "[56]\ttrain-logloss:0.26700\teval-logloss:0.32596\n",
      "[57]\ttrain-logloss:0.26633\teval-logloss:0.32561\n",
      "[58]\ttrain-logloss:0.26555\teval-logloss:0.32516\n",
      "[59]\ttrain-logloss:0.26478\teval-logloss:0.32458\n",
      "[60]\ttrain-logloss:0.26419\teval-logloss:0.32394\n",
      "[61]\ttrain-logloss:0.26349\teval-logloss:0.32356\n",
      "[62]\ttrain-logloss:0.26295\teval-logloss:0.32296\n",
      "[63]\ttrain-logloss:0.26233\teval-logloss:0.32261\n",
      "[64]\ttrain-logloss:0.26163\teval-logloss:0.32221\n",
      "[65]\ttrain-logloss:0.26109\teval-logloss:0.32192\n",
      "[66]\ttrain-logloss:0.26044\teval-logloss:0.32155\n",
      "[67]\ttrain-logloss:0.25934\teval-logloss:0.32096\n",
      "[68]\ttrain-logloss:0.25881\teval-logloss:0.32053\n",
      "[69]\ttrain-logloss:0.25815\teval-logloss:0.32041\n",
      "[70]\ttrain-logloss:0.25728\teval-logloss:0.31993\n",
      "[71]\ttrain-logloss:0.25639\teval-logloss:0.31958\n",
      "[72]\ttrain-logloss:0.25598\teval-logloss:0.31928\n",
      "[73]\ttrain-logloss:0.25547\teval-logloss:0.31870\n",
      "[74]\ttrain-logloss:0.25506\teval-logloss:0.31824\n",
      "[75]\ttrain-logloss:0.25438\teval-logloss:0.31756\n",
      "[76]\ttrain-logloss:0.25366\teval-logloss:0.31722\n",
      "[77]\ttrain-logloss:0.25325\teval-logloss:0.31696\n",
      "[78]\ttrain-logloss:0.25284\teval-logloss:0.31683\n",
      "[79]\ttrain-logloss:0.25237\teval-logloss:0.31660\n",
      "[80]\ttrain-logloss:0.25198\teval-logloss:0.31635\n",
      "[81]\ttrain-logloss:0.25157\teval-logloss:0.31598\n",
      "[82]\ttrain-logloss:0.25110\teval-logloss:0.31548\n",
      "[83]\ttrain-logloss:0.25067\teval-logloss:0.31535\n",
      "[84]\ttrain-logloss:0.25020\teval-logloss:0.31531\n",
      "[85]\ttrain-logloss:0.24973\teval-logloss:0.31494\n",
      "[86]\ttrain-logloss:0.24937\teval-logloss:0.31463\n",
      "[87]\ttrain-logloss:0.24886\teval-logloss:0.31450\n",
      "[88]\ttrain-logloss:0.24833\teval-logloss:0.31428\n",
      "[89]\ttrain-logloss:0.24770\teval-logloss:0.31402\n",
      "[90]\ttrain-logloss:0.24737\teval-logloss:0.31381\n",
      "[91]\ttrain-logloss:0.24697\teval-logloss:0.31354\n",
      "[92]\ttrain-logloss:0.24653\teval-logloss:0.31324\n",
      "[93]\ttrain-logloss:0.24618\teval-logloss:0.31318\n",
      "[94]\ttrain-logloss:0.24541\teval-logloss:0.31280\n",
      "[95]\ttrain-logloss:0.24511\teval-logloss:0.31268\n",
      "[96]\ttrain-logloss:0.24472\teval-logloss:0.31245\n",
      "[97]\ttrain-logloss:0.24433\teval-logloss:0.31223\n",
      "[98]\ttrain-logloss:0.24399\teval-logloss:0.31217\n",
      "[99]\ttrain-logloss:0.24374\teval-logloss:0.31201\n",
      "[100]\ttrain-logloss:0.24342\teval-logloss:0.31181\n",
      "[101]\ttrain-logloss:0.24307\teval-logloss:0.31162\n",
      "[102]\ttrain-logloss:0.24255\teval-logloss:0.31131\n",
      "[103]\ttrain-logloss:0.24187\teval-logloss:0.31105\n",
      "[104]\ttrain-logloss:0.24161\teval-logloss:0.31078\n",
      "[105]\ttrain-logloss:0.24136\teval-logloss:0.31070\n",
      "[106]\ttrain-logloss:0.24109\teval-logloss:0.31056\n",
      "[107]\ttrain-logloss:0.24062\teval-logloss:0.31044\n",
      "[108]\ttrain-logloss:0.24026\teval-logloss:0.31015\n",
      "[109]\ttrain-logloss:0.24006\teval-logloss:0.31007\n",
      "[110]\ttrain-logloss:0.23976\teval-logloss:0.30995\n",
      "[111]\ttrain-logloss:0.23955\teval-logloss:0.30971\n",
      "[112]\ttrain-logloss:0.23921\teval-logloss:0.30954\n",
      "[113]\ttrain-logloss:0.23898\teval-logloss:0.30939\n",
      "[114]\ttrain-logloss:0.23841\teval-logloss:0.30924\n",
      "[115]\ttrain-logloss:0.23812\teval-logloss:0.30911\n",
      "[116]\ttrain-logloss:0.23776\teval-logloss:0.30892\n",
      "[117]\ttrain-logloss:0.23748\teval-logloss:0.30878\n",
      "[118]\ttrain-logloss:0.23722\teval-logloss:0.30856\n",
      "[119]\ttrain-logloss:0.23704\teval-logloss:0.30851\n",
      "[120]\ttrain-logloss:0.23685\teval-logloss:0.30844\n",
      "[121]\ttrain-logloss:0.23666\teval-logloss:0.30829\n",
      "[122]\ttrain-logloss:0.23611\teval-logloss:0.30801\n",
      "[123]\ttrain-logloss:0.23591\teval-logloss:0.30793\n",
      "[124]\ttrain-logloss:0.23570\teval-logloss:0.30788\n",
      "[125]\ttrain-logloss:0.23517\teval-logloss:0.30780\n",
      "[126]\ttrain-logloss:0.23458\teval-logloss:0.30758\n",
      "[127]\ttrain-logloss:0.23443\teval-logloss:0.30753\n",
      "[128]\ttrain-logloss:0.23421\teval-logloss:0.30744\n",
      "[129]\ttrain-logloss:0.23402\teval-logloss:0.30737\n",
      "[130]\ttrain-logloss:0.23378\teval-logloss:0.30729\n",
      "[131]\ttrain-logloss:0.23362\teval-logloss:0.30712\n",
      "[132]\ttrain-logloss:0.23327\teval-logloss:0.30706\n",
      "[133]\ttrain-logloss:0.23303\teval-logloss:0.30698\n",
      "[134]\ttrain-logloss:0.23282\teval-logloss:0.30676\n",
      "[135]\ttrain-logloss:0.23261\teval-logloss:0.30663\n",
      "[136]\ttrain-logloss:0.23237\teval-logloss:0.30664\n",
      "[137]\ttrain-logloss:0.23224\teval-logloss:0.30656\n",
      "[138]\ttrain-logloss:0.23201\teval-logloss:0.30650\n",
      "[139]\ttrain-logloss:0.23180\teval-logloss:0.30634\n",
      "[140]\ttrain-logloss:0.23163\teval-logloss:0.30625\n",
      "[141]\ttrain-logloss:0.23145\teval-logloss:0.30623\n",
      "[142]\ttrain-logloss:0.23131\teval-logloss:0.30614\n",
      "[143]\ttrain-logloss:0.23091\teval-logloss:0.30616\n",
      "[144]\ttrain-logloss:0.23063\teval-logloss:0.30608\n",
      "[145]\ttrain-logloss:0.23045\teval-logloss:0.30597\n",
      "[146]\ttrain-logloss:0.23031\teval-logloss:0.30588\n",
      "[147]\ttrain-logloss:0.23014\teval-logloss:0.30598\n",
      "[148]\ttrain-logloss:0.22996\teval-logloss:0.30590\n",
      "[149]\ttrain-logloss:0.22969\teval-logloss:0.30583\n",
      "[150]\ttrain-logloss:0.22954\teval-logloss:0.30570\n",
      "[151]\ttrain-logloss:0.22937\teval-logloss:0.30568\n",
      "[152]\ttrain-logloss:0.22926\teval-logloss:0.30565\n",
      "[153]\ttrain-logloss:0.22914\teval-logloss:0.30557\n",
      "[154]\ttrain-logloss:0.22888\teval-logloss:0.30545\n",
      "[155]\ttrain-logloss:0.22870\teval-logloss:0.30538\n",
      "[156]\ttrain-logloss:0.22846\teval-logloss:0.30534\n",
      "[157]\ttrain-logloss:0.22835\teval-logloss:0.30533\n",
      "[158]\ttrain-logloss:0.22824\teval-logloss:0.30528\n",
      "[159]\ttrain-logloss:0.22803\teval-logloss:0.30527\n",
      "[160]\ttrain-logloss:0.22787\teval-logloss:0.30514\n",
      "[161]\ttrain-logloss:0.22761\teval-logloss:0.30506\n"
     ]
    },
    {
     "name": "stdout",
     "output_type": "stream",
     "text": [
      "[162]\ttrain-logloss:0.22736\teval-logloss:0.30502\n",
      "[163]\ttrain-logloss:0.22726\teval-logloss:0.30498\n",
      "[164]\ttrain-logloss:0.22701\teval-logloss:0.30474\n",
      "[165]\ttrain-logloss:0.22688\teval-logloss:0.30474\n",
      "[166]\ttrain-logloss:0.22673\teval-logloss:0.30465\n",
      "[167]\ttrain-logloss:0.22644\teval-logloss:0.30466\n",
      "[168]\ttrain-logloss:0.22635\teval-logloss:0.30465\n",
      "[169]\ttrain-logloss:0.22623\teval-logloss:0.30474\n",
      "[170]\ttrain-logloss:0.22611\teval-logloss:0.30462\n",
      "[171]\ttrain-logloss:0.22600\teval-logloss:0.30460\n",
      "[172]\ttrain-logloss:0.22581\teval-logloss:0.30447\n",
      "[173]\ttrain-logloss:0.22565\teval-logloss:0.30435\n",
      "[174]\ttrain-logloss:0.22551\teval-logloss:0.30429\n",
      "[175]\ttrain-logloss:0.22536\teval-logloss:0.30416\n",
      "[176]\ttrain-logloss:0.22521\teval-logloss:0.30414\n",
      "[177]\ttrain-logloss:0.22509\teval-logloss:0.30420\n",
      "[178]\ttrain-logloss:0.22483\teval-logloss:0.30404\n",
      "[179]\ttrain-logloss:0.22470\teval-logloss:0.30397\n",
      "[180]\ttrain-logloss:0.22449\teval-logloss:0.30391\n",
      "[181]\ttrain-logloss:0.22431\teval-logloss:0.30384\n",
      "[182]\ttrain-logloss:0.22417\teval-logloss:0.30379\n",
      "[183]\ttrain-logloss:0.22395\teval-logloss:0.30358\n",
      "[184]\ttrain-logloss:0.22385\teval-logloss:0.30353\n",
      "[185]\ttrain-logloss:0.22374\teval-logloss:0.30355\n",
      "[186]\ttrain-logloss:0.22357\teval-logloss:0.30344\n",
      "[187]\ttrain-logloss:0.22347\teval-logloss:0.30344\n",
      "[188]\ttrain-logloss:0.22335\teval-logloss:0.30338\n",
      "[189]\ttrain-logloss:0.22323\teval-logloss:0.30332\n",
      "[190]\ttrain-logloss:0.22311\teval-logloss:0.30330\n",
      "[191]\ttrain-logloss:0.22298\teval-logloss:0.30326\n",
      "[192]\ttrain-logloss:0.22286\teval-logloss:0.30332\n",
      "[193]\ttrain-logloss:0.22266\teval-logloss:0.30324\n",
      "[194]\ttrain-logloss:0.22254\teval-logloss:0.30319\n",
      "[195]\ttrain-logloss:0.22233\teval-logloss:0.30299\n",
      "[196]\ttrain-logloss:0.22221\teval-logloss:0.30297\n",
      "[197]\ttrain-logloss:0.22210\teval-logloss:0.30290\n",
      "[198]\ttrain-logloss:0.22197\teval-logloss:0.30282\n",
      "[199]\ttrain-logloss:0.22169\teval-logloss:0.30280\n",
      "[200]\ttrain-logloss:0.22160\teval-logloss:0.30284\n",
      "[201]\ttrain-logloss:0.22149\teval-logloss:0.30277\n",
      "[202]\ttrain-logloss:0.22136\teval-logloss:0.30271\n",
      "[203]\ttrain-logloss:0.22123\teval-logloss:0.30277\n",
      "[204]\ttrain-logloss:0.22111\teval-logloss:0.30274\n",
      "[205]\ttrain-logloss:0.22099\teval-logloss:0.30279\n",
      "[206]\ttrain-logloss:0.22090\teval-logloss:0.30280\n",
      "[207]\ttrain-logloss:0.22080\teval-logloss:0.30269\n",
      "[208]\ttrain-logloss:0.22067\teval-logloss:0.30264\n",
      "[209]\ttrain-logloss:0.22055\teval-logloss:0.30261\n",
      "[210]\ttrain-logloss:0.22042\teval-logloss:0.30262\n",
      "[211]\ttrain-logloss:0.22033\teval-logloss:0.30256\n",
      "[212]\ttrain-logloss:0.22021\teval-logloss:0.30249\n",
      "[213]\ttrain-logloss:0.22010\teval-logloss:0.30245\n",
      "[214]\ttrain-logloss:0.22002\teval-logloss:0.30252\n",
      "[215]\ttrain-logloss:0.21994\teval-logloss:0.30243\n",
      "[216]\ttrain-logloss:0.21985\teval-logloss:0.30233\n",
      "[217]\ttrain-logloss:0.21972\teval-logloss:0.30222\n",
      "[218]\ttrain-logloss:0.21962\teval-logloss:0.30225\n",
      "[219]\ttrain-logloss:0.21953\teval-logloss:0.30228\n",
      "[220]\ttrain-logloss:0.21939\teval-logloss:0.30224\n",
      "[221]\ttrain-logloss:0.21916\teval-logloss:0.30223\n",
      "[222]\ttrain-logloss:0.21901\teval-logloss:0.30227\n",
      "[223]\ttrain-logloss:0.21890\teval-logloss:0.30225\n",
      "[224]\ttrain-logloss:0.21876\teval-logloss:0.30222\n",
      "[225]\ttrain-logloss:0.21866\teval-logloss:0.30221\n",
      "[226]\ttrain-logloss:0.21856\teval-logloss:0.30225\n",
      "[227]\ttrain-logloss:0.21846\teval-logloss:0.30227\n",
      "[228]\ttrain-logloss:0.21836\teval-logloss:0.30229\n",
      "[229]\ttrain-logloss:0.21829\teval-logloss:0.30238\n",
      "[230]\ttrain-logloss:0.21819\teval-logloss:0.30226\n",
      "[231]\ttrain-logloss:0.21799\teval-logloss:0.30219\n",
      "[232]\ttrain-logloss:0.21790\teval-logloss:0.30215\n",
      "[233]\ttrain-logloss:0.21784\teval-logloss:0.30210\n",
      "[234]\ttrain-logloss:0.21779\teval-logloss:0.30212\n",
      "[235]\ttrain-logloss:0.21767\teval-logloss:0.30212\n",
      "[236]\ttrain-logloss:0.21752\teval-logloss:0.30205\n",
      "[237]\ttrain-logloss:0.21743\teval-logloss:0.30208\n",
      "[238]\ttrain-logloss:0.21725\teval-logloss:0.30206\n",
      "[239]\ttrain-logloss:0.21716\teval-logloss:0.30204\n",
      "[240]\ttrain-logloss:0.21706\teval-logloss:0.30205\n",
      "[241]\ttrain-logloss:0.21700\teval-logloss:0.30208\n",
      "[242]\ttrain-logloss:0.21691\teval-logloss:0.30209\n",
      "[243]\ttrain-logloss:0.21684\teval-logloss:0.30204\n",
      "[244]\ttrain-logloss:0.21667\teval-logloss:0.30187\n",
      "[245]\ttrain-logloss:0.21654\teval-logloss:0.30192\n",
      "[246]\ttrain-logloss:0.21637\teval-logloss:0.30182\n",
      "[247]\ttrain-logloss:0.21616\teval-logloss:0.30188\n",
      "[248]\ttrain-logloss:0.21607\teval-logloss:0.30181\n",
      "[249]\ttrain-logloss:0.21600\teval-logloss:0.30181\n",
      "[250]\ttrain-logloss:0.21592\teval-logloss:0.30179\n",
      "[251]\ttrain-logloss:0.21583\teval-logloss:0.30170\n",
      "[252]\ttrain-logloss:0.21569\teval-logloss:0.30174\n",
      "[253]\ttrain-logloss:0.21563\teval-logloss:0.30172\n",
      "[254]\ttrain-logloss:0.21553\teval-logloss:0.30165\n",
      "[255]\ttrain-logloss:0.21545\teval-logloss:0.30164\n",
      "[256]\ttrain-logloss:0.21535\teval-logloss:0.30160\n",
      "[257]\ttrain-logloss:0.21528\teval-logloss:0.30165\n",
      "[258]\ttrain-logloss:0.21518\teval-logloss:0.30162\n",
      "[259]\ttrain-logloss:0.21512\teval-logloss:0.30163\n",
      "[260]\ttrain-logloss:0.21502\teval-logloss:0.30165\n",
      "[261]\ttrain-logloss:0.21497\teval-logloss:0.30167\n",
      "[262]\ttrain-logloss:0.21487\teval-logloss:0.30168\n",
      "[263]\ttrain-logloss:0.21477\teval-logloss:0.30162\n",
      "[264]\ttrain-logloss:0.21467\teval-logloss:0.30159\n",
      "[265]\ttrain-logloss:0.21460\teval-logloss:0.30155\n",
      "[266]\ttrain-logloss:0.21449\teval-logloss:0.30158\n",
      "[267]\ttrain-logloss:0.21436\teval-logloss:0.30160\n",
      "[268]\ttrain-logloss:0.21427\teval-logloss:0.30163\n",
      "[269]\ttrain-logloss:0.21421\teval-logloss:0.30159\n",
      "[270]\ttrain-logloss:0.21415\teval-logloss:0.30167\n",
      "[271]\ttrain-logloss:0.21407\teval-logloss:0.30166\n",
      "[272]\ttrain-logloss:0.21397\teval-logloss:0.30167\n",
      "[273]\ttrain-logloss:0.21387\teval-logloss:0.30162\n",
      "[274]\ttrain-logloss:0.21381\teval-logloss:0.30158\n",
      "[275]\ttrain-logloss:0.21373\teval-logloss:0.30154\n",
      "[276]\ttrain-logloss:0.21366\teval-logloss:0.30148\n",
      "[277]\ttrain-logloss:0.21363\teval-logloss:0.30144\n",
      "[278]\ttrain-logloss:0.21346\teval-logloss:0.30144\n",
      "[279]\ttrain-logloss:0.21338\teval-logloss:0.30134\n",
      "[280]\ttrain-logloss:0.21333\teval-logloss:0.30133\n",
      "[281]\ttrain-logloss:0.21326\teval-logloss:0.30136\n",
      "[282]\ttrain-logloss:0.21320\teval-logloss:0.30137\n",
      "[283]\ttrain-logloss:0.21313\teval-logloss:0.30141\n",
      "[284]\ttrain-logloss:0.21307\teval-logloss:0.30143\n",
      "[285]\ttrain-logloss:0.21302\teval-logloss:0.30140\n",
      "[286]\ttrain-logloss:0.21286\teval-logloss:0.30124\n",
      "[287]\ttrain-logloss:0.21272\teval-logloss:0.30125\n",
      "[288]\ttrain-logloss:0.21252\teval-logloss:0.30126\n",
      "[289]\ttrain-logloss:0.21245\teval-logloss:0.30125\n",
      "[290]\ttrain-logloss:0.21240\teval-logloss:0.30121\n",
      "[291]\ttrain-logloss:0.21236\teval-logloss:0.30116\n",
      "[292]\ttrain-logloss:0.21229\teval-logloss:0.30119\n",
      "[293]\ttrain-logloss:0.21224\teval-logloss:0.30129\n",
      "[294]\ttrain-logloss:0.21217\teval-logloss:0.30126\n",
      "[295]\ttrain-logloss:0.21212\teval-logloss:0.30131\n",
      "[296]\ttrain-logloss:0.21201\teval-logloss:0.30124\n",
      "[297]\ttrain-logloss:0.21196\teval-logloss:0.30130\n",
      "[298]\ttrain-logloss:0.21188\teval-logloss:0.30129\n",
      "[299]\ttrain-logloss:0.21179\teval-logloss:0.30136\n",
      "[300]\ttrain-logloss:0.21171\teval-logloss:0.30134\n",
      "[301]\ttrain-logloss:0.21167\teval-logloss:0.30132\n",
      "[302]\ttrain-logloss:0.21161\teval-logloss:0.30134\n",
      "[303]\ttrain-logloss:0.21154\teval-logloss:0.30145\n",
      "[304]\ttrain-logloss:0.21147\teval-logloss:0.30152\n",
      "[305]\ttrain-logloss:0.21142\teval-logloss:0.30146\n",
      "[306]\ttrain-logloss:0.21132\teval-logloss:0.30145\n",
      "[307]\ttrain-logloss:0.21119\teval-logloss:0.30156\n",
      "[308]\ttrain-logloss:0.21112\teval-logloss:0.30148\n",
      "[309]\ttrain-logloss:0.21104\teval-logloss:0.30147\n",
      "[310]\ttrain-logloss:0.21096\teval-logloss:0.30152\n",
      "[311]\ttrain-logloss:0.21090\teval-logloss:0.30149\n",
      "[312]\ttrain-logloss:0.21083\teval-logloss:0.30145\n",
      "[313]\ttrain-logloss:0.21075\teval-logloss:0.30142\n",
      "[314]\ttrain-logloss:0.21071\teval-logloss:0.30146\n",
      "[315]\ttrain-logloss:0.21066\teval-logloss:0.30151\n",
      "[316]\ttrain-logloss:0.21051\teval-logloss:0.30147\n",
      "[317]\ttrain-logloss:0.21048\teval-logloss:0.30147\n",
      "[318]\ttrain-logloss:0.21044\teval-logloss:0.30143\n",
      "[319]\ttrain-logloss:0.21042\teval-logloss:0.30143\n",
      "[320]\ttrain-logloss:0.21035\teval-logloss:0.30135\n",
      "[321]\ttrain-logloss:0.21031\teval-logloss:0.30132\n",
      "[322]\ttrain-logloss:0.21024\teval-logloss:0.30128\n",
      "[323]\ttrain-logloss:0.21017\teval-logloss:0.30123\n",
      "[324]\ttrain-logloss:0.21012\teval-logloss:0.30122\n",
      "[325]\ttrain-logloss:0.21006\teval-logloss:0.30127\n",
      "[326]\ttrain-logloss:0.20999\teval-logloss:0.30128\n",
      "[327]\ttrain-logloss:0.20992\teval-logloss:0.30124\n",
      "[328]\ttrain-logloss:0.20979\teval-logloss:0.30123\n",
      "[329]\ttrain-logloss:0.20972\teval-logloss:0.30121\n"
     ]
    },
    {
     "name": "stdout",
     "output_type": "stream",
     "text": [
      "[330]\ttrain-logloss:0.20969\teval-logloss:0.30120\n",
      "[331]\ttrain-logloss:0.20962\teval-logloss:0.30122\n",
      "[332]\ttrain-logloss:0.20958\teval-logloss:0.30128\n",
      "[333]\ttrain-logloss:0.20955\teval-logloss:0.30129\n",
      "[334]\ttrain-logloss:0.20945\teval-logloss:0.30128\n",
      "[335]\ttrain-logloss:0.20939\teval-logloss:0.30126\n",
      "[336]\ttrain-logloss:0.20933\teval-logloss:0.30125\n",
      "[337]\ttrain-logloss:0.20925\teval-logloss:0.30128\n",
      "[338]\ttrain-logloss:0.20919\teval-logloss:0.30122\n",
      "[339]\ttrain-logloss:0.20912\teval-logloss:0.30117\n",
      "[340]\ttrain-logloss:0.20909\teval-logloss:0.30120\n",
      "[341]\ttrain-logloss:0.20905\teval-logloss:0.30119\n",
      "[342]\ttrain-logloss:0.20902\teval-logloss:0.30122\n",
      "[343]\ttrain-logloss:0.20898\teval-logloss:0.30123\n",
      "[344]\ttrain-logloss:0.20894\teval-logloss:0.30122\n",
      "[345]\ttrain-logloss:0.20888\teval-logloss:0.30125\n",
      "[346]\ttrain-logloss:0.20884\teval-logloss:0.30125\n",
      "[347]\ttrain-logloss:0.20878\teval-logloss:0.30126\n",
      "[348]\ttrain-logloss:0.20873\teval-logloss:0.30125\n",
      "[349]\ttrain-logloss:0.20868\teval-logloss:0.30126\n",
      "[350]\ttrain-logloss:0.20860\teval-logloss:0.30119\n",
      "[351]\ttrain-logloss:0.20854\teval-logloss:0.30126\n",
      "[352]\ttrain-logloss:0.20850\teval-logloss:0.30130\n",
      "[353]\ttrain-logloss:0.20844\teval-logloss:0.30131\n",
      "[354]\ttrain-logloss:0.20839\teval-logloss:0.30131\n",
      "[355]\ttrain-logloss:0.20835\teval-logloss:0.30128\n",
      "[356]\ttrain-logloss:0.20830\teval-logloss:0.30131\n",
      "[357]\ttrain-logloss:0.20821\teval-logloss:0.30127\n",
      "[358]\ttrain-logloss:0.20812\teval-logloss:0.30125\n",
      "[359]\ttrain-logloss:0.20809\teval-logloss:0.30124\n",
      "[360]\ttrain-logloss:0.20806\teval-logloss:0.30125\n",
      "[361]\ttrain-logloss:0.20801\teval-logloss:0.30125\n",
      "[362]\ttrain-logloss:0.20794\teval-logloss:0.30124\n",
      "[363]\ttrain-logloss:0.20785\teval-logloss:0.30126\n",
      "[364]\ttrain-logloss:0.20778\teval-logloss:0.30124\n",
      "[365]\ttrain-logloss:0.20772\teval-logloss:0.30119\n",
      "[366]\ttrain-logloss:0.20766\teval-logloss:0.30117\n",
      "[367]\ttrain-logloss:0.20760\teval-logloss:0.30113\n",
      "[368]\ttrain-logloss:0.20754\teval-logloss:0.30110\n",
      "[369]\ttrain-logloss:0.20746\teval-logloss:0.30112\n",
      "[370]\ttrain-logloss:0.20736\teval-logloss:0.30117\n",
      "[371]\ttrain-logloss:0.20731\teval-logloss:0.30121\n",
      "[372]\ttrain-logloss:0.20728\teval-logloss:0.30118\n",
      "[373]\ttrain-logloss:0.20725\teval-logloss:0.30118\n",
      "[374]\ttrain-logloss:0.20723\teval-logloss:0.30121\n",
      "[375]\ttrain-logloss:0.20720\teval-logloss:0.30122\n",
      "[376]\ttrain-logloss:0.20714\teval-logloss:0.30125\n",
      "[377]\ttrain-logloss:0.20701\teval-logloss:0.30120\n",
      "[378]\ttrain-logloss:0.20697\teval-logloss:0.30119\n",
      "[379]\ttrain-logloss:0.20692\teval-logloss:0.30120\n",
      "[380]\ttrain-logloss:0.20685\teval-logloss:0.30115\n",
      "[381]\ttrain-logloss:0.20679\teval-logloss:0.30116\n",
      "[382]\ttrain-logloss:0.20677\teval-logloss:0.30116\n",
      "[383]\ttrain-logloss:0.20665\teval-logloss:0.30116\n",
      "[384]\ttrain-logloss:0.20661\teval-logloss:0.30110\n",
      "[385]\ttrain-logloss:0.20657\teval-logloss:0.30110\n",
      "[386]\ttrain-logloss:0.20655\teval-logloss:0.30110\n",
      "[387]\ttrain-logloss:0.20652\teval-logloss:0.30111\n",
      "[388]\ttrain-logloss:0.20648\teval-logloss:0.30119\n",
      "[389]\ttrain-logloss:0.20643\teval-logloss:0.30122\n",
      "[390]\ttrain-logloss:0.20637\teval-logloss:0.30116\n",
      "[391]\ttrain-logloss:0.20633\teval-logloss:0.30115\n",
      "[392]\ttrain-logloss:0.20627\teval-logloss:0.30114\n",
      "[393]\ttrain-logloss:0.20622\teval-logloss:0.30116\n",
      "[394]\ttrain-logloss:0.20619\teval-logloss:0.30120\n",
      "[395]\ttrain-logloss:0.20611\teval-logloss:0.30118\n",
      "[396]\ttrain-logloss:0.20603\teval-logloss:0.30115\n",
      "[397]\ttrain-logloss:0.20597\teval-logloss:0.30113\n",
      "[398]\ttrain-logloss:0.20594\teval-logloss:0.30118\n",
      "[399]\ttrain-logloss:0.20591\teval-logloss:0.30117\n"
     ]
    }
   ],
   "source": [
    "# train 데이터 세트는 'train', evaluation(test) 데이터 세트는 'eval'로 명기\n",
    "wlist = [(dtrain, 'train'),(dtest, 'eval')]\n",
    "# 하이퍼 파라미터와 early stoppinig 파라미터를 train() 함수의 파라미터로 전달\n",
    "xgb_model = xgb.train(params=params, dtrain=dtrain, num_boost_round=num_rounds, evals=wlist)"
   ]
  },
  {
   "cell_type": "code",
   "execution_count": 26,
   "metadata": {},
   "outputs": [
    {
     "name": "stdout",
     "output_type": "stream",
     "text": [
      "[1.    0.074 0.182 0.06  0.901 1.    1.    0.999 0.493 1.   ]\n"
     ]
    }
   ],
   "source": [
    "pred_probs = xgb_model.predict(dtest)\n",
    "print(np.round(pred_probs[:10], 3))\n",
    "\n",
    "preds = [1 if x > 0.5 else 0 for x in pred_probs]"
   ]
  },
  {
   "cell_type": "code",
   "execution_count": 27,
   "metadata": {},
   "outputs": [],
   "source": [
    "def get_clf_eval(Y_test, pred):\n",
    "    confusion = confusion_matrix(Y_test, pred)\n",
    "    accuracy = accuracy_score(Y_test, pred)\n",
    "    precision = precision_score(Y_test, pred)\n",
    "    recall = recall_score(Y_test, pred)\n",
    "    print('오차행렬')\n",
    "    print(confusion)\n",
    "    print('정확도: {0:.4f}, 정밀도: {1:.4f}, 재현율: {2:.4f}'.format(accuracy, precision, recall))"
   ]
  },
  {
   "cell_type": "code",
   "execution_count": 28,
   "metadata": {},
   "outputs": [
    {
     "name": "stdout",
     "output_type": "stream",
     "text": [
      "오차행렬\n",
      "[[2095  435]\n",
      " [ 730 4200]]\n",
      "정확도: 0.8438, 정밀도: 0.9061, 재현율: 0.8519\n"
     ]
    }
   ],
   "source": [
    "get_clf_eval(Y_test, preds)"
   ]
  },
  {
   "cell_type": "code",
   "execution_count": 36,
   "metadata": {},
   "outputs": [
    {
     "data": {
      "text/plain": [
       "<AxesSubplot:title={'center':'Feature importance'}, xlabel='F score', ylabel='Features'>"
      ]
     },
     "execution_count": 36,
     "metadata": {},
     "output_type": "execute_result"
    },
    {
     "name": "stderr",
     "output_type": "stream",
     "text": [
      "C:\\Users\\020\\anaconda3\\lib\\site-packages\\matplotlib\\backends\\backend_agg.py:238: RuntimeWarning: Glyph 49692 missing from current font.\n",
      "  font.set_text(s, 0.0, flags=flags)\n",
      "C:\\Users\\020\\anaconda3\\lib\\site-packages\\matplotlib\\backends\\backend_agg.py:238: RuntimeWarning: Glyph 51060 missing from current font.\n",
      "  font.set_text(s, 0.0, flags=flags)\n",
      "C:\\Users\\020\\anaconda3\\lib\\site-packages\\matplotlib\\backends\\backend_agg.py:238: RuntimeWarning: Glyph 51061 missing from current font.\n",
      "  font.set_text(s, 0.0, flags=flags)\n",
      "C:\\Users\\020\\anaconda3\\lib\\site-packages\\matplotlib\\backends\\backend_agg.py:238: RuntimeWarning: Glyph 51088 missing from current font.\n",
      "  font.set_text(s, 0.0, flags=flags)\n",
      "C:\\Users\\020\\anaconda3\\lib\\site-packages\\matplotlib\\backends\\backend_agg.py:238: RuntimeWarning: Glyph 48376 missing from current font.\n",
      "  font.set_text(s, 0.0, flags=flags)\n",
      "C:\\Users\\020\\anaconda3\\lib\\site-packages\\matplotlib\\backends\\backend_agg.py:238: RuntimeWarning: Glyph 49552 missing from current font.\n",
      "  font.set_text(s, 0.0, flags=flags)\n",
      "C:\\Users\\020\\anaconda3\\lib\\site-packages\\matplotlib\\backends\\backend_agg.py:238: RuntimeWarning: Glyph 49892 missing from current font.\n",
      "  font.set_text(s, 0.0, flags=flags)\n",
      "C:\\Users\\020\\anaconda3\\lib\\site-packages\\matplotlib\\backends\\backend_agg.py:238: RuntimeWarning: Glyph 51064 missing from current font.\n",
      "  font.set_text(s, 0.0, flags=flags)\n",
      "C:\\Users\\020\\anaconda3\\lib\\site-packages\\matplotlib\\backends\\backend_agg.py:238: RuntimeWarning: Glyph 51333 missing from current font.\n",
      "  font.set_text(s, 0.0, flags=flags)\n",
      "C:\\Users\\020\\anaconda3\\lib\\site-packages\\matplotlib\\backends\\backend_agg.py:238: RuntimeWarning: Glyph 46301 missing from current font.\n",
      "  font.set_text(s, 0.0, flags=flags)\n",
      "C:\\Users\\020\\anaconda3\\lib\\site-packages\\matplotlib\\backends\\backend_agg.py:238: RuntimeWarning: Glyph 47784 missing from current font.\n",
      "  font.set_text(s, 0.0, flags=flags)\n",
      "C:\\Users\\020\\anaconda3\\lib\\site-packages\\matplotlib\\backends\\backend_agg.py:238: RuntimeWarning: Glyph 44397 missing from current font.\n",
      "  font.set_text(s, 0.0, flags=flags)\n",
      "C:\\Users\\020\\anaconda3\\lib\\site-packages\\matplotlib\\backends\\backend_agg.py:238: RuntimeWarning: Glyph 45432 missing from current font.\n",
      "  font.set_text(s, 0.0, flags=flags)\n",
      "C:\\Users\\020\\anaconda3\\lib\\site-packages\\matplotlib\\backends\\backend_agg.py:238: RuntimeWarning: Glyph 46041 missing from current font.\n",
      "  font.set_text(s, 0.0, flags=flags)\n",
      "C:\\Users\\020\\anaconda3\\lib\\site-packages\\matplotlib\\backends\\backend_agg.py:238: RuntimeWarning: Glyph 44228 missing from current font.\n",
      "  font.set_text(s, 0.0, flags=flags)\n",
      "C:\\Users\\020\\anaconda3\\lib\\site-packages\\matplotlib\\backends\\backend_agg.py:238: RuntimeWarning: Glyph 44553 missing from current font.\n",
      "  font.set_text(s, 0.0, flags=flags)\n",
      "C:\\Users\\020\\anaconda3\\lib\\site-packages\\matplotlib\\backends\\backend_agg.py:238: RuntimeWarning: Glyph 54844 missing from current font.\n",
      "  font.set_text(s, 0.0, flags=flags)\n",
      "C:\\Users\\020\\anaconda3\\lib\\site-packages\\matplotlib\\backends\\backend_agg.py:238: RuntimeWarning: Glyph 49345 missing from current font.\n",
      "  font.set_text(s, 0.0, flags=flags)\n",
      "C:\\Users\\020\\anaconda3\\lib\\site-packages\\matplotlib\\backends\\backend_agg.py:238: RuntimeWarning: Glyph 53468 missing from current font.\n",
      "  font.set_text(s, 0.0, flags=flags)\n",
      "C:\\Users\\020\\anaconda3\\lib\\site-packages\\matplotlib\\backends\\backend_agg.py:238: RuntimeWarning: Glyph 54617 missing from current font.\n",
      "  font.set_text(s, 0.0, flags=flags)\n",
      "C:\\Users\\020\\anaconda3\\lib\\site-packages\\matplotlib\\backends\\backend_agg.py:238: RuntimeWarning: Glyph 47141 missing from current font.\n",
      "  font.set_text(s, 0.0, flags=flags)\n",
      "C:\\Users\\020\\anaconda3\\lib\\site-packages\\matplotlib\\backends\\backend_agg.py:238: RuntimeWarning: Glyph 51649 missing from current font.\n",
      "  font.set_text(s, 0.0, flags=flags)\n",
      "C:\\Users\\020\\anaconda3\\lib\\site-packages\\matplotlib\\backends\\backend_agg.py:238: RuntimeWarning: Glyph 50629 missing from current font.\n",
      "  font.set_text(s, 0.0, flags=flags)\n",
      "C:\\Users\\020\\anaconda3\\lib\\site-packages\\matplotlib\\backends\\backend_agg.py:238: RuntimeWarning: Glyph 44368 missing from current font.\n",
      "  font.set_text(s, 0.0, flags=flags)\n",
      "C:\\Users\\020\\anaconda3\\lib\\site-packages\\matplotlib\\backends\\backend_agg.py:238: RuntimeWarning: Glyph 50977 missing from current font.\n",
      "  font.set_text(s, 0.0, flags=flags)\n",
      "C:\\Users\\020\\anaconda3\\lib\\site-packages\\matplotlib\\backends\\backend_agg.py:238: RuntimeWarning: Glyph 49688 missing from current font.\n",
      "  font.set_text(s, 0.0, flags=flags)\n",
      "C:\\Users\\020\\anaconda3\\lib\\site-packages\\matplotlib\\backends\\backend_agg.py:238: RuntimeWarning: Glyph 51452 missing from current font.\n",
      "  font.set_text(s, 0.0, flags=flags)\n",
      "C:\\Users\\020\\anaconda3\\lib\\site-packages\\matplotlib\\backends\\backend_agg.py:238: RuntimeWarning: Glyph 45817 missing from current font.\n",
      "  font.set_text(s, 0.0, flags=flags)\n",
      "C:\\Users\\020\\anaconda3\\lib\\site-packages\\matplotlib\\backends\\backend_agg.py:238: RuntimeWarning: Glyph 49884 missing from current font.\n",
      "  font.set_text(s, 0.0, flags=flags)\n",
      "C:\\Users\\020\\anaconda3\\lib\\site-packages\\matplotlib\\backends\\backend_agg.py:238: RuntimeWarning: Glyph 44036 missing from current font.\n",
      "  font.set_text(s, 0.0, flags=flags)\n",
      "C:\\Users\\020\\anaconda3\\lib\\site-packages\\matplotlib\\backends\\backend_agg.py:238: RuntimeWarning: Glyph 45208 missing from current font.\n",
      "  font.set_text(s, 0.0, flags=flags)\n",
      "C:\\Users\\020\\anaconda3\\lib\\site-packages\\matplotlib\\backends\\backend_agg.py:238: RuntimeWarning: Glyph 44288 missing from current font.\n",
      "  font.set_text(s, 0.0, flags=flags)\n",
      "C:\\Users\\020\\anaconda3\\lib\\site-packages\\matplotlib\\backends\\backend_agg.py:201: RuntimeWarning: Glyph 49692 missing from current font.\n",
      "  font.set_text(s, 0, flags=flags)\n",
      "C:\\Users\\020\\anaconda3\\lib\\site-packages\\matplotlib\\backends\\backend_agg.py:201: RuntimeWarning: Glyph 51060 missing from current font.\n",
      "  font.set_text(s, 0, flags=flags)\n",
      "C:\\Users\\020\\anaconda3\\lib\\site-packages\\matplotlib\\backends\\backend_agg.py:201: RuntimeWarning: Glyph 51061 missing from current font.\n",
      "  font.set_text(s, 0, flags=flags)\n",
      "C:\\Users\\020\\anaconda3\\lib\\site-packages\\matplotlib\\backends\\backend_agg.py:201: RuntimeWarning: Glyph 51088 missing from current font.\n",
      "  font.set_text(s, 0, flags=flags)\n",
      "C:\\Users\\020\\anaconda3\\lib\\site-packages\\matplotlib\\backends\\backend_agg.py:201: RuntimeWarning: Glyph 48376 missing from current font.\n",
      "  font.set_text(s, 0, flags=flags)\n",
      "C:\\Users\\020\\anaconda3\\lib\\site-packages\\matplotlib\\backends\\backend_agg.py:201: RuntimeWarning: Glyph 49552 missing from current font.\n",
      "  font.set_text(s, 0, flags=flags)\n",
      "C:\\Users\\020\\anaconda3\\lib\\site-packages\\matplotlib\\backends\\backend_agg.py:201: RuntimeWarning: Glyph 49892 missing from current font.\n",
      "  font.set_text(s, 0, flags=flags)\n",
      "C:\\Users\\020\\anaconda3\\lib\\site-packages\\matplotlib\\backends\\backend_agg.py:201: RuntimeWarning: Glyph 51064 missing from current font.\n",
      "  font.set_text(s, 0, flags=flags)\n",
      "C:\\Users\\020\\anaconda3\\lib\\site-packages\\matplotlib\\backends\\backend_agg.py:201: RuntimeWarning: Glyph 51333 missing from current font.\n",
      "  font.set_text(s, 0, flags=flags)\n",
      "C:\\Users\\020\\anaconda3\\lib\\site-packages\\matplotlib\\backends\\backend_agg.py:201: RuntimeWarning: Glyph 46301 missing from current font.\n",
      "  font.set_text(s, 0, flags=flags)\n",
      "C:\\Users\\020\\anaconda3\\lib\\site-packages\\matplotlib\\backends\\backend_agg.py:201: RuntimeWarning: Glyph 47784 missing from current font.\n",
      "  font.set_text(s, 0, flags=flags)\n",
      "C:\\Users\\020\\anaconda3\\lib\\site-packages\\matplotlib\\backends\\backend_agg.py:201: RuntimeWarning: Glyph 44397 missing from current font.\n",
      "  font.set_text(s, 0, flags=flags)\n",
      "C:\\Users\\020\\anaconda3\\lib\\site-packages\\matplotlib\\backends\\backend_agg.py:201: RuntimeWarning: Glyph 45432 missing from current font.\n",
      "  font.set_text(s, 0, flags=flags)\n",
      "C:\\Users\\020\\anaconda3\\lib\\site-packages\\matplotlib\\backends\\backend_agg.py:201: RuntimeWarning: Glyph 46041 missing from current font.\n",
      "  font.set_text(s, 0, flags=flags)\n",
      "C:\\Users\\020\\anaconda3\\lib\\site-packages\\matplotlib\\backends\\backend_agg.py:201: RuntimeWarning: Glyph 44228 missing from current font.\n",
      "  font.set_text(s, 0, flags=flags)\n",
      "C:\\Users\\020\\anaconda3\\lib\\site-packages\\matplotlib\\backends\\backend_agg.py:201: RuntimeWarning: Glyph 44553 missing from current font.\n",
      "  font.set_text(s, 0, flags=flags)\n",
      "C:\\Users\\020\\anaconda3\\lib\\site-packages\\matplotlib\\backends\\backend_agg.py:201: RuntimeWarning: Glyph 54844 missing from current font.\n",
      "  font.set_text(s, 0, flags=flags)\n",
      "C:\\Users\\020\\anaconda3\\lib\\site-packages\\matplotlib\\backends\\backend_agg.py:201: RuntimeWarning: Glyph 49345 missing from current font.\n",
      "  font.set_text(s, 0, flags=flags)\n",
      "C:\\Users\\020\\anaconda3\\lib\\site-packages\\matplotlib\\backends\\backend_agg.py:201: RuntimeWarning: Glyph 53468 missing from current font.\n",
      "  font.set_text(s, 0, flags=flags)\n",
      "C:\\Users\\020\\anaconda3\\lib\\site-packages\\matplotlib\\backends\\backend_agg.py:201: RuntimeWarning: Glyph 54617 missing from current font.\n",
      "  font.set_text(s, 0, flags=flags)\n",
      "C:\\Users\\020\\anaconda3\\lib\\site-packages\\matplotlib\\backends\\backend_agg.py:201: RuntimeWarning: Glyph 47141 missing from current font.\n",
      "  font.set_text(s, 0, flags=flags)\n",
      "C:\\Users\\020\\anaconda3\\lib\\site-packages\\matplotlib\\backends\\backend_agg.py:201: RuntimeWarning: Glyph 51649 missing from current font.\n",
      "  font.set_text(s, 0, flags=flags)\n",
      "C:\\Users\\020\\anaconda3\\lib\\site-packages\\matplotlib\\backends\\backend_agg.py:201: RuntimeWarning: Glyph 50629 missing from current font.\n",
      "  font.set_text(s, 0, flags=flags)\n",
      "C:\\Users\\020\\anaconda3\\lib\\site-packages\\matplotlib\\backends\\backend_agg.py:201: RuntimeWarning: Glyph 44368 missing from current font.\n",
      "  font.set_text(s, 0, flags=flags)\n",
      "C:\\Users\\020\\anaconda3\\lib\\site-packages\\matplotlib\\backends\\backend_agg.py:201: RuntimeWarning: Glyph 50977 missing from current font.\n",
      "  font.set_text(s, 0, flags=flags)\n",
      "C:\\Users\\020\\anaconda3\\lib\\site-packages\\matplotlib\\backends\\backend_agg.py:201: RuntimeWarning: Glyph 49688 missing from current font.\n",
      "  font.set_text(s, 0, flags=flags)\n",
      "C:\\Users\\020\\anaconda3\\lib\\site-packages\\matplotlib\\backends\\backend_agg.py:201: RuntimeWarning: Glyph 51452 missing from current font.\n",
      "  font.set_text(s, 0, flags=flags)\n",
      "C:\\Users\\020\\anaconda3\\lib\\site-packages\\matplotlib\\backends\\backend_agg.py:201: RuntimeWarning: Glyph 45817 missing from current font.\n",
      "  font.set_text(s, 0, flags=flags)\n",
      "C:\\Users\\020\\anaconda3\\lib\\site-packages\\matplotlib\\backends\\backend_agg.py:201: RuntimeWarning: Glyph 49884 missing from current font.\n",
      "  font.set_text(s, 0, flags=flags)\n",
      "C:\\Users\\020\\anaconda3\\lib\\site-packages\\matplotlib\\backends\\backend_agg.py:201: RuntimeWarning: Glyph 44036 missing from current font.\n",
      "  font.set_text(s, 0, flags=flags)\n",
      "C:\\Users\\020\\anaconda3\\lib\\site-packages\\matplotlib\\backends\\backend_agg.py:201: RuntimeWarning: Glyph 45208 missing from current font.\n",
      "  font.set_text(s, 0, flags=flags)\n",
      "C:\\Users\\020\\anaconda3\\lib\\site-packages\\matplotlib\\backends\\backend_agg.py:201: RuntimeWarning: Glyph 44288 missing from current font.\n",
      "  font.set_text(s, 0, flags=flags)\n"
     ]
    },
    {
     "data": {
      "image/png": "[encoded data removed]",
      "text/plain": [
       "<Figure size 720x864 with 1 Axes>"
      ]
     },
     "metadata": {
      "needs_background": "light"
     },
     "output_type": "display_data"
    }
   ],
   "source": [
    "from xgboost import plot_importance\n",
    "\n",
    "flg, ax = plt.subplots(figsize=(10, 12))\n",
    "plot_importance(xgb_model, ax=ax)"
   ]
  },
  {
   "cell_type": "code",
   "execution_count": null,
   "metadata": {},
   "outputs": [],
   "source": []
  },
  {
   "cell_type": "code",
   "execution_count": null,
   "metadata": {},
   "outputs": [],
   "source": []
  },
  {
   "cell_type": "code",
   "execution_count": null,
   "metadata": {},
   "outputs": [],
   "source": []
  },
  {
   "cell_type": "code",
   "execution_count": null,
   "metadata": {},
   "outputs": [],
   "source": []
  },
  {
   "cell_type": "code",
   "execution_count": null,
   "metadata": {},
   "outputs": [],
   "source": []
  },
  {
   "cell_type": "markdown",
   "metadata": {},
   "source": [
    "# LightGBM"
   ]
  },
  {
   "cell_type": "code",
   "execution_count": 38,
   "metadata": {},
   "outputs": [
    {
     "name": "stdout",
     "output_type": "stream",
     "text": [
      "[1]\tvalid_0's binary_logloss: 0.613174\tvalid_0's l2: 0.211872\n",
      "[2]\tvalid_0's binary_logloss: 0.588728\tvalid_0's l2: 0.20082\n",
      "[3]\tvalid_0's binary_logloss: 0.56661\tvalid_0's l2: 0.19081\n",
      "[4]\tvalid_0's binary_logloss: 0.546465\tvalid_0's l2: 0.181727\n",
      "[5]\tvalid_0's binary_logloss: 0.528199\tvalid_0's l2: 0.173554\n",
      "[6]\tvalid_0's binary_logloss: 0.511356\tvalid_0's l2: 0.166097\n",
      "[7]\tvalid_0's binary_logloss: 0.496029\tvalid_0's l2: 0.159405\n",
      "[8]\tvalid_0's binary_logloss: 0.502486\tvalid_0's l2: 0.162211\n",
      "[9]\tvalid_0's binary_logloss: 0.487825\tvalid_0's l2: 0.155865\n",
      "[10]\tvalid_0's binary_logloss: 0.474223\tvalid_0's l2: 0.15007\n",
      "[11]\tvalid_0's binary_logloss: 0.461658\tvalid_0's l2: 0.144816\n",
      "[12]\tvalid_0's binary_logloss: 0.466564\tvalid_0's l2: 0.14685\n",
      "[13]\tvalid_0's binary_logloss: 0.454436\tvalid_0's l2: 0.141825\n",
      "[14]\tvalid_0's binary_logloss: 0.44329\tvalid_0's l2: 0.137313\n",
      "[15]\tvalid_0's binary_logloss: 0.432958\tvalid_0's l2: 0.133224\n",
      "[16]\tvalid_0's binary_logloss: 0.423372\tvalid_0's l2: 0.129519\n",
      "[17]\tvalid_0's binary_logloss: 0.414416\tvalid_0's l2: 0.126142\n",
      "[18]\tvalid_0's binary_logloss: 0.406035\tvalid_0's l2: 0.123061\n",
      "[19]\tvalid_0's binary_logloss: 0.398263\tvalid_0's l2: 0.120276\n",
      "[20]\tvalid_0's binary_logloss: 0.390916\tvalid_0's l2: 0.117701\n",
      "[21]\tvalid_0's binary_logloss: 0.393647\tvalid_0's l2: 0.118629\n",
      "[22]\tvalid_0's binary_logloss: 0.386635\tvalid_0's l2: 0.116222\n",
      "[23]\tvalid_0's binary_logloss: 0.380033\tvalid_0's l2: 0.114008\n",
      "[24]\tvalid_0's binary_logloss: 0.373874\tvalid_0's l2: 0.112012\n",
      "[25]\tvalid_0's binary_logloss: 0.368164\tvalid_0's l2: 0.110216\n",
      "[26]\tvalid_0's binary_logloss: 0.362734\tvalid_0's l2: 0.108543\n",
      "[27]\tvalid_0's binary_logloss: 0.357625\tvalid_0's l2: 0.107006\n",
      "[28]\tvalid_0's binary_logloss: 0.360255\tvalid_0's l2: 0.107766\n",
      "[29]\tvalid_0's binary_logloss: 0.355297\tvalid_0's l2: 0.106292"
     ]
    },
    {
     "name": "stderr",
     "output_type": "stream",
     "text": [
      "C:\\Users\\020\\anaconda3\\lib\\site-packages\\lightgbm\\callback.py:189: UserWarning: Early stopping is not available in dart mode\n",
      "  warnings.warn('Early stopping is not available in dart mode')\n"
     ]
    },
    {
     "name": "stdout",
     "output_type": "stream",
     "text": [
      "\n",
      "[30]\tvalid_0's binary_logloss: 0.350658\tvalid_0's l2: 0.104959\n",
      "[31]\tvalid_0's binary_logloss: 0.352138\tvalid_0's l2: 0.105353\n",
      "[32]\tvalid_0's binary_logloss: 0.347638\tvalid_0's l2: 0.104094\n",
      "[33]\tvalid_0's binary_logloss: 0.343442\tvalid_0's l2: 0.102953\n",
      "[34]\tvalid_0's binary_logloss: 0.339395\tvalid_0's l2: 0.101848\n",
      "[35]\tvalid_0's binary_logloss: 0.342336\tvalid_0's l2: 0.102599\n",
      "[36]\tvalid_0's binary_logloss: 0.347403\tvalid_0's l2: 0.103929\n",
      "[37]\tvalid_0's binary_logloss: 0.343116\tvalid_0's l2: 0.102741\n",
      "[38]\tvalid_0's binary_logloss: 0.339057\tvalid_0's l2: 0.101647\n",
      "[39]\tvalid_0's binary_logloss: 0.335203\tvalid_0's l2: 0.100618\n",
      "[40]\tvalid_0's binary_logloss: 0.335061\tvalid_0's l2: 0.100547\n",
      "[41]\tvalid_0's binary_logloss: 0.338429\tvalid_0's l2: 0.101381\n",
      "[42]\tvalid_0's binary_logloss: 0.334743\tvalid_0's l2: 0.100441\n",
      "[43]\tvalid_0's binary_logloss: 0.337594\tvalid_0's l2: 0.101154\n",
      "[44]\tvalid_0's binary_logloss: 0.333903\tvalid_0's l2: 0.100198\n",
      "[45]\tvalid_0's binary_logloss: 0.330431\tvalid_0's l2: 0.0993208\n",
      "[46]\tvalid_0's binary_logloss: 0.365487\tvalid_0's l2: 0.106836\n",
      "[47]\tvalid_0's binary_logloss: 0.360179\tvalid_0's l2: 0.105305\n",
      "[48]\tvalid_0's binary_logloss: 0.359839\tvalid_0's l2: 0.105133\n",
      "[49]\tvalid_0's binary_logloss: 0.362716\tvalid_0's l2: 0.105871\n",
      "[50]\tvalid_0's binary_logloss: 0.366052\tvalid_0's l2: 0.106767\n",
      "[51]\tvalid_0's binary_logloss: 0.360679\tvalid_0's l2: 0.105206\n",
      "[52]\tvalid_0's binary_logloss: 0.3556\tvalid_0's l2: 0.103792\n",
      "[53]\tvalid_0's binary_logloss: 0.358693\tvalid_0's l2: 0.104586\n",
      "[54]\tvalid_0's binary_logloss: 0.353713\tvalid_0's l2: 0.103207\n",
      "[55]\tvalid_0's binary_logloss: 0.349132\tvalid_0's l2: 0.101997\n",
      "[56]\tvalid_0's binary_logloss: 0.352783\tvalid_0's l2: 0.102902\n",
      "[57]\tvalid_0's binary_logloss: 0.348095\tvalid_0's l2: 0.101648\n",
      "[58]\tvalid_0's binary_logloss: 0.393933\tvalid_0's l2: 0.117649\n",
      "[59]\tvalid_0's binary_logloss: 0.397177\tvalid_0's l2: 0.118521\n",
      "[60]\tvalid_0's binary_logloss: 0.389521\tvalid_0's l2: 0.115738\n",
      "[61]\tvalid_0's binary_logloss: 0.442174\tvalid_0's l2: 0.138003\n",
      "[62]\tvalid_0's binary_logloss: 0.430962\tvalid_0's l2: 0.133357\n",
      "[63]\tvalid_0's binary_logloss: 0.420441\tvalid_0's l2: 0.129084\n",
      "[64]\tvalid_0's binary_logloss: 0.421087\tvalid_0's l2: 0.129181\n",
      "[65]\tvalid_0's binary_logloss: 0.423083\tvalid_0's l2: 0.129888\n",
      "[66]\tvalid_0's binary_logloss: 0.413411\tvalid_0's l2: 0.126015\n",
      "[67]\tvalid_0's binary_logloss: 0.404389\tvalid_0's l2: 0.122502\n",
      "[68]\tvalid_0's binary_logloss: 0.395988\tvalid_0's l2: 0.1193\n",
      "[69]\tvalid_0's binary_logloss: 0.39781\tvalid_0's l2: 0.119805\n",
      "[70]\tvalid_0's binary_logloss: 0.398394\tvalid_0's l2: 0.119899\n",
      "[71]\tvalid_0's binary_logloss: 0.399539\tvalid_0's l2: 0.120036\n",
      "[72]\tvalid_0's binary_logloss: 0.391553\tvalid_0's l2: 0.11706\n",
      "[73]\tvalid_0's binary_logloss: 0.384191\tvalid_0's l2: 0.11439\n",
      "[74]\tvalid_0's binary_logloss: 0.386079\tvalid_0's l2: 0.114961\n",
      "[75]\tvalid_0's binary_logloss: 0.379023\tvalid_0's l2: 0.112478\n",
      "[76]\tvalid_0's binary_logloss: 0.37943\tvalid_0's l2: 0.112596\n",
      "[77]\tvalid_0's binary_logloss: 0.381041\tvalid_0's l2: 0.113034\n",
      "[78]\tvalid_0's binary_logloss: 0.383493\tvalid_0's l2: 0.113714\n",
      "[79]\tvalid_0's binary_logloss: 0.376662\tvalid_0's l2: 0.111368\n",
      "[80]\tvalid_0's binary_logloss: 0.37025\tvalid_0's l2: 0.1092\n",
      "[81]\tvalid_0's binary_logloss: 0.372921\tvalid_0's l2: 0.109973\n",
      "[82]\tvalid_0's binary_logloss: 0.366703\tvalid_0's l2: 0.107933\n",
      "[83]\tvalid_0's binary_logloss: 0.369759\tvalid_0's l2: 0.108796\n",
      "[84]\tvalid_0's binary_logloss: 0.372013\tvalid_0's l2: 0.109429\n",
      "[85]\tvalid_0's binary_logloss: 0.375033\tvalid_0's l2: 0.110338\n",
      "[86]\tvalid_0's binary_logloss: 0.368796\tvalid_0's l2: 0.108297\n",
      "[87]\tvalid_0's binary_logloss: 0.362882\tvalid_0's l2: 0.106401\n",
      "[88]\tvalid_0's binary_logloss: 0.366086\tvalid_0's l2: 0.107309\n",
      "[89]\tvalid_0's binary_logloss: 0.367771\tvalid_0's l2: 0.107701\n",
      "[90]\tvalid_0's binary_logloss: 0.37057\tvalid_0's l2: 0.108536\n",
      "[91]\tvalid_0's binary_logloss: 0.41013\tvalid_0's l2: 0.124538\n",
      "[92]\tvalid_0's binary_logloss: 0.401324\tvalid_0's l2: 0.121103\n",
      "[93]\tvalid_0's binary_logloss: 0.393118\tvalid_0's l2: 0.117978\n",
      "[94]\tvalid_0's binary_logloss: 0.396538\tvalid_0's l2: 0.119223\n",
      "[95]\tvalid_0's binary_logloss: 0.398487\tvalid_0's l2: 0.119837\n",
      "[96]\tvalid_0's binary_logloss: 0.40094\tvalid_0's l2: 0.120688\n",
      "[97]\tvalid_0's binary_logloss: 0.392813\tvalid_0's l2: 0.117613\n",
      "[98]\tvalid_0's binary_logloss: 0.394887\tvalid_0's l2: 0.118231\n",
      "[99]\tvalid_0's binary_logloss: 0.387178\tvalid_0's l2: 0.115406\n",
      "[100]\tvalid_0's binary_logloss: 0.379916\tvalid_0's l2: 0.112809\n"
     ]
    }
   ],
   "source": [
    "lgbm_wrapper = LGBMClassifier(learning_rate= 0.05,max_depth= 20,\n",
    "                              nestimators=1000, objective = 'mse',\n",
    "                              boosting='dart'\n",
    "                                ,num_leaves=100\n",
    "#                               ,min_data_in_leaf=200\n",
    "                             )\n",
    "evals = [(X_test, Y_test)]\n",
    "lgbm_wrapper.fit(htX, htY, early_stopping_rounds=100, \n",
    "                 eval_metric=\"logloss\", eval_set=evals, verbose=True)\n",
    "pred = lgbm_wrapper.predict(X_test)"
   ]
  },
  {
   "cell_type": "code",
   "execution_count": 39,
   "metadata": {},
   "outputs": [
    {
     "name": "stdout",
     "output_type": "stream",
     "text": [
      "오차행렬\n",
      "[[2358  172]\n",
      " [ 907 4023]]\n",
      "정확도: 0.8554, 정밀도: 0.9590, 재현율: 0.8160\n"
     ]
    }
   ],
   "source": [
    "get_clf_eval(Y_test, pred)"
   ]
  },
  {
   "cell_type": "code",
   "execution_count": 40,
   "metadata": {},
   "outputs": [],
   "source": [
    "# import lightgbm as lgb\n",
    "# lgbm_wrapper = LGBMClassifier(nestimators=1000,learning_rate=0.1)\n",
    "# def modelFitter(colsampleByTree, subsample,maxDepth, num_leaves):   \n",
    "#     model = lgb.LGBMRegressor(learning_rate=0.02, n_estimators=10000, max_depth=maxDepth.astype(\"int32\"), subsample=subsample, colsample_bytree=colsampleByTree,num_leaves=num_leaves.astype(\"int32\"))\n",
    "#     evalSet  = [(X_test, Y_test)]\n",
    "#     model.fit(htX, htY, eval_metric=\"rmse\", eval_set=evals, early_stopping_rounds=50, verbose=False)\n",
    "#     bestScore = model.best_score_[list(model.best_score_.keys())[0]]['rmse']\n",
    "#     return -bestScore\n",
    "# # Bounded region of parameter space\n",
    "# pbounds = {'colsampleByTree': (0.8,1.0), 'subsample': (0.8,1.0), 'maxDepth': (2,5), 'num_leaves': (24, 45)}\n",
    "# optimizer = BayesianOptimization(\n",
    "#     f=modelFitter,\n",
    "#     pbounds=pbounds,\n",
    "#     random_state=1)\n",
    "# optimizer.maximize(init_points=5,n_iter=5)  #n_iter=bayesian, init_points=random"
   ]
  },
  {
   "cell_type": "markdown",
   "metadata": {},
   "source": [
    "# PR curve"
   ]
  },
  {
   "cell_type": "code",
   "execution_count": 29,
   "metadata": {},
   "outputs": [],
   "source": [
    "def plot_precision_recall_curve(precisions, recalls) :\n",
    "    plt.plot(recalls, precisions, color='blue')\n",
    "    plt.axis([0,1,0,1])\n",
    "    plt.xlabel('Recall')\n",
    "    plt.ylabel('Precision')\n",
    "    plt.title('PR curve')"
   ]
  },
  {
   "cell_type": "code",
   "execution_count": 30,
   "metadata": {},
   "outputs": [
    {
     "ename": "NameError",
     "evalue": "name 'X_test_ndf' is not defined",
     "output_type": "error",
     "traceback": [
      "\u001b[1;31m---------------------------------------------------------------------------\u001b[0m",
      "\u001b[1;31mNameError\u001b[0m                                 Traceback (most recent call last)",
      "\u001b[1;32m<ipython-input-30-767d42c4df42>\u001b[0m in \u001b[0;36m<module>\u001b[1;34m\u001b[0m\n\u001b[1;32m----> 1\u001b[1;33m \u001b[0mxgb_model\u001b[0m\u001b[1;33m.\u001b[0m\u001b[0mpredict\u001b[0m\u001b[1;33m(\u001b[0m\u001b[0mX_test_ndf\u001b[0m\u001b[1;33m)\u001b[0m\u001b[1;33m\u001b[0m\u001b[1;33m\u001b[0m\u001b[0m\n\u001b[0m",
      "\u001b[1;31mNameError\u001b[0m: name 'X_test_ndf' is not defined"
     ]
    }
   ],
   "source": [
    "xgb_model.predict(X_test_ndf)"
   ]
  },
  {
   "cell_type": "code",
   "execution_count": 32,
   "metadata": {},
   "outputs": [],
   "source": [
    "X_test_ndf= xgb.DMatrix(data=X_test.iloc[:, 0:])"
   ]
  },
  {
   "cell_type": "code",
   "execution_count": 33,
   "metadata": {},
   "outputs": [
    {
     "data": {
      "text/html": [
       "<div>\n",
       "<style scoped>\n",
       "    .dataframe tbody tr th:only-of-type {\n",
       "        vertical-align: middle;\n",
       "    }\n",
       "\n",
       "    .dataframe tbody tr th {\n",
       "        vertical-align: top;\n",
       "    }\n",
       "\n",
       "    .dataframe thead th {\n",
       "        text-align: right;\n",
       "    }\n",
       "</style>\n",
       "<table border=\"1\" class=\"dataframe\">\n",
       "  <thead>\n",
       "    <tr style=\"text-align: right;\">\n",
       "      <th></th>\n",
       "      <th>나이</th>\n",
       "      <th>노동 계급</th>\n",
       "      <th>fnlwgt</th>\n",
       "      <th>학력</th>\n",
       "      <th>교육 수</th>\n",
       "      <th>혼인 상태</th>\n",
       "      <th>직업</th>\n",
       "      <th>관계</th>\n",
       "      <th>인종</th>\n",
       "      <th>자본 이득</th>\n",
       "      <th>...</th>\n",
       "      <th>Portugal</th>\n",
       "      <th>Puerto-Rico</th>\n",
       "      <th>Scotland</th>\n",
       "      <th>South</th>\n",
       "      <th>Taiwan</th>\n",
       "      <th>Thailand</th>\n",
       "      <th>Trinadad&amp;Tobago</th>\n",
       "      <th>United-States</th>\n",
       "      <th>Vietnam</th>\n",
       "      <th>Yugoslavia</th>\n",
       "    </tr>\n",
       "  </thead>\n",
       "  <tbody>\n",
       "    <tr>\n",
       "      <th>817</th>\n",
       "      <td>56</td>\n",
       "      <td>3</td>\n",
       "      <td>186556</td>\n",
       "      <td>15</td>\n",
       "      <td>10</td>\n",
       "      <td>2</td>\n",
       "      <td>2</td>\n",
       "      <td>0</td>\n",
       "      <td>4</td>\n",
       "      <td>0</td>\n",
       "      <td>...</td>\n",
       "      <td>0</td>\n",
       "      <td>0</td>\n",
       "      <td>0</td>\n",
       "      <td>0</td>\n",
       "      <td>0</td>\n",
       "      <td>0</td>\n",
       "      <td>0</td>\n",
       "      <td>1</td>\n",
       "      <td>0</td>\n",
       "      <td>0</td>\n",
       "    </tr>\n",
       "    <tr>\n",
       "      <th>12466</th>\n",
       "      <td>48</td>\n",
       "      <td>3</td>\n",
       "      <td>172709</td>\n",
       "      <td>11</td>\n",
       "      <td>9</td>\n",
       "      <td>0</td>\n",
       "      <td>7</td>\n",
       "      <td>4</td>\n",
       "      <td>2</td>\n",
       "      <td>0</td>\n",
       "      <td>...</td>\n",
       "      <td>0</td>\n",
       "      <td>0</td>\n",
       "      <td>0</td>\n",
       "      <td>0</td>\n",
       "      <td>0</td>\n",
       "      <td>0</td>\n",
       "      <td>0</td>\n",
       "      <td>1</td>\n",
       "      <td>0</td>\n",
       "      <td>0</td>\n",
       "    </tr>\n",
       "    <tr>\n",
       "      <th>2634</th>\n",
       "      <td>66</td>\n",
       "      <td>-1</td>\n",
       "      <td>112871</td>\n",
       "      <td>1</td>\n",
       "      <td>7</td>\n",
       "      <td>4</td>\n",
       "      <td>-1</td>\n",
       "      <td>1</td>\n",
       "      <td>4</td>\n",
       "      <td>0</td>\n",
       "      <td>...</td>\n",
       "      <td>0</td>\n",
       "      <td>0</td>\n",
       "      <td>0</td>\n",
       "      <td>0</td>\n",
       "      <td>0</td>\n",
       "      <td>0</td>\n",
       "      <td>0</td>\n",
       "      <td>1</td>\n",
       "      <td>0</td>\n",
       "      <td>0</td>\n",
       "    </tr>\n",
       "    <tr>\n",
       "      <th>20875</th>\n",
       "      <td>43</td>\n",
       "      <td>3</td>\n",
       "      <td>110556</td>\n",
       "      <td>11</td>\n",
       "      <td>9</td>\n",
       "      <td>5</td>\n",
       "      <td>3</td>\n",
       "      <td>4</td>\n",
       "      <td>2</td>\n",
       "      <td>0</td>\n",
       "      <td>...</td>\n",
       "      <td>0</td>\n",
       "      <td>0</td>\n",
       "      <td>0</td>\n",
       "      <td>0</td>\n",
       "      <td>0</td>\n",
       "      <td>0</td>\n",
       "      <td>0</td>\n",
       "      <td>1</td>\n",
       "      <td>0</td>\n",
       "      <td>0</td>\n",
       "    </tr>\n",
       "    <tr>\n",
       "      <th>5092</th>\n",
       "      <td>38</td>\n",
       "      <td>3</td>\n",
       "      <td>172571</td>\n",
       "      <td>15</td>\n",
       "      <td>10</td>\n",
       "      <td>0</td>\n",
       "      <td>2</td>\n",
       "      <td>3</td>\n",
       "      <td>4</td>\n",
       "      <td>0</td>\n",
       "      <td>...</td>\n",
       "      <td>0</td>\n",
       "      <td>0</td>\n",
       "      <td>0</td>\n",
       "      <td>0</td>\n",
       "      <td>0</td>\n",
       "      <td>0</td>\n",
       "      <td>0</td>\n",
       "      <td>0</td>\n",
       "      <td>0</td>\n",
       "      <td>0</td>\n",
       "    </tr>\n",
       "    <tr>\n",
       "      <th>...</th>\n",
       "      <td>...</td>\n",
       "      <td>...</td>\n",
       "      <td>...</td>\n",
       "      <td>...</td>\n",
       "      <td>...</td>\n",
       "      <td>...</td>\n",
       "      <td>...</td>\n",
       "      <td>...</td>\n",
       "      <td>...</td>\n",
       "      <td>...</td>\n",
       "      <td>...</td>\n",
       "      <td>...</td>\n",
       "      <td>...</td>\n",
       "      <td>...</td>\n",
       "      <td>...</td>\n",
       "      <td>...</td>\n",
       "      <td>...</td>\n",
       "      <td>...</td>\n",
       "      <td>...</td>\n",
       "      <td>...</td>\n",
       "      <td>...</td>\n",
       "    </tr>\n",
       "    <tr>\n",
       "      <th>30495</th>\n",
       "      <td>43</td>\n",
       "      <td>0</td>\n",
       "      <td>25005</td>\n",
       "      <td>12</td>\n",
       "      <td>14</td>\n",
       "      <td>2</td>\n",
       "      <td>5</td>\n",
       "      <td>0</td>\n",
       "      <td>4</td>\n",
       "      <td>5013</td>\n",
       "      <td>...</td>\n",
       "      <td>0</td>\n",
       "      <td>0</td>\n",
       "      <td>0</td>\n",
       "      <td>0</td>\n",
       "      <td>0</td>\n",
       "      <td>0</td>\n",
       "      <td>0</td>\n",
       "      <td>1</td>\n",
       "      <td>0</td>\n",
       "      <td>0</td>\n",
       "    </tr>\n",
       "    <tr>\n",
       "      <th>20751</th>\n",
       "      <td>36</td>\n",
       "      <td>3</td>\n",
       "      <td>177907</td>\n",
       "      <td>15</td>\n",
       "      <td>10</td>\n",
       "      <td>2</td>\n",
       "      <td>6</td>\n",
       "      <td>0</td>\n",
       "      <td>4</td>\n",
       "      <td>0</td>\n",
       "      <td>...</td>\n",
       "      <td>0</td>\n",
       "      <td>0</td>\n",
       "      <td>0</td>\n",
       "      <td>0</td>\n",
       "      <td>0</td>\n",
       "      <td>0</td>\n",
       "      <td>0</td>\n",
       "      <td>1</td>\n",
       "      <td>0</td>\n",
       "      <td>0</td>\n",
       "    </tr>\n",
       "    <tr>\n",
       "      <th>9796</th>\n",
       "      <td>39</td>\n",
       "      <td>3</td>\n",
       "      <td>74194</td>\n",
       "      <td>11</td>\n",
       "      <td>9</td>\n",
       "      <td>2</td>\n",
       "      <td>3</td>\n",
       "      <td>0</td>\n",
       "      <td>4</td>\n",
       "      <td>0</td>\n",
       "      <td>...</td>\n",
       "      <td>0</td>\n",
       "      <td>0</td>\n",
       "      <td>0</td>\n",
       "      <td>0</td>\n",
       "      <td>0</td>\n",
       "      <td>0</td>\n",
       "      <td>0</td>\n",
       "      <td>1</td>\n",
       "      <td>0</td>\n",
       "      <td>0</td>\n",
       "    </tr>\n",
       "    <tr>\n",
       "      <th>8744</th>\n",
       "      <td>22</td>\n",
       "      <td>1</td>\n",
       "      <td>134181</td>\n",
       "      <td>11</td>\n",
       "      <td>9</td>\n",
       "      <td>4</td>\n",
       "      <td>5</td>\n",
       "      <td>2</td>\n",
       "      <td>4</td>\n",
       "      <td>0</td>\n",
       "      <td>...</td>\n",
       "      <td>0</td>\n",
       "      <td>0</td>\n",
       "      <td>0</td>\n",
       "      <td>0</td>\n",
       "      <td>0</td>\n",
       "      <td>0</td>\n",
       "      <td>0</td>\n",
       "      <td>1</td>\n",
       "      <td>0</td>\n",
       "      <td>0</td>\n",
       "    </tr>\n",
       "    <tr>\n",
       "      <th>10487</th>\n",
       "      <td>27</td>\n",
       "      <td>3</td>\n",
       "      <td>285897</td>\n",
       "      <td>11</td>\n",
       "      <td>9</td>\n",
       "      <td>2</td>\n",
       "      <td>9</td>\n",
       "      <td>0</td>\n",
       "      <td>4</td>\n",
       "      <td>0</td>\n",
       "      <td>...</td>\n",
       "      <td>0</td>\n",
       "      <td>0</td>\n",
       "      <td>0</td>\n",
       "      <td>0</td>\n",
       "      <td>0</td>\n",
       "      <td>0</td>\n",
       "      <td>0</td>\n",
       "      <td>1</td>\n",
       "      <td>0</td>\n",
       "      <td>0</td>\n",
       "    </tr>\n",
       "  </tbody>\n",
       "</table>\n",
       "<p>7460 rows × 113 columns</p>\n",
       "</div>"
      ],
      "text/plain": [
       "       나이  노동 계급  fnlwgt  학력  교육 수  혼인 상태  직업  관계  인종  자본 이득  ...   Portugal  \\\n",
       "817    56      3  186556  15    10      2   2   0   4      0  ...          0   \n",
       "12466  48      3  172709  11     9      0   7   4   2      0  ...          0   \n",
       "2634   66     -1  112871   1     7      4  -1   1   4      0  ...          0   \n",
       "20875  43      3  110556  11     9      5   3   4   2      0  ...          0   \n",
       "5092   38      3  172571  15    10      0   2   3   4      0  ...          0   \n",
       "...    ..    ...     ...  ..   ...    ...  ..  ..  ..    ...  ...        ...   \n",
       "30495  43      0   25005  12    14      2   5   0   4   5013  ...          0   \n",
       "20751  36      3  177907  15    10      2   6   0   4      0  ...          0   \n",
       "9796   39      3   74194  11     9      2   3   0   4      0  ...          0   \n",
       "8744   22      1  134181  11     9      4   5   2   4      0  ...          0   \n",
       "10487  27      3  285897  11     9      2   9   0   4      0  ...          0   \n",
       "\n",
       "        Puerto-Rico   Scotland   South   Taiwan   Thailand   Trinadad&Tobago  \\\n",
       "817               0          0       0        0          0                 0   \n",
       "12466             0          0       0        0          0                 0   \n",
       "2634              0          0       0        0          0                 0   \n",
       "20875             0          0       0        0          0                 0   \n",
       "5092              0          0       0        0          0                 0   \n",
       "...             ...        ...     ...      ...        ...               ...   \n",
       "30495             0          0       0        0          0                 0   \n",
       "20751             0          0       0        0          0                 0   \n",
       "9796              0          0       0        0          0                 0   \n",
       "8744              0          0       0        0          0                 0   \n",
       "10487             0          0       0        0          0                 0   \n",
       "\n",
       "        United-States   Vietnam   Yugoslavia  \n",
       "817                 1         0            0  \n",
       "12466               1         0            0  \n",
       "2634                1         0            0  \n",
       "20875               1         0            0  \n",
       "5092                0         0            0  \n",
       "...               ...       ...          ...  \n",
       "30495               1         0            0  \n",
       "20751               1         0            0  \n",
       "9796                1         0            0  \n",
       "8744                1         0            0  \n",
       "10487               1         0            0  \n",
       "\n",
       "[7460 rows x 113 columns]"
      ]
     },
     "execution_count": 33,
     "metadata": {},
     "output_type": "execute_result"
    }
   ],
   "source": [
    "X_test"
   ]
  },
  {
   "cell_type": "code",
   "execution_count": 34,
   "metadata": {},
   "outputs": [
    {
     "ename": "NameError",
     "evalue": "name 'lgbm_wrapper' is not defined",
     "output_type": "error",
     "traceback": [
      "\u001b[1;31m---------------------------------------------------------------------------\u001b[0m",
      "\u001b[1;31mNameError\u001b[0m                                 Traceback (most recent call last)",
      "\u001b[1;32m<ipython-input-34-6f07383c8237>\u001b[0m in \u001b[0;36m<module>\u001b[1;34m\u001b[0m\n\u001b[1;32m----> 1\u001b[1;33m \u001b[0mlgbm_wrapper\u001b[0m\u001b[1;33m.\u001b[0m\u001b[0mpredict_proba\u001b[0m\u001b[1;33m(\u001b[0m\u001b[0mX_test\u001b[0m\u001b[1;33m)\u001b[0m\u001b[1;33m\u001b[0m\u001b[1;33m\u001b[0m\u001b[0m\n\u001b[0m",
      "\u001b[1;31mNameError\u001b[0m: name 'lgbm_wrapper' is not defined"
     ]
    }
   ],
   "source": [
    "lgbm_wrapper.predict_proba(X_test)"
   ]
  },
  {
   "cell_type": "code",
   "execution_count": 35,
   "metadata": {},
   "outputs": [],
   "source": [
    "precisions, recalls, _ = precision_recall_curve(Y_test, \n",
    "                                    xgb_model.predict(X_test_ndf))"
   ]
  },
  {
   "cell_type": "code",
   "execution_count": 36,
   "metadata": {},
   "outputs": [
    {
     "data": {
      "text/plain": [
       "array([0.6952475 , 0.69520451, 0.69530258, ..., 1.        , 1.        ,\n",
       "       1.        ])"
      ]
     },
     "execution_count": 36,
     "metadata": {},
     "output_type": "execute_result"
    }
   ],
   "source": [
    "precisions"
   ]
  },
  {
   "cell_type": "code",
   "execution_count": 37,
   "metadata": {},
   "outputs": [
    {
     "data": {
      "text/plain": [
       "array([1.00000000e+00, 9.99797160e-01, 9.99797160e-01, ...,\n",
       "       4.05679513e-04, 2.02839757e-04, 0.00000000e+00])"
      ]
     },
     "execution_count": 37,
     "metadata": {},
     "output_type": "execute_result"
    }
   ],
   "source": [
    "recalls"
   ]
  },
  {
   "cell_type": "code",
   "execution_count": 38,
   "metadata": {},
   "outputs": [
    {
     "data": {
      "text/plain": [
       "array([0.01352556, 0.0135593 , 0.01359107, ..., 0.9999747 , 0.99997854,\n",
       "       0.9999819 ], dtype=float32)"
      ]
     },
     "execution_count": 38,
     "metadata": {},
     "output_type": "execute_result"
    }
   ],
   "source": [
    "_"
   ]
  },
  {
   "cell_type": "code",
   "execution_count": 39,
   "metadata": {},
   "outputs": [
    {
     "data": {
      "image/png": "[encoded data removed]",
      "text/plain": [
       "<Figure size 432x288 with 1 Axes>"
      ]
     },
     "metadata": {
      "needs_background": "light"
     },
     "output_type": "display_data"
    }
   ],
   "source": [
    "plot_precision_recall_curve(precisions, recalls)"
   ]
  },
  {
   "cell_type": "code",
   "execution_count": 40,
   "metadata": {},
   "outputs": [
    {
     "data": {
      "text/plain": [
       "0.9310989825942644"
      ]
     },
     "execution_count": 40,
     "metadata": {},
     "output_type": "execute_result"
    }
   ],
   "source": [
    "fpr, tpr, _ = roc_curve(Y_test, xgb_model.predict(X_test_ndf))\n",
    "auc(fpr, tpr)"
   ]
  },
  {
   "cell_type": "code",
   "execution_count": 41,
   "metadata": {},
   "outputs": [],
   "source": [
    "def plot_roc_curve(fpr, tpr, model, color=None) :\n",
    "    model = model + ' (auc = %0.3f)' % auc(fpr, tpr)\n",
    "    plt.plot(fpr, tpr, label=model, color=color)\n",
    "    plt.plot([0, 1], [0, 1], color='navy', linestyle='--')\n",
    "    plt.axis([0,1,0,1])\n",
    "    plt.xlabel('FPR (1 - specificity)')\n",
    "    plt.ylabel('TPR (recall)')\n",
    "    plt.title('ROC curve')\n",
    "    plt.legend(loc=\"lower right\")"
   ]
  },
  {
   "cell_type": "code",
   "execution_count": 42,
   "metadata": {
    "scrolled": true
   },
   "outputs": [
    {
     "data": {
      "image/png": "[encoded data removed]",
      "text/plain": [
       "<Figure size 432x288 with 1 Axes>"
      ]
     },
     "metadata": {
      "needs_background": "light"
     },
     "output_type": "display_data"
    }
   ],
   "source": [
    "fpr_dummy, tpr_dummy, _ = roc_curve(Y_test, \n",
    "                                    dummy.predict_proba(X_test)[:,1])\n",
    "plot_roc_curve(fpr_dummy, tpr_dummy, 'dummy model', 'hotpink')\n",
    "fpr_tree, tpr_tree, _ = roc_curve(Y_test, \n",
    "                                  xgb_model.predict(X_test_ndf))\n",
    "plot_roc_curve(fpr_tree, tpr_tree, 'light GBM', 'darkgreen')"
   ]
  },
  {
   "cell_type": "code",
   "execution_count": 44,
   "metadata": {},
   "outputs": [],
   "source": [
    "human_new = pd.read_csv(\"work/human_new.csv\", encoding=\"cp949\")\n",
    "\n",
    "# imputer_con = SimpleImputer(strategy=\"most_frequent\")  \n",
    "# imputer_con.fit(human_new[[\"노동 계급\",\"직업\",\"모국\"]])\n",
    "# x = imputer_con.transform(human_new[[\"노동 계급\",\"직업\",\"모국\"]])\n",
    "# human_new[[\"노동 계급\",\"직업\",\"모국\"]] = x"
   ]
  },
  {
   "cell_type": "code",
   "execution_count": 45,
   "metadata": {},
   "outputs": [],
   "source": [
    "s1=human_new['자본 이득']\n",
    "s2=human_new['자본 손실']\n",
    "s=s1+s2\n",
    "s.rename(\"순이익\",inplace=True)\n",
    "human_new = pd.concat([human_new,s],axis=1)"
   ]
  },
  {
   "cell_type": "code",
   "execution_count": 46,
   "metadata": {},
   "outputs": [],
   "source": [
    "human_new['나이대'] = (human_new['나이']/10).astype(int)\n",
    "human_new['주당 시간별'] = (human_new['주당 시간']/10).astype(int)\n",
    "human_new['fnlwgt2'] = (human_new['fnlwgt']/10000).astype(int)"
   ]
  },
  {
   "cell_type": "code",
   "execution_count": 47,
   "metadata": {},
   "outputs": [],
   "source": [
    "working_class = pd.get_dummies(human_new[\"노동 계급\"])\n",
    "human_new = pd.concat([human_new, working_class], axis=1)\n",
    "# human_new.drop(\"노동 계급\", axis=1, inplace=True)\n",
    "\n",
    "human_new[[\"노동 계급\"]] = human_new[[\"노동 계급\"]].apply(lambda x: x.str.lstrip())\n",
    "human_new[[\"노동 계급\"]] = human_new[[\"노동 계급\"]].apply(lambda x: x.astype('category').cat.codes)"
   ]
  },
  {
   "cell_type": "code",
   "execution_count": 48,
   "metadata": {},
   "outputs": [],
   "source": [
    "academic_ability = pd.get_dummies(human_new[\"학력\"])\n",
    "human_new = pd.concat([human_new,academic_ability],axis=1)\n",
    "# human_new.drop(\"학력\",axis=1,inplace=True)\n",
    "\n",
    "human_new[[\"학력\"]] = human_new[[\"학력\"]].apply(lambda x: x.str.lstrip())\n",
    "human_new[[\"학력\"]] = human_new[[\"학력\"]].apply(lambda x: x.astype('category').cat.codes)"
   ]
  },
  {
   "cell_type": "code",
   "execution_count": 49,
   "metadata": {},
   "outputs": [],
   "source": [
    "marital_status = pd.get_dummies(human_new[\"혼인 상태\"])\n",
    "human_new = pd.concat([human_new,marital_status], axis=1)\n",
    "# human_new.drop(\"혼인 상태\", axis=1, inplace=True)\n",
    "\n",
    "human_new[[\"혼인 상태\"]] = human_new[[\"혼인 상태\"]].apply(lambda x: x.str.lstrip())\n",
    "human_new[[\"혼인 상태\"]] = human_new[[\"혼인 상태\"]].apply(lambda x: x.astype('category').cat.codes)"
   ]
  },
  {
   "cell_type": "code",
   "execution_count": 50,
   "metadata": {},
   "outputs": [],
   "source": [
    "jobs = pd.get_dummies(human_new[\"직업\"])\n",
    "human_new = pd.concat([human_new, jobs], axis=1)\n",
    "# human_new.drop(\"직업\", axis=1, inplace=True)\n",
    "\n",
    "human_new[[\"직업\"]] = human_new[[\"직업\"]].apply(lambda x: x.str.lstrip())\n",
    "human_new[[\"직업\"]] = human_new[[\"직업\"]].apply(lambda x: x.astype('category').cat.codes)"
   ]
  },
  {
   "cell_type": "code",
   "execution_count": 51,
   "metadata": {},
   "outputs": [],
   "source": [
    "relationship = pd.get_dummies(human_new[\"관계\"])\n",
    "human_new = pd.concat([human_new, relationship], axis=1)\n",
    "# human_new.drop(\"관계\", axis=1, inplace=True)\n",
    "\n",
    "human_new[[\"관계\"]] = human_new[[\"관계\"]].apply(lambda x: x.str.lstrip())\n",
    "human_new[[\"관계\"]] = human_new[[\"관계\"]].apply(lambda x: x.astype('category').cat.codes)"
   ]
  },
  {
   "cell_type": "code",
   "execution_count": 52,
   "metadata": {},
   "outputs": [],
   "source": [
    "race = pd.get_dummies(human_new[\"인종\"])\n",
    "human_new = pd.concat([human_new, race], axis=1)\n",
    "# human_new.drop(\"인종\", axis=1, inplace=True)\n",
    "\n",
    "human_new[[\"인종\"]] = human_new[[\"인종\"]].apply(lambda x: x.str.lstrip())\n",
    "human_new[[\"인종\"]] = human_new[[\"인종\"]].apply(lambda x: x.astype('category').cat.codes)"
   ]
  },
  {
   "cell_type": "code",
   "execution_count": 53,
   "metadata": {},
   "outputs": [],
   "source": [
    "homeland = pd.get_dummies(human_new[\"모국\"])\n",
    "human_new = pd.concat([human_new, homeland], axis=1)\n",
    "# human_new.drop(\"모국\", axis=1, inplace=True)\n",
    "# human_new[\" Holand-Netherlands\"]=human_new[\" Yugoslavia\"]\n",
    "# human_new.loc[:,[\" Holand-Netherlands\"]]=0\n",
    "\n",
    "human_new[[\"모국\"]] = human_new[[\"모국\"]].apply(lambda x: x.str.lstrip())\n",
    "human_new[[\"모국\"]] = human_new[[\"모국\"]].apply(lambda x: x.astype('category').cat.codes)"
   ]
  },
  {
   "cell_type": "code",
   "execution_count": 40,
   "metadata": {},
   "outputs": [],
   "source": [
    "human_new.drop([\"자본 이득\",\"자본 손실\",\"순이익\"],axis=1,inplace=True)"
   ]
  },
  {
   "cell_type": "code",
   "execution_count": 52,
   "metadata": {},
   "outputs": [],
   "source": [
    "human_new.drop([\" 5th-6th\",\" 7th-8th\",\" Preschool\",\" Doctorate\",\" 9th\",\" 1st-4th\"],axis=1,inplace=True)"
   ]
  },
  {
   "cell_type": "code",
   "execution_count": 53,
   "metadata": {},
   "outputs": [],
   "source": [
    "human_new_x=human_new.loc[:,['주당 시간','주당 시간별','나이','나이대','fnlwgt','fnlwgt2','교육 수']]"
   ]
  },
  {
   "cell_type": "code",
   "execution_count": 54,
   "metadata": {},
   "outputs": [],
   "source": [
    "human_new.drop(['주당 시간','주당 시간별','나이','나이대','fnlwgt','fnlwgt2','교육 수'],axis=1,inplace=True)"
   ]
  },
  {
   "cell_type": "code",
   "execution_count": 55,
   "metadata": {},
   "outputs": [],
   "source": [
    "human_new = pd.concat([human_new,human_new_x],axis=1)"
   ]
  },
  {
   "cell_type": "code",
   "execution_count": 54,
   "metadata": {},
   "outputs": [],
   "source": [
    "human_new_ndf= xgb.DMatrix(data=human_new.iloc[:, 1:])"
   ]
  },
  {
   "cell_type": "code",
   "execution_count": 55,
   "metadata": {},
   "outputs": [
    {
     "data": {
      "text/plain": [
       "<xgboost.core.DMatrix at 0x2135f58d7f0>"
      ]
     },
     "execution_count": 55,
     "metadata": {},
     "output_type": "execute_result"
    }
   ],
   "source": [
    "human_new_ndf"
   ]
  },
  {
   "cell_type": "code",
   "execution_count": 47,
   "metadata": {},
   "outputs": [
    {
     "ename": "AttributeError",
     "evalue": "'Booster' object has no attribute 'predict_proba'",
     "output_type": "error",
     "traceback": [
      "\u001b[1;31m---------------------------------------------------------------------------\u001b[0m",
      "\u001b[1;31mAttributeError\u001b[0m                            Traceback (most recent call last)",
      "\u001b[1;32m<ipython-input-47-0dd0a78dd7c5>\u001b[0m in \u001b[0;36m<module>\u001b[1;34m\u001b[0m\n\u001b[1;32m----> 1\u001b[1;33m \u001b[0mndf_predict_proba\u001b[0m \u001b[1;33m=\u001b[0m \u001b[0mxgb_model\u001b[0m\u001b[1;33m.\u001b[0m\u001b[0mpredict_proba\u001b[0m\u001b[1;33m(\u001b[0m\u001b[0mhuman_new\u001b[0m\u001b[1;33m.\u001b[0m\u001b[0mloc\u001b[0m\u001b[1;33m[\u001b[0m\u001b[1;33m:\u001b[0m\u001b[1;33m,\u001b[0m \u001b[1;34m'나이'\u001b[0m\u001b[1;33m:\u001b[0m\u001b[1;34m' Yugoslavia'\u001b[0m\u001b[1;33m]\u001b[0m\u001b[1;33m)\u001b[0m\u001b[1;33m\u001b[0m\u001b[1;33m\u001b[0m\u001b[0m\n\u001b[0m",
      "\u001b[1;31mAttributeError\u001b[0m: 'Booster' object has no attribute 'predict_proba'"
     ]
    }
   ],
   "source": [
    "ndf_predict_proba = xgb_model.predict_proba(human_new.loc[:, '나이':' Yugoslavia'])"
   ]
  },
  {
   "cell_type": "code",
   "execution_count": 56,
   "metadata": {},
   "outputs": [],
   "source": [
    "ndf_predict = xgb_model.predict(human_new_ndf)"
   ]
  },
  {
   "cell_type": "code",
   "execution_count": 46,
   "metadata": {},
   "outputs": [
    {
     "ename": "NameError",
     "evalue": "name 'ndf_predict_proba' is not defined",
     "output_type": "error",
     "traceback": [
      "\u001b[1;31m---------------------------------------------------------------------------\u001b[0m",
      "\u001b[1;31mNameError\u001b[0m                                 Traceback (most recent call last)",
      "\u001b[1;32m<ipython-input-46-9710685a1527>\u001b[0m in \u001b[0;36m<module>\u001b[1;34m\u001b[0m\n\u001b[1;32m----> 1\u001b[1;33m \u001b[0mresult\u001b[0m\u001b[1;33m=\u001b[0m\u001b[0mnp\u001b[0m\u001b[1;33m.\u001b[0m\u001b[0mconcatenate\u001b[0m\u001b[1;33m(\u001b[0m\u001b[1;33m[\u001b[0m\u001b[0mndf_predict_proba\u001b[0m\u001b[1;33m,\u001b[0m \u001b[0mndf_predict\u001b[0m\u001b[1;33m.\u001b[0m\u001b[0mreshape\u001b[0m\u001b[1;33m(\u001b[0m\u001b[1;33m-\u001b[0m\u001b[1;36m1\u001b[0m\u001b[1;33m,\u001b[0m\u001b[1;36m1\u001b[0m\u001b[1;33m)\u001b[0m\u001b[1;33m]\u001b[0m\u001b[1;33m,\u001b[0m \u001b[0maxis\u001b[0m\u001b[1;33m=\u001b[0m\u001b[1;36m1\u001b[0m\u001b[1;33m)\u001b[0m\u001b[1;33m\u001b[0m\u001b[1;33m\u001b[0m\u001b[0m\n\u001b[0m",
      "\u001b[1;31mNameError\u001b[0m: name 'ndf_predict_proba' is not defined"
     ]
    }
   ],
   "source": [
    "result=np.concatenate([ndf_predict_proba, ndf_predict.reshape(-1,1)], axis=1)"
   ]
  },
  {
   "cell_type": "code",
   "execution_count": null,
   "metadata": {},
   "outputs": [],
   "source": [
    "ndf_predict_proba_1 = ndf_predict_proba[:,1].reshape(-1,1)"
   ]
  },
  {
   "cell_type": "code",
   "execution_count": 243,
   "metadata": {},
   "outputs": [],
   "source": [
    "from sklearn.preprocessing import Binarizer\n",
    "custom_threshold =0.8\n",
    "binarizer = Binarizer(threshold=custom_threshold).fit(ndf_predict_proba_1)\n",
    "custom_predict = binarizer.transform(ndf_predict_proba_1)"
   ]
  },
  {
   "cell_type": "code",
   "execution_count": 244,
   "metadata": {},
   "outputs": [
    {
     "data": {
      "text/plain": [
       "array([[0.],\n",
       "       [1.],\n",
       "       [1.],\n",
       "       ...,\n",
       "       [0.],\n",
       "       [1.],\n",
       "       [1.]], dtype=float32)"
      ]
     },
     "execution_count": 244,
     "metadata": {},
     "output_type": "execute_result"
    }
   ],
   "source": [
    "custom_predict"
   ]
  },
  {
   "cell_type": "code",
   "execution_count": 57,
   "metadata": {},
   "outputs": [],
   "source": [
    "human_new['성별'] = ndf_predict"
   ]
  },
  {
   "cell_type": "code",
   "execution_count": 58,
   "metadata": {},
   "outputs": [],
   "source": [
    "ndf_rename=human_new[['아이디','성별']]"
   ]
  },
  {
   "cell_type": "code",
   "execution_count": 59,
   "metadata": {},
   "outputs": [
    {
     "data": {
      "text/html": [
       "<div>\n",
       "<style scoped>\n",
       "    .dataframe tbody tr th:only-of-type {\n",
       "        vertical-align: middle;\n",
       "    }\n",
       "\n",
       "    .dataframe tbody tr th {\n",
       "        vertical-align: top;\n",
       "    }\n",
       "\n",
       "    .dataframe thead th {\n",
       "        text-align: right;\n",
       "    }\n",
       "</style>\n",
       "<table border=\"1\" class=\"dataframe\">\n",
       "  <thead>\n",
       "    <tr style=\"text-align: right;\">\n",
       "      <th></th>\n",
       "      <th>ID</th>\n",
       "      <th>SEX</th>\n",
       "    </tr>\n",
       "  </thead>\n",
       "  <tbody>\n",
       "    <tr>\n",
       "      <th>0</th>\n",
       "      <td>H00001</td>\n",
       "      <td>0.522501</td>\n",
       "    </tr>\n",
       "    <tr>\n",
       "      <th>1</th>\n",
       "      <td>H00002</td>\n",
       "      <td>0.999850</td>\n",
       "    </tr>\n",
       "    <tr>\n",
       "      <th>2</th>\n",
       "      <td>H00003</td>\n",
       "      <td>0.999822</td>\n",
       "    </tr>\n",
       "    <tr>\n",
       "      <th>3</th>\n",
       "      <td>H00004</td>\n",
       "      <td>0.999738</td>\n",
       "    </tr>\n",
       "    <tr>\n",
       "      <th>4</th>\n",
       "      <td>H00005</td>\n",
       "      <td>0.381699</td>\n",
       "    </tr>\n",
       "  </tbody>\n",
       "</table>\n",
       "</div>"
      ],
      "text/plain": [
       "       ID       SEX\n",
       "0  H00001  0.522501\n",
       "1  H00002  0.999850\n",
       "2  H00003  0.999822\n",
       "3  H00004  0.999738\n",
       "4  H00005  0.381699"
      ]
     },
     "execution_count": 59,
     "metadata": {},
     "output_type": "execute_result"
    }
   ],
   "source": [
    "ndf_rename = ndf_rename.rename(columns={'아이디':'ID', '성별':'SEX'})\n",
    "ndf_rename.head()"
   ]
  },
  {
   "cell_type": "code",
   "execution_count": 60,
   "metadata": {},
   "outputs": [],
   "source": [
    "ndf_rename.to_csv('submission_human.csv', encoding='cp949', index=False)"
   ]
  },
  {
   "cell_type": "code",
   "execution_count": 61,
   "metadata": {},
   "outputs": [
    {
     "data": {
      "text/plain": [
       "(16281, 2)"
      ]
     },
     "execution_count": 61,
     "metadata": {},
     "output_type": "execute_result"
    }
   ],
   "source": [
    "ndf_rename.shape"
   ]
  },
  {
   "cell_type": "code",
   "execution_count": 48,
   "metadata": {},
   "outputs": [
    {
     "data": {
      "text/plain": [
       "성별         1.000000\n",
       "주당 시간별     0.188197\n",
       "주당 시간      0.184650\n",
       "인종         0.104376\n",
       "직업         0.098057\n",
       "노동 계급      0.079091\n",
       "나이         0.071077\n",
       "나이대        0.070148\n",
       "자본 손실      0.049521\n",
       "순이익        0.044015\n",
       "자본 이득      0.041027\n",
       "fnlwgt     0.017266\n",
       "fnlwgt2    0.017103\n",
       "교육 수       0.004579\n",
       "모국        -0.003905\n",
       "학력        -0.029241\n",
       "혼인 상태     -0.084389\n",
       "관계        -0.591075\n",
       "Name: 성별, dtype: float64"
      ]
     },
     "execution_count": 48,
     "metadata": {},
     "output_type": "execute_result"
    }
   ],
   "source": [
    "human_train.corr().성별.sort_values(ascending=False)"
   ]
  },
  {
   "cell_type": "code",
   "execution_count": 131,
   "metadata": {},
   "outputs": [],
   "source": [
    "predict_proba = clf_gs.predict_proba(X_test)\n",
    "predict = clf_gs.predict(X_test)"
   ]
  },
  {
   "cell_type": "code",
   "execution_count": 132,
   "metadata": {},
   "outputs": [],
   "source": [
    "result1=np.concatenate([predict_proba, predict.reshape(-1,1)], axis=1)"
   ]
  },
  {
   "cell_type": "code",
   "execution_count": 133,
   "metadata": {},
   "outputs": [],
   "source": [
    "predict_proba_1 = predict_proba[:,1].reshape(-1,1)"
   ]
  },
  {
   "cell_type": "code",
   "execution_count": 140,
   "metadata": {},
   "outputs": [],
   "source": [
    "custom_threshold =0.8\n",
    "binarizer = Binarizer(threshold=custom_threshold).fit(predict_proba_1)\n",
    "custom_predict = binarizer.transform(predict_proba_1)"
   ]
  },
  {
   "cell_type": "code",
   "execution_count": 141,
   "metadata": {},
   "outputs": [
    {
     "name": "stdout",
     "output_type": "stream",
     "text": [
      "오차행렬\n",
      "[[2230  263]\n",
      " [ 988 4199]]\n",
      "정확도: 0.8371, 정밀도: 0.9411, 재현율: 0.8095\n"
     ]
    }
   ],
   "source": [
    "get_clf_eval(Y_test, custom_predict)"
   ]
  },
  {
   "cell_type": "code",
   "execution_count": 118,
   "metadata": {},
   "outputs": [],
   "source": [
    "a=human_train.corr().성별.sort_values(ascending=False)"
   ]
  },
  {
   "cell_type": "code",
   "execution_count": 119,
   "metadata": {},
   "outputs": [],
   "source": [
    "human_train['나이'] = (human_train['나이']/10).astype(int)"
   ]
  },
  {
   "cell_type": "code",
   "execution_count": 120,
   "metadata": {},
   "outputs": [],
   "source": [
    "a=pd.DataFrame({\"수치\":a})"
   ]
  },
  {
   "cell_type": "code",
   "execution_count": 114,
   "metadata": {},
   "outputs": [
    {
     "name": "stdout",
     "output_type": "stream",
     "text": [
      "<class 'pandas.core.frame.DataFrame'>\n",
      "Index: 115 entries, 성별 to 관계\n",
      "Data columns (total 1 columns):\n",
      " #   Column  Non-Null Count  Dtype  \n",
      "---  ------  --------------  -----  \n",
      " 0   수치      115 non-null    float64\n",
      "dtypes: float64(1)\n",
      "memory usage: 1.8+ KB\n"
     ]
    }
   ],
   "source": [
    "a.info()"
   ]
  },
  {
   "cell_type": "code",
   "execution_count": 113,
   "metadata": {},
   "outputs": [
    {
     "name": "stdout",
     "output_type": "stream",
     "text": [
      "0.5801352648003859\n",
      "0.43180545811342946\n",
      "0.23568946222608525\n",
      "0.2293091490264182\n",
      "0.22312817750275654\n",
      "0.13246788820685695\n",
      "0.10745142628229438\n",
      "0.10348624694398598\n",
      "0.10009723650965793\n",
      "0.09598083475032537\n",
      "0.09402582601874208\n",
      "0.08883173120974484\n",
      "0.08762274910394074\n",
      "0.08720430156363829\n",
      "0.08401528263720216\n",
      "0.08029644294812227\n",
      "0.06476990040727498\n",
      "0.05097797284054917\n",
      "0.048793147111447305\n",
      "0.048479646868691675\n",
      "0.045567354678684426\n",
      "0.036729116751779145\n",
      "0.03129314968865496\n",
      "0.03050199157934993\n",
      "0.02952536095137569\n",
      "0.026947031230594526\n",
      "0.0268580452698733\n",
      "0.026836574562376734\n",
      "0.026046443254430143\n",
      "0.02513316234783888\n",
      "0.016968752680404178\n",
      "0.013630536608212467\n",
      "0.012280054339657419\n",
      "0.011690465756782295\n",
      "0.011684471462180306\n",
      "0.011187318018610967\n",
      "0.010050485108158796\n",
      "0.00990169337152947\n",
      "0.008879534658810688\n",
      "0.008722291556379977\n",
      "0.00675287184158819\n",
      "0.005333360649173363\n",
      "0.005187288259542612\n",
      "0.0043446299626606006\n",
      "0.0030875206952258472\n",
      "0.0022586236466299306\n",
      "0.0017255605790154084\n",
      "0.0016226092120311902\n",
      "0.0014368990593077438\n",
      "0.0014049924901696968\n",
      "0.0012901618687111392\n",
      "0.0011008109393690307\n",
      "0.0009889120331748695\n",
      "0.0007625168393771189\n",
      "0.0005839952479669175\n",
      "0.0004638276699745275\n",
      "7.358743502835901e-05\n",
      "-0.0004364871276632203\n",
      "-0.0008558628553619476\n",
      "-0.0011614567414469808\n",
      "-0.0012053332437295431\n",
      "-0.0015218328318161534\n",
      "-0.002770661882305001\n",
      "-0.003504412982825123\n",
      "-0.004662808988473023\n",
      "-0.005266904725930219\n",
      "-0.005553569862249591\n",
      "-0.0056809080500611646\n",
      "-0.0062994258537964025\n",
      "-0.006880829665521661\n",
      "-0.0069932291541570475\n",
      "-0.007458716413127749\n",
      "-0.00788239880732494\n",
      "-0.007927075264000587\n",
      "-0.008118721130051734\n",
      "-0.008821007266885767\n",
      "-0.00967521747609973\n",
      "-0.010377071605479515\n",
      "-0.010820302987526256\n",
      "-0.011503718466704838\n",
      "-0.012744273132488685\n",
      "-0.013871570002567253\n",
      "-0.01390620463457857\n",
      "-0.014011911518821791\n",
      "-0.014804974756951786\n",
      "-0.015160274556498739\n",
      "-0.015703625529663527\n",
      "-0.01579123839188968\n",
      "-0.016092411324585405\n",
      "-0.016692563625172036\n",
      "-0.019895001534771646\n",
      "-0.02123522670889752\n",
      "-0.024947309189829455\n",
      "-0.02735623812478498\n",
      "-0.028511252013998584\n",
      "-0.03469922140000381\n",
      "-0.03796622740249425\n",
      "-0.03869164444350576\n",
      "-0.040282298953930304\n",
      "-0.06172150065290025\n",
      "-0.08869914085859852\n",
      "-0.10236883084144327\n",
      "-0.10913472805835225\n",
      "-0.11560448927241114\n",
      "-0.1293144674138526\n",
      "-0.15367728949869308\n",
      "-0.16887880592474305\n",
      "-0.1714339459788558\n",
      "-0.18848665862329125\n",
      "-0.22862112530320006\n",
      "-0.2631477628435698\n",
      "-0.31931054800352593\n",
      "-0.3212732037334771\n",
      "-0.5824536900499023\n"
     ]
    }
   ],
   "source": [
    "for i,v in enumerate(a['수치']):\n",
    "    if ((v>-1.0) and (v<1.0)) :\n",
    "        print(v)"
   ]
  },
  {
   "cell_type": "code",
   "execution_count": 134,
   "metadata": {},
   "outputs": [
    {
     "ename": "TypeError",
     "evalue": "corr() missing 1 required positional argument: 'other'",
     "output_type": "error",
     "traceback": [
      "\u001b[1;31m---------------------------------------------------------------------------\u001b[0m",
      "\u001b[1;31mTypeError\u001b[0m                                 Traceback (most recent call last)",
      "\u001b[1;32m<ipython-input-134-5206f57b2619>\u001b[0m in \u001b[0;36m<module>\u001b[1;34m\u001b[0m\n\u001b[1;32m----> 1\u001b[1;33m \u001b[0mhuman_train\u001b[0m\u001b[1;33m.\u001b[0m\u001b[0m성별\u001b[0m\u001b[1;33m.\u001b[0m\u001b[0mcorr\u001b[0m\u001b[1;33m(\u001b[0m\u001b[1;33m)\u001b[0m\u001b[1;33m\u001b[0m\u001b[1;33m\u001b[0m\u001b[0m\n\u001b[0m",
      "\u001b[1;31mTypeError\u001b[0m: corr() missing 1 required positional argument: 'other'"
     ]
    }
   ],
   "source": []
  },
  {
   "cell_type": "code",
   "execution_count": 100,
   "metadata": {},
   "outputs": [
    {
     "name": "stdout",
     "output_type": "stream",
     "text": [
      "1\n"
     ]
    }
   ],
   "source": [
    "for i,v in enumerate(a[['1']]):\n",
    "    #if (v<1) and (v>-1) :\n",
    "        print(v)"
   ]
  },
  {
   "cell_type": "code",
   "execution_count": null,
   "metadata": {},
   "outputs": [],
   "source": []
  },
  {
   "cell_type": "code",
   "execution_count": 56,
   "metadata": {},
   "outputs": [
    {
     "data": {
      "text/plain": [
       "3    8613\n",
       "2    8054\n",
       "4    7175\n",
       "5    4418\n",
       "6    2015\n",
       "1    1657\n",
       "7     508\n",
       "8      78\n",
       "9      43\n",
       "Name: 나이, dtype: int64"
      ]
     },
     "execution_count": 56,
     "metadata": {},
     "output_type": "execute_result"
    }
   ],
   "source": [
    "human_train['나이'].value_counts()"
   ]
  },
  {
   "cell_type": "code",
   "execution_count": 53,
   "metadata": {},
   "outputs": [
    {
     "data": {
      "text/plain": [
       "3    8613\n",
       "2    8054\n",
       "4    7175\n",
       "5    4418\n",
       "6    2015\n",
       "1    1657\n",
       "7     508\n",
       "8      78\n",
       "9      43\n",
       "Name: 나이, dtype: int64"
      ]
     },
     "execution_count": 53,
     "metadata": {},
     "output_type": "execute_result"
    }
   ],
   "source": [
    "a.value_counts()"
   ]
  },
  {
   "cell_type": "code",
   "execution_count": 4,
   "metadata": {},
   "outputs": [
    {
     "data": {
      "text/plain": [
       "count    32561.000000\n",
       "mean        38.581647\n",
       "std         13.640433\n",
       "min         17.000000\n",
       "25%         28.000000\n",
       "50%         37.000000\n",
       "75%         48.000000\n",
       "max         90.000000\n",
       "Name: 나이, dtype: float64"
      ]
     },
     "execution_count": 4,
     "metadata": {},
     "output_type": "execute_result"
    }
   ],
   "source": [
    "human_train['나이'].describe()"
   ]
  },
  {
   "cell_type": "code",
   "execution_count": 66,
   "metadata": {},
   "outputs": [
    {
     "data": {
      "text/plain": [
       "18     1852\n",
       "19     1815\n",
       "17     1758\n",
       "16     1537\n",
       "20     1483\n",
       "       ... \n",
       "116       1\n",
       "148       1\n",
       "88        1\n",
       "118       1\n",
       "95        1\n",
       "Name: fnlwgt, Length: 99, dtype: int64"
      ]
     },
     "execution_count": 66,
     "metadata": {},
     "output_type": "execute_result"
    }
   ],
   "source": [
    "human_train['fnlwgt'].value_counts()"
   ]
  },
  {
   "cell_type": "code",
   "execution_count": 6,
   "metadata": {},
   "outputs": [
    {
     "data": {
      "text/plain": [
       "Index(['아이디', '나이', '노동 계급', 'fnlwgt', '학력', '교육 수', '혼인 상태', '직업', '관계', '인종',\n",
       "       '성별', '자본 이득', '자본 손실', '주당 시간', '모국'],\n",
       "      dtype='object')"
      ]
     },
     "execution_count": 6,
     "metadata": {},
     "output_type": "execute_result"
    }
   ],
   "source": [
    "human_train.columns"
   ]
  },
  {
   "cell_type": "code",
   "execution_count": 7,
   "metadata": {},
   "outputs": [
    {
     "data": {
      "text/plain": [
       "9     10501\n",
       "10     7291\n",
       "13     5355\n",
       "14     1723\n",
       "11     1382\n",
       "7      1175\n",
       "12     1067\n",
       "6       933\n",
       "4       646\n",
       "15      576\n",
       "5       514\n",
       "8       433\n",
       "16      413\n",
       "3       333\n",
       "2       168\n",
       "1        51\n",
       "Name: 교육 수, dtype: int64"
      ]
     },
     "execution_count": 7,
     "metadata": {},
     "output_type": "execute_result"
    }
   ],
   "source": [
    "human_train['교육 수'].value_counts()"
   ]
  },
  {
   "cell_type": "code",
   "execution_count": 8,
   "metadata": {},
   "outputs": [
    {
     "data": {
      "text/plain": [
       "0        29849\n",
       "15024      347\n",
       "7688       284\n",
       "7298       246\n",
       "99999      159\n",
       "         ...  \n",
       "4931         1\n",
       "1455         1\n",
       "6097         1\n",
       "22040        1\n",
       "1111         1\n",
       "Name: 자본 이득, Length: 119, dtype: int64"
      ]
     },
     "execution_count": 8,
     "metadata": {},
     "output_type": "execute_result"
    }
   ],
   "source": [
    "human_train['자본 이득'].value_counts()"
   ]
  },
  {
   "cell_type": "code",
   "execution_count": 9,
   "metadata": {},
   "outputs": [
    {
     "data": {
      "text/plain": [
       "0       31042\n",
       "1902      202\n",
       "1977      168\n",
       "1887      159\n",
       "1848       51\n",
       "        ...  \n",
       "1411        1\n",
       "1539        1\n",
       "2472        1\n",
       "1944        1\n",
       "2201        1\n",
       "Name: 자본 손실, Length: 92, dtype: int64"
      ]
     },
     "execution_count": 9,
     "metadata": {},
     "output_type": "execute_result"
    }
   ],
   "source": [
    "human_train['자본 손실'].value_counts()"
   ]
  },
  {
   "cell_type": "code",
   "execution_count": 58,
   "metadata": {},
   "outputs": [
    {
     "data": {
      "text/plain": [
       "19750     1\n",
       "25078     1\n",
       "11451     1\n",
       "8447      1\n",
       "32525     1\n",
       "         ..\n",
       "25806    99\n",
       "30610    99\n",
       "10143    99\n",
       "4308     99\n",
       "1887     99\n",
       "Name: 주당 시간, Length: 32561, dtype: int64"
      ]
     },
     "execution_count": 58,
     "metadata": {},
     "output_type": "execute_result"
    }
   ],
   "source": [
    "human_train['주당 시간'].sort_values()"
   ]
  },
  {
   "cell_type": "code",
   "execution_count": 59,
   "metadata": {},
   "outputs": [
    {
     "data": {
      "text/plain": [
       "0        40\n",
       "1        13\n",
       "2        40\n",
       "3        40\n",
       "4        40\n",
       "         ..\n",
       "32556    38\n",
       "32557    40\n",
       "32558    40\n",
       "32559    20\n",
       "32560    40\n",
       "Name: 주당 시간, Length: 32561, dtype: int64"
      ]
     },
     "execution_count": 59,
     "metadata": {},
     "output_type": "execute_result"
    }
   ],
   "source": [
    "human_train['주당 시간']"
   ]
  },
  {
   "cell_type": "code",
   "execution_count": 64,
   "metadata": {},
   "outputs": [],
   "source": [
    "human_train['fnlwgt'] = (human_train['fnlwgt']/10000).astype(int)"
   ]
  },
  {
   "cell_type": "code",
   "execution_count": null,
   "metadata": {},
   "outputs": [],
   "source": [
    "human_new[[\"관계\"]] = human_new[[\"관계\"]].apply(lambda x: x.str.lstrip())\n",
    "human_new[[\"관계\"]] = human_new[[\"관계\"]].apply(lambda x: x.astype('category').cat.codes)"
   ]
  }
 ],
 "metadata": {
  "kernelspec": {
   "display_name": "Python 3",
   "language": "python",
   "name": "python3"
  },
  "language_info": {
   "codemirror_mode": {
    "name": "ipython",
    "version": 3
   },
   "file_extension": ".py",
   "mimetype": "text/x-python",
   "name": "python",
   "nbconvert_exporter": "python",
   "pygments_lexer": "ipython3",
   "version": "3.8.5"
  }
 },
 "nbformat": 4,
 "nbformat_minor": 4
}
